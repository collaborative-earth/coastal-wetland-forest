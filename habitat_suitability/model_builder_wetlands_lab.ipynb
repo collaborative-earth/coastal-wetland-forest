{
 "cells": [
  {
   "cell_type": "markdown",
   "id": "c6bbd428-2ab1-4afd-bf37-1d641acd8985",
   "metadata": {},
   "source": [
    "# Training Coastal Wetlands Forests Habitat Suitability model  \n"
   ]
  },
  {
   "cell_type": "markdown",
   "id": "f826bafb",
   "metadata": {
    "tags": []
   },
   "source": [
    "# Imports"
   ]
  },
  {
   "cell_type": "code",
   "execution_count": 3,
   "id": "ddbe54ac",
   "metadata": {},
   "outputs": [],
   "source": [
    "from model_builder import ModelBuilder"
   ]
  },
  {
   "cell_type": "code",
   "execution_count": 4,
   "id": "ab60d3da",
   "metadata": {},
   "outputs": [],
   "source": [
    "import matplotlib.pyplot as plt"
   ]
  },
  {
   "cell_type": "markdown",
   "id": "08934c91",
   "metadata": {
    "tags": []
   },
   "source": [
    "# Model"
   ]
  },
  {
   "cell_type": "markdown",
   "id": "74bbf4f1",
   "metadata": {},
   "source": [
    "Initialize the model builder"
   ]
  },
  {
   "cell_type": "code",
   "execution_count": 6,
   "id": "fafdc756",
   "metadata": {},
   "outputs": [],
   "source": [
    "model_builder = ModelBuilder()"
   ]
  },
  {
   "cell_type": "markdown",
   "id": "024228ae",
   "metadata": {
    "tags": []
   },
   "source": [
    "# Create Dataset"
   ]
  },
  {
   "cell_type": "markdown",
   "id": "470c61e0",
   "metadata": {},
   "source": [
    "We want to predict the coastal wetlands forests habitat suitability using predictors such as terrain information, proximity to water, physiography, climate information etc. \n",
    "\n",
    "First step is to create the dataset for the training from the csv files that contains all the samples "
   ]
  },
  {
   "cell_type": "code",
   "execution_count": 7,
   "id": "b8484ef6",
   "metadata": {},
   "outputs": [],
   "source": [
    "# Response variable is the deforestation risk value\n",
    "response_variable=['response']\n",
    "\n",
    "# Predictors names that we want to use for the training\n",
    "feature_names = ['elevation', 'slope', 'distance_water', 'proximity_water', 'soil_moisture_mean', 'tmax_mean',\n",
    "                 'tmin_mean', 'precipitation_mean', 'physiography']\n",
    "\n",
    "gcp_bucket = 'wetlands-lab'\n",
    "gcp_folder_name = 'habitat_suitability'\n",
    "samples_folder_name = ''\n",
    "\n",
    "# Class 13+16 - Florida\n",
    "# name_csv_samples_merged_file = '/Users/margauxmforstyhe/Desktop/workspace/wetlands_labs/Florida/florida_gridded_50kmx50km_classPoints_2000_2000_classes_13_16_CCAP_v2_2/florida_gridded_50kmx50km_classPoints_2000_2000_classes_13_16_CCAP.csv'\n",
    "\n",
    "# only with class 13 - Florida\n",
    "# Balanced\n",
    "# name_csv_samples_merged_file ='/Users/margauxmforstyhe/Desktop/workspace/wetlands_labs/Florida/florida_gridded_50kmx50km_classPoints_2000_2000_classes_13_CCAP/florida_gridded_50kmx50km_classPoints_2000_2000_classes_13_CCAP.csv'\n",
    "# 4000/2000 ratio \n",
    "# name_csv_samples_merged_file ='/Users/margauxmforstyhe/Desktop/workspace/wetlands_labs/Florida/florida_gridded_50kmx50km_classPoints_4000_2000_classes_13_CCAP/Florida_gridded_50kmx50km_classPoints_4000_2000_classes_13_CCAP.csv'\n",
    "# 4000/1000 ratio \n",
    "# name_csv_samples_merged_file = '/Users/margauxmforstyhe/Desktop/workspace/wetlands_labs/Florida/florida_gridded_50kmx50km_classPoints_4000_1000_classes_13_CCAP/florida_gridded_50kmx50km_classPoints_4000_1000_classes_13_CCAP.csv'\n",
    "\n",
    "\n",
    "# Class 13+16 - CCAP boundaries\n",
    "\n",
    "# only with class 13 - CCAP boundaries\n",
    "# 4000/1000 ratio \n",
    "# name_csv_samples_merged_file = '/Users/margauxmforstyhe/Desktop/workspace/wetlands_labs/CCAP boundaries/CCAP_bound_buff40_gridded_50km_50km_classPoints_4000_1000_classes_13_CCAP/merged_CCAP_bound_buff40_gridded_50km_50km_classPoints_4000_1000_classes_13_CCAP.csv'\n",
    "\n",
    "# West Coast USA \n",
    "# name_csv_samples_merged_file = '/Users/margauxmforstyhe/Desktop/workspace/wetlands_labs/CCAP boundaries/west_coast/west_coast_ccap_mapping_bndry_gridded_50km_50km_classPoints_4000_1000_classes_13_CCAP/merged_west_coast_ccap_mapping_bndry_gridded_50km_50km_classPoints_4000_1000_classes_13_CCAP.csv'\n",
    "\n",
    "# South East coast USA\n",
    "# name_csv_samples_merged_file = '/Users/margauxmforstyhe/Desktop/workspace/wetlands_labs/CCAP boundaries/south_east_coast/south_east_coast_ccap_mapping_bndry_gridded_50km_50km_classPoints_4000_1000_classes_13_CCAP/merged_south_coast_ccap_mapping_bndry_gridded_50km_50km_classPoints_4000_1000_classes_13_CCAP.csv'\n",
    "\n",
    "# North East coast USA\n",
    "name_csv_samples_merged_file = '/Users/margauxmforstyhe/Desktop/workspace/wetlands_labs/CCAP boundaries/north_east_coast/north_east_coast_ccap_mapping_bndry_gridded_50km_50km_classPoints_4000_1000_classes_13_CCAP/merged_north_coast_ccap_mapping_bndry_gridded_50km_50km_classPoints_4000_1000_classes_13_CCAP.csv'\n",
    "\n",
    "# All USA CCAP\n",
    "# name_csv_samples_merged_file = '/Users/margauxmforstyhe/Desktop/usa_CCAP_merged_samples/merged_all_USA_ccap_mapping_bndry_gridded_50km_50km_classPoints_4000_1000_classes_13_CCAP.csv'\n"
   ]
  },
  {
   "cell_type": "markdown",
   "id": "ac6d54bb",
   "metadata": {},
   "source": [
    "Create the dataset with train, test and val splits"
   ]
  },
  {
   "cell_type": "code",
   "execution_count": 8,
   "id": "f4d561ba",
   "metadata": {},
   "outputs": [
    {
     "name": "stdout",
     "output_type": "stream",
     "text": [
      "Reading sample csv file: /Users/margauxmforstyhe/Desktop/workspace/wetlands_labs/CCAP boundaries/north_east_coast/north_east_coast_ccap_mapping_bndry_gridded_50km_50km_classPoints_4000_1000_classes_13_CCAP/merged_north_coast_ccap_mapping_bndry_gridded_50km_50km_classPoints_4000_1000_classes_13_CCAP.csv...\n",
      "We have 4436469 samples\n",
      "Training samples: 3549175\n",
      "Test samples: 887294\n",
      "Validation samples: 0\n"
     ]
    }
   ],
   "source": [
    "model_builder.train_val_test_split(response_variable=response_variable, \n",
    "                             samples_csv_local=True,\n",
    "                             feature_names=feature_names, \n",
    "                             gcp_bucket=gcp_bucket, \n",
    "                             gcp_folder_name=gcp_folder_name, \n",
    "                             samples_folder_name= samples_folder_name, \n",
    "                             name_csv_samples_merged_file = name_csv_samples_merged_file, \n",
    "                             use_test_val_buffered_sets = False,\n",
    "                             test_size=0.20,\n",
    "                            )\n"
   ]
  },
  {
   "cell_type": "markdown",
   "id": "111e4844",
   "metadata": {},
   "source": [
    "Let's take a look at our training predictors:"
   ]
  },
  {
   "cell_type": "code",
   "execution_count": 9,
   "id": "8a6b03e0",
   "metadata": {},
   "outputs": [
    {
     "data": {
      "text/html": [
       "<div>\n",
       "<style scoped>\n",
       "    .dataframe tbody tr th:only-of-type {\n",
       "        vertical-align: middle;\n",
       "    }\n",
       "\n",
       "    .dataframe tbody tr th {\n",
       "        vertical-align: top;\n",
       "    }\n",
       "\n",
       "    .dataframe thead th {\n",
       "        text-align: right;\n",
       "    }\n",
       "</style>\n",
       "<table border=\"1\" class=\"dataframe\">\n",
       "  <thead>\n",
       "    <tr style=\"text-align: right;\">\n",
       "      <th></th>\n",
       "      <th>elevation</th>\n",
       "      <th>slope</th>\n",
       "      <th>distance_water</th>\n",
       "      <th>proximity_water</th>\n",
       "      <th>soil_moisture_mean</th>\n",
       "      <th>tmax_mean</th>\n",
       "      <th>tmin_mean</th>\n",
       "      <th>precipitation_mean</th>\n",
       "      <th>lithology</th>\n",
       "      <th>landforms</th>\n",
       "      <th>physiography</th>\n",
       "    </tr>\n",
       "  </thead>\n",
       "  <tbody>\n",
       "    <tr>\n",
       "      <th>3986436</th>\n",
       "      <td>206.41975</td>\n",
       "      <td>0.391923</td>\n",
       "      <td>30.00000</td>\n",
       "      <td>715.611627</td>\n",
       "      <td>23.946846</td>\n",
       "      <td>15.612528</td>\n",
       "      <td>6.147637</td>\n",
       "      <td>3.124835</td>\n",
       "      <td>14</td>\n",
       "      <td>34</td>\n",
       "      <td>3414</td>\n",
       "    </tr>\n",
       "    <tr>\n",
       "      <th>3706795</th>\n",
       "      <td>180.23892</td>\n",
       "      <td>0.151461</td>\n",
       "      <td>0.00000</td>\n",
       "      <td>872.066511</td>\n",
       "      <td>22.871202</td>\n",
       "      <td>16.533571</td>\n",
       "      <td>5.910412</td>\n",
       "      <td>2.415714</td>\n",
       "      <td>14</td>\n",
       "      <td>41</td>\n",
       "      <td>4113</td>\n",
       "    </tr>\n",
       "    <tr>\n",
       "      <th>4320337</th>\n",
       "      <td>253.29740</td>\n",
       "      <td>2.232531</td>\n",
       "      <td>416.77332</td>\n",
       "      <td>1266.056871</td>\n",
       "      <td>23.582623</td>\n",
       "      <td>12.611319</td>\n",
       "      <td>2.046209</td>\n",
       "      <td>2.356401</td>\n",
       "      <td>10</td>\n",
       "      <td>32</td>\n",
       "      <td>2210</td>\n",
       "    </tr>\n",
       "    <tr>\n",
       "      <th>2544550</th>\n",
       "      <td>129.19536</td>\n",
       "      <td>0.849895</td>\n",
       "      <td>234.30749</td>\n",
       "      <td>483.735465</td>\n",
       "      <td>20.741753</td>\n",
       "      <td>19.736237</td>\n",
       "      <td>8.081182</td>\n",
       "      <td>2.633462</td>\n",
       "      <td>3</td>\n",
       "      <td>24</td>\n",
       "      <td>2403</td>\n",
       "    </tr>\n",
       "    <tr>\n",
       "      <th>2880978</th>\n",
       "      <td>92.03753</td>\n",
       "      <td>0.024281</td>\n",
       "      <td>0.00000</td>\n",
       "      <td>456.946386</td>\n",
       "      <td>23.213928</td>\n",
       "      <td>13.835219</td>\n",
       "      <td>2.477692</td>\n",
       "      <td>2.553407</td>\n",
       "      <td>14</td>\n",
       "      <td>41</td>\n",
       "      <td>4114</td>\n",
       "    </tr>\n",
       "  </tbody>\n",
       "</table>\n",
       "</div>"
      ],
      "text/plain": [
       "         elevation     slope  distance_water  proximity_water  \\\n",
       "3986436  206.41975  0.391923        30.00000       715.611627   \n",
       "3706795  180.23892  0.151461         0.00000       872.066511   \n",
       "4320337  253.29740  2.232531       416.77332      1266.056871   \n",
       "2544550  129.19536  0.849895       234.30749       483.735465   \n",
       "2880978   92.03753  0.024281         0.00000       456.946386   \n",
       "\n",
       "         soil_moisture_mean  tmax_mean  tmin_mean  precipitation_mean  \\\n",
       "3986436           23.946846  15.612528   6.147637            3.124835   \n",
       "3706795           22.871202  16.533571   5.910412            2.415714   \n",
       "4320337           23.582623  12.611319   2.046209            2.356401   \n",
       "2544550           20.741753  19.736237   8.081182            2.633462   \n",
       "2880978           23.213928  13.835219   2.477692            2.553407   \n",
       "\n",
       "         lithology  landforms  physiography  \n",
       "3986436         14         34          3414  \n",
       "3706795         14         41          4113  \n",
       "4320337         10         32          2210  \n",
       "2544550          3         24          2403  \n",
       "2880978         14         41          4114  "
      ]
     },
     "execution_count": 9,
     "metadata": {},
     "output_type": "execute_result"
    }
   ],
   "source": [
    "model_builder.X_train.head()"
   ]
  },
  {
   "cell_type": "markdown",
   "id": "e4d4434c",
   "metadata": {},
   "source": [
    "Now our training targets:"
   ]
  },
  {
   "cell_type": "code",
   "execution_count": 10,
   "id": "67f76f9d",
   "metadata": {},
   "outputs": [
    {
     "data": {
      "text/html": [
       "<div>\n",
       "<style scoped>\n",
       "    .dataframe tbody tr th:only-of-type {\n",
       "        vertical-align: middle;\n",
       "    }\n",
       "\n",
       "    .dataframe tbody tr th {\n",
       "        vertical-align: top;\n",
       "    }\n",
       "\n",
       "    .dataframe thead th {\n",
       "        text-align: right;\n",
       "    }\n",
       "</style>\n",
       "<table border=\"1\" class=\"dataframe\">\n",
       "  <thead>\n",
       "    <tr style=\"text-align: right;\">\n",
       "      <th></th>\n",
       "      <th>response</th>\n",
       "    </tr>\n",
       "  </thead>\n",
       "  <tbody>\n",
       "    <tr>\n",
       "      <th>3986436</th>\n",
       "      <td>1</td>\n",
       "    </tr>\n",
       "    <tr>\n",
       "      <th>3706795</th>\n",
       "      <td>0</td>\n",
       "    </tr>\n",
       "  </tbody>\n",
       "</table>\n",
       "</div>"
      ],
      "text/plain": [
       "         response\n",
       "3986436         1\n",
       "3706795         0"
      ]
     },
     "execution_count": 10,
     "metadata": {},
     "output_type": "execute_result"
    }
   ],
   "source": [
    "model_builder.y_train.head(2)"
   ]
  },
  {
   "cell_type": "code",
   "execution_count": 11,
   "id": "2ee346da",
   "metadata": {},
   "outputs": [
    {
     "name": "stdout",
     "output_type": "stream",
     "text": [
      "There are 2859900 wetlands samples and 689275 non-wetlands samples in training set\n",
      "There are 714214 wetlands samples and 173080 non-wetlands samples in test set\n"
     ]
    }
   ],
   "source": [
    "nb_wetlands_samples = model_builder.y_train[model_builder.y_train[response_variable[0]] == 0][response_variable[0]].count()\n",
    "nb_not_wetlands_samples = model_builder.y_train[model_builder.y_train[response_variable[0]] == 1][response_variable[0]].count()\n",
    "print(f'There are {nb_wetlands_samples} wetlands samples and {nb_not_wetlands_samples} non-wetlands samples in training set')\n",
    "\n",
    "nb_wetlands_samples_test = model_builder.y_test[model_builder.y_test[response_variable[0]] == 0][response_variable[0]].count()\n",
    "nb_not_wetlands_samples_test = model_builder.y_test[model_builder.y_test[response_variable[0]] == 1][response_variable[0]].count()\n",
    "print(f'There are {nb_wetlands_samples_test} wetlands samples and {nb_not_wetlands_samples_test} non-wetlands samples in test set')\n"
   ]
  },
  {
   "cell_type": "code",
   "execution_count": 12,
   "id": "cce21206",
   "metadata": {},
   "outputs": [
    {
     "data": {
      "text/plain": [
       "['elevation',\n",
       " 'slope',\n",
       " 'distance_water',\n",
       " 'proximity_water',\n",
       " 'soil_moisture_mean',\n",
       " 'tmax_mean',\n",
       " 'tmin_mean',\n",
       " 'precipitation_mean',\n",
       " 'lithology',\n",
       " 'landforms',\n",
       " 'physiography']"
      ]
     },
     "execution_count": 12,
     "metadata": {},
     "output_type": "execute_result"
    }
   ],
   "source": [
    "model_builder.feature_names"
   ]
  },
  {
   "cell_type": "code",
   "execution_count": 13,
   "id": "f4608b39",
   "metadata": {},
   "outputs": [
    {
     "data": {
      "text/plain": [
       "['response']"
      ]
     },
     "execution_count": 13,
     "metadata": {},
     "output_type": "execute_result"
    }
   ],
   "source": [
    "model_builder.response_variable"
   ]
  },
  {
   "cell_type": "code",
   "execution_count": 14,
   "id": "5a9e7f9e",
   "metadata": {},
   "outputs": [
    {
     "data": {
      "text/html": [
       "<div>\n",
       "<style scoped>\n",
       "    .dataframe tbody tr th:only-of-type {\n",
       "        vertical-align: middle;\n",
       "    }\n",
       "\n",
       "    .dataframe tbody tr th {\n",
       "        vertical-align: top;\n",
       "    }\n",
       "\n",
       "    .dataframe thead th {\n",
       "        text-align: right;\n",
       "    }\n",
       "</style>\n",
       "<table border=\"1\" class=\"dataframe\">\n",
       "  <thead>\n",
       "    <tr style=\"text-align: right;\">\n",
       "      <th></th>\n",
       "      <th>elevation</th>\n",
       "      <th>slope</th>\n",
       "      <th>distance_water</th>\n",
       "      <th>proximity_water</th>\n",
       "      <th>soil_moisture_mean</th>\n",
       "      <th>tmax_mean</th>\n",
       "      <th>tmin_mean</th>\n",
       "      <th>precipitation_mean</th>\n",
       "      <th>lithology</th>\n",
       "      <th>landforms</th>\n",
       "      <th>physiography</th>\n",
       "    </tr>\n",
       "  </thead>\n",
       "  <tbody>\n",
       "    <tr>\n",
       "      <th>3986436</th>\n",
       "      <td>206.419750</td>\n",
       "      <td>0.391923</td>\n",
       "      <td>30.000000</td>\n",
       "      <td>715.611627</td>\n",
       "      <td>23.946846</td>\n",
       "      <td>15.612528</td>\n",
       "      <td>6.147637</td>\n",
       "      <td>3.124835</td>\n",
       "      <td>14</td>\n",
       "      <td>34</td>\n",
       "      <td>3414</td>\n",
       "    </tr>\n",
       "    <tr>\n",
       "      <th>3706795</th>\n",
       "      <td>180.238920</td>\n",
       "      <td>0.151461</td>\n",
       "      <td>0.000000</td>\n",
       "      <td>872.066511</td>\n",
       "      <td>22.871202</td>\n",
       "      <td>16.533571</td>\n",
       "      <td>5.910412</td>\n",
       "      <td>2.415714</td>\n",
       "      <td>14</td>\n",
       "      <td>41</td>\n",
       "      <td>4113</td>\n",
       "    </tr>\n",
       "    <tr>\n",
       "      <th>4320337</th>\n",
       "      <td>253.297400</td>\n",
       "      <td>2.232531</td>\n",
       "      <td>416.773320</td>\n",
       "      <td>1266.056871</td>\n",
       "      <td>23.582623</td>\n",
       "      <td>12.611319</td>\n",
       "      <td>2.046209</td>\n",
       "      <td>2.356401</td>\n",
       "      <td>10</td>\n",
       "      <td>32</td>\n",
       "      <td>2210</td>\n",
       "    </tr>\n",
       "    <tr>\n",
       "      <th>2544550</th>\n",
       "      <td>129.195360</td>\n",
       "      <td>0.849895</td>\n",
       "      <td>234.307490</td>\n",
       "      <td>483.735465</td>\n",
       "      <td>20.741753</td>\n",
       "      <td>19.736237</td>\n",
       "      <td>8.081182</td>\n",
       "      <td>2.633462</td>\n",
       "      <td>3</td>\n",
       "      <td>24</td>\n",
       "      <td>2403</td>\n",
       "    </tr>\n",
       "    <tr>\n",
       "      <th>2880978</th>\n",
       "      <td>92.037530</td>\n",
       "      <td>0.024281</td>\n",
       "      <td>0.000000</td>\n",
       "      <td>456.946386</td>\n",
       "      <td>23.213928</td>\n",
       "      <td>13.835219</td>\n",
       "      <td>2.477692</td>\n",
       "      <td>2.553407</td>\n",
       "      <td>14</td>\n",
       "      <td>41</td>\n",
       "      <td>4114</td>\n",
       "    </tr>\n",
       "    <tr>\n",
       "      <th>2030539</th>\n",
       "      <td>483.438000</td>\n",
       "      <td>1.964275</td>\n",
       "      <td>442.944692</td>\n",
       "      <td>926.120942</td>\n",
       "      <td>24.399180</td>\n",
       "      <td>10.852884</td>\n",
       "      <td>-1.299808</td>\n",
       "      <td>2.706456</td>\n",
       "      <td>11</td>\n",
       "      <td>32</td>\n",
       "      <td>3211</td>\n",
       "    </tr>\n",
       "    <tr>\n",
       "      <th>1713282</th>\n",
       "      <td>11.222245</td>\n",
       "      <td>0.295974</td>\n",
       "      <td>240.000000</td>\n",
       "      <td>757.165768</td>\n",
       "      <td>22.785583</td>\n",
       "      <td>21.130714</td>\n",
       "      <td>10.828544</td>\n",
       "      <td>3.935028</td>\n",
       "      <td>19</td>\n",
       "      <td>24</td>\n",
       "      <td>2419</td>\n",
       "    </tr>\n",
       "    <tr>\n",
       "      <th>812711</th>\n",
       "      <td>85.504920</td>\n",
       "      <td>4.252827</td>\n",
       "      <td>0.000000</td>\n",
       "      <td>1343.316791</td>\n",
       "      <td>20.208700</td>\n",
       "      <td>18.581703</td>\n",
       "      <td>8.020906</td>\n",
       "      <td>2.835962</td>\n",
       "      <td>5</td>\n",
       "      <td>42</td>\n",
       "      <td>4205</td>\n",
       "    </tr>\n",
       "    <tr>\n",
       "      <th>826716</th>\n",
       "      <td>112.641820</td>\n",
       "      <td>1.177330</td>\n",
       "      <td>342.052628</td>\n",
       "      <td>1636.856744</td>\n",
       "      <td>21.522285</td>\n",
       "      <td>18.417856</td>\n",
       "      <td>7.799588</td>\n",
       "      <td>3.077225</td>\n",
       "      <td>5</td>\n",
       "      <td>24</td>\n",
       "      <td>2405</td>\n",
       "    </tr>\n",
       "    <tr>\n",
       "      <th>4320721</th>\n",
       "      <td>295.253800</td>\n",
       "      <td>1.003853</td>\n",
       "      <td>360.000000</td>\n",
       "      <td>1440.000000</td>\n",
       "      <td>23.166048</td>\n",
       "      <td>12.414616</td>\n",
       "      <td>1.397555</td>\n",
       "      <td>2.371126</td>\n",
       "      <td>10</td>\n",
       "      <td>24</td>\n",
       "      <td>2410</td>\n",
       "    </tr>\n",
       "  </tbody>\n",
       "</table>\n",
       "</div>"
      ],
      "text/plain": [
       "          elevation     slope  distance_water  proximity_water  \\\n",
       "3986436  206.419750  0.391923       30.000000       715.611627   \n",
       "3706795  180.238920  0.151461        0.000000       872.066511   \n",
       "4320337  253.297400  2.232531      416.773320      1266.056871   \n",
       "2544550  129.195360  0.849895      234.307490       483.735465   \n",
       "2880978   92.037530  0.024281        0.000000       456.946386   \n",
       "2030539  483.438000  1.964275      442.944692       926.120942   \n",
       "1713282   11.222245  0.295974      240.000000       757.165768   \n",
       "812711    85.504920  4.252827        0.000000      1343.316791   \n",
       "826716   112.641820  1.177330      342.052628      1636.856744   \n",
       "4320721  295.253800  1.003853      360.000000      1440.000000   \n",
       "\n",
       "         soil_moisture_mean  tmax_mean  tmin_mean  precipitation_mean  \\\n",
       "3986436           23.946846  15.612528   6.147637            3.124835   \n",
       "3706795           22.871202  16.533571   5.910412            2.415714   \n",
       "4320337           23.582623  12.611319   2.046209            2.356401   \n",
       "2544550           20.741753  19.736237   8.081182            2.633462   \n",
       "2880978           23.213928  13.835219   2.477692            2.553407   \n",
       "2030539           24.399180  10.852884  -1.299808            2.706456   \n",
       "1713282           22.785583  21.130714  10.828544            3.935028   \n",
       "812711            20.208700  18.581703   8.020906            2.835962   \n",
       "826716            21.522285  18.417856   7.799588            3.077225   \n",
       "4320721           23.166048  12.414616   1.397555            2.371126   \n",
       "\n",
       "         lithology  landforms  physiography  \n",
       "3986436         14         34          3414  \n",
       "3706795         14         41          4113  \n",
       "4320337         10         32          2210  \n",
       "2544550          3         24          2403  \n",
       "2880978         14         41          4114  \n",
       "2030539         11         32          3211  \n",
       "1713282         19         24          2419  \n",
       "812711           5         42          4205  \n",
       "826716           5         24          2405  \n",
       "4320721         10         24          2410  "
      ]
     },
     "execution_count": 14,
     "metadata": {},
     "output_type": "execute_result"
    }
   ],
   "source": [
    "model_builder.X_train.head(10)"
   ]
  },
  {
   "cell_type": "markdown",
   "id": "a23a1528",
   "metadata": {
    "tags": []
   },
   "source": [
    "# Training"
   ]
  },
  {
   "cell_type": "code",
   "execution_count": 15,
   "id": "843f0c5a",
   "metadata": {},
   "outputs": [],
   "source": [
    "# # # TODO\n",
    "# model_builder.grid_search(n_estimators = [100, 500],\n",
    "#                             max_features = ['sqrt'],\n",
    "#                             max_depth = [8, None],\n",
    "#                             min_samples_split = [2, 5],\n",
    "#                             min_samples_leaf = [1, 2, 4],\n",
    "#                             criterion=['gini'], \n",
    "#                             random_state=42)"
   ]
  },
  {
   "cell_type": "code",
   "execution_count": 17,
   "id": "2219f844",
   "metadata": {},
   "outputs": [],
   "source": [
    "# Good results are often achieved when setting max_depth=None in combination with min_samples_split=2 \n",
    "# from https://scikit-learn.org/stable/modules/ensemble.html#parameters\n",
    "model_builder.initialize_model(model_type='RandomForestClassifier', \n",
    "                               nb_trees=100, max_depth=None, random_state=42, \n",
    "                               criterion='gini', #'gini',\n",
    "                               min_samples_split=2, min_samples_leaf=1, \n",
    "                               max_leaf_nodes=None, min_impurity_decrease=0.0, \n",
    "                               max_features='sqrt', \n",
    "                               n_cores=-1, \n",
    "                               oob_score=True, bootstrap=True,\n",
    "                               warm_start=False, class_weight=None, ccp_alpha=0.0, max_samples=None)"
   ]
  },
  {
   "cell_type": "code",
   "execution_count": 18,
   "id": "f0033e31",
   "metadata": {},
   "outputs": [
    {
     "data": {
      "text/plain": [
       "RandomForestClassifier(max_features='sqrt', n_jobs=-1, oob_score=True,\n",
       "                       random_state=42, verbose=1)"
      ]
     },
     "execution_count": 18,
     "metadata": {},
     "output_type": "execute_result"
    }
   ],
   "source": [
    "model_builder.model"
   ]
  },
  {
   "cell_type": "code",
   "execution_count": 19,
   "id": "db9ac206",
   "metadata": {},
   "outputs": [
    {
     "name": "stderr",
     "output_type": "stream",
     "text": [
      "../model_builder.py:379: DataConversionWarning: A column-vector y was passed when a 1d array was expected. Please change the shape of y to (n_samples,), for example using ravel().\n",
      "  self.model = self.model.fit(self.X_train, self.y_train.values)\n",
      "[Parallel(n_jobs=-1)]: Using backend ThreadingBackend with 12 concurrent workers.\n",
      "[Parallel(n_jobs=-1)]: Done  26 tasks      | elapsed:  2.2min\n",
      "[Parallel(n_jobs=-1)]: Done 100 out of 100 | elapsed:  6.3min finished\n"
     ]
    }
   ],
   "source": [
    "model_builder.train()"
   ]
  },
  {
   "cell_type": "markdown",
   "id": "ea59fc3d",
   "metadata": {
    "tags": []
   },
   "source": [
    "# Evaluation"
   ]
  },
  {
   "cell_type": "code",
   "execution_count": 20,
   "id": "a42020f2",
   "metadata": {
    "tags": []
   },
   "outputs": [
    {
     "name": "stdout",
     "output_type": "stream",
     "text": [
      "\n",
      "Evaluation...\n"
     ]
    },
    {
     "name": "stderr",
     "output_type": "stream",
     "text": [
      "[Parallel(n_jobs=12)]: Using backend ThreadingBackend with 12 concurrent workers.\n",
      "[Parallel(n_jobs=12)]: Done  26 tasks      | elapsed:    5.3s\n",
      "[Parallel(n_jobs=12)]: Done 100 out of 100 | elapsed:   14.2s finished\n",
      "[Parallel(n_jobs=12)]: Using backend ThreadingBackend with 12 concurrent workers.\n",
      "[Parallel(n_jobs=12)]: Done  26 tasks      | elapsed:    5.2s\n",
      "[Parallel(n_jobs=12)]: Done 100 out of 100 | elapsed:   16.3s finished\n"
     ]
    },
    {
     "name": "stdout",
     "output_type": "stream",
     "text": [
      "R2 with predictions probabilities: 0.3454909125203326\n",
      "ROC-AUC score of the model:   0.8768503825036171\n",
      "Kappa score: 0.46744668961478686\n",
      "Accuracy of the model: 0.8551799065473226\n",
      "\n",
      "Classification report: \n",
      "              precision    recall  f1-score   support\n",
      "\n",
      "           0       0.88      0.95      0.91    714214\n",
      "           1       0.70      0.45      0.55    173080\n",
      "\n",
      "    accuracy                           0.86    887294\n",
      "   macro avg       0.79      0.70      0.73    887294\n",
      "weighted avg       0.84      0.86      0.84    887294\n",
      "\n",
      "\n",
      "Confusion matrix: \n",
      "[[680586  33628]\n",
      " [ 94870  78210]]\n",
      "\n"
     ]
    },
    {
     "data": {
      "image/png": "[encoded data removed]",
      "text/plain": [
       "<Figure size 200x200 with 1 Axes>"
      ]
     },
     "metadata": {
      "needs_background": "light"
     },
     "output_type": "display_data"
    }
   ],
   "source": [
    "# On test set\n",
    "model_builder.evaluate(X_data=model_builder.X_test,\n",
    "                        y_data=model_builder.y_test,\n",
    "                        save_figures=True, saving_base_output_name='testing_test_set',\n",
    "                        feature_importance=True)\n"
   ]
  },
  {
   "cell_type": "code",
   "execution_count": 22,
   "id": "17f73e39",
   "metadata": {
    "scrolled": true
   },
   "outputs": [],
   "source": [
    "# from sklearn import tree\n",
    "\n",
    "# fn=list(model_builder.X_train.columns)\n",
    "# cn=['non_wetlands', 'wetlands']\n",
    "# fig, axes = plt.subplots(nrows = 1,ncols = 1,figsize = (20,20), dpi=800)\n",
    "# tree.plot_tree(model_builder.model.estimators_[0],\n",
    "#                feature_names=fn, \n",
    "#                class_names=cn,\n",
    "#                filled = True);\n",
    "# fig.savefig('rf_individualtree_0_maxdepth12.png')"
   ]
  },
  {
   "cell_type": "code",
   "execution_count": null,
   "id": "b0937837",
   "metadata": {},
   "outputs": [],
   "source": []
  },
  {
   "cell_type": "code",
   "execution_count": null,
   "id": "1869085e",
   "metadata": {},
   "outputs": [],
   "source": []
  },
  {
   "cell_type": "markdown",
   "id": "970a07b2",
   "metadata": {
    "tags": []
   },
   "source": [
    "# Inference on tiles"
   ]
  },
  {
   "cell_type": "code",
   "execution_count": 24,
   "id": "cc48708d",
   "metadata": {
    "scrolled": true,
    "tags": []
   },
   "outputs": [
    {
     "name": "stdout",
     "output_type": "stream",
     "text": [
      "There are 933 inference tiles\n",
      "\n",
      "Starting image: /Users/margauxmforstyhe/Desktop/workspace/wetlands_labs/CCAP boundaries/north_east_coast/tiles_north_east_coast_ccap_mapping_bndry_gridded_50km_50km_classes_13_CCAP_scale30/inference_tiles_scale30_379.tif\n",
      "Image opened\n"
     ]
    },
    {
     "name": "stderr",
     "output_type": "stream",
     "text": [
      "[Parallel(n_jobs=12)]: Using backend ThreadingBackend with 12 concurrent workers.\n",
      "[Parallel(n_jobs=12)]: Done  26 tasks      | elapsed:    1.3s\n",
      "[Parallel(n_jobs=12)]: Done 100 out of 100 | elapsed:    3.2s finished\n"
     ]
    },
    {
     "name": "stdout",
     "output_type": "stream",
     "text": [
      "Class prediction was successful without slicing!\n",
      "No slicing was necessary!\n",
      "Image saved to: local_model_outputs_classifier_prob_habitat_suitability_CCAP_NORTH_east_coast_USA_13_4000_1000_all_predictors_depth_None/output_2023-08-04-08_01_30_0.tif\n",
      "\n",
      "\n",
      "\n",
      "\n",
      "Starting image: /Users/margauxmforstyhe/Desktop/workspace/wetlands_labs/CCAP boundaries/north_east_coast/tiles_north_east_coast_ccap_mapping_bndry_gridded_50km_50km_classes_13_CCAP_scale30/inference_tiles_scale30_351.tif\n",
      "Image opened\n"
     ]
    },
    {
     "name": "stderr",
     "output_type": "stream",
     "text": [
      "[Parallel(n_jobs=12)]: Using backend ThreadingBackend with 12 concurrent workers.\n",
      "[Parallel(n_jobs=12)]: Done  26 tasks      | elapsed:    2.3s\n",
      "[Parallel(n_jobs=12)]: Done 100 out of 100 | elapsed:    5.3s finished\n"
     ]
    },
    {
     "name": "stdout",
     "output_type": "stream",
     "text": [
      "Class prediction was successful without slicing!\n",
      "No slicing was necessary!\n",
      "Image saved to: local_model_outputs_classifier_prob_habitat_suitability_CCAP_NORTH_east_coast_USA_13_4000_1000_all_predictors_depth_None/output_2023-08-04-08_01_37_1.tif\n",
      "\n",
      "\n",
      "\n",
      "\n",
      "Starting image: /Users/margauxmforstyhe/Desktop/workspace/wetlands_labs/CCAP boundaries/north_east_coast/tiles_north_east_coast_ccap_mapping_bndry_gridded_50km_50km_classes_13_CCAP_scale30/inference_tiles_scale30_52.tif\n",
      "Image opened\n"
     ]
    },
    {
     "name": "stderr",
     "output_type": "stream",
     "text": [
      "[Parallel(n_jobs=12)]: Using backend ThreadingBackend with 12 concurrent workers.\n",
      "[Parallel(n_jobs=12)]: Done  26 tasks      | elapsed:    2.0s\n",
      "[Parallel(n_jobs=12)]: Done 100 out of 100 | elapsed:    5.5s finished\n",
      "[Parallel(n_jobs=12)]: Using backend ThreadingBackend with 12 concurrent workers.\n"
     ]
    },
    {
     "name": "stdout",
     "output_type": "stream",
     "text": [
      "Class prediction was successful without slicing!\n",
      "No slicing was necessary!\n",
      "Image saved to: local_model_outputs_classifier_prob_habitat_suitability_CCAP_NORTH_east_coast_USA_13_4000_1000_all_predictors_depth_None/output_2023-08-04-08_01_43_2.tif\n",
      "\n",
      "\n",
      "\n",
      "\n",
      "Starting image: /Users/margauxmforstyhe/Desktop/workspace/wetlands_labs/CCAP boundaries/north_east_coast/tiles_north_east_coast_ccap_mapping_bndry_gridded_50km_50km_classes_13_CCAP_scale30/inference_tiles_scale30_437.tif\n",
      "Image opened\n"
     ]
    },
    {
     "name": "stderr",
     "output_type": "stream",
     "text": [
      "[Parallel(n_jobs=12)]: Done  26 tasks      | elapsed:    0.0s\n",
      "[Parallel(n_jobs=12)]: Done 100 out of 100 | elapsed:    0.1s finished\n",
      "[Parallel(n_jobs=12)]: Using backend ThreadingBackend with 12 concurrent workers.\n",
      "[Parallel(n_jobs=12)]: Done  26 tasks      | elapsed:    0.0s\n",
      "[Parallel(n_jobs=12)]: Done 100 out of 100 | elapsed:    0.1s finished\n",
      "[Parallel(n_jobs=12)]: Using backend ThreadingBackend with 12 concurrent workers.\n",
      "[Parallel(n_jobs=12)]: Done  26 tasks      | elapsed:    0.0s\n",
      "[Parallel(n_jobs=12)]: Done 100 out of 100 | elapsed:    0.0s finished\n"
     ]
    },
    {
     "name": "stdout",
     "output_type": "stream",
     "text": [
      "Class prediction was successful without slicing!\n",
      "No slicing was necessary!\n",
      "Image saved to: local_model_outputs_classifier_prob_habitat_suitability_CCAP_NORTH_east_coast_USA_13_4000_1000_all_predictors_depth_None/output_2023-08-04-08_01_43_3.tif\n",
      "\n",
      "\n",
      "\n",
      "\n",
      "Starting image: /Users/margauxmforstyhe/Desktop/workspace/wetlands_labs/CCAP boundaries/north_east_coast/tiles_north_east_coast_ccap_mapping_bndry_gridded_50km_50km_classes_13_CCAP_scale30/inference_tiles_scale30_423.tif\n",
      "Image opened\n",
      "Class prediction was successful without slicing!\n",
      "No slicing was necessary!\n",
      "Image saved to: local_model_outputs_classifier_prob_habitat_suitability_CCAP_NORTH_east_coast_USA_13_4000_1000_all_predictors_depth_None/output_2023-08-04-08_01_43_4.tif\n",
      "\n",
      "\n",
      "\n",
      "\n",
      "Starting image: /Users/margauxmforstyhe/Desktop/workspace/wetlands_labs/CCAP boundaries/north_east_coast/tiles_north_east_coast_ccap_mapping_bndry_gridded_50km_50km_classes_13_CCAP_scale30/inference_tiles_scale30_345.tif\n",
      "Image opened\n",
      "Class prediction was successful without slicing!\n",
      "No slicing was necessary!\n",
      "Image saved to: local_model_outputs_classifier_prob_habitat_suitability_CCAP_NORTH_east_coast_USA_13_4000_1000_all_predictors_depth_None/output_2023-08-04-08_01_43_5.tif\n",
      "\n",
      "\n",
      "\n",
      "\n",
      "Starting image: /Users/margauxmforstyhe/Desktop/workspace/wetlands_labs/CCAP boundaries/north_east_coast/tiles_north_east_coast_ccap_mapping_bndry_gridded_50km_50km_classes_13_CCAP_scale30/inference_tiles_scale30_46.tif\n",
      "Image opened\n"
     ]
    },
    {
     "name": "stderr",
     "output_type": "stream",
     "text": [
      "[Parallel(n_jobs=12)]: Using backend ThreadingBackend with 12 concurrent workers.\n",
      "[Parallel(n_jobs=12)]: Done  26 tasks      | elapsed:    0.5s\n",
      "[Parallel(n_jobs=12)]: Done 100 out of 100 | elapsed:    1.3s finished\n",
      "[Parallel(n_jobs=12)]: Using backend ThreadingBackend with 12 concurrent workers.\n",
      "[Parallel(n_jobs=12)]: Done  26 tasks      | elapsed:    0.0s\n",
      "[Parallel(n_jobs=12)]: Done 100 out of 100 | elapsed:    0.1s finished\n"
     ]
    },
    {
     "name": "stdout",
     "output_type": "stream",
     "text": [
      "Class prediction was successful without slicing!\n",
      "No slicing was necessary!\n",
      "Image saved to: local_model_outputs_classifier_prob_habitat_suitability_CCAP_NORTH_east_coast_USA_13_4000_1000_all_predictors_depth_None/output_2023-08-04-08_01_45_6.tif\n",
      "\n",
      "\n",
      "\n",
      "\n",
      "Starting image: /Users/margauxmforstyhe/Desktop/workspace/wetlands_labs/CCAP boundaries/north_east_coast/tiles_north_east_coast_ccap_mapping_bndry_gridded_50km_50km_classes_13_CCAP_scale30/inference_tiles_scale30_91.tif\n",
      "Image opened\n",
      "Class prediction was successful without slicing!\n",
      "No slicing was necessary!\n",
      "Image saved to: local_model_outputs_classifier_prob_habitat_suitability_CCAP_NORTH_east_coast_USA_13_4000_1000_all_predictors_depth_None/output_2023-08-04-08_01_45_7.tif\n",
      "\n",
      "\n",
      "\n",
      "\n",
      "Starting image: /Users/margauxmforstyhe/Desktop/workspace/wetlands_labs/CCAP boundaries/north_east_coast/tiles_north_east_coast_ccap_mapping_bndry_gridded_50km_50km_classes_13_CCAP_scale30/inference_tiles_scale30_392.tif\n",
      "Image opened\n"
     ]
    },
    {
     "name": "stderr",
     "output_type": "stream",
     "text": [
      "[Parallel(n_jobs=12)]: Using backend ThreadingBackend with 12 concurrent workers.\n",
      "[Parallel(n_jobs=12)]: Done  26 tasks      | elapsed:    1.8s\n",
      "[Parallel(n_jobs=12)]: Done 100 out of 100 | elapsed:    4.7s finished\n"
     ]
    },
    {
     "name": "stdout",
     "output_type": "stream",
     "text": [
      "Class prediction was successful without slicing!\n",
      "No slicing was necessary!\n",
      "Image saved to: local_model_outputs_classifier_prob_habitat_suitability_CCAP_NORTH_east_coast_USA_13_4000_1000_all_predictors_depth_None/output_2023-08-04-08_01_50_8.tif\n",
      "\n",
      "\n",
      "\n",
      "\n",
      "Starting image: /Users/margauxmforstyhe/Desktop/workspace/wetlands_labs/CCAP boundaries/north_east_coast/tiles_north_east_coast_ccap_mapping_bndry_gridded_50km_50km_classes_13_CCAP_scale30/inference_tiles_scale30_85.tif\n",
      "Image opened\n"
     ]
    },
    {
     "name": "stderr",
     "output_type": "stream",
     "text": [
      "[Parallel(n_jobs=12)]: Using backend ThreadingBackend with 12 concurrent workers.\n",
      "[Parallel(n_jobs=12)]: Done  26 tasks      | elapsed:    1.0s\n",
      "[Parallel(n_jobs=12)]: Done 100 out of 100 | elapsed:    2.6s finished\n"
     ]
    },
    {
     "name": "stdout",
     "output_type": "stream",
     "text": [
      "Class prediction was successful without slicing!\n",
      "No slicing was necessary!\n",
      "Image saved to: local_model_outputs_classifier_prob_habitat_suitability_CCAP_NORTH_east_coast_USA_13_4000_1000_all_predictors_depth_None/output_2023-08-04-08_01_54_9.tif\n",
      "\n",
      "\n",
      "\n",
      "\n",
      "Starting image: /Users/margauxmforstyhe/Desktop/workspace/wetlands_labs/CCAP boundaries/north_east_coast/tiles_north_east_coast_ccap_mapping_bndry_gridded_50km_50km_classes_13_CCAP_scale30/inference_tiles_scale30_386.tif\n",
      "Image opened\n"
     ]
    },
    {
     "name": "stderr",
     "output_type": "stream",
     "text": [
      "[Parallel(n_jobs=12)]: Using backend ThreadingBackend with 12 concurrent workers.\n",
      "[Parallel(n_jobs=12)]: Done  26 tasks      | elapsed:    1.8s\n",
      "[Parallel(n_jobs=12)]: Done 100 out of 100 | elapsed:    4.9s finished\n"
     ]
    },
    {
     "name": "stdout",
     "output_type": "stream",
     "text": [
      "Class prediction was successful without slicing!\n",
      "No slicing was necessary!\n",
      "Image saved to: local_model_outputs_classifier_prob_habitat_suitability_CCAP_NORTH_east_coast_USA_13_4000_1000_all_predictors_depth_None/output_2023-08-04-08_02_00_10.tif\n",
      "\n",
      "\n",
      "\n",
      "\n",
      "Starting image: /Users/margauxmforstyhe/Desktop/workspace/wetlands_labs/CCAP boundaries/north_east_coast/tiles_north_east_coast_ccap_mapping_bndry_gridded_50km_50km_classes_13_CCAP_scale30/inference_tiles_scale30_609.tif\n",
      "Image opened\n"
     ]
    },
    {
     "name": "stderr",
     "output_type": "stream",
     "text": [
      "[Parallel(n_jobs=12)]: Using backend ThreadingBackend with 12 concurrent workers.\n",
      "[Parallel(n_jobs=12)]: Done  26 tasks      | elapsed:    0.4s\n",
      "[Parallel(n_jobs=12)]: Done 100 out of 100 | elapsed:    1.0s finished\n"
     ]
    },
    {
     "name": "stdout",
     "output_type": "stream",
     "text": [
      "Class prediction was successful without slicing!\n",
      "No slicing was necessary!\n",
      "Image saved to: local_model_outputs_classifier_prob_habitat_suitability_CCAP_NORTH_east_coast_USA_13_4000_1000_all_predictors_depth_None/output_2023-08-04-08_02_01_11.tif\n",
      "\n",
      "\n",
      "\n",
      "\n",
      "Starting image: /Users/margauxmforstyhe/Desktop/workspace/wetlands_labs/CCAP boundaries/north_east_coast/tiles_north_east_coast_ccap_mapping_bndry_gridded_50km_50km_classes_13_CCAP_scale30/inference_tiles_scale30_635.tif\n",
      "Image opened\n"
     ]
    },
    {
     "name": "stderr",
     "output_type": "stream",
     "text": [
      "[Parallel(n_jobs=12)]: Using backend ThreadingBackend with 12 concurrent workers.\n",
      "[Parallel(n_jobs=12)]: Done  26 tasks      | elapsed:    1.4s\n",
      "[Parallel(n_jobs=12)]: Done 100 out of 100 | elapsed:    4.0s finished\n"
     ]
    },
    {
     "name": "stdout",
     "output_type": "stream",
     "text": [
      "Class prediction was successful without slicing!\n",
      "No slicing was necessary!\n",
      "Image saved to: local_model_outputs_classifier_prob_habitat_suitability_CCAP_NORTH_east_coast_USA_13_4000_1000_all_predictors_depth_None/output_2023-08-04-08_02_05_12.tif\n",
      "\n",
      "\n",
      "\n",
      "\n",
      "Starting image: /Users/margauxmforstyhe/Desktop/workspace/wetlands_labs/CCAP boundaries/north_east_coast/tiles_north_east_coast_ccap_mapping_bndry_gridded_50km_50km_classes_13_CCAP_scale30/inference_tiles_scale30_153.tif\n",
      "Image opened\n"
     ]
    },
    {
     "name": "stderr",
     "output_type": "stream",
     "text": [
      "[Parallel(n_jobs=12)]: Using backend ThreadingBackend with 12 concurrent workers.\n",
      "[Parallel(n_jobs=12)]: Done  26 tasks      | elapsed:    1.5s\n",
      "[Parallel(n_jobs=12)]: Done 100 out of 100 | elapsed:    4.1s finished\n"
     ]
    },
    {
     "name": "stdout",
     "output_type": "stream",
     "text": [
      "Class prediction was successful without slicing!\n",
      "No slicing was necessary!\n",
      "Image saved to: local_model_outputs_classifier_prob_habitat_suitability_CCAP_NORTH_east_coast_USA_13_4000_1000_all_predictors_depth_None/output_2023-08-04-08_02_10_13.tif\n",
      "\n",
      "\n",
      "\n",
      "\n",
      "Starting image: /Users/margauxmforstyhe/Desktop/workspace/wetlands_labs/CCAP boundaries/north_east_coast/tiles_north_east_coast_ccap_mapping_bndry_gridded_50km_50km_classes_13_CCAP_scale30/inference_tiles_scale30_147.tif\n",
      "Image opened\n"
     ]
    },
    {
     "name": "stderr",
     "output_type": "stream",
     "text": [
      "[Parallel(n_jobs=12)]: Using backend ThreadingBackend with 12 concurrent workers.\n",
      "[Parallel(n_jobs=12)]: Done  26 tasks      | elapsed:    0.4s\n",
      "[Parallel(n_jobs=12)]: Done 100 out of 100 | elapsed:    1.3s finished\n"
     ]
    },
    {
     "name": "stdout",
     "output_type": "stream",
     "text": [
      "Class prediction was successful without slicing!\n",
      "No slicing was necessary!\n",
      "Image saved to: local_model_outputs_classifier_prob_habitat_suitability_CCAP_NORTH_east_coast_USA_13_4000_1000_all_predictors_depth_None/output_2023-08-04-08_02_12_14.tif\n",
      "\n",
      "\n",
      "\n",
      "\n",
      "Starting image: /Users/margauxmforstyhe/Desktop/workspace/wetlands_labs/CCAP boundaries/north_east_coast/tiles_north_east_coast_ccap_mapping_bndry_gridded_50km_50km_classes_13_CCAP_scale30/inference_tiles_scale30_621.tif\n",
      "Image opened\n"
     ]
    },
    {
     "name": "stderr",
     "output_type": "stream",
     "text": [
      "[Parallel(n_jobs=12)]: Using backend ThreadingBackend with 12 concurrent workers.\n",
      "[Parallel(n_jobs=12)]: Done  26 tasks      | elapsed:    1.6s\n",
      "[Parallel(n_jobs=12)]: Done 100 out of 100 | elapsed:    4.0s finished\n",
      "[Parallel(n_jobs=12)]: Using backend ThreadingBackend with 12 concurrent workers.\n",
      "[Parallel(n_jobs=12)]: Done  26 tasks      | elapsed:    0.0s\n",
      "[Parallel(n_jobs=12)]: Done 100 out of 100 | elapsed:    0.0s finished\n"
     ]
    },
    {
     "name": "stdout",
     "output_type": "stream",
     "text": [
      "Class prediction was successful without slicing!\n",
      "No slicing was necessary!\n",
      "Image saved to: local_model_outputs_classifier_prob_habitat_suitability_CCAP_NORTH_east_coast_USA_13_4000_1000_all_predictors_depth_None/output_2023-08-04-08_02_17_15.tif\n",
      "\n",
      "\n",
      "\n",
      "\n",
      "Starting image: /Users/margauxmforstyhe/Desktop/workspace/wetlands_labs/CCAP boundaries/north_east_coast/tiles_north_east_coast_ccap_mapping_bndry_gridded_50km_50km_classes_13_CCAP_scale30/inference_tiles_scale30_812.tif\n",
      "Image opened\n",
      "Class prediction was successful without slicing!\n",
      "No slicing was necessary!\n",
      "Image saved to: local_model_outputs_classifier_prob_habitat_suitability_CCAP_NORTH_east_coast_USA_13_4000_1000_all_predictors_depth_None/output_2023-08-04-08_02_17_16.tif\n",
      "\n",
      "\n",
      "\n",
      "\n",
      "Starting image: /Users/margauxmforstyhe/Desktop/workspace/wetlands_labs/CCAP boundaries/north_east_coast/tiles_north_east_coast_ccap_mapping_bndry_gridded_50km_50km_classes_13_CCAP_scale30/inference_tiles_scale30_806.tif\n",
      "Image opened\n"
     ]
    },
    {
     "name": "stderr",
     "output_type": "stream",
     "text": [
      "[Parallel(n_jobs=12)]: Using backend ThreadingBackend with 12 concurrent workers.\n",
      "[Parallel(n_jobs=12)]: Done  26 tasks      | elapsed:    2.1s\n",
      "[Parallel(n_jobs=12)]: Done 100 out of 100 | elapsed:    5.2s finished\n",
      "[Parallel(n_jobs=12)]: Using backend ThreadingBackend with 12 concurrent workers.\n",
      "[Parallel(n_jobs=12)]: Done  26 tasks      | elapsed:    0.0s\n"
     ]
    },
    {
     "name": "stdout",
     "output_type": "stream",
     "text": [
      "Class prediction was successful without slicing!\n",
      "No slicing was necessary!\n",
      "Image saved to: local_model_outputs_classifier_prob_habitat_suitability_CCAP_NORTH_east_coast_USA_13_4000_1000_all_predictors_depth_None/output_2023-08-04-08_02_23_17.tif\n",
      "\n",
      "\n",
      "\n",
      "\n",
      "Starting image: /Users/margauxmforstyhe/Desktop/workspace/wetlands_labs/CCAP boundaries/north_east_coast/tiles_north_east_coast_ccap_mapping_bndry_gridded_50km_50km_classes_13_CCAP_scale30/inference_tiles_scale30_190.tif\n",
      "Image opened\n"
     ]
    },
    {
     "name": "stderr",
     "output_type": "stream",
     "text": [
      "[Parallel(n_jobs=12)]: Done 100 out of 100 | elapsed:    0.1s finished\n"
     ]
    },
    {
     "name": "stdout",
     "output_type": "stream",
     "text": [
      "Class prediction was successful without slicing!\n",
      "No slicing was necessary!\n",
      "Image saved to: local_model_outputs_classifier_prob_habitat_suitability_CCAP_NORTH_east_coast_USA_13_4000_1000_all_predictors_depth_None/output_2023-08-04-08_02_23_18.tif\n",
      "\n",
      "\n",
      "\n",
      "\n",
      "Starting image: /Users/margauxmforstyhe/Desktop/workspace/wetlands_labs/CCAP boundaries/north_east_coast/tiles_north_east_coast_ccap_mapping_bndry_gridded_50km_50km_classes_13_CCAP_scale30/inference_tiles_scale30_184.tif\n",
      "Image opened\n"
     ]
    },
    {
     "name": "stderr",
     "output_type": "stream",
     "text": [
      "[Parallel(n_jobs=12)]: Using backend ThreadingBackend with 12 concurrent workers.\n",
      "[Parallel(n_jobs=12)]: Done  26 tasks      | elapsed:    1.6s\n",
      "[Parallel(n_jobs=12)]: Done 100 out of 100 | elapsed:    4.7s finished\n"
     ]
    },
    {
     "name": "stdout",
     "output_type": "stream",
     "text": [
      "Class prediction was successful without slicing!\n",
      "No slicing was necessary!\n",
      "Image saved to: local_model_outputs_classifier_prob_habitat_suitability_CCAP_NORTH_east_coast_USA_13_4000_1000_all_predictors_depth_None/output_2023-08-04-08_02_29_19.tif\n",
      "\n",
      "\n",
      "\n",
      "\n",
      "Starting image: /Users/margauxmforstyhe/Desktop/workspace/wetlands_labs/CCAP boundaries/north_east_coast/tiles_north_east_coast_ccap_mapping_bndry_gridded_50km_50km_classes_13_CCAP_scale30/inference_tiles_scale30_769.tif\n",
      "Image opened\n"
     ]
    },
    {
     "name": "stderr",
     "output_type": "stream",
     "text": [
      "[Parallel(n_jobs=12)]: Using backend ThreadingBackend with 12 concurrent workers.\n",
      "[Parallel(n_jobs=12)]: Done  26 tasks      | elapsed:    0.2s\n",
      "[Parallel(n_jobs=12)]: Done 100 out of 100 | elapsed:    0.5s finished\n"
     ]
    },
    {
     "name": "stdout",
     "output_type": "stream",
     "text": [
      "Class prediction was successful without slicing!\n",
      "No slicing was necessary!\n",
      "Image saved to: local_model_outputs_classifier_prob_habitat_suitability_CCAP_NORTH_east_coast_USA_13_4000_1000_all_predictors_depth_None/output_2023-08-04-08_02_29_20.tif\n",
      "\n",
      "\n",
      "\n",
      "\n",
      "Starting image: /Users/margauxmforstyhe/Desktop/workspace/wetlands_labs/CCAP boundaries/north_east_coast/tiles_north_east_coast_ccap_mapping_bndry_gridded_50km_50km_classes_13_CCAP_scale30/inference_tiles_scale30_741.tif\n",
      "Image opened\n"
     ]
    },
    {
     "name": "stderr",
     "output_type": "stream",
     "text": [
      "[Parallel(n_jobs=12)]: Using backend ThreadingBackend with 12 concurrent workers.\n",
      "[Parallel(n_jobs=12)]: Done  26 tasks      | elapsed:    0.6s\n",
      "[Parallel(n_jobs=12)]: Done 100 out of 100 | elapsed:    1.7s finished\n"
     ]
    },
    {
     "name": "stdout",
     "output_type": "stream",
     "text": [
      "Class prediction was successful without slicing!\n",
      "No slicing was necessary!\n",
      "Image saved to: local_model_outputs_classifier_prob_habitat_suitability_CCAP_NORTH_east_coast_USA_13_4000_1000_all_predictors_depth_None/output_2023-08-04-08_02_32_21.tif\n",
      "\n",
      "\n",
      "\n",
      "\n",
      "Starting image: /Users/margauxmforstyhe/Desktop/workspace/wetlands_labs/CCAP boundaries/north_east_coast/tiles_north_east_coast_ccap_mapping_bndry_gridded_50km_50km_classes_13_CCAP_scale30/inference_tiles_scale30_755.tif\n",
      "Image opened\n"
     ]
    },
    {
     "name": "stderr",
     "output_type": "stream",
     "text": [
      "[Parallel(n_jobs=12)]: Using backend ThreadingBackend with 12 concurrent workers.\n",
      "[Parallel(n_jobs=12)]: Done  26 tasks      | elapsed:    1.4s\n",
      "[Parallel(n_jobs=12)]: Done 100 out of 100 | elapsed:    3.9s finished\n"
     ]
    },
    {
     "name": "stdout",
     "output_type": "stream",
     "text": [
      "Class prediction was successful without slicing!\n",
      "No slicing was necessary!\n",
      "Image saved to: local_model_outputs_classifier_prob_habitat_suitability_CCAP_NORTH_east_coast_USA_13_4000_1000_all_predictors_depth_None/output_2023-08-04-08_02_36_22.tif\n",
      "\n",
      "\n",
      "\n",
      "\n",
      "Starting image: /Users/margauxmforstyhe/Desktop/workspace/wetlands_labs/CCAP boundaries/north_east_coast/tiles_north_east_coast_ccap_mapping_bndry_gridded_50km_50km_classes_13_CCAP_scale30/inference_tiles_scale30_782.tif\n",
      "Image opened\n"
     ]
    },
    {
     "name": "stderr",
     "output_type": "stream",
     "text": [
      "[Parallel(n_jobs=12)]: Using backend ThreadingBackend with 12 concurrent workers.\n",
      "[Parallel(n_jobs=12)]: Done  26 tasks      | elapsed:    1.2s\n",
      "[Parallel(n_jobs=12)]: Done 100 out of 100 | elapsed:    3.7s finished\n",
      "[Parallel(n_jobs=12)]: Using backend ThreadingBackend with 12 concurrent workers.\n"
     ]
    },
    {
     "name": "stdout",
     "output_type": "stream",
     "text": [
      "Class prediction was successful without slicing!\n",
      "No slicing was necessary!\n",
      "Image saved to: local_model_outputs_classifier_prob_habitat_suitability_CCAP_NORTH_east_coast_USA_13_4000_1000_all_predictors_depth_None/output_2023-08-04-08_02_40_23.tif\n",
      "\n",
      "\n",
      "\n",
      "\n",
      "Starting image: /Users/margauxmforstyhe/Desktop/workspace/wetlands_labs/CCAP boundaries/north_east_coast/tiles_north_east_coast_ccap_mapping_bndry_gridded_50km_50km_classes_13_CCAP_scale30/inference_tiles_scale30_796.tif\n",
      "Image opened\n"
     ]
    },
    {
     "name": "stderr",
     "output_type": "stream",
     "text": [
      "[Parallel(n_jobs=12)]: Done  26 tasks      | elapsed:    0.1s\n",
      "[Parallel(n_jobs=12)]: Done 100 out of 100 | elapsed:    0.2s finished\n"
     ]
    },
    {
     "name": "stdout",
     "output_type": "stream",
     "text": [
      "Class prediction was successful without slicing!\n",
      "No slicing was necessary!\n",
      "Image saved to: local_model_outputs_classifier_prob_habitat_suitability_CCAP_NORTH_east_coast_USA_13_4000_1000_all_predictors_depth_None/output_2023-08-04-08_02_41_24.tif\n",
      "\n",
      "\n",
      "\n",
      "\n",
      "Starting image: /Users/margauxmforstyhe/Desktop/workspace/wetlands_labs/CCAP boundaries/north_east_coast/tiles_north_east_coast_ccap_mapping_bndry_gridded_50km_50km_classes_13_CCAP_scale30/inference_tiles_scale30_219.tif\n",
      "Image opened\n"
     ]
    },
    {
     "name": "stderr",
     "output_type": "stream",
     "text": [
      "[Parallel(n_jobs=12)]: Using backend ThreadingBackend with 12 concurrent workers.\n",
      "[Parallel(n_jobs=12)]: Done  26 tasks      | elapsed:    1.1s\n",
      "[Parallel(n_jobs=12)]: Done 100 out of 100 | elapsed:    3.2s finished\n"
     ]
    },
    {
     "name": "stdout",
     "output_type": "stream",
     "text": [
      "Class prediction was successful without slicing!\n",
      "No slicing was necessary!\n",
      "Image saved to: local_model_outputs_classifier_prob_habitat_suitability_CCAP_NORTH_east_coast_USA_13_4000_1000_all_predictors_depth_None/output_2023-08-04-08_02_45_25.tif\n",
      "\n",
      "\n",
      "\n",
      "\n",
      "Starting image: /Users/margauxmforstyhe/Desktop/workspace/wetlands_labs/CCAP boundaries/north_east_coast/tiles_north_east_coast_ccap_mapping_bndry_gridded_50km_50km_classes_13_CCAP_scale30/inference_tiles_scale30_225.tif\n",
      "Image opened\n"
     ]
    },
    {
     "name": "stderr",
     "output_type": "stream",
     "text": [
      "[Parallel(n_jobs=12)]: Using backend ThreadingBackend with 12 concurrent workers.\n",
      "[Parallel(n_jobs=12)]: Done  26 tasks      | elapsed:    1.7s\n",
      "[Parallel(n_jobs=12)]: Done 100 out of 100 | elapsed:    4.9s finished\n",
      "[Parallel(n_jobs=12)]: Using backend ThreadingBackend with 12 concurrent workers.\n",
      "[Parallel(n_jobs=12)]: Done  26 tasks      | elapsed:    0.0s\n",
      "[Parallel(n_jobs=12)]: Done 100 out of 100 | elapsed:    0.0s finished\n"
     ]
    },
    {
     "name": "stdout",
     "output_type": "stream",
     "text": [
      "Class prediction was successful without slicing!\n",
      "No slicing was necessary!\n",
      "Image saved to: local_model_outputs_classifier_prob_habitat_suitability_CCAP_NORTH_east_coast_USA_13_4000_1000_all_predictors_depth_None/output_2023-08-04-08_02_51_26.tif\n",
      "\n",
      "\n",
      "\n",
      "\n",
      "Starting image: /Users/margauxmforstyhe/Desktop/workspace/wetlands_labs/CCAP boundaries/north_east_coast/tiles_north_east_coast_ccap_mapping_bndry_gridded_50km_50km_classes_13_CCAP_scale30/inference_tiles_scale30_543.tif\n",
      "Image opened\n",
      "Class prediction was successful without slicing!\n",
      "No slicing was necessary!\n",
      "Image saved to: local_model_outputs_classifier_prob_habitat_suitability_CCAP_NORTH_east_coast_USA_13_4000_1000_all_predictors_depth_None/output_2023-08-04-08_02_51_27.tif\n",
      "\n",
      "\n",
      "\n",
      "\n",
      "Starting image: /Users/margauxmforstyhe/Desktop/workspace/wetlands_labs/CCAP boundaries/north_east_coast/tiles_north_east_coast_ccap_mapping_bndry_gridded_50km_50km_classes_13_CCAP_scale30/inference_tiles_scale30_8.tif\n",
      "Image opened\n"
     ]
    },
    {
     "name": "stderr",
     "output_type": "stream",
     "text": [
      "[Parallel(n_jobs=12)]: Using backend ThreadingBackend with 12 concurrent workers.\n",
      "[Parallel(n_jobs=12)]: Done  26 tasks      | elapsed:    1.5s\n",
      "[Parallel(n_jobs=12)]: Done 100 out of 100 | elapsed:    4.4s finished\n"
     ]
    },
    {
     "name": "stdout",
     "output_type": "stream",
     "text": [
      "Class prediction was successful without slicing!\n",
      "No slicing was necessary!\n",
      "Image saved to: local_model_outputs_classifier_prob_habitat_suitability_CCAP_NORTH_east_coast_USA_13_4000_1000_all_predictors_depth_None/output_2023-08-04-08_02_56_28.tif\n",
      "\n",
      "\n",
      "\n",
      "\n",
      "Starting image: /Users/margauxmforstyhe/Desktop/workspace/wetlands_labs/CCAP boundaries/north_east_coast/tiles_north_east_coast_ccap_mapping_bndry_gridded_50km_50km_classes_13_CCAP_scale30/inference_tiles_scale30_557.tif\n",
      "Image opened\n"
     ]
    },
    {
     "name": "stderr",
     "output_type": "stream",
     "text": [
      "[Parallel(n_jobs=12)]: Using backend ThreadingBackend with 12 concurrent workers.\n",
      "[Parallel(n_jobs=12)]: Done  26 tasks      | elapsed:    0.5s\n",
      "[Parallel(n_jobs=12)]: Done 100 out of 100 | elapsed:    1.5s finished\n",
      "[Parallel(n_jobs=12)]: Using backend ThreadingBackend with 12 concurrent workers.\n"
     ]
    },
    {
     "name": "stdout",
     "output_type": "stream",
     "text": [
      "Class prediction was successful without slicing!\n",
      "No slicing was necessary!\n",
      "Image saved to: local_model_outputs_classifier_prob_habitat_suitability_CCAP_NORTH_east_coast_USA_13_4000_1000_all_predictors_depth_None/output_2023-08-04-08_02_58_29.tif\n",
      "\n",
      "\n",
      "\n",
      "\n",
      "Starting image: /Users/margauxmforstyhe/Desktop/workspace/wetlands_labs/CCAP boundaries/north_east_coast/tiles_north_east_coast_ccap_mapping_bndry_gridded_50km_50km_classes_13_CCAP_scale30/inference_tiles_scale30_231.tif\n",
      "Image opened\n"
     ]
    },
    {
     "name": "stderr",
     "output_type": "stream",
     "text": [
      "[Parallel(n_jobs=12)]: Done  26 tasks      | elapsed:    0.1s\n",
      "[Parallel(n_jobs=12)]: Done 100 out of 100 | elapsed:    0.3s finished\n"
     ]
    },
    {
     "name": "stdout",
     "output_type": "stream",
     "text": [
      "Class prediction was successful without slicing!\n",
      "No slicing was necessary!\n",
      "Image saved to: local_model_outputs_classifier_prob_habitat_suitability_CCAP_NORTH_east_coast_USA_13_4000_1000_all_predictors_depth_None/output_2023-08-04-08_02_58_30.tif\n",
      "\n",
      "\n",
      "\n",
      "\n",
      "Starting image: /Users/margauxmforstyhe/Desktop/workspace/wetlands_labs/CCAP boundaries/north_east_coast/tiles_north_east_coast_ccap_mapping_bndry_gridded_50km_50km_classes_13_CCAP_scale30/inference_tiles_scale30_580.tif\n",
      "Image opened\n"
     ]
    },
    {
     "name": "stderr",
     "output_type": "stream",
     "text": [
      "[Parallel(n_jobs=12)]: Using backend ThreadingBackend with 12 concurrent workers.\n",
      "[Parallel(n_jobs=12)]: Done  26 tasks      | elapsed:    1.4s\n",
      "[Parallel(n_jobs=12)]: Done 100 out of 100 | elapsed:    4.0s finished\n",
      "[Parallel(n_jobs=12)]: Using backend ThreadingBackend with 12 concurrent workers.\n"
     ]
    },
    {
     "name": "stdout",
     "output_type": "stream",
     "text": [
      "Class prediction was successful without slicing!\n",
      "No slicing was necessary!\n",
      "Image saved to: local_model_outputs_classifier_prob_habitat_suitability_CCAP_NORTH_east_coast_USA_13_4000_1000_all_predictors_depth_None/output_2023-08-04-08_03_03_31.tif\n",
      "\n",
      "\n",
      "\n",
      "\n",
      "Starting image: /Users/margauxmforstyhe/Desktop/workspace/wetlands_labs/CCAP boundaries/north_east_coast/tiles_north_east_coast_ccap_mapping_bndry_gridded_50km_50km_classes_13_CCAP_scale30/inference_tiles_scale30_594.tif\n",
      "Image opened\n"
     ]
    },
    {
     "name": "stderr",
     "output_type": "stream",
     "text": [
      "[Parallel(n_jobs=12)]: Done  26 tasks      | elapsed:    0.0s\n",
      "[Parallel(n_jobs=12)]: Done 100 out of 100 | elapsed:    0.1s finished\n"
     ]
    },
    {
     "name": "stdout",
     "output_type": "stream",
     "text": [
      "Class prediction was successful without slicing!\n",
      "No slicing was necessary!\n",
      "Image saved to: local_model_outputs_classifier_prob_habitat_suitability_CCAP_NORTH_east_coast_USA_13_4000_1000_all_predictors_depth_None/output_2023-08-04-08_03_03_32.tif\n",
      "\n",
      "\n",
      "\n",
      "\n",
      "Starting image: /Users/margauxmforstyhe/Desktop/workspace/wetlands_labs/CCAP boundaries/north_east_coast/tiles_north_east_coast_ccap_mapping_bndry_gridded_50km_50km_classes_13_CCAP_scale30/inference_tiles_scale30_595.tif\n",
      "Image opened\n"
     ]
    },
    {
     "name": "stderr",
     "output_type": "stream",
     "text": [
      "[Parallel(n_jobs=12)]: Using backend ThreadingBackend with 12 concurrent workers.\n",
      "[Parallel(n_jobs=12)]: Done  26 tasks      | elapsed:    1.2s\n",
      "[Parallel(n_jobs=12)]: Done 100 out of 100 | elapsed:    3.4s finished\n"
     ]
    },
    {
     "name": "stdout",
     "output_type": "stream",
     "text": [
      "Class prediction was successful without slicing!\n",
      "No slicing was necessary!\n",
      "Image saved to: local_model_outputs_classifier_prob_habitat_suitability_CCAP_NORTH_east_coast_USA_13_4000_1000_all_predictors_depth_None/output_2023-08-04-08_03_07_33.tif\n",
      "\n",
      "\n",
      "\n",
      "\n",
      "Starting image: /Users/margauxmforstyhe/Desktop/workspace/wetlands_labs/CCAP boundaries/north_east_coast/tiles_north_east_coast_ccap_mapping_bndry_gridded_50km_50km_classes_13_CCAP_scale30/inference_tiles_scale30_581.tif\n",
      "Image opened\n"
     ]
    },
    {
     "name": "stderr",
     "output_type": "stream",
     "text": [
      "[Parallel(n_jobs=12)]: Using backend ThreadingBackend with 12 concurrent workers.\n",
      "[Parallel(n_jobs=12)]: Done  26 tasks      | elapsed:    0.7s\n",
      "[Parallel(n_jobs=12)]: Done 100 out of 100 | elapsed:    2.3s finished\n"
     ]
    },
    {
     "name": "stdout",
     "output_type": "stream",
     "text": [
      "Class prediction was successful without slicing!\n",
      "No slicing was necessary!\n",
      "Image saved to: local_model_outputs_classifier_prob_habitat_suitability_CCAP_NORTH_east_coast_USA_13_4000_1000_all_predictors_depth_None/output_2023-08-04-08_03_10_34.tif\n",
      "\n",
      "\n",
      "\n",
      "\n",
      "Starting image: /Users/margauxmforstyhe/Desktop/workspace/wetlands_labs/CCAP boundaries/north_east_coast/tiles_north_east_coast_ccap_mapping_bndry_gridded_50km_50km_classes_13_CCAP_scale30/inference_tiles_scale30_556.tif\n",
      "Image opened\n"
     ]
    },
    {
     "name": "stderr",
     "output_type": "stream",
     "text": [
      "[Parallel(n_jobs=12)]: Using backend ThreadingBackend with 12 concurrent workers.\n",
      "[Parallel(n_jobs=12)]: Done  26 tasks      | elapsed:    0.2s\n",
      "[Parallel(n_jobs=12)]: Done 100 out of 100 | elapsed:    0.6s finished\n"
     ]
    },
    {
     "name": "stdout",
     "output_type": "stream",
     "text": [
      "Class prediction was successful without slicing!\n",
      "No slicing was necessary!\n",
      "Image saved to: local_model_outputs_classifier_prob_habitat_suitability_CCAP_NORTH_east_coast_USA_13_4000_1000_all_predictors_depth_None/output_2023-08-04-08_03_11_35.tif\n",
      "\n",
      "\n",
      "\n",
      "\n",
      "Starting image: /Users/margauxmforstyhe/Desktop/workspace/wetlands_labs/CCAP boundaries/north_east_coast/tiles_north_east_coast_ccap_mapping_bndry_gridded_50km_50km_classes_13_CCAP_scale30/inference_tiles_scale30_230.tif\n",
      "Image opened\n"
     ]
    },
    {
     "name": "stderr",
     "output_type": "stream",
     "text": [
      "[Parallel(n_jobs=12)]: Using backend ThreadingBackend with 12 concurrent workers.\n",
      "[Parallel(n_jobs=12)]: Done  26 tasks      | elapsed:    1.3s\n",
      "[Parallel(n_jobs=12)]: Done 100 out of 100 | elapsed:    3.8s finished\n"
     ]
    },
    {
     "name": "stdout",
     "output_type": "stream",
     "text": [
      "Class prediction was successful without slicing!\n",
      "No slicing was necessary!\n",
      "Image saved to: local_model_outputs_classifier_prob_habitat_suitability_CCAP_NORTH_east_coast_USA_13_4000_1000_all_predictors_depth_None/output_2023-08-04-08_03_15_36.tif\n",
      "\n",
      "\n",
      "\n",
      "\n",
      "Starting image: /Users/margauxmforstyhe/Desktop/workspace/wetlands_labs/CCAP boundaries/north_east_coast/tiles_north_east_coast_ccap_mapping_bndry_gridded_50km_50km_classes_13_CCAP_scale30/inference_tiles_scale30_224.tif\n",
      "Image opened\n"
     ]
    },
    {
     "name": "stderr",
     "output_type": "stream",
     "text": [
      "[Parallel(n_jobs=12)]: Using backend ThreadingBackend with 12 concurrent workers.\n",
      "[Parallel(n_jobs=12)]: Done  26 tasks      | elapsed:    1.5s\n",
      "[Parallel(n_jobs=12)]: Done 100 out of 100 | elapsed:    3.8s finished\n"
     ]
    },
    {
     "name": "stdout",
     "output_type": "stream",
     "text": [
      "Class prediction was successful without slicing!\n",
      "No slicing was necessary!\n",
      "Image saved to: local_model_outputs_classifier_prob_habitat_suitability_CCAP_NORTH_east_coast_USA_13_4000_1000_all_predictors_depth_None/output_2023-08-04-08_03_20_37.tif\n",
      "\n",
      "\n",
      "\n",
      "\n",
      "Starting image: /Users/margauxmforstyhe/Desktop/workspace/wetlands_labs/CCAP boundaries/north_east_coast/tiles_north_east_coast_ccap_mapping_bndry_gridded_50km_50km_classes_13_CCAP_scale30/inference_tiles_scale30_9.tif\n",
      "Image opened\n"
     ]
    },
    {
     "name": "stderr",
     "output_type": "stream",
     "text": [
      "[Parallel(n_jobs=12)]: Using backend ThreadingBackend with 12 concurrent workers.\n",
      "[Parallel(n_jobs=12)]: Done  26 tasks      | elapsed:    1.2s\n",
      "[Parallel(n_jobs=12)]: Done 100 out of 100 | elapsed:    3.5s finished\n"
     ]
    },
    {
     "name": "stdout",
     "output_type": "stream",
     "text": [
      "Class prediction was successful without slicing!\n",
      "No slicing was necessary!\n",
      "Image saved to: local_model_outputs_classifier_prob_habitat_suitability_CCAP_NORTH_east_coast_USA_13_4000_1000_all_predictors_depth_None/output_2023-08-04-08_03_24_38.tif\n",
      "\n",
      "\n",
      "\n",
      "\n",
      "Starting image: /Users/margauxmforstyhe/Desktop/workspace/wetlands_labs/CCAP boundaries/north_east_coast/tiles_north_east_coast_ccap_mapping_bndry_gridded_50km_50km_classes_13_CCAP_scale30/inference_tiles_scale30_542.tif\n",
      "Image opened\n"
     ]
    },
    {
     "name": "stderr",
     "output_type": "stream",
     "text": [
      "[Parallel(n_jobs=12)]: Using backend ThreadingBackend with 12 concurrent workers.\n",
      "[Parallel(n_jobs=12)]: Done  26 tasks      | elapsed:    1.2s\n",
      "[Parallel(n_jobs=12)]: Done 100 out of 100 | elapsed:    3.0s finished\n"
     ]
    },
    {
     "name": "stdout",
     "output_type": "stream",
     "text": [
      "Class prediction was successful without slicing!\n",
      "No slicing was necessary!\n",
      "Image saved to: local_model_outputs_classifier_prob_habitat_suitability_CCAP_NORTH_east_coast_USA_13_4000_1000_all_predictors_depth_None/output_2023-08-04-08_03_28_39.tif\n",
      "\n",
      "\n",
      "\n",
      "\n",
      "Starting image: /Users/margauxmforstyhe/Desktop/workspace/wetlands_labs/CCAP boundaries/north_east_coast/tiles_north_east_coast_ccap_mapping_bndry_gridded_50km_50km_classes_13_CCAP_scale30/inference_tiles_scale30_218.tif\n",
      "Image opened\n"
     ]
    },
    {
     "name": "stderr",
     "output_type": "stream",
     "text": [
      "[Parallel(n_jobs=12)]: Using backend ThreadingBackend with 12 concurrent workers.\n",
      "[Parallel(n_jobs=12)]: Done  26 tasks      | elapsed:    2.1s\n",
      "[Parallel(n_jobs=12)]: Done 100 out of 100 | elapsed:    5.3s finished\n",
      "[Parallel(n_jobs=12)]: Using backend ThreadingBackend with 12 concurrent workers.\n",
      "[Parallel(n_jobs=12)]: Done  26 tasks      | elapsed:    0.0s\n"
     ]
    },
    {
     "name": "stdout",
     "output_type": "stream",
     "text": [
      "Class prediction was successful without slicing!\n",
      "No slicing was necessary!\n",
      "Image saved to: local_model_outputs_classifier_prob_habitat_suitability_CCAP_NORTH_east_coast_USA_13_4000_1000_all_predictors_depth_None/output_2023-08-04-08_03_34_40.tif\n",
      "\n",
      "\n",
      "\n",
      "\n",
      "Starting image: /Users/margauxmforstyhe/Desktop/workspace/wetlands_labs/CCAP boundaries/north_east_coast/tiles_north_east_coast_ccap_mapping_bndry_gridded_50km_50km_classes_13_CCAP_scale30/inference_tiles_scale30_797.tif\n",
      "Image opened\n"
     ]
    },
    {
     "name": "stderr",
     "output_type": "stream",
     "text": [
      "[Parallel(n_jobs=12)]: Done 100 out of 100 | elapsed:    0.0s finished\n"
     ]
    },
    {
     "name": "stdout",
     "output_type": "stream",
     "text": [
      "Class prediction was successful without slicing!\n",
      "No slicing was necessary!\n",
      "Image saved to: local_model_outputs_classifier_prob_habitat_suitability_CCAP_NORTH_east_coast_USA_13_4000_1000_all_predictors_depth_None/output_2023-08-04-08_03_34_41.tif\n",
      "\n",
      "\n",
      "\n",
      "\n",
      "Starting image: /Users/margauxmforstyhe/Desktop/workspace/wetlands_labs/CCAP boundaries/north_east_coast/tiles_north_east_coast_ccap_mapping_bndry_gridded_50km_50km_classes_13_CCAP_scale30/inference_tiles_scale30_783.tif\n",
      "Image opened\n"
     ]
    },
    {
     "name": "stderr",
     "output_type": "stream",
     "text": [
      "[Parallel(n_jobs=12)]: Using backend ThreadingBackend with 12 concurrent workers.\n",
      "[Parallel(n_jobs=12)]: Done  26 tasks      | elapsed:    1.3s\n",
      "[Parallel(n_jobs=12)]: Done 100 out of 100 | elapsed:    3.9s finished\n"
     ]
    },
    {
     "name": "stdout",
     "output_type": "stream",
     "text": [
      "Class prediction was successful without slicing!\n",
      "No slicing was necessary!\n",
      "Image saved to: local_model_outputs_classifier_prob_habitat_suitability_CCAP_NORTH_east_coast_USA_13_4000_1000_all_predictors_depth_None/output_2023-08-04-08_03_39_42.tif\n",
      "\n",
      "\n",
      "\n",
      "\n",
      "Starting image: /Users/margauxmforstyhe/Desktop/workspace/wetlands_labs/CCAP boundaries/north_east_coast/tiles_north_east_coast_ccap_mapping_bndry_gridded_50km_50km_classes_13_CCAP_scale30/inference_tiles_scale30_754.tif\n",
      "Image opened\n"
     ]
    },
    {
     "name": "stderr",
     "output_type": "stream",
     "text": [
      "[Parallel(n_jobs=12)]: Using backend ThreadingBackend with 12 concurrent workers.\n",
      "[Parallel(n_jobs=12)]: Done  26 tasks      | elapsed:    1.2s\n",
      "[Parallel(n_jobs=12)]: Done 100 out of 100 | elapsed:    3.4s finished\n"
     ]
    },
    {
     "name": "stdout",
     "output_type": "stream",
     "text": [
      "Class prediction was successful without slicing!\n",
      "No slicing was necessary!\n",
      "Image saved to: local_model_outputs_classifier_prob_habitat_suitability_CCAP_NORTH_east_coast_USA_13_4000_1000_all_predictors_depth_None/output_2023-08-04-08_03_43_43.tif\n",
      "\n",
      "\n",
      "\n",
      "\n",
      "Starting image: /Users/margauxmforstyhe/Desktop/workspace/wetlands_labs/CCAP boundaries/north_east_coast/tiles_north_east_coast_ccap_mapping_bndry_gridded_50km_50km_classes_13_CCAP_scale30/inference_tiles_scale30_740.tif\n",
      "Image opened\n"
     ]
    },
    {
     "name": "stderr",
     "output_type": "stream",
     "text": [
      "[Parallel(n_jobs=12)]: Using backend ThreadingBackend with 12 concurrent workers.\n",
      "[Parallel(n_jobs=12)]: Done  26 tasks      | elapsed:    0.9s\n",
      "[Parallel(n_jobs=12)]: Done 100 out of 100 | elapsed:    2.7s finished\n"
     ]
    },
    {
     "name": "stdout",
     "output_type": "stream",
     "text": [
      "Class prediction was successful without slicing!\n",
      "No slicing was necessary!\n",
      "Image saved to: local_model_outputs_classifier_prob_habitat_suitability_CCAP_NORTH_east_coast_USA_13_4000_1000_all_predictors_depth_None/output_2023-08-04-08_03_46_44.tif\n",
      "\n",
      "\n",
      "\n",
      "\n",
      "Starting image: /Users/margauxmforstyhe/Desktop/workspace/wetlands_labs/CCAP boundaries/north_east_coast/tiles_north_east_coast_ccap_mapping_bndry_gridded_50km_50km_classes_13_CCAP_scale30/inference_tiles_scale30_768.tif\n",
      "Image opened\n"
     ]
    },
    {
     "name": "stderr",
     "output_type": "stream",
     "text": [
      "[Parallel(n_jobs=12)]: Using backend ThreadingBackend with 12 concurrent workers.\n",
      "[Parallel(n_jobs=12)]: Done  26 tasks      | elapsed:    1.0s\n",
      "[Parallel(n_jobs=12)]: Done 100 out of 100 | elapsed:    2.8s finished\n"
     ]
    },
    {
     "name": "stdout",
     "output_type": "stream",
     "text": [
      "Class prediction was successful without slicing!\n",
      "No slicing was necessary!\n",
      "Image saved to: local_model_outputs_classifier_prob_habitat_suitability_CCAP_NORTH_east_coast_USA_13_4000_1000_all_predictors_depth_None/output_2023-08-04-08_03_50_45.tif\n",
      "\n",
      "\n",
      "\n",
      "\n",
      "Starting image: /Users/margauxmforstyhe/Desktop/workspace/wetlands_labs/CCAP boundaries/north_east_coast/tiles_north_east_coast_ccap_mapping_bndry_gridded_50km_50km_classes_13_CCAP_scale30/inference_tiles_scale30_185.tif\n",
      "Image opened\n"
     ]
    },
    {
     "name": "stderr",
     "output_type": "stream",
     "text": [
      "[Parallel(n_jobs=12)]: Using backend ThreadingBackend with 12 concurrent workers.\n",
      "[Parallel(n_jobs=12)]: Done  26 tasks      | elapsed:    0.5s\n",
      "[Parallel(n_jobs=12)]: Done 100 out of 100 | elapsed:    1.3s finished\n"
     ]
    },
    {
     "name": "stdout",
     "output_type": "stream",
     "text": [
      "Class prediction was successful without slicing!\n",
      "No slicing was necessary!\n",
      "Image saved to: local_model_outputs_classifier_prob_habitat_suitability_CCAP_NORTH_east_coast_USA_13_4000_1000_all_predictors_depth_None/output_2023-08-04-08_03_51_46.tif\n",
      "\n",
      "\n",
      "\n",
      "\n",
      "Starting image: /Users/margauxmforstyhe/Desktop/workspace/wetlands_labs/CCAP boundaries/north_east_coast/tiles_north_east_coast_ccap_mapping_bndry_gridded_50km_50km_classes_13_CCAP_scale30/inference_tiles_scale30_191.tif\n",
      "Image opened\n"
     ]
    },
    {
     "name": "stderr",
     "output_type": "stream",
     "text": [
      "[Parallel(n_jobs=12)]: Using backend ThreadingBackend with 12 concurrent workers.\n",
      "[Parallel(n_jobs=12)]: Done  26 tasks      | elapsed:    0.3s\n",
      "[Parallel(n_jobs=12)]: Done 100 out of 100 | elapsed:    0.7s finished\n",
      "[Parallel(n_jobs=12)]: Using backend ThreadingBackend with 12 concurrent workers.\n"
     ]
    },
    {
     "name": "stdout",
     "output_type": "stream",
     "text": [
      "Class prediction was successful without slicing!\n",
      "No slicing was necessary!\n",
      "Image saved to: local_model_outputs_classifier_prob_habitat_suitability_CCAP_NORTH_east_coast_USA_13_4000_1000_all_predictors_depth_None/output_2023-08-04-08_03_52_47.tif\n",
      "\n",
      "\n",
      "\n",
      "\n",
      "Starting image: /Users/margauxmforstyhe/Desktop/workspace/wetlands_labs/CCAP boundaries/north_east_coast/tiles_north_east_coast_ccap_mapping_bndry_gridded_50km_50km_classes_13_CCAP_scale30/inference_tiles_scale30_807.tif\n",
      "Image opened\n"
     ]
    },
    {
     "name": "stderr",
     "output_type": "stream",
     "text": [
      "[Parallel(n_jobs=12)]: Done  26 tasks      | elapsed:    0.2s\n",
      "[Parallel(n_jobs=12)]: Done 100 out of 100 | elapsed:    0.7s finished\n",
      "[Parallel(n_jobs=12)]: Using backend ThreadingBackend with 12 concurrent workers.\n",
      "[Parallel(n_jobs=12)]: Done  26 tasks      | elapsed:    0.1s\n"
     ]
    },
    {
     "name": "stdout",
     "output_type": "stream",
     "text": [
      "Class prediction was successful without slicing!\n",
      "No slicing was necessary!\n",
      "Image saved to: local_model_outputs_classifier_prob_habitat_suitability_CCAP_NORTH_east_coast_USA_13_4000_1000_all_predictors_depth_None/output_2023-08-04-08_03_53_48.tif\n",
      "\n",
      "\n",
      "\n",
      "\n",
      "Starting image: /Users/margauxmforstyhe/Desktop/workspace/wetlands_labs/CCAP boundaries/north_east_coast/tiles_north_east_coast_ccap_mapping_bndry_gridded_50km_50km_classes_13_CCAP_scale30/inference_tiles_scale30_813.tif\n",
      "Image opened\n"
     ]
    },
    {
     "name": "stderr",
     "output_type": "stream",
     "text": [
      "[Parallel(n_jobs=12)]: Done 100 out of 100 | elapsed:    0.3s finished\n"
     ]
    },
    {
     "name": "stdout",
     "output_type": "stream",
     "text": [
      "Class prediction was successful without slicing!\n",
      "No slicing was necessary!\n",
      "Image saved to: local_model_outputs_classifier_prob_habitat_suitability_CCAP_NORTH_east_coast_USA_13_4000_1000_all_predictors_depth_None/output_2023-08-04-08_03_54_49.tif\n",
      "\n",
      "\n",
      "\n",
      "\n",
      "Starting image: /Users/margauxmforstyhe/Desktop/workspace/wetlands_labs/CCAP boundaries/north_east_coast/tiles_north_east_coast_ccap_mapping_bndry_gridded_50km_50km_classes_13_CCAP_scale30/inference_tiles_scale30_146.tif\n",
      "Image opened\n"
     ]
    },
    {
     "name": "stderr",
     "output_type": "stream",
     "text": [
      "[Parallel(n_jobs=12)]: Using backend ThreadingBackend with 12 concurrent workers.\n",
      "[Parallel(n_jobs=12)]: Done  26 tasks      | elapsed:    1.3s\n",
      "[Parallel(n_jobs=12)]: Done 100 out of 100 | elapsed:    3.8s finished\n"
     ]
    },
    {
     "name": "stdout",
     "output_type": "stream",
     "text": [
      "Class prediction was successful without slicing!\n",
      "No slicing was necessary!\n",
      "Image saved to: local_model_outputs_classifier_prob_habitat_suitability_CCAP_NORTH_east_coast_USA_13_4000_1000_all_predictors_depth_None/output_2023-08-04-08_03_58_50.tif\n",
      "\n",
      "\n",
      "\n",
      "\n",
      "Starting image: /Users/margauxmforstyhe/Desktop/workspace/wetlands_labs/CCAP boundaries/north_east_coast/tiles_north_east_coast_ccap_mapping_bndry_gridded_50km_50km_classes_13_CCAP_scale30/inference_tiles_scale30_620.tif\n",
      "Image opened\n"
     ]
    },
    {
     "name": "stderr",
     "output_type": "stream",
     "text": [
      "[Parallel(n_jobs=12)]: Using backend ThreadingBackend with 12 concurrent workers.\n",
      "[Parallel(n_jobs=12)]: Done  26 tasks      | elapsed:    1.1s\n",
      "[Parallel(n_jobs=12)]: Done 100 out of 100 | elapsed:    3.3s finished\n",
      "[Parallel(n_jobs=12)]: Using backend ThreadingBackend with 12 concurrent workers.\n",
      "[Parallel(n_jobs=12)]: Done  26 tasks      | elapsed:    0.0s\n",
      "[Parallel(n_jobs=12)]: Done 100 out of 100 | elapsed:    0.1s finished\n"
     ]
    },
    {
     "name": "stdout",
     "output_type": "stream",
     "text": [
      "Class prediction was successful without slicing!\n",
      "No slicing was necessary!\n",
      "Image saved to: local_model_outputs_classifier_prob_habitat_suitability_CCAP_NORTH_east_coast_USA_13_4000_1000_all_predictors_depth_None/output_2023-08-04-08_04_02_51.tif\n",
      "\n",
      "\n",
      "\n",
      "\n",
      "Starting image: /Users/margauxmforstyhe/Desktop/workspace/wetlands_labs/CCAP boundaries/north_east_coast/tiles_north_east_coast_ccap_mapping_bndry_gridded_50km_50km_classes_13_CCAP_scale30/inference_tiles_scale30_634.tif\n",
      "Image opened\n",
      "Class prediction was successful without slicing!\n",
      "No slicing was necessary!\n",
      "Image saved to: local_model_outputs_classifier_prob_habitat_suitability_CCAP_NORTH_east_coast_USA_13_4000_1000_all_predictors_depth_None/output_2023-08-04-08_04_02_52.tif\n",
      "\n",
      "\n",
      "\n",
      "\n",
      "Starting image: /Users/margauxmforstyhe/Desktop/workspace/wetlands_labs/CCAP boundaries/north_east_coast/tiles_north_east_coast_ccap_mapping_bndry_gridded_50km_50km_classes_13_CCAP_scale30/inference_tiles_scale30_152.tif\n",
      "Image opened\n"
     ]
    },
    {
     "name": "stderr",
     "output_type": "stream",
     "text": [
      "[Parallel(n_jobs=12)]: Using backend ThreadingBackend with 12 concurrent workers.\n",
      "[Parallel(n_jobs=12)]: Done  26 tasks      | elapsed:    1.3s\n",
      "[Parallel(n_jobs=12)]: Done 100 out of 100 | elapsed:    3.7s finished\n"
     ]
    },
    {
     "name": "stdout",
     "output_type": "stream",
     "text": [
      "Class prediction was successful without slicing!\n",
      "No slicing was necessary!\n",
      "Image saved to: local_model_outputs_classifier_prob_habitat_suitability_CCAP_NORTH_east_coast_USA_13_4000_1000_all_predictors_depth_None/output_2023-08-04-08_04_07_53.tif\n",
      "\n",
      "\n",
      "\n",
      "\n",
      "Starting image: /Users/margauxmforstyhe/Desktop/workspace/wetlands_labs/CCAP boundaries/north_east_coast/tiles_north_east_coast_ccap_mapping_bndry_gridded_50km_50km_classes_13_CCAP_scale30/inference_tiles_scale30_608.tif\n",
      "Image opened\n"
     ]
    },
    {
     "name": "stderr",
     "output_type": "stream",
     "text": [
      "[Parallel(n_jobs=12)]: Using backend ThreadingBackend with 12 concurrent workers.\n",
      "[Parallel(n_jobs=12)]: Done  26 tasks      | elapsed:    0.7s\n",
      "[Parallel(n_jobs=12)]: Done 100 out of 100 | elapsed:    2.0s finished\n"
     ]
    },
    {
     "name": "stdout",
     "output_type": "stream",
     "text": [
      "Class prediction was successful without slicing!\n",
      "No slicing was necessary!\n",
      "Image saved to: local_model_outputs_classifier_prob_habitat_suitability_CCAP_NORTH_east_coast_USA_13_4000_1000_all_predictors_depth_None/output_2023-08-04-08_04_09_54.tif\n",
      "\n",
      "\n",
      "\n",
      "\n",
      "Starting image: /Users/margauxmforstyhe/Desktop/workspace/wetlands_labs/CCAP boundaries/north_east_coast/tiles_north_east_coast_ccap_mapping_bndry_gridded_50km_50km_classes_13_CCAP_scale30/inference_tiles_scale30_387.tif\n",
      "Image opened\n"
     ]
    },
    {
     "name": "stderr",
     "output_type": "stream",
     "text": [
      "[Parallel(n_jobs=12)]: Using backend ThreadingBackend with 12 concurrent workers.\n",
      "[Parallel(n_jobs=12)]: Done  26 tasks      | elapsed:    0.3s\n",
      "[Parallel(n_jobs=12)]: Done 100 out of 100 | elapsed:    0.7s finished\n",
      "[Parallel(n_jobs=12)]: Using backend ThreadingBackend with 12 concurrent workers.\n"
     ]
    },
    {
     "name": "stdout",
     "output_type": "stream",
     "text": [
      "Class prediction was successful without slicing!\n",
      "No slicing was necessary!\n",
      "Image saved to: local_model_outputs_classifier_prob_habitat_suitability_CCAP_NORTH_east_coast_USA_13_4000_1000_all_predictors_depth_None/output_2023-08-04-08_04_10_55.tif\n",
      "\n",
      "\n",
      "\n",
      "\n",
      "Starting image: /Users/margauxmforstyhe/Desktop/workspace/wetlands_labs/CCAP boundaries/north_east_coast/tiles_north_east_coast_ccap_mapping_bndry_gridded_50km_50km_classes_13_CCAP_scale30/inference_tiles_scale30_84.tif\n",
      "Image opened\n"
     ]
    },
    {
     "name": "stderr",
     "output_type": "stream",
     "text": [
      "[Parallel(n_jobs=12)]: Done  26 tasks      | elapsed:    0.1s\n",
      "[Parallel(n_jobs=12)]: Done 100 out of 100 | elapsed:    0.5s finished\n"
     ]
    },
    {
     "name": "stdout",
     "output_type": "stream",
     "text": [
      "Class prediction was successful without slicing!\n",
      "No slicing was necessary!\n",
      "Image saved to: local_model_outputs_classifier_prob_habitat_suitability_CCAP_NORTH_east_coast_USA_13_4000_1000_all_predictors_depth_None/output_2023-08-04-08_04_11_56.tif\n",
      "\n",
      "\n",
      "\n",
      "\n",
      "Starting image: /Users/margauxmforstyhe/Desktop/workspace/wetlands_labs/CCAP boundaries/north_east_coast/tiles_north_east_coast_ccap_mapping_bndry_gridded_50km_50km_classes_13_CCAP_scale30/inference_tiles_scale30_393.tif\n",
      "Image opened\n"
     ]
    },
    {
     "name": "stderr",
     "output_type": "stream",
     "text": [
      "[Parallel(n_jobs=12)]: Using backend ThreadingBackend with 12 concurrent workers.\n",
      "[Parallel(n_jobs=12)]: Done  26 tasks      | elapsed:    1.1s\n",
      "[Parallel(n_jobs=12)]: Done 100 out of 100 | elapsed:    3.3s finished\n"
     ]
    },
    {
     "name": "stdout",
     "output_type": "stream",
     "text": [
      "Class prediction was successful without slicing!\n",
      "No slicing was necessary!\n",
      "Image saved to: local_model_outputs_classifier_prob_habitat_suitability_CCAP_NORTH_east_coast_USA_13_4000_1000_all_predictors_depth_None/output_2023-08-04-08_04_15_57.tif\n",
      "\n",
      "\n",
      "\n",
      "\n",
      "Starting image: /Users/margauxmforstyhe/Desktop/workspace/wetlands_labs/CCAP boundaries/north_east_coast/tiles_north_east_coast_ccap_mapping_bndry_gridded_50km_50km_classes_13_CCAP_scale30/inference_tiles_scale30_90.tif\n",
      "Image opened\n"
     ]
    },
    {
     "name": "stderr",
     "output_type": "stream",
     "text": [
      "[Parallel(n_jobs=12)]: Using backend ThreadingBackend with 12 concurrent workers.\n",
      "[Parallel(n_jobs=12)]: Done  26 tasks      | elapsed:    1.7s\n",
      "[Parallel(n_jobs=12)]: Done 100 out of 100 | elapsed:    4.3s finished\n"
     ]
    },
    {
     "name": "stdout",
     "output_type": "stream",
     "text": [
      "Class prediction was successful without slicing!\n",
      "No slicing was necessary!\n",
      "Image saved to: local_model_outputs_classifier_prob_habitat_suitability_CCAP_NORTH_east_coast_USA_13_4000_1000_all_predictors_depth_None/output_2023-08-04-08_04_20_58.tif\n",
      "\n",
      "\n",
      "\n",
      "\n",
      "Starting image: /Users/margauxmforstyhe/Desktop/workspace/wetlands_labs/CCAP boundaries/north_east_coast/tiles_north_east_coast_ccap_mapping_bndry_gridded_50km_50km_classes_13_CCAP_scale30/inference_tiles_scale30_422.tif\n",
      "Image opened\n"
     ]
    },
    {
     "name": "stderr",
     "output_type": "stream",
     "text": [
      "[Parallel(n_jobs=12)]: Using backend ThreadingBackend with 12 concurrent workers.\n",
      "[Parallel(n_jobs=12)]: Done  26 tasks      | elapsed:    1.1s\n",
      "[Parallel(n_jobs=12)]: Done 100 out of 100 | elapsed:    3.0s finished\n"
     ]
    },
    {
     "name": "stdout",
     "output_type": "stream",
     "text": [
      "Class prediction was successful without slicing!\n",
      "No slicing was necessary!\n",
      "Image saved to: local_model_outputs_classifier_prob_habitat_suitability_CCAP_NORTH_east_coast_USA_13_4000_1000_all_predictors_depth_None/output_2023-08-04-08_04_24_59.tif\n",
      "\n",
      "\n",
      "\n",
      "\n",
      "Starting image: /Users/margauxmforstyhe/Desktop/workspace/wetlands_labs/CCAP boundaries/north_east_coast/tiles_north_east_coast_ccap_mapping_bndry_gridded_50km_50km_classes_13_CCAP_scale30/inference_tiles_scale30_47.tif\n",
      "Image opened\n"
     ]
    },
    {
     "name": "stderr",
     "output_type": "stream",
     "text": [
      "[Parallel(n_jobs=12)]: Using backend ThreadingBackend with 12 concurrent workers.\n",
      "[Parallel(n_jobs=12)]: Done  26 tasks      | elapsed:    0.1s\n",
      "[Parallel(n_jobs=12)]: Done 100 out of 100 | elapsed:    0.3s finished\n"
     ]
    },
    {
     "name": "stdout",
     "output_type": "stream",
     "text": [
      "Class prediction was successful without slicing!\n",
      "No slicing was necessary!\n",
      "Image saved to: local_model_outputs_classifier_prob_habitat_suitability_CCAP_NORTH_east_coast_USA_13_4000_1000_all_predictors_depth_None/output_2023-08-04-08_04_25_60.tif\n",
      "\n",
      "\n",
      "\n",
      "\n",
      "Starting image: /Users/margauxmforstyhe/Desktop/workspace/wetlands_labs/CCAP boundaries/north_east_coast/tiles_north_east_coast_ccap_mapping_bndry_gridded_50km_50km_classes_13_CCAP_scale30/inference_tiles_scale30_344.tif\n",
      "Image opened\n"
     ]
    },
    {
     "name": "stderr",
     "output_type": "stream",
     "text": [
      "[Parallel(n_jobs=12)]: Using backend ThreadingBackend with 12 concurrent workers.\n",
      "[Parallel(n_jobs=12)]: Done  26 tasks      | elapsed:    1.7s\n",
      "[Parallel(n_jobs=12)]: Done 100 out of 100 | elapsed:    4.9s finished\n"
     ]
    },
    {
     "name": "stdout",
     "output_type": "stream",
     "text": [
      "Class prediction was successful without slicing!\n",
      "No slicing was necessary!\n",
      "Image saved to: local_model_outputs_classifier_prob_habitat_suitability_CCAP_NORTH_east_coast_USA_13_4000_1000_all_predictors_depth_None/output_2023-08-04-08_04_30_61.tif\n",
      "\n",
      "\n",
      "\n",
      "\n",
      "Starting image: /Users/margauxmforstyhe/Desktop/workspace/wetlands_labs/CCAP boundaries/north_east_coast/tiles_north_east_coast_ccap_mapping_bndry_gridded_50km_50km_classes_13_CCAP_scale30/inference_tiles_scale30_53.tif\n",
      "Image opened\n"
     ]
    },
    {
     "name": "stderr",
     "output_type": "stream",
     "text": [
      "[Parallel(n_jobs=12)]: Using backend ThreadingBackend with 12 concurrent workers.\n",
      "[Parallel(n_jobs=12)]: Done  26 tasks      | elapsed:    1.7s\n",
      "[Parallel(n_jobs=12)]: Done 100 out of 100 | elapsed:    4.9s finished\n"
     ]
    },
    {
     "name": "stdout",
     "output_type": "stream",
     "text": [
      "Class prediction was successful without slicing!\n",
      "No slicing was necessary!\n",
      "Image saved to: local_model_outputs_classifier_prob_habitat_suitability_CCAP_NORTH_east_coast_USA_13_4000_1000_all_predictors_depth_None/output_2023-08-04-08_04_36_62.tif\n",
      "\n",
      "\n",
      "\n",
      "\n",
      "Starting image: /Users/margauxmforstyhe/Desktop/workspace/wetlands_labs/CCAP boundaries/north_east_coast/tiles_north_east_coast_ccap_mapping_bndry_gridded_50km_50km_classes_13_CCAP_scale30/inference_tiles_scale30_350.tif\n",
      "Image opened\n"
     ]
    },
    {
     "name": "stderr",
     "output_type": "stream",
     "text": [
      "[Parallel(n_jobs=12)]: Using backend ThreadingBackend with 12 concurrent workers.\n",
      "[Parallel(n_jobs=12)]: Done  26 tasks      | elapsed:    1.7s\n",
      "[Parallel(n_jobs=12)]: Done 100 out of 100 | elapsed:    4.9s finished\n"
     ]
    },
    {
     "name": "stdout",
     "output_type": "stream",
     "text": [
      "Class prediction was successful without slicing!\n",
      "No slicing was necessary!\n",
      "Image saved to: local_model_outputs_classifier_prob_habitat_suitability_CCAP_NORTH_east_coast_USA_13_4000_1000_all_predictors_depth_None/output_2023-08-04-08_04_42_63.tif\n",
      "\n",
      "\n",
      "\n",
      "\n",
      "Starting image: /Users/margauxmforstyhe/Desktop/workspace/wetlands_labs/CCAP boundaries/north_east_coast/tiles_north_east_coast_ccap_mapping_bndry_gridded_50km_50km_classes_13_CCAP_scale30/inference_tiles_scale30_436.tif\n",
      "Image opened\n"
     ]
    },
    {
     "name": "stderr",
     "output_type": "stream",
     "text": [
      "[Parallel(n_jobs=12)]: Using backend ThreadingBackend with 12 concurrent workers.\n",
      "[Parallel(n_jobs=12)]: Done  26 tasks      | elapsed:    1.1s\n",
      "[Parallel(n_jobs=12)]: Done 100 out of 100 | elapsed:    2.8s finished\n"
     ]
    },
    {
     "name": "stdout",
     "output_type": "stream",
     "text": [
      "Class prediction was successful without slicing!\n",
      "No slicing was necessary!\n",
      "Image saved to: local_model_outputs_classifier_prob_habitat_suitability_CCAP_NORTH_east_coast_USA_13_4000_1000_all_predictors_depth_None/output_2023-08-04-08_04_45_64.tif\n",
      "\n",
      "\n",
      "\n",
      "\n",
      "Starting image: /Users/margauxmforstyhe/Desktop/workspace/wetlands_labs/CCAP boundaries/north_east_coast/tiles_north_east_coast_ccap_mapping_bndry_gridded_50km_50km_classes_13_CCAP_scale30/inference_tiles_scale30_378.tif\n",
      "Image opened\n"
     ]
    },
    {
     "name": "stderr",
     "output_type": "stream",
     "text": [
      "[Parallel(n_jobs=12)]: Using backend ThreadingBackend with 12 concurrent workers.\n",
      "[Parallel(n_jobs=12)]: Done  26 tasks      | elapsed:    1.6s\n",
      "[Parallel(n_jobs=12)]: Done 100 out of 100 | elapsed:    4.5s finished\n"
     ]
    },
    {
     "name": "stdout",
     "output_type": "stream",
     "text": [
      "Class prediction was successful without slicing!\n",
      "No slicing was necessary!\n",
      "Image saved to: local_model_outputs_classifier_prob_habitat_suitability_CCAP_NORTH_east_coast_USA_13_4000_1000_all_predictors_depth_None/output_2023-08-04-08_04_51_65.tif\n",
      "\n",
      "\n",
      "\n",
      "\n",
      "Starting image: /Users/margauxmforstyhe/Desktop/workspace/wetlands_labs/CCAP boundaries/north_east_coast/tiles_north_east_coast_ccap_mapping_bndry_gridded_50km_50km_classes_13_CCAP_scale30/inference_tiles_scale30_79.tif\n",
      "Image opened\n"
     ]
    },
    {
     "name": "stderr",
     "output_type": "stream",
     "text": [
      "[Parallel(n_jobs=12)]: Using backend ThreadingBackend with 12 concurrent workers.\n",
      "[Parallel(n_jobs=12)]: Done  26 tasks      | elapsed:    0.6s\n",
      "[Parallel(n_jobs=12)]: Done 100 out of 100 | elapsed:    1.9s finished\n"
     ]
    },
    {
     "name": "stdout",
     "output_type": "stream",
     "text": [
      "Class prediction was successful without slicing!\n",
      "No slicing was necessary!\n",
      "Image saved to: local_model_outputs_classifier_prob_habitat_suitability_CCAP_NORTH_east_coast_USA_13_4000_1000_all_predictors_depth_None/output_2023-08-04-08_04_53_66.tif\n",
      "\n",
      "\n",
      "\n",
      "\n",
      "Starting image: /Users/margauxmforstyhe/Desktop/workspace/wetlands_labs/CCAP boundaries/north_east_coast/tiles_north_east_coast_ccap_mapping_bndry_gridded_50km_50km_classes_13_CCAP_scale30/inference_tiles_scale30_408.tif\n",
      "Image opened\n"
     ]
    },
    {
     "name": "stderr",
     "output_type": "stream",
     "text": [
      "[Parallel(n_jobs=12)]: Using backend ThreadingBackend with 12 concurrent workers.\n",
      "[Parallel(n_jobs=12)]: Done  26 tasks      | elapsed:    1.6s\n",
      "[Parallel(n_jobs=12)]: Done 100 out of 100 | elapsed:    4.7s finished\n"
     ]
    },
    {
     "name": "stdout",
     "output_type": "stream",
     "text": [
      "Class prediction was successful without slicing!\n",
      "No slicing was necessary!\n",
      "Image saved to: local_model_outputs_classifier_prob_habitat_suitability_CCAP_NORTH_east_coast_USA_13_4000_1000_all_predictors_depth_None/output_2023-08-04-08_04_59_67.tif\n",
      "\n",
      "\n",
      "\n",
      "\n",
      "Starting image: /Users/margauxmforstyhe/Desktop/workspace/wetlands_labs/CCAP boundaries/north_east_coast/tiles_north_east_coast_ccap_mapping_bndry_gridded_50km_50km_classes_13_CCAP_scale30/inference_tiles_scale30_346.tif\n",
      "Image opened\n"
     ]
    },
    {
     "name": "stderr",
     "output_type": "stream",
     "text": [
      "[Parallel(n_jobs=12)]: Using backend ThreadingBackend with 12 concurrent workers.\n",
      "[Parallel(n_jobs=12)]: Done  26 tasks      | elapsed:    0.2s\n",
      "[Parallel(n_jobs=12)]: Done 100 out of 100 | elapsed:    0.5s finished\n"
     ]
    },
    {
     "name": "stdout",
     "output_type": "stream",
     "text": [
      "Class prediction was successful without slicing!\n",
      "No slicing was necessary!\n",
      "Image saved to: local_model_outputs_classifier_prob_habitat_suitability_CCAP_NORTH_east_coast_USA_13_4000_1000_all_predictors_depth_None/output_2023-08-04-08_04_59_68.tif\n",
      "\n",
      "\n",
      "\n",
      "\n",
      "Starting image: /Users/margauxmforstyhe/Desktop/workspace/wetlands_labs/CCAP boundaries/north_east_coast/tiles_north_east_coast_ccap_mapping_bndry_gridded_50km_50km_classes_13_CCAP_scale30/inference_tiles_scale30_45.tif\n",
      "Image opened\n"
     ]
    },
    {
     "name": "stderr",
     "output_type": "stream",
     "text": [
      "[Parallel(n_jobs=12)]: Using backend ThreadingBackend with 12 concurrent workers.\n",
      "[Parallel(n_jobs=12)]: Done  26 tasks      | elapsed:    1.7s\n",
      "[Parallel(n_jobs=12)]: Done 100 out of 100 | elapsed:    4.9s finished\n"
     ]
    },
    {
     "name": "stdout",
     "output_type": "stream",
     "text": [
      "Class prediction was successful without slicing!\n",
      "No slicing was necessary!\n",
      "Image saved to: local_model_outputs_classifier_prob_habitat_suitability_CCAP_NORTH_east_coast_USA_13_4000_1000_all_predictors_depth_None/output_2023-08-04-08_05_05_69.tif\n",
      "\n",
      "\n",
      "\n",
      "\n",
      "Starting image: /Users/margauxmforstyhe/Desktop/workspace/wetlands_labs/CCAP boundaries/north_east_coast/tiles_north_east_coast_ccap_mapping_bndry_gridded_50km_50km_classes_13_CCAP_scale30/inference_tiles_scale30_420.tif\n",
      "Image opened\n"
     ]
    },
    {
     "name": "stderr",
     "output_type": "stream",
     "text": [
      "[Parallel(n_jobs=12)]: Using backend ThreadingBackend with 12 concurrent workers.\n",
      "[Parallel(n_jobs=12)]: Done  26 tasks      | elapsed:    1.0s\n",
      "[Parallel(n_jobs=12)]: Done 100 out of 100 | elapsed:    2.6s finished\n"
     ]
    },
    {
     "name": "stdout",
     "output_type": "stream",
     "text": [
      "Class prediction was successful without slicing!\n",
      "No slicing was necessary!\n",
      "Image saved to: local_model_outputs_classifier_prob_habitat_suitability_CCAP_NORTH_east_coast_USA_13_4000_1000_all_predictors_depth_None/output_2023-08-04-08_05_08_70.tif\n",
      "\n",
      "\n",
      "\n",
      "\n",
      "Starting image: /Users/margauxmforstyhe/Desktop/workspace/wetlands_labs/CCAP boundaries/north_east_coast/tiles_north_east_coast_ccap_mapping_bndry_gridded_50km_50km_classes_13_CCAP_scale30/inference_tiles_scale30_434.tif\n",
      "Image opened\n"
     ]
    },
    {
     "name": "stderr",
     "output_type": "stream",
     "text": [
      "[Parallel(n_jobs=12)]: Using backend ThreadingBackend with 12 concurrent workers.\n",
      "[Parallel(n_jobs=12)]: Done  26 tasks      | elapsed:    1.0s\n",
      "[Parallel(n_jobs=12)]: Done 100 out of 100 | elapsed:    3.0s finished\n"
     ]
    },
    {
     "name": "stdout",
     "output_type": "stream",
     "text": [
      "Class prediction was successful without slicing!\n",
      "No slicing was necessary!\n",
      "Image saved to: local_model_outputs_classifier_prob_habitat_suitability_CCAP_NORTH_east_coast_USA_13_4000_1000_all_predictors_depth_None/output_2023-08-04-08_05_12_71.tif\n",
      "\n",
      "\n",
      "\n",
      "\n",
      "Starting image: /Users/margauxmforstyhe/Desktop/workspace/wetlands_labs/CCAP boundaries/north_east_coast/tiles_north_east_coast_ccap_mapping_bndry_gridded_50km_50km_classes_13_CCAP_scale30/inference_tiles_scale30_352.tif\n",
      "Image opened\n"
     ]
    },
    {
     "name": "stderr",
     "output_type": "stream",
     "text": [
      "[Parallel(n_jobs=12)]: Using backend ThreadingBackend with 12 concurrent workers.\n",
      "[Parallel(n_jobs=12)]: Done  26 tasks      | elapsed:    1.9s\n",
      "[Parallel(n_jobs=12)]: Done 100 out of 100 | elapsed:    5.0s finished\n"
     ]
    },
    {
     "name": "stdout",
     "output_type": "stream",
     "text": [
      "Class prediction was successful without slicing!\n",
      "No slicing was necessary!\n",
      "Image saved to: local_model_outputs_classifier_prob_habitat_suitability_CCAP_NORTH_east_coast_USA_13_4000_1000_all_predictors_depth_None/output_2023-08-04-08_05_17_72.tif\n",
      "\n",
      "\n",
      "\n",
      "\n",
      "Starting image: /Users/margauxmforstyhe/Desktop/workspace/wetlands_labs/CCAP boundaries/north_east_coast/tiles_north_east_coast_ccap_mapping_bndry_gridded_50km_50km_classes_13_CCAP_scale30/inference_tiles_scale30_51.tif\n",
      "Image opened\n"
     ]
    },
    {
     "name": "stderr",
     "output_type": "stream",
     "text": [
      "[Parallel(n_jobs=12)]: Using backend ThreadingBackend with 12 concurrent workers.\n",
      "[Parallel(n_jobs=12)]: Done  26 tasks      | elapsed:    1.7s\n",
      "[Parallel(n_jobs=12)]: Done 100 out of 100 | elapsed:    4.8s finished\n"
     ]
    },
    {
     "name": "stdout",
     "output_type": "stream",
     "text": [
      "Class prediction was successful without slicing!\n",
      "No slicing was necessary!\n",
      "Image saved to: local_model_outputs_classifier_prob_habitat_suitability_CCAP_NORTH_east_coast_USA_13_4000_1000_all_predictors_depth_None/output_2023-08-04-08_05_23_73.tif\n",
      "\n",
      "\n",
      "\n",
      "\n",
      "Starting image: /Users/margauxmforstyhe/Desktop/workspace/wetlands_labs/CCAP boundaries/north_east_coast/tiles_north_east_coast_ccap_mapping_bndry_gridded_50km_50km_classes_13_CCAP_scale30/inference_tiles_scale30_86.tif\n",
      "Image opened\n"
     ]
    },
    {
     "name": "stderr",
     "output_type": "stream",
     "text": [
      "[Parallel(n_jobs=12)]: Using backend ThreadingBackend with 12 concurrent workers.\n",
      "[Parallel(n_jobs=12)]: Done  26 tasks      | elapsed:    0.6s\n",
      "[Parallel(n_jobs=12)]: Done 100 out of 100 | elapsed:    1.8s finished\n"
     ]
    },
    {
     "name": "stdout",
     "output_type": "stream",
     "text": [
      "Class prediction was successful without slicing!\n",
      "No slicing was necessary!\n",
      "Image saved to: local_model_outputs_classifier_prob_habitat_suitability_CCAP_NORTH_east_coast_USA_13_4000_1000_all_predictors_depth_None/output_2023-08-04-08_05_25_74.tif\n",
      "\n",
      "\n",
      "\n",
      "\n",
      "Starting image: /Users/margauxmforstyhe/Desktop/workspace/wetlands_labs/CCAP boundaries/north_east_coast/tiles_north_east_coast_ccap_mapping_bndry_gridded_50km_50km_classes_13_CCAP_scale30/inference_tiles_scale30_385.tif\n",
      "Image opened\n"
     ]
    },
    {
     "name": "stderr",
     "output_type": "stream",
     "text": [
      "[Parallel(n_jobs=12)]: Using backend ThreadingBackend with 12 concurrent workers.\n",
      "[Parallel(n_jobs=12)]: Done  26 tasks      | elapsed:    1.0s\n",
      "[Parallel(n_jobs=12)]: Done 100 out of 100 | elapsed:    3.1s finished\n"
     ]
    },
    {
     "name": "stdout",
     "output_type": "stream",
     "text": [
      "Class prediction was successful without slicing!\n",
      "No slicing was necessary!\n",
      "Image saved to: local_model_outputs_classifier_prob_habitat_suitability_CCAP_NORTH_east_coast_USA_13_4000_1000_all_predictors_depth_None/output_2023-08-04-08_05_29_75.tif\n",
      "\n",
      "\n",
      "\n",
      "\n",
      "Starting image: /Users/margauxmforstyhe/Desktop/workspace/wetlands_labs/CCAP boundaries/north_east_coast/tiles_north_east_coast_ccap_mapping_bndry_gridded_50km_50km_classes_13_CCAP_scale30/inference_tiles_scale30_92.tif\n",
      "Image opened\n"
     ]
    },
    {
     "name": "stderr",
     "output_type": "stream",
     "text": [
      "[Parallel(n_jobs=12)]: Using backend ThreadingBackend with 12 concurrent workers.\n",
      "[Parallel(n_jobs=12)]: Done  26 tasks      | elapsed:    1.5s\n",
      "[Parallel(n_jobs=12)]: Done 100 out of 100 | elapsed:    4.2s finished\n"
     ]
    },
    {
     "name": "stdout",
     "output_type": "stream",
     "text": [
      "Class prediction was successful without slicing!\n",
      "No slicing was necessary!\n",
      "Image saved to: local_model_outputs_classifier_prob_habitat_suitability_CCAP_NORTH_east_coast_USA_13_4000_1000_all_predictors_depth_None/output_2023-08-04-08_05_34_76.tif\n",
      "\n",
      "\n",
      "\n",
      "\n",
      "Starting image: /Users/margauxmforstyhe/Desktop/workspace/wetlands_labs/CCAP boundaries/north_east_coast/tiles_north_east_coast_ccap_mapping_bndry_gridded_50km_50km_classes_13_CCAP_scale30/inference_tiles_scale30_391.tif\n",
      "Image opened\n"
     ]
    },
    {
     "name": "stderr",
     "output_type": "stream",
     "text": [
      "[Parallel(n_jobs=12)]: Using backend ThreadingBackend with 12 concurrent workers.\n",
      "[Parallel(n_jobs=12)]: Done  26 tasks      | elapsed:    0.5s\n",
      "[Parallel(n_jobs=12)]: Done 100 out of 100 | elapsed:    1.4s finished\n"
     ]
    },
    {
     "name": "stdout",
     "output_type": "stream",
     "text": [
      "Class prediction was successful without slicing!\n",
      "No slicing was necessary!\n",
      "Image saved to: local_model_outputs_classifier_prob_habitat_suitability_CCAP_NORTH_east_coast_USA_13_4000_1000_all_predictors_depth_None/output_2023-08-04-08_05_36_77.tif\n",
      "\n",
      "\n",
      "\n",
      "\n",
      "Starting image: /Users/margauxmforstyhe/Desktop/workspace/wetlands_labs/CCAP boundaries/north_east_coast/tiles_north_east_coast_ccap_mapping_bndry_gridded_50km_50km_classes_13_CCAP_scale30/inference_tiles_scale30_178.tif\n",
      "Image opened\n"
     ]
    },
    {
     "name": "stderr",
     "output_type": "stream",
     "text": [
      "[Parallel(n_jobs=12)]: Using backend ThreadingBackend with 12 concurrent workers.\n",
      "[Parallel(n_jobs=12)]: Done  26 tasks      | elapsed:    1.7s\n",
      "[Parallel(n_jobs=12)]: Done 100 out of 100 | elapsed:    5.0s finished\n",
      "[Parallel(n_jobs=12)]: Using backend ThreadingBackend with 12 concurrent workers.\n",
      "[Parallel(n_jobs=12)]: Done  26 tasks      | elapsed:    0.0s\n",
      "[Parallel(n_jobs=12)]: Done 100 out of 100 | elapsed:    0.0s finished\n"
     ]
    },
    {
     "name": "stdout",
     "output_type": "stream",
     "text": [
      "Class prediction was successful without slicing!\n",
      "No slicing was necessary!\n",
      "Image saved to: local_model_outputs_classifier_prob_habitat_suitability_CCAP_NORTH_east_coast_USA_13_4000_1000_all_predictors_depth_None/output_2023-08-04-08_05_42_78.tif\n",
      "\n",
      "\n",
      "\n",
      "\n",
      "Starting image: /Users/margauxmforstyhe/Desktop/workspace/wetlands_labs/CCAP boundaries/north_east_coast/tiles_north_east_coast_ccap_mapping_bndry_gridded_50km_50km_classes_13_CCAP_scale30/inference_tiles_scale30_622.tif\n",
      "Image opened\n",
      "Class prediction was successful without slicing!\n",
      "No slicing was necessary!\n",
      "Image saved to: local_model_outputs_classifier_prob_habitat_suitability_CCAP_NORTH_east_coast_USA_13_4000_1000_all_predictors_depth_None/output_2023-08-04-08_05_42_79.tif\n",
      "\n",
      "\n",
      "\n",
      "\n",
      "Starting image: /Users/margauxmforstyhe/Desktop/workspace/wetlands_labs/CCAP boundaries/north_east_coast/tiles_north_east_coast_ccap_mapping_bndry_gridded_50km_50km_classes_13_CCAP_scale30/inference_tiles_scale30_144.tif\n",
      "Image opened\n"
     ]
    },
    {
     "name": "stderr",
     "output_type": "stream",
     "text": [
      "[Parallel(n_jobs=12)]: Using backend ThreadingBackend with 12 concurrent workers.\n",
      "[Parallel(n_jobs=12)]: Done  26 tasks      | elapsed:    0.6s\n",
      "[Parallel(n_jobs=12)]: Done 100 out of 100 | elapsed:    1.9s finished\n"
     ]
    },
    {
     "name": "stdout",
     "output_type": "stream",
     "text": [
      "Class prediction was successful without slicing!\n",
      "No slicing was necessary!\n",
      "Image saved to: local_model_outputs_classifier_prob_habitat_suitability_CCAP_NORTH_east_coast_USA_13_4000_1000_all_predictors_depth_None/output_2023-08-04-08_05_44_80.tif\n",
      "\n",
      "\n",
      "\n",
      "\n",
      "Starting image: /Users/margauxmforstyhe/Desktop/workspace/wetlands_labs/CCAP boundaries/north_east_coast/tiles_north_east_coast_ccap_mapping_bndry_gridded_50km_50km_classes_13_CCAP_scale30/inference_tiles_scale30_150.tif\n",
      "Image opened\n"
     ]
    },
    {
     "name": "stderr",
     "output_type": "stream",
     "text": [
      "[Parallel(n_jobs=12)]: Using backend ThreadingBackend with 12 concurrent workers.\n",
      "[Parallel(n_jobs=12)]: Done  26 tasks      | elapsed:    1.4s\n",
      "[Parallel(n_jobs=12)]: Done 100 out of 100 | elapsed:    4.2s finished\n"
     ]
    },
    {
     "name": "stdout",
     "output_type": "stream",
     "text": [
      "Class prediction was successful without slicing!\n",
      "No slicing was necessary!\n",
      "Image saved to: local_model_outputs_classifier_prob_habitat_suitability_CCAP_NORTH_east_coast_USA_13_4000_1000_all_predictors_depth_None/output_2023-08-04-08_05_49_81.tif\n",
      "\n",
      "\n",
      "\n",
      "\n",
      "Starting image: /Users/margauxmforstyhe/Desktop/workspace/wetlands_labs/CCAP boundaries/north_east_coast/tiles_north_east_coast_ccap_mapping_bndry_gridded_50km_50km_classes_13_CCAP_scale30/inference_tiles_scale30_636.tif\n",
      "Image opened\n"
     ]
    },
    {
     "name": "stderr",
     "output_type": "stream",
     "text": [
      "[Parallel(n_jobs=12)]: Using backend ThreadingBackend with 12 concurrent workers.\n",
      "[Parallel(n_jobs=12)]: Done  26 tasks      | elapsed:    1.0s\n",
      "[Parallel(n_jobs=12)]: Done 100 out of 100 | elapsed:    2.7s finished\n"
     ]
    },
    {
     "name": "stdout",
     "output_type": "stream",
     "text": [
      "Class prediction was successful without slicing!\n",
      "No slicing was necessary!\n",
      "Image saved to: local_model_outputs_classifier_prob_habitat_suitability_CCAP_NORTH_east_coast_USA_13_4000_1000_all_predictors_depth_None/output_2023-08-04-08_05_53_82.tif\n",
      "\n",
      "\n",
      "\n",
      "\n",
      "Starting image: /Users/margauxmforstyhe/Desktop/workspace/wetlands_labs/CCAP boundaries/north_east_coast/tiles_north_east_coast_ccap_mapping_bndry_gridded_50km_50km_classes_13_CCAP_scale30/inference_tiles_scale30_805.tif\n",
      "Image opened\n"
     ]
    },
    {
     "name": "stderr",
     "output_type": "stream",
     "text": [
      "[Parallel(n_jobs=12)]: Using backend ThreadingBackend with 12 concurrent workers.\n",
      "[Parallel(n_jobs=12)]: Done  26 tasks      | elapsed:    1.7s\n",
      "[Parallel(n_jobs=12)]: Done 100 out of 100 | elapsed:    4.4s finished\n"
     ]
    },
    {
     "name": "stdout",
     "output_type": "stream",
     "text": [
      "Class prediction was successful without slicing!\n",
      "No slicing was necessary!\n",
      "Image saved to: local_model_outputs_classifier_prob_habitat_suitability_CCAP_NORTH_east_coast_USA_13_4000_1000_all_predictors_depth_None/output_2023-08-04-08_05_58_83.tif\n",
      "\n",
      "\n",
      "\n",
      "\n",
      "Starting image: /Users/margauxmforstyhe/Desktop/workspace/wetlands_labs/CCAP boundaries/north_east_coast/tiles_north_east_coast_ccap_mapping_bndry_gridded_50km_50km_classes_13_CCAP_scale30/inference_tiles_scale30_811.tif\n",
      "Image opened\n"
     ]
    },
    {
     "name": "stderr",
     "output_type": "stream",
     "text": [
      "[Parallel(n_jobs=12)]: Using backend ThreadingBackend with 12 concurrent workers.\n",
      "[Parallel(n_jobs=12)]: Done  26 tasks      | elapsed:    1.7s\n",
      "[Parallel(n_jobs=12)]: Done 100 out of 100 | elapsed:    4.4s finished\n"
     ]
    },
    {
     "name": "stdout",
     "output_type": "stream",
     "text": [
      "Class prediction was successful without slicing!\n",
      "No slicing was necessary!\n",
      "Image saved to: local_model_outputs_classifier_prob_habitat_suitability_CCAP_NORTH_east_coast_USA_13_4000_1000_all_predictors_depth_None/output_2023-08-04-08_06_03_84.tif\n",
      "\n",
      "\n",
      "\n",
      "\n",
      "Starting image: /Users/margauxmforstyhe/Desktop/workspace/wetlands_labs/CCAP boundaries/north_east_coast/tiles_north_east_coast_ccap_mapping_bndry_gridded_50km_50km_classes_13_CCAP_scale30/inference_tiles_scale30_839.tif\n",
      "Image opened\n"
     ]
    },
    {
     "name": "stderr",
     "output_type": "stream",
     "text": [
      "[Parallel(n_jobs=12)]: Using backend ThreadingBackend with 12 concurrent workers.\n",
      "[Parallel(n_jobs=12)]: Done  26 tasks      | elapsed:    1.6s\n",
      "[Parallel(n_jobs=12)]: Done 100 out of 100 | elapsed:    4.3s finished\n"
     ]
    },
    {
     "name": "stdout",
     "output_type": "stream",
     "text": [
      "Class prediction was successful without slicing!\n",
      "No slicing was necessary!\n",
      "Image saved to: local_model_outputs_classifier_prob_habitat_suitability_CCAP_NORTH_east_coast_USA_13_4000_1000_all_predictors_depth_None/output_2023-08-04-08_06_08_85.tif\n",
      "\n",
      "\n",
      "\n",
      "\n",
      "Starting image: /Users/margauxmforstyhe/Desktop/workspace/wetlands_labs/CCAP boundaries/north_east_coast/tiles_north_east_coast_ccap_mapping_bndry_gridded_50km_50km_classes_13_CCAP_scale30/inference_tiles_scale30_187.tif\n",
      "Image opened\n"
     ]
    },
    {
     "name": "stderr",
     "output_type": "stream",
     "text": [
      "[Parallel(n_jobs=12)]: Using backend ThreadingBackend with 12 concurrent workers.\n",
      "[Parallel(n_jobs=12)]: Done  26 tasks      | elapsed:    1.5s\n",
      "[Parallel(n_jobs=12)]: Done 100 out of 100 | elapsed:    4.5s finished\n"
     ]
    },
    {
     "name": "stdout",
     "output_type": "stream",
     "text": [
      "Class prediction was successful without slicing!\n",
      "No slicing was necessary!\n",
      "Image saved to: local_model_outputs_classifier_prob_habitat_suitability_CCAP_NORTH_east_coast_USA_13_4000_1000_all_predictors_depth_None/output_2023-08-04-08_06_13_86.tif\n",
      "\n",
      "\n",
      "\n",
      "\n",
      "Starting image: /Users/margauxmforstyhe/Desktop/workspace/wetlands_labs/CCAP boundaries/north_east_coast/tiles_north_east_coast_ccap_mapping_bndry_gridded_50km_50km_classes_13_CCAP_scale30/inference_tiles_scale30_193.tif\n",
      "Image opened\n"
     ]
    },
    {
     "name": "stderr",
     "output_type": "stream",
     "text": [
      "[Parallel(n_jobs=12)]: Using backend ThreadingBackend with 12 concurrent workers.\n",
      "[Parallel(n_jobs=12)]: Done  26 tasks      | elapsed:    1.8s\n",
      "[Parallel(n_jobs=12)]: Done 100 out of 100 | elapsed:    5.2s finished\n"
     ]
    },
    {
     "name": "stdout",
     "output_type": "stream",
     "text": [
      "Class prediction was successful without slicing!\n",
      "No slicing was necessary!\n",
      "Image saved to: local_model_outputs_classifier_prob_habitat_suitability_CCAP_NORTH_east_coast_USA_13_4000_1000_all_predictors_depth_None/output_2023-08-04-08_06_19_87.tif\n",
      "\n",
      "\n",
      "\n",
      "\n",
      "Starting image: /Users/margauxmforstyhe/Desktop/workspace/wetlands_labs/CCAP boundaries/north_east_coast/tiles_north_east_coast_ccap_mapping_bndry_gridded_50km_50km_classes_13_CCAP_scale30/inference_tiles_scale30_756.tif\n",
      "Image opened\n"
     ]
    },
    {
     "name": "stderr",
     "output_type": "stream",
     "text": [
      "[Parallel(n_jobs=12)]: Using backend ThreadingBackend with 12 concurrent workers.\n",
      "[Parallel(n_jobs=12)]: Done  26 tasks      | elapsed:    0.8s\n",
      "[Parallel(n_jobs=12)]: Done 100 out of 100 | elapsed:    2.2s finished\n",
      "[Parallel(n_jobs=12)]: Using backend ThreadingBackend with 12 concurrent workers.\n",
      "[Parallel(n_jobs=12)]: Done  26 tasks      | elapsed:    0.0s\n",
      "[Parallel(n_jobs=12)]: Done 100 out of 100 | elapsed:    0.0s finished\n"
     ]
    },
    {
     "name": "stdout",
     "output_type": "stream",
     "text": [
      "Class prediction was successful without slicing!\n",
      "No slicing was necessary!\n",
      "Image saved to: local_model_outputs_classifier_prob_habitat_suitability_CCAP_NORTH_east_coast_USA_13_4000_1000_all_predictors_depth_None/output_2023-08-04-08_06_22_88.tif\n",
      "\n",
      "\n",
      "\n",
      "\n",
      "Starting image: /Users/margauxmforstyhe/Desktop/workspace/wetlands_labs/CCAP boundaries/north_east_coast/tiles_north_east_coast_ccap_mapping_bndry_gridded_50km_50km_classes_13_CCAP_scale30/inference_tiles_scale30_742.tif\n",
      "Image opened\n",
      "Class prediction was successful without slicing!\n",
      "No slicing was necessary!\n",
      "Image saved to: local_model_outputs_classifier_prob_habitat_suitability_CCAP_NORTH_east_coast_USA_13_4000_1000_all_predictors_depth_None/output_2023-08-04-08_06_22_89.tif\n",
      "\n",
      "\n",
      "\n",
      "\n",
      "Starting image: /Users/margauxmforstyhe/Desktop/workspace/wetlands_labs/CCAP boundaries/north_east_coast/tiles_north_east_coast_ccap_mapping_bndry_gridded_50km_50km_classes_13_CCAP_scale30/inference_tiles_scale30_795.tif\n",
      "Image opened\n"
     ]
    },
    {
     "name": "stderr",
     "output_type": "stream",
     "text": [
      "[Parallel(n_jobs=12)]: Using backend ThreadingBackend with 12 concurrent workers.\n",
      "[Parallel(n_jobs=12)]: Done  26 tasks      | elapsed:    2.8s\n",
      "[Parallel(n_jobs=12)]: Done 100 out of 100 | elapsed:    6.3s finished\n"
     ]
    },
    {
     "name": "stdout",
     "output_type": "stream",
     "text": [
      "Class prediction was successful without slicing!\n",
      "No slicing was necessary!\n",
      "Image saved to: local_model_outputs_classifier_prob_habitat_suitability_CCAP_NORTH_east_coast_USA_13_4000_1000_all_predictors_depth_None/output_2023-08-04-08_06_29_90.tif\n",
      "\n",
      "\n",
      "\n",
      "\n",
      "Starting image: /Users/margauxmforstyhe/Desktop/workspace/wetlands_labs/CCAP boundaries/north_east_coast/tiles_north_east_coast_ccap_mapping_bndry_gridded_50km_50km_classes_13_CCAP_scale30/inference_tiles_scale30_781.tif\n",
      "Image opened\n"
     ]
    },
    {
     "name": "stderr",
     "output_type": "stream",
     "text": [
      "[Parallel(n_jobs=12)]: Using backend ThreadingBackend with 12 concurrent workers.\n",
      "[Parallel(n_jobs=12)]: Done  26 tasks      | elapsed:    1.2s\n",
      "[Parallel(n_jobs=12)]: Done 100 out of 100 | elapsed:    3.4s finished\n"
     ]
    },
    {
     "name": "stdout",
     "output_type": "stream",
     "text": [
      "Class prediction was successful without slicing!\n",
      "No slicing was necessary!\n",
      "Image saved to: local_model_outputs_classifier_prob_habitat_suitability_CCAP_NORTH_east_coast_USA_13_4000_1000_all_predictors_depth_None/output_2023-08-04-08_06_33_91.tif\n",
      "\n",
      "\n",
      "\n",
      "\n",
      "Starting image: /Users/margauxmforstyhe/Desktop/workspace/wetlands_labs/CCAP boundaries/north_east_coast/tiles_north_east_coast_ccap_mapping_bndry_gridded_50km_50km_classes_13_CCAP_scale30/inference_tiles_scale30_568.tif\n",
      "Image opened\n"
     ]
    },
    {
     "name": "stderr",
     "output_type": "stream",
     "text": [
      "[Parallel(n_jobs=12)]: Using backend ThreadingBackend with 12 concurrent workers.\n",
      "[Parallel(n_jobs=12)]: Done  26 tasks      | elapsed:    1.5s\n",
      "[Parallel(n_jobs=12)]: Done 100 out of 100 | elapsed:    4.4s finished\n"
     ]
    },
    {
     "name": "stdout",
     "output_type": "stream",
     "text": [
      "Class prediction was successful without slicing!\n",
      "No slicing was necessary!\n",
      "Image saved to: local_model_outputs_classifier_prob_habitat_suitability_CCAP_NORTH_east_coast_USA_13_4000_1000_all_predictors_depth_None/output_2023-08-04-08_06_39_92.tif\n",
      "\n",
      "\n",
      "\n",
      "\n",
      "Starting image: /Users/margauxmforstyhe/Desktop/workspace/wetlands_labs/CCAP boundaries/north_east_coast/tiles_north_east_coast_ccap_mapping_bndry_gridded_50km_50km_classes_13_CCAP_scale30/inference_tiles_scale30_232.tif\n",
      "Image opened\n"
     ]
    },
    {
     "name": "stderr",
     "output_type": "stream",
     "text": [
      "[Parallel(n_jobs=12)]: Using backend ThreadingBackend with 12 concurrent workers.\n",
      "[Parallel(n_jobs=12)]: Done  26 tasks      | elapsed:    0.9s\n",
      "[Parallel(n_jobs=12)]: Done 100 out of 100 | elapsed:    3.0s finished\n"
     ]
    },
    {
     "name": "stdout",
     "output_type": "stream",
     "text": [
      "Class prediction was successful without slicing!\n",
      "No slicing was necessary!\n",
      "Image saved to: local_model_outputs_classifier_prob_habitat_suitability_CCAP_NORTH_east_coast_USA_13_4000_1000_all_predictors_depth_None/output_2023-08-04-08_06_42_93.tif\n",
      "\n",
      "\n",
      "\n",
      "\n",
      "Starting image: /Users/margauxmforstyhe/Desktop/workspace/wetlands_labs/CCAP boundaries/north_east_coast/tiles_north_east_coast_ccap_mapping_bndry_gridded_50km_50km_classes_13_CCAP_scale30/inference_tiles_scale30_554.tif\n",
      "Image opened\n"
     ]
    },
    {
     "name": "stderr",
     "output_type": "stream",
     "text": [
      "[Parallel(n_jobs=12)]: Using backend ThreadingBackend with 12 concurrent workers.\n",
      "[Parallel(n_jobs=12)]: Done  26 tasks      | elapsed:    1.3s\n",
      "[Parallel(n_jobs=12)]: Done 100 out of 100 | elapsed:    3.4s finished\n"
     ]
    },
    {
     "name": "stdout",
     "output_type": "stream",
     "text": [
      "Class prediction was successful without slicing!\n",
      "No slicing was necessary!\n",
      "Image saved to: local_model_outputs_classifier_prob_habitat_suitability_CCAP_NORTH_east_coast_USA_13_4000_1000_all_predictors_depth_None/output_2023-08-04-08_06_46_94.tif\n",
      "\n",
      "\n",
      "\n",
      "\n",
      "Starting image: /Users/margauxmforstyhe/Desktop/workspace/wetlands_labs/CCAP boundaries/north_east_coast/tiles_north_east_coast_ccap_mapping_bndry_gridded_50km_50km_classes_13_CCAP_scale30/inference_tiles_scale30_540.tif\n",
      "Image opened\n"
     ]
    },
    {
     "name": "stderr",
     "output_type": "stream",
     "text": [
      "[Parallel(n_jobs=12)]: Using backend ThreadingBackend with 12 concurrent workers.\n",
      "[Parallel(n_jobs=12)]: Done  26 tasks      | elapsed:    0.2s\n",
      "[Parallel(n_jobs=12)]: Done 100 out of 100 | elapsed:    0.6s finished\n"
     ]
    },
    {
     "name": "stdout",
     "output_type": "stream",
     "text": [
      "Class prediction was successful without slicing!\n",
      "No slicing was necessary!\n",
      "Image saved to: local_model_outputs_classifier_prob_habitat_suitability_CCAP_NORTH_east_coast_USA_13_4000_1000_all_predictors_depth_None/output_2023-08-04-08_06_47_95.tif\n",
      "\n",
      "\n",
      "\n",
      "\n",
      "Starting image: /Users/margauxmforstyhe/Desktop/workspace/wetlands_labs/CCAP boundaries/north_east_coast/tiles_north_east_coast_ccap_mapping_bndry_gridded_50km_50km_classes_13_CCAP_scale30/inference_tiles_scale30_226.tif\n",
      "Image opened\n"
     ]
    },
    {
     "name": "stderr",
     "output_type": "stream",
     "text": [
      "[Parallel(n_jobs=12)]: Using backend ThreadingBackend with 12 concurrent workers.\n",
      "[Parallel(n_jobs=12)]: Done  26 tasks      | elapsed:    1.3s\n",
      "[Parallel(n_jobs=12)]: Done 100 out of 100 | elapsed:    3.7s finished\n"
     ]
    },
    {
     "name": "stdout",
     "output_type": "stream",
     "text": [
      "Class prediction was successful without slicing!\n",
      "No slicing was necessary!\n",
      "Image saved to: local_model_outputs_classifier_prob_habitat_suitability_CCAP_NORTH_east_coast_USA_13_4000_1000_all_predictors_depth_None/output_2023-08-04-08_06_52_96.tif\n",
      "\n",
      "\n",
      "\n",
      "\n",
      "Starting image: /Users/margauxmforstyhe/Desktop/workspace/wetlands_labs/CCAP boundaries/north_east_coast/tiles_north_east_coast_ccap_mapping_bndry_gridded_50km_50km_classes_13_CCAP_scale30/inference_tiles_scale30_597.tif\n",
      "Image opened\n"
     ]
    },
    {
     "name": "stderr",
     "output_type": "stream",
     "text": [
      "[Parallel(n_jobs=12)]: Using backend ThreadingBackend with 12 concurrent workers.\n",
      "[Parallel(n_jobs=12)]: Done  26 tasks      | elapsed:    1.0s\n",
      "[Parallel(n_jobs=12)]: Done 100 out of 100 | elapsed:    2.9s finished\n"
     ]
    },
    {
     "name": "stdout",
     "output_type": "stream",
     "text": [
      "Class prediction was successful without slicing!\n",
      "No slicing was necessary!\n",
      "Image saved to: local_model_outputs_classifier_prob_habitat_suitability_CCAP_NORTH_east_coast_USA_13_4000_1000_all_predictors_depth_None/output_2023-08-04-08_06_55_97.tif\n",
      "\n",
      "\n",
      "\n",
      "\n",
      "Starting image: /Users/margauxmforstyhe/Desktop/workspace/wetlands_labs/CCAP boundaries/north_east_coast/tiles_north_east_coast_ccap_mapping_bndry_gridded_50km_50km_classes_13_CCAP_scale30/inference_tiles_scale30_583.tif\n",
      "Image opened\n"
     ]
    },
    {
     "name": "stderr",
     "output_type": "stream",
     "text": [
      "[Parallel(n_jobs=12)]: Using backend ThreadingBackend with 12 concurrent workers.\n",
      "[Parallel(n_jobs=12)]: Done  26 tasks      | elapsed:    1.7s\n",
      "[Parallel(n_jobs=12)]: Done 100 out of 100 | elapsed:    4.4s finished\n"
     ]
    },
    {
     "name": "stdout",
     "output_type": "stream",
     "text": [
      "Class prediction was successful without slicing!\n",
      "No slicing was necessary!\n",
      "Image saved to: local_model_outputs_classifier_prob_habitat_suitability_CCAP_NORTH_east_coast_USA_13_4000_1000_all_predictors_depth_None/output_2023-08-04-08_07_01_98.tif\n",
      "\n",
      "\n",
      "\n",
      "\n",
      "Starting image: /Users/margauxmforstyhe/Desktop/workspace/wetlands_labs/CCAP boundaries/north_east_coast/tiles_north_east_coast_ccap_mapping_bndry_gridded_50km_50km_classes_13_CCAP_scale30/inference_tiles_scale30_582.tif\n",
      "Image opened\n"
     ]
    },
    {
     "name": "stderr",
     "output_type": "stream",
     "text": [
      "[Parallel(n_jobs=12)]: Using backend ThreadingBackend with 12 concurrent workers.\n",
      "[Parallel(n_jobs=12)]: Done  26 tasks      | elapsed:    1.6s\n",
      "[Parallel(n_jobs=12)]: Done 100 out of 100 | elapsed:    4.4s finished\n"
     ]
    },
    {
     "name": "stdout",
     "output_type": "stream",
     "text": [
      "Class prediction was successful without slicing!\n",
      "No slicing was necessary!\n",
      "Image saved to: local_model_outputs_classifier_prob_habitat_suitability_CCAP_NORTH_east_coast_USA_13_4000_1000_all_predictors_depth_None/output_2023-08-04-08_07_06_99.tif\n",
      "\n",
      "\n",
      "\n",
      "\n",
      "Starting image: /Users/margauxmforstyhe/Desktop/workspace/wetlands_labs/CCAP boundaries/north_east_coast/tiles_north_east_coast_ccap_mapping_bndry_gridded_50km_50km_classes_13_CCAP_scale30/inference_tiles_scale30_596.tif\n",
      "Image opened\n"
     ]
    },
    {
     "name": "stderr",
     "output_type": "stream",
     "text": [
      "[Parallel(n_jobs=12)]: Using backend ThreadingBackend with 12 concurrent workers.\n",
      "[Parallel(n_jobs=12)]: Done  26 tasks      | elapsed:    1.3s\n",
      "[Parallel(n_jobs=12)]: Done 100 out of 100 | elapsed:    3.8s finished\n"
     ]
    },
    {
     "name": "stdout",
     "output_type": "stream",
     "text": [
      "Class prediction was successful without slicing!\n",
      "No slicing was necessary!\n",
      "Image saved to: local_model_outputs_classifier_prob_habitat_suitability_CCAP_NORTH_east_coast_USA_13_4000_1000_all_predictors_depth_None/output_2023-08-04-08_07_11_100.tif\n",
      "\n",
      "\n",
      "\n",
      "\n",
      "Starting image: /Users/margauxmforstyhe/Desktop/workspace/wetlands_labs/CCAP boundaries/north_east_coast/tiles_north_east_coast_ccap_mapping_bndry_gridded_50km_50km_classes_13_CCAP_scale30/inference_tiles_scale30_541.tif\n",
      "Image opened\n"
     ]
    },
    {
     "name": "stderr",
     "output_type": "stream",
     "text": [
      "[Parallel(n_jobs=12)]: Using backend ThreadingBackend with 12 concurrent workers.\n",
      "[Parallel(n_jobs=12)]: Done  26 tasks      | elapsed:    0.6s\n",
      "[Parallel(n_jobs=12)]: Done 100 out of 100 | elapsed:    1.8s finished\n"
     ]
    },
    {
     "name": "stdout",
     "output_type": "stream",
     "text": [
      "Class prediction was successful without slicing!\n",
      "No slicing was necessary!\n",
      "Image saved to: local_model_outputs_classifier_prob_habitat_suitability_CCAP_NORTH_east_coast_USA_13_4000_1000_all_predictors_depth_None/output_2023-08-04-08_07_13_101.tif\n",
      "\n",
      "\n",
      "\n",
      "\n",
      "Starting image: /Users/margauxmforstyhe/Desktop/workspace/wetlands_labs/CCAP boundaries/north_east_coast/tiles_north_east_coast_ccap_mapping_bndry_gridded_50km_50km_classes_13_CCAP_scale30/inference_tiles_scale30_227.tif\n",
      "Image opened\n"
     ]
    },
    {
     "name": "stderr",
     "output_type": "stream",
     "text": [
      "[Parallel(n_jobs=12)]: Using backend ThreadingBackend with 12 concurrent workers.\n",
      "[Parallel(n_jobs=12)]: Done  26 tasks      | elapsed:    1.7s\n",
      "[Parallel(n_jobs=12)]: Done 100 out of 100 | elapsed:    6.9s finished\n"
     ]
    },
    {
     "name": "stdout",
     "output_type": "stream",
     "text": [
      "Class prediction was successful without slicing!\n",
      "No slicing was necessary!\n",
      "Image saved to: local_model_outputs_classifier_prob_habitat_suitability_CCAP_NORTH_east_coast_USA_13_4000_1000_all_predictors_depth_None/output_2023-08-04-08_07_21_102.tif\n",
      "\n",
      "\n",
      "\n",
      "\n",
      "Starting image: /Users/margauxmforstyhe/Desktop/workspace/wetlands_labs/CCAP boundaries/north_east_coast/tiles_north_east_coast_ccap_mapping_bndry_gridded_50km_50km_classes_13_CCAP_scale30/inference_tiles_scale30_233.tif\n",
      "Image opened\n"
     ]
    },
    {
     "name": "stderr",
     "output_type": "stream",
     "text": [
      "[Parallel(n_jobs=12)]: Using backend ThreadingBackend with 12 concurrent workers.\n",
      "[Parallel(n_jobs=12)]: Done  26 tasks      | elapsed:    1.5s\n",
      "[Parallel(n_jobs=12)]: Done 100 out of 100 | elapsed:    4.2s finished\n"
     ]
    },
    {
     "name": "stdout",
     "output_type": "stream",
     "text": [
      "Class prediction was successful without slicing!\n",
      "No slicing was necessary!\n",
      "Image saved to: local_model_outputs_classifier_prob_habitat_suitability_CCAP_NORTH_east_coast_USA_13_4000_1000_all_predictors_depth_None/output_2023-08-04-08_07_26_103.tif\n",
      "\n",
      "\n",
      "\n",
      "\n",
      "Starting image: /Users/margauxmforstyhe/Desktop/workspace/wetlands_labs/CCAP boundaries/north_east_coast/tiles_north_east_coast_ccap_mapping_bndry_gridded_50km_50km_classes_13_CCAP_scale30/inference_tiles_scale30_555.tif\n",
      "Image opened\n"
     ]
    },
    {
     "name": "stderr",
     "output_type": "stream",
     "text": [
      "[Parallel(n_jobs=12)]: Using backend ThreadingBackend with 12 concurrent workers.\n",
      "[Parallel(n_jobs=12)]: Done  26 tasks      | elapsed:    0.8s\n",
      "[Parallel(n_jobs=12)]: Done 100 out of 100 | elapsed:    2.3s finished\n"
     ]
    },
    {
     "name": "stdout",
     "output_type": "stream",
     "text": [
      "Class prediction was successful without slicing!\n",
      "No slicing was necessary!\n",
      "Image saved to: local_model_outputs_classifier_prob_habitat_suitability_CCAP_NORTH_east_coast_USA_13_4000_1000_all_predictors_depth_None/output_2023-08-04-08_07_29_104.tif\n",
      "\n",
      "\n",
      "\n",
      "\n",
      "Starting image: /Users/margauxmforstyhe/Desktop/workspace/wetlands_labs/CCAP boundaries/north_east_coast/tiles_north_east_coast_ccap_mapping_bndry_gridded_50km_50km_classes_13_CCAP_scale30/inference_tiles_scale30_569.tif\n",
      "Image opened\n"
     ]
    },
    {
     "name": "stderr",
     "output_type": "stream",
     "text": [
      "[Parallel(n_jobs=12)]: Using backend ThreadingBackend with 12 concurrent workers.\n",
      "[Parallel(n_jobs=12)]: Done  26 tasks      | elapsed:    0.3s\n",
      "[Parallel(n_jobs=12)]: Done 100 out of 100 | elapsed:    0.9s finished\n"
     ]
    },
    {
     "name": "stdout",
     "output_type": "stream",
     "text": [
      "Class prediction was successful without slicing!\n",
      "No slicing was necessary!\n",
      "Image saved to: local_model_outputs_classifier_prob_habitat_suitability_CCAP_NORTH_east_coast_USA_13_4000_1000_all_predictors_depth_None/output_2023-08-04-08_07_30_105.tif\n",
      "\n",
      "\n",
      "\n",
      "\n",
      "Starting image: /Users/margauxmforstyhe/Desktop/workspace/wetlands_labs/CCAP boundaries/north_east_coast/tiles_north_east_coast_ccap_mapping_bndry_gridded_50km_50km_classes_13_CCAP_scale30/inference_tiles_scale30_780.tif\n",
      "Image opened\n"
     ]
    },
    {
     "name": "stderr",
     "output_type": "stream",
     "text": [
      "[Parallel(n_jobs=12)]: Using backend ThreadingBackend with 12 concurrent workers.\n",
      "[Parallel(n_jobs=12)]: Done  26 tasks      | elapsed:    1.3s\n",
      "[Parallel(n_jobs=12)]: Done 100 out of 100 | elapsed:    3.8s finished\n"
     ]
    },
    {
     "name": "stdout",
     "output_type": "stream",
     "text": [
      "Class prediction was successful without slicing!\n",
      "No slicing was necessary!\n",
      "Image saved to: local_model_outputs_classifier_prob_habitat_suitability_CCAP_NORTH_east_coast_USA_13_4000_1000_all_predictors_depth_None/output_2023-08-04-08_07_34_106.tif\n",
      "\n",
      "\n",
      "\n",
      "\n",
      "Starting image: /Users/margauxmforstyhe/Desktop/workspace/wetlands_labs/CCAP boundaries/north_east_coast/tiles_north_east_coast_ccap_mapping_bndry_gridded_50km_50km_classes_13_CCAP_scale30/inference_tiles_scale30_794.tif\n",
      "Image opened\n"
     ]
    },
    {
     "name": "stderr",
     "output_type": "stream",
     "text": [
      "[Parallel(n_jobs=12)]: Using backend ThreadingBackend with 12 concurrent workers.\n",
      "[Parallel(n_jobs=12)]: Done  26 tasks      | elapsed:    1.7s\n",
      "[Parallel(n_jobs=12)]: Done 100 out of 100 | elapsed:    5.0s finished\n"
     ]
    },
    {
     "name": "stdout",
     "output_type": "stream",
     "text": [
      "Class prediction was successful without slicing!\n",
      "No slicing was necessary!\n",
      "Image saved to: local_model_outputs_classifier_prob_habitat_suitability_CCAP_NORTH_east_coast_USA_13_4000_1000_all_predictors_depth_None/output_2023-08-04-08_07_40_107.tif\n",
      "\n",
      "\n",
      "\n",
      "\n",
      "Starting image: /Users/margauxmforstyhe/Desktop/workspace/wetlands_labs/CCAP boundaries/north_east_coast/tiles_north_east_coast_ccap_mapping_bndry_gridded_50km_50km_classes_13_CCAP_scale30/inference_tiles_scale30_743.tif\n",
      "Image opened\n"
     ]
    },
    {
     "name": "stderr",
     "output_type": "stream",
     "text": [
      "[Parallel(n_jobs=12)]: Using backend ThreadingBackend with 12 concurrent workers.\n",
      "[Parallel(n_jobs=12)]: Done  26 tasks      | elapsed:    1.1s\n",
      "[Parallel(n_jobs=12)]: Done 100 out of 100 | elapsed:    3.1s finished\n"
     ]
    },
    {
     "name": "stdout",
     "output_type": "stream",
     "text": [
      "Class prediction was successful without slicing!\n",
      "No slicing was necessary!\n",
      "Image saved to: local_model_outputs_classifier_prob_habitat_suitability_CCAP_NORTH_east_coast_USA_13_4000_1000_all_predictors_depth_None/output_2023-08-04-08_07_43_108.tif\n",
      "\n",
      "\n",
      "\n",
      "\n",
      "Starting image: /Users/margauxmforstyhe/Desktop/workspace/wetlands_labs/CCAP boundaries/north_east_coast/tiles_north_east_coast_ccap_mapping_bndry_gridded_50km_50km_classes_13_CCAP_scale30/inference_tiles_scale30_757.tif\n",
      "Image opened\n"
     ]
    },
    {
     "name": "stderr",
     "output_type": "stream",
     "text": [
      "[Parallel(n_jobs=12)]: Using backend ThreadingBackend with 12 concurrent workers.\n",
      "[Parallel(n_jobs=12)]: Done  26 tasks      | elapsed:    1.1s\n",
      "[Parallel(n_jobs=12)]: Done 100 out of 100 | elapsed:    3.3s finished\n"
     ]
    },
    {
     "name": "stdout",
     "output_type": "stream",
     "text": [
      "Class prediction was successful without slicing!\n",
      "No slicing was necessary!\n",
      "Image saved to: local_model_outputs_classifier_prob_habitat_suitability_CCAP_NORTH_east_coast_USA_13_4000_1000_all_predictors_depth_None/output_2023-08-04-08_07_47_109.tif\n",
      "\n",
      "\n",
      "\n",
      "\n",
      "Starting image: /Users/margauxmforstyhe/Desktop/workspace/wetlands_labs/CCAP boundaries/north_east_coast/tiles_north_east_coast_ccap_mapping_bndry_gridded_50km_50km_classes_13_CCAP_scale30/inference_tiles_scale30_192.tif\n",
      "Image opened\n"
     ]
    },
    {
     "name": "stderr",
     "output_type": "stream",
     "text": [
      "[Parallel(n_jobs=12)]: Using backend ThreadingBackend with 12 concurrent workers.\n",
      "[Parallel(n_jobs=12)]: Done  26 tasks      | elapsed:    1.1s\n",
      "[Parallel(n_jobs=12)]: Done 100 out of 100 | elapsed:    3.2s finished\n"
     ]
    },
    {
     "name": "stdout",
     "output_type": "stream",
     "text": [
      "Class prediction was successful without slicing!\n",
      "No slicing was necessary!\n",
      "Image saved to: local_model_outputs_classifier_prob_habitat_suitability_CCAP_NORTH_east_coast_USA_13_4000_1000_all_predictors_depth_None/output_2023-08-04-08_07_51_110.tif\n",
      "\n",
      "\n",
      "\n",
      "\n",
      "Starting image: /Users/margauxmforstyhe/Desktop/workspace/wetlands_labs/CCAP boundaries/north_east_coast/tiles_north_east_coast_ccap_mapping_bndry_gridded_50km_50km_classes_13_CCAP_scale30/inference_tiles_scale30_838.tif\n",
      "Image opened\n"
     ]
    },
    {
     "name": "stderr",
     "output_type": "stream",
     "text": [
      "[Parallel(n_jobs=12)]: Using backend ThreadingBackend with 12 concurrent workers.\n",
      "[Parallel(n_jobs=12)]: Done  26 tasks      | elapsed:    1.4s\n",
      "[Parallel(n_jobs=12)]: Done 100 out of 100 | elapsed:    4.0s finished\n",
      "[Parallel(n_jobs=12)]: Using backend ThreadingBackend with 12 concurrent workers.\n"
     ]
    },
    {
     "name": "stdout",
     "output_type": "stream",
     "text": [
      "Class prediction was successful without slicing!\n",
      "No slicing was necessary!\n",
      "Image saved to: local_model_outputs_classifier_prob_habitat_suitability_CCAP_NORTH_east_coast_USA_13_4000_1000_all_predictors_depth_None/output_2023-08-04-08_07_56_111.tif\n",
      "\n",
      "\n",
      "\n",
      "\n",
      "Starting image: /Users/margauxmforstyhe/Desktop/workspace/wetlands_labs/CCAP boundaries/north_east_coast/tiles_north_east_coast_ccap_mapping_bndry_gridded_50km_50km_classes_13_CCAP_scale30/inference_tiles_scale30_186.tif\n",
      "Image opened\n"
     ]
    },
    {
     "name": "stderr",
     "output_type": "stream",
     "text": [
      "[Parallel(n_jobs=12)]: Done  26 tasks      | elapsed:    0.1s\n",
      "[Parallel(n_jobs=12)]: Done 100 out of 100 | elapsed:    0.2s finished\n"
     ]
    },
    {
     "name": "stdout",
     "output_type": "stream",
     "text": [
      "Class prediction was successful without slicing!\n",
      "No slicing was necessary!\n",
      "Image saved to: local_model_outputs_classifier_prob_habitat_suitability_CCAP_NORTH_east_coast_USA_13_4000_1000_all_predictors_depth_None/output_2023-08-04-08_07_57_112.tif\n",
      "\n",
      "\n",
      "\n",
      "\n",
      "Starting image: /Users/margauxmforstyhe/Desktop/workspace/wetlands_labs/CCAP boundaries/north_east_coast/tiles_north_east_coast_ccap_mapping_bndry_gridded_50km_50km_classes_13_CCAP_scale30/inference_tiles_scale30_810.tif\n",
      "Image opened\n"
     ]
    },
    {
     "name": "stderr",
     "output_type": "stream",
     "text": [
      "[Parallel(n_jobs=12)]: Using backend ThreadingBackend with 12 concurrent workers.\n",
      "[Parallel(n_jobs=12)]: Done  26 tasks      | elapsed:    1.3s\n",
      "[Parallel(n_jobs=12)]: Done 100 out of 100 | elapsed:    4.1s finished\n"
     ]
    },
    {
     "name": "stdout",
     "output_type": "stream",
     "text": [
      "Class prediction was successful without slicing!\n",
      "No slicing was necessary!\n",
      "Image saved to: local_model_outputs_classifier_prob_habitat_suitability_CCAP_NORTH_east_coast_USA_13_4000_1000_all_predictors_depth_None/output_2023-08-04-08_08_01_113.tif\n",
      "\n",
      "\n",
      "\n",
      "\n",
      "Starting image: /Users/margauxmforstyhe/Desktop/workspace/wetlands_labs/CCAP boundaries/north_east_coast/tiles_north_east_coast_ccap_mapping_bndry_gridded_50km_50km_classes_13_CCAP_scale30/inference_tiles_scale30_804.tif\n",
      "Image opened\n"
     ]
    },
    {
     "name": "stderr",
     "output_type": "stream",
     "text": [
      "[Parallel(n_jobs=12)]: Using backend ThreadingBackend with 12 concurrent workers.\n",
      "[Parallel(n_jobs=12)]: Done  26 tasks      | elapsed:    1.3s\n",
      "[Parallel(n_jobs=12)]: Done 100 out of 100 | elapsed:    3.6s finished\n"
     ]
    },
    {
     "name": "stdout",
     "output_type": "stream",
     "text": [
      "Class prediction was successful without slicing!\n",
      "No slicing was necessary!\n",
      "Image saved to: local_model_outputs_classifier_prob_habitat_suitability_CCAP_NORTH_east_coast_USA_13_4000_1000_all_predictors_depth_None/output_2023-08-04-08_08_06_114.tif\n",
      "\n",
      "\n",
      "\n",
      "\n",
      "Starting image: /Users/margauxmforstyhe/Desktop/workspace/wetlands_labs/CCAP boundaries/north_east_coast/tiles_north_east_coast_ccap_mapping_bndry_gridded_50km_50km_classes_13_CCAP_scale30/inference_tiles_scale30_151.tif\n",
      "Image opened\n"
     ]
    },
    {
     "name": "stderr",
     "output_type": "stream",
     "text": [
      "[Parallel(n_jobs=12)]: Using backend ThreadingBackend with 12 concurrent workers.\n",
      "[Parallel(n_jobs=12)]: Done  26 tasks      | elapsed:    1.1s\n",
      "[Parallel(n_jobs=12)]: Done 100 out of 100 | elapsed:    3.3s finished\n"
     ]
    },
    {
     "name": "stdout",
     "output_type": "stream",
     "text": [
      "Class prediction was successful without slicing!\n",
      "No slicing was necessary!\n",
      "Image saved to: local_model_outputs_classifier_prob_habitat_suitability_CCAP_NORTH_east_coast_USA_13_4000_1000_all_predictors_depth_None/output_2023-08-04-08_08_10_115.tif\n",
      "\n",
      "\n",
      "\n",
      "\n",
      "Starting image: /Users/margauxmforstyhe/Desktop/workspace/wetlands_labs/CCAP boundaries/north_east_coast/tiles_north_east_coast_ccap_mapping_bndry_gridded_50km_50km_classes_13_CCAP_scale30/inference_tiles_scale30_637.tif\n",
      "Image opened\n"
     ]
    },
    {
     "name": "stderr",
     "output_type": "stream",
     "text": [
      "[Parallel(n_jobs=12)]: Using backend ThreadingBackend with 12 concurrent workers.\n",
      "[Parallel(n_jobs=12)]: Done  26 tasks      | elapsed:    1.2s\n",
      "[Parallel(n_jobs=12)]: Done 100 out of 100 | elapsed:    3.4s finished\n"
     ]
    },
    {
     "name": "stdout",
     "output_type": "stream",
     "text": [
      "Class prediction was successful without slicing!\n",
      "No slicing was necessary!\n",
      "Image saved to: local_model_outputs_classifier_prob_habitat_suitability_CCAP_NORTH_east_coast_USA_13_4000_1000_all_predictors_depth_None/output_2023-08-04-08_08_14_116.tif\n",
      "\n",
      "\n",
      "\n",
      "\n",
      "Starting image: /Users/margauxmforstyhe/Desktop/workspace/wetlands_labs/CCAP boundaries/north_east_coast/tiles_north_east_coast_ccap_mapping_bndry_gridded_50km_50km_classes_13_CCAP_scale30/inference_tiles_scale30_623.tif\n",
      "Image opened\n"
     ]
    },
    {
     "name": "stderr",
     "output_type": "stream",
     "text": [
      "[Parallel(n_jobs=12)]: Using backend ThreadingBackend with 12 concurrent workers.\n",
      "[Parallel(n_jobs=12)]: Done  26 tasks      | elapsed:    1.3s\n",
      "[Parallel(n_jobs=12)]: Done 100 out of 100 | elapsed:    3.7s finished\n"
     ]
    },
    {
     "name": "stdout",
     "output_type": "stream",
     "text": [
      "Class prediction was successful without slicing!\n",
      "No slicing was necessary!\n",
      "Image saved to: local_model_outputs_classifier_prob_habitat_suitability_CCAP_NORTH_east_coast_USA_13_4000_1000_all_predictors_depth_None/output_2023-08-04-08_08_19_117.tif\n",
      "\n",
      "\n",
      "\n",
      "\n",
      "Starting image: /Users/margauxmforstyhe/Desktop/workspace/wetlands_labs/CCAP boundaries/north_east_coast/tiles_north_east_coast_ccap_mapping_bndry_gridded_50km_50km_classes_13_CCAP_scale30/inference_tiles_scale30_145.tif\n",
      "Image opened\n"
     ]
    },
    {
     "name": "stderr",
     "output_type": "stream",
     "text": [
      "[Parallel(n_jobs=12)]: Using backend ThreadingBackend with 12 concurrent workers.\n",
      "[Parallel(n_jobs=12)]: Done  26 tasks      | elapsed:    1.6s\n",
      "[Parallel(n_jobs=12)]: Done 100 out of 100 | elapsed:    4.3s finished\n"
     ]
    },
    {
     "name": "stdout",
     "output_type": "stream",
     "text": [
      "Class prediction was successful without slicing!\n",
      "No slicing was necessary!\n",
      "Image saved to: local_model_outputs_classifier_prob_habitat_suitability_CCAP_NORTH_east_coast_USA_13_4000_1000_all_predictors_depth_None/output_2023-08-04-08_08_23_118.tif\n",
      "\n",
      "\n",
      "\n",
      "\n",
      "Starting image: /Users/margauxmforstyhe/Desktop/workspace/wetlands_labs/CCAP boundaries/north_east_coast/tiles_north_east_coast_ccap_mapping_bndry_gridded_50km_50km_classes_13_CCAP_scale30/inference_tiles_scale30_179.tif\n",
      "Image opened\n"
     ]
    },
    {
     "name": "stderr",
     "output_type": "stream",
     "text": [
      "[Parallel(n_jobs=12)]: Using backend ThreadingBackend with 12 concurrent workers.\n",
      "[Parallel(n_jobs=12)]: Done  26 tasks      | elapsed:    1.4s\n",
      "[Parallel(n_jobs=12)]: Done 100 out of 100 | elapsed:    3.7s finished\n"
     ]
    },
    {
     "name": "stdout",
     "output_type": "stream",
     "text": [
      "Class prediction was successful without slicing!\n",
      "No slicing was necessary!\n",
      "Image saved to: local_model_outputs_classifier_prob_habitat_suitability_CCAP_NORTH_east_coast_USA_13_4000_1000_all_predictors_depth_None/output_2023-08-04-08_08_28_119.tif\n",
      "\n",
      "\n",
      "\n",
      "\n",
      "Starting image: /Users/margauxmforstyhe/Desktop/workspace/wetlands_labs/CCAP boundaries/north_east_coast/tiles_north_east_coast_ccap_mapping_bndry_gridded_50km_50km_classes_13_CCAP_scale30/inference_tiles_scale30_390.tif\n",
      "Image opened\n"
     ]
    },
    {
     "name": "stderr",
     "output_type": "stream",
     "text": [
      "[Parallel(n_jobs=12)]: Using backend ThreadingBackend with 12 concurrent workers.\n",
      "[Parallel(n_jobs=12)]: Done  26 tasks      | elapsed:    1.3s\n",
      "[Parallel(n_jobs=12)]: Done 100 out of 100 | elapsed:    4.0s finished\n"
     ]
    },
    {
     "name": "stdout",
     "output_type": "stream",
     "text": [
      "Class prediction was successful without slicing!\n",
      "No slicing was necessary!\n",
      "Image saved to: local_model_outputs_classifier_prob_habitat_suitability_CCAP_NORTH_east_coast_USA_13_4000_1000_all_predictors_depth_None/output_2023-08-04-08_08_33_120.tif\n",
      "\n",
      "\n",
      "\n",
      "\n",
      "Starting image: /Users/margauxmforstyhe/Desktop/workspace/wetlands_labs/CCAP boundaries/north_east_coast/tiles_north_east_coast_ccap_mapping_bndry_gridded_50km_50km_classes_13_CCAP_scale30/inference_tiles_scale30_93.tif\n",
      "Image opened\n"
     ]
    },
    {
     "name": "stderr",
     "output_type": "stream",
     "text": [
      "[Parallel(n_jobs=12)]: Using backend ThreadingBackend with 12 concurrent workers.\n",
      "[Parallel(n_jobs=12)]: Done  26 tasks      | elapsed:    1.5s\n",
      "[Parallel(n_jobs=12)]: Done 100 out of 100 | elapsed:    4.5s finished\n"
     ]
    },
    {
     "name": "stdout",
     "output_type": "stream",
     "text": [
      "Class prediction was successful without slicing!\n",
      "No slicing was necessary!\n",
      "Image saved to: local_model_outputs_classifier_prob_habitat_suitability_CCAP_NORTH_east_coast_USA_13_4000_1000_all_predictors_depth_None/output_2023-08-04-08_08_38_121.tif\n",
      "\n",
      "\n",
      "\n",
      "\n",
      "Starting image: /Users/margauxmforstyhe/Desktop/workspace/wetlands_labs/CCAP boundaries/north_east_coast/tiles_north_east_coast_ccap_mapping_bndry_gridded_50km_50km_classes_13_CCAP_scale30/inference_tiles_scale30_384.tif\n",
      "Image opened\n"
     ]
    },
    {
     "name": "stderr",
     "output_type": "stream",
     "text": [
      "[Parallel(n_jobs=12)]: Using backend ThreadingBackend with 12 concurrent workers.\n",
      "[Parallel(n_jobs=12)]: Done  26 tasks      | elapsed:    0.8s\n",
      "[Parallel(n_jobs=12)]: Done 100 out of 100 | elapsed:    2.3s finished\n"
     ]
    },
    {
     "name": "stdout",
     "output_type": "stream",
     "text": [
      "Class prediction was successful without slicing!\n",
      "No slicing was necessary!\n",
      "Image saved to: local_model_outputs_classifier_prob_habitat_suitability_CCAP_NORTH_east_coast_USA_13_4000_1000_all_predictors_depth_None/output_2023-08-04-08_08_41_122.tif\n",
      "\n",
      "\n",
      "\n",
      "\n",
      "Starting image: /Users/margauxmforstyhe/Desktop/workspace/wetlands_labs/CCAP boundaries/north_east_coast/tiles_north_east_coast_ccap_mapping_bndry_gridded_50km_50km_classes_13_CCAP_scale30/inference_tiles_scale30_87.tif\n",
      "Image opened\n"
     ]
    },
    {
     "name": "stderr",
     "output_type": "stream",
     "text": [
      "[Parallel(n_jobs=12)]: Using backend ThreadingBackend with 12 concurrent workers.\n",
      "[Parallel(n_jobs=12)]: Done  26 tasks      | elapsed:    1.5s\n",
      "[Parallel(n_jobs=12)]: Done 100 out of 100 | elapsed:    4.4s finished\n"
     ]
    },
    {
     "name": "stdout",
     "output_type": "stream",
     "text": [
      "Class prediction was successful without slicing!\n",
      "No slicing was necessary!\n",
      "Image saved to: local_model_outputs_classifier_prob_habitat_suitability_CCAP_NORTH_east_coast_USA_13_4000_1000_all_predictors_depth_None/output_2023-08-04-08_08_46_123.tif\n",
      "\n",
      "\n",
      "\n",
      "\n",
      "Starting image: /Users/margauxmforstyhe/Desktop/workspace/wetlands_labs/CCAP boundaries/north_east_coast/tiles_north_east_coast_ccap_mapping_bndry_gridded_50km_50km_classes_13_CCAP_scale30/inference_tiles_scale30_435.tif\n",
      "Image opened\n"
     ]
    },
    {
     "name": "stderr",
     "output_type": "stream",
     "text": [
      "[Parallel(n_jobs=12)]: Using backend ThreadingBackend with 12 concurrent workers.\n",
      "[Parallel(n_jobs=12)]: Done  26 tasks      | elapsed:    0.7s\n",
      "[Parallel(n_jobs=12)]: Done 100 out of 100 | elapsed:    2.1s finished\n"
     ]
    },
    {
     "name": "stdout",
     "output_type": "stream",
     "text": [
      "Class prediction was successful without slicing!\n",
      "No slicing was necessary!\n",
      "Image saved to: local_model_outputs_classifier_prob_habitat_suitability_CCAP_NORTH_east_coast_USA_13_4000_1000_all_predictors_depth_None/output_2023-08-04-08_08_49_124.tif\n",
      "\n",
      "\n",
      "\n",
      "\n",
      "Starting image: /Users/margauxmforstyhe/Desktop/workspace/wetlands_labs/CCAP boundaries/north_east_coast/tiles_north_east_coast_ccap_mapping_bndry_gridded_50km_50km_classes_13_CCAP_scale30/inference_tiles_scale30_50.tif\n",
      "Image opened\n"
     ]
    },
    {
     "name": "stderr",
     "output_type": "stream",
     "text": [
      "[Parallel(n_jobs=12)]: Using backend ThreadingBackend with 12 concurrent workers.\n",
      "[Parallel(n_jobs=12)]: Done  26 tasks      | elapsed:    1.1s\n",
      "[Parallel(n_jobs=12)]: Done 100 out of 100 | elapsed:    3.2s finished\n"
     ]
    },
    {
     "name": "stdout",
     "output_type": "stream",
     "text": [
      "Class prediction was successful without slicing!\n",
      "No slicing was necessary!\n",
      "Image saved to: local_model_outputs_classifier_prob_habitat_suitability_CCAP_NORTH_east_coast_USA_13_4000_1000_all_predictors_depth_None/output_2023-08-04-08_08_53_125.tif\n",
      "\n",
      "\n",
      "\n",
      "\n",
      "Starting image: /Users/margauxmforstyhe/Desktop/workspace/wetlands_labs/CCAP boundaries/north_east_coast/tiles_north_east_coast_ccap_mapping_bndry_gridded_50km_50km_classes_13_CCAP_scale30/inference_tiles_scale30_353.tif\n",
      "Image opened\n"
     ]
    },
    {
     "name": "stderr",
     "output_type": "stream",
     "text": [
      "[Parallel(n_jobs=12)]: Using backend ThreadingBackend with 12 concurrent workers.\n",
      "[Parallel(n_jobs=12)]: Done  26 tasks      | elapsed:    0.8s\n",
      "[Parallel(n_jobs=12)]: Done 100 out of 100 | elapsed:    2.2s finished\n"
     ]
    },
    {
     "name": "stdout",
     "output_type": "stream",
     "text": [
      "Class prediction was successful without slicing!\n",
      "No slicing was necessary!\n",
      "Image saved to: local_model_outputs_classifier_prob_habitat_suitability_CCAP_NORTH_east_coast_USA_13_4000_1000_all_predictors_depth_None/output_2023-08-04-08_08_55_126.tif\n",
      "\n",
      "\n",
      "\n",
      "\n",
      "Starting image: /Users/margauxmforstyhe/Desktop/workspace/wetlands_labs/CCAP boundaries/north_east_coast/tiles_north_east_coast_ccap_mapping_bndry_gridded_50km_50km_classes_13_CCAP_scale30/inference_tiles_scale30_44.tif\n",
      "Image opened\n"
     ]
    },
    {
     "name": "stderr",
     "output_type": "stream",
     "text": [
      "[Parallel(n_jobs=12)]: Using backend ThreadingBackend with 12 concurrent workers.\n",
      "[Parallel(n_jobs=12)]: Done  26 tasks      | elapsed:    1.4s\n",
      "[Parallel(n_jobs=12)]: Done 100 out of 100 | elapsed:    4.4s finished\n"
     ]
    },
    {
     "name": "stdout",
     "output_type": "stream",
     "text": [
      "Class prediction was successful without slicing!\n",
      "No slicing was necessary!\n",
      "Image saved to: local_model_outputs_classifier_prob_habitat_suitability_CCAP_NORTH_east_coast_USA_13_4000_1000_all_predictors_depth_None/output_2023-08-04-08_09_00_127.tif\n",
      "\n",
      "\n",
      "\n",
      "\n",
      "Starting image: /Users/margauxmforstyhe/Desktop/workspace/wetlands_labs/CCAP boundaries/north_east_coast/tiles_north_east_coast_ccap_mapping_bndry_gridded_50km_50km_classes_13_CCAP_scale30/inference_tiles_scale30_347.tif\n",
      "Image opened\n"
     ]
    },
    {
     "name": "stderr",
     "output_type": "stream",
     "text": [
      "[Parallel(n_jobs=12)]: Using backend ThreadingBackend with 12 concurrent workers.\n",
      "[Parallel(n_jobs=12)]: Done  26 tasks      | elapsed:    0.2s\n",
      "[Parallel(n_jobs=12)]: Done 100 out of 100 | elapsed:    0.6s finished\n"
     ]
    },
    {
     "name": "stdout",
     "output_type": "stream",
     "text": [
      "Class prediction was successful without slicing!\n",
      "No slicing was necessary!\n",
      "Image saved to: local_model_outputs_classifier_prob_habitat_suitability_CCAP_NORTH_east_coast_USA_13_4000_1000_all_predictors_depth_None/output_2023-08-04-08_09_01_128.tif\n",
      "\n",
      "\n",
      "\n",
      "\n",
      "Starting image: /Users/margauxmforstyhe/Desktop/workspace/wetlands_labs/CCAP boundaries/north_east_coast/tiles_north_east_coast_ccap_mapping_bndry_gridded_50km_50km_classes_13_CCAP_scale30/inference_tiles_scale30_421.tif\n",
      "Image opened\n"
     ]
    },
    {
     "name": "stderr",
     "output_type": "stream",
     "text": [
      "[Parallel(n_jobs=12)]: Using backend ThreadingBackend with 12 concurrent workers.\n",
      "[Parallel(n_jobs=12)]: Done  26 tasks      | elapsed:    0.8s\n",
      "[Parallel(n_jobs=12)]: Done 100 out of 100 | elapsed:    2.4s finished\n"
     ]
    },
    {
     "name": "stdout",
     "output_type": "stream",
     "text": [
      "Class prediction was successful without slicing!\n",
      "No slicing was necessary!\n",
      "Image saved to: local_model_outputs_classifier_prob_habitat_suitability_CCAP_NORTH_east_coast_USA_13_4000_1000_all_predictors_depth_None/output_2023-08-04-08_09_04_129.tif\n",
      "\n",
      "\n",
      "\n",
      "\n",
      "Starting image: /Users/margauxmforstyhe/Desktop/workspace/wetlands_labs/CCAP boundaries/north_east_coast/tiles_north_east_coast_ccap_mapping_bndry_gridded_50km_50km_classes_13_CCAP_scale30/inference_tiles_scale30_409.tif\n",
      "Image opened\n"
     ]
    },
    {
     "name": "stderr",
     "output_type": "stream",
     "text": [
      "[Parallel(n_jobs=12)]: Using backend ThreadingBackend with 12 concurrent workers.\n",
      "[Parallel(n_jobs=12)]: Done  26 tasks      | elapsed:    2.1s\n",
      "[Parallel(n_jobs=12)]: Done 100 out of 100 | elapsed:    5.5s finished\n"
     ]
    },
    {
     "name": "stdout",
     "output_type": "stream",
     "text": [
      "Class prediction was successful without slicing!\n",
      "No slicing was necessary!\n",
      "Image saved to: local_model_outputs_classifier_prob_habitat_suitability_CCAP_NORTH_east_coast_USA_13_4000_1000_all_predictors_depth_None/output_2023-08-04-08_09_10_130.tif\n",
      "\n",
      "\n",
      "\n",
      "\n",
      "Starting image: /Users/margauxmforstyhe/Desktop/workspace/wetlands_labs/CCAP boundaries/north_east_coast/tiles_north_east_coast_ccap_mapping_bndry_gridded_50km_50km_classes_13_CCAP_scale30/inference_tiles_scale30_78.tif\n",
      "Image opened\n"
     ]
    },
    {
     "name": "stderr",
     "output_type": "stream",
     "text": [
      "[Parallel(n_jobs=12)]: Using backend ThreadingBackend with 12 concurrent workers.\n",
      "[Parallel(n_jobs=12)]: Done  26 tasks      | elapsed:    0.9s\n",
      "[Parallel(n_jobs=12)]: Done 100 out of 100 | elapsed:    2.4s finished\n"
     ]
    },
    {
     "name": "stdout",
     "output_type": "stream",
     "text": [
      "Class prediction was successful without slicing!\n",
      "No slicing was necessary!\n",
      "Image saved to: local_model_outputs_classifier_prob_habitat_suitability_CCAP_NORTH_east_coast_USA_13_4000_1000_all_predictors_depth_None/output_2023-08-04-08_09_13_131.tif\n",
      "\n",
      "\n",
      "\n",
      "\n",
      "Starting image: /Users/margauxmforstyhe/Desktop/workspace/wetlands_labs/CCAP boundaries/north_east_coast/tiles_north_east_coast_ccap_mapping_bndry_gridded_50km_50km_classes_13_CCAP_scale30/inference_tiles_scale30_425.tif\n",
      "Image opened\n"
     ]
    },
    {
     "name": "stderr",
     "output_type": "stream",
     "text": [
      "[Parallel(n_jobs=12)]: Using backend ThreadingBackend with 12 concurrent workers.\n",
      "[Parallel(n_jobs=12)]: Done  26 tasks      | elapsed:    1.4s\n",
      "[Parallel(n_jobs=12)]: Done 100 out of 100 | elapsed:    4.1s finished\n"
     ]
    },
    {
     "name": "stdout",
     "output_type": "stream",
     "text": [
      "Class prediction was successful without slicing!\n",
      "No slicing was necessary!\n",
      "Image saved to: local_model_outputs_classifier_prob_habitat_suitability_CCAP_NORTH_east_coast_USA_13_4000_1000_all_predictors_depth_None/output_2023-08-04-08_09_18_132.tif\n",
      "\n",
      "\n",
      "\n",
      "\n",
      "Starting image: /Users/margauxmforstyhe/Desktop/workspace/wetlands_labs/CCAP boundaries/north_east_coast/tiles_north_east_coast_ccap_mapping_bndry_gridded_50km_50km_classes_13_CCAP_scale30/inference_tiles_scale30_343.tif\n",
      "Image opened\n"
     ]
    },
    {
     "name": "stderr",
     "output_type": "stream",
     "text": [
      "[Parallel(n_jobs=12)]: Using backend ThreadingBackend with 12 concurrent workers.\n",
      "[Parallel(n_jobs=12)]: Done  26 tasks      | elapsed:    1.0s\n",
      "[Parallel(n_jobs=12)]: Done 100 out of 100 | elapsed:    2.9s finished\n"
     ]
    },
    {
     "name": "stdout",
     "output_type": "stream",
     "text": [
      "Class prediction was successful without slicing!\n",
      "No slicing was necessary!\n",
      "Image saved to: local_model_outputs_classifier_prob_habitat_suitability_CCAP_NORTH_east_coast_USA_13_4000_1000_all_predictors_depth_None/output_2023-08-04-08_09_22_133.tif\n",
      "\n",
      "\n",
      "\n",
      "\n",
      "Starting image: /Users/margauxmforstyhe/Desktop/workspace/wetlands_labs/CCAP boundaries/north_east_coast/tiles_north_east_coast_ccap_mapping_bndry_gridded_50km_50km_classes_13_CCAP_scale30/inference_tiles_scale30_40.tif\n",
      "Image opened\n"
     ]
    },
    {
     "name": "stderr",
     "output_type": "stream",
     "text": [
      "[Parallel(n_jobs=12)]: Using backend ThreadingBackend with 12 concurrent workers.\n",
      "[Parallel(n_jobs=12)]: Done  26 tasks      | elapsed:    1.2s\n",
      "[Parallel(n_jobs=12)]: Done 100 out of 100 | elapsed:    3.4s finished\n"
     ]
    },
    {
     "name": "stdout",
     "output_type": "stream",
     "text": [
      "Class prediction was successful without slicing!\n",
      "No slicing was necessary!\n",
      "Image saved to: local_model_outputs_classifier_prob_habitat_suitability_CCAP_NORTH_east_coast_USA_13_4000_1000_all_predictors_depth_None/output_2023-08-04-08_09_26_134.tif\n",
      "\n",
      "\n",
      "\n",
      "\n",
      "Starting image: /Users/margauxmforstyhe/Desktop/workspace/wetlands_labs/CCAP boundaries/north_east_coast/tiles_north_east_coast_ccap_mapping_bndry_gridded_50km_50km_classes_13_CCAP_scale30/inference_tiles_scale30_357.tif\n",
      "Image opened\n"
     ]
    },
    {
     "name": "stderr",
     "output_type": "stream",
     "text": [
      "[Parallel(n_jobs=12)]: Using backend ThreadingBackend with 12 concurrent workers.\n",
      "[Parallel(n_jobs=12)]: Done  26 tasks      | elapsed:    0.7s\n",
      "[Parallel(n_jobs=12)]: Done 100 out of 100 | elapsed:    2.2s finished\n"
     ]
    },
    {
     "name": "stdout",
     "output_type": "stream",
     "text": [
      "Class prediction was successful without slicing!\n",
      "No slicing was necessary!\n",
      "Image saved to: local_model_outputs_classifier_prob_habitat_suitability_CCAP_NORTH_east_coast_USA_13_4000_1000_all_predictors_depth_None/output_2023-08-04-08_09_29_135.tif\n",
      "\n",
      "\n",
      "\n",
      "\n",
      "Starting image: /Users/margauxmforstyhe/Desktop/workspace/wetlands_labs/CCAP boundaries/north_east_coast/tiles_north_east_coast_ccap_mapping_bndry_gridded_50km_50km_classes_13_CCAP_scale30/inference_tiles_scale30_54.tif\n",
      "Image opened\n"
     ]
    },
    {
     "name": "stderr",
     "output_type": "stream",
     "text": [
      "[Parallel(n_jobs=12)]: Using backend ThreadingBackend with 12 concurrent workers.\n",
      "[Parallel(n_jobs=12)]: Done  26 tasks      | elapsed:    1.6s\n",
      "[Parallel(n_jobs=12)]: Done 100 out of 100 | elapsed:    4.6s finished\n"
     ]
    },
    {
     "name": "stdout",
     "output_type": "stream",
     "text": [
      "Class prediction was successful without slicing!\n",
      "No slicing was necessary!\n",
      "Image saved to: local_model_outputs_classifier_prob_habitat_suitability_CCAP_NORTH_east_coast_USA_13_4000_1000_all_predictors_depth_None/output_2023-08-04-08_09_34_136.tif\n",
      "\n",
      "\n",
      "\n",
      "\n",
      "Starting image: /Users/margauxmforstyhe/Desktop/workspace/wetlands_labs/CCAP boundaries/north_east_coast/tiles_north_east_coast_ccap_mapping_bndry_gridded_50km_50km_classes_13_CCAP_scale30/inference_tiles_scale30_431.tif\n",
      "Image opened\n"
     ]
    },
    {
     "name": "stderr",
     "output_type": "stream",
     "text": [
      "[Parallel(n_jobs=12)]: Using backend ThreadingBackend with 12 concurrent workers.\n",
      "[Parallel(n_jobs=12)]: Done  26 tasks      | elapsed:    0.9s\n",
      "[Parallel(n_jobs=12)]: Done 100 out of 100 | elapsed:    2.7s finished\n"
     ]
    },
    {
     "name": "stdout",
     "output_type": "stream",
     "text": [
      "Class prediction was successful without slicing!\n",
      "No slicing was necessary!\n",
      "Image saved to: local_model_outputs_classifier_prob_habitat_suitability_CCAP_NORTH_east_coast_USA_13_4000_1000_all_predictors_depth_None/output_2023-08-04-08_09_37_137.tif\n",
      "\n",
      "\n",
      "\n",
      "\n",
      "Starting image: /Users/margauxmforstyhe/Desktop/workspace/wetlands_labs/CCAP boundaries/north_east_coast/tiles_north_east_coast_ccap_mapping_bndry_gridded_50km_50km_classes_13_CCAP_scale30/inference_tiles_scale30_419.tif\n",
      "Image opened\n"
     ]
    },
    {
     "name": "stderr",
     "output_type": "stream",
     "text": [
      "[Parallel(n_jobs=12)]: Using backend ThreadingBackend with 12 concurrent workers.\n",
      "[Parallel(n_jobs=12)]: Done  26 tasks      | elapsed:    1.5s\n",
      "[Parallel(n_jobs=12)]: Done 100 out of 100 | elapsed:    4.0s finished\n"
     ]
    },
    {
     "name": "stdout",
     "output_type": "stream",
     "text": [
      "Class prediction was successful without slicing!\n",
      "No slicing was necessary!\n",
      "Image saved to: local_model_outputs_classifier_prob_habitat_suitability_CCAP_NORTH_east_coast_USA_13_4000_1000_all_predictors_depth_None/output_2023-08-04-08_09_42_138.tif\n",
      "\n",
      "\n",
      "\n",
      "\n",
      "Starting image: /Users/margauxmforstyhe/Desktop/workspace/wetlands_labs/CCAP boundaries/north_east_coast/tiles_north_east_coast_ccap_mapping_bndry_gridded_50km_50km_classes_13_CCAP_scale30/inference_tiles_scale30_68.tif\n",
      "Image opened\n"
     ]
    },
    {
     "name": "stderr",
     "output_type": "stream",
     "text": [
      "[Parallel(n_jobs=12)]: Using backend ThreadingBackend with 12 concurrent workers.\n",
      "[Parallel(n_jobs=12)]: Done  26 tasks      | elapsed:    0.5s\n",
      "[Parallel(n_jobs=12)]: Done 100 out of 100 | elapsed:    1.4s finished\n",
      "[Parallel(n_jobs=12)]: Using backend ThreadingBackend with 12 concurrent workers.\n",
      "[Parallel(n_jobs=12)]: Done  26 tasks      | elapsed:    0.0s\n",
      "[Parallel(n_jobs=12)]: Done 100 out of 100 | elapsed:    0.1s finished\n"
     ]
    },
    {
     "name": "stdout",
     "output_type": "stream",
     "text": [
      "Class prediction was successful without slicing!\n",
      "No slicing was necessary!\n",
      "Image saved to: local_model_outputs_classifier_prob_habitat_suitability_CCAP_NORTH_east_coast_USA_13_4000_1000_all_predictors_depth_None/output_2023-08-04-08_09_44_139.tif\n",
      "\n",
      "\n",
      "\n",
      "\n",
      "Starting image: /Users/margauxmforstyhe/Desktop/workspace/wetlands_labs/CCAP boundaries/north_east_coast/tiles_north_east_coast_ccap_mapping_bndry_gridded_50km_50km_classes_13_CCAP_scale30/inference_tiles_scale30_83.tif\n",
      "Image opened\n",
      "Class prediction was successful without slicing!\n",
      "No slicing was necessary!\n",
      "Image saved to: local_model_outputs_classifier_prob_habitat_suitability_CCAP_NORTH_east_coast_USA_13_4000_1000_all_predictors_depth_None/output_2023-08-04-08_09_44_140.tif\n",
      "\n",
      "\n",
      "\n",
      "\n",
      "Starting image: /Users/margauxmforstyhe/Desktop/workspace/wetlands_labs/CCAP boundaries/north_east_coast/tiles_north_east_coast_ccap_mapping_bndry_gridded_50km_50km_classes_13_CCAP_scale30/inference_tiles_scale30_380.tif\n",
      "Image opened\n"
     ]
    },
    {
     "name": "stderr",
     "output_type": "stream",
     "text": [
      "[Parallel(n_jobs=12)]: Using backend ThreadingBackend with 12 concurrent workers.\n",
      "[Parallel(n_jobs=12)]: Done  26 tasks      | elapsed:    0.1s\n",
      "[Parallel(n_jobs=12)]: Done 100 out of 100 | elapsed:    0.3s finished\n"
     ]
    },
    {
     "name": "stdout",
     "output_type": "stream",
     "text": [
      "Class prediction was successful without slicing!\n",
      "No slicing was necessary!\n",
      "Image saved to: local_model_outputs_classifier_prob_habitat_suitability_CCAP_NORTH_east_coast_USA_13_4000_1000_all_predictors_depth_None/output_2023-08-04-08_09_45_141.tif\n",
      "\n",
      "\n",
      "\n",
      "\n",
      "Starting image: /Users/margauxmforstyhe/Desktop/workspace/wetlands_labs/CCAP boundaries/north_east_coast/tiles_north_east_coast_ccap_mapping_bndry_gridded_50km_50km_classes_13_CCAP_scale30/inference_tiles_scale30_97.tif\n",
      "Image opened\n"
     ]
    },
    {
     "name": "stderr",
     "output_type": "stream",
     "text": [
      "[Parallel(n_jobs=12)]: Using backend ThreadingBackend with 12 concurrent workers.\n",
      "[Parallel(n_jobs=12)]: Done  26 tasks      | elapsed:    1.2s\n",
      "[Parallel(n_jobs=12)]: Done 100 out of 100 | elapsed:    3.6s finished\n"
     ]
    },
    {
     "name": "stdout",
     "output_type": "stream",
     "text": [
      "Class prediction was successful without slicing!\n",
      "No slicing was necessary!\n",
      "Image saved to: local_model_outputs_classifier_prob_habitat_suitability_CCAP_NORTH_east_coast_USA_13_4000_1000_all_predictors_depth_None/output_2023-08-04-08_09_49_142.tif\n",
      "\n",
      "\n",
      "\n",
      "\n",
      "Starting image: /Users/margauxmforstyhe/Desktop/workspace/wetlands_labs/CCAP boundaries/north_east_coast/tiles_north_east_coast_ccap_mapping_bndry_gridded_50km_50km_classes_13_CCAP_scale30/inference_tiles_scale30_394.tif\n",
      "Image opened\n"
     ]
    },
    {
     "name": "stderr",
     "output_type": "stream",
     "text": [
      "[Parallel(n_jobs=12)]: Using backend ThreadingBackend with 12 concurrent workers.\n",
      "[Parallel(n_jobs=12)]: Done  26 tasks      | elapsed:    1.2s\n",
      "[Parallel(n_jobs=12)]: Done 100 out of 100 | elapsed:    3.7s finished\n"
     ]
    },
    {
     "name": "stdout",
     "output_type": "stream",
     "text": [
      "Class prediction was successful without slicing!\n",
      "No slicing was necessary!\n",
      "Image saved to: local_model_outputs_classifier_prob_habitat_suitability_CCAP_NORTH_east_coast_USA_13_4000_1000_all_predictors_depth_None/output_2023-08-04-08_09_53_143.tif\n",
      "\n",
      "\n",
      "\n",
      "\n",
      "Starting image: /Users/margauxmforstyhe/Desktop/workspace/wetlands_labs/CCAP boundaries/north_east_coast/tiles_north_east_coast_ccap_mapping_bndry_gridded_50km_50km_classes_13_CCAP_scale30/inference_tiles_scale30_141.tif\n",
      "Image opened\n"
     ]
    },
    {
     "name": "stderr",
     "output_type": "stream",
     "text": [
      "[Parallel(n_jobs=12)]: Using backend ThreadingBackend with 12 concurrent workers.\n",
      "[Parallel(n_jobs=12)]: Done  26 tasks      | elapsed:    1.3s\n",
      "[Parallel(n_jobs=12)]: Done 100 out of 100 | elapsed:    3.6s finished\n"
     ]
    },
    {
     "name": "stdout",
     "output_type": "stream",
     "text": [
      "Class prediction was successful without slicing!\n",
      "No slicing was necessary!\n",
      "Image saved to: local_model_outputs_classifier_prob_habitat_suitability_CCAP_NORTH_east_coast_USA_13_4000_1000_all_predictors_depth_None/output_2023-08-04-08_09_58_144.tif\n",
      "\n",
      "\n",
      "\n",
      "\n",
      "Starting image: /Users/margauxmforstyhe/Desktop/workspace/wetlands_labs/CCAP boundaries/north_east_coast/tiles_north_east_coast_ccap_mapping_bndry_gridded_50km_50km_classes_13_CCAP_scale30/inference_tiles_scale30_627.tif\n",
      "Image opened\n"
     ]
    },
    {
     "name": "stderr",
     "output_type": "stream",
     "text": [
      "[Parallel(n_jobs=12)]: Using backend ThreadingBackend with 12 concurrent workers.\n",
      "[Parallel(n_jobs=12)]: Done  26 tasks      | elapsed:    1.7s\n",
      "[Parallel(n_jobs=12)]: Done 100 out of 100 | elapsed:    4.7s finished\n"
     ]
    },
    {
     "name": "stdout",
     "output_type": "stream",
     "text": [
      "Class prediction was successful without slicing!\n",
      "No slicing was necessary!\n",
      "Image saved to: local_model_outputs_classifier_prob_habitat_suitability_CCAP_NORTH_east_coast_USA_13_4000_1000_all_predictors_depth_None/output_2023-08-04-08_10_03_145.tif\n",
      "\n",
      "\n",
      "\n",
      "\n",
      "Starting image: /Users/margauxmforstyhe/Desktop/workspace/wetlands_labs/CCAP boundaries/north_east_coast/tiles_north_east_coast_ccap_mapping_bndry_gridded_50km_50km_classes_13_CCAP_scale30/inference_tiles_scale30_633.tif\n",
      "Image opened\n"
     ]
    },
    {
     "name": "stderr",
     "output_type": "stream",
     "text": [
      "[Parallel(n_jobs=12)]: Using backend ThreadingBackend with 12 concurrent workers.\n",
      "[Parallel(n_jobs=12)]: Done  26 tasks      | elapsed:    1.2s\n",
      "[Parallel(n_jobs=12)]: Done 100 out of 100 | elapsed:    3.3s finished\n"
     ]
    },
    {
     "name": "stdout",
     "output_type": "stream",
     "text": [
      "Class prediction was successful without slicing!\n",
      "No slicing was necessary!\n",
      "Image saved to: local_model_outputs_classifier_prob_habitat_suitability_CCAP_NORTH_east_coast_USA_13_4000_1000_all_predictors_depth_None/output_2023-08-04-08_10_07_146.tif\n",
      "\n",
      "\n",
      "\n",
      "\n",
      "Starting image: /Users/margauxmforstyhe/Desktop/workspace/wetlands_labs/CCAP boundaries/north_east_coast/tiles_north_east_coast_ccap_mapping_bndry_gridded_50km_50km_classes_13_CCAP_scale30/inference_tiles_scale30_155.tif\n",
      "Image opened\n"
     ]
    },
    {
     "name": "stderr",
     "output_type": "stream",
     "text": [
      "[Parallel(n_jobs=12)]: Using backend ThreadingBackend with 12 concurrent workers.\n",
      "[Parallel(n_jobs=12)]: Done  26 tasks      | elapsed:    1.5s\n",
      "[Parallel(n_jobs=12)]: Done 100 out of 100 | elapsed:    4.2s finished\n"
     ]
    },
    {
     "name": "stdout",
     "output_type": "stream",
     "text": [
      "Class prediction was successful without slicing!\n",
      "No slicing was necessary!\n",
      "Image saved to: local_model_outputs_classifier_prob_habitat_suitability_CCAP_NORTH_east_coast_USA_13_4000_1000_all_predictors_depth_None/output_2023-08-04-08_10_12_147.tif\n",
      "\n",
      "\n",
      "\n",
      "\n",
      "Starting image: /Users/margauxmforstyhe/Desktop/workspace/wetlands_labs/CCAP boundaries/north_east_coast/tiles_north_east_coast_ccap_mapping_bndry_gridded_50km_50km_classes_13_CCAP_scale30/inference_tiles_scale30_169.tif\n",
      "Image opened\n"
     ]
    },
    {
     "name": "stderr",
     "output_type": "stream",
     "text": [
      "[Parallel(n_jobs=12)]: Using backend ThreadingBackend with 12 concurrent workers.\n",
      "[Parallel(n_jobs=12)]: Done  26 tasks      | elapsed:    0.4s\n",
      "[Parallel(n_jobs=12)]: Done 100 out of 100 | elapsed:    1.0s finished\n"
     ]
    },
    {
     "name": "stdout",
     "output_type": "stream",
     "text": [
      "Class prediction was successful without slicing!\n",
      "No slicing was necessary!\n",
      "Image saved to: local_model_outputs_classifier_prob_habitat_suitability_CCAP_NORTH_east_coast_USA_13_4000_1000_all_predictors_depth_None/output_2023-08-04-08_10_13_148.tif\n",
      "\n",
      "\n",
      "\n",
      "\n",
      "Starting image: /Users/margauxmforstyhe/Desktop/workspace/wetlands_labs/CCAP boundaries/north_east_coast/tiles_north_east_coast_ccap_mapping_bndry_gridded_50km_50km_classes_13_CCAP_scale30/inference_tiles_scale30_182.tif\n",
      "Image opened\n"
     ]
    },
    {
     "name": "stderr",
     "output_type": "stream",
     "text": [
      "[Parallel(n_jobs=12)]: Using backend ThreadingBackend with 12 concurrent workers.\n",
      "[Parallel(n_jobs=12)]: Done  26 tasks      | elapsed:    0.3s\n",
      "[Parallel(n_jobs=12)]: Done 100 out of 100 | elapsed:    1.1s finished\n"
     ]
    },
    {
     "name": "stdout",
     "output_type": "stream",
     "text": [
      "Class prediction was successful without slicing!\n",
      "No slicing was necessary!\n",
      "Image saved to: local_model_outputs_classifier_prob_habitat_suitability_CCAP_NORTH_east_coast_USA_13_4000_1000_all_predictors_depth_None/output_2023-08-04-08_10_15_149.tif\n",
      "\n",
      "\n",
      "\n",
      "\n",
      "Starting image: /Users/margauxmforstyhe/Desktop/workspace/wetlands_labs/CCAP boundaries/north_east_coast/tiles_north_east_coast_ccap_mapping_bndry_gridded_50km_50km_classes_13_CCAP_scale30/inference_tiles_scale30_828.tif\n",
      "Image opened\n"
     ]
    },
    {
     "name": "stderr",
     "output_type": "stream",
     "text": [
      "[Parallel(n_jobs=12)]: Using backend ThreadingBackend with 12 concurrent workers.\n",
      "[Parallel(n_jobs=12)]: Done  26 tasks      | elapsed:    1.8s\n",
      "[Parallel(n_jobs=12)]: Done 100 out of 100 | elapsed:    5.2s finished\n",
      "[Parallel(n_jobs=12)]: Using backend ThreadingBackend with 12 concurrent workers.\n",
      "[Parallel(n_jobs=12)]: Done  26 tasks      | elapsed:    0.0s\n"
     ]
    },
    {
     "name": "stdout",
     "output_type": "stream",
     "text": [
      "Class prediction was successful without slicing!\n",
      "No slicing was necessary!\n",
      "Image saved to: local_model_outputs_classifier_prob_habitat_suitability_CCAP_NORTH_east_coast_USA_13_4000_1000_all_predictors_depth_None/output_2023-08-04-08_10_21_150.tif\n",
      "\n",
      "\n",
      "\n",
      "\n",
      "Starting image: /Users/margauxmforstyhe/Desktop/workspace/wetlands_labs/CCAP boundaries/north_east_coast/tiles_north_east_coast_ccap_mapping_bndry_gridded_50km_50km_classes_13_CCAP_scale30/inference_tiles_scale30_196.tif\n",
      "Image opened\n"
     ]
    },
    {
     "name": "stderr",
     "output_type": "stream",
     "text": [
      "[Parallel(n_jobs=12)]: Done 100 out of 100 | elapsed:    0.1s finished\n"
     ]
    },
    {
     "name": "stdout",
     "output_type": "stream",
     "text": [
      "Class prediction was successful without slicing!\n",
      "No slicing was necessary!\n",
      "Image saved to: local_model_outputs_classifier_prob_habitat_suitability_CCAP_NORTH_east_coast_USA_13_4000_1000_all_predictors_depth_None/output_2023-08-04-08_10_21_151.tif\n",
      "\n",
      "\n",
      "\n",
      "\n",
      "Starting image: /Users/margauxmforstyhe/Desktop/workspace/wetlands_labs/CCAP boundaries/north_east_coast/tiles_north_east_coast_ccap_mapping_bndry_gridded_50km_50km_classes_13_CCAP_scale30/inference_tiles_scale30_800.tif\n",
      "Image opened\n"
     ]
    },
    {
     "name": "stderr",
     "output_type": "stream",
     "text": [
      "[Parallel(n_jobs=12)]: Using backend ThreadingBackend with 12 concurrent workers.\n",
      "[Parallel(n_jobs=12)]: Done  26 tasks      | elapsed:    1.1s\n",
      "[Parallel(n_jobs=12)]: Done 100 out of 100 | elapsed:    3.2s finished\n"
     ]
    },
    {
     "name": "stdout",
     "output_type": "stream",
     "text": [
      "Class prediction was successful without slicing!\n",
      "No slicing was necessary!\n",
      "Image saved to: local_model_outputs_classifier_prob_habitat_suitability_CCAP_NORTH_east_coast_USA_13_4000_1000_all_predictors_depth_None/output_2023-08-04-08_10_25_152.tif\n",
      "\n",
      "\n",
      "\n",
      "\n",
      "Starting image: /Users/margauxmforstyhe/Desktop/workspace/wetlands_labs/CCAP boundaries/north_east_coast/tiles_north_east_coast_ccap_mapping_bndry_gridded_50km_50km_classes_13_CCAP_scale30/inference_tiles_scale30_814.tif\n",
      "Image opened\n"
     ]
    },
    {
     "name": "stderr",
     "output_type": "stream",
     "text": [
      "[Parallel(n_jobs=12)]: Using backend ThreadingBackend with 12 concurrent workers.\n",
      "[Parallel(n_jobs=12)]: Done  26 tasks      | elapsed:    2.2s\n",
      "[Parallel(n_jobs=12)]: Done 100 out of 100 | elapsed:    6.0s finished\n"
     ]
    },
    {
     "name": "stdout",
     "output_type": "stream",
     "text": [
      "Class prediction was successful without slicing!\n",
      "No slicing was necessary!\n",
      "Image saved to: local_model_outputs_classifier_prob_habitat_suitability_CCAP_NORTH_east_coast_USA_13_4000_1000_all_predictors_depth_None/output_2023-08-04-08_10_32_153.tif\n",
      "\n",
      "\n",
      "\n",
      "\n",
      "Starting image: /Users/margauxmforstyhe/Desktop/workspace/wetlands_labs/CCAP boundaries/north_east_coast/tiles_north_east_coast_ccap_mapping_bndry_gridded_50km_50km_classes_13_CCAP_scale30/inference_tiles_scale30_753.tif\n",
      "Image opened\n"
     ]
    },
    {
     "name": "stderr",
     "output_type": "stream",
     "text": [
      "[Parallel(n_jobs=12)]: Using backend ThreadingBackend with 12 concurrent workers.\n",
      "[Parallel(n_jobs=12)]: Done  26 tasks      | elapsed:    0.4s\n",
      "[Parallel(n_jobs=12)]: Done 100 out of 100 | elapsed:    1.2s finished\n"
     ]
    },
    {
     "name": "stdout",
     "output_type": "stream",
     "text": [
      "Class prediction was successful without slicing!\n",
      "No slicing was necessary!\n",
      "Image saved to: local_model_outputs_classifier_prob_habitat_suitability_CCAP_NORTH_east_coast_USA_13_4000_1000_all_predictors_depth_None/output_2023-08-04-08_10_33_154.tif\n",
      "\n",
      "\n",
      "\n",
      "\n",
      "Starting image: /Users/margauxmforstyhe/Desktop/workspace/wetlands_labs/CCAP boundaries/north_east_coast/tiles_north_east_coast_ccap_mapping_bndry_gridded_50km_50km_classes_13_CCAP_scale30/inference_tiles_scale30_747.tif\n",
      "Image opened\n"
     ]
    },
    {
     "name": "stderr",
     "output_type": "stream",
     "text": [
      "[Parallel(n_jobs=12)]: Using backend ThreadingBackend with 12 concurrent workers.\n",
      "[Parallel(n_jobs=12)]: Done  26 tasks      | elapsed:    0.3s\n",
      "[Parallel(n_jobs=12)]: Done 100 out of 100 | elapsed:    0.8s finished\n"
     ]
    },
    {
     "name": "stdout",
     "output_type": "stream",
     "text": [
      "Class prediction was successful without slicing!\n",
      "No slicing was necessary!\n",
      "Image saved to: local_model_outputs_classifier_prob_habitat_suitability_CCAP_NORTH_east_coast_USA_13_4000_1000_all_predictors_depth_None/output_2023-08-04-08_10_34_155.tif\n",
      "\n",
      "\n",
      "\n",
      "\n",
      "Starting image: /Users/margauxmforstyhe/Desktop/workspace/wetlands_labs/CCAP boundaries/north_east_coast/tiles_north_east_coast_ccap_mapping_bndry_gridded_50km_50km_classes_13_CCAP_scale30/inference_tiles_scale30_790.tif\n",
      "Image opened\n"
     ]
    },
    {
     "name": "stderr",
     "output_type": "stream",
     "text": [
      "[Parallel(n_jobs=12)]: Using backend ThreadingBackend with 12 concurrent workers.\n",
      "[Parallel(n_jobs=12)]: Done  26 tasks      | elapsed:    1.3s\n",
      "[Parallel(n_jobs=12)]: Done 100 out of 100 | elapsed:    3.9s finished\n"
     ]
    },
    {
     "name": "stdout",
     "output_type": "stream",
     "text": [
      "Class prediction was successful without slicing!\n",
      "No slicing was necessary!\n",
      "Image saved to: local_model_outputs_classifier_prob_habitat_suitability_CCAP_NORTH_east_coast_USA_13_4000_1000_all_predictors_depth_None/output_2023-08-04-08_10_39_156.tif\n",
      "\n",
      "\n",
      "\n",
      "\n",
      "Starting image: /Users/margauxmforstyhe/Desktop/workspace/wetlands_labs/CCAP boundaries/north_east_coast/tiles_north_east_coast_ccap_mapping_bndry_gridded_50km_50km_classes_13_CCAP_scale30/inference_tiles_scale30_784.tif\n",
      "Image opened\n"
     ]
    },
    {
     "name": "stderr",
     "output_type": "stream",
     "text": [
      "[Parallel(n_jobs=12)]: Using backend ThreadingBackend with 12 concurrent workers.\n",
      "[Parallel(n_jobs=12)]: Done  26 tasks      | elapsed:    0.2s\n",
      "[Parallel(n_jobs=12)]: Done 100 out of 100 | elapsed:    0.6s finished\n"
     ]
    },
    {
     "name": "stdout",
     "output_type": "stream",
     "text": [
      "Class prediction was successful without slicing!\n",
      "No slicing was necessary!\n",
      "Image saved to: local_model_outputs_classifier_prob_habitat_suitability_CCAP_NORTH_east_coast_USA_13_4000_1000_all_predictors_depth_None/output_2023-08-04-08_10_40_157.tif\n",
      "\n",
      "\n",
      "\n",
      "\n",
      "Starting image: /Users/margauxmforstyhe/Desktop/workspace/wetlands_labs/CCAP boundaries/north_east_coast/tiles_north_east_coast_ccap_mapping_bndry_gridded_50km_50km_classes_13_CCAP_scale30/inference_tiles_scale30_551.tif\n",
      "Image opened\n"
     ]
    },
    {
     "name": "stderr",
     "output_type": "stream",
     "text": [
      "[Parallel(n_jobs=12)]: Using backend ThreadingBackend with 12 concurrent workers.\n",
      "[Parallel(n_jobs=12)]: Done  26 tasks      | elapsed:    0.3s\n",
      "[Parallel(n_jobs=12)]: Done 100 out of 100 | elapsed:    1.0s finished\n"
     ]
    },
    {
     "name": "stdout",
     "output_type": "stream",
     "text": [
      "Class prediction was successful without slicing!\n",
      "No slicing was necessary!\n",
      "Image saved to: local_model_outputs_classifier_prob_habitat_suitability_CCAP_NORTH_east_coast_USA_13_4000_1000_all_predictors_depth_None/output_2023-08-04-08_10_41_158.tif\n",
      "\n",
      "\n",
      "\n",
      "\n",
      "Starting image: /Users/margauxmforstyhe/Desktop/workspace/wetlands_labs/CCAP boundaries/north_east_coast/tiles_north_east_coast_ccap_mapping_bndry_gridded_50km_50km_classes_13_CCAP_scale30/inference_tiles_scale30_237.tif\n",
      "Image opened\n"
     ]
    },
    {
     "name": "stderr",
     "output_type": "stream",
     "text": [
      "[Parallel(n_jobs=12)]: Using backend ThreadingBackend with 12 concurrent workers.\n",
      "[Parallel(n_jobs=12)]: Done  26 tasks      | elapsed:    1.3s\n",
      "[Parallel(n_jobs=12)]: Done 100 out of 100 | elapsed:    3.6s finished\n"
     ]
    },
    {
     "name": "stdout",
     "output_type": "stream",
     "text": [
      "Class prediction was successful without slicing!\n",
      "No slicing was necessary!\n",
      "Image saved to: local_model_outputs_classifier_prob_habitat_suitability_CCAP_NORTH_east_coast_USA_13_4000_1000_all_predictors_depth_None/output_2023-08-04-08_10_45_159.tif\n",
      "\n",
      "\n",
      "\n",
      "\n",
      "Starting image: /Users/margauxmforstyhe/Desktop/workspace/wetlands_labs/CCAP boundaries/north_east_coast/tiles_north_east_coast_ccap_mapping_bndry_gridded_50km_50km_classes_13_CCAP_scale30/inference_tiles_scale30_223.tif\n",
      "Image opened\n"
     ]
    },
    {
     "name": "stderr",
     "output_type": "stream",
     "text": [
      "[Parallel(n_jobs=12)]: Using backend ThreadingBackend with 12 concurrent workers.\n",
      "[Parallel(n_jobs=12)]: Done  26 tasks      | elapsed:    0.2s\n",
      "[Parallel(n_jobs=12)]: Done 100 out of 100 | elapsed:    0.6s finished\n"
     ]
    },
    {
     "name": "stdout",
     "output_type": "stream",
     "text": [
      "Class prediction was successful without slicing!\n",
      "No slicing was necessary!\n",
      "Image saved to: local_model_outputs_classifier_prob_habitat_suitability_CCAP_NORTH_east_coast_USA_13_4000_1000_all_predictors_depth_None/output_2023-08-04-08_10_46_160.tif\n",
      "\n",
      "\n",
      "\n",
      "\n",
      "Starting image: /Users/margauxmforstyhe/Desktop/workspace/wetlands_labs/CCAP boundaries/north_east_coast/tiles_north_east_coast_ccap_mapping_bndry_gridded_50km_50km_classes_13_CCAP_scale30/inference_tiles_scale30_545.tif\n",
      "Image opened\n"
     ]
    },
    {
     "name": "stderr",
     "output_type": "stream",
     "text": [
      "[Parallel(n_jobs=12)]: Using backend ThreadingBackend with 12 concurrent workers.\n",
      "[Parallel(n_jobs=12)]: Done  26 tasks      | elapsed:    0.2s\n",
      "[Parallel(n_jobs=12)]: Done 100 out of 100 | elapsed:    0.7s finished\n"
     ]
    },
    {
     "name": "stdout",
     "output_type": "stream",
     "text": [
      "Class prediction was successful without slicing!\n",
      "No slicing was necessary!\n",
      "Image saved to: local_model_outputs_classifier_prob_habitat_suitability_CCAP_NORTH_east_coast_USA_13_4000_1000_all_predictors_depth_None/output_2023-08-04-08_10_47_161.tif\n",
      "\n",
      "\n",
      "\n",
      "\n",
      "Starting image: /Users/margauxmforstyhe/Desktop/workspace/wetlands_labs/CCAP boundaries/north_east_coast/tiles_north_east_coast_ccap_mapping_bndry_gridded_50km_50km_classes_13_CCAP_scale30/inference_tiles_scale30_579.tif\n",
      "Image opened\n"
     ]
    },
    {
     "name": "stderr",
     "output_type": "stream",
     "text": [
      "[Parallel(n_jobs=12)]: Using backend ThreadingBackend with 12 concurrent workers.\n",
      "[Parallel(n_jobs=12)]: Done  26 tasks      | elapsed:    1.1s\n",
      "[Parallel(n_jobs=12)]: Done 100 out of 100 | elapsed:    3.1s finished\n"
     ]
    },
    {
     "name": "stdout",
     "output_type": "stream",
     "text": [
      "Class prediction was successful without slicing!\n",
      "No slicing was necessary!\n",
      "Image saved to: local_model_outputs_classifier_prob_habitat_suitability_CCAP_NORTH_east_coast_USA_13_4000_1000_all_predictors_depth_None/output_2023-08-04-08_10_51_162.tif\n",
      "\n",
      "\n",
      "\n",
      "\n",
      "Starting image: /Users/margauxmforstyhe/Desktop/workspace/wetlands_labs/CCAP boundaries/north_east_coast/tiles_north_east_coast_ccap_mapping_bndry_gridded_50km_50km_classes_13_CCAP_scale30/inference_tiles_scale30_592.tif\n",
      "Image opened\n"
     ]
    },
    {
     "name": "stderr",
     "output_type": "stream",
     "text": [
      "[Parallel(n_jobs=12)]: Using backend ThreadingBackend with 12 concurrent workers.\n",
      "[Parallel(n_jobs=12)]: Done  26 tasks      | elapsed:    0.8s\n",
      "[Parallel(n_jobs=12)]: Done 100 out of 100 | elapsed:    2.5s finished\n"
     ]
    },
    {
     "name": "stdout",
     "output_type": "stream",
     "text": [
      "Class prediction was successful without slicing!\n",
      "No slicing was necessary!\n",
      "Image saved to: local_model_outputs_classifier_prob_habitat_suitability_CCAP_NORTH_east_coast_USA_13_4000_1000_all_predictors_depth_None/output_2023-08-04-08_10_54_163.tif\n",
      "\n",
      "\n",
      "\n",
      "\n",
      "Starting image: /Users/margauxmforstyhe/Desktop/workspace/wetlands_labs/CCAP boundaries/north_east_coast/tiles_north_east_coast_ccap_mapping_bndry_gridded_50km_50km_classes_13_CCAP_scale30/inference_tiles_scale30_586.tif\n",
      "Image opened\n"
     ]
    },
    {
     "name": "stderr",
     "output_type": "stream",
     "text": [
      "[Parallel(n_jobs=12)]: Using backend ThreadingBackend with 12 concurrent workers.\n",
      "[Parallel(n_jobs=12)]: Done  26 tasks      | elapsed:    0.8s\n",
      "[Parallel(n_jobs=12)]: Done 100 out of 100 | elapsed:    2.3s finished\n",
      "[Parallel(n_jobs=12)]: Using backend ThreadingBackend with 12 concurrent workers.\n",
      "[Parallel(n_jobs=12)]: Done  26 tasks      | elapsed:    0.0s\n"
     ]
    },
    {
     "name": "stdout",
     "output_type": "stream",
     "text": [
      "Class prediction was successful without slicing!\n",
      "No slicing was necessary!\n",
      "Image saved to: local_model_outputs_classifier_prob_habitat_suitability_CCAP_NORTH_east_coast_USA_13_4000_1000_all_predictors_depth_None/output_2023-08-04-08_10_57_164.tif\n",
      "\n",
      "\n",
      "\n",
      "\n",
      "Starting image: /Users/margauxmforstyhe/Desktop/workspace/wetlands_labs/CCAP boundaries/north_east_coast/tiles_north_east_coast_ccap_mapping_bndry_gridded_50km_50km_classes_13_CCAP_scale30/inference_tiles_scale30_587.tif\n",
      "Image opened\n"
     ]
    },
    {
     "name": "stderr",
     "output_type": "stream",
     "text": [
      "[Parallel(n_jobs=12)]: Done 100 out of 100 | elapsed:    0.1s finished\n",
      "[Parallel(n_jobs=12)]: Using backend ThreadingBackend with 12 concurrent workers.\n"
     ]
    },
    {
     "name": "stdout",
     "output_type": "stream",
     "text": [
      "Class prediction was successful without slicing!\n",
      "No slicing was necessary!\n",
      "Image saved to: local_model_outputs_classifier_prob_habitat_suitability_CCAP_NORTH_east_coast_USA_13_4000_1000_all_predictors_depth_None/output_2023-08-04-08_10_57_165.tif\n",
      "\n",
      "\n",
      "\n",
      "\n",
      "Starting image: /Users/margauxmforstyhe/Desktop/workspace/wetlands_labs/CCAP boundaries/north_east_coast/tiles_north_east_coast_ccap_mapping_bndry_gridded_50km_50km_classes_13_CCAP_scale30/inference_tiles_scale30_593.tif\n",
      "Image opened\n"
     ]
    },
    {
     "name": "stderr",
     "output_type": "stream",
     "text": [
      "[Parallel(n_jobs=12)]: Done  26 tasks      | elapsed:    0.1s\n",
      "[Parallel(n_jobs=12)]: Done 100 out of 100 | elapsed:    0.3s finished\n",
      "[Parallel(n_jobs=12)]: Using backend ThreadingBackend with 12 concurrent workers.\n"
     ]
    },
    {
     "name": "stdout",
     "output_type": "stream",
     "text": [
      "Class prediction was successful without slicing!\n",
      "No slicing was necessary!\n",
      "Image saved to: local_model_outputs_classifier_prob_habitat_suitability_CCAP_NORTH_east_coast_USA_13_4000_1000_all_predictors_depth_None/output_2023-08-04-08_10_58_166.tif\n",
      "\n",
      "\n",
      "\n",
      "\n",
      "Starting image: /Users/margauxmforstyhe/Desktop/workspace/wetlands_labs/CCAP boundaries/north_east_coast/tiles_north_east_coast_ccap_mapping_bndry_gridded_50km_50km_classes_13_CCAP_scale30/inference_tiles_scale30_578.tif\n",
      "Image opened\n"
     ]
    },
    {
     "name": "stderr",
     "output_type": "stream",
     "text": [
      "[Parallel(n_jobs=12)]: Done  26 tasks      | elapsed:    0.2s\n",
      "[Parallel(n_jobs=12)]: Done 100 out of 100 | elapsed:    0.5s finished\n"
     ]
    },
    {
     "name": "stdout",
     "output_type": "stream",
     "text": [
      "Class prediction was successful without slicing!\n",
      "No slicing was necessary!\n",
      "Image saved to: local_model_outputs_classifier_prob_habitat_suitability_CCAP_NORTH_east_coast_USA_13_4000_1000_all_predictors_depth_None/output_2023-08-04-08_10_58_167.tif\n",
      "\n",
      "\n",
      "\n",
      "\n",
      "Starting image: /Users/margauxmforstyhe/Desktop/workspace/wetlands_labs/CCAP boundaries/north_east_coast/tiles_north_east_coast_ccap_mapping_bndry_gridded_50km_50km_classes_13_CCAP_scale30/inference_tiles_scale30_222.tif\n",
      "Image opened\n"
     ]
    },
    {
     "name": "stderr",
     "output_type": "stream",
     "text": [
      "[Parallel(n_jobs=12)]: Using backend ThreadingBackend with 12 concurrent workers.\n",
      "[Parallel(n_jobs=12)]: Done  26 tasks      | elapsed:    1.0s\n",
      "[Parallel(n_jobs=12)]: Done 100 out of 100 | elapsed:    3.0s finished\n",
      "[Parallel(n_jobs=12)]: Using backend ThreadingBackend with 12 concurrent workers.\n",
      "[Parallel(n_jobs=12)]: Done  26 tasks      | elapsed:    0.0s\n",
      "[Parallel(n_jobs=12)]: Done 100 out of 100 | elapsed:    0.0s finished\n",
      "[Parallel(n_jobs=12)]: Using backend ThreadingBackend with 12 concurrent workers.\n"
     ]
    },
    {
     "name": "stdout",
     "output_type": "stream",
     "text": [
      "Class prediction was successful without slicing!\n",
      "No slicing was necessary!\n",
      "Image saved to: local_model_outputs_classifier_prob_habitat_suitability_CCAP_NORTH_east_coast_USA_13_4000_1000_all_predictors_depth_None/output_2023-08-04-08_11_02_168.tif\n",
      "\n",
      "\n",
      "\n",
      "\n",
      "Starting image: /Users/margauxmforstyhe/Desktop/workspace/wetlands_labs/CCAP boundaries/north_east_coast/tiles_north_east_coast_ccap_mapping_bndry_gridded_50km_50km_classes_13_CCAP_scale30/inference_tiles_scale30_544.tif\n",
      "Image opened\n",
      "Class prediction was successful without slicing!\n",
      "No slicing was necessary!\n",
      "Image saved to: local_model_outputs_classifier_prob_habitat_suitability_CCAP_NORTH_east_coast_USA_13_4000_1000_all_predictors_depth_None/output_2023-08-04-08_11_02_169.tif\n",
      "\n",
      "\n",
      "\n",
      "\n",
      "Starting image: /Users/margauxmforstyhe/Desktop/workspace/wetlands_labs/CCAP boundaries/north_east_coast/tiles_north_east_coast_ccap_mapping_bndry_gridded_50km_50km_classes_13_CCAP_scale30/inference_tiles_scale30_550.tif\n",
      "Image opened\n"
     ]
    },
    {
     "name": "stderr",
     "output_type": "stream",
     "text": [
      "[Parallel(n_jobs=12)]: Done  26 tasks      | elapsed:    0.0s\n",
      "[Parallel(n_jobs=12)]: Done 100 out of 100 | elapsed:    0.0s finished\n"
     ]
    },
    {
     "name": "stdout",
     "output_type": "stream",
     "text": [
      "Class prediction was successful without slicing!\n",
      "No slicing was necessary!\n",
      "Image saved to: local_model_outputs_classifier_prob_habitat_suitability_CCAP_NORTH_east_coast_USA_13_4000_1000_all_predictors_depth_None/output_2023-08-04-08_11_02_170.tif\n",
      "\n",
      "\n",
      "\n",
      "\n",
      "Starting image: /Users/margauxmforstyhe/Desktop/workspace/wetlands_labs/CCAP boundaries/north_east_coast/tiles_north_east_coast_ccap_mapping_bndry_gridded_50km_50km_classes_13_CCAP_scale30/inference_tiles_scale30_236.tif\n",
      "Image opened\n"
     ]
    },
    {
     "name": "stderr",
     "output_type": "stream",
     "text": [
      "[Parallel(n_jobs=12)]: Using backend ThreadingBackend with 12 concurrent workers.\n",
      "[Parallel(n_jobs=12)]: Done  26 tasks      | elapsed:    0.5s\n",
      "[Parallel(n_jobs=12)]: Done 100 out of 100 | elapsed:    1.3s finished\n"
     ]
    },
    {
     "name": "stdout",
     "output_type": "stream",
     "text": [
      "Class prediction was successful without slicing!\n",
      "No slicing was necessary!\n",
      "Image saved to: local_model_outputs_classifier_prob_habitat_suitability_CCAP_NORTH_east_coast_USA_13_4000_1000_all_predictors_depth_None/output_2023-08-04-08_11_04_171.tif\n",
      "\n",
      "\n",
      "\n",
      "\n",
      "Starting image: /Users/margauxmforstyhe/Desktop/workspace/wetlands_labs/CCAP boundaries/north_east_coast/tiles_north_east_coast_ccap_mapping_bndry_gridded_50km_50km_classes_13_CCAP_scale30/inference_tiles_scale30_785.tif\n",
      "Image opened\n"
     ]
    },
    {
     "name": "stderr",
     "output_type": "stream",
     "text": [
      "[Parallel(n_jobs=12)]: Using backend ThreadingBackend with 12 concurrent workers.\n",
      "[Parallel(n_jobs=12)]: Done  26 tasks      | elapsed:    1.3s\n",
      "[Parallel(n_jobs=12)]: Done 100 out of 100 | elapsed:    3.6s finished\n"
     ]
    },
    {
     "name": "stdout",
     "output_type": "stream",
     "text": [
      "Class prediction was successful without slicing!\n",
      "No slicing was necessary!\n",
      "Image saved to: local_model_outputs_classifier_prob_habitat_suitability_CCAP_NORTH_east_coast_USA_13_4000_1000_all_predictors_depth_None/output_2023-08-04-08_11_08_172.tif\n",
      "\n",
      "\n",
      "\n",
      "\n",
      "Starting image: /Users/margauxmforstyhe/Desktop/workspace/wetlands_labs/CCAP boundaries/north_east_coast/tiles_north_east_coast_ccap_mapping_bndry_gridded_50km_50km_classes_13_CCAP_scale30/inference_tiles_scale30_791.tif\n",
      "Image opened\n"
     ]
    },
    {
     "name": "stderr",
     "output_type": "stream",
     "text": [
      "[Parallel(n_jobs=12)]: Using backend ThreadingBackend with 12 concurrent workers.\n",
      "[Parallel(n_jobs=12)]: Done  26 tasks      | elapsed:    1.2s\n",
      "[Parallel(n_jobs=12)]: Done 100 out of 100 | elapsed:    3.5s finished\n"
     ]
    },
    {
     "name": "stdout",
     "output_type": "stream",
     "text": [
      "Class prediction was successful without slicing!\n",
      "No slicing was necessary!\n",
      "Image saved to: local_model_outputs_classifier_prob_habitat_suitability_CCAP_NORTH_east_coast_USA_13_4000_1000_all_predictors_depth_None/output_2023-08-04-08_11_12_173.tif\n",
      "\n",
      "\n",
      "\n",
      "\n",
      "Starting image: /Users/margauxmforstyhe/Desktop/workspace/wetlands_labs/CCAP boundaries/north_east_coast/tiles_north_east_coast_ccap_mapping_bndry_gridded_50km_50km_classes_13_CCAP_scale30/inference_tiles_scale30_746.tif\n",
      "Image opened\n"
     ]
    },
    {
     "name": "stderr",
     "output_type": "stream",
     "text": [
      "[Parallel(n_jobs=12)]: Using backend ThreadingBackend with 12 concurrent workers.\n",
      "[Parallel(n_jobs=12)]: Done  26 tasks      | elapsed:    0.9s\n",
      "[Parallel(n_jobs=12)]: Done 100 out of 100 | elapsed:    2.8s finished\n"
     ]
    },
    {
     "name": "stdout",
     "output_type": "stream",
     "text": [
      "Class prediction was successful without slicing!\n",
      "No slicing was necessary!\n",
      "Image saved to: local_model_outputs_classifier_prob_habitat_suitability_CCAP_NORTH_east_coast_USA_13_4000_1000_all_predictors_depth_None/output_2023-08-04-08_11_16_174.tif\n",
      "\n",
      "\n",
      "\n",
      "\n",
      "Starting image: /Users/margauxmforstyhe/Desktop/workspace/wetlands_labs/CCAP boundaries/north_east_coast/tiles_north_east_coast_ccap_mapping_bndry_gridded_50km_50km_classes_13_CCAP_scale30/inference_tiles_scale30_752.tif\n",
      "Image opened\n"
     ]
    },
    {
     "name": "stderr",
     "output_type": "stream",
     "text": [
      "[Parallel(n_jobs=12)]: Using backend ThreadingBackend with 12 concurrent workers.\n",
      "[Parallel(n_jobs=12)]: Done  26 tasks      | elapsed:    0.8s\n",
      "[Parallel(n_jobs=12)]: Done 100 out of 100 | elapsed:    2.6s finished\n"
     ]
    },
    {
     "name": "stdout",
     "output_type": "stream",
     "text": [
      "Class prediction was successful without slicing!\n",
      "No slicing was necessary!\n",
      "Image saved to: local_model_outputs_classifier_prob_habitat_suitability_CCAP_NORTH_east_coast_USA_13_4000_1000_all_predictors_depth_None/output_2023-08-04-08_11_19_175.tif\n",
      "\n",
      "\n",
      "\n",
      "\n",
      "Starting image: /Users/margauxmforstyhe/Desktop/workspace/wetlands_labs/CCAP boundaries/north_east_coast/tiles_north_east_coast_ccap_mapping_bndry_gridded_50km_50km_classes_13_CCAP_scale30/inference_tiles_scale30_815.tif\n",
      "Image opened\n"
     ]
    },
    {
     "name": "stderr",
     "output_type": "stream",
     "text": [
      "[Parallel(n_jobs=12)]: Using backend ThreadingBackend with 12 concurrent workers.\n",
      "[Parallel(n_jobs=12)]: Done  26 tasks      | elapsed:    1.6s\n",
      "[Parallel(n_jobs=12)]: Done 100 out of 100 | elapsed:    4.7s finished\n"
     ]
    },
    {
     "name": "stdout",
     "output_type": "stream",
     "text": [
      "Class prediction was successful without slicing!\n",
      "No slicing was necessary!\n",
      "Image saved to: local_model_outputs_classifier_prob_habitat_suitability_CCAP_NORTH_east_coast_USA_13_4000_1000_all_predictors_depth_None/output_2023-08-04-08_11_24_176.tif\n",
      "\n",
      "\n",
      "\n",
      "\n",
      "Starting image: /Users/margauxmforstyhe/Desktop/workspace/wetlands_labs/CCAP boundaries/north_east_coast/tiles_north_east_coast_ccap_mapping_bndry_gridded_50km_50km_classes_13_CCAP_scale30/inference_tiles_scale30_801.tif\n",
      "Image opened\n"
     ]
    },
    {
     "name": "stderr",
     "output_type": "stream",
     "text": [
      "[Parallel(n_jobs=12)]: Using backend ThreadingBackend with 12 concurrent workers.\n",
      "[Parallel(n_jobs=12)]: Done  26 tasks      | elapsed:    1.1s\n",
      "[Parallel(n_jobs=12)]: Done 100 out of 100 | elapsed:    3.4s finished\n"
     ]
    },
    {
     "name": "stdout",
     "output_type": "stream",
     "text": [
      "Class prediction was successful without slicing!\n",
      "No slicing was necessary!\n",
      "Image saved to: local_model_outputs_classifier_prob_habitat_suitability_CCAP_NORTH_east_coast_USA_13_4000_1000_all_predictors_depth_None/output_2023-08-04-08_11_28_177.tif\n",
      "\n",
      "\n",
      "\n",
      "\n",
      "Starting image: /Users/margauxmforstyhe/Desktop/workspace/wetlands_labs/CCAP boundaries/north_east_coast/tiles_north_east_coast_ccap_mapping_bndry_gridded_50km_50km_classes_13_CCAP_scale30/inference_tiles_scale30_829.tif\n",
      "Image opened\n"
     ]
    },
    {
     "name": "stderr",
     "output_type": "stream",
     "text": [
      "[Parallel(n_jobs=12)]: Using backend ThreadingBackend with 12 concurrent workers.\n",
      "[Parallel(n_jobs=12)]: Done  26 tasks      | elapsed:    1.3s\n",
      "[Parallel(n_jobs=12)]: Done 100 out of 100 | elapsed:    3.8s finished\n"
     ]
    },
    {
     "name": "stdout",
     "output_type": "stream",
     "text": [
      "Class prediction was successful without slicing!\n",
      "No slicing was necessary!\n",
      "Image saved to: local_model_outputs_classifier_prob_habitat_suitability_CCAP_NORTH_east_coast_USA_13_4000_1000_all_predictors_depth_None/output_2023-08-04-08_11_33_178.tif\n",
      "\n",
      "\n",
      "\n",
      "\n",
      "Starting image: /Users/margauxmforstyhe/Desktop/workspace/wetlands_labs/CCAP boundaries/north_east_coast/tiles_north_east_coast_ccap_mapping_bndry_gridded_50km_50km_classes_13_CCAP_scale30/inference_tiles_scale30_197.tif\n",
      "Image opened\n"
     ]
    },
    {
     "name": "stderr",
     "output_type": "stream",
     "text": [
      "[Parallel(n_jobs=12)]: Using backend ThreadingBackend with 12 concurrent workers.\n",
      "[Parallel(n_jobs=12)]: Done  26 tasks      | elapsed:    2.2s\n",
      "[Parallel(n_jobs=12)]: Done 100 out of 100 | elapsed:    5.1s finished\n"
     ]
    },
    {
     "name": "stdout",
     "output_type": "stream",
     "text": [
      "Class prediction was successful without slicing!\n",
      "No slicing was necessary!\n",
      "Image saved to: local_model_outputs_classifier_prob_habitat_suitability_CCAP_NORTH_east_coast_USA_13_4000_1000_all_predictors_depth_None/output_2023-08-04-08_11_40_179.tif\n",
      "\n",
      "\n",
      "\n",
      "\n",
      "Starting image: /Users/margauxmforstyhe/Desktop/workspace/wetlands_labs/CCAP boundaries/north_east_coast/tiles_north_east_coast_ccap_mapping_bndry_gridded_50km_50km_classes_13_CCAP_scale30/inference_tiles_scale30_183.tif\n",
      "Image opened\n"
     ]
    },
    {
     "name": "stderr",
     "output_type": "stream",
     "text": [
      "[Parallel(n_jobs=12)]: Using backend ThreadingBackend with 12 concurrent workers.\n",
      "[Parallel(n_jobs=12)]: Done  26 tasks      | elapsed:    2.6s\n",
      "[Parallel(n_jobs=12)]: Done 100 out of 100 | elapsed:    8.8s finished\n"
     ]
    },
    {
     "name": "stdout",
     "output_type": "stream",
     "text": [
      "Class prediction was successful without slicing!\n",
      "No slicing was necessary!\n",
      "Image saved to: local_model_outputs_classifier_prob_habitat_suitability_CCAP_NORTH_east_coast_USA_13_4000_1000_all_predictors_depth_None/output_2023-08-04-08_11_50_180.tif\n",
      "\n",
      "\n",
      "\n",
      "\n",
      "Starting image: /Users/margauxmforstyhe/Desktop/workspace/wetlands_labs/CCAP boundaries/north_east_coast/tiles_north_east_coast_ccap_mapping_bndry_gridded_50km_50km_classes_13_CCAP_scale30/inference_tiles_scale30_168.tif\n",
      "Image opened\n"
     ]
    },
    {
     "name": "stderr",
     "output_type": "stream",
     "text": [
      "[Parallel(n_jobs=12)]: Using backend ThreadingBackend with 12 concurrent workers.\n",
      "[Parallel(n_jobs=12)]: Done  26 tasks      | elapsed:    0.3s\n",
      "[Parallel(n_jobs=12)]: Done 100 out of 100 | elapsed:    0.9s finished\n"
     ]
    },
    {
     "name": "stdout",
     "output_type": "stream",
     "text": [
      "Class prediction was successful without slicing!\n",
      "No slicing was necessary!\n",
      "Image saved to: local_model_outputs_classifier_prob_habitat_suitability_CCAP_NORTH_east_coast_USA_13_4000_1000_all_predictors_depth_None/output_2023-08-04-08_11_51_181.tif\n",
      "\n",
      "\n",
      "\n",
      "\n",
      "Starting image: /Users/margauxmforstyhe/Desktop/workspace/wetlands_labs/CCAP boundaries/north_east_coast/tiles_north_east_coast_ccap_mapping_bndry_gridded_50km_50km_classes_13_CCAP_scale30/inference_tiles_scale30_632.tif\n",
      "Image opened\n"
     ]
    },
    {
     "name": "stderr",
     "output_type": "stream",
     "text": [
      "[Parallel(n_jobs=12)]: Using backend ThreadingBackend with 12 concurrent workers.\n",
      "[Parallel(n_jobs=12)]: Done  26 tasks      | elapsed:    2.6s\n",
      "[Parallel(n_jobs=12)]: Done 100 out of 100 | elapsed:    7.1s finished\n"
     ]
    },
    {
     "name": "stdout",
     "output_type": "stream",
     "text": [
      "Class prediction was successful without slicing!\n",
      "No slicing was necessary!\n",
      "Image saved to: local_model_outputs_classifier_prob_habitat_suitability_CCAP_NORTH_east_coast_USA_13_4000_1000_all_predictors_depth_None/output_2023-08-04-08_12_00_182.tif\n",
      "\n",
      "\n",
      "\n",
      "\n",
      "Starting image: /Users/margauxmforstyhe/Desktop/workspace/wetlands_labs/CCAP boundaries/north_east_coast/tiles_north_east_coast_ccap_mapping_bndry_gridded_50km_50km_classes_13_CCAP_scale30/inference_tiles_scale30_154.tif\n",
      "Image opened\n"
     ]
    },
    {
     "name": "stderr",
     "output_type": "stream",
     "text": [
      "[Parallel(n_jobs=12)]: Using backend ThreadingBackend with 12 concurrent workers.\n",
      "[Parallel(n_jobs=12)]: Done  26 tasks      | elapsed:    1.6s\n",
      "[Parallel(n_jobs=12)]: Done 100 out of 100 | elapsed:    4.5s finished\n"
     ]
    },
    {
     "name": "stdout",
     "output_type": "stream",
     "text": [
      "Class prediction was successful without slicing!\n",
      "No slicing was necessary!\n",
      "Image saved to: local_model_outputs_classifier_prob_habitat_suitability_CCAP_NORTH_east_coast_USA_13_4000_1000_all_predictors_depth_None/output_2023-08-04-08_12_05_183.tif\n",
      "\n",
      "\n",
      "\n",
      "\n",
      "Starting image: /Users/margauxmforstyhe/Desktop/workspace/wetlands_labs/CCAP boundaries/north_east_coast/tiles_north_east_coast_ccap_mapping_bndry_gridded_50km_50km_classes_13_CCAP_scale30/inference_tiles_scale30_140.tif\n",
      "Image opened\n"
     ]
    },
    {
     "name": "stderr",
     "output_type": "stream",
     "text": [
      "[Parallel(n_jobs=12)]: Using backend ThreadingBackend with 12 concurrent workers.\n",
      "[Parallel(n_jobs=12)]: Done  26 tasks      | elapsed:    1.9s\n",
      "[Parallel(n_jobs=12)]: Done 100 out of 100 | elapsed:    5.7s finished\n"
     ]
    },
    {
     "name": "stdout",
     "output_type": "stream",
     "text": [
      "Class prediction was successful without slicing!\n",
      "No slicing was necessary!\n",
      "Image saved to: local_model_outputs_classifier_prob_habitat_suitability_CCAP_NORTH_east_coast_USA_13_4000_1000_all_predictors_depth_None/output_2023-08-04-08_12_12_184.tif\n",
      "\n",
      "\n",
      "\n",
      "\n",
      "Starting image: /Users/margauxmforstyhe/Desktop/workspace/wetlands_labs/CCAP boundaries/north_east_coast/tiles_north_east_coast_ccap_mapping_bndry_gridded_50km_50km_classes_13_CCAP_scale30/inference_tiles_scale30_626.tif\n",
      "Image opened\n"
     ]
    },
    {
     "name": "stderr",
     "output_type": "stream",
     "text": [
      "[Parallel(n_jobs=12)]: Using backend ThreadingBackend with 12 concurrent workers.\n",
      "[Parallel(n_jobs=12)]: Done  26 tasks      | elapsed:    1.3s\n",
      "[Parallel(n_jobs=12)]: Done 100 out of 100 | elapsed:    4.4s finished\n"
     ]
    },
    {
     "name": "stdout",
     "output_type": "stream",
     "text": [
      "Class prediction was successful without slicing!\n",
      "No slicing was necessary!\n",
      "Image saved to: local_model_outputs_classifier_prob_habitat_suitability_CCAP_NORTH_east_coast_USA_13_4000_1000_all_predictors_depth_None/output_2023-08-04-08_12_17_185.tif\n",
      "\n",
      "\n",
      "\n",
      "\n",
      "Starting image: /Users/margauxmforstyhe/Desktop/workspace/wetlands_labs/CCAP boundaries/north_east_coast/tiles_north_east_coast_ccap_mapping_bndry_gridded_50km_50km_classes_13_CCAP_scale30/inference_tiles_scale30_395.tif\n",
      "Image opened\n"
     ]
    },
    {
     "name": "stderr",
     "output_type": "stream",
     "text": [
      "[Parallel(n_jobs=12)]: Using backend ThreadingBackend with 12 concurrent workers.\n",
      "[Parallel(n_jobs=12)]: Done  26 tasks      | elapsed:    1.9s\n",
      "[Parallel(n_jobs=12)]: Done 100 out of 100 | elapsed:    4.4s finished\n"
     ]
    },
    {
     "name": "stdout",
     "output_type": "stream",
     "text": [
      "Class prediction was successful without slicing!\n",
      "No slicing was necessary!\n",
      "Image saved to: local_model_outputs_classifier_prob_habitat_suitability_CCAP_NORTH_east_coast_USA_13_4000_1000_all_predictors_depth_None/output_2023-08-04-08_12_22_186.tif\n",
      "\n",
      "\n",
      "\n",
      "\n",
      "Starting image: /Users/margauxmforstyhe/Desktop/workspace/wetlands_labs/CCAP boundaries/north_east_coast/tiles_north_east_coast_ccap_mapping_bndry_gridded_50km_50km_classes_13_CCAP_scale30/inference_tiles_scale30_96.tif\n",
      "Image opened\n"
     ]
    },
    {
     "name": "stderr",
     "output_type": "stream",
     "text": [
      "[Parallel(n_jobs=12)]: Using backend ThreadingBackend with 12 concurrent workers.\n",
      "[Parallel(n_jobs=12)]: Done  26 tasks      | elapsed:    1.1s\n",
      "[Parallel(n_jobs=12)]: Done 100 out of 100 | elapsed:    3.2s finished\n"
     ]
    },
    {
     "name": "stdout",
     "output_type": "stream",
     "text": [
      "Class prediction was successful without slicing!\n",
      "No slicing was necessary!\n",
      "Image saved to: local_model_outputs_classifier_prob_habitat_suitability_CCAP_NORTH_east_coast_USA_13_4000_1000_all_predictors_depth_None/output_2023-08-04-08_12_26_187.tif\n",
      "\n",
      "\n",
      "\n",
      "\n",
      "Starting image: /Users/margauxmforstyhe/Desktop/workspace/wetlands_labs/CCAP boundaries/north_east_coast/tiles_north_east_coast_ccap_mapping_bndry_gridded_50km_50km_classes_13_CCAP_scale30/inference_tiles_scale30_381.tif\n",
      "Image opened\n"
     ]
    },
    {
     "name": "stderr",
     "output_type": "stream",
     "text": [
      "[Parallel(n_jobs=12)]: Using backend ThreadingBackend with 12 concurrent workers.\n",
      "[Parallel(n_jobs=12)]: Done  26 tasks      | elapsed:    1.4s\n",
      "[Parallel(n_jobs=12)]: Done 100 out of 100 | elapsed:    4.5s finished\n",
      "[Parallel(n_jobs=12)]: Using backend ThreadingBackend with 12 concurrent workers.\n",
      "[Parallel(n_jobs=12)]: Done  26 tasks      | elapsed:    0.0s\n"
     ]
    },
    {
     "name": "stdout",
     "output_type": "stream",
     "text": [
      "Class prediction was successful without slicing!\n",
      "No slicing was necessary!\n",
      "Image saved to: local_model_outputs_classifier_prob_habitat_suitability_CCAP_NORTH_east_coast_USA_13_4000_1000_all_predictors_depth_None/output_2023-08-04-08_12_32_188.tif\n",
      "\n",
      "\n",
      "\n",
      "\n",
      "Starting image: /Users/margauxmforstyhe/Desktop/workspace/wetlands_labs/CCAP boundaries/north_east_coast/tiles_north_east_coast_ccap_mapping_bndry_gridded_50km_50km_classes_13_CCAP_scale30/inference_tiles_scale30_82.tif\n",
      "Image opened\n",
      "Class prediction was successful without slicing!\n",
      "No slicing was necessary!\n"
     ]
    },
    {
     "name": "stderr",
     "output_type": "stream",
     "text": [
      "[Parallel(n_jobs=12)]: Done 100 out of 100 | elapsed:    0.1s finished\n"
     ]
    },
    {
     "name": "stdout",
     "output_type": "stream",
     "text": [
      "Image saved to: local_model_outputs_classifier_prob_habitat_suitability_CCAP_NORTH_east_coast_USA_13_4000_1000_all_predictors_depth_None/output_2023-08-04-08_12_32_189.tif\n",
      "\n",
      "\n",
      "\n",
      "\n",
      "Starting image: /Users/margauxmforstyhe/Desktop/workspace/wetlands_labs/CCAP boundaries/north_east_coast/tiles_north_east_coast_ccap_mapping_bndry_gridded_50km_50km_classes_13_CCAP_scale30/inference_tiles_scale30_69.tif\n",
      "Image opened\n"
     ]
    },
    {
     "name": "stderr",
     "output_type": "stream",
     "text": [
      "[Parallel(n_jobs=12)]: Using backend ThreadingBackend with 12 concurrent workers.\n",
      "[Parallel(n_jobs=12)]: Done  26 tasks      | elapsed:    1.2s\n",
      "[Parallel(n_jobs=12)]: Done 100 out of 100 | elapsed:    3.9s finished\n"
     ]
    },
    {
     "name": "stdout",
     "output_type": "stream",
     "text": [
      "Class prediction was successful without slicing!\n",
      "No slicing was necessary!\n",
      "Image saved to: local_model_outputs_classifier_prob_habitat_suitability_CCAP_NORTH_east_coast_USA_13_4000_1000_all_predictors_depth_None/output_2023-08-04-08_12_37_190.tif\n",
      "\n",
      "\n",
      "\n",
      "\n",
      "Starting image: /Users/margauxmforstyhe/Desktop/workspace/wetlands_labs/CCAP boundaries/north_east_coast/tiles_north_east_coast_ccap_mapping_bndry_gridded_50km_50km_classes_13_CCAP_scale30/inference_tiles_scale30_418.tif\n",
      "Image opened\n"
     ]
    },
    {
     "name": "stderr",
     "output_type": "stream",
     "text": [
      "[Parallel(n_jobs=12)]: Using backend ThreadingBackend with 12 concurrent workers.\n",
      "[Parallel(n_jobs=12)]: Done  26 tasks      | elapsed:    1.7s\n",
      "[Parallel(n_jobs=12)]: Done 100 out of 100 | elapsed:    4.9s finished\n"
     ]
    },
    {
     "name": "stdout",
     "output_type": "stream",
     "text": [
      "Class prediction was successful without slicing!\n",
      "No slicing was necessary!\n",
      "Image saved to: local_model_outputs_classifier_prob_habitat_suitability_CCAP_NORTH_east_coast_USA_13_4000_1000_all_predictors_depth_None/output_2023-08-04-08_12_43_191.tif\n",
      "\n",
      "\n",
      "\n",
      "\n",
      "Starting image: /Users/margauxmforstyhe/Desktop/workspace/wetlands_labs/CCAP boundaries/north_east_coast/tiles_north_east_coast_ccap_mapping_bndry_gridded_50km_50km_classes_13_CCAP_scale30/inference_tiles_scale30_55.tif\n",
      "Image opened\n"
     ]
    },
    {
     "name": "stderr",
     "output_type": "stream",
     "text": [
      "[Parallel(n_jobs=12)]: Using backend ThreadingBackend with 12 concurrent workers.\n",
      "[Parallel(n_jobs=12)]: Done  26 tasks      | elapsed:    0.7s\n",
      "[Parallel(n_jobs=12)]: Done 100 out of 100 | elapsed:    2.5s finished\n"
     ]
    },
    {
     "name": "stdout",
     "output_type": "stream",
     "text": [
      "Class prediction was successful without slicing!\n",
      "No slicing was necessary!\n",
      "Image saved to: local_model_outputs_classifier_prob_habitat_suitability_CCAP_NORTH_east_coast_USA_13_4000_1000_all_predictors_depth_None/output_2023-08-04-08_12_46_192.tif\n",
      "\n",
      "\n",
      "\n",
      "\n",
      "Starting image: /Users/margauxmforstyhe/Desktop/workspace/wetlands_labs/CCAP boundaries/north_east_coast/tiles_north_east_coast_ccap_mapping_bndry_gridded_50km_50km_classes_13_CCAP_scale30/inference_tiles_scale30_356.tif\n",
      "Image opened\n"
     ]
    },
    {
     "name": "stderr",
     "output_type": "stream",
     "text": [
      "[Parallel(n_jobs=12)]: Using backend ThreadingBackend with 12 concurrent workers.\n",
      "[Parallel(n_jobs=12)]: Done  26 tasks      | elapsed:    0.7s\n",
      "[Parallel(n_jobs=12)]: Done 100 out of 100 | elapsed:    2.3s finished\n"
     ]
    },
    {
     "name": "stdout",
     "output_type": "stream",
     "text": [
      "Class prediction was successful without slicing!\n",
      "No slicing was necessary!\n",
      "Image saved to: local_model_outputs_classifier_prob_habitat_suitability_CCAP_NORTH_east_coast_USA_13_4000_1000_all_predictors_depth_None/output_2023-08-04-08_12_49_193.tif\n",
      "\n",
      "\n",
      "\n",
      "\n",
      "Starting image: /Users/margauxmforstyhe/Desktop/workspace/wetlands_labs/CCAP boundaries/north_east_coast/tiles_north_east_coast_ccap_mapping_bndry_gridded_50km_50km_classes_13_CCAP_scale30/inference_tiles_scale30_430.tif\n",
      "Image opened\n"
     ]
    },
    {
     "name": "stderr",
     "output_type": "stream",
     "text": [
      "[Parallel(n_jobs=12)]: Using backend ThreadingBackend with 12 concurrent workers.\n",
      "[Parallel(n_jobs=12)]: Done  26 tasks      | elapsed:    1.2s\n",
      "[Parallel(n_jobs=12)]: Done 100 out of 100 | elapsed:    3.6s finished\n"
     ]
    },
    {
     "name": "stdout",
     "output_type": "stream",
     "text": [
      "Class prediction was successful without slicing!\n",
      "No slicing was necessary!\n",
      "Image saved to: local_model_outputs_classifier_prob_habitat_suitability_CCAP_NORTH_east_coast_USA_13_4000_1000_all_predictors_depth_None/output_2023-08-04-08_12_53_194.tif\n",
      "\n",
      "\n",
      "\n",
      "\n",
      "Starting image: /Users/margauxmforstyhe/Desktop/workspace/wetlands_labs/CCAP boundaries/north_east_coast/tiles_north_east_coast_ccap_mapping_bndry_gridded_50km_50km_classes_13_CCAP_scale30/inference_tiles_scale30_424.tif\n",
      "Image opened\n"
     ]
    },
    {
     "name": "stderr",
     "output_type": "stream",
     "text": [
      "[Parallel(n_jobs=12)]: Using backend ThreadingBackend with 12 concurrent workers.\n",
      "[Parallel(n_jobs=12)]: Done  26 tasks      | elapsed:    1.5s\n",
      "[Parallel(n_jobs=12)]: Done 100 out of 100 | elapsed:    3.7s finished\n"
     ]
    },
    {
     "name": "stdout",
     "output_type": "stream",
     "text": [
      "Class prediction was successful without slicing!\n",
      "No slicing was necessary!\n",
      "Image saved to: local_model_outputs_classifier_prob_habitat_suitability_CCAP_NORTH_east_coast_USA_13_4000_1000_all_predictors_depth_None/output_2023-08-04-08_12_58_195.tif\n",
      "\n",
      "\n",
      "\n",
      "\n",
      "Starting image: /Users/margauxmforstyhe/Desktop/workspace/wetlands_labs/CCAP boundaries/north_east_coast/tiles_north_east_coast_ccap_mapping_bndry_gridded_50km_50km_classes_13_CCAP_scale30/inference_tiles_scale30_41.tif\n",
      "Image opened\n"
     ]
    },
    {
     "name": "stderr",
     "output_type": "stream",
     "text": [
      "[Parallel(n_jobs=12)]: Using backend ThreadingBackend with 12 concurrent workers.\n",
      "[Parallel(n_jobs=12)]: Done  26 tasks      | elapsed:    2.1s\n",
      "[Parallel(n_jobs=12)]: Done 100 out of 100 | elapsed:    6.0s finished\n"
     ]
    },
    {
     "name": "stdout",
     "output_type": "stream",
     "text": [
      "Class prediction was successful without slicing!\n",
      "No slicing was necessary!\n",
      "Image saved to: local_model_outputs_classifier_prob_habitat_suitability_CCAP_NORTH_east_coast_USA_13_4000_1000_all_predictors_depth_None/output_2023-08-04-08_13_04_196.tif\n",
      "\n",
      "\n",
      "\n",
      "\n",
      "Starting image: /Users/margauxmforstyhe/Desktop/workspace/wetlands_labs/CCAP boundaries/north_east_coast/tiles_north_east_coast_ccap_mapping_bndry_gridded_50km_50km_classes_13_CCAP_scale30/inference_tiles_scale30_342.tif\n",
      "Image opened\n"
     ]
    },
    {
     "name": "stderr",
     "output_type": "stream",
     "text": [
      "[Parallel(n_jobs=12)]: Using backend ThreadingBackend with 12 concurrent workers.\n",
      "[Parallel(n_jobs=12)]: Done  26 tasks      | elapsed:    1.2s\n",
      "[Parallel(n_jobs=12)]: Done 100 out of 100 | elapsed:    4.0s finished\n"
     ]
    },
    {
     "name": "stdout",
     "output_type": "stream",
     "text": [
      "Class prediction was successful without slicing!\n",
      "No slicing was necessary!\n",
      "Image saved to: local_model_outputs_classifier_prob_habitat_suitability_CCAP_NORTH_east_coast_USA_13_4000_1000_all_predictors_depth_None/output_2023-08-04-08_13_09_197.tif\n",
      "\n",
      "\n",
      "\n",
      "\n",
      "Starting image: /Users/margauxmforstyhe/Desktop/workspace/wetlands_labs/CCAP boundaries/north_east_coast/tiles_north_east_coast_ccap_mapping_bndry_gridded_50km_50km_classes_13_CCAP_scale30/inference_tiles_scale30_432.tif\n",
      "Image opened\n"
     ]
    },
    {
     "name": "stderr",
     "output_type": "stream",
     "text": [
      "[Parallel(n_jobs=12)]: Using backend ThreadingBackend with 12 concurrent workers.\n",
      "[Parallel(n_jobs=12)]: Done  26 tasks      | elapsed:    1.2s\n",
      "[Parallel(n_jobs=12)]: Done 100 out of 100 | elapsed:    3.6s finished\n"
     ]
    },
    {
     "name": "stdout",
     "output_type": "stream",
     "text": [
      "Class prediction was successful without slicing!\n",
      "No slicing was necessary!\n",
      "Image saved to: local_model_outputs_classifier_prob_habitat_suitability_CCAP_NORTH_east_coast_USA_13_4000_1000_all_predictors_depth_None/output_2023-08-04-08_13_13_198.tif\n",
      "\n",
      "\n",
      "\n",
      "\n",
      "Starting image: /Users/margauxmforstyhe/Desktop/workspace/wetlands_labs/CCAP boundaries/north_east_coast/tiles_north_east_coast_ccap_mapping_bndry_gridded_50km_50km_classes_13_CCAP_scale30/inference_tiles_scale30_354.tif\n",
      "Image opened\n"
     ]
    },
    {
     "name": "stderr",
     "output_type": "stream",
     "text": [
      "[Parallel(n_jobs=12)]: Using backend ThreadingBackend with 12 concurrent workers.\n",
      "[Parallel(n_jobs=12)]: Done  26 tasks      | elapsed:    2.6s\n",
      "[Parallel(n_jobs=12)]: Done 100 out of 100 | elapsed:    6.8s finished\n"
     ]
    },
    {
     "name": "stdout",
     "output_type": "stream",
     "text": [
      "Class prediction was successful without slicing!\n",
      "No slicing was necessary!\n",
      "Image saved to: local_model_outputs_classifier_prob_habitat_suitability_CCAP_NORTH_east_coast_USA_13_4000_1000_all_predictors_depth_None/output_2023-08-04-08_13_22_199.tif\n",
      "\n",
      "\n",
      "\n",
      "\n",
      "Starting image: /Users/margauxmforstyhe/Desktop/workspace/wetlands_labs/CCAP boundaries/north_east_coast/tiles_north_east_coast_ccap_mapping_bndry_gridded_50km_50km_classes_13_CCAP_scale30/inference_tiles_scale30_57.tif\n",
      "Image opened\n"
     ]
    },
    {
     "name": "stderr",
     "output_type": "stream",
     "text": [
      "[Parallel(n_jobs=12)]: Using backend ThreadingBackend with 12 concurrent workers.\n",
      "[Parallel(n_jobs=12)]: Done  26 tasks      | elapsed:    2.6s\n",
      "[Parallel(n_jobs=12)]: Done 100 out of 100 | elapsed:    7.9s finished\n"
     ]
    },
    {
     "name": "stdout",
     "output_type": "stream",
     "text": [
      "Class prediction was successful without slicing!\n",
      "No slicing was necessary!\n",
      "Image saved to: local_model_outputs_classifier_prob_habitat_suitability_CCAP_NORTH_east_coast_USA_13_4000_1000_all_predictors_depth_None/output_2023-08-04-08_13_31_200.tif\n",
      "\n",
      "\n",
      "\n",
      "\n",
      "Starting image: /Users/margauxmforstyhe/Desktop/workspace/wetlands_labs/CCAP boundaries/north_east_coast/tiles_north_east_coast_ccap_mapping_bndry_gridded_50km_50km_classes_13_CCAP_scale30/inference_tiles_scale30_340.tif\n",
      "Image opened\n"
     ]
    },
    {
     "name": "stderr",
     "output_type": "stream",
     "text": [
      "[Parallel(n_jobs=12)]: Using backend ThreadingBackend with 12 concurrent workers.\n",
      "[Parallel(n_jobs=12)]: Done  26 tasks      | elapsed:    1.7s\n",
      "[Parallel(n_jobs=12)]: Done 100 out of 100 | elapsed:    5.1s finished\n"
     ]
    },
    {
     "name": "stdout",
     "output_type": "stream",
     "text": [
      "Class prediction was successful without slicing!\n",
      "No slicing was necessary!\n",
      "Image saved to: local_model_outputs_classifier_prob_habitat_suitability_CCAP_NORTH_east_coast_USA_13_4000_1000_all_predictors_depth_None/output_2023-08-04-08_13_37_201.tif\n",
      "\n",
      "\n",
      "\n",
      "\n",
      "Starting image: /Users/margauxmforstyhe/Desktop/workspace/wetlands_labs/CCAP boundaries/north_east_coast/tiles_north_east_coast_ccap_mapping_bndry_gridded_50km_50km_classes_13_CCAP_scale30/inference_tiles_scale30_43.tif\n",
      "Image opened\n"
     ]
    },
    {
     "name": "stderr",
     "output_type": "stream",
     "text": [
      "[Parallel(n_jobs=12)]: Using backend ThreadingBackend with 12 concurrent workers.\n",
      "[Parallel(n_jobs=12)]: Done  26 tasks      | elapsed:    0.5s\n",
      "[Parallel(n_jobs=12)]: Done 100 out of 100 | elapsed:    1.4s finished\n"
     ]
    },
    {
     "name": "stdout",
     "output_type": "stream",
     "text": [
      "Class prediction was successful without slicing!\n",
      "No slicing was necessary!\n",
      "Image saved to: local_model_outputs_classifier_prob_habitat_suitability_CCAP_NORTH_east_coast_USA_13_4000_1000_all_predictors_depth_None/output_2023-08-04-08_13_39_202.tif\n",
      "\n",
      "\n",
      "\n",
      "\n",
      "Starting image: /Users/margauxmforstyhe/Desktop/workspace/wetlands_labs/CCAP boundaries/north_east_coast/tiles_north_east_coast_ccap_mapping_bndry_gridded_50km_50km_classes_13_CCAP_scale30/inference_tiles_scale30_426.tif\n",
      "Image opened\n"
     ]
    },
    {
     "name": "stderr",
     "output_type": "stream",
     "text": [
      "[Parallel(n_jobs=12)]: Using backend ThreadingBackend with 12 concurrent workers.\n",
      "[Parallel(n_jobs=12)]: Done  26 tasks      | elapsed:    1.1s\n",
      "[Parallel(n_jobs=12)]: Done 100 out of 100 | elapsed:    2.8s finished\n"
     ]
    },
    {
     "name": "stdout",
     "output_type": "stream",
     "text": [
      "Class prediction was successful without slicing!\n",
      "No slicing was necessary!\n",
      "Image saved to: local_model_outputs_classifier_prob_habitat_suitability_CCAP_NORTH_east_coast_USA_13_4000_1000_all_predictors_depth_None/output_2023-08-04-08_13_42_203.tif\n",
      "\n",
      "\n",
      "\n",
      "\n",
      "Starting image: /Users/margauxmforstyhe/Desktop/workspace/wetlands_labs/CCAP boundaries/north_east_coast/tiles_north_east_coast_ccap_mapping_bndry_gridded_50km_50km_classes_13_CCAP_scale30/inference_tiles_scale30_368.tif\n",
      "Image opened\n"
     ]
    },
    {
     "name": "stderr",
     "output_type": "stream",
     "text": [
      "[Parallel(n_jobs=12)]: Using backend ThreadingBackend with 12 concurrent workers.\n",
      "[Parallel(n_jobs=12)]: Done  26 tasks      | elapsed:    0.5s\n",
      "[Parallel(n_jobs=12)]: Done 100 out of 100 | elapsed:    1.6s finished\n"
     ]
    },
    {
     "name": "stdout",
     "output_type": "stream",
     "text": [
      "Class prediction was successful without slicing!\n",
      "No slicing was necessary!\n",
      "Image saved to: local_model_outputs_classifier_prob_habitat_suitability_CCAP_NORTH_east_coast_USA_13_4000_1000_all_predictors_depth_None/output_2023-08-04-08_13_44_204.tif\n",
      "\n",
      "\n",
      "\n",
      "\n",
      "Starting image: /Users/margauxmforstyhe/Desktop/workspace/wetlands_labs/CCAP boundaries/north_east_coast/tiles_north_east_coast_ccap_mapping_bndry_gridded_50km_50km_classes_13_CCAP_scale30/inference_tiles_scale30_94.tif\n",
      "Image opened\n"
     ]
    },
    {
     "name": "stderr",
     "output_type": "stream",
     "text": [
      "[Parallel(n_jobs=12)]: Using backend ThreadingBackend with 12 concurrent workers.\n",
      "[Parallel(n_jobs=12)]: Done  26 tasks      | elapsed:    1.6s\n",
      "[Parallel(n_jobs=12)]: Done 100 out of 100 | elapsed:    4.6s finished\n"
     ]
    },
    {
     "name": "stdout",
     "output_type": "stream",
     "text": [
      "Class prediction was successful without slicing!\n",
      "No slicing was necessary!\n",
      "Image saved to: local_model_outputs_classifier_prob_habitat_suitability_CCAP_NORTH_east_coast_USA_13_4000_1000_all_predictors_depth_None/output_2023-08-04-08_13_50_205.tif\n",
      "\n",
      "\n",
      "\n",
      "\n",
      "Starting image: /Users/margauxmforstyhe/Desktop/workspace/wetlands_labs/CCAP boundaries/north_east_coast/tiles_north_east_coast_ccap_mapping_bndry_gridded_50km_50km_classes_13_CCAP_scale30/inference_tiles_scale30_397.tif\n",
      "Image opened\n"
     ]
    },
    {
     "name": "stderr",
     "output_type": "stream",
     "text": [
      "[Parallel(n_jobs=12)]: Using backend ThreadingBackend with 12 concurrent workers.\n",
      "[Parallel(n_jobs=12)]: Done  26 tasks      | elapsed:    1.0s\n",
      "[Parallel(n_jobs=12)]: Done 100 out of 100 | elapsed:    3.1s finished\n"
     ]
    },
    {
     "name": "stdout",
     "output_type": "stream",
     "text": [
      "Class prediction was successful without slicing!\n",
      "No slicing was necessary!\n",
      "Image saved to: local_model_outputs_classifier_prob_habitat_suitability_CCAP_NORTH_east_coast_USA_13_4000_1000_all_predictors_depth_None/output_2023-08-04-08_13_54_206.tif\n",
      "\n",
      "\n",
      "\n",
      "\n",
      "Starting image: /Users/margauxmforstyhe/Desktop/workspace/wetlands_labs/CCAP boundaries/north_east_coast/tiles_north_east_coast_ccap_mapping_bndry_gridded_50km_50km_classes_13_CCAP_scale30/inference_tiles_scale30_80.tif\n",
      "Image opened\n"
     ]
    },
    {
     "name": "stderr",
     "output_type": "stream",
     "text": [
      "[Parallel(n_jobs=12)]: Using backend ThreadingBackend with 12 concurrent workers.\n",
      "[Parallel(n_jobs=12)]: Done  26 tasks      | elapsed:    0.9s\n",
      "[Parallel(n_jobs=12)]: Done 100 out of 100 | elapsed:    2.7s finished\n"
     ]
    },
    {
     "name": "stdout",
     "output_type": "stream",
     "text": [
      "Class prediction was successful without slicing!\n",
      "No slicing was necessary!\n",
      "Image saved to: local_model_outputs_classifier_prob_habitat_suitability_CCAP_NORTH_east_coast_USA_13_4000_1000_all_predictors_depth_None/output_2023-08-04-08_13_57_207.tif\n",
      "\n",
      "\n",
      "\n",
      "\n",
      "Starting image: /Users/margauxmforstyhe/Desktop/workspace/wetlands_labs/CCAP boundaries/north_east_coast/tiles_north_east_coast_ccap_mapping_bndry_gridded_50km_50km_classes_13_CCAP_scale30/inference_tiles_scale30_383.tif\n",
      "Image opened\n"
     ]
    },
    {
     "name": "stderr",
     "output_type": "stream",
     "text": [
      "[Parallel(n_jobs=12)]: Using backend ThreadingBackend with 12 concurrent workers.\n",
      "[Parallel(n_jobs=12)]: Done  26 tasks      | elapsed:    1.2s\n",
      "[Parallel(n_jobs=12)]: Done 100 out of 100 | elapsed:    4.2s finished\n"
     ]
    },
    {
     "name": "stdout",
     "output_type": "stream",
     "text": [
      "Class prediction was successful without slicing!\n",
      "No slicing was necessary!\n",
      "Image saved to: local_model_outputs_classifier_prob_habitat_suitability_CCAP_NORTH_east_coast_USA_13_4000_1000_all_predictors_depth_None/output_2023-08-04-08_14_02_208.tif\n",
      "\n",
      "\n",
      "\n",
      "\n",
      "Starting image: /Users/margauxmforstyhe/Desktop/workspace/wetlands_labs/CCAP boundaries/north_east_coast/tiles_north_east_coast_ccap_mapping_bndry_gridded_50km_50km_classes_13_CCAP_scale30/inference_tiles_scale30_156.tif\n",
      "Image opened\n"
     ]
    },
    {
     "name": "stderr",
     "output_type": "stream",
     "text": [
      "[Parallel(n_jobs=12)]: Using backend ThreadingBackend with 12 concurrent workers.\n",
      "[Parallel(n_jobs=12)]: Done  26 tasks      | elapsed:    0.2s\n",
      "[Parallel(n_jobs=12)]: Done 100 out of 100 | elapsed:    0.7s finished\n"
     ]
    },
    {
     "name": "stdout",
     "output_type": "stream",
     "text": [
      "Class prediction was successful without slicing!\n",
      "No slicing was necessary!\n",
      "Image saved to: local_model_outputs_classifier_prob_habitat_suitability_CCAP_NORTH_east_coast_USA_13_4000_1000_all_predictors_depth_None/output_2023-08-04-08_14_03_209.tif\n",
      "\n",
      "\n",
      "\n",
      "\n",
      "Starting image: /Users/margauxmforstyhe/Desktop/workspace/wetlands_labs/CCAP boundaries/north_east_coast/tiles_north_east_coast_ccap_mapping_bndry_gridded_50km_50km_classes_13_CCAP_scale30/inference_tiles_scale30_630.tif\n",
      "Image opened\n"
     ]
    },
    {
     "name": "stderr",
     "output_type": "stream",
     "text": [
      "[Parallel(n_jobs=12)]: Using backend ThreadingBackend with 12 concurrent workers.\n",
      "[Parallel(n_jobs=12)]: Done  26 tasks      | elapsed:    1.7s\n",
      "[Parallel(n_jobs=12)]: Done 100 out of 100 | elapsed:    4.5s finished\n"
     ]
    },
    {
     "name": "stdout",
     "output_type": "stream",
     "text": [
      "Class prediction was successful without slicing!\n",
      "No slicing was necessary!\n",
      "Image saved to: local_model_outputs_classifier_prob_habitat_suitability_CCAP_NORTH_east_coast_USA_13_4000_1000_all_predictors_depth_None/output_2023-08-04-08_14_08_210.tif\n",
      "\n",
      "\n",
      "\n",
      "\n",
      "Starting image: /Users/margauxmforstyhe/Desktop/workspace/wetlands_labs/CCAP boundaries/north_east_coast/tiles_north_east_coast_ccap_mapping_bndry_gridded_50km_50km_classes_13_CCAP_scale30/inference_tiles_scale30_624.tif\n",
      "Image opened\n"
     ]
    },
    {
     "name": "stderr",
     "output_type": "stream",
     "text": [
      "[Parallel(n_jobs=12)]: Using backend ThreadingBackend with 12 concurrent workers.\n",
      "[Parallel(n_jobs=12)]: Done  26 tasks      | elapsed:    0.9s\n",
      "[Parallel(n_jobs=12)]: Done 100 out of 100 | elapsed:    2.2s finished\n"
     ]
    },
    {
     "name": "stdout",
     "output_type": "stream",
     "text": [
      "Class prediction was successful without slicing!\n",
      "No slicing was necessary!\n",
      "Image saved to: local_model_outputs_classifier_prob_habitat_suitability_CCAP_NORTH_east_coast_USA_13_4000_1000_all_predictors_depth_None/output_2023-08-04-08_14_11_211.tif\n",
      "\n",
      "\n",
      "\n",
      "\n",
      "Starting image: /Users/margauxmforstyhe/Desktop/workspace/wetlands_labs/CCAP boundaries/north_east_coast/tiles_north_east_coast_ccap_mapping_bndry_gridded_50km_50km_classes_13_CCAP_scale30/inference_tiles_scale30_142.tif\n",
      "Image opened\n"
     ]
    },
    {
     "name": "stderr",
     "output_type": "stream",
     "text": [
      "[Parallel(n_jobs=12)]: Using backend ThreadingBackend with 12 concurrent workers.\n",
      "[Parallel(n_jobs=12)]: Done  26 tasks      | elapsed:    1.1s\n",
      "[Parallel(n_jobs=12)]: Done 100 out of 100 | elapsed:    2.7s finished\n"
     ]
    },
    {
     "name": "stdout",
     "output_type": "stream",
     "text": [
      "Class prediction was successful without slicing!\n",
      "No slicing was necessary!\n",
      "Image saved to: local_model_outputs_classifier_prob_habitat_suitability_CCAP_NORTH_east_coast_USA_13_4000_1000_all_predictors_depth_None/output_2023-08-04-08_14_15_212.tif\n",
      "\n",
      "\n",
      "\n",
      "\n",
      "Starting image: /Users/margauxmforstyhe/Desktop/workspace/wetlands_labs/CCAP boundaries/north_east_coast/tiles_north_east_coast_ccap_mapping_bndry_gridded_50km_50km_classes_13_CCAP_scale30/inference_tiles_scale30_618.tif\n",
      "Image opened\n"
     ]
    },
    {
     "name": "stderr",
     "output_type": "stream",
     "text": [
      "[Parallel(n_jobs=12)]: Using backend ThreadingBackend with 12 concurrent workers.\n",
      "[Parallel(n_jobs=12)]: Done  26 tasks      | elapsed:    2.1s\n",
      "[Parallel(n_jobs=12)]: Done 100 out of 100 | elapsed:    6.8s finished\n"
     ]
    },
    {
     "name": "stdout",
     "output_type": "stream",
     "text": [
      "Class prediction was successful without slicing!\n",
      "No slicing was necessary!\n",
      "Image saved to: local_model_outputs_classifier_prob_habitat_suitability_CCAP_NORTH_east_coast_USA_13_4000_1000_all_predictors_depth_None/output_2023-08-04-08_14_22_213.tif\n",
      "\n",
      "\n",
      "\n",
      "\n",
      "Starting image: /Users/margauxmforstyhe/Desktop/workspace/wetlands_labs/CCAP boundaries/north_east_coast/tiles_north_east_coast_ccap_mapping_bndry_gridded_50km_50km_classes_13_CCAP_scale30/inference_tiles_scale30_195.tif\n",
      "Image opened\n"
     ]
    },
    {
     "name": "stderr",
     "output_type": "stream",
     "text": [
      "[Parallel(n_jobs=12)]: Using backend ThreadingBackend with 12 concurrent workers.\n",
      "[Parallel(n_jobs=12)]: Done  26 tasks      | elapsed:    0.4s\n",
      "[Parallel(n_jobs=12)]: Done 100 out of 100 | elapsed:    1.1s finished\n"
     ]
    },
    {
     "name": "stdout",
     "output_type": "stream",
     "text": [
      "Class prediction was successful without slicing!\n",
      "No slicing was necessary!\n",
      "Image saved to: local_model_outputs_classifier_prob_habitat_suitability_CCAP_NORTH_east_coast_USA_13_4000_1000_all_predictors_depth_None/output_2023-08-04-08_14_23_214.tif\n",
      "\n",
      "\n",
      "\n",
      "\n",
      "Starting image: /Users/margauxmforstyhe/Desktop/workspace/wetlands_labs/CCAP boundaries/north_east_coast/tiles_north_east_coast_ccap_mapping_bndry_gridded_50km_50km_classes_13_CCAP_scale30/inference_tiles_scale30_181.tif\n",
      "Image opened\n"
     ]
    },
    {
     "name": "stderr",
     "output_type": "stream",
     "text": [
      "[Parallel(n_jobs=12)]: Using backend ThreadingBackend with 12 concurrent workers.\n",
      "[Parallel(n_jobs=12)]: Done  26 tasks      | elapsed:    2.2s\n",
      "[Parallel(n_jobs=12)]: Done 100 out of 100 | elapsed:    6.1s finished\n"
     ]
    },
    {
     "name": "stdout",
     "output_type": "stream",
     "text": [
      "Class prediction was successful without slicing!\n",
      "No slicing was necessary!\n",
      "Image saved to: local_model_outputs_classifier_prob_habitat_suitability_CCAP_NORTH_east_coast_USA_13_4000_1000_all_predictors_depth_None/output_2023-08-04-08_14_30_215.tif\n",
      "\n",
      "\n",
      "\n",
      "\n",
      "Starting image: /Users/margauxmforstyhe/Desktop/workspace/wetlands_labs/CCAP boundaries/north_east_coast/tiles_north_east_coast_ccap_mapping_bndry_gridded_50km_50km_classes_13_CCAP_scale30/inference_tiles_scale30_817.tif\n",
      "Image opened\n"
     ]
    },
    {
     "name": "stderr",
     "output_type": "stream",
     "text": [
      "[Parallel(n_jobs=12)]: Using backend ThreadingBackend with 12 concurrent workers.\n",
      "[Parallel(n_jobs=12)]: Done  26 tasks      | elapsed:    2.1s\n",
      "[Parallel(n_jobs=12)]: Done 100 out of 100 | elapsed:    6.0s finished\n"
     ]
    },
    {
     "name": "stdout",
     "output_type": "stream",
     "text": [
      "Class prediction was successful without slicing!\n",
      "No slicing was necessary!\n",
      "Image saved to: local_model_outputs_classifier_prob_habitat_suitability_CCAP_NORTH_east_coast_USA_13_4000_1000_all_predictors_depth_None/output_2023-08-04-08_14_37_216.tif\n",
      "\n",
      "\n",
      "\n",
      "\n",
      "Starting image: /Users/margauxmforstyhe/Desktop/workspace/wetlands_labs/CCAP boundaries/north_east_coast/tiles_north_east_coast_ccap_mapping_bndry_gridded_50km_50km_classes_13_CCAP_scale30/inference_tiles_scale30_803.tif\n",
      "Image opened\n"
     ]
    },
    {
     "name": "stderr",
     "output_type": "stream",
     "text": [
      "[Parallel(n_jobs=12)]: Using backend ThreadingBackend with 12 concurrent workers.\n",
      "[Parallel(n_jobs=12)]: Done  26 tasks      | elapsed:    0.5s\n",
      "[Parallel(n_jobs=12)]: Done 100 out of 100 | elapsed:    1.6s finished\n"
     ]
    },
    {
     "name": "stdout",
     "output_type": "stream",
     "text": [
      "Class prediction was successful without slicing!\n",
      "No slicing was necessary!\n",
      "Image saved to: local_model_outputs_classifier_prob_habitat_suitability_CCAP_NORTH_east_coast_USA_13_4000_1000_all_predictors_depth_None/output_2023-08-04-08_14_39_217.tif\n",
      "\n",
      "\n",
      "\n",
      "\n",
      "Starting image: /Users/margauxmforstyhe/Desktop/workspace/wetlands_labs/CCAP boundaries/north_east_coast/tiles_north_east_coast_ccap_mapping_bndry_gridded_50km_50km_classes_13_CCAP_scale30/inference_tiles_scale30_744.tif\n",
      "Image opened\n"
     ]
    },
    {
     "name": "stderr",
     "output_type": "stream",
     "text": [
      "[Parallel(n_jobs=12)]: Using backend ThreadingBackend with 12 concurrent workers.\n",
      "[Parallel(n_jobs=12)]: Done  26 tasks      | elapsed:    0.6s\n",
      "[Parallel(n_jobs=12)]: Done 100 out of 100 | elapsed:    1.6s finished\n"
     ]
    },
    {
     "name": "stdout",
     "output_type": "stream",
     "text": [
      "Class prediction was successful without slicing!\n",
      "No slicing was necessary!\n",
      "Image saved to: local_model_outputs_classifier_prob_habitat_suitability_CCAP_NORTH_east_coast_USA_13_4000_1000_all_predictors_depth_None/output_2023-08-04-08_14_41_218.tif\n",
      "\n",
      "\n",
      "\n",
      "\n",
      "Starting image: /Users/margauxmforstyhe/Desktop/workspace/wetlands_labs/CCAP boundaries/north_east_coast/tiles_north_east_coast_ccap_mapping_bndry_gridded_50km_50km_classes_13_CCAP_scale30/inference_tiles_scale30_750.tif\n",
      "Image opened\n"
     ]
    },
    {
     "name": "stderr",
     "output_type": "stream",
     "text": [
      "[Parallel(n_jobs=12)]: Using backend ThreadingBackend with 12 concurrent workers.\n",
      "[Parallel(n_jobs=12)]: Done  26 tasks      | elapsed:    1.2s\n",
      "[Parallel(n_jobs=12)]: Done 100 out of 100 | elapsed:    3.0s finished\n"
     ]
    },
    {
     "name": "stdout",
     "output_type": "stream",
     "text": [
      "Class prediction was successful without slicing!\n",
      "No slicing was necessary!\n",
      "Image saved to: local_model_outputs_classifier_prob_habitat_suitability_CCAP_NORTH_east_coast_USA_13_4000_1000_all_predictors_depth_None/output_2023-08-04-08_14_45_219.tif\n",
      "\n",
      "\n",
      "\n",
      "\n",
      "Starting image: /Users/margauxmforstyhe/Desktop/workspace/wetlands_labs/CCAP boundaries/north_east_coast/tiles_north_east_coast_ccap_mapping_bndry_gridded_50km_50km_classes_13_CCAP_scale30/inference_tiles_scale30_778.tif\n",
      "Image opened\n"
     ]
    },
    {
     "name": "stderr",
     "output_type": "stream",
     "text": [
      "[Parallel(n_jobs=12)]: Using backend ThreadingBackend with 12 concurrent workers.\n",
      "[Parallel(n_jobs=12)]: Done  26 tasks      | elapsed:    2.2s\n",
      "[Parallel(n_jobs=12)]: Done 100 out of 100 | elapsed:    6.0s finished\n"
     ]
    },
    {
     "name": "stdout",
     "output_type": "stream",
     "text": [
      "Class prediction was successful without slicing!\n",
      "No slicing was necessary!\n",
      "Image saved to: local_model_outputs_classifier_prob_habitat_suitability_CCAP_NORTH_east_coast_USA_13_4000_1000_all_predictors_depth_None/output_2023-08-04-08_14_51_220.tif\n",
      "\n",
      "\n",
      "\n",
      "\n",
      "Starting image: /Users/margauxmforstyhe/Desktop/workspace/wetlands_labs/CCAP boundaries/north_east_coast/tiles_north_east_coast_ccap_mapping_bndry_gridded_50km_50km_classes_13_CCAP_scale30/inference_tiles_scale30_787.tif\n",
      "Image opened\n"
     ]
    },
    {
     "name": "stderr",
     "output_type": "stream",
     "text": [
      "[Parallel(n_jobs=12)]: Using backend ThreadingBackend with 12 concurrent workers.\n",
      "[Parallel(n_jobs=12)]: Done  26 tasks      | elapsed:    1.5s\n",
      "[Parallel(n_jobs=12)]: Done 100 out of 100 | elapsed:    3.9s finished\n"
     ]
    },
    {
     "name": "stdout",
     "output_type": "stream",
     "text": [
      "Class prediction was successful without slicing!\n",
      "No slicing was necessary!\n",
      "Image saved to: local_model_outputs_classifier_prob_habitat_suitability_CCAP_NORTH_east_coast_USA_13_4000_1000_all_predictors_depth_None/output_2023-08-04-08_14_56_221.tif\n",
      "\n",
      "\n",
      "\n",
      "\n",
      "Starting image: /Users/margauxmforstyhe/Desktop/workspace/wetlands_labs/CCAP boundaries/north_east_coast/tiles_north_east_coast_ccap_mapping_bndry_gridded_50km_50km_classes_13_CCAP_scale30/inference_tiles_scale30_793.tif\n",
      "Image opened\n"
     ]
    },
    {
     "name": "stderr",
     "output_type": "stream",
     "text": [
      "[Parallel(n_jobs=12)]: Using backend ThreadingBackend with 12 concurrent workers.\n",
      "[Parallel(n_jobs=12)]: Done  26 tasks      | elapsed:    0.9s\n",
      "[Parallel(n_jobs=12)]: Done 100 out of 100 | elapsed:    2.6s finished\n"
     ]
    },
    {
     "name": "stdout",
     "output_type": "stream",
     "text": [
      "Class prediction was successful without slicing!\n",
      "No slicing was necessary!\n",
      "Image saved to: local_model_outputs_classifier_prob_habitat_suitability_CCAP_NORTH_east_coast_USA_13_4000_1000_all_predictors_depth_None/output_2023-08-04-08_14_59_222.tif\n",
      "\n",
      "\n",
      "\n",
      "\n",
      "Starting image: /Users/margauxmforstyhe/Desktop/workspace/wetlands_labs/CCAP boundaries/north_east_coast/tiles_north_east_coast_ccap_mapping_bndry_gridded_50km_50km_classes_13_CCAP_scale30/inference_tiles_scale30_546.tif\n",
      "Image opened\n"
     ]
    },
    {
     "name": "stderr",
     "output_type": "stream",
     "text": [
      "[Parallel(n_jobs=12)]: Using backend ThreadingBackend with 12 concurrent workers.\n",
      "[Parallel(n_jobs=12)]: Done  26 tasks      | elapsed:    0.3s\n",
      "[Parallel(n_jobs=12)]: Done 100 out of 100 | elapsed:    1.0s finished\n"
     ]
    },
    {
     "name": "stdout",
     "output_type": "stream",
     "text": [
      "Class prediction was successful without slicing!\n",
      "No slicing was necessary!\n",
      "Image saved to: local_model_outputs_classifier_prob_habitat_suitability_CCAP_NORTH_east_coast_USA_13_4000_1000_all_predictors_depth_None/output_2023-08-04-08_15_01_223.tif\n",
      "\n",
      "\n",
      "\n",
      "\n",
      "Starting image: /Users/margauxmforstyhe/Desktop/workspace/wetlands_labs/CCAP boundaries/north_east_coast/tiles_north_east_coast_ccap_mapping_bndry_gridded_50km_50km_classes_13_CCAP_scale30/inference_tiles_scale30_220.tif\n",
      "Image opened\n"
     ]
    },
    {
     "name": "stderr",
     "output_type": "stream",
     "text": [
      "[Parallel(n_jobs=12)]: Using backend ThreadingBackend with 12 concurrent workers.\n",
      "[Parallel(n_jobs=12)]: Done  26 tasks      | elapsed:    1.6s\n",
      "[Parallel(n_jobs=12)]: Done 100 out of 100 | elapsed:    3.9s finished\n"
     ]
    },
    {
     "name": "stdout",
     "output_type": "stream",
     "text": [
      "Class prediction was successful without slicing!\n",
      "No slicing was necessary!\n",
      "Image saved to: local_model_outputs_classifier_prob_habitat_suitability_CCAP_NORTH_east_coast_USA_13_4000_1000_all_predictors_depth_None/output_2023-08-04-08_15_05_224.tif\n",
      "\n",
      "\n",
      "\n",
      "\n",
      "Starting image: /Users/margauxmforstyhe/Desktop/workspace/wetlands_labs/CCAP boundaries/north_east_coast/tiles_north_east_coast_ccap_mapping_bndry_gridded_50km_50km_classes_13_CCAP_scale30/inference_tiles_scale30_234.tif\n",
      "Image opened\n"
     ]
    },
    {
     "name": "stderr",
     "output_type": "stream",
     "text": [
      "[Parallel(n_jobs=12)]: Using backend ThreadingBackend with 12 concurrent workers.\n",
      "[Parallel(n_jobs=12)]: Done  26 tasks      | elapsed:    0.2s\n",
      "[Parallel(n_jobs=12)]: Done 100 out of 100 | elapsed:    0.7s finished\n"
     ]
    },
    {
     "name": "stdout",
     "output_type": "stream",
     "text": [
      "Class prediction was successful without slicing!\n",
      "No slicing was necessary!\n",
      "Image saved to: local_model_outputs_classifier_prob_habitat_suitability_CCAP_NORTH_east_coast_USA_13_4000_1000_all_predictors_depth_None/output_2023-08-04-08_15_06_225.tif\n",
      "\n",
      "\n",
      "\n",
      "\n",
      "Starting image: /Users/margauxmforstyhe/Desktop/workspace/wetlands_labs/CCAP boundaries/north_east_coast/tiles_north_east_coast_ccap_mapping_bndry_gridded_50km_50km_classes_13_CCAP_scale30/inference_tiles_scale30_552.tif\n",
      "Image opened\n"
     ]
    },
    {
     "name": "stderr",
     "output_type": "stream",
     "text": [
      "[Parallel(n_jobs=12)]: Using backend ThreadingBackend with 12 concurrent workers.\n",
      "[Parallel(n_jobs=12)]: Done  26 tasks      | elapsed:    0.2s\n",
      "[Parallel(n_jobs=12)]: Done 100 out of 100 | elapsed:    0.7s finished\n"
     ]
    },
    {
     "name": "stdout",
     "output_type": "stream",
     "text": [
      "Class prediction was successful without slicing!\n",
      "No slicing was necessary!\n",
      "Image saved to: local_model_outputs_classifier_prob_habitat_suitability_CCAP_NORTH_east_coast_USA_13_4000_1000_all_predictors_depth_None/output_2023-08-04-08_15_07_226.tif\n",
      "\n",
      "\n",
      "\n",
      "\n",
      "Starting image: /Users/margauxmforstyhe/Desktop/workspace/wetlands_labs/CCAP boundaries/north_east_coast/tiles_north_east_coast_ccap_mapping_bndry_gridded_50km_50km_classes_13_CCAP_scale30/inference_tiles_scale30_208.tif\n",
      "Image opened\n"
     ]
    },
    {
     "name": "stderr",
     "output_type": "stream",
     "text": [
      "[Parallel(n_jobs=12)]: Using backend ThreadingBackend with 12 concurrent workers.\n",
      "[Parallel(n_jobs=12)]: Done  26 tasks      | elapsed:    1.9s\n",
      "[Parallel(n_jobs=12)]: Done 100 out of 100 | elapsed:    5.6s finished\n"
     ]
    },
    {
     "name": "stdout",
     "output_type": "stream",
     "text": [
      "Class prediction was successful without slicing!\n",
      "No slicing was necessary!\n",
      "Image saved to: local_model_outputs_classifier_prob_habitat_suitability_CCAP_NORTH_east_coast_USA_13_4000_1000_all_predictors_depth_None/output_2023-08-04-08_15_14_227.tif\n",
      "\n",
      "\n",
      "\n",
      "\n",
      "Starting image: /Users/margauxmforstyhe/Desktop/workspace/wetlands_labs/CCAP boundaries/north_east_coast/tiles_north_east_coast_ccap_mapping_bndry_gridded_50km_50km_classes_13_CCAP_scale30/inference_tiles_scale30_585.tif\n",
      "Image opened\n"
     ]
    },
    {
     "name": "stderr",
     "output_type": "stream",
     "text": [
      "[Parallel(n_jobs=12)]: Using backend ThreadingBackend with 12 concurrent workers.\n",
      "[Parallel(n_jobs=12)]: Done  26 tasks      | elapsed:    0.1s\n",
      "[Parallel(n_jobs=12)]: Done 100 out of 100 | elapsed:    0.3s finished\n"
     ]
    },
    {
     "name": "stdout",
     "output_type": "stream",
     "text": [
      "Class prediction was successful without slicing!\n",
      "No slicing was necessary!\n",
      "Image saved to: local_model_outputs_classifier_prob_habitat_suitability_CCAP_NORTH_east_coast_USA_13_4000_1000_all_predictors_depth_None/output_2023-08-04-08_15_14_228.tif\n",
      "\n",
      "\n",
      "\n",
      "\n",
      "Starting image: /Users/margauxmforstyhe/Desktop/workspace/wetlands_labs/CCAP boundaries/north_east_coast/tiles_north_east_coast_ccap_mapping_bndry_gridded_50km_50km_classes_13_CCAP_scale30/inference_tiles_scale30_591.tif\n",
      "Image opened\n"
     ]
    },
    {
     "name": "stderr",
     "output_type": "stream",
     "text": [
      "[Parallel(n_jobs=12)]: Using backend ThreadingBackend with 12 concurrent workers.\n",
      "[Parallel(n_jobs=12)]: Done  26 tasks      | elapsed:    0.8s\n",
      "[Parallel(n_jobs=12)]: Done 100 out of 100 | elapsed:    2.1s finished\n"
     ]
    },
    {
     "name": "stdout",
     "output_type": "stream",
     "text": [
      "Class prediction was successful without slicing!\n",
      "No slicing was necessary!\n",
      "Image saved to: local_model_outputs_classifier_prob_habitat_suitability_CCAP_NORTH_east_coast_USA_13_4000_1000_all_predictors_depth_None/output_2023-08-04-08_15_17_229.tif\n",
      "\n",
      "\n",
      "\n",
      "\n",
      "Starting image: /Users/margauxmforstyhe/Desktop/workspace/wetlands_labs/CCAP boundaries/north_east_coast/tiles_north_east_coast_ccap_mapping_bndry_gridded_50km_50km_classes_13_CCAP_scale30/inference_tiles_scale30_590.tif\n",
      "Image opened\n"
     ]
    },
    {
     "name": "stderr",
     "output_type": "stream",
     "text": [
      "[Parallel(n_jobs=12)]: Using backend ThreadingBackend with 12 concurrent workers.\n",
      "[Parallel(n_jobs=12)]: Done  26 tasks      | elapsed:    0.8s\n",
      "[Parallel(n_jobs=12)]: Done 100 out of 100 | elapsed:    2.6s finished\n"
     ]
    },
    {
     "name": "stdout",
     "output_type": "stream",
     "text": [
      "Class prediction was successful without slicing!\n",
      "No slicing was necessary!\n",
      "Image saved to: local_model_outputs_classifier_prob_habitat_suitability_CCAP_NORTH_east_coast_USA_13_4000_1000_all_predictors_depth_None/output_2023-08-04-08_15_20_230.tif\n",
      "\n",
      "\n",
      "\n",
      "\n",
      "Starting image: /Users/margauxmforstyhe/Desktop/workspace/wetlands_labs/CCAP boundaries/north_east_coast/tiles_north_east_coast_ccap_mapping_bndry_gridded_50km_50km_classes_13_CCAP_scale30/inference_tiles_scale30_584.tif\n",
      "Image opened\n"
     ]
    },
    {
     "name": "stderr",
     "output_type": "stream",
     "text": [
      "[Parallel(n_jobs=12)]: Using backend ThreadingBackend with 12 concurrent workers.\n",
      "[Parallel(n_jobs=12)]: Done  26 tasks      | elapsed:    0.2s\n",
      "[Parallel(n_jobs=12)]: Done 100 out of 100 | elapsed:    0.6s finished\n"
     ]
    },
    {
     "name": "stdout",
     "output_type": "stream",
     "text": [
      "Class prediction was successful without slicing!\n",
      "No slicing was necessary!\n",
      "Image saved to: local_model_outputs_classifier_prob_habitat_suitability_CCAP_NORTH_east_coast_USA_13_4000_1000_all_predictors_depth_None/output_2023-08-04-08_15_21_231.tif\n",
      "\n",
      "\n",
      "\n",
      "\n",
      "Starting image: /Users/margauxmforstyhe/Desktop/workspace/wetlands_labs/CCAP boundaries/north_east_coast/tiles_north_east_coast_ccap_mapping_bndry_gridded_50km_50km_classes_13_CCAP_scale30/inference_tiles_scale30_209.tif\n",
      "Image opened\n"
     ]
    },
    {
     "name": "stderr",
     "output_type": "stream",
     "text": [
      "[Parallel(n_jobs=12)]: Using backend ThreadingBackend with 12 concurrent workers.\n",
      "[Parallel(n_jobs=12)]: Done  26 tasks      | elapsed:    2.6s\n",
      "[Parallel(n_jobs=12)]: Done 100 out of 100 | elapsed:    7.6s finished\n"
     ]
    },
    {
     "name": "stdout",
     "output_type": "stream",
     "text": [
      "Class prediction was successful without slicing!\n",
      "No slicing was necessary!\n",
      "Image saved to: local_model_outputs_classifier_prob_habitat_suitability_CCAP_NORTH_east_coast_USA_13_4000_1000_all_predictors_depth_None/output_2023-08-04-08_15_30_232.tif\n",
      "\n",
      "\n",
      "\n",
      "\n",
      "Starting image: /Users/margauxmforstyhe/Desktop/workspace/wetlands_labs/CCAP boundaries/north_east_coast/tiles_north_east_coast_ccap_mapping_bndry_gridded_50km_50km_classes_13_CCAP_scale30/inference_tiles_scale30_235.tif\n",
      "Image opened\n"
     ]
    },
    {
     "name": "stderr",
     "output_type": "stream",
     "text": [
      "[Parallel(n_jobs=12)]: Using backend ThreadingBackend with 12 concurrent workers.\n",
      "[Parallel(n_jobs=12)]: Done  26 tasks      | elapsed:    1.6s\n",
      "[Parallel(n_jobs=12)]: Done 100 out of 100 | elapsed:    4.2s finished\n"
     ]
    },
    {
     "name": "stdout",
     "output_type": "stream",
     "text": [
      "Class prediction was successful without slicing!\n",
      "No slicing was necessary!\n",
      "Image saved to: local_model_outputs_classifier_prob_habitat_suitability_CCAP_NORTH_east_coast_USA_13_4000_1000_all_predictors_depth_None/output_2023-08-04-08_15_36_233.tif\n",
      "\n",
      "\n",
      "\n",
      "\n",
      "Starting image: /Users/margauxmforstyhe/Desktop/workspace/wetlands_labs/CCAP boundaries/north_east_coast/tiles_north_east_coast_ccap_mapping_bndry_gridded_50km_50km_classes_13_CCAP_scale30/inference_tiles_scale30_553.tif\n",
      "Image opened\n"
     ]
    },
    {
     "name": "stderr",
     "output_type": "stream",
     "text": [
      "[Parallel(n_jobs=12)]: Using backend ThreadingBackend with 12 concurrent workers.\n",
      "[Parallel(n_jobs=12)]: Done  26 tasks      | elapsed:    0.6s\n",
      "[Parallel(n_jobs=12)]: Done 100 out of 100 | elapsed:    1.7s finished\n"
     ]
    },
    {
     "name": "stdout",
     "output_type": "stream",
     "text": [
      "Class prediction was successful without slicing!\n",
      "No slicing was necessary!\n",
      "Image saved to: local_model_outputs_classifier_prob_habitat_suitability_CCAP_NORTH_east_coast_USA_13_4000_1000_all_predictors_depth_None/output_2023-08-04-08_15_38_234.tif\n",
      "\n",
      "\n",
      "\n",
      "\n",
      "Starting image: /Users/margauxmforstyhe/Desktop/workspace/wetlands_labs/CCAP boundaries/north_east_coast/tiles_north_east_coast_ccap_mapping_bndry_gridded_50km_50km_classes_13_CCAP_scale30/inference_tiles_scale30_547.tif\n",
      "Image opened\n"
     ]
    },
    {
     "name": "stderr",
     "output_type": "stream",
     "text": [
      "[Parallel(n_jobs=12)]: Using backend ThreadingBackend with 12 concurrent workers.\n",
      "[Parallel(n_jobs=12)]: Done  26 tasks      | elapsed:    0.5s\n",
      "[Parallel(n_jobs=12)]: Done 100 out of 100 | elapsed:    1.4s finished\n"
     ]
    },
    {
     "name": "stdout",
     "output_type": "stream",
     "text": [
      "Class prediction was successful without slicing!\n",
      "No slicing was necessary!\n",
      "Image saved to: local_model_outputs_classifier_prob_habitat_suitability_CCAP_NORTH_east_coast_USA_13_4000_1000_all_predictors_depth_None/output_2023-08-04-08_15_40_235.tif\n",
      "\n",
      "\n",
      "\n",
      "\n",
      "Starting image: /Users/margauxmforstyhe/Desktop/workspace/wetlands_labs/CCAP boundaries/north_east_coast/tiles_north_east_coast_ccap_mapping_bndry_gridded_50km_50km_classes_13_CCAP_scale30/inference_tiles_scale30_221.tif\n",
      "Image opened\n"
     ]
    },
    {
     "name": "stderr",
     "output_type": "stream",
     "text": [
      "[Parallel(n_jobs=12)]: Using backend ThreadingBackend with 12 concurrent workers.\n",
      "[Parallel(n_jobs=12)]: Done  26 tasks      | elapsed:    1.9s\n",
      "[Parallel(n_jobs=12)]: Done 100 out of 100 | elapsed:    5.4s finished\n"
     ]
    },
    {
     "name": "stdout",
     "output_type": "stream",
     "text": [
      "Class prediction was successful without slicing!\n",
      "No slicing was necessary!\n",
      "Image saved to: local_model_outputs_classifier_prob_habitat_suitability_CCAP_NORTH_east_coast_USA_13_4000_1000_all_predictors_depth_None/output_2023-08-04-08_15_46_236.tif\n",
      "\n",
      "\n",
      "\n",
      "\n",
      "Starting image: /Users/margauxmforstyhe/Desktop/workspace/wetlands_labs/CCAP boundaries/north_east_coast/tiles_north_east_coast_ccap_mapping_bndry_gridded_50km_50km_classes_13_CCAP_scale30/inference_tiles_scale30_792.tif\n",
      "Image opened\n"
     ]
    },
    {
     "name": "stderr",
     "output_type": "stream",
     "text": [
      "[Parallel(n_jobs=12)]: Using backend ThreadingBackend with 12 concurrent workers.\n",
      "[Parallel(n_jobs=12)]: Done  26 tasks      | elapsed:    1.4s\n",
      "[Parallel(n_jobs=12)]: Done 100 out of 100 | elapsed:    4.1s finished\n"
     ]
    },
    {
     "name": "stdout",
     "output_type": "stream",
     "text": [
      "Class prediction was successful without slicing!\n",
      "No slicing was necessary!\n",
      "Image saved to: local_model_outputs_classifier_prob_habitat_suitability_CCAP_NORTH_east_coast_USA_13_4000_1000_all_predictors_depth_None/output_2023-08-04-08_15_51_237.tif\n",
      "\n",
      "\n",
      "\n",
      "\n",
      "Starting image: /Users/margauxmforstyhe/Desktop/workspace/wetlands_labs/CCAP boundaries/north_east_coast/tiles_north_east_coast_ccap_mapping_bndry_gridded_50km_50km_classes_13_CCAP_scale30/inference_tiles_scale30_786.tif\n",
      "Image opened\n"
     ]
    },
    {
     "name": "stderr",
     "output_type": "stream",
     "text": [
      "[Parallel(n_jobs=12)]: Using backend ThreadingBackend with 12 concurrent workers.\n",
      "[Parallel(n_jobs=12)]: Done  26 tasks      | elapsed:    0.9s\n",
      "[Parallel(n_jobs=12)]: Done 100 out of 100 | elapsed:    2.5s finished\n"
     ]
    },
    {
     "name": "stdout",
     "output_type": "stream",
     "text": [
      "Class prediction was successful without slicing!\n",
      "No slicing was necessary!\n",
      "Image saved to: local_model_outputs_classifier_prob_habitat_suitability_CCAP_NORTH_east_coast_USA_13_4000_1000_all_predictors_depth_None/output_2023-08-04-08_15_54_238.tif\n",
      "\n",
      "\n",
      "\n",
      "\n",
      "Starting image: /Users/margauxmforstyhe/Desktop/workspace/wetlands_labs/CCAP boundaries/north_east_coast/tiles_north_east_coast_ccap_mapping_bndry_gridded_50km_50km_classes_13_CCAP_scale30/inference_tiles_scale30_779.tif\n",
      "Image opened\n"
     ]
    },
    {
     "name": "stderr",
     "output_type": "stream",
     "text": [
      "[Parallel(n_jobs=12)]: Using backend ThreadingBackend with 12 concurrent workers.\n",
      "[Parallel(n_jobs=12)]: Done  26 tasks      | elapsed:    1.4s\n",
      "[Parallel(n_jobs=12)]: Done 100 out of 100 | elapsed:    4.3s finished\n"
     ]
    },
    {
     "name": "stdout",
     "output_type": "stream",
     "text": [
      "Class prediction was successful without slicing!\n",
      "No slicing was necessary!\n",
      "Image saved to: local_model_outputs_classifier_prob_habitat_suitability_CCAP_NORTH_east_coast_USA_13_4000_1000_all_predictors_depth_None/output_2023-08-04-08_15_59_239.tif\n",
      "\n",
      "\n",
      "\n",
      "\n",
      "Starting image: /Users/margauxmforstyhe/Desktop/workspace/wetlands_labs/CCAP boundaries/north_east_coast/tiles_north_east_coast_ccap_mapping_bndry_gridded_50km_50km_classes_13_CCAP_scale30/inference_tiles_scale30_751.tif\n",
      "Image opened\n"
     ]
    },
    {
     "name": "stderr",
     "output_type": "stream",
     "text": [
      "[Parallel(n_jobs=12)]: Using backend ThreadingBackend with 12 concurrent workers.\n",
      "[Parallel(n_jobs=12)]: Done  26 tasks      | elapsed:    0.4s\n",
      "[Parallel(n_jobs=12)]: Done 100 out of 100 | elapsed:    1.2s finished\n"
     ]
    },
    {
     "name": "stdout",
     "output_type": "stream",
     "text": [
      "Class prediction was successful without slicing!\n",
      "No slicing was necessary!\n",
      "Image saved to: local_model_outputs_classifier_prob_habitat_suitability_CCAP_NORTH_east_coast_USA_13_4000_1000_all_predictors_depth_None/output_2023-08-04-08_16_01_240.tif\n",
      "\n",
      "\n",
      "\n",
      "\n",
      "Starting image: /Users/margauxmforstyhe/Desktop/workspace/wetlands_labs/CCAP boundaries/north_east_coast/tiles_north_east_coast_ccap_mapping_bndry_gridded_50km_50km_classes_13_CCAP_scale30/inference_tiles_scale30_745.tif\n",
      "Image opened\n"
     ]
    },
    {
     "name": "stderr",
     "output_type": "stream",
     "text": [
      "[Parallel(n_jobs=12)]: Using backend ThreadingBackend with 12 concurrent workers.\n",
      "[Parallel(n_jobs=12)]: Done  26 tasks      | elapsed:    0.6s\n",
      "[Parallel(n_jobs=12)]: Done 100 out of 100 | elapsed:    1.8s finished\n"
     ]
    },
    {
     "name": "stdout",
     "output_type": "stream",
     "text": [
      "Class prediction was successful without slicing!\n",
      "No slicing was necessary!\n",
      "Image saved to: local_model_outputs_classifier_prob_habitat_suitability_CCAP_NORTH_east_coast_USA_13_4000_1000_all_predictors_depth_None/output_2023-08-04-08_16_03_241.tif\n",
      "\n",
      "\n",
      "\n",
      "\n",
      "Starting image: /Users/margauxmforstyhe/Desktop/workspace/wetlands_labs/CCAP boundaries/north_east_coast/tiles_north_east_coast_ccap_mapping_bndry_gridded_50km_50km_classes_13_CCAP_scale30/inference_tiles_scale30_802.tif\n",
      "Image opened\n"
     ]
    },
    {
     "name": "stderr",
     "output_type": "stream",
     "text": [
      "[Parallel(n_jobs=12)]: Using backend ThreadingBackend with 12 concurrent workers.\n",
      "[Parallel(n_jobs=12)]: Done  26 tasks      | elapsed:    1.3s\n",
      "[Parallel(n_jobs=12)]: Done 100 out of 100 | elapsed:    4.0s finished\n"
     ]
    },
    {
     "name": "stdout",
     "output_type": "stream",
     "text": [
      "Class prediction was successful without slicing!\n",
      "No slicing was necessary!\n",
      "Image saved to: local_model_outputs_classifier_prob_habitat_suitability_CCAP_NORTH_east_coast_USA_13_4000_1000_all_predictors_depth_None/output_2023-08-04-08_16_08_242.tif\n",
      "\n",
      "\n",
      "\n",
      "\n",
      "Starting image: /Users/margauxmforstyhe/Desktop/workspace/wetlands_labs/CCAP boundaries/north_east_coast/tiles_north_east_coast_ccap_mapping_bndry_gridded_50km_50km_classes_13_CCAP_scale30/inference_tiles_scale30_816.tif\n",
      "Image opened\n"
     ]
    },
    {
     "name": "stderr",
     "output_type": "stream",
     "text": [
      "[Parallel(n_jobs=12)]: Using backend ThreadingBackend with 12 concurrent workers.\n",
      "[Parallel(n_jobs=12)]: Done  26 tasks      | elapsed:    0.8s\n",
      "[Parallel(n_jobs=12)]: Done 100 out of 100 | elapsed:    2.5s finished\n"
     ]
    },
    {
     "name": "stdout",
     "output_type": "stream",
     "text": [
      "Class prediction was successful without slicing!\n",
      "No slicing was necessary!\n",
      "Image saved to: local_model_outputs_classifier_prob_habitat_suitability_CCAP_NORTH_east_coast_USA_13_4000_1000_all_predictors_depth_None/output_2023-08-04-08_16_11_243.tif\n",
      "\n",
      "\n",
      "\n",
      "\n",
      "Starting image: /Users/margauxmforstyhe/Desktop/workspace/wetlands_labs/CCAP boundaries/north_east_coast/tiles_north_east_coast_ccap_mapping_bndry_gridded_50km_50km_classes_13_CCAP_scale30/inference_tiles_scale30_180.tif\n",
      "Image opened\n"
     ]
    },
    {
     "name": "stderr",
     "output_type": "stream",
     "text": [
      "[Parallel(n_jobs=12)]: Using backend ThreadingBackend with 12 concurrent workers.\n",
      "[Parallel(n_jobs=12)]: Done  26 tasks      | elapsed:    1.7s\n",
      "[Parallel(n_jobs=12)]: Done 100 out of 100 | elapsed:    5.0s finished\n"
     ]
    },
    {
     "name": "stdout",
     "output_type": "stream",
     "text": [
      "Class prediction was successful without slicing!\n",
      "No slicing was necessary!\n",
      "Image saved to: local_model_outputs_classifier_prob_habitat_suitability_CCAP_NORTH_east_coast_USA_13_4000_1000_all_predictors_depth_None/output_2023-08-04-08_16_17_244.tif\n",
      "\n",
      "\n",
      "\n",
      "\n",
      "Starting image: /Users/margauxmforstyhe/Desktop/workspace/wetlands_labs/CCAP boundaries/north_east_coast/tiles_north_east_coast_ccap_mapping_bndry_gridded_50km_50km_classes_13_CCAP_scale30/inference_tiles_scale30_194.tif\n",
      "Image opened\n"
     ]
    },
    {
     "name": "stderr",
     "output_type": "stream",
     "text": [
      "[Parallel(n_jobs=12)]: Using backend ThreadingBackend with 12 concurrent workers.\n",
      "[Parallel(n_jobs=12)]: Done  26 tasks      | elapsed:    0.4s\n",
      "[Parallel(n_jobs=12)]: Done 100 out of 100 | elapsed:    1.1s finished\n"
     ]
    },
    {
     "name": "stdout",
     "output_type": "stream",
     "text": [
      "Class prediction was successful without slicing!\n",
      "No slicing was necessary!\n",
      "Image saved to: local_model_outputs_classifier_prob_habitat_suitability_CCAP_NORTH_east_coast_USA_13_4000_1000_all_predictors_depth_None/output_2023-08-04-08_16_18_245.tif\n",
      "\n",
      "\n",
      "\n",
      "\n",
      "Starting image: /Users/margauxmforstyhe/Desktop/workspace/wetlands_labs/CCAP boundaries/north_east_coast/tiles_north_east_coast_ccap_mapping_bndry_gridded_50km_50km_classes_13_CCAP_scale30/inference_tiles_scale30_619.tif\n",
      "Image opened\n"
     ]
    },
    {
     "name": "stderr",
     "output_type": "stream",
     "text": [
      "[Parallel(n_jobs=12)]: Using backend ThreadingBackend with 12 concurrent workers.\n",
      "[Parallel(n_jobs=12)]: Done  26 tasks      | elapsed:    0.6s\n",
      "[Parallel(n_jobs=12)]: Done 100 out of 100 | elapsed:    1.9s finished\n"
     ]
    },
    {
     "name": "stdout",
     "output_type": "stream",
     "text": [
      "Class prediction was successful without slicing!\n",
      "No slicing was necessary!\n",
      "Image saved to: local_model_outputs_classifier_prob_habitat_suitability_CCAP_NORTH_east_coast_USA_13_4000_1000_all_predictors_depth_None/output_2023-08-04-08_16_21_246.tif\n",
      "\n",
      "\n",
      "\n",
      "\n",
      "Starting image: /Users/margauxmforstyhe/Desktop/workspace/wetlands_labs/CCAP boundaries/north_east_coast/tiles_north_east_coast_ccap_mapping_bndry_gridded_50km_50km_classes_13_CCAP_scale30/inference_tiles_scale30_625.tif\n",
      "Image opened\n"
     ]
    },
    {
     "name": "stderr",
     "output_type": "stream",
     "text": [
      "[Parallel(n_jobs=12)]: Using backend ThreadingBackend with 12 concurrent workers.\n",
      "[Parallel(n_jobs=12)]: Done  26 tasks      | elapsed:    0.8s\n",
      "[Parallel(n_jobs=12)]: Done 100 out of 100 | elapsed:    2.5s finished\n"
     ]
    },
    {
     "name": "stdout",
     "output_type": "stream",
     "text": [
      "Class prediction was successful without slicing!\n",
      "No slicing was necessary!\n",
      "Image saved to: local_model_outputs_classifier_prob_habitat_suitability_CCAP_NORTH_east_coast_USA_13_4000_1000_all_predictors_depth_None/output_2023-08-04-08_16_24_247.tif\n",
      "\n",
      "\n",
      "\n",
      "\n",
      "Starting image: /Users/margauxmforstyhe/Desktop/workspace/wetlands_labs/CCAP boundaries/north_east_coast/tiles_north_east_coast_ccap_mapping_bndry_gridded_50km_50km_classes_13_CCAP_scale30/inference_tiles_scale30_143.tif\n",
      "Image opened\n"
     ]
    },
    {
     "name": "stderr",
     "output_type": "stream",
     "text": [
      "[Parallel(n_jobs=12)]: Using backend ThreadingBackend with 12 concurrent workers.\n",
      "[Parallel(n_jobs=12)]: Done  26 tasks      | elapsed:    1.3s\n",
      "[Parallel(n_jobs=12)]: Done 100 out of 100 | elapsed:    3.8s finished\n"
     ]
    },
    {
     "name": "stdout",
     "output_type": "stream",
     "text": [
      "Class prediction was successful without slicing!\n",
      "No slicing was necessary!\n",
      "Image saved to: local_model_outputs_classifier_prob_habitat_suitability_CCAP_NORTH_east_coast_USA_13_4000_1000_all_predictors_depth_None/output_2023-08-04-08_16_28_248.tif\n",
      "\n",
      "\n",
      "\n",
      "\n",
      "Starting image: /Users/margauxmforstyhe/Desktop/workspace/wetlands_labs/CCAP boundaries/north_east_coast/tiles_north_east_coast_ccap_mapping_bndry_gridded_50km_50km_classes_13_CCAP_scale30/inference_tiles_scale30_157.tif\n",
      "Image opened\n"
     ]
    },
    {
     "name": "stderr",
     "output_type": "stream",
     "text": [
      "[Parallel(n_jobs=12)]: Using backend ThreadingBackend with 12 concurrent workers.\n",
      "[Parallel(n_jobs=12)]: Done  26 tasks      | elapsed:    1.9s\n",
      "[Parallel(n_jobs=12)]: Done 100 out of 100 | elapsed:    5.2s finished\n"
     ]
    },
    {
     "name": "stdout",
     "output_type": "stream",
     "text": [
      "Class prediction was successful without slicing!\n",
      "No slicing was necessary!\n",
      "Image saved to: local_model_outputs_classifier_prob_habitat_suitability_CCAP_NORTH_east_coast_USA_13_4000_1000_all_predictors_depth_None/output_2023-08-04-08_16_34_249.tif\n",
      "\n",
      "\n",
      "\n",
      "\n",
      "Starting image: /Users/margauxmforstyhe/Desktop/workspace/wetlands_labs/CCAP boundaries/north_east_coast/tiles_north_east_coast_ccap_mapping_bndry_gridded_50km_50km_classes_13_CCAP_scale30/inference_tiles_scale30_631.tif\n",
      "Image opened\n"
     ]
    },
    {
     "name": "stderr",
     "output_type": "stream",
     "text": [
      "[Parallel(n_jobs=12)]: Using backend ThreadingBackend with 12 concurrent workers.\n",
      "[Parallel(n_jobs=12)]: Done  26 tasks      | elapsed:    1.4s\n",
      "[Parallel(n_jobs=12)]: Done 100 out of 100 | elapsed:    4.0s finished\n"
     ]
    },
    {
     "name": "stdout",
     "output_type": "stream",
     "text": [
      "Class prediction was successful without slicing!\n",
      "No slicing was necessary!\n",
      "Image saved to: local_model_outputs_classifier_prob_habitat_suitability_CCAP_NORTH_east_coast_USA_13_4000_1000_all_predictors_depth_None/output_2023-08-04-08_16_39_250.tif\n",
      "\n",
      "\n",
      "\n",
      "\n",
      "Starting image: /Users/margauxmforstyhe/Desktop/workspace/wetlands_labs/CCAP boundaries/north_east_coast/tiles_north_east_coast_ccap_mapping_bndry_gridded_50km_50km_classes_13_CCAP_scale30/inference_tiles_scale30_382.tif\n",
      "Image opened\n"
     ]
    },
    {
     "name": "stderr",
     "output_type": "stream",
     "text": [
      "[Parallel(n_jobs=12)]: Using backend ThreadingBackend with 12 concurrent workers.\n",
      "[Parallel(n_jobs=12)]: Done  26 tasks      | elapsed:    1.1s\n",
      "[Parallel(n_jobs=12)]: Done 100 out of 100 | elapsed:    3.5s finished\n",
      "[Parallel(n_jobs=12)]: Using backend ThreadingBackend with 12 concurrent workers.\n"
     ]
    },
    {
     "name": "stdout",
     "output_type": "stream",
     "text": [
      "Class prediction was successful without slicing!\n",
      "No slicing was necessary!\n",
      "Image saved to: local_model_outputs_classifier_prob_habitat_suitability_CCAP_NORTH_east_coast_USA_13_4000_1000_all_predictors_depth_None/output_2023-08-04-08_16_44_251.tif\n",
      "\n",
      "\n",
      "\n",
      "\n",
      "Starting image: /Users/margauxmforstyhe/Desktop/workspace/wetlands_labs/CCAP boundaries/north_east_coast/tiles_north_east_coast_ccap_mapping_bndry_gridded_50km_50km_classes_13_CCAP_scale30/inference_tiles_scale30_81.tif\n",
      "Image opened\n"
     ]
    },
    {
     "name": "stderr",
     "output_type": "stream",
     "text": [
      "[Parallel(n_jobs=12)]: Done  26 tasks      | elapsed:    0.1s\n",
      "[Parallel(n_jobs=12)]: Done 100 out of 100 | elapsed:    0.6s finished\n"
     ]
    },
    {
     "name": "stdout",
     "output_type": "stream",
     "text": [
      "Class prediction was successful without slicing!\n",
      "No slicing was necessary!\n",
      "Image saved to: local_model_outputs_classifier_prob_habitat_suitability_CCAP_NORTH_east_coast_USA_13_4000_1000_all_predictors_depth_None/output_2023-08-04-08_16_44_252.tif\n",
      "\n",
      "\n",
      "\n",
      "\n",
      "Starting image: /Users/margauxmforstyhe/Desktop/workspace/wetlands_labs/CCAP boundaries/north_east_coast/tiles_north_east_coast_ccap_mapping_bndry_gridded_50km_50km_classes_13_CCAP_scale30/inference_tiles_scale30_396.tif\n",
      "Image opened\n"
     ]
    },
    {
     "name": "stderr",
     "output_type": "stream",
     "text": [
      "[Parallel(n_jobs=12)]: Using backend ThreadingBackend with 12 concurrent workers.\n",
      "[Parallel(n_jobs=12)]: Done  26 tasks      | elapsed:    1.9s\n",
      "[Parallel(n_jobs=12)]: Done 100 out of 100 | elapsed:    5.0s finished\n"
     ]
    },
    {
     "name": "stdout",
     "output_type": "stream",
     "text": [
      "Class prediction was successful without slicing!\n",
      "No slicing was necessary!\n",
      "Image saved to: local_model_outputs_classifier_prob_habitat_suitability_CCAP_NORTH_east_coast_USA_13_4000_1000_all_predictors_depth_None/output_2023-08-04-08_16_51_253.tif\n",
      "\n",
      "\n",
      "\n",
      "\n",
      "Starting image: /Users/margauxmforstyhe/Desktop/workspace/wetlands_labs/CCAP boundaries/north_east_coast/tiles_north_east_coast_ccap_mapping_bndry_gridded_50km_50km_classes_13_CCAP_scale30/inference_tiles_scale30_95.tif\n",
      "Image opened\n"
     ]
    },
    {
     "name": "stderr",
     "output_type": "stream",
     "text": [
      "[Parallel(n_jobs=12)]: Using backend ThreadingBackend with 12 concurrent workers.\n",
      "[Parallel(n_jobs=12)]: Done  26 tasks      | elapsed:    1.7s\n",
      "[Parallel(n_jobs=12)]: Done 100 out of 100 | elapsed:    4.6s finished\n"
     ]
    },
    {
     "name": "stdout",
     "output_type": "stream",
     "text": [
      "Class prediction was successful without slicing!\n",
      "No slicing was necessary!\n",
      "Image saved to: local_model_outputs_classifier_prob_habitat_suitability_CCAP_NORTH_east_coast_USA_13_4000_1000_all_predictors_depth_None/output_2023-08-04-08_16_56_254.tif\n",
      "\n",
      "\n",
      "\n",
      "\n",
      "Starting image: /Users/margauxmforstyhe/Desktop/workspace/wetlands_labs/CCAP boundaries/north_east_coast/tiles_north_east_coast_ccap_mapping_bndry_gridded_50km_50km_classes_13_CCAP_scale30/inference_tiles_scale30_369.tif\n",
      "Image opened\n"
     ]
    },
    {
     "name": "stderr",
     "output_type": "stream",
     "text": [
      "[Parallel(n_jobs=12)]: Using backend ThreadingBackend with 12 concurrent workers.\n",
      "[Parallel(n_jobs=12)]: Done  26 tasks      | elapsed:    0.5s\n",
      "[Parallel(n_jobs=12)]: Done 100 out of 100 | elapsed:    1.7s finished\n"
     ]
    },
    {
     "name": "stdout",
     "output_type": "stream",
     "text": [
      "Class prediction was successful without slicing!\n",
      "No slicing was necessary!\n",
      "Image saved to: local_model_outputs_classifier_prob_habitat_suitability_CCAP_NORTH_east_coast_USA_13_4000_1000_all_predictors_depth_None/output_2023-08-04-08_16_58_255.tif\n",
      "\n",
      "\n",
      "\n",
      "\n",
      "Starting image: /Users/margauxmforstyhe/Desktop/workspace/wetlands_labs/CCAP boundaries/north_east_coast/tiles_north_east_coast_ccap_mapping_bndry_gridded_50km_50km_classes_13_CCAP_scale30/inference_tiles_scale30_42.tif\n",
      "Image opened\n"
     ]
    },
    {
     "name": "stderr",
     "output_type": "stream",
     "text": [
      "[Parallel(n_jobs=12)]: Using backend ThreadingBackend with 12 concurrent workers.\n",
      "[Parallel(n_jobs=12)]: Done  26 tasks      | elapsed:    1.9s\n",
      "[Parallel(n_jobs=12)]: Done 100 out of 100 | elapsed:    5.4s finished\n"
     ]
    },
    {
     "name": "stdout",
     "output_type": "stream",
     "text": [
      "Class prediction was successful without slicing!\n",
      "No slicing was necessary!\n",
      "Image saved to: local_model_outputs_classifier_prob_habitat_suitability_CCAP_NORTH_east_coast_USA_13_4000_1000_all_predictors_depth_None/output_2023-08-04-08_17_05_256.tif\n",
      "\n",
      "\n",
      "\n",
      "\n",
      "Starting image: /Users/margauxmforstyhe/Desktop/workspace/wetlands_labs/CCAP boundaries/north_east_coast/tiles_north_east_coast_ccap_mapping_bndry_gridded_50km_50km_classes_13_CCAP_scale30/inference_tiles_scale30_341.tif\n",
      "Image opened\n"
     ]
    },
    {
     "name": "stderr",
     "output_type": "stream",
     "text": [
      "[Parallel(n_jobs=12)]: Using backend ThreadingBackend with 12 concurrent workers.\n",
      "[Parallel(n_jobs=12)]: Done  26 tasks      | elapsed:    1.8s\n",
      "[Parallel(n_jobs=12)]: Done 100 out of 100 | elapsed:    5.5s finished\n"
     ]
    },
    {
     "name": "stdout",
     "output_type": "stream",
     "text": [
      "Class prediction was successful without slicing!\n",
      "No slicing was necessary!\n",
      "Image saved to: local_model_outputs_classifier_prob_habitat_suitability_CCAP_NORTH_east_coast_USA_13_4000_1000_all_predictors_depth_None/output_2023-08-04-08_17_11_257.tif\n",
      "\n",
      "\n",
      "\n",
      "\n",
      "Starting image: /Users/margauxmforstyhe/Desktop/workspace/wetlands_labs/CCAP boundaries/north_east_coast/tiles_north_east_coast_ccap_mapping_bndry_gridded_50km_50km_classes_13_CCAP_scale30/inference_tiles_scale30_427.tif\n",
      "Image opened\n"
     ]
    },
    {
     "name": "stderr",
     "output_type": "stream",
     "text": [
      "[Parallel(n_jobs=12)]: Using backend ThreadingBackend with 12 concurrent workers.\n",
      "[Parallel(n_jobs=12)]: Done  26 tasks      | elapsed:    0.8s\n",
      "[Parallel(n_jobs=12)]: Done 100 out of 100 | elapsed:    2.4s finished\n"
     ]
    },
    {
     "name": "stdout",
     "output_type": "stream",
     "text": [
      "Class prediction was successful without slicing!\n",
      "No slicing was necessary!\n",
      "Image saved to: local_model_outputs_classifier_prob_habitat_suitability_CCAP_NORTH_east_coast_USA_13_4000_1000_all_predictors_depth_None/output_2023-08-04-08_17_14_258.tif\n",
      "\n",
      "\n",
      "\n",
      "\n",
      "Starting image: /Users/margauxmforstyhe/Desktop/workspace/wetlands_labs/CCAP boundaries/north_east_coast/tiles_north_east_coast_ccap_mapping_bndry_gridded_50km_50km_classes_13_CCAP_scale30/inference_tiles_scale30_433.tif\n",
      "Image opened\n"
     ]
    },
    {
     "name": "stderr",
     "output_type": "stream",
     "text": [
      "[Parallel(n_jobs=12)]: Using backend ThreadingBackend with 12 concurrent workers.\n",
      "[Parallel(n_jobs=12)]: Done  26 tasks      | elapsed:    0.7s\n",
      "[Parallel(n_jobs=12)]: Done 100 out of 100 | elapsed:    1.9s finished\n"
     ]
    },
    {
     "name": "stdout",
     "output_type": "stream",
     "text": [
      "Class prediction was successful without slicing!\n",
      "No slicing was necessary!\n",
      "Image saved to: local_model_outputs_classifier_prob_habitat_suitability_CCAP_NORTH_east_coast_USA_13_4000_1000_all_predictors_depth_None/output_2023-08-04-08_17_16_259.tif\n",
      "\n",
      "\n",
      "\n",
      "\n",
      "Starting image: /Users/margauxmforstyhe/Desktop/workspace/wetlands_labs/CCAP boundaries/north_east_coast/tiles_north_east_coast_ccap_mapping_bndry_gridded_50km_50km_classes_13_CCAP_scale30/inference_tiles_scale30_56.tif\n",
      "Image opened\n"
     ]
    },
    {
     "name": "stderr",
     "output_type": "stream",
     "text": [
      "[Parallel(n_jobs=12)]: Using backend ThreadingBackend with 12 concurrent workers.\n",
      "[Parallel(n_jobs=12)]: Done  26 tasks      | elapsed:    1.2s\n",
      "[Parallel(n_jobs=12)]: Done 100 out of 100 | elapsed:    3.2s finished\n"
     ]
    },
    {
     "name": "stdout",
     "output_type": "stream",
     "text": [
      "Class prediction was successful without slicing!\n",
      "No slicing was necessary!\n",
      "Image saved to: local_model_outputs_classifier_prob_habitat_suitability_CCAP_NORTH_east_coast_USA_13_4000_1000_all_predictors_depth_None/output_2023-08-04-08_17_21_260.tif\n",
      "\n",
      "\n",
      "\n",
      "\n",
      "Starting image: /Users/margauxmforstyhe/Desktop/workspace/wetlands_labs/CCAP boundaries/north_east_coast/tiles_north_east_coast_ccap_mapping_bndry_gridded_50km_50km_classes_13_CCAP_scale30/inference_tiles_scale30_355.tif\n",
      "Image opened\n"
     ]
    },
    {
     "name": "stderr",
     "output_type": "stream",
     "text": [
      "[Parallel(n_jobs=12)]: Using backend ThreadingBackend with 12 concurrent workers.\n",
      "[Parallel(n_jobs=12)]: Done  26 tasks      | elapsed:    1.5s\n",
      "[Parallel(n_jobs=12)]: Done 100 out of 100 | elapsed:    4.3s finished\n"
     ]
    },
    {
     "name": "stdout",
     "output_type": "stream",
     "text": [
      "Class prediction was successful without slicing!\n",
      "No slicing was necessary!\n",
      "Image saved to: local_model_outputs_classifier_prob_habitat_suitability_CCAP_NORTH_east_coast_USA_13_4000_1000_all_predictors_depth_None/output_2023-08-04-08_17_26_261.tif\n",
      "\n",
      "\n",
      "\n",
      "\n",
      "Starting image: /Users/margauxmforstyhe/Desktop/workspace/wetlands_labs/CCAP boundaries/north_east_coast/tiles_north_east_coast_ccap_mapping_bndry_gridded_50km_50km_classes_13_CCAP_scale30/inference_tiles_scale30_468.tif\n",
      "Image opened\n"
     ]
    },
    {
     "name": "stderr",
     "output_type": "stream",
     "text": [
      "[Parallel(n_jobs=12)]: Using backend ThreadingBackend with 12 concurrent workers.\n",
      "[Parallel(n_jobs=12)]: Done  26 tasks      | elapsed:    0.8s\n",
      "[Parallel(n_jobs=12)]: Done 100 out of 100 | elapsed:    2.3s finished\n"
     ]
    },
    {
     "name": "stdout",
     "output_type": "stream",
     "text": [
      "Class prediction was successful without slicing!\n",
      "No slicing was necessary!\n",
      "Image saved to: local_model_outputs_classifier_prob_habitat_suitability_CCAP_NORTH_east_coast_USA_13_4000_1000_all_predictors_depth_None/output_2023-08-04-08_17_28_262.tif\n",
      "\n",
      "\n",
      "\n",
      "\n",
      "Starting image: /Users/margauxmforstyhe/Desktop/workspace/wetlands_labs/CCAP boundaries/north_east_coast/tiles_north_east_coast_ccap_mapping_bndry_gridded_50km_50km_classes_13_CCAP_scale30/inference_tiles_scale30_19.tif\n",
      "Image opened\n"
     ]
    },
    {
     "name": "stderr",
     "output_type": "stream",
     "text": [
      "[Parallel(n_jobs=12)]: Using backend ThreadingBackend with 12 concurrent workers.\n",
      "[Parallel(n_jobs=12)]: Done  26 tasks      | elapsed:    1.4s\n",
      "[Parallel(n_jobs=12)]: Done 100 out of 100 | elapsed:    4.0s finished\n"
     ]
    },
    {
     "name": "stdout",
     "output_type": "stream",
     "text": [
      "Class prediction was successful without slicing!\n",
      "No slicing was necessary!\n",
      "Image saved to: local_model_outputs_classifier_prob_habitat_suitability_CCAP_NORTH_east_coast_USA_13_4000_1000_all_predictors_depth_None/output_2023-08-04-08_17_33_263.tif\n",
      "\n",
      "\n",
      "\n",
      "\n",
      "Starting image: /Users/margauxmforstyhe/Desktop/workspace/wetlands_labs/CCAP boundaries/north_east_coast/tiles_north_east_coast_ccap_mapping_bndry_gridded_50km_50km_classes_13_CCAP_scale30/inference_tiles_scale30_454.tif\n",
      "Image opened\n"
     ]
    },
    {
     "name": "stderr",
     "output_type": "stream",
     "text": [
      "[Parallel(n_jobs=12)]: Using backend ThreadingBackend with 12 concurrent workers.\n",
      "[Parallel(n_jobs=12)]: Done  26 tasks      | elapsed:    0.4s\n",
      "[Parallel(n_jobs=12)]: Done 100 out of 100 | elapsed:    1.1s finished\n"
     ]
    },
    {
     "name": "stdout",
     "output_type": "stream",
     "text": [
      "Class prediction was successful without slicing!\n",
      "No slicing was necessary!\n",
      "Image saved to: local_model_outputs_classifier_prob_habitat_suitability_CCAP_NORTH_east_coast_USA_13_4000_1000_all_predictors_depth_None/output_2023-08-04-08_17_35_264.tif\n",
      "\n",
      "\n",
      "\n",
      "\n",
      "Starting image: /Users/margauxmforstyhe/Desktop/workspace/wetlands_labs/CCAP boundaries/north_east_coast/tiles_north_east_coast_ccap_mapping_bndry_gridded_50km_50km_classes_13_CCAP_scale30/inference_tiles_scale30_332.tif\n",
      "Image opened\n"
     ]
    },
    {
     "name": "stderr",
     "output_type": "stream",
     "text": [
      "[Parallel(n_jobs=12)]: Using backend ThreadingBackend with 12 concurrent workers.\n",
      "[Parallel(n_jobs=12)]: Done  26 tasks      | elapsed:    0.6s\n",
      "[Parallel(n_jobs=12)]: Done 100 out of 100 | elapsed:    1.9s finished\n"
     ]
    },
    {
     "name": "stdout",
     "output_type": "stream",
     "text": [
      "Class prediction was successful without slicing!\n",
      "No slicing was necessary!\n",
      "Image saved to: local_model_outputs_classifier_prob_habitat_suitability_CCAP_NORTH_east_coast_USA_13_4000_1000_all_predictors_depth_None/output_2023-08-04-08_17_37_265.tif\n",
      "\n",
      "\n",
      "\n",
      "\n",
      "Starting image: /Users/margauxmforstyhe/Desktop/workspace/wetlands_labs/CCAP boundaries/north_east_coast/tiles_north_east_coast_ccap_mapping_bndry_gridded_50km_50km_classes_13_CCAP_scale30/inference_tiles_scale30_31.tif\n",
      "Image opened\n"
     ]
    },
    {
     "name": "stderr",
     "output_type": "stream",
     "text": [
      "[Parallel(n_jobs=12)]: Using backend ThreadingBackend with 12 concurrent workers.\n",
      "[Parallel(n_jobs=12)]: Done  26 tasks      | elapsed:    0.7s\n",
      "[Parallel(n_jobs=12)]: Done 100 out of 100 | elapsed:    2.1s finished\n"
     ]
    },
    {
     "name": "stdout",
     "output_type": "stream",
     "text": [
      "Class prediction was successful without slicing!\n",
      "No slicing was necessary!\n",
      "Image saved to: local_model_outputs_classifier_prob_habitat_suitability_CCAP_NORTH_east_coast_USA_13_4000_1000_all_predictors_depth_None/output_2023-08-04-08_17_40_266.tif\n",
      "\n",
      "\n",
      "\n",
      "\n",
      "Starting image: /Users/margauxmforstyhe/Desktop/workspace/wetlands_labs/CCAP boundaries/north_east_coast/tiles_north_east_coast_ccap_mapping_bndry_gridded_50km_50km_classes_13_CCAP_scale30/inference_tiles_scale30_326.tif\n",
      "Image opened\n"
     ]
    },
    {
     "name": "stderr",
     "output_type": "stream",
     "text": [
      "[Parallel(n_jobs=12)]: Using backend ThreadingBackend with 12 concurrent workers.\n",
      "[Parallel(n_jobs=12)]: Done  26 tasks      | elapsed:    1.6s\n",
      "[Parallel(n_jobs=12)]: Done 100 out of 100 | elapsed:    4.7s finished\n"
     ]
    },
    {
     "name": "stdout",
     "output_type": "stream",
     "text": [
      "Class prediction was successful without slicing!\n",
      "No slicing was necessary!\n",
      "Image saved to: local_model_outputs_classifier_prob_habitat_suitability_CCAP_NORTH_east_coast_USA_13_4000_1000_all_predictors_depth_None/output_2023-08-04-08_17_45_267.tif\n",
      "\n",
      "\n",
      "\n",
      "\n",
      "Starting image: /Users/margauxmforstyhe/Desktop/workspace/wetlands_labs/CCAP boundaries/north_east_coast/tiles_north_east_coast_ccap_mapping_bndry_gridded_50km_50km_classes_13_CCAP_scale30/inference_tiles_scale30_25.tif\n",
      "Image opened\n"
     ]
    },
    {
     "name": "stderr",
     "output_type": "stream",
     "text": [
      "[Parallel(n_jobs=12)]: Using backend ThreadingBackend with 12 concurrent workers.\n",
      "[Parallel(n_jobs=12)]: Done  26 tasks      | elapsed:    0.7s\n",
      "[Parallel(n_jobs=12)]: Done 100 out of 100 | elapsed:    2.2s finished\n",
      "[Parallel(n_jobs=12)]: Using backend ThreadingBackend with 12 concurrent workers.\n"
     ]
    },
    {
     "name": "stdout",
     "output_type": "stream",
     "text": [
      "Class prediction was successful without slicing!\n",
      "No slicing was necessary!\n",
      "Image saved to: local_model_outputs_classifier_prob_habitat_suitability_CCAP_NORTH_east_coast_USA_13_4000_1000_all_predictors_depth_None/output_2023-08-04-08_17_48_268.tif\n",
      "\n",
      "\n",
      "\n",
      "\n",
      "Starting image: /Users/margauxmforstyhe/Desktop/workspace/wetlands_labs/CCAP boundaries/north_east_coast/tiles_north_east_coast_ccap_mapping_bndry_gridded_50km_50km_classes_13_CCAP_scale30/inference_tiles_scale30_440.tif\n",
      "Image opened\n"
     ]
    },
    {
     "name": "stderr",
     "output_type": "stream",
     "text": [
      "[Parallel(n_jobs=12)]: Done  26 tasks      | elapsed:    0.1s\n",
      "[Parallel(n_jobs=12)]: Done 100 out of 100 | elapsed:    0.3s finished\n"
     ]
    },
    {
     "name": "stdout",
     "output_type": "stream",
     "text": [
      "Class prediction was successful without slicing!\n",
      "No slicing was necessary!\n",
      "Image saved to: local_model_outputs_classifier_prob_habitat_suitability_CCAP_NORTH_east_coast_USA_13_4000_1000_all_predictors_depth_None/output_2023-08-04-08_17_48_269.tif\n",
      "\n",
      "\n",
      "\n",
      "\n",
      "Starting image: /Users/margauxmforstyhe/Desktop/workspace/wetlands_labs/CCAP boundaries/north_east_coast/tiles_north_east_coast_ccap_mapping_bndry_gridded_50km_50km_classes_13_CCAP_scale30/inference_tiles_scale30_497.tif\n",
      "Image opened\n"
     ]
    },
    {
     "name": "stderr",
     "output_type": "stream",
     "text": [
      "[Parallel(n_jobs=12)]: Using backend ThreadingBackend with 12 concurrent workers.\n",
      "[Parallel(n_jobs=12)]: Done  26 tasks      | elapsed:    1.6s\n",
      "[Parallel(n_jobs=12)]: Done 100 out of 100 | elapsed:    4.8s finished\n"
     ]
    },
    {
     "name": "stdout",
     "output_type": "stream",
     "text": [
      "Class prediction was successful without slicing!\n",
      "No slicing was necessary!\n",
      "Image saved to: local_model_outputs_classifier_prob_habitat_suitability_CCAP_NORTH_east_coast_USA_13_4000_1000_all_predictors_depth_None/output_2023-08-04-08_17_54_270.tif\n",
      "\n",
      "\n",
      "\n",
      "\n",
      "Starting image: /Users/margauxmforstyhe/Desktop/workspace/wetlands_labs/CCAP boundaries/north_east_coast/tiles_north_east_coast_ccap_mapping_bndry_gridded_50km_50km_classes_13_CCAP_scale30/inference_tiles_scale30_483.tif\n",
      "Image opened\n"
     ]
    },
    {
     "name": "stderr",
     "output_type": "stream",
     "text": [
      "[Parallel(n_jobs=12)]: Using backend ThreadingBackend with 12 concurrent workers.\n",
      "[Parallel(n_jobs=12)]: Done  26 tasks      | elapsed:    0.4s\n",
      "[Parallel(n_jobs=12)]: Done 100 out of 100 | elapsed:    1.2s finished\n"
     ]
    },
    {
     "name": "stdout",
     "output_type": "stream",
     "text": [
      "Class prediction was successful without slicing!\n",
      "No slicing was necessary!\n",
      "Image saved to: local_model_outputs_classifier_prob_habitat_suitability_CCAP_NORTH_east_coast_USA_13_4000_1000_all_predictors_depth_None/output_2023-08-04-08_17_56_271.tif\n",
      "\n",
      "\n",
      "\n",
      "\n",
      "Starting image: /Users/margauxmforstyhe/Desktop/workspace/wetlands_labs/CCAP boundaries/north_east_coast/tiles_north_east_coast_ccap_mapping_bndry_gridded_50km_50km_classes_13_CCAP_scale30/inference_tiles_scale30_118.tif\n",
      "Image opened\n"
     ]
    },
    {
     "name": "stderr",
     "output_type": "stream",
     "text": [
      "[Parallel(n_jobs=12)]: Using backend ThreadingBackend with 12 concurrent workers.\n",
      "[Parallel(n_jobs=12)]: Done  26 tasks      | elapsed:    0.6s\n",
      "[Parallel(n_jobs=12)]: Done 100 out of 100 | elapsed:    1.8s finished\n"
     ]
    },
    {
     "name": "stdout",
     "output_type": "stream",
     "text": [
      "Class prediction was successful without slicing!\n",
      "No slicing was necessary!\n",
      "Image saved to: local_model_outputs_classifier_prob_habitat_suitability_CCAP_NORTH_east_coast_USA_13_4000_1000_all_predictors_depth_None/output_2023-08-04-08_17_58_272.tif\n",
      "\n",
      "\n",
      "\n",
      "\n",
      "Starting image: /Users/margauxmforstyhe/Desktop/workspace/wetlands_labs/CCAP boundaries/north_east_coast/tiles_north_east_coast_ccap_mapping_bndry_gridded_50km_50km_classes_13_CCAP_scale30/inference_tiles_scale30_130.tif\n",
      "Image opened\n"
     ]
    },
    {
     "name": "stderr",
     "output_type": "stream",
     "text": [
      "[Parallel(n_jobs=12)]: Using backend ThreadingBackend with 12 concurrent workers.\n",
      "[Parallel(n_jobs=12)]: Done  26 tasks      | elapsed:    0.6s\n",
      "[Parallel(n_jobs=12)]: Done 100 out of 100 | elapsed:    1.9s finished\n"
     ]
    },
    {
     "name": "stdout",
     "output_type": "stream",
     "text": [
      "Class prediction was successful without slicing!\n",
      "No slicing was necessary!\n",
      "Image saved to: local_model_outputs_classifier_prob_habitat_suitability_CCAP_NORTH_east_coast_USA_13_4000_1000_all_predictors_depth_None/output_2023-08-04-08_18_00_273.tif\n",
      "\n",
      "\n",
      "\n",
      "\n",
      "Starting image: /Users/margauxmforstyhe/Desktop/workspace/wetlands_labs/CCAP boundaries/north_east_coast/tiles_north_east_coast_ccap_mapping_bndry_gridded_50km_50km_classes_13_CCAP_scale30/inference_tiles_scale30_656.tif\n",
      "Image opened\n"
     ]
    },
    {
     "name": "stderr",
     "output_type": "stream",
     "text": [
      "[Parallel(n_jobs=12)]: Using backend ThreadingBackend with 12 concurrent workers.\n",
      "[Parallel(n_jobs=12)]: Done  26 tasks      | elapsed:    2.0s\n",
      "[Parallel(n_jobs=12)]: Done 100 out of 100 | elapsed:    5.2s finished\n"
     ]
    },
    {
     "name": "stdout",
     "output_type": "stream",
     "text": [
      "Class prediction was successful without slicing!\n",
      "No slicing was necessary!\n",
      "Image saved to: local_model_outputs_classifier_prob_habitat_suitability_CCAP_NORTH_east_coast_USA_13_4000_1000_all_predictors_depth_None/output_2023-08-04-08_18_06_274.tif\n",
      "\n",
      "\n",
      "\n",
      "\n",
      "Starting image: /Users/margauxmforstyhe/Desktop/workspace/wetlands_labs/CCAP boundaries/north_east_coast/tiles_north_east_coast_ccap_mapping_bndry_gridded_50km_50km_classes_13_CCAP_scale30/inference_tiles_scale30_642.tif\n",
      "Image opened\n"
     ]
    },
    {
     "name": "stderr",
     "output_type": "stream",
     "text": [
      "[Parallel(n_jobs=12)]: Using backend ThreadingBackend with 12 concurrent workers.\n",
      "[Parallel(n_jobs=12)]: Done  26 tasks      | elapsed:    1.8s\n",
      "[Parallel(n_jobs=12)]: Done 100 out of 100 | elapsed:    5.1s finished\n"
     ]
    },
    {
     "name": "stdout",
     "output_type": "stream",
     "text": [
      "Class prediction was successful without slicing!\n",
      "No slicing was necessary!\n",
      "Image saved to: local_model_outputs_classifier_prob_habitat_suitability_CCAP_NORTH_east_coast_USA_13_4000_1000_all_predictors_depth_None/output_2023-08-04-08_18_12_275.tif\n",
      "\n",
      "\n",
      "\n",
      "\n",
      "Starting image: /Users/margauxmforstyhe/Desktop/workspace/wetlands_labs/CCAP boundaries/north_east_coast/tiles_north_east_coast_ccap_mapping_bndry_gridded_50km_50km_classes_13_CCAP_scale30/inference_tiles_scale30_124.tif\n",
      "Image opened\n"
     ]
    },
    {
     "name": "stderr",
     "output_type": "stream",
     "text": [
      "[Parallel(n_jobs=12)]: Using backend ThreadingBackend with 12 concurrent workers.\n",
      "[Parallel(n_jobs=12)]: Done  26 tasks      | elapsed:    0.3s\n",
      "[Parallel(n_jobs=12)]: Done 100 out of 100 | elapsed:    0.8s finished\n"
     ]
    },
    {
     "name": "stdout",
     "output_type": "stream",
     "text": [
      "Class prediction was successful without slicing!\n",
      "No slicing was necessary!\n",
      "Image saved to: local_model_outputs_classifier_prob_habitat_suitability_CCAP_NORTH_east_coast_USA_13_4000_1000_all_predictors_depth_None/output_2023-08-04-08_18_13_276.tif\n",
      "\n",
      "\n",
      "\n",
      "\n",
      "Starting image: /Users/margauxmforstyhe/Desktop/workspace/wetlands_labs/CCAP boundaries/north_east_coast/tiles_north_east_coast_ccap_mapping_bndry_gridded_50km_50km_classes_13_CCAP_scale30/inference_tiles_scale30_871.tif\n",
      "Image opened\n"
     ]
    },
    {
     "name": "stderr",
     "output_type": "stream",
     "text": [
      "[Parallel(n_jobs=12)]: Using backend ThreadingBackend with 12 concurrent workers.\n",
      "[Parallel(n_jobs=12)]: Done  26 tasks      | elapsed:    1.5s\n",
      "[Parallel(n_jobs=12)]: Done 100 out of 100 | elapsed:    4.3s finished\n"
     ]
    },
    {
     "name": "stdout",
     "output_type": "stream",
     "text": [
      "Class prediction was successful without slicing!\n",
      "No slicing was necessary!\n",
      "Image saved to: local_model_outputs_classifier_prob_habitat_suitability_CCAP_NORTH_east_coast_USA_13_4000_1000_all_predictors_depth_None/output_2023-08-04-08_18_18_277.tif\n",
      "\n",
      "\n",
      "\n",
      "\n",
      "Starting image: /Users/margauxmforstyhe/Desktop/workspace/wetlands_labs/CCAP boundaries/north_east_coast/tiles_north_east_coast_ccap_mapping_bndry_gridded_50km_50km_classes_13_CCAP_scale30/inference_tiles_scale30_865.tif\n",
      "Image opened\n"
     ]
    },
    {
     "name": "stderr",
     "output_type": "stream",
     "text": [
      "[Parallel(n_jobs=12)]: Using backend ThreadingBackend with 12 concurrent workers.\n",
      "[Parallel(n_jobs=12)]: Done  26 tasks      | elapsed:    1.2s\n",
      "[Parallel(n_jobs=12)]: Done 100 out of 100 | elapsed:    3.4s finished\n"
     ]
    },
    {
     "name": "stdout",
     "output_type": "stream",
     "text": [
      "Class prediction was successful without slicing!\n",
      "No slicing was necessary!\n",
      "Image saved to: local_model_outputs_classifier_prob_habitat_suitability_CCAP_NORTH_east_coast_USA_13_4000_1000_all_predictors_depth_None/output_2023-08-04-08_18_23_278.tif\n",
      "\n",
      "\n",
      "\n",
      "\n",
      "Starting image: /Users/margauxmforstyhe/Desktop/workspace/wetlands_labs/CCAP boundaries/north_east_coast/tiles_north_east_coast_ccap_mapping_bndry_gridded_50km_50km_classes_13_CCAP_scale30/inference_tiles_scale30_695.tif\n",
      "Image opened\n"
     ]
    },
    {
     "name": "stderr",
     "output_type": "stream",
     "text": [
      "[Parallel(n_jobs=12)]: Using backend ThreadingBackend with 12 concurrent workers.\n",
      "[Parallel(n_jobs=12)]: Done  26 tasks      | elapsed:    2.0s\n",
      "[Parallel(n_jobs=12)]: Done 100 out of 100 | elapsed:    5.8s finished\n"
     ]
    },
    {
     "name": "stdout",
     "output_type": "stream",
     "text": [
      "Class prediction was successful without slicing!\n",
      "No slicing was necessary!\n",
      "Image saved to: local_model_outputs_classifier_prob_habitat_suitability_CCAP_NORTH_east_coast_USA_13_4000_1000_all_predictors_depth_None/output_2023-08-04-08_18_29_279.tif\n",
      "\n",
      "\n",
      "\n",
      "\n",
      "Starting image: /Users/margauxmforstyhe/Desktop/workspace/wetlands_labs/CCAP boundaries/north_east_coast/tiles_north_east_coast_ccap_mapping_bndry_gridded_50km_50km_classes_13_CCAP_scale30/inference_tiles_scale30_859.tif\n",
      "Image opened\n"
     ]
    },
    {
     "name": "stderr",
     "output_type": "stream",
     "text": [
      "[Parallel(n_jobs=12)]: Using backend ThreadingBackend with 12 concurrent workers.\n",
      "[Parallel(n_jobs=12)]: Done  26 tasks      | elapsed:    1.4s\n",
      "[Parallel(n_jobs=12)]: Done 100 out of 100 | elapsed:    4.2s finished\n"
     ]
    },
    {
     "name": "stdout",
     "output_type": "stream",
     "text": [
      "Class prediction was successful without slicing!\n",
      "No slicing was necessary!\n",
      "Image saved to: local_model_outputs_classifier_prob_habitat_suitability_CCAP_NORTH_east_coast_USA_13_4000_1000_all_predictors_depth_None/output_2023-08-04-08_18_34_280.tif\n",
      "\n",
      "\n",
      "\n",
      "\n",
      "Starting image: /Users/margauxmforstyhe/Desktop/workspace/wetlands_labs/CCAP boundaries/north_east_coast/tiles_north_east_coast_ccap_mapping_bndry_gridded_50km_50km_classes_13_CCAP_scale30/inference_tiles_scale30_681.tif\n",
      "Image opened\n"
     ]
    },
    {
     "name": "stderr",
     "output_type": "stream",
     "text": [
      "[Parallel(n_jobs=12)]: Using backend ThreadingBackend with 12 concurrent workers.\n",
      "[Parallel(n_jobs=12)]: Done  26 tasks      | elapsed:    0.2s\n",
      "[Parallel(n_jobs=12)]: Done 100 out of 100 | elapsed:    0.5s finished\n"
     ]
    },
    {
     "name": "stdout",
     "output_type": "stream",
     "text": [
      "Class prediction was successful without slicing!\n",
      "No slicing was necessary!\n",
      "Image saved to: local_model_outputs_classifier_prob_habitat_suitability_CCAP_NORTH_east_coast_USA_13_4000_1000_all_predictors_depth_None/output_2023-08-04-08_18_35_281.tif\n",
      "\n",
      "\n",
      "\n",
      "\n",
      "Starting image: /Users/margauxmforstyhe/Desktop/workspace/wetlands_labs/CCAP boundaries/north_east_coast/tiles_north_east_coast_ccap_mapping_bndry_gridded_50km_50km_classes_13_CCAP_scale30/inference_tiles_scale30_722.tif\n",
      "Image opened\n"
     ]
    },
    {
     "name": "stderr",
     "output_type": "stream",
     "text": [
      "[Parallel(n_jobs=12)]: Using backend ThreadingBackend with 12 concurrent workers.\n",
      "[Parallel(n_jobs=12)]: Done  26 tasks      | elapsed:    1.4s\n",
      "[Parallel(n_jobs=12)]: Done 100 out of 100 | elapsed:    4.3s finished\n"
     ]
    },
    {
     "name": "stdout",
     "output_type": "stream",
     "text": [
      "Class prediction was successful without slicing!\n",
      "No slicing was necessary!\n",
      "Image saved to: local_model_outputs_classifier_prob_habitat_suitability_CCAP_NORTH_east_coast_USA_13_4000_1000_all_predictors_depth_None/output_2023-08-04-08_18_40_282.tif\n",
      "\n",
      "\n",
      "\n",
      "\n",
      "Starting image: /Users/margauxmforstyhe/Desktop/workspace/wetlands_labs/CCAP boundaries/north_east_coast/tiles_north_east_coast_ccap_mapping_bndry_gridded_50km_50km_classes_13_CCAP_scale30/inference_tiles_scale30_736.tif\n",
      "Image opened\n"
     ]
    },
    {
     "name": "stderr",
     "output_type": "stream",
     "text": [
      "[Parallel(n_jobs=12)]: Using backend ThreadingBackend with 12 concurrent workers.\n",
      "[Parallel(n_jobs=12)]: Done  26 tasks      | elapsed:    0.6s\n",
      "[Parallel(n_jobs=12)]: Done 100 out of 100 | elapsed:    1.7s finished\n"
     ]
    },
    {
     "name": "stdout",
     "output_type": "stream",
     "text": [
      "Class prediction was successful without slicing!\n",
      "No slicing was necessary!\n",
      "Image saved to: local_model_outputs_classifier_prob_habitat_suitability_CCAP_NORTH_east_coast_USA_13_4000_1000_all_predictors_depth_None/output_2023-08-04-08_18_42_283.tif\n",
      "\n",
      "\n",
      "\n",
      "\n",
      "Starting image: /Users/margauxmforstyhe/Desktop/workspace/wetlands_labs/CCAP boundaries/north_east_coast/tiles_north_east_coast_ccap_mapping_bndry_gridded_50km_50km_classes_13_CCAP_scale30/inference_tiles_scale30_905.tif\n",
      "Image opened\n"
     ]
    },
    {
     "name": "stderr",
     "output_type": "stream",
     "text": [
      "[Parallel(n_jobs=12)]: Using backend ThreadingBackend with 12 concurrent workers.\n",
      "[Parallel(n_jobs=12)]: Done  26 tasks      | elapsed:    1.2s\n",
      "[Parallel(n_jobs=12)]: Done 100 out of 100 | elapsed:    3.4s finished\n"
     ]
    },
    {
     "name": "stdout",
     "output_type": "stream",
     "text": [
      "Class prediction was successful without slicing!\n",
      "No slicing was necessary!\n",
      "Image saved to: local_model_outputs_classifier_prob_habitat_suitability_CCAP_NORTH_east_coast_USA_13_4000_1000_all_predictors_depth_None/output_2023-08-04-08_18_46_284.tif\n",
      "\n",
      "\n",
      "\n",
      "\n",
      "Starting image: /Users/margauxmforstyhe/Desktop/workspace/wetlands_labs/CCAP boundaries/north_east_coast/tiles_north_east_coast_ccap_mapping_bndry_gridded_50km_50km_classes_13_CCAP_scale30/inference_tiles_scale30_911.tif\n",
      "Image opened\n"
     ]
    },
    {
     "name": "stderr",
     "output_type": "stream",
     "text": [
      "[Parallel(n_jobs=12)]: Using backend ThreadingBackend with 12 concurrent workers.\n",
      "[Parallel(n_jobs=12)]: Done  26 tasks      | elapsed:    0.4s\n",
      "[Parallel(n_jobs=12)]: Done 100 out of 100 | elapsed:    1.2s finished\n"
     ]
    },
    {
     "name": "stdout",
     "output_type": "stream",
     "text": [
      "Class prediction was successful without slicing!\n",
      "No slicing was necessary!\n",
      "Image saved to: local_model_outputs_classifier_prob_habitat_suitability_CCAP_NORTH_east_coast_USA_13_4000_1000_all_predictors_depth_None/output_2023-08-04-08_18_47_285.tif\n",
      "\n",
      "\n",
      "\n",
      "\n",
      "Starting image: /Users/margauxmforstyhe/Desktop/workspace/wetlands_labs/CCAP boundaries/north_east_coast/tiles_north_east_coast_ccap_mapping_bndry_gridded_50km_50km_classes_13_CCAP_scale30/inference_tiles_scale30_508.tif\n",
      "Image opened\n"
     ]
    },
    {
     "name": "stderr",
     "output_type": "stream",
     "text": [
      "[Parallel(n_jobs=12)]: Using backend ThreadingBackend with 12 concurrent workers.\n",
      "[Parallel(n_jobs=12)]: Done  26 tasks      | elapsed:    1.9s\n",
      "[Parallel(n_jobs=12)]: Done 100 out of 100 | elapsed:    5.6s finished\n"
     ]
    },
    {
     "name": "stdout",
     "output_type": "stream",
     "text": [
      "Class prediction was successful without slicing!\n",
      "No slicing was necessary!\n",
      "Image saved to: local_model_outputs_classifier_prob_habitat_suitability_CCAP_NORTH_east_coast_USA_13_4000_1000_all_predictors_depth_None/output_2023-08-04-08_18_54_286.tif\n",
      "\n",
      "\n",
      "\n",
      "\n",
      "Starting image: /Users/margauxmforstyhe/Desktop/workspace/wetlands_labs/CCAP boundaries/north_east_coast/tiles_north_east_coast_ccap_mapping_bndry_gridded_50km_50km_classes_13_CCAP_scale30/inference_tiles_scale30_520.tif\n",
      "Image opened\n"
     ]
    },
    {
     "name": "stderr",
     "output_type": "stream",
     "text": [
      "[Parallel(n_jobs=12)]: Using backend ThreadingBackend with 12 concurrent workers.\n",
      "[Parallel(n_jobs=12)]: Done  26 tasks      | elapsed:    0.6s\n",
      "[Parallel(n_jobs=12)]: Done 100 out of 100 | elapsed:    1.7s finished\n"
     ]
    },
    {
     "name": "stdout",
     "output_type": "stream",
     "text": [
      "Class prediction was successful without slicing!\n",
      "No slicing was necessary!\n",
      "Image saved to: local_model_outputs_classifier_prob_habitat_suitability_CCAP_NORTH_east_coast_USA_13_4000_1000_all_predictors_depth_None/output_2023-08-04-08_18_56_287.tif\n",
      "\n",
      "\n",
      "\n",
      "\n",
      "Starting image: /Users/margauxmforstyhe/Desktop/workspace/wetlands_labs/CCAP boundaries/north_east_coast/tiles_north_east_coast_ccap_mapping_bndry_gridded_50km_50km_classes_13_CCAP_scale30/inference_tiles_scale30_246.tif\n",
      "Image opened\n"
     ]
    },
    {
     "name": "stderr",
     "output_type": "stream",
     "text": [
      "[Parallel(n_jobs=12)]: Using backend ThreadingBackend with 12 concurrent workers.\n",
      "[Parallel(n_jobs=12)]: Done  26 tasks      | elapsed:    1.7s\n",
      "[Parallel(n_jobs=12)]: Done 100 out of 100 | elapsed:    4.6s finished\n"
     ]
    },
    {
     "name": "stdout",
     "output_type": "stream",
     "text": [
      "Class prediction was successful without slicing!\n",
      "No slicing was necessary!\n",
      "Image saved to: local_model_outputs_classifier_prob_habitat_suitability_CCAP_NORTH_east_coast_USA_13_4000_1000_all_predictors_depth_None/output_2023-08-04-08_19_01_288.tif\n",
      "\n",
      "\n",
      "\n",
      "\n",
      "Starting image: /Users/margauxmforstyhe/Desktop/workspace/wetlands_labs/CCAP boundaries/north_east_coast/tiles_north_east_coast_ccap_mapping_bndry_gridded_50km_50km_classes_13_CCAP_scale30/inference_tiles_scale30_252.tif\n",
      "Image opened\n"
     ]
    },
    {
     "name": "stderr",
     "output_type": "stream",
     "text": [
      "[Parallel(n_jobs=12)]: Using backend ThreadingBackend with 12 concurrent workers.\n",
      "[Parallel(n_jobs=12)]: Done  26 tasks      | elapsed:    1.7s\n",
      "[Parallel(n_jobs=12)]: Done 100 out of 100 | elapsed:    4.2s finished\n"
     ]
    },
    {
     "name": "stdout",
     "output_type": "stream",
     "text": [
      "Class prediction was successful without slicing!\n",
      "No slicing was necessary!\n",
      "Image saved to: local_model_outputs_classifier_prob_habitat_suitability_CCAP_NORTH_east_coast_USA_13_4000_1000_all_predictors_depth_None/output_2023-08-04-08_19_07_289.tif\n",
      "\n",
      "\n",
      "\n",
      "\n",
      "Starting image: /Users/margauxmforstyhe/Desktop/workspace/wetlands_labs/CCAP boundaries/north_east_coast/tiles_north_east_coast_ccap_mapping_bndry_gridded_50km_50km_classes_13_CCAP_scale30/inference_tiles_scale30_534.tif\n",
      "Image opened\n"
     ]
    },
    {
     "name": "stderr",
     "output_type": "stream",
     "text": [
      "[Parallel(n_jobs=12)]: Using backend ThreadingBackend with 12 concurrent workers.\n",
      "[Parallel(n_jobs=12)]: Done  26 tasks      | elapsed:    1.0s\n",
      "[Parallel(n_jobs=12)]: Done 100 out of 100 | elapsed:    3.0s finished\n"
     ]
    },
    {
     "name": "stdout",
     "output_type": "stream",
     "text": [
      "Class prediction was successful without slicing!\n",
      "No slicing was necessary!\n",
      "Image saved to: local_model_outputs_classifier_prob_habitat_suitability_CCAP_NORTH_east_coast_USA_13_4000_1000_all_predictors_depth_None/output_2023-08-04-08_19_10_290.tif\n",
      "\n",
      "\n",
      "\n",
      "\n",
      "Starting image: /Users/margauxmforstyhe/Desktop/workspace/wetlands_labs/CCAP boundaries/north_east_coast/tiles_north_east_coast_ccap_mapping_bndry_gridded_50km_50km_classes_13_CCAP_scale30/inference_tiles_scale30_285.tif\n",
      "Image opened\n"
     ]
    },
    {
     "name": "stderr",
     "output_type": "stream",
     "text": [
      "[Parallel(n_jobs=12)]: Using backend ThreadingBackend with 12 concurrent workers.\n",
      "[Parallel(n_jobs=12)]: Done  26 tasks      | elapsed:    0.5s\n",
      "[Parallel(n_jobs=12)]: Done 100 out of 100 | elapsed:    1.5s finished\n"
     ]
    },
    {
     "name": "stdout",
     "output_type": "stream",
     "text": [
      "Class prediction was successful without slicing!\n",
      "No slicing was necessary!\n",
      "Image saved to: local_model_outputs_classifier_prob_habitat_suitability_CCAP_NORTH_east_coast_USA_13_4000_1000_all_predictors_depth_None/output_2023-08-04-08_19_12_291.tif\n",
      "\n",
      "\n",
      "\n",
      "\n",
      "Starting image: /Users/margauxmforstyhe/Desktop/workspace/wetlands_labs/CCAP boundaries/north_east_coast/tiles_north_east_coast_ccap_mapping_bndry_gridded_50km_50km_classes_13_CCAP_scale30/inference_tiles_scale30_291.tif\n",
      "Image opened\n"
     ]
    },
    {
     "name": "stderr",
     "output_type": "stream",
     "text": [
      "[Parallel(n_jobs=12)]: Using backend ThreadingBackend with 12 concurrent workers.\n",
      "[Parallel(n_jobs=12)]: Done  26 tasks      | elapsed:    1.6s\n",
      "[Parallel(n_jobs=12)]: Done 100 out of 100 | elapsed:    4.8s finished\n"
     ]
    },
    {
     "name": "stdout",
     "output_type": "stream",
     "text": [
      "Class prediction was successful without slicing!\n",
      "No slicing was necessary!\n",
      "Image saved to: local_model_outputs_classifier_prob_habitat_suitability_CCAP_NORTH_east_coast_USA_13_4000_1000_all_predictors_depth_None/output_2023-08-04-08_19_18_292.tif\n",
      "\n",
      "\n",
      "\n",
      "\n",
      "Starting image: /Users/margauxmforstyhe/Desktop/workspace/wetlands_labs/CCAP boundaries/north_east_coast/tiles_north_east_coast_ccap_mapping_bndry_gridded_50km_50km_classes_13_CCAP_scale30/inference_tiles_scale30_290.tif\n",
      "Image opened\n"
     ]
    },
    {
     "name": "stderr",
     "output_type": "stream",
     "text": [
      "[Parallel(n_jobs=12)]: Using backend ThreadingBackend with 12 concurrent workers.\n",
      "[Parallel(n_jobs=12)]: Done  26 tasks      | elapsed:    0.2s\n",
      "[Parallel(n_jobs=12)]: Done 100 out of 100 | elapsed:    0.5s finished\n"
     ]
    },
    {
     "name": "stdout",
     "output_type": "stream",
     "text": [
      "Class prediction was successful without slicing!\n",
      "No slicing was necessary!\n",
      "Image saved to: local_model_outputs_classifier_prob_habitat_suitability_CCAP_NORTH_east_coast_USA_13_4000_1000_all_predictors_depth_None/output_2023-08-04-08_19_18_293.tif\n",
      "\n",
      "\n",
      "\n",
      "\n",
      "Starting image: /Users/margauxmforstyhe/Desktop/workspace/wetlands_labs/CCAP boundaries/north_east_coast/tiles_north_east_coast_ccap_mapping_bndry_gridded_50km_50km_classes_13_CCAP_scale30/inference_tiles_scale30_284.tif\n",
      "Image opened\n"
     ]
    },
    {
     "name": "stderr",
     "output_type": "stream",
     "text": [
      "[Parallel(n_jobs=12)]: Using backend ThreadingBackend with 12 concurrent workers.\n",
      "[Parallel(n_jobs=12)]: Done  26 tasks      | elapsed:    1.1s\n",
      "[Parallel(n_jobs=12)]: Done 100 out of 100 | elapsed:    3.2s finished\n"
     ]
    },
    {
     "name": "stdout",
     "output_type": "stream",
     "text": [
      "Class prediction was successful without slicing!\n",
      "No slicing was necessary!\n",
      "Image saved to: local_model_outputs_classifier_prob_habitat_suitability_CCAP_NORTH_east_coast_USA_13_4000_1000_all_predictors_depth_None/output_2023-08-04-08_19_22_294.tif\n",
      "\n",
      "\n",
      "\n",
      "\n",
      "Starting image: /Users/margauxmforstyhe/Desktop/workspace/wetlands_labs/CCAP boundaries/north_east_coast/tiles_north_east_coast_ccap_mapping_bndry_gridded_50km_50km_classes_13_CCAP_scale30/inference_tiles_scale30_253.tif\n",
      "Image opened\n"
     ]
    },
    {
     "name": "stderr",
     "output_type": "stream",
     "text": [
      "[Parallel(n_jobs=12)]: Using backend ThreadingBackend with 12 concurrent workers.\n",
      "[Parallel(n_jobs=12)]: Done  26 tasks      | elapsed:    0.4s\n",
      "[Parallel(n_jobs=12)]: Done 100 out of 100 | elapsed:    1.3s finished\n"
     ]
    },
    {
     "name": "stdout",
     "output_type": "stream",
     "text": [
      "Class prediction was successful without slicing!\n",
      "No slicing was necessary!\n",
      "Image saved to: local_model_outputs_classifier_prob_habitat_suitability_CCAP_NORTH_east_coast_USA_13_4000_1000_all_predictors_depth_None/output_2023-08-04-08_19_24_295.tif\n",
      "\n",
      "\n",
      "\n",
      "\n",
      "Starting image: /Users/margauxmforstyhe/Desktop/workspace/wetlands_labs/CCAP boundaries/north_east_coast/tiles_north_east_coast_ccap_mapping_bndry_gridded_50km_50km_classes_13_CCAP_scale30/inference_tiles_scale30_535.tif\n",
      "Image opened\n"
     ]
    },
    {
     "name": "stderr",
     "output_type": "stream",
     "text": [
      "[Parallel(n_jobs=12)]: Using backend ThreadingBackend with 12 concurrent workers.\n",
      "[Parallel(n_jobs=12)]: Done  26 tasks      | elapsed:    1.1s\n",
      "[Parallel(n_jobs=12)]: Done 100 out of 100 | elapsed:    3.3s finished\n"
     ]
    },
    {
     "name": "stdout",
     "output_type": "stream",
     "text": [
      "Class prediction was successful without slicing!\n",
      "No slicing was necessary!\n",
      "Image saved to: local_model_outputs_classifier_prob_habitat_suitability_CCAP_NORTH_east_coast_USA_13_4000_1000_all_predictors_depth_None/output_2023-08-04-08_19_28_296.tif\n",
      "\n",
      "\n",
      "\n",
      "\n",
      "Starting image: /Users/margauxmforstyhe/Desktop/workspace/wetlands_labs/CCAP boundaries/north_east_coast/tiles_north_east_coast_ccap_mapping_bndry_gridded_50km_50km_classes_13_CCAP_scale30/inference_tiles_scale30_521.tif\n",
      "Image opened\n"
     ]
    },
    {
     "name": "stderr",
     "output_type": "stream",
     "text": [
      "[Parallel(n_jobs=12)]: Using backend ThreadingBackend with 12 concurrent workers.\n",
      "[Parallel(n_jobs=12)]: Done  26 tasks      | elapsed:    2.3s\n",
      "[Parallel(n_jobs=12)]: Done 100 out of 100 | elapsed:    6.1s finished\n"
     ]
    },
    {
     "name": "stdout",
     "output_type": "stream",
     "text": [
      "Class prediction was successful without slicing!\n",
      "No slicing was necessary!\n",
      "Image saved to: local_model_outputs_classifier_prob_habitat_suitability_CCAP_NORTH_east_coast_USA_13_4000_1000_all_predictors_depth_None/output_2023-08-04-08_19_35_297.tif\n",
      "\n",
      "\n",
      "\n",
      "\n",
      "Starting image: /Users/margauxmforstyhe/Desktop/workspace/wetlands_labs/CCAP boundaries/north_east_coast/tiles_north_east_coast_ccap_mapping_bndry_gridded_50km_50km_classes_13_CCAP_scale30/inference_tiles_scale30_247.tif\n",
      "Image opened\n"
     ]
    },
    {
     "name": "stderr",
     "output_type": "stream",
     "text": [
      "[Parallel(n_jobs=12)]: Using backend ThreadingBackend with 12 concurrent workers.\n",
      "[Parallel(n_jobs=12)]: Done  26 tasks      | elapsed:    1.5s\n",
      "[Parallel(n_jobs=12)]: Done 100 out of 100 | elapsed:    4.2s finished\n"
     ]
    },
    {
     "name": "stdout",
     "output_type": "stream",
     "text": [
      "Class prediction was successful without slicing!\n",
      "No slicing was necessary!\n",
      "Image saved to: local_model_outputs_classifier_prob_habitat_suitability_CCAP_NORTH_east_coast_USA_13_4000_1000_all_predictors_depth_None/output_2023-08-04-08_19_40_298.tif\n",
      "\n",
      "\n",
      "\n",
      "\n",
      "Starting image: /Users/margauxmforstyhe/Desktop/workspace/wetlands_labs/CCAP boundaries/north_east_coast/tiles_north_east_coast_ccap_mapping_bndry_gridded_50km_50km_classes_13_CCAP_scale30/inference_tiles_scale30_509.tif\n",
      "Image opened\n"
     ]
    },
    {
     "name": "stderr",
     "output_type": "stream",
     "text": [
      "[Parallel(n_jobs=12)]: Using backend ThreadingBackend with 12 concurrent workers.\n",
      "[Parallel(n_jobs=12)]: Done  26 tasks      | elapsed:    1.7s\n",
      "[Parallel(n_jobs=12)]: Done 100 out of 100 | elapsed:    5.1s finished\n"
     ]
    },
    {
     "name": "stdout",
     "output_type": "stream",
     "text": [
      "Class prediction was successful without slicing!\n",
      "No slicing was necessary!\n",
      "Image saved to: local_model_outputs_classifier_prob_habitat_suitability_CCAP_NORTH_east_coast_USA_13_4000_1000_all_predictors_depth_None/output_2023-08-04-08_19_46_299.tif\n",
      "\n",
      "\n",
      "\n",
      "\n",
      "Starting image: /Users/margauxmforstyhe/Desktop/workspace/wetlands_labs/CCAP boundaries/north_east_coast/tiles_north_east_coast_ccap_mapping_bndry_gridded_50km_50km_classes_13_CCAP_scale30/inference_tiles_scale30_910.tif\n",
      "Image opened\n"
     ]
    },
    {
     "name": "stderr",
     "output_type": "stream",
     "text": [
      "[Parallel(n_jobs=12)]: Using backend ThreadingBackend with 12 concurrent workers.\n",
      "[Parallel(n_jobs=12)]: Done  26 tasks      | elapsed:    0.7s\n",
      "[Parallel(n_jobs=12)]: Done 100 out of 100 | elapsed:    2.2s finished\n"
     ]
    },
    {
     "name": "stdout",
     "output_type": "stream",
     "text": [
      "Class prediction was successful without slicing!\n",
      "No slicing was necessary!\n",
      "Image saved to: local_model_outputs_classifier_prob_habitat_suitability_CCAP_NORTH_east_coast_USA_13_4000_1000_all_predictors_depth_None/output_2023-08-04-08_19_49_300.tif\n",
      "\n",
      "\n",
      "\n",
      "\n",
      "Starting image: /Users/margauxmforstyhe/Desktop/workspace/wetlands_labs/CCAP boundaries/north_east_coast/tiles_north_east_coast_ccap_mapping_bndry_gridded_50km_50km_classes_13_CCAP_scale30/inference_tiles_scale30_904.tif\n",
      "Image opened\n"
     ]
    },
    {
     "name": "stderr",
     "output_type": "stream",
     "text": [
      "[Parallel(n_jobs=12)]: Using backend ThreadingBackend with 12 concurrent workers.\n",
      "[Parallel(n_jobs=12)]: Done  26 tasks      | elapsed:    1.3s\n",
      "[Parallel(n_jobs=12)]: Done 100 out of 100 | elapsed:    3.7s finished\n"
     ]
    },
    {
     "name": "stdout",
     "output_type": "stream",
     "text": [
      "Class prediction was successful without slicing!\n",
      "No slicing was necessary!\n",
      "Image saved to: local_model_outputs_classifier_prob_habitat_suitability_CCAP_NORTH_east_coast_USA_13_4000_1000_all_predictors_depth_None/output_2023-08-04-08_19_53_301.tif\n",
      "\n",
      "\n",
      "\n",
      "\n",
      "Starting image: /Users/margauxmforstyhe/Desktop/workspace/wetlands_labs/CCAP boundaries/north_east_coast/tiles_north_east_coast_ccap_mapping_bndry_gridded_50km_50km_classes_13_CCAP_scale30/inference_tiles_scale30_737.tif\n",
      "Image opened\n"
     ]
    },
    {
     "name": "stderr",
     "output_type": "stream",
     "text": [
      "[Parallel(n_jobs=12)]: Using backend ThreadingBackend with 12 concurrent workers.\n",
      "[Parallel(n_jobs=12)]: Done  26 tasks      | elapsed:    1.6s\n",
      "[Parallel(n_jobs=12)]: Done 100 out of 100 | elapsed:    4.4s finished\n"
     ]
    },
    {
     "name": "stdout",
     "output_type": "stream",
     "text": [
      "Class prediction was successful without slicing!\n",
      "No slicing was necessary!\n",
      "Image saved to: local_model_outputs_classifier_prob_habitat_suitability_CCAP_NORTH_east_coast_USA_13_4000_1000_all_predictors_depth_None/output_2023-08-04-08_19_59_302.tif\n",
      "\n",
      "\n",
      "\n",
      "\n",
      "Starting image: /Users/margauxmforstyhe/Desktop/workspace/wetlands_labs/CCAP boundaries/north_east_coast/tiles_north_east_coast_ccap_mapping_bndry_gridded_50km_50km_classes_13_CCAP_scale30/inference_tiles_scale30_723.tif\n",
      "Image opened\n"
     ]
    },
    {
     "name": "stderr",
     "output_type": "stream",
     "text": [
      "[Parallel(n_jobs=12)]: Using backend ThreadingBackend with 12 concurrent workers.\n",
      "[Parallel(n_jobs=12)]: Done  26 tasks      | elapsed:    1.0s\n",
      "[Parallel(n_jobs=12)]: Done 100 out of 100 | elapsed:    2.9s finished\n"
     ]
    },
    {
     "name": "stdout",
     "output_type": "stream",
     "text": [
      "Class prediction was successful without slicing!\n",
      "No slicing was necessary!\n",
      "Image saved to: local_model_outputs_classifier_prob_habitat_suitability_CCAP_NORTH_east_coast_USA_13_4000_1000_all_predictors_depth_None/output_2023-08-04-08_20_02_303.tif\n",
      "\n",
      "\n",
      "\n",
      "\n",
      "Starting image: /Users/margauxmforstyhe/Desktop/workspace/wetlands_labs/CCAP boundaries/north_east_coast/tiles_north_east_coast_ccap_mapping_bndry_gridded_50km_50km_classes_13_CCAP_scale30/inference_tiles_scale30_680.tif\n",
      "Image opened\n"
     ]
    },
    {
     "name": "stderr",
     "output_type": "stream",
     "text": [
      "[Parallel(n_jobs=12)]: Using backend ThreadingBackend with 12 concurrent workers.\n",
      "[Parallel(n_jobs=12)]: Done  26 tasks      | elapsed:    2.0s\n",
      "[Parallel(n_jobs=12)]: Done 100 out of 100 | elapsed:    5.6s finished\n"
     ]
    },
    {
     "name": "stdout",
     "output_type": "stream",
     "text": [
      "Class prediction was successful without slicing!\n",
      "No slicing was necessary!\n",
      "Image saved to: local_model_outputs_classifier_prob_habitat_suitability_CCAP_NORTH_east_coast_USA_13_4000_1000_all_predictors_depth_None/output_2023-08-04-08_20_08_304.tif\n",
      "\n",
      "\n",
      "\n",
      "\n",
      "Starting image: /Users/margauxmforstyhe/Desktop/workspace/wetlands_labs/CCAP boundaries/north_east_coast/tiles_north_east_coast_ccap_mapping_bndry_gridded_50km_50km_classes_13_CCAP_scale30/inference_tiles_scale30_858.tif\n",
      "Image opened\n"
     ]
    },
    {
     "name": "stderr",
     "output_type": "stream",
     "text": [
      "[Parallel(n_jobs=12)]: Using backend ThreadingBackend with 12 concurrent workers.\n",
      "[Parallel(n_jobs=12)]: Done  26 tasks      | elapsed:    0.5s\n",
      "[Parallel(n_jobs=12)]: Done 100 out of 100 | elapsed:    1.6s finished\n"
     ]
    },
    {
     "name": "stdout",
     "output_type": "stream",
     "text": [
      "Class prediction was successful without slicing!\n",
      "No slicing was necessary!\n",
      "Image saved to: local_model_outputs_classifier_prob_habitat_suitability_CCAP_NORTH_east_coast_USA_13_4000_1000_all_predictors_depth_None/output_2023-08-04-08_20_10_305.tif\n",
      "\n",
      "\n",
      "\n",
      "\n",
      "Starting image: /Users/margauxmforstyhe/Desktop/workspace/wetlands_labs/CCAP boundaries/north_east_coast/tiles_north_east_coast_ccap_mapping_bndry_gridded_50km_50km_classes_13_CCAP_scale30/inference_tiles_scale30_694.tif\n",
      "Image opened\n"
     ]
    },
    {
     "name": "stderr",
     "output_type": "stream",
     "text": [
      "[Parallel(n_jobs=12)]: Using backend ThreadingBackend with 12 concurrent workers.\n",
      "[Parallel(n_jobs=12)]: Done  26 tasks      | elapsed:    1.8s\n",
      "[Parallel(n_jobs=12)]: Done 100 out of 100 | elapsed:    5.1s finished\n",
      "[Parallel(n_jobs=12)]: Using backend ThreadingBackend with 12 concurrent workers.\n",
      "[Parallel(n_jobs=12)]: Done  26 tasks      | elapsed:    0.0s\n"
     ]
    },
    {
     "name": "stdout",
     "output_type": "stream",
     "text": [
      "Class prediction was successful without slicing!\n",
      "No slicing was necessary!\n",
      "Image saved to: local_model_outputs_classifier_prob_habitat_suitability_CCAP_NORTH_east_coast_USA_13_4000_1000_all_predictors_depth_None/output_2023-08-04-08_20_16_306.tif\n",
      "\n",
      "\n",
      "\n",
      "\n",
      "Starting image: /Users/margauxmforstyhe/Desktop/workspace/wetlands_labs/CCAP boundaries/north_east_coast/tiles_north_east_coast_ccap_mapping_bndry_gridded_50km_50km_classes_13_CCAP_scale30/inference_tiles_scale30_864.tif\n",
      "Image opened\n"
     ]
    },
    {
     "name": "stderr",
     "output_type": "stream",
     "text": [
      "[Parallel(n_jobs=12)]: Done 100 out of 100 | elapsed:    0.1s finished\n"
     ]
    },
    {
     "name": "stdout",
     "output_type": "stream",
     "text": [
      "Class prediction was successful without slicing!\n",
      "No slicing was necessary!\n",
      "Image saved to: local_model_outputs_classifier_prob_habitat_suitability_CCAP_NORTH_east_coast_USA_13_4000_1000_all_predictors_depth_None/output_2023-08-04-08_20_17_307.tif\n",
      "\n",
      "\n",
      "\n",
      "\n",
      "Starting image: /Users/margauxmforstyhe/Desktop/workspace/wetlands_labs/CCAP boundaries/north_east_coast/tiles_north_east_coast_ccap_mapping_bndry_gridded_50km_50km_classes_13_CCAP_scale30/inference_tiles_scale30_870.tif\n",
      "Image opened\n"
     ]
    },
    {
     "name": "stderr",
     "output_type": "stream",
     "text": [
      "[Parallel(n_jobs=12)]: Using backend ThreadingBackend with 12 concurrent workers.\n",
      "[Parallel(n_jobs=12)]: Done  26 tasks      | elapsed:    0.7s\n",
      "[Parallel(n_jobs=12)]: Done 100 out of 100 | elapsed:    2.1s finished\n"
     ]
    },
    {
     "name": "stdout",
     "output_type": "stream",
     "text": [
      "Class prediction was successful without slicing!\n",
      "No slicing was necessary!\n",
      "Image saved to: local_model_outputs_classifier_prob_habitat_suitability_CCAP_NORTH_east_coast_USA_13_4000_1000_all_predictors_depth_None/output_2023-08-04-08_20_19_308.tif\n",
      "\n",
      "\n",
      "\n",
      "\n",
      "Starting image: /Users/margauxmforstyhe/Desktop/workspace/wetlands_labs/CCAP boundaries/north_east_coast/tiles_north_east_coast_ccap_mapping_bndry_gridded_50km_50km_classes_13_CCAP_scale30/inference_tiles_scale30_643.tif\n",
      "Image opened\n"
     ]
    },
    {
     "name": "stderr",
     "output_type": "stream",
     "text": [
      "[Parallel(n_jobs=12)]: Using backend ThreadingBackend with 12 concurrent workers.\n",
      "[Parallel(n_jobs=12)]: Done  26 tasks      | elapsed:    1.9s\n",
      "[Parallel(n_jobs=12)]: Done 100 out of 100 | elapsed:    5.6s finished\n",
      "[Parallel(n_jobs=12)]: Using backend ThreadingBackend with 12 concurrent workers.\n"
     ]
    },
    {
     "name": "stdout",
     "output_type": "stream",
     "text": [
      "Class prediction was successful without slicing!\n",
      "No slicing was necessary!\n",
      "Image saved to: local_model_outputs_classifier_prob_habitat_suitability_CCAP_NORTH_east_coast_USA_13_4000_1000_all_predictors_depth_None/output_2023-08-04-08_20_26_309.tif\n",
      "\n",
      "\n",
      "\n",
      "\n",
      "Starting image: /Users/margauxmforstyhe/Desktop/workspace/wetlands_labs/CCAP boundaries/north_east_coast/tiles_north_east_coast_ccap_mapping_bndry_gridded_50km_50km_classes_13_CCAP_scale30/inference_tiles_scale30_125.tif\n",
      "Image opened\n"
     ]
    },
    {
     "name": "stderr",
     "output_type": "stream",
     "text": [
      "[Parallel(n_jobs=12)]: Done  26 tasks      | elapsed:    0.1s\n",
      "[Parallel(n_jobs=12)]: Done 100 out of 100 | elapsed:    0.2s finished\n"
     ]
    },
    {
     "name": "stdout",
     "output_type": "stream",
     "text": [
      "Class prediction was successful without slicing!\n",
      "No slicing was necessary!\n",
      "Image saved to: local_model_outputs_classifier_prob_habitat_suitability_CCAP_NORTH_east_coast_USA_13_4000_1000_all_predictors_depth_None/output_2023-08-04-08_20_26_310.tif\n",
      "\n",
      "\n",
      "\n",
      "\n",
      "Starting image: /Users/margauxmforstyhe/Desktop/workspace/wetlands_labs/CCAP boundaries/north_east_coast/tiles_north_east_coast_ccap_mapping_bndry_gridded_50km_50km_classes_13_CCAP_scale30/inference_tiles_scale30_131.tif\n",
      "Image opened\n"
     ]
    },
    {
     "name": "stderr",
     "output_type": "stream",
     "text": [
      "[Parallel(n_jobs=12)]: Using backend ThreadingBackend with 12 concurrent workers.\n",
      "[Parallel(n_jobs=12)]: Done  26 tasks      | elapsed:    0.5s\n",
      "[Parallel(n_jobs=12)]: Done 100 out of 100 | elapsed:    1.7s finished\n"
     ]
    },
    {
     "name": "stdout",
     "output_type": "stream",
     "text": [
      "Class prediction was successful without slicing!\n",
      "No slicing was necessary!\n",
      "Image saved to: local_model_outputs_classifier_prob_habitat_suitability_CCAP_NORTH_east_coast_USA_13_4000_1000_all_predictors_depth_None/output_2023-08-04-08_20_28_311.tif\n",
      "\n",
      "\n",
      "\n",
      "\n",
      "Starting image: /Users/margauxmforstyhe/Desktop/workspace/wetlands_labs/CCAP boundaries/north_east_coast/tiles_north_east_coast_ccap_mapping_bndry_gridded_50km_50km_classes_13_CCAP_scale30/inference_tiles_scale30_657.tif\n",
      "Image opened\n"
     ]
    },
    {
     "name": "stderr",
     "output_type": "stream",
     "text": [
      "[Parallel(n_jobs=12)]: Using backend ThreadingBackend with 12 concurrent workers.\n",
      "[Parallel(n_jobs=12)]: Done  26 tasks      | elapsed:    1.6s\n",
      "[Parallel(n_jobs=12)]: Done 100 out of 100 | elapsed:    4.8s finished\n"
     ]
    },
    {
     "name": "stdout",
     "output_type": "stream",
     "text": [
      "Class prediction was successful without slicing!\n",
      "No slicing was necessary!\n",
      "Image saved to: local_model_outputs_classifier_prob_habitat_suitability_CCAP_NORTH_east_coast_USA_13_4000_1000_all_predictors_depth_None/output_2023-08-04-08_20_34_312.tif\n",
      "\n",
      "\n",
      "\n",
      "\n",
      "Starting image: /Users/margauxmforstyhe/Desktop/workspace/wetlands_labs/CCAP boundaries/north_east_coast/tiles_north_east_coast_ccap_mapping_bndry_gridded_50km_50km_classes_13_CCAP_scale30/inference_tiles_scale30_119.tif\n",
      "Image opened\n"
     ]
    },
    {
     "name": "stderr",
     "output_type": "stream",
     "text": [
      "[Parallel(n_jobs=12)]: Using backend ThreadingBackend with 12 concurrent workers.\n",
      "[Parallel(n_jobs=12)]: Done  26 tasks      | elapsed:    0.1s\n",
      "[Parallel(n_jobs=12)]: Done 100 out of 100 | elapsed:    0.4s finished\n"
     ]
    },
    {
     "name": "stdout",
     "output_type": "stream",
     "text": [
      "Class prediction was successful without slicing!\n",
      "No slicing was necessary!\n",
      "Image saved to: local_model_outputs_classifier_prob_habitat_suitability_CCAP_NORTH_east_coast_USA_13_4000_1000_all_predictors_depth_None/output_2023-08-04-08_20_34_313.tif\n",
      "\n",
      "\n",
      "\n",
      "\n",
      "Starting image: /Users/margauxmforstyhe/Desktop/workspace/wetlands_labs/CCAP boundaries/north_east_coast/tiles_north_east_coast_ccap_mapping_bndry_gridded_50km_50km_classes_13_CCAP_scale30/inference_tiles_scale30_482.tif\n",
      "Image opened\n"
     ]
    },
    {
     "name": "stderr",
     "output_type": "stream",
     "text": [
      "[Parallel(n_jobs=12)]: Using backend ThreadingBackend with 12 concurrent workers.\n",
      "[Parallel(n_jobs=12)]: Done  26 tasks      | elapsed:    1.3s\n",
      "[Parallel(n_jobs=12)]: Done 100 out of 100 | elapsed:    3.6s finished\n"
     ]
    },
    {
     "name": "stdout",
     "output_type": "stream",
     "text": [
      "Class prediction was successful without slicing!\n",
      "No slicing was necessary!\n",
      "Image saved to: local_model_outputs_classifier_prob_habitat_suitability_CCAP_NORTH_east_coast_USA_13_4000_1000_all_predictors_depth_None/output_2023-08-04-08_20_39_314.tif\n",
      "\n",
      "\n",
      "\n",
      "\n",
      "Starting image: /Users/margauxmforstyhe/Desktop/workspace/wetlands_labs/CCAP boundaries/north_east_coast/tiles_north_east_coast_ccap_mapping_bndry_gridded_50km_50km_classes_13_CCAP_scale30/inference_tiles_scale30_496.tif\n",
      "Image opened\n"
     ]
    },
    {
     "name": "stderr",
     "output_type": "stream",
     "text": [
      "[Parallel(n_jobs=12)]: Using backend ThreadingBackend with 12 concurrent workers.\n",
      "[Parallel(n_jobs=12)]: Done  26 tasks      | elapsed:    1.8s\n",
      "[Parallel(n_jobs=12)]: Done 100 out of 100 | elapsed:    5.3s finished\n"
     ]
    },
    {
     "name": "stdout",
     "output_type": "stream",
     "text": [
      "Class prediction was successful without slicing!\n",
      "No slicing was necessary!\n",
      "Image saved to: local_model_outputs_classifier_prob_habitat_suitability_CCAP_NORTH_east_coast_USA_13_4000_1000_all_predictors_depth_None/output_2023-08-04-08_20_45_315.tif\n",
      "\n",
      "\n",
      "\n",
      "\n",
      "Starting image: /Users/margauxmforstyhe/Desktop/workspace/wetlands_labs/CCAP boundaries/north_east_coast/tiles_north_east_coast_ccap_mapping_bndry_gridded_50km_50km_classes_13_CCAP_scale30/inference_tiles_scale30_24.tif\n",
      "Image opened\n"
     ]
    },
    {
     "name": "stderr",
     "output_type": "stream",
     "text": [
      "[Parallel(n_jobs=12)]: Using backend ThreadingBackend with 12 concurrent workers.\n",
      "[Parallel(n_jobs=12)]: Done  26 tasks      | elapsed:    1.8s\n",
      "[Parallel(n_jobs=12)]: Done 100 out of 100 | elapsed:    5.2s finished\n"
     ]
    },
    {
     "name": "stdout",
     "output_type": "stream",
     "text": [
      "Class prediction was successful without slicing!\n",
      "No slicing was necessary!\n",
      "Image saved to: local_model_outputs_classifier_prob_habitat_suitability_CCAP_NORTH_east_coast_USA_13_4000_1000_all_predictors_depth_None/output_2023-08-04-08_20_51_316.tif\n",
      "\n",
      "\n",
      "\n",
      "\n",
      "Starting image: /Users/margauxmforstyhe/Desktop/workspace/wetlands_labs/CCAP boundaries/north_east_coast/tiles_north_east_coast_ccap_mapping_bndry_gridded_50km_50km_classes_13_CCAP_scale30/inference_tiles_scale30_327.tif\n",
      "Image opened\n"
     ]
    },
    {
     "name": "stderr",
     "output_type": "stream",
     "text": [
      "[Parallel(n_jobs=12)]: Using backend ThreadingBackend with 12 concurrent workers.\n",
      "[Parallel(n_jobs=12)]: Done  26 tasks      | elapsed:    1.2s\n",
      "[Parallel(n_jobs=12)]: Done 100 out of 100 | elapsed:    3.4s finished\n"
     ]
    },
    {
     "name": "stdout",
     "output_type": "stream",
     "text": [
      "Class prediction was successful without slicing!\n",
      "No slicing was necessary!\n",
      "Image saved to: local_model_outputs_classifier_prob_habitat_suitability_CCAP_NORTH_east_coast_USA_13_4000_1000_all_predictors_depth_None/output_2023-08-04-08_20_55_317.tif\n",
      "\n",
      "\n",
      "\n",
      "\n",
      "Starting image: /Users/margauxmforstyhe/Desktop/workspace/wetlands_labs/CCAP boundaries/north_east_coast/tiles_north_east_coast_ccap_mapping_bndry_gridded_50km_50km_classes_13_CCAP_scale30/inference_tiles_scale30_441.tif\n",
      "Image opened\n"
     ]
    },
    {
     "name": "stderr",
     "output_type": "stream",
     "text": [
      "[Parallel(n_jobs=12)]: Using backend ThreadingBackend with 12 concurrent workers.\n",
      "[Parallel(n_jobs=12)]: Done  26 tasks      | elapsed:    0.3s\n",
      "[Parallel(n_jobs=12)]: Done 100 out of 100 | elapsed:    0.8s finished\n"
     ]
    },
    {
     "name": "stdout",
     "output_type": "stream",
     "text": [
      "Class prediction was successful without slicing!\n",
      "No slicing was necessary!\n",
      "Image saved to: local_model_outputs_classifier_prob_habitat_suitability_CCAP_NORTH_east_coast_USA_13_4000_1000_all_predictors_depth_None/output_2023-08-04-08_20_56_318.tif\n",
      "\n",
      "\n",
      "\n",
      "\n",
      "Starting image: /Users/margauxmforstyhe/Desktop/workspace/wetlands_labs/CCAP boundaries/north_east_coast/tiles_north_east_coast_ccap_mapping_bndry_gridded_50km_50km_classes_13_CCAP_scale30/inference_tiles_scale30_455.tif\n",
      "Image opened\n"
     ]
    },
    {
     "name": "stderr",
     "output_type": "stream",
     "text": [
      "[Parallel(n_jobs=12)]: Using backend ThreadingBackend with 12 concurrent workers.\n",
      "[Parallel(n_jobs=12)]: Done  26 tasks      | elapsed:    1.1s\n",
      "[Parallel(n_jobs=12)]: Done 100 out of 100 | elapsed:    3.4s finished\n"
     ]
    },
    {
     "name": "stdout",
     "output_type": "stream",
     "text": [
      "Class prediction was successful without slicing!\n",
      "No slicing was necessary!\n",
      "Image saved to: local_model_outputs_classifier_prob_habitat_suitability_CCAP_NORTH_east_coast_USA_13_4000_1000_all_predictors_depth_None/output_2023-08-04-08_21_00_319.tif\n",
      "\n",
      "\n",
      "\n",
      "\n",
      "Starting image: /Users/margauxmforstyhe/Desktop/workspace/wetlands_labs/CCAP boundaries/north_east_coast/tiles_north_east_coast_ccap_mapping_bndry_gridded_50km_50km_classes_13_CCAP_scale30/inference_tiles_scale30_30.tif\n",
      "Image opened\n"
     ]
    },
    {
     "name": "stderr",
     "output_type": "stream",
     "text": [
      "[Parallel(n_jobs=12)]: Using backend ThreadingBackend with 12 concurrent workers.\n",
      "[Parallel(n_jobs=12)]: Done  26 tasks      | elapsed:    1.7s\n",
      "[Parallel(n_jobs=12)]: Done 100 out of 100 | elapsed:    4.9s finished\n"
     ]
    },
    {
     "name": "stdout",
     "output_type": "stream",
     "text": [
      "Class prediction was successful without slicing!\n",
      "No slicing was necessary!\n",
      "Image saved to: local_model_outputs_classifier_prob_habitat_suitability_CCAP_NORTH_east_coast_USA_13_4000_1000_all_predictors_depth_None/output_2023-08-04-08_21_06_320.tif\n",
      "\n",
      "\n",
      "\n",
      "\n",
      "Starting image: /Users/margauxmforstyhe/Desktop/workspace/wetlands_labs/CCAP boundaries/north_east_coast/tiles_north_east_coast_ccap_mapping_bndry_gridded_50km_50km_classes_13_CCAP_scale30/inference_tiles_scale30_333.tif\n",
      "Image opened\n"
     ]
    },
    {
     "name": "stderr",
     "output_type": "stream",
     "text": [
      "[Parallel(n_jobs=12)]: Using backend ThreadingBackend with 12 concurrent workers.\n",
      "[Parallel(n_jobs=12)]: Done  26 tasks      | elapsed:    1.1s\n",
      "[Parallel(n_jobs=12)]: Done 100 out of 100 | elapsed:    3.4s finished\n"
     ]
    },
    {
     "name": "stdout",
     "output_type": "stream",
     "text": [
      "Class prediction was successful without slicing!\n",
      "No slicing was necessary!\n",
      "Image saved to: local_model_outputs_classifier_prob_habitat_suitability_CCAP_NORTH_east_coast_USA_13_4000_1000_all_predictors_depth_None/output_2023-08-04-08_21_10_321.tif\n",
      "\n",
      "\n",
      "\n",
      "\n",
      "Starting image: /Users/margauxmforstyhe/Desktop/workspace/wetlands_labs/CCAP boundaries/north_east_coast/tiles_north_east_coast_ccap_mapping_bndry_gridded_50km_50km_classes_13_CCAP_scale30/inference_tiles_scale30_18.tif\n",
      "Image opened\n"
     ]
    },
    {
     "name": "stderr",
     "output_type": "stream",
     "text": [
      "[Parallel(n_jobs=12)]: Using backend ThreadingBackend with 12 concurrent workers.\n",
      "[Parallel(n_jobs=12)]: Done  26 tasks      | elapsed:    1.3s\n",
      "[Parallel(n_jobs=12)]: Done 100 out of 100 | elapsed:    4.0s finished\n"
     ]
    },
    {
     "name": "stdout",
     "output_type": "stream",
     "text": [
      "Class prediction was successful without slicing!\n",
      "No slicing was necessary!\n",
      "Image saved to: local_model_outputs_classifier_prob_habitat_suitability_CCAP_NORTH_east_coast_USA_13_4000_1000_all_predictors_depth_None/output_2023-08-04-08_21_15_322.tif\n",
      "\n",
      "\n",
      "\n",
      "\n",
      "Starting image: /Users/margauxmforstyhe/Desktop/workspace/wetlands_labs/CCAP boundaries/north_east_coast/tiles_north_east_coast_ccap_mapping_bndry_gridded_50km_50km_classes_13_CCAP_scale30/inference_tiles_scale30_469.tif\n",
      "Image opened\n"
     ]
    },
    {
     "name": "stderr",
     "output_type": "stream",
     "text": [
      "[Parallel(n_jobs=12)]: Using backend ThreadingBackend with 12 concurrent workers.\n",
      "[Parallel(n_jobs=12)]: Done  26 tasks      | elapsed:    1.1s\n",
      "[Parallel(n_jobs=12)]: Done 100 out of 100 | elapsed:    3.1s finished\n"
     ]
    },
    {
     "name": "stdout",
     "output_type": "stream",
     "text": [
      "Class prediction was successful without slicing!\n",
      "No slicing was necessary!\n",
      "Image saved to: local_model_outputs_classifier_prob_habitat_suitability_CCAP_NORTH_east_coast_USA_13_4000_1000_all_predictors_depth_None/output_2023-08-04-08_21_18_323.tif\n",
      "\n",
      "\n",
      "\n",
      "\n",
      "Starting image: /Users/margauxmforstyhe/Desktop/workspace/wetlands_labs/CCAP boundaries/north_east_coast/tiles_north_east_coast_ccap_mapping_bndry_gridded_50km_50km_classes_13_CCAP_scale30/inference_tiles_scale30_319.tif\n",
      "Image opened\n"
     ]
    },
    {
     "name": "stderr",
     "output_type": "stream",
     "text": [
      "[Parallel(n_jobs=12)]: Using backend ThreadingBackend with 12 concurrent workers.\n",
      "[Parallel(n_jobs=12)]: Done  26 tasks      | elapsed:    1.0s\n",
      "[Parallel(n_jobs=12)]: Done 100 out of 100 | elapsed:    3.0s finished\n"
     ]
    },
    {
     "name": "stdout",
     "output_type": "stream",
     "text": [
      "Class prediction was successful without slicing!\n",
      "No slicing was necessary!\n",
      "Image saved to: local_model_outputs_classifier_prob_habitat_suitability_CCAP_NORTH_east_coast_USA_13_4000_1000_all_predictors_depth_None/output_2023-08-04-08_21_22_324.tif\n",
      "\n",
      "\n",
      "\n",
      "\n",
      "Starting image: /Users/margauxmforstyhe/Desktop/workspace/wetlands_labs/CCAP boundaries/north_east_coast/tiles_north_east_coast_ccap_mapping_bndry_gridded_50km_50km_classes_13_CCAP_scale30/inference_tiles_scale30_443.tif\n",
      "Image opened\n"
     ]
    },
    {
     "name": "stderr",
     "output_type": "stream",
     "text": [
      "[Parallel(n_jobs=12)]: Using backend ThreadingBackend with 12 concurrent workers.\n",
      "[Parallel(n_jobs=12)]: Done  26 tasks      | elapsed:    0.6s\n",
      "[Parallel(n_jobs=12)]: Done 100 out of 100 | elapsed:    1.8s finished\n"
     ]
    },
    {
     "name": "stdout",
     "output_type": "stream",
     "text": [
      "Class prediction was successful without slicing!\n",
      "No slicing was necessary!\n",
      "Image saved to: local_model_outputs_classifier_prob_habitat_suitability_CCAP_NORTH_east_coast_USA_13_4000_1000_all_predictors_depth_None/output_2023-08-04-08_21_25_325.tif\n",
      "\n",
      "\n",
      "\n",
      "\n",
      "Starting image: /Users/margauxmforstyhe/Desktop/workspace/wetlands_labs/CCAP boundaries/north_east_coast/tiles_north_east_coast_ccap_mapping_bndry_gridded_50km_50km_classes_13_CCAP_scale30/inference_tiles_scale30_325.tif\n",
      "Image opened\n"
     ]
    },
    {
     "name": "stderr",
     "output_type": "stream",
     "text": [
      "[Parallel(n_jobs=12)]: Using backend ThreadingBackend with 12 concurrent workers.\n",
      "[Parallel(n_jobs=12)]: Done  26 tasks      | elapsed:    1.5s\n",
      "[Parallel(n_jobs=12)]: Done 100 out of 100 | elapsed:    4.5s finished\n"
     ]
    },
    {
     "name": "stdout",
     "output_type": "stream",
     "text": [
      "Class prediction was successful without slicing!\n",
      "No slicing was necessary!\n",
      "Image saved to: local_model_outputs_classifier_prob_habitat_suitability_CCAP_NORTH_east_coast_USA_13_4000_1000_all_predictors_depth_None/output_2023-08-04-08_21_30_326.tif\n",
      "\n",
      "\n",
      "\n",
      "\n",
      "Starting image: /Users/margauxmforstyhe/Desktop/workspace/wetlands_labs/CCAP boundaries/north_east_coast/tiles_north_east_coast_ccap_mapping_bndry_gridded_50km_50km_classes_13_CCAP_scale30/inference_tiles_scale30_26.tif\n",
      "Image opened\n"
     ]
    },
    {
     "name": "stderr",
     "output_type": "stream",
     "text": [
      "[Parallel(n_jobs=12)]: Using backend ThreadingBackend with 12 concurrent workers.\n",
      "[Parallel(n_jobs=12)]: Done  26 tasks      | elapsed:    1.8s\n",
      "[Parallel(n_jobs=12)]: Done 100 out of 100 | elapsed:    4.8s finished\n"
     ]
    },
    {
     "name": "stdout",
     "output_type": "stream",
     "text": [
      "Class prediction was successful without slicing!\n",
      "No slicing was necessary!\n",
      "Image saved to: local_model_outputs_classifier_prob_habitat_suitability_CCAP_NORTH_east_coast_USA_13_4000_1000_all_predictors_depth_None/output_2023-08-04-08_21_36_327.tif\n",
      "\n",
      "\n",
      "\n",
      "\n",
      "Starting image: /Users/margauxmforstyhe/Desktop/workspace/wetlands_labs/CCAP boundaries/north_east_coast/tiles_north_east_coast_ccap_mapping_bndry_gridded_50km_50km_classes_13_CCAP_scale30/inference_tiles_scale30_331.tif\n",
      "Image opened\n"
     ]
    },
    {
     "name": "stderr",
     "output_type": "stream",
     "text": [
      "[Parallel(n_jobs=12)]: Using backend ThreadingBackend with 12 concurrent workers.\n",
      "[Parallel(n_jobs=12)]: Done  26 tasks      | elapsed:    1.8s\n",
      "[Parallel(n_jobs=12)]: Done 100 out of 100 | elapsed:    5.2s finished\n"
     ]
    },
    {
     "name": "stdout",
     "output_type": "stream",
     "text": [
      "Class prediction was successful without slicing!\n",
      "No slicing was necessary!\n",
      "Image saved to: local_model_outputs_classifier_prob_habitat_suitability_CCAP_NORTH_east_coast_USA_13_4000_1000_all_predictors_depth_None/output_2023-08-04-08_21_41_328.tif\n",
      "\n",
      "\n",
      "\n",
      "\n",
      "Starting image: /Users/margauxmforstyhe/Desktop/workspace/wetlands_labs/CCAP boundaries/north_east_coast/tiles_north_east_coast_ccap_mapping_bndry_gridded_50km_50km_classes_13_CCAP_scale30/inference_tiles_scale30_32.tif\n",
      "Image opened\n"
     ]
    },
    {
     "name": "stderr",
     "output_type": "stream",
     "text": [
      "[Parallel(n_jobs=12)]: Using backend ThreadingBackend with 12 concurrent workers.\n",
      "[Parallel(n_jobs=12)]: Done  26 tasks      | elapsed:    0.9s\n",
      "[Parallel(n_jobs=12)]: Done 100 out of 100 | elapsed:    2.8s finished\n"
     ]
    },
    {
     "name": "stdout",
     "output_type": "stream",
     "text": [
      "Class prediction was successful without slicing!\n",
      "No slicing was necessary!\n",
      "Image saved to: local_model_outputs_classifier_prob_habitat_suitability_CCAP_NORTH_east_coast_USA_13_4000_1000_all_predictors_depth_None/output_2023-08-04-08_21_45_329.tif\n",
      "\n",
      "\n",
      "\n",
      "\n",
      "Starting image: /Users/margauxmforstyhe/Desktop/workspace/wetlands_labs/CCAP boundaries/north_east_coast/tiles_north_east_coast_ccap_mapping_bndry_gridded_50km_50km_classes_13_CCAP_scale30/inference_tiles_scale30_457.tif\n",
      "Image opened\n"
     ]
    },
    {
     "name": "stderr",
     "output_type": "stream",
     "text": [
      "[Parallel(n_jobs=12)]: Using backend ThreadingBackend with 12 concurrent workers.\n",
      "[Parallel(n_jobs=12)]: Done  26 tasks      | elapsed:    1.4s\n",
      "[Parallel(n_jobs=12)]: Done 100 out of 100 | elapsed:    4.0s finished\n"
     ]
    },
    {
     "name": "stdout",
     "output_type": "stream",
     "text": [
      "Class prediction was successful without slicing!\n",
      "No slicing was necessary!\n",
      "Image saved to: local_model_outputs_classifier_prob_habitat_suitability_CCAP_NORTH_east_coast_USA_13_4000_1000_all_predictors_depth_None/output_2023-08-04-08_21_50_330.tif\n",
      "\n",
      "\n",
      "\n",
      "\n",
      "Starting image: /Users/margauxmforstyhe/Desktop/workspace/wetlands_labs/CCAP boundaries/north_east_coast/tiles_north_east_coast_ccap_mapping_bndry_gridded_50km_50km_classes_13_CCAP_scale30/inference_tiles_scale30_480.tif\n",
      "Image opened\n"
     ]
    },
    {
     "name": "stderr",
     "output_type": "stream",
     "text": [
      "[Parallel(n_jobs=12)]: Using backend ThreadingBackend with 12 concurrent workers.\n",
      "[Parallel(n_jobs=12)]: Done  26 tasks      | elapsed:    1.2s\n",
      "[Parallel(n_jobs=12)]: Done 100 out of 100 | elapsed:    3.5s finished\n"
     ]
    },
    {
     "name": "stdout",
     "output_type": "stream",
     "text": [
      "Class prediction was successful without slicing!\n",
      "No slicing was necessary!\n",
      "Image saved to: local_model_outputs_classifier_prob_habitat_suitability_CCAP_NORTH_east_coast_USA_13_4000_1000_all_predictors_depth_None/output_2023-08-04-08_21_54_331.tif\n",
      "\n",
      "\n",
      "\n",
      "\n",
      "Starting image: /Users/margauxmforstyhe/Desktop/workspace/wetlands_labs/CCAP boundaries/north_east_coast/tiles_north_east_coast_ccap_mapping_bndry_gridded_50km_50km_classes_13_CCAP_scale30/inference_tiles_scale30_494.tif\n",
      "Image opened\n"
     ]
    },
    {
     "name": "stderr",
     "output_type": "stream",
     "text": [
      "[Parallel(n_jobs=12)]: Using backend ThreadingBackend with 12 concurrent workers.\n",
      "[Parallel(n_jobs=12)]: Done  26 tasks      | elapsed:    1.3s\n",
      "[Parallel(n_jobs=12)]: Done 100 out of 100 | elapsed:    3.8s finished\n"
     ]
    },
    {
     "name": "stdout",
     "output_type": "stream",
     "text": [
      "Class prediction was successful without slicing!\n",
      "No slicing was necessary!\n",
      "Image saved to: local_model_outputs_classifier_prob_habitat_suitability_CCAP_NORTH_east_coast_USA_13_4000_1000_all_predictors_depth_None/output_2023-08-04-08_22_00_332.tif\n",
      "\n",
      "\n",
      "\n",
      "\n",
      "Starting image: /Users/margauxmforstyhe/Desktop/workspace/wetlands_labs/CCAP boundaries/north_east_coast/tiles_north_east_coast_ccap_mapping_bndry_gridded_50km_50km_classes_13_CCAP_scale30/inference_tiles_scale30_669.tif\n",
      "Image opened\n"
     ]
    },
    {
     "name": "stderr",
     "output_type": "stream",
     "text": [
      "[Parallel(n_jobs=12)]: Using backend ThreadingBackend with 12 concurrent workers.\n",
      "[Parallel(n_jobs=12)]: Done  26 tasks      | elapsed:    1.9s\n",
      "[Parallel(n_jobs=12)]: Done 100 out of 100 | elapsed:    5.5s finished\n"
     ]
    },
    {
     "name": "stdout",
     "output_type": "stream",
     "text": [
      "Class prediction was successful without slicing!\n",
      "No slicing was necessary!\n",
      "Image saved to: local_model_outputs_classifier_prob_habitat_suitability_CCAP_NORTH_east_coast_USA_13_4000_1000_all_predictors_depth_None/output_2023-08-04-08_22_06_333.tif\n",
      "\n",
      "\n",
      "\n",
      "\n",
      "Starting image: /Users/margauxmforstyhe/Desktop/workspace/wetlands_labs/CCAP boundaries/north_east_coast/tiles_north_east_coast_ccap_mapping_bndry_gridded_50km_50km_classes_13_CCAP_scale30/inference_tiles_scale30_127.tif\n",
      "Image opened\n"
     ]
    },
    {
     "name": "stderr",
     "output_type": "stream",
     "text": [
      "[Parallel(n_jobs=12)]: Using backend ThreadingBackend with 12 concurrent workers.\n",
      "[Parallel(n_jobs=12)]: Done  26 tasks      | elapsed:    0.5s\n",
      "[Parallel(n_jobs=12)]: Done 100 out of 100 | elapsed:    1.6s finished\n"
     ]
    },
    {
     "name": "stdout",
     "output_type": "stream",
     "text": [
      "Class prediction was successful without slicing!\n",
      "No slicing was necessary!\n",
      "Image saved to: local_model_outputs_classifier_prob_habitat_suitability_CCAP_NORTH_east_coast_USA_13_4000_1000_all_predictors_depth_None/output_2023-08-04-08_22_08_334.tif\n",
      "\n",
      "\n",
      "\n",
      "\n",
      "Starting image: /Users/margauxmforstyhe/Desktop/workspace/wetlands_labs/CCAP boundaries/north_east_coast/tiles_north_east_coast_ccap_mapping_bndry_gridded_50km_50km_classes_13_CCAP_scale30/inference_tiles_scale30_641.tif\n",
      "Image opened\n"
     ]
    },
    {
     "name": "stderr",
     "output_type": "stream",
     "text": [
      "[Parallel(n_jobs=12)]: Using backend ThreadingBackend with 12 concurrent workers.\n",
      "[Parallel(n_jobs=12)]: Done  26 tasks      | elapsed:    1.6s\n",
      "[Parallel(n_jobs=12)]: Done 100 out of 100 | elapsed:    4.6s finished\n"
     ]
    },
    {
     "name": "stdout",
     "output_type": "stream",
     "text": [
      "Class prediction was successful without slicing!\n",
      "No slicing was necessary!\n",
      "Image saved to: local_model_outputs_classifier_prob_habitat_suitability_CCAP_NORTH_east_coast_USA_13_4000_1000_all_predictors_depth_None/output_2023-08-04-08_22_13_335.tif\n",
      "\n",
      "\n",
      "\n",
      "\n",
      "Starting image: /Users/margauxmforstyhe/Desktop/workspace/wetlands_labs/CCAP boundaries/north_east_coast/tiles_north_east_coast_ccap_mapping_bndry_gridded_50km_50km_classes_13_CCAP_scale30/inference_tiles_scale30_899.tif\n",
      "Image opened\n"
     ]
    },
    {
     "name": "stderr",
     "output_type": "stream",
     "text": [
      "[Parallel(n_jobs=12)]: Using backend ThreadingBackend with 12 concurrent workers.\n",
      "[Parallel(n_jobs=12)]: Done  26 tasks      | elapsed:    0.9s\n",
      "[Parallel(n_jobs=12)]: Done 100 out of 100 | elapsed:    2.7s finished\n"
     ]
    },
    {
     "name": "stdout",
     "output_type": "stream",
     "text": [
      "Class prediction was successful without slicing!\n",
      "No slicing was necessary!\n",
      "Image saved to: local_model_outputs_classifier_prob_habitat_suitability_CCAP_NORTH_east_coast_USA_13_4000_1000_all_predictors_depth_None/output_2023-08-04-08_22_17_336.tif\n",
      "\n",
      "\n",
      "\n",
      "\n",
      "Starting image: /Users/margauxmforstyhe/Desktop/workspace/wetlands_labs/CCAP boundaries/north_east_coast/tiles_north_east_coast_ccap_mapping_bndry_gridded_50km_50km_classes_13_CCAP_scale30/inference_tiles_scale30_655.tif\n",
      "Image opened\n"
     ]
    },
    {
     "name": "stderr",
     "output_type": "stream",
     "text": [
      "[Parallel(n_jobs=12)]: Using backend ThreadingBackend with 12 concurrent workers.\n",
      "[Parallel(n_jobs=12)]: Done  26 tasks      | elapsed:    2.1s\n",
      "[Parallel(n_jobs=12)]: Done 100 out of 100 | elapsed:    5.1s finished\n"
     ]
    },
    {
     "name": "stdout",
     "output_type": "stream",
     "text": [
      "Class prediction was successful without slicing!\n",
      "No slicing was necessary!\n",
      "Image saved to: local_model_outputs_classifier_prob_habitat_suitability_CCAP_NORTH_east_coast_USA_13_4000_1000_all_predictors_depth_None/output_2023-08-04-08_22_23_337.tif\n",
      "\n",
      "\n",
      "\n",
      "\n",
      "Starting image: /Users/margauxmforstyhe/Desktop/workspace/wetlands_labs/CCAP boundaries/north_east_coast/tiles_north_east_coast_ccap_mapping_bndry_gridded_50km_50km_classes_13_CCAP_scale30/inference_tiles_scale30_133.tif\n",
      "Image opened\n"
     ]
    },
    {
     "name": "stderr",
     "output_type": "stream",
     "text": [
      "[Parallel(n_jobs=12)]: Using backend ThreadingBackend with 12 concurrent workers.\n",
      "[Parallel(n_jobs=12)]: Done  26 tasks      | elapsed:    0.1s\n",
      "[Parallel(n_jobs=12)]: Done 100 out of 100 | elapsed:    0.2s finished\n"
     ]
    },
    {
     "name": "stdout",
     "output_type": "stream",
     "text": [
      "Class prediction was successful without slicing!\n",
      "No slicing was necessary!\n",
      "Image saved to: local_model_outputs_classifier_prob_habitat_suitability_CCAP_NORTH_east_coast_USA_13_4000_1000_all_predictors_depth_None/output_2023-08-04-08_22_23_338.tif\n",
      "\n",
      "\n",
      "\n",
      "\n",
      "Starting image: /Users/margauxmforstyhe/Desktop/workspace/wetlands_labs/CCAP boundaries/north_east_coast/tiles_north_east_coast_ccap_mapping_bndry_gridded_50km_50km_classes_13_CCAP_scale30/inference_tiles_scale30_866.tif\n",
      "Image opened\n"
     ]
    },
    {
     "name": "stderr",
     "output_type": "stream",
     "text": [
      "[Parallel(n_jobs=12)]: Using backend ThreadingBackend with 12 concurrent workers.\n",
      "[Parallel(n_jobs=12)]: Done  26 tasks      | elapsed:    0.2s\n",
      "[Parallel(n_jobs=12)]: Done 100 out of 100 | elapsed:    0.5s finished\n"
     ]
    },
    {
     "name": "stdout",
     "output_type": "stream",
     "text": [
      "Class prediction was successful without slicing!\n",
      "No slicing was necessary!\n",
      "Image saved to: local_model_outputs_classifier_prob_habitat_suitability_CCAP_NORTH_east_coast_USA_13_4000_1000_all_predictors_depth_None/output_2023-08-04-08_22_24_339.tif\n",
      "\n",
      "\n",
      "\n",
      "\n",
      "Starting image: /Users/margauxmforstyhe/Desktop/workspace/wetlands_labs/CCAP boundaries/north_east_coast/tiles_north_east_coast_ccap_mapping_bndry_gridded_50km_50km_classes_13_CCAP_scale30/inference_tiles_scale30_872.tif\n",
      "Image opened\n"
     ]
    },
    {
     "name": "stderr",
     "output_type": "stream",
     "text": [
      "[Parallel(n_jobs=12)]: Using backend ThreadingBackend with 12 concurrent workers.\n",
      "[Parallel(n_jobs=12)]: Done  26 tasks      | elapsed:    1.2s\n",
      "[Parallel(n_jobs=12)]: Done 100 out of 100 | elapsed:    3.3s finished\n"
     ]
    },
    {
     "name": "stdout",
     "output_type": "stream",
     "text": [
      "Class prediction was successful without slicing!\n",
      "No slicing was necessary!\n",
      "Image saved to: local_model_outputs_classifier_prob_habitat_suitability_CCAP_NORTH_east_coast_USA_13_4000_1000_all_predictors_depth_None/output_2023-08-04-08_22_28_340.tif\n",
      "\n",
      "\n",
      "\n",
      "\n",
      "Starting image: /Users/margauxmforstyhe/Desktop/workspace/wetlands_labs/CCAP boundaries/north_east_coast/tiles_north_east_coast_ccap_mapping_bndry_gridded_50km_50km_classes_13_CCAP_scale30/inference_tiles_scale30_682.tif\n",
      "Image opened\n"
     ]
    },
    {
     "name": "stderr",
     "output_type": "stream",
     "text": [
      "[Parallel(n_jobs=12)]: Using backend ThreadingBackend with 12 concurrent workers.\n",
      "[Parallel(n_jobs=12)]: Done  26 tasks      | elapsed:    1.9s\n",
      "[Parallel(n_jobs=12)]: Done 100 out of 100 | elapsed:    4.9s finished\n"
     ]
    },
    {
     "name": "stdout",
     "output_type": "stream",
     "text": [
      "Class prediction was successful without slicing!\n",
      "No slicing was necessary!\n",
      "Image saved to: local_model_outputs_classifier_prob_habitat_suitability_CCAP_NORTH_east_coast_USA_13_4000_1000_all_predictors_depth_None/output_2023-08-04-08_22_34_341.tif\n",
      "\n",
      "\n",
      "\n",
      "\n",
      "Starting image: /Users/margauxmforstyhe/Desktop/workspace/wetlands_labs/CCAP boundaries/north_east_coast/tiles_north_east_coast_ccap_mapping_bndry_gridded_50km_50km_classes_13_CCAP_scale30/inference_tiles_scale30_696.tif\n",
      "Image opened\n"
     ]
    },
    {
     "name": "stderr",
     "output_type": "stream",
     "text": [
      "[Parallel(n_jobs=12)]: Using backend ThreadingBackend with 12 concurrent workers.\n",
      "[Parallel(n_jobs=12)]: Done  26 tasks      | elapsed:    0.1s\n",
      "[Parallel(n_jobs=12)]: Done 100 out of 100 | elapsed:    0.3s finished\n"
     ]
    },
    {
     "name": "stdout",
     "output_type": "stream",
     "text": [
      "Class prediction was successful without slicing!\n",
      "No slicing was necessary!\n",
      "Image saved to: local_model_outputs_classifier_prob_habitat_suitability_CCAP_NORTH_east_coast_USA_13_4000_1000_all_predictors_depth_None/output_2023-08-04-08_22_34_342.tif\n",
      "\n",
      "\n",
      "\n",
      "\n",
      "Starting image: /Users/margauxmforstyhe/Desktop/workspace/wetlands_labs/CCAP boundaries/north_east_coast/tiles_north_east_coast_ccap_mapping_bndry_gridded_50km_50km_classes_13_CCAP_scale30/inference_tiles_scale30_709.tif\n",
      "Image opened\n"
     ]
    },
    {
     "name": "stderr",
     "output_type": "stream",
     "text": [
      "[Parallel(n_jobs=12)]: Using backend ThreadingBackend with 12 concurrent workers.\n",
      "[Parallel(n_jobs=12)]: Done  26 tasks      | elapsed:    0.3s\n",
      "[Parallel(n_jobs=12)]: Done 100 out of 100 | elapsed:    0.9s finished\n"
     ]
    },
    {
     "name": "stdout",
     "output_type": "stream",
     "text": [
      "Class prediction was successful without slicing!\n",
      "No slicing was necessary!\n",
      "Image saved to: local_model_outputs_classifier_prob_habitat_suitability_CCAP_NORTH_east_coast_USA_13_4000_1000_all_predictors_depth_None/output_2023-08-04-08_22_35_343.tif\n",
      "\n",
      "\n",
      "\n",
      "\n",
      "Starting image: /Users/margauxmforstyhe/Desktop/workspace/wetlands_labs/CCAP boundaries/north_east_coast/tiles_north_east_coast_ccap_mapping_bndry_gridded_50km_50km_classes_13_CCAP_scale30/inference_tiles_scale30_735.tif\n",
      "Image opened\n"
     ]
    },
    {
     "name": "stderr",
     "output_type": "stream",
     "text": [
      "[Parallel(n_jobs=12)]: Using backend ThreadingBackend with 12 concurrent workers.\n",
      "[Parallel(n_jobs=12)]: Done  26 tasks      | elapsed:    1.5s\n",
      "[Parallel(n_jobs=12)]: Done 100 out of 100 | elapsed:    4.3s finished\n"
     ]
    },
    {
     "name": "stdout",
     "output_type": "stream",
     "text": [
      "Class prediction was successful without slicing!\n",
      "No slicing was necessary!\n",
      "Image saved to: local_model_outputs_classifier_prob_habitat_suitability_CCAP_NORTH_east_coast_USA_13_4000_1000_all_predictors_depth_None/output_2023-08-04-08_22_40_344.tif\n",
      "\n",
      "\n",
      "\n",
      "\n",
      "Starting image: /Users/margauxmforstyhe/Desktop/workspace/wetlands_labs/CCAP boundaries/north_east_coast/tiles_north_east_coast_ccap_mapping_bndry_gridded_50km_50km_classes_13_CCAP_scale30/inference_tiles_scale30_721.tif\n",
      "Image opened\n"
     ]
    },
    {
     "name": "stderr",
     "output_type": "stream",
     "text": [
      "[Parallel(n_jobs=12)]: Using backend ThreadingBackend with 12 concurrent workers.\n",
      "[Parallel(n_jobs=12)]: Done  26 tasks      | elapsed:    0.1s\n",
      "[Parallel(n_jobs=12)]: Done 100 out of 100 | elapsed:    0.3s finished\n"
     ]
    },
    {
     "name": "stdout",
     "output_type": "stream",
     "text": [
      "Class prediction was successful without slicing!\n",
      "No slicing was necessary!\n",
      "Image saved to: local_model_outputs_classifier_prob_habitat_suitability_CCAP_NORTH_east_coast_USA_13_4000_1000_all_predictors_depth_None/output_2023-08-04-08_22_41_345.tif\n",
      "\n",
      "\n",
      "\n",
      "\n",
      "Starting image: /Users/margauxmforstyhe/Desktop/workspace/wetlands_labs/CCAP boundaries/north_east_coast/tiles_north_east_coast_ccap_mapping_bndry_gridded_50km_50km_classes_13_CCAP_scale30/inference_tiles_scale30_912.tif\n",
      "Image opened\n"
     ]
    },
    {
     "name": "stderr",
     "output_type": "stream",
     "text": [
      "[Parallel(n_jobs=12)]: Using backend ThreadingBackend with 12 concurrent workers.\n",
      "[Parallel(n_jobs=12)]: Done  26 tasks      | elapsed:    0.6s\n",
      "[Parallel(n_jobs=12)]: Done 100 out of 100 | elapsed:    1.9s finished\n"
     ]
    },
    {
     "name": "stdout",
     "output_type": "stream",
     "text": [
      "Class prediction was successful without slicing!\n",
      "No slicing was necessary!\n",
      "Image saved to: local_model_outputs_classifier_prob_habitat_suitability_CCAP_NORTH_east_coast_USA_13_4000_1000_all_predictors_depth_None/output_2023-08-04-08_22_43_346.tif\n",
      "\n",
      "\n",
      "\n",
      "\n",
      "Starting image: /Users/margauxmforstyhe/Desktop/workspace/wetlands_labs/CCAP boundaries/north_east_coast/tiles_north_east_coast_ccap_mapping_bndry_gridded_50km_50km_classes_13_CCAP_scale30/inference_tiles_scale30_906.tif\n",
      "Image opened\n"
     ]
    },
    {
     "name": "stderr",
     "output_type": "stream",
     "text": [
      "[Parallel(n_jobs=12)]: Using backend ThreadingBackend with 12 concurrent workers.\n",
      "[Parallel(n_jobs=12)]: Done  26 tasks      | elapsed:    1.4s\n",
      "[Parallel(n_jobs=12)]: Done 100 out of 100 | elapsed:    4.4s finished\n"
     ]
    },
    {
     "name": "stdout",
     "output_type": "stream",
     "text": [
      "Class prediction was successful without slicing!\n",
      "No slicing was necessary!\n",
      "Image saved to: local_model_outputs_classifier_prob_habitat_suitability_CCAP_NORTH_east_coast_USA_13_4000_1000_all_predictors_depth_None/output_2023-08-04-08_22_48_347.tif\n",
      "\n",
      "\n",
      "\n",
      "\n",
      "Starting image: /Users/margauxmforstyhe/Desktop/workspace/wetlands_labs/CCAP boundaries/north_east_coast/tiles_north_east_coast_ccap_mapping_bndry_gridded_50km_50km_classes_13_CCAP_scale30/inference_tiles_scale30_279.tif\n",
      "Image opened\n"
     ]
    },
    {
     "name": "stderr",
     "output_type": "stream",
     "text": [
      "[Parallel(n_jobs=12)]: Using backend ThreadingBackend with 12 concurrent workers.\n",
      "[Parallel(n_jobs=12)]: Done  26 tasks      | elapsed:    1.1s\n",
      "[Parallel(n_jobs=12)]: Done 100 out of 100 | elapsed:    3.0s finished\n"
     ]
    },
    {
     "name": "stdout",
     "output_type": "stream",
     "text": [
      "Class prediction was successful without slicing!\n",
      "No slicing was necessary!\n",
      "Image saved to: local_model_outputs_classifier_prob_habitat_suitability_CCAP_NORTH_east_coast_USA_13_4000_1000_all_predictors_depth_None/output_2023-08-04-08_22_52_348.tif\n",
      "\n",
      "\n",
      "\n",
      "\n",
      "Starting image: /Users/margauxmforstyhe/Desktop/workspace/wetlands_labs/CCAP boundaries/north_east_coast/tiles_north_east_coast_ccap_mapping_bndry_gridded_50km_50km_classes_13_CCAP_scale30/inference_tiles_scale30_537.tif\n",
      "Image opened\n"
     ]
    },
    {
     "name": "stderr",
     "output_type": "stream",
     "text": [
      "[Parallel(n_jobs=12)]: Using backend ThreadingBackend with 12 concurrent workers.\n",
      "[Parallel(n_jobs=12)]: Done  26 tasks      | elapsed:    1.3s\n",
      "[Parallel(n_jobs=12)]: Done 100 out of 100 | elapsed:    3.7s finished\n"
     ]
    },
    {
     "name": "stdout",
     "output_type": "stream",
     "text": [
      "Class prediction was successful without slicing!\n",
      "No slicing was necessary!\n",
      "Image saved to: local_model_outputs_classifier_prob_habitat_suitability_CCAP_NORTH_east_coast_USA_13_4000_1000_all_predictors_depth_None/output_2023-08-04-08_22_57_349.tif\n",
      "\n",
      "\n",
      "\n",
      "\n",
      "Starting image: /Users/margauxmforstyhe/Desktop/workspace/wetlands_labs/CCAP boundaries/north_east_coast/tiles_north_east_coast_ccap_mapping_bndry_gridded_50km_50km_classes_13_CCAP_scale30/inference_tiles_scale30_251.tif\n",
      "Image opened\n"
     ]
    },
    {
     "name": "stderr",
     "output_type": "stream",
     "text": [
      "[Parallel(n_jobs=12)]: Using backend ThreadingBackend with 12 concurrent workers.\n",
      "[Parallel(n_jobs=12)]: Done  26 tasks      | elapsed:    1.4s\n",
      "[Parallel(n_jobs=12)]: Done 100 out of 100 | elapsed:    4.3s finished\n"
     ]
    },
    {
     "name": "stdout",
     "output_type": "stream",
     "text": [
      "Class prediction was successful without slicing!\n",
      "No slicing was necessary!\n",
      "Image saved to: local_model_outputs_classifier_prob_habitat_suitability_CCAP_NORTH_east_coast_USA_13_4000_1000_all_predictors_depth_None/output_2023-08-04-08_23_02_350.tif\n",
      "\n",
      "\n",
      "\n",
      "\n",
      "Starting image: /Users/margauxmforstyhe/Desktop/workspace/wetlands_labs/CCAP boundaries/north_east_coast/tiles_north_east_coast_ccap_mapping_bndry_gridded_50km_50km_classes_13_CCAP_scale30/inference_tiles_scale30_245.tif\n",
      "Image opened\n"
     ]
    },
    {
     "name": "stderr",
     "output_type": "stream",
     "text": [
      "[Parallel(n_jobs=12)]: Using backend ThreadingBackend with 12 concurrent workers.\n",
      "[Parallel(n_jobs=12)]: Done  26 tasks      | elapsed:    1.0s\n",
      "[Parallel(n_jobs=12)]: Done 100 out of 100 | elapsed:    3.1s finished\n"
     ]
    },
    {
     "name": "stdout",
     "output_type": "stream",
     "text": [
      "Class prediction was successful without slicing!\n",
      "No slicing was necessary!\n",
      "Image saved to: local_model_outputs_classifier_prob_habitat_suitability_CCAP_NORTH_east_coast_USA_13_4000_1000_all_predictors_depth_None/output_2023-08-04-08_23_06_351.tif\n",
      "\n",
      "\n",
      "\n",
      "\n",
      "Starting image: /Users/margauxmforstyhe/Desktop/workspace/wetlands_labs/CCAP boundaries/north_east_coast/tiles_north_east_coast_ccap_mapping_bndry_gridded_50km_50km_classes_13_CCAP_scale30/inference_tiles_scale30_523.tif\n",
      "Image opened\n"
     ]
    },
    {
     "name": "stderr",
     "output_type": "stream",
     "text": [
      "[Parallel(n_jobs=12)]: Using backend ThreadingBackend with 12 concurrent workers.\n",
      "[Parallel(n_jobs=12)]: Done  26 tasks      | elapsed:    1.5s\n",
      "[Parallel(n_jobs=12)]: Done 100 out of 100 | elapsed:    4.5s finished\n"
     ]
    },
    {
     "name": "stdout",
     "output_type": "stream",
     "text": [
      "Class prediction was successful without slicing!\n",
      "No slicing was necessary!\n",
      "Image saved to: local_model_outputs_classifier_prob_habitat_suitability_CCAP_NORTH_east_coast_USA_13_4000_1000_all_predictors_depth_None/output_2023-08-04-08_23_11_352.tif\n",
      "\n",
      "\n",
      "\n",
      "\n",
      "Starting image: /Users/margauxmforstyhe/Desktop/workspace/wetlands_labs/CCAP boundaries/north_east_coast/tiles_north_east_coast_ccap_mapping_bndry_gridded_50km_50km_classes_13_CCAP_scale30/inference_tiles_scale30_292.tif\n",
      "Image opened\n"
     ]
    },
    {
     "name": "stderr",
     "output_type": "stream",
     "text": [
      "[Parallel(n_jobs=12)]: Using backend ThreadingBackend with 12 concurrent workers.\n",
      "[Parallel(n_jobs=12)]: Done  26 tasks      | elapsed:    0.9s\n",
      "[Parallel(n_jobs=12)]: Done 100 out of 100 | elapsed:    2.6s finished\n"
     ]
    },
    {
     "name": "stdout",
     "output_type": "stream",
     "text": [
      "Class prediction was successful without slicing!\n",
      "No slicing was necessary!\n",
      "Image saved to: local_model_outputs_classifier_prob_habitat_suitability_CCAP_NORTH_east_coast_USA_13_4000_1000_all_predictors_depth_None/output_2023-08-04-08_23_14_353.tif\n",
      "\n",
      "\n",
      "\n",
      "\n",
      "Starting image: /Users/margauxmforstyhe/Desktop/workspace/wetlands_labs/CCAP boundaries/north_east_coast/tiles_north_east_coast_ccap_mapping_bndry_gridded_50km_50km_classes_13_CCAP_scale30/inference_tiles_scale30_286.tif\n",
      "Image opened\n"
     ]
    },
    {
     "name": "stderr",
     "output_type": "stream",
     "text": [
      "[Parallel(n_jobs=12)]: Using backend ThreadingBackend with 12 concurrent workers.\n",
      "[Parallel(n_jobs=12)]: Done  26 tasks      | elapsed:    1.1s\n",
      "[Parallel(n_jobs=12)]: Done 100 out of 100 | elapsed:    3.3s finished\n",
      "[Parallel(n_jobs=12)]: Using backend ThreadingBackend with 12 concurrent workers.\n",
      "[Parallel(n_jobs=12)]: Done  26 tasks      | elapsed:    0.0s\n",
      "[Parallel(n_jobs=12)]: Done 100 out of 100 | elapsed:    0.1s finished\n"
     ]
    },
    {
     "name": "stdout",
     "output_type": "stream",
     "text": [
      "Class prediction was successful without slicing!\n",
      "No slicing was necessary!\n",
      "Image saved to: local_model_outputs_classifier_prob_habitat_suitability_CCAP_NORTH_east_coast_USA_13_4000_1000_all_predictors_depth_None/output_2023-08-04-08_23_18_354.tif\n",
      "\n",
      "\n",
      "\n",
      "\n",
      "Starting image: /Users/margauxmforstyhe/Desktop/workspace/wetlands_labs/CCAP boundaries/north_east_coast/tiles_north_east_coast_ccap_mapping_bndry_gridded_50km_50km_classes_13_CCAP_scale30/inference_tiles_scale30_287.tif\n",
      "Image opened\n",
      "Class prediction was successful without slicing!\n",
      "No slicing was necessary!\n",
      "Image saved to: local_model_outputs_classifier_prob_habitat_suitability_CCAP_NORTH_east_coast_USA_13_4000_1000_all_predictors_depth_None/output_2023-08-04-08_23_18_355.tif\n",
      "\n",
      "\n",
      "\n",
      "\n",
      "Starting image: /Users/margauxmforstyhe/Desktop/workspace/wetlands_labs/CCAP boundaries/north_east_coast/tiles_north_east_coast_ccap_mapping_bndry_gridded_50km_50km_classes_13_CCAP_scale30/inference_tiles_scale30_293.tif\n",
      "Image opened\n"
     ]
    },
    {
     "name": "stderr",
     "output_type": "stream",
     "text": [
      "[Parallel(n_jobs=12)]: Using backend ThreadingBackend with 12 concurrent workers.\n",
      "[Parallel(n_jobs=12)]: Done  26 tasks      | elapsed:    0.5s\n",
      "[Parallel(n_jobs=12)]: Done 100 out of 100 | elapsed:    1.7s finished\n",
      "[Parallel(n_jobs=12)]: Using backend ThreadingBackend with 12 concurrent workers.\n",
      "[Parallel(n_jobs=12)]: Done  26 tasks      | elapsed:    0.0s\n"
     ]
    },
    {
     "name": "stdout",
     "output_type": "stream",
     "text": [
      "Class prediction was successful without slicing!\n",
      "No slicing was necessary!\n",
      "Image saved to: local_model_outputs_classifier_prob_habitat_suitability_CCAP_NORTH_east_coast_USA_13_4000_1000_all_predictors_depth_None/output_2023-08-04-08_23_21_356.tif\n",
      "\n",
      "\n",
      "\n",
      "\n",
      "Starting image: /Users/margauxmforstyhe/Desktop/workspace/wetlands_labs/CCAP boundaries/north_east_coast/tiles_north_east_coast_ccap_mapping_bndry_gridded_50km_50km_classes_13_CCAP_scale30/inference_tiles_scale30_244.tif\n",
      "Image opened\n"
     ]
    },
    {
     "name": "stderr",
     "output_type": "stream",
     "text": [
      "[Parallel(n_jobs=12)]: Done 100 out of 100 | elapsed:    0.1s finished\n"
     ]
    },
    {
     "name": "stdout",
     "output_type": "stream",
     "text": [
      "Class prediction was successful without slicing!\n",
      "No slicing was necessary!\n",
      "Image saved to: local_model_outputs_classifier_prob_habitat_suitability_CCAP_NORTH_east_coast_USA_13_4000_1000_all_predictors_depth_None/output_2023-08-04-08_23_21_357.tif\n",
      "\n",
      "\n",
      "\n",
      "\n",
      "Starting image: /Users/margauxmforstyhe/Desktop/workspace/wetlands_labs/CCAP boundaries/north_east_coast/tiles_north_east_coast_ccap_mapping_bndry_gridded_50km_50km_classes_13_CCAP_scale30/inference_tiles_scale30_522.tif\n",
      "Image opened\n"
     ]
    },
    {
     "name": "stderr",
     "output_type": "stream",
     "text": [
      "[Parallel(n_jobs=12)]: Using backend ThreadingBackend with 12 concurrent workers.\n",
      "[Parallel(n_jobs=12)]: Done  26 tasks      | elapsed:    2.0s\n",
      "[Parallel(n_jobs=12)]: Done 100 out of 100 | elapsed:    5.6s finished\n"
     ]
    },
    {
     "name": "stdout",
     "output_type": "stream",
     "text": [
      "Class prediction was successful without slicing!\n",
      "No slicing was necessary!\n",
      "Image saved to: local_model_outputs_classifier_prob_habitat_suitability_CCAP_NORTH_east_coast_USA_13_4000_1000_all_predictors_depth_None/output_2023-08-04-08_23_27_358.tif\n",
      "\n",
      "\n",
      "\n",
      "\n",
      "Starting image: /Users/margauxmforstyhe/Desktop/workspace/wetlands_labs/CCAP boundaries/north_east_coast/tiles_north_east_coast_ccap_mapping_bndry_gridded_50km_50km_classes_13_CCAP_scale30/inference_tiles_scale30_536.tif\n",
      "Image opened\n"
     ]
    },
    {
     "name": "stderr",
     "output_type": "stream",
     "text": [
      "[Parallel(n_jobs=12)]: Using backend ThreadingBackend with 12 concurrent workers.\n",
      "[Parallel(n_jobs=12)]: Done  26 tasks      | elapsed:    0.9s\n",
      "[Parallel(n_jobs=12)]: Done 100 out of 100 | elapsed:    2.6s finished\n"
     ]
    },
    {
     "name": "stdout",
     "output_type": "stream",
     "text": [
      "Class prediction was successful without slicing!\n",
      "No slicing was necessary!\n",
      "Image saved to: local_model_outputs_classifier_prob_habitat_suitability_CCAP_NORTH_east_coast_USA_13_4000_1000_all_predictors_depth_None/output_2023-08-04-08_23_31_359.tif\n",
      "\n",
      "\n",
      "\n",
      "\n",
      "Starting image: /Users/margauxmforstyhe/Desktop/workspace/wetlands_labs/CCAP boundaries/north_east_coast/tiles_north_east_coast_ccap_mapping_bndry_gridded_50km_50km_classes_13_CCAP_scale30/inference_tiles_scale30_250.tif\n",
      "Image opened\n"
     ]
    },
    {
     "name": "stderr",
     "output_type": "stream",
     "text": [
      "[Parallel(n_jobs=12)]: Using backend ThreadingBackend with 12 concurrent workers.\n",
      "[Parallel(n_jobs=12)]: Done  26 tasks      | elapsed:    0.2s\n",
      "[Parallel(n_jobs=12)]: Done 100 out of 100 | elapsed:    0.7s finished\n"
     ]
    },
    {
     "name": "stdout",
     "output_type": "stream",
     "text": [
      "Class prediction was successful without slicing!\n",
      "No slicing was necessary!\n",
      "Image saved to: local_model_outputs_classifier_prob_habitat_suitability_CCAP_NORTH_east_coast_USA_13_4000_1000_all_predictors_depth_None/output_2023-08-04-08_23_32_360.tif\n",
      "\n",
      "\n",
      "\n",
      "\n",
      "Starting image: /Users/margauxmforstyhe/Desktop/workspace/wetlands_labs/CCAP boundaries/north_east_coast/tiles_north_east_coast_ccap_mapping_bndry_gridded_50km_50km_classes_13_CCAP_scale30/inference_tiles_scale30_278.tif\n",
      "Image opened\n"
     ]
    },
    {
     "name": "stderr",
     "output_type": "stream",
     "text": [
      "[Parallel(n_jobs=12)]: Using backend ThreadingBackend with 12 concurrent workers.\n",
      "[Parallel(n_jobs=12)]: Done  26 tasks      | elapsed:    0.8s\n",
      "[Parallel(n_jobs=12)]: Done 100 out of 100 | elapsed:    2.6s finished\n"
     ]
    },
    {
     "name": "stdout",
     "output_type": "stream",
     "text": [
      "Class prediction was successful without slicing!\n",
      "No slicing was necessary!\n",
      "Image saved to: local_model_outputs_classifier_prob_habitat_suitability_CCAP_NORTH_east_coast_USA_13_4000_1000_all_predictors_depth_None/output_2023-08-04-08_23_35_361.tif\n",
      "\n",
      "\n",
      "\n",
      "\n",
      "Starting image: /Users/margauxmforstyhe/Desktop/workspace/wetlands_labs/CCAP boundaries/north_east_coast/tiles_north_east_coast_ccap_mapping_bndry_gridded_50km_50km_classes_13_CCAP_scale30/inference_tiles_scale30_907.tif\n",
      "Image opened\n"
     ]
    },
    {
     "name": "stderr",
     "output_type": "stream",
     "text": [
      "[Parallel(n_jobs=12)]: Using backend ThreadingBackend with 12 concurrent workers.\n",
      "[Parallel(n_jobs=12)]: Done  26 tasks      | elapsed:    0.6s\n",
      "[Parallel(n_jobs=12)]: Done 100 out of 100 | elapsed:    1.7s finished\n"
     ]
    },
    {
     "name": "stdout",
     "output_type": "stream",
     "text": [
      "Class prediction was successful without slicing!\n",
      "No slicing was necessary!\n",
      "Image saved to: local_model_outputs_classifier_prob_habitat_suitability_CCAP_NORTH_east_coast_USA_13_4000_1000_all_predictors_depth_None/output_2023-08-04-08_23_37_362.tif\n",
      "\n",
      "\n",
      "\n",
      "\n",
      "Starting image: /Users/margauxmforstyhe/Desktop/workspace/wetlands_labs/CCAP boundaries/north_east_coast/tiles_north_east_coast_ccap_mapping_bndry_gridded_50km_50km_classes_13_CCAP_scale30/inference_tiles_scale30_913.tif\n",
      "Image opened\n"
     ]
    },
    {
     "name": "stderr",
     "output_type": "stream",
     "text": [
      "[Parallel(n_jobs=12)]: Using backend ThreadingBackend with 12 concurrent workers.\n",
      "[Parallel(n_jobs=12)]: Done  26 tasks      | elapsed:    0.6s\n",
      "[Parallel(n_jobs=12)]: Done 100 out of 100 | elapsed:    1.8s finished\n"
     ]
    },
    {
     "name": "stdout",
     "output_type": "stream",
     "text": [
      "Class prediction was successful without slicing!\n",
      "No slicing was necessary!\n",
      "Image saved to: local_model_outputs_classifier_prob_habitat_suitability_CCAP_NORTH_east_coast_USA_13_4000_1000_all_predictors_depth_None/output_2023-08-04-08_23_39_363.tif\n",
      "\n",
      "\n",
      "\n",
      "\n",
      "Starting image: /Users/margauxmforstyhe/Desktop/workspace/wetlands_labs/CCAP boundaries/north_east_coast/tiles_north_east_coast_ccap_mapping_bndry_gridded_50km_50km_classes_13_CCAP_scale30/inference_tiles_scale30_720.tif\n",
      "Image opened\n"
     ]
    },
    {
     "name": "stderr",
     "output_type": "stream",
     "text": [
      "[Parallel(n_jobs=12)]: Using backend ThreadingBackend with 12 concurrent workers.\n",
      "[Parallel(n_jobs=12)]: Done  26 tasks      | elapsed:    0.5s\n",
      "[Parallel(n_jobs=12)]: Done 100 out of 100 | elapsed:    1.4s finished\n"
     ]
    },
    {
     "name": "stdout",
     "output_type": "stream",
     "text": [
      "Class prediction was successful without slicing!\n",
      "No slicing was necessary!\n",
      "Image saved to: local_model_outputs_classifier_prob_habitat_suitability_CCAP_NORTH_east_coast_USA_13_4000_1000_all_predictors_depth_None/output_2023-08-04-08_23_41_364.tif\n",
      "\n",
      "\n",
      "\n",
      "\n",
      "Starting image: /Users/margauxmforstyhe/Desktop/workspace/wetlands_labs/CCAP boundaries/north_east_coast/tiles_north_east_coast_ccap_mapping_bndry_gridded_50km_50km_classes_13_CCAP_scale30/inference_tiles_scale30_734.tif\n",
      "Image opened\n"
     ]
    },
    {
     "name": "stderr",
     "output_type": "stream",
     "text": [
      "[Parallel(n_jobs=12)]: Using backend ThreadingBackend with 12 concurrent workers.\n",
      "[Parallel(n_jobs=12)]: Done  26 tasks      | elapsed:    1.2s\n",
      "[Parallel(n_jobs=12)]: Done 100 out of 100 | elapsed:    3.4s finished\n"
     ]
    },
    {
     "name": "stdout",
     "output_type": "stream",
     "text": [
      "Class prediction was successful without slicing!\n",
      "No slicing was necessary!\n",
      "Image saved to: local_model_outputs_classifier_prob_habitat_suitability_CCAP_NORTH_east_coast_USA_13_4000_1000_all_predictors_depth_None/output_2023-08-04-08_23_45_365.tif\n",
      "\n",
      "\n",
      "\n",
      "\n",
      "Starting image: /Users/margauxmforstyhe/Desktop/workspace/wetlands_labs/CCAP boundaries/north_east_coast/tiles_north_east_coast_ccap_mapping_bndry_gridded_50km_50km_classes_13_CCAP_scale30/inference_tiles_scale30_708.tif\n",
      "Image opened\n"
     ]
    },
    {
     "name": "stderr",
     "output_type": "stream",
     "text": [
      "[Parallel(n_jobs=12)]: Using backend ThreadingBackend with 12 concurrent workers.\n",
      "[Parallel(n_jobs=12)]: Done  26 tasks      | elapsed:    0.2s\n",
      "[Parallel(n_jobs=12)]: Done 100 out of 100 | elapsed:    0.5s finished\n"
     ]
    },
    {
     "name": "stdout",
     "output_type": "stream",
     "text": [
      "Class prediction was successful without slicing!\n",
      "No slicing was necessary!\n",
      "Image saved to: local_model_outputs_classifier_prob_habitat_suitability_CCAP_NORTH_east_coast_USA_13_4000_1000_all_predictors_depth_None/output_2023-08-04-08_23_46_366.tif\n",
      "\n",
      "\n",
      "\n",
      "\n",
      "Starting image: /Users/margauxmforstyhe/Desktop/workspace/wetlands_labs/CCAP boundaries/north_east_coast/tiles_north_east_coast_ccap_mapping_bndry_gridded_50km_50km_classes_13_CCAP_scale30/inference_tiles_scale30_697.tif\n",
      "Image opened\n"
     ]
    },
    {
     "name": "stderr",
     "output_type": "stream",
     "text": [
      "[Parallel(n_jobs=12)]: Using backend ThreadingBackend with 12 concurrent workers.\n",
      "[Parallel(n_jobs=12)]: Done  26 tasks      | elapsed:    2.2s\n",
      "[Parallel(n_jobs=12)]: Done 100 out of 100 | elapsed:    6.2s finished\n"
     ]
    },
    {
     "name": "stdout",
     "output_type": "stream",
     "text": [
      "Class prediction was successful without slicing!\n",
      "No slicing was necessary!\n",
      "Image saved to: local_model_outputs_classifier_prob_habitat_suitability_CCAP_NORTH_east_coast_USA_13_4000_1000_all_predictors_depth_None/output_2023-08-04-08_23_53_367.tif\n",
      "\n",
      "\n",
      "\n",
      "\n",
      "Starting image: /Users/margauxmforstyhe/Desktop/workspace/wetlands_labs/CCAP boundaries/north_east_coast/tiles_north_east_coast_ccap_mapping_bndry_gridded_50km_50km_classes_13_CCAP_scale30/inference_tiles_scale30_683.tif\n",
      "Image opened\n"
     ]
    },
    {
     "name": "stderr",
     "output_type": "stream",
     "text": [
      "[Parallel(n_jobs=12)]: Using backend ThreadingBackend with 12 concurrent workers.\n",
      "[Parallel(n_jobs=12)]: Done  26 tasks      | elapsed:    0.2s\n",
      "[Parallel(n_jobs=12)]: Done 100 out of 100 | elapsed:    0.6s finished\n"
     ]
    },
    {
     "name": "stdout",
     "output_type": "stream",
     "text": [
      "Class prediction was successful without slicing!\n",
      "No slicing was necessary!\n",
      "Image saved to: local_model_outputs_classifier_prob_habitat_suitability_CCAP_NORTH_east_coast_USA_13_4000_1000_all_predictors_depth_None/output_2023-08-04-08_23_54_368.tif\n",
      "\n",
      "\n",
      "\n",
      "\n",
      "Starting image: /Users/margauxmforstyhe/Desktop/workspace/wetlands_labs/CCAP boundaries/north_east_coast/tiles_north_east_coast_ccap_mapping_bndry_gridded_50km_50km_classes_13_CCAP_scale30/inference_tiles_scale30_873.tif\n",
      "Image opened\n"
     ]
    },
    {
     "name": "stderr",
     "output_type": "stream",
     "text": [
      "[Parallel(n_jobs=12)]: Using backend ThreadingBackend with 12 concurrent workers.\n",
      "[Parallel(n_jobs=12)]: Done  26 tasks      | elapsed:    1.2s\n",
      "[Parallel(n_jobs=12)]: Done 100 out of 100 | elapsed:    3.6s finished\n"
     ]
    },
    {
     "name": "stdout",
     "output_type": "stream",
     "text": [
      "Class prediction was successful without slicing!\n",
      "No slicing was necessary!\n",
      "Image saved to: local_model_outputs_classifier_prob_habitat_suitability_CCAP_NORTH_east_coast_USA_13_4000_1000_all_predictors_depth_None/output_2023-08-04-08_23_58_369.tif\n",
      "\n",
      "\n",
      "\n",
      "\n",
      "Starting image: /Users/margauxmforstyhe/Desktop/workspace/wetlands_labs/CCAP boundaries/north_east_coast/tiles_north_east_coast_ccap_mapping_bndry_gridded_50km_50km_classes_13_CCAP_scale30/inference_tiles_scale30_867.tif\n",
      "Image opened\n"
     ]
    },
    {
     "name": "stderr",
     "output_type": "stream",
     "text": [
      "[Parallel(n_jobs=12)]: Using backend ThreadingBackend with 12 concurrent workers.\n",
      "[Parallel(n_jobs=12)]: Done  26 tasks      | elapsed:    0.1s\n",
      "[Parallel(n_jobs=12)]: Done 100 out of 100 | elapsed:    0.3s finished\n",
      "[Parallel(n_jobs=12)]: Using backend ThreadingBackend with 12 concurrent workers.\n",
      "[Parallel(n_jobs=12)]: Done  26 tasks      | elapsed:    0.1s\n"
     ]
    },
    {
     "name": "stdout",
     "output_type": "stream",
     "text": [
      "Class prediction was successful without slicing!\n",
      "No slicing was necessary!\n",
      "Image saved to: local_model_outputs_classifier_prob_habitat_suitability_CCAP_NORTH_east_coast_USA_13_4000_1000_all_predictors_depth_None/output_2023-08-04-08_23_59_370.tif\n",
      "\n",
      "\n",
      "\n",
      "\n",
      "Starting image: /Users/margauxmforstyhe/Desktop/workspace/wetlands_labs/CCAP boundaries/north_east_coast/tiles_north_east_coast_ccap_mapping_bndry_gridded_50km_50km_classes_13_CCAP_scale30/inference_tiles_scale30_654.tif\n",
      "Image opened\n"
     ]
    },
    {
     "name": "stderr",
     "output_type": "stream",
     "text": [
      "[Parallel(n_jobs=12)]: Done 100 out of 100 | elapsed:    0.2s finished\n"
     ]
    },
    {
     "name": "stdout",
     "output_type": "stream",
     "text": [
      "Class prediction was successful without slicing!\n",
      "No slicing was necessary!\n",
      "Image saved to: local_model_outputs_classifier_prob_habitat_suitability_CCAP_NORTH_east_coast_USA_13_4000_1000_all_predictors_depth_None/output_2023-08-04-08_23_59_371.tif\n",
      "\n",
      "\n",
      "\n",
      "\n",
      "Starting image: /Users/margauxmforstyhe/Desktop/workspace/wetlands_labs/CCAP boundaries/north_east_coast/tiles_north_east_coast_ccap_mapping_bndry_gridded_50km_50km_classes_13_CCAP_scale30/inference_tiles_scale30_132.tif\n",
      "Image opened\n"
     ]
    },
    {
     "name": "stderr",
     "output_type": "stream",
     "text": [
      "[Parallel(n_jobs=12)]: Using backend ThreadingBackend with 12 concurrent workers.\n",
      "[Parallel(n_jobs=12)]: Done  26 tasks      | elapsed:    1.3s\n",
      "[Parallel(n_jobs=12)]: Done 100 out of 100 | elapsed:    3.7s finished\n",
      "[Parallel(n_jobs=12)]: Using backend ThreadingBackend with 12 concurrent workers.\n",
      "[Parallel(n_jobs=12)]: Done  26 tasks      | elapsed:    0.1s\n"
     ]
    },
    {
     "name": "stdout",
     "output_type": "stream",
     "text": [
      "Class prediction was successful without slicing!\n",
      "No slicing was necessary!\n",
      "Image saved to: local_model_outputs_classifier_prob_habitat_suitability_CCAP_NORTH_east_coast_USA_13_4000_1000_all_predictors_depth_None/output_2023-08-04-08_24_03_372.tif\n",
      "\n",
      "\n",
      "\n",
      "\n",
      "Starting image: /Users/margauxmforstyhe/Desktop/workspace/wetlands_labs/CCAP boundaries/north_east_coast/tiles_north_east_coast_ccap_mapping_bndry_gridded_50km_50km_classes_13_CCAP_scale30/inference_tiles_scale30_126.tif\n",
      "Image opened\n"
     ]
    },
    {
     "name": "stderr",
     "output_type": "stream",
     "text": [
      "[Parallel(n_jobs=12)]: Done 100 out of 100 | elapsed:    0.2s finished\n",
      "[Parallel(n_jobs=12)]: Using backend ThreadingBackend with 12 concurrent workers.\n",
      "[Parallel(n_jobs=12)]: Done  26 tasks      | elapsed:    0.1s\n"
     ]
    },
    {
     "name": "stdout",
     "output_type": "stream",
     "text": [
      "Class prediction was successful without slicing!\n",
      "No slicing was necessary!\n",
      "Image saved to: local_model_outputs_classifier_prob_habitat_suitability_CCAP_NORTH_east_coast_USA_13_4000_1000_all_predictors_depth_None/output_2023-08-04-08_24_04_373.tif\n",
      "\n",
      "\n",
      "\n",
      "\n",
      "Starting image: /Users/margauxmforstyhe/Desktop/workspace/wetlands_labs/CCAP boundaries/north_east_coast/tiles_north_east_coast_ccap_mapping_bndry_gridded_50km_50km_classes_13_CCAP_scale30/inference_tiles_scale30_898.tif\n",
      "Image opened\n"
     ]
    },
    {
     "name": "stderr",
     "output_type": "stream",
     "text": [
      "[Parallel(n_jobs=12)]: Done 100 out of 100 | elapsed:    0.2s finished\n"
     ]
    },
    {
     "name": "stdout",
     "output_type": "stream",
     "text": [
      "Class prediction was successful without slicing!\n",
      "No slicing was necessary!\n",
      "Image saved to: local_model_outputs_classifier_prob_habitat_suitability_CCAP_NORTH_east_coast_USA_13_4000_1000_all_predictors_depth_None/output_2023-08-04-08_24_04_374.tif\n",
      "\n",
      "\n",
      "\n",
      "\n",
      "Starting image: /Users/margauxmforstyhe/Desktop/workspace/wetlands_labs/CCAP boundaries/north_east_coast/tiles_north_east_coast_ccap_mapping_bndry_gridded_50km_50km_classes_13_CCAP_scale30/inference_tiles_scale30_640.tif\n",
      "Image opened\n"
     ]
    },
    {
     "name": "stderr",
     "output_type": "stream",
     "text": [
      "[Parallel(n_jobs=12)]: Using backend ThreadingBackend with 12 concurrent workers.\n",
      "[Parallel(n_jobs=12)]: Done  26 tasks      | elapsed:    1.1s\n",
      "[Parallel(n_jobs=12)]: Done 100 out of 100 | elapsed:    3.2s finished\n"
     ]
    },
    {
     "name": "stdout",
     "output_type": "stream",
     "text": [
      "Class prediction was successful without slicing!\n",
      "No slicing was necessary!\n",
      "Image saved to: local_model_outputs_classifier_prob_habitat_suitability_CCAP_NORTH_east_coast_USA_13_4000_1000_all_predictors_depth_None/output_2023-08-04-08_24_08_375.tif\n",
      "\n",
      "\n",
      "\n",
      "\n",
      "Starting image: /Users/margauxmforstyhe/Desktop/workspace/wetlands_labs/CCAP boundaries/north_east_coast/tiles_north_east_coast_ccap_mapping_bndry_gridded_50km_50km_classes_13_CCAP_scale30/inference_tiles_scale30_668.tif\n",
      "Image opened\n"
     ]
    },
    {
     "name": "stderr",
     "output_type": "stream",
     "text": [
      "[Parallel(n_jobs=12)]: Using backend ThreadingBackend with 12 concurrent workers.\n",
      "[Parallel(n_jobs=12)]: Done  26 tasks      | elapsed:    1.8s\n",
      "[Parallel(n_jobs=12)]: Done 100 out of 100 | elapsed:    6.4s finished\n"
     ]
    },
    {
     "name": "stdout",
     "output_type": "stream",
     "text": [
      "Class prediction was successful without slicing!\n",
      "No slicing was necessary!\n",
      "Image saved to: local_model_outputs_classifier_prob_habitat_suitability_CCAP_NORTH_east_coast_USA_13_4000_1000_all_predictors_depth_None/output_2023-08-04-08_24_15_376.tif\n",
      "\n",
      "\n",
      "\n",
      "\n",
      "Starting image: /Users/margauxmforstyhe/Desktop/workspace/wetlands_labs/CCAP boundaries/north_east_coast/tiles_north_east_coast_ccap_mapping_bndry_gridded_50km_50km_classes_13_CCAP_scale30/inference_tiles_scale30_495.tif\n",
      "Image opened\n"
     ]
    },
    {
     "name": "stderr",
     "output_type": "stream",
     "text": [
      "[Parallel(n_jobs=12)]: Using backend ThreadingBackend with 12 concurrent workers.\n",
      "[Parallel(n_jobs=12)]: Done  26 tasks      | elapsed:    1.7s\n",
      "[Parallel(n_jobs=12)]: Done 100 out of 100 | elapsed:    4.9s finished\n"
     ]
    },
    {
     "name": "stdout",
     "output_type": "stream",
     "text": [
      "Class prediction was successful without slicing!\n",
      "No slicing was necessary!\n",
      "Image saved to: local_model_outputs_classifier_prob_habitat_suitability_CCAP_NORTH_east_coast_USA_13_4000_1000_all_predictors_depth_None/output_2023-08-04-08_24_20_377.tif\n",
      "\n",
      "\n",
      "\n",
      "\n",
      "Starting image: /Users/margauxmforstyhe/Desktop/workspace/wetlands_labs/CCAP boundaries/north_east_coast/tiles_north_east_coast_ccap_mapping_bndry_gridded_50km_50km_classes_13_CCAP_scale30/inference_tiles_scale30_481.tif\n",
      "Image opened\n"
     ]
    },
    {
     "name": "stderr",
     "output_type": "stream",
     "text": [
      "[Parallel(n_jobs=12)]: Using backend ThreadingBackend with 12 concurrent workers.\n",
      "[Parallel(n_jobs=12)]: Done  26 tasks      | elapsed:    1.5s\n",
      "[Parallel(n_jobs=12)]: Done 100 out of 100 | elapsed:    4.4s finished\n"
     ]
    },
    {
     "name": "stdout",
     "output_type": "stream",
     "text": [
      "Class prediction was successful without slicing!\n",
      "No slicing was necessary!\n",
      "Image saved to: local_model_outputs_classifier_prob_habitat_suitability_CCAP_NORTH_east_coast_USA_13_4000_1000_all_predictors_depth_None/output_2023-08-04-08_24_26_378.tif\n",
      "\n",
      "\n",
      "\n",
      "\n",
      "Starting image: /Users/margauxmforstyhe/Desktop/workspace/wetlands_labs/CCAP boundaries/north_east_coast/tiles_north_east_coast_ccap_mapping_bndry_gridded_50km_50km_classes_13_CCAP_scale30/inference_tiles_scale30_33.tif\n",
      "Image opened\n"
     ]
    },
    {
     "name": "stderr",
     "output_type": "stream",
     "text": [
      "[Parallel(n_jobs=12)]: Using backend ThreadingBackend with 12 concurrent workers.\n",
      "[Parallel(n_jobs=12)]: Done  26 tasks      | elapsed:    1.5s\n",
      "[Parallel(n_jobs=12)]: Done 100 out of 100 | elapsed:    4.3s finished\n"
     ]
    },
    {
     "name": "stdout",
     "output_type": "stream",
     "text": [
      "Class prediction was successful without slicing!\n",
      "No slicing was necessary!\n",
      "Image saved to: local_model_outputs_classifier_prob_habitat_suitability_CCAP_NORTH_east_coast_USA_13_4000_1000_all_predictors_depth_None/output_2023-08-04-08_24_31_379.tif\n",
      "\n",
      "\n",
      "\n",
      "\n",
      "Starting image: /Users/margauxmforstyhe/Desktop/workspace/wetlands_labs/CCAP boundaries/north_east_coast/tiles_north_east_coast_ccap_mapping_bndry_gridded_50km_50km_classes_13_CCAP_scale30/inference_tiles_scale30_330.tif\n",
      "Image opened\n"
     ]
    },
    {
     "name": "stderr",
     "output_type": "stream",
     "text": [
      "[Parallel(n_jobs=12)]: Using backend ThreadingBackend with 12 concurrent workers.\n",
      "[Parallel(n_jobs=12)]: Done  26 tasks      | elapsed:    1.7s\n",
      "[Parallel(n_jobs=12)]: Done 100 out of 100 | elapsed:    4.9s finished\n"
     ]
    },
    {
     "name": "stdout",
     "output_type": "stream",
     "text": [
      "Class prediction was successful without slicing!\n",
      "No slicing was necessary!\n",
      "Image saved to: local_model_outputs_classifier_prob_habitat_suitability_CCAP_NORTH_east_coast_USA_13_4000_1000_all_predictors_depth_None/output_2023-08-04-08_24_37_380.tif\n",
      "\n",
      "\n",
      "\n",
      "\n",
      "Starting image: /Users/margauxmforstyhe/Desktop/workspace/wetlands_labs/CCAP boundaries/north_east_coast/tiles_north_east_coast_ccap_mapping_bndry_gridded_50km_50km_classes_13_CCAP_scale30/inference_tiles_scale30_456.tif\n",
      "Image opened\n"
     ]
    },
    {
     "name": "stderr",
     "output_type": "stream",
     "text": [
      "[Parallel(n_jobs=12)]: Using backend ThreadingBackend with 12 concurrent workers.\n",
      "[Parallel(n_jobs=12)]: Done  26 tasks      | elapsed:    1.4s\n",
      "[Parallel(n_jobs=12)]: Done 100 out of 100 | elapsed:    4.0s finished\n"
     ]
    },
    {
     "name": "stdout",
     "output_type": "stream",
     "text": [
      "Class prediction was successful without slicing!\n",
      "No slicing was necessary!\n",
      "Image saved to: local_model_outputs_classifier_prob_habitat_suitability_CCAP_NORTH_east_coast_USA_13_4000_1000_all_predictors_depth_None/output_2023-08-04-08_24_41_381.tif\n",
      "\n",
      "\n",
      "\n",
      "\n",
      "Starting image: /Users/margauxmforstyhe/Desktop/workspace/wetlands_labs/CCAP boundaries/north_east_coast/tiles_north_east_coast_ccap_mapping_bndry_gridded_50km_50km_classes_13_CCAP_scale30/inference_tiles_scale30_442.tif\n",
      "Image opened\n"
     ]
    },
    {
     "name": "stderr",
     "output_type": "stream",
     "text": [
      "[Parallel(n_jobs=12)]: Using backend ThreadingBackend with 12 concurrent workers.\n",
      "[Parallel(n_jobs=12)]: Done  26 tasks      | elapsed:    1.5s\n",
      "[Parallel(n_jobs=12)]: Done 100 out of 100 | elapsed:    4.3s finished\n"
     ]
    },
    {
     "name": "stdout",
     "output_type": "stream",
     "text": [
      "Class prediction was successful without slicing!\n",
      "No slicing was necessary!\n",
      "Image saved to: local_model_outputs_classifier_prob_habitat_suitability_CCAP_NORTH_east_coast_USA_13_4000_1000_all_predictors_depth_None/output_2023-08-04-08_24_46_382.tif\n",
      "\n",
      "\n",
      "\n",
      "\n",
      "Starting image: /Users/margauxmforstyhe/Desktop/workspace/wetlands_labs/CCAP boundaries/north_east_coast/tiles_north_east_coast_ccap_mapping_bndry_gridded_50km_50km_classes_13_CCAP_scale30/inference_tiles_scale30_27.tif\n",
      "Image opened\n"
     ]
    },
    {
     "name": "stderr",
     "output_type": "stream",
     "text": [
      "[Parallel(n_jobs=12)]: Using backend ThreadingBackend with 12 concurrent workers.\n",
      "[Parallel(n_jobs=12)]: Done  26 tasks      | elapsed:    1.5s\n",
      "[Parallel(n_jobs=12)]: Done 100 out of 100 | elapsed:    4.1s finished\n"
     ]
    },
    {
     "name": "stdout",
     "output_type": "stream",
     "text": [
      "Class prediction was successful without slicing!\n",
      "No slicing was necessary!\n",
      "Image saved to: local_model_outputs_classifier_prob_habitat_suitability_CCAP_NORTH_east_coast_USA_13_4000_1000_all_predictors_depth_None/output_2023-08-04-08_24_51_383.tif\n",
      "\n",
      "\n",
      "\n",
      "\n",
      "Starting image: /Users/margauxmforstyhe/Desktop/workspace/wetlands_labs/CCAP boundaries/north_east_coast/tiles_north_east_coast_ccap_mapping_bndry_gridded_50km_50km_classes_13_CCAP_scale30/inference_tiles_scale30_324.tif\n",
      "Image opened\n"
     ]
    },
    {
     "name": "stderr",
     "output_type": "stream",
     "text": [
      "[Parallel(n_jobs=12)]: Using backend ThreadingBackend with 12 concurrent workers.\n",
      "[Parallel(n_jobs=12)]: Done  26 tasks      | elapsed:    1.8s\n",
      "[Parallel(n_jobs=12)]: Done 100 out of 100 | elapsed:    4.8s finished\n"
     ]
    },
    {
     "name": "stdout",
     "output_type": "stream",
     "text": [
      "Class prediction was successful without slicing!\n",
      "No slicing was necessary!\n",
      "Image saved to: local_model_outputs_classifier_prob_habitat_suitability_CCAP_NORTH_east_coast_USA_13_4000_1000_all_predictors_depth_None/output_2023-08-04-08_24_57_384.tif\n",
      "\n",
      "\n",
      "\n",
      "\n",
      "Starting image: /Users/margauxmforstyhe/Desktop/workspace/wetlands_labs/CCAP boundaries/north_east_coast/tiles_north_east_coast_ccap_mapping_bndry_gridded_50km_50km_classes_13_CCAP_scale30/inference_tiles_scale30_318.tif\n",
      "Image opened\n"
     ]
    },
    {
     "name": "stderr",
     "output_type": "stream",
     "text": [
      "[Parallel(n_jobs=12)]: Using backend ThreadingBackend with 12 concurrent workers.\n",
      "[Parallel(n_jobs=12)]: Done  26 tasks      | elapsed:    1.4s\n",
      "[Parallel(n_jobs=12)]: Done 100 out of 100 | elapsed:    4.1s finished\n"
     ]
    },
    {
     "name": "stdout",
     "output_type": "stream",
     "text": [
      "Class prediction was successful without slicing!\n",
      "No slicing was necessary!\n",
      "Image saved to: local_model_outputs_classifier_prob_habitat_suitability_CCAP_NORTH_east_coast_USA_13_4000_1000_all_predictors_depth_None/output_2023-08-04-08_25_02_385.tif\n",
      "\n",
      "\n",
      "\n",
      "\n",
      "Starting image: /Users/margauxmforstyhe/Desktop/workspace/wetlands_labs/CCAP boundaries/north_east_coast/tiles_north_east_coast_ccap_mapping_bndry_gridded_50km_50km_classes_13_CCAP_scale30/inference_tiles_scale30_320.tif\n",
      "Image opened\n"
     ]
    },
    {
     "name": "stderr",
     "output_type": "stream",
     "text": [
      "[Parallel(n_jobs=12)]: Using backend ThreadingBackend with 12 concurrent workers.\n",
      "[Parallel(n_jobs=12)]: Done  26 tasks      | elapsed:    1.6s\n",
      "[Parallel(n_jobs=12)]: Done 100 out of 100 | elapsed:    4.4s finished\n"
     ]
    },
    {
     "name": "stdout",
     "output_type": "stream",
     "text": [
      "Class prediction was successful without slicing!\n",
      "No slicing was necessary!\n",
      "Image saved to: local_model_outputs_classifier_prob_habitat_suitability_CCAP_NORTH_east_coast_USA_13_4000_1000_all_predictors_depth_None/output_2023-08-04-08_25_07_386.tif\n",
      "\n",
      "\n",
      "\n",
      "\n",
      "Starting image: /Users/margauxmforstyhe/Desktop/workspace/wetlands_labs/CCAP boundaries/north_east_coast/tiles_north_east_coast_ccap_mapping_bndry_gridded_50km_50km_classes_13_CCAP_scale30/inference_tiles_scale30_23.tif\n",
      "Image opened\n"
     ]
    },
    {
     "name": "stderr",
     "output_type": "stream",
     "text": [
      "[Parallel(n_jobs=12)]: Using backend ThreadingBackend with 12 concurrent workers.\n",
      "[Parallel(n_jobs=12)]: Done  26 tasks      | elapsed:    1.7s\n",
      "[Parallel(n_jobs=12)]: Done 100 out of 100 | elapsed:    4.8s finished\n",
      "[Parallel(n_jobs=12)]: Using backend ThreadingBackend with 12 concurrent workers.\n"
     ]
    },
    {
     "name": "stdout",
     "output_type": "stream",
     "text": [
      "Class prediction was successful without slicing!\n",
      "No slicing was necessary!\n",
      "Image saved to: local_model_outputs_classifier_prob_habitat_suitability_CCAP_NORTH_east_coast_USA_13_4000_1000_all_predictors_depth_None/output_2023-08-04-08_25_12_387.tif\n",
      "\n",
      "\n",
      "\n",
      "\n",
      "Starting image: /Users/margauxmforstyhe/Desktop/workspace/wetlands_labs/CCAP boundaries/north_east_coast/tiles_north_east_coast_ccap_mapping_bndry_gridded_50km_50km_classes_13_CCAP_scale30/inference_tiles_scale30_446.tif\n",
      "Image opened\n"
     ]
    },
    {
     "name": "stderr",
     "output_type": "stream",
     "text": [
      "[Parallel(n_jobs=12)]: Done  26 tasks      | elapsed:    0.0s\n",
      "[Parallel(n_jobs=12)]: Done 100 out of 100 | elapsed:    0.1s finished\n"
     ]
    },
    {
     "name": "stdout",
     "output_type": "stream",
     "text": [
      "Class prediction was successful without slicing!\n",
      "No slicing was necessary!\n",
      "Image saved to: local_model_outputs_classifier_prob_habitat_suitability_CCAP_NORTH_east_coast_USA_13_4000_1000_all_predictors_depth_None/output_2023-08-04-08_25_13_388.tif\n",
      "\n",
      "\n",
      "\n",
      "\n",
      "Starting image: /Users/margauxmforstyhe/Desktop/workspace/wetlands_labs/CCAP boundaries/north_east_coast/tiles_north_east_coast_ccap_mapping_bndry_gridded_50km_50km_classes_13_CCAP_scale30/inference_tiles_scale30_452.tif\n",
      "Image opened\n"
     ]
    },
    {
     "name": "stderr",
     "output_type": "stream",
     "text": [
      "[Parallel(n_jobs=12)]: Using backend ThreadingBackend with 12 concurrent workers.\n",
      "[Parallel(n_jobs=12)]: Done  26 tasks      | elapsed:    1.1s\n",
      "[Parallel(n_jobs=12)]: Done 100 out of 100 | elapsed:    3.2s finished\n"
     ]
    },
    {
     "name": "stdout",
     "output_type": "stream",
     "text": [
      "Class prediction was successful without slicing!\n",
      "No slicing was necessary!\n",
      "Image saved to: local_model_outputs_classifier_prob_habitat_suitability_CCAP_NORTH_east_coast_USA_13_4000_1000_all_predictors_depth_None/output_2023-08-04-08_25_16_389.tif\n",
      "\n",
      "\n",
      "\n",
      "\n",
      "Starting image: /Users/margauxmforstyhe/Desktop/workspace/wetlands_labs/CCAP boundaries/north_east_coast/tiles_north_east_coast_ccap_mapping_bndry_gridded_50km_50km_classes_13_CCAP_scale30/inference_tiles_scale30_334.tif\n",
      "Image opened\n"
     ]
    },
    {
     "name": "stderr",
     "output_type": "stream",
     "text": [
      "[Parallel(n_jobs=12)]: Using backend ThreadingBackend with 12 concurrent workers.\n",
      "[Parallel(n_jobs=12)]: Done  26 tasks      | elapsed:    0.1s\n",
      "[Parallel(n_jobs=12)]: Done 100 out of 100 | elapsed:    0.4s finished\n"
     ]
    },
    {
     "name": "stdout",
     "output_type": "stream",
     "text": [
      "Class prediction was successful without slicing!\n",
      "No slicing was necessary!\n",
      "Image saved to: local_model_outputs_classifier_prob_habitat_suitability_CCAP_NORTH_east_coast_USA_13_4000_1000_all_predictors_depth_None/output_2023-08-04-08_25_17_390.tif\n",
      "\n",
      "\n",
      "\n",
      "\n",
      "Starting image: /Users/margauxmforstyhe/Desktop/workspace/wetlands_labs/CCAP boundaries/north_east_coast/tiles_north_east_coast_ccap_mapping_bndry_gridded_50km_50km_classes_13_CCAP_scale30/inference_tiles_scale30_37.tif\n",
      "Image opened\n"
     ]
    },
    {
     "name": "stderr",
     "output_type": "stream",
     "text": [
      "[Parallel(n_jobs=12)]: Using backend ThreadingBackend with 12 concurrent workers.\n",
      "[Parallel(n_jobs=12)]: Done  26 tasks      | elapsed:    0.8s\n",
      "[Parallel(n_jobs=12)]: Done 100 out of 100 | elapsed:    2.5s finished\n",
      "[Parallel(n_jobs=12)]: Using backend ThreadingBackend with 12 concurrent workers.\n",
      "[Parallel(n_jobs=12)]: Done  26 tasks      | elapsed:    0.0s\n"
     ]
    },
    {
     "name": "stdout",
     "output_type": "stream",
     "text": [
      "Class prediction was successful without slicing!\n",
      "No slicing was necessary!\n",
      "Image saved to: local_model_outputs_classifier_prob_habitat_suitability_CCAP_NORTH_east_coast_USA_13_4000_1000_all_predictors_depth_None/output_2023-08-04-08_25_20_391.tif\n",
      "\n",
      "\n",
      "\n",
      "\n",
      "Starting image: /Users/margauxmforstyhe/Desktop/workspace/wetlands_labs/CCAP boundaries/north_east_coast/tiles_north_east_coast_ccap_mapping_bndry_gridded_50km_50km_classes_13_CCAP_scale30/inference_tiles_scale30_308.tif\n",
      "Image opened\n"
     ]
    },
    {
     "name": "stderr",
     "output_type": "stream",
     "text": [
      "[Parallel(n_jobs=12)]: Done 100 out of 100 | elapsed:    0.1s finished\n"
     ]
    },
    {
     "name": "stdout",
     "output_type": "stream",
     "text": [
      "Class prediction was successful without slicing!\n",
      "No slicing was necessary!\n",
      "Image saved to: local_model_outputs_classifier_prob_habitat_suitability_CCAP_NORTH_east_coast_USA_13_4000_1000_all_predictors_depth_None/output_2023-08-04-08_25_20_392.tif\n",
      "\n",
      "\n",
      "\n",
      "\n",
      "Starting image: /Users/margauxmforstyhe/Desktop/workspace/wetlands_labs/CCAP boundaries/north_east_coast/tiles_north_east_coast_ccap_mapping_bndry_gridded_50km_50km_classes_13_CCAP_scale30/inference_tiles_scale30_485.tif\n",
      "Image opened\n"
     ]
    },
    {
     "name": "stderr",
     "output_type": "stream",
     "text": [
      "[Parallel(n_jobs=12)]: Using backend ThreadingBackend with 12 concurrent workers.\n",
      "[Parallel(n_jobs=12)]: Done  26 tasks      | elapsed:    1.5s\n",
      "[Parallel(n_jobs=12)]: Done 100 out of 100 | elapsed:    5.1s finished\n"
     ]
    },
    {
     "name": "stdout",
     "output_type": "stream",
     "text": [
      "Class prediction was successful without slicing!\n",
      "No slicing was necessary!\n",
      "Image saved to: local_model_outputs_classifier_prob_habitat_suitability_CCAP_NORTH_east_coast_USA_13_4000_1000_all_predictors_depth_None/output_2023-08-04-08_25_26_393.tif\n",
      "\n",
      "\n",
      "\n",
      "\n",
      "Starting image: /Users/margauxmforstyhe/Desktop/workspace/wetlands_labs/CCAP boundaries/north_east_coast/tiles_north_east_coast_ccap_mapping_bndry_gridded_50km_50km_classes_13_CCAP_scale30/inference_tiles_scale30_491.tif\n",
      "Image opened\n"
     ]
    },
    {
     "name": "stderr",
     "output_type": "stream",
     "text": [
      "[Parallel(n_jobs=12)]: Using backend ThreadingBackend with 12 concurrent workers.\n",
      "[Parallel(n_jobs=12)]: Done  26 tasks      | elapsed:    2.2s\n",
      "[Parallel(n_jobs=12)]: Done 100 out of 100 | elapsed:    5.5s finished\n"
     ]
    },
    {
     "name": "stdout",
     "output_type": "stream",
     "text": [
      "Class prediction was successful without slicing!\n",
      "No slicing was necessary!\n",
      "Image saved to: local_model_outputs_classifier_prob_habitat_suitability_CCAP_NORTH_east_coast_USA_13_4000_1000_all_predictors_depth_None/output_2023-08-04-08_25_33_394.tif\n",
      "\n",
      "\n",
      "\n",
      "\n",
      "Starting image: /Users/margauxmforstyhe/Desktop/workspace/wetlands_labs/CCAP boundaries/north_east_coast/tiles_north_east_coast_ccap_mapping_bndry_gridded_50km_50km_classes_13_CCAP_scale30/inference_tiles_scale30_644.tif\n",
      "Image opened\n"
     ]
    },
    {
     "name": "stderr",
     "output_type": "stream",
     "text": [
      "[Parallel(n_jobs=12)]: Using backend ThreadingBackend with 12 concurrent workers.\n",
      "[Parallel(n_jobs=12)]: Done  26 tasks      | elapsed:    0.3s\n",
      "[Parallel(n_jobs=12)]: Done 100 out of 100 | elapsed:    1.0s finished\n",
      "[Parallel(n_jobs=12)]: Using backend ThreadingBackend with 12 concurrent workers.\n",
      "[Parallel(n_jobs=12)]: Done  26 tasks      | elapsed:    0.0s\n",
      "[Parallel(n_jobs=12)]: Done 100 out of 100 | elapsed:    0.0s finished\n"
     ]
    },
    {
     "name": "stdout",
     "output_type": "stream",
     "text": [
      "Class prediction was successful without slicing!\n",
      "No slicing was necessary!\n",
      "Image saved to: local_model_outputs_classifier_prob_habitat_suitability_CCAP_NORTH_east_coast_USA_13_4000_1000_all_predictors_depth_None/output_2023-08-04-08_25_34_395.tif\n",
      "\n",
      "\n",
      "\n",
      "\n",
      "Starting image: /Users/margauxmforstyhe/Desktop/workspace/wetlands_labs/CCAP boundaries/north_east_coast/tiles_north_east_coast_ccap_mapping_bndry_gridded_50km_50km_classes_13_CCAP_scale30/inference_tiles_scale30_122.tif\n",
      "Image opened\n",
      "Class prediction was successful without slicing!\n",
      "No slicing was necessary!\n",
      "Image saved to: local_model_outputs_classifier_prob_habitat_suitability_CCAP_NORTH_east_coast_USA_13_4000_1000_all_predictors_depth_None/output_2023-08-04-08_25_34_396.tif\n",
      "\n",
      "\n",
      "\n",
      "\n",
      "Starting image: /Users/margauxmforstyhe/Desktop/workspace/wetlands_labs/CCAP boundaries/north_east_coast/tiles_north_east_coast_ccap_mapping_bndry_gridded_50km_50km_classes_13_CCAP_scale30/inference_tiles_scale30_136.tif\n",
      "Image opened\n"
     ]
    },
    {
     "name": "stderr",
     "output_type": "stream",
     "text": [
      "[Parallel(n_jobs=12)]: Using backend ThreadingBackend with 12 concurrent workers.\n",
      "[Parallel(n_jobs=12)]: Done  26 tasks      | elapsed:    1.4s\n",
      "[Parallel(n_jobs=12)]: Done 100 out of 100 | elapsed:    4.2s finished\n"
     ]
    },
    {
     "name": "stdout",
     "output_type": "stream",
     "text": [
      "Class prediction was successful without slicing!\n",
      "No slicing was necessary!\n",
      "Image saved to: local_model_outputs_classifier_prob_habitat_suitability_CCAP_NORTH_east_coast_USA_13_4000_1000_all_predictors_depth_None/output_2023-08-04-08_25_39_397.tif\n",
      "\n",
      "\n",
      "\n",
      "\n",
      "Starting image: /Users/margauxmforstyhe/Desktop/workspace/wetlands_labs/CCAP boundaries/north_east_coast/tiles_north_east_coast_ccap_mapping_bndry_gridded_50km_50km_classes_13_CCAP_scale30/inference_tiles_scale30_650.tif\n",
      "Image opened\n"
     ]
    },
    {
     "name": "stderr",
     "output_type": "stream",
     "text": [
      "[Parallel(n_jobs=12)]: Using backend ThreadingBackend with 12 concurrent workers.\n",
      "[Parallel(n_jobs=12)]: Done  26 tasks      | elapsed:    1.8s\n",
      "[Parallel(n_jobs=12)]: Done 100 out of 100 | elapsed:    5.1s finished\n"
     ]
    },
    {
     "name": "stdout",
     "output_type": "stream",
     "text": [
      "Class prediction was successful without slicing!\n",
      "No slicing was necessary!\n",
      "Image saved to: local_model_outputs_classifier_prob_habitat_suitability_CCAP_NORTH_east_coast_USA_13_4000_1000_all_predictors_depth_None/output_2023-08-04-08_25_45_398.tif\n",
      "\n",
      "\n",
      "\n",
      "\n",
      "Starting image: /Users/margauxmforstyhe/Desktop/workspace/wetlands_labs/CCAP boundaries/north_east_coast/tiles_north_east_coast_ccap_mapping_bndry_gridded_50km_50km_classes_13_CCAP_scale30/inference_tiles_scale30_888.tif\n",
      "Image opened\n"
     ]
    },
    {
     "name": "stderr",
     "output_type": "stream",
     "text": [
      "[Parallel(n_jobs=12)]: Using backend ThreadingBackend with 12 concurrent workers.\n",
      "[Parallel(n_jobs=12)]: Done  26 tasks      | elapsed:    0.9s\n",
      "[Parallel(n_jobs=12)]: Done 100 out of 100 | elapsed:    2.7s finished\n"
     ]
    },
    {
     "name": "stdout",
     "output_type": "stream",
     "text": [
      "Class prediction was successful without slicing!\n",
      "No slicing was necessary!\n",
      "Image saved to: local_model_outputs_classifier_prob_habitat_suitability_CCAP_NORTH_east_coast_USA_13_4000_1000_all_predictors_depth_None/output_2023-08-04-08_25_48_399.tif\n",
      "\n",
      "\n",
      "\n",
      "\n",
      "Starting image: /Users/margauxmforstyhe/Desktop/workspace/wetlands_labs/CCAP boundaries/north_east_coast/tiles_north_east_coast_ccap_mapping_bndry_gridded_50km_50km_classes_13_CCAP_scale30/inference_tiles_scale30_678.tif\n",
      "Image opened\n"
     ]
    },
    {
     "name": "stderr",
     "output_type": "stream",
     "text": [
      "[Parallel(n_jobs=12)]: Using backend ThreadingBackend with 12 concurrent workers.\n",
      "[Parallel(n_jobs=12)]: Done  26 tasks      | elapsed:    1.9s\n",
      "[Parallel(n_jobs=12)]: Done 100 out of 100 | elapsed:    5.3s finished\n"
     ]
    },
    {
     "name": "stdout",
     "output_type": "stream",
     "text": [
      "Class prediction was successful without slicing!\n",
      "No slicing was necessary!\n",
      "Image saved to: local_model_outputs_classifier_prob_habitat_suitability_CCAP_NORTH_east_coast_USA_13_4000_1000_all_predictors_depth_None/output_2023-08-04-08_25_54_400.tif\n",
      "\n",
      "\n",
      "\n",
      "\n",
      "Starting image: /Users/margauxmforstyhe/Desktop/workspace/wetlands_labs/CCAP boundaries/north_east_coast/tiles_north_east_coast_ccap_mapping_bndry_gridded_50km_50km_classes_13_CCAP_scale30/inference_tiles_scale30_687.tif\n",
      "Image opened\n"
     ]
    },
    {
     "name": "stderr",
     "output_type": "stream",
     "text": [
      "[Parallel(n_jobs=12)]: Using backend ThreadingBackend with 12 concurrent workers.\n",
      "[Parallel(n_jobs=12)]: Done  26 tasks      | elapsed:    0.3s\n",
      "[Parallel(n_jobs=12)]: Done 100 out of 100 | elapsed:    1.0s finished\n"
     ]
    },
    {
     "name": "stdout",
     "output_type": "stream",
     "text": [
      "Class prediction was successful without slicing!\n",
      "No slicing was necessary!\n",
      "Image saved to: local_model_outputs_classifier_prob_habitat_suitability_CCAP_NORTH_east_coast_USA_13_4000_1000_all_predictors_depth_None/output_2023-08-04-08_25_56_401.tif\n",
      "\n",
      "\n",
      "\n",
      "\n",
      "Starting image: /Users/margauxmforstyhe/Desktop/workspace/wetlands_labs/CCAP boundaries/north_east_coast/tiles_north_east_coast_ccap_mapping_bndry_gridded_50km_50km_classes_13_CCAP_scale30/inference_tiles_scale30_693.tif\n",
      "Image opened\n"
     ]
    },
    {
     "name": "stderr",
     "output_type": "stream",
     "text": [
      "[Parallel(n_jobs=12)]: Using backend ThreadingBackend with 12 concurrent workers.\n",
      "[Parallel(n_jobs=12)]: Done  26 tasks      | elapsed:    1.9s\n",
      "[Parallel(n_jobs=12)]: Done 100 out of 100 | elapsed:    5.6s finished\n"
     ]
    },
    {
     "name": "stdout",
     "output_type": "stream",
     "text": [
      "Class prediction was successful without slicing!\n",
      "No slicing was necessary!\n",
      "Image saved to: local_model_outputs_classifier_prob_habitat_suitability_CCAP_NORTH_east_coast_USA_13_4000_1000_all_predictors_depth_None/output_2023-08-04-08_26_02_402.tif\n",
      "\n",
      "\n",
      "\n",
      "\n",
      "Starting image: /Users/margauxmforstyhe/Desktop/workspace/wetlands_labs/CCAP boundaries/north_east_coast/tiles_north_east_coast_ccap_mapping_bndry_gridded_50km_50km_classes_13_CCAP_scale30/inference_tiles_scale30_863.tif\n",
      "Image opened\n"
     ]
    },
    {
     "name": "stderr",
     "output_type": "stream",
     "text": [
      "[Parallel(n_jobs=12)]: Using backend ThreadingBackend with 12 concurrent workers.\n",
      "[Parallel(n_jobs=12)]: Done  26 tasks      | elapsed:    1.3s\n",
      "[Parallel(n_jobs=12)]: Done 100 out of 100 | elapsed:    4.1s finished\n"
     ]
    },
    {
     "name": "stdout",
     "output_type": "stream",
     "text": [
      "Class prediction was successful without slicing!\n",
      "No slicing was necessary!\n",
      "Image saved to: local_model_outputs_classifier_prob_habitat_suitability_CCAP_NORTH_east_coast_USA_13_4000_1000_all_predictors_depth_None/output_2023-08-04-08_26_07_403.tif\n",
      "\n",
      "\n",
      "\n",
      "\n",
      "Starting image: /Users/margauxmforstyhe/Desktop/workspace/wetlands_labs/CCAP boundaries/north_east_coast/tiles_north_east_coast_ccap_mapping_bndry_gridded_50km_50km_classes_13_CCAP_scale30/inference_tiles_scale30_877.tif\n",
      "Image opened\n"
     ]
    },
    {
     "name": "stderr",
     "output_type": "stream",
     "text": [
      "[Parallel(n_jobs=12)]: Using backend ThreadingBackend with 12 concurrent workers.\n",
      "[Parallel(n_jobs=12)]: Done  26 tasks      | elapsed:    1.5s\n",
      "[Parallel(n_jobs=12)]: Done 100 out of 100 | elapsed:    4.4s finished\n"
     ]
    },
    {
     "name": "stdout",
     "output_type": "stream",
     "text": [
      "Class prediction was successful without slicing!\n",
      "No slicing was necessary!\n",
      "Image saved to: local_model_outputs_classifier_prob_habitat_suitability_CCAP_NORTH_east_coast_USA_13_4000_1000_all_predictors_depth_None/output_2023-08-04-08_26_12_404.tif\n",
      "\n",
      "\n",
      "\n",
      "\n",
      "Starting image: /Users/margauxmforstyhe/Desktop/workspace/wetlands_labs/CCAP boundaries/north_east_coast/tiles_north_east_coast_ccap_mapping_bndry_gridded_50km_50km_classes_13_CCAP_scale30/inference_tiles_scale30_730.tif\n",
      "Image opened\n"
     ]
    },
    {
     "name": "stderr",
     "output_type": "stream",
     "text": [
      "[Parallel(n_jobs=12)]: Using backend ThreadingBackend with 12 concurrent workers.\n",
      "[Parallel(n_jobs=12)]: Done  26 tasks      | elapsed:    1.0s\n",
      "[Parallel(n_jobs=12)]: Done 100 out of 100 | elapsed:    3.0s finished\n"
     ]
    },
    {
     "name": "stdout",
     "output_type": "stream",
     "text": [
      "Class prediction was successful without slicing!\n",
      "No slicing was necessary!\n",
      "Image saved to: local_model_outputs_classifier_prob_habitat_suitability_CCAP_NORTH_east_coast_USA_13_4000_1000_all_predictors_depth_None/output_2023-08-04-08_26_16_405.tif\n",
      "\n",
      "\n",
      "\n",
      "\n",
      "Starting image: /Users/margauxmforstyhe/Desktop/workspace/wetlands_labs/CCAP boundaries/north_east_coast/tiles_north_east_coast_ccap_mapping_bndry_gridded_50km_50km_classes_13_CCAP_scale30/inference_tiles_scale30_724.tif\n",
      "Image opened\n"
     ]
    },
    {
     "name": "stderr",
     "output_type": "stream",
     "text": [
      "[Parallel(n_jobs=12)]: Using backend ThreadingBackend with 12 concurrent workers.\n",
      "[Parallel(n_jobs=12)]: Done  26 tasks      | elapsed:    0.4s\n",
      "[Parallel(n_jobs=12)]: Done 100 out of 100 | elapsed:    1.2s finished\n"
     ]
    },
    {
     "name": "stdout",
     "output_type": "stream",
     "text": [
      "Class prediction was successful without slicing!\n",
      "No slicing was necessary!\n",
      "Image saved to: local_model_outputs_classifier_prob_habitat_suitability_CCAP_NORTH_east_coast_USA_13_4000_1000_all_predictors_depth_None/output_2023-08-04-08_26_18_406.tif\n",
      "\n",
      "\n",
      "\n",
      "\n",
      "Starting image: /Users/margauxmforstyhe/Desktop/workspace/wetlands_labs/CCAP boundaries/north_east_coast/tiles_north_east_coast_ccap_mapping_bndry_gridded_50km_50km_classes_13_CCAP_scale30/inference_tiles_scale30_718.tif\n",
      "Image opened\n"
     ]
    },
    {
     "name": "stderr",
     "output_type": "stream",
     "text": [
      "[Parallel(n_jobs=12)]: Using backend ThreadingBackend with 12 concurrent workers.\n",
      "[Parallel(n_jobs=12)]: Done  26 tasks      | elapsed:    1.3s\n",
      "[Parallel(n_jobs=12)]: Done 100 out of 100 | elapsed:    3.3s finished\n"
     ]
    },
    {
     "name": "stdout",
     "output_type": "stream",
     "text": [
      "Class prediction was successful without slicing!\n",
      "No slicing was necessary!\n",
      "Image saved to: local_model_outputs_classifier_prob_habitat_suitability_CCAP_NORTH_east_coast_USA_13_4000_1000_all_predictors_depth_None/output_2023-08-04-08_26_22_407.tif\n",
      "\n",
      "\n",
      "\n",
      "\n",
      "Starting image: /Users/margauxmforstyhe/Desktop/workspace/wetlands_labs/CCAP boundaries/north_east_coast/tiles_north_east_coast_ccap_mapping_bndry_gridded_50km_50km_classes_13_CCAP_scale30/inference_tiles_scale30_917.tif\n",
      "Image opened\n"
     ]
    },
    {
     "name": "stderr",
     "output_type": "stream",
     "text": [
      "[Parallel(n_jobs=12)]: Using backend ThreadingBackend with 12 concurrent workers.\n",
      "[Parallel(n_jobs=12)]: Done  26 tasks      | elapsed:    1.4s\n",
      "[Parallel(n_jobs=12)]: Done 100 out of 100 | elapsed:    4.0s finished\n"
     ]
    },
    {
     "name": "stdout",
     "output_type": "stream",
     "text": [
      "Class prediction was successful without slicing!\n",
      "No slicing was necessary!\n",
      "Image saved to: local_model_outputs_classifier_prob_habitat_suitability_CCAP_NORTH_east_coast_USA_13_4000_1000_all_predictors_depth_None/output_2023-08-04-08_26_26_408.tif\n",
      "\n",
      "\n",
      "\n",
      "\n",
      "Starting image: /Users/margauxmforstyhe/Desktop/workspace/wetlands_labs/CCAP boundaries/north_east_coast/tiles_north_east_coast_ccap_mapping_bndry_gridded_50km_50km_classes_13_CCAP_scale30/inference_tiles_scale30_903.tif\n",
      "Image opened\n"
     ]
    },
    {
     "name": "stderr",
     "output_type": "stream",
     "text": [
      "[Parallel(n_jobs=12)]: Using backend ThreadingBackend with 12 concurrent workers.\n",
      "[Parallel(n_jobs=12)]: Done  26 tasks      | elapsed:    0.3s\n",
      "[Parallel(n_jobs=12)]: Done 100 out of 100 | elapsed:    0.8s finished\n"
     ]
    },
    {
     "name": "stdout",
     "output_type": "stream",
     "text": [
      "Class prediction was successful without slicing!\n",
      "No slicing was necessary!\n",
      "Image saved to: local_model_outputs_classifier_prob_habitat_suitability_CCAP_NORTH_east_coast_USA_13_4000_1000_all_predictors_depth_None/output_2023-08-04-08_26_27_409.tif\n",
      "\n",
      "\n",
      "\n",
      "\n",
      "Starting image: /Users/margauxmforstyhe/Desktop/workspace/wetlands_labs/CCAP boundaries/north_east_coast/tiles_north_east_coast_ccap_mapping_bndry_gridded_50km_50km_classes_13_CCAP_scale30/inference_tiles_scale30_254.tif\n",
      "Image opened\n"
     ]
    },
    {
     "name": "stderr",
     "output_type": "stream",
     "text": [
      "[Parallel(n_jobs=12)]: Using backend ThreadingBackend with 12 concurrent workers.\n",
      "[Parallel(n_jobs=12)]: Done  26 tasks      | elapsed:    1.4s\n",
      "[Parallel(n_jobs=12)]: Done 100 out of 100 | elapsed:    4.3s finished\n"
     ]
    },
    {
     "name": "stdout",
     "output_type": "stream",
     "text": [
      "Class prediction was successful without slicing!\n",
      "No slicing was necessary!\n",
      "Image saved to: local_model_outputs_classifier_prob_habitat_suitability_CCAP_NORTH_east_coast_USA_13_4000_1000_all_predictors_depth_None/output_2023-08-04-08_26_32_410.tif\n",
      "\n",
      "\n",
      "\n",
      "\n",
      "Starting image: /Users/margauxmforstyhe/Desktop/workspace/wetlands_labs/CCAP boundaries/north_east_coast/tiles_north_east_coast_ccap_mapping_bndry_gridded_50km_50km_classes_13_CCAP_scale30/inference_tiles_scale30_532.tif\n",
      "Image opened\n"
     ]
    },
    {
     "name": "stderr",
     "output_type": "stream",
     "text": [
      "[Parallel(n_jobs=12)]: Using backend ThreadingBackend with 12 concurrent workers.\n",
      "[Parallel(n_jobs=12)]: Done  26 tasks      | elapsed:    1.9s\n",
      "[Parallel(n_jobs=12)]: Done 100 out of 100 | elapsed:    5.4s finished\n"
     ]
    },
    {
     "name": "stdout",
     "output_type": "stream",
     "text": [
      "Class prediction was successful without slicing!\n",
      "No slicing was necessary!\n",
      "Image saved to: local_model_outputs_classifier_prob_habitat_suitability_CCAP_NORTH_east_coast_USA_13_4000_1000_all_predictors_depth_None/output_2023-08-04-08_26_39_411.tif\n",
      "\n",
      "\n",
      "\n",
      "\n",
      "Starting image: /Users/margauxmforstyhe/Desktop/workspace/wetlands_labs/CCAP boundaries/north_east_coast/tiles_north_east_coast_ccap_mapping_bndry_gridded_50km_50km_classes_13_CCAP_scale30/inference_tiles_scale30_526.tif\n",
      "Image opened\n"
     ]
    },
    {
     "name": "stderr",
     "output_type": "stream",
     "text": [
      "[Parallel(n_jobs=12)]: Using backend ThreadingBackend with 12 concurrent workers.\n",
      "[Parallel(n_jobs=12)]: Done  26 tasks      | elapsed:    1.6s\n",
      "[Parallel(n_jobs=12)]: Done 100 out of 100 | elapsed:    4.8s finished\n"
     ]
    },
    {
     "name": "stdout",
     "output_type": "stream",
     "text": [
      "Class prediction was successful without slicing!\n",
      "No slicing was necessary!\n",
      "Image saved to: local_model_outputs_classifier_prob_habitat_suitability_CCAP_NORTH_east_coast_USA_13_4000_1000_all_predictors_depth_None/output_2023-08-04-08_26_44_412.tif\n",
      "\n",
      "\n",
      "\n",
      "\n",
      "Starting image: /Users/margauxmforstyhe/Desktop/workspace/wetlands_labs/CCAP boundaries/north_east_coast/tiles_north_east_coast_ccap_mapping_bndry_gridded_50km_50km_classes_13_CCAP_scale30/inference_tiles_scale30_240.tif\n",
      "Image opened\n"
     ]
    },
    {
     "name": "stderr",
     "output_type": "stream",
     "text": [
      "[Parallel(n_jobs=12)]: Using backend ThreadingBackend with 12 concurrent workers.\n",
      "[Parallel(n_jobs=12)]: Done  26 tasks      | elapsed:    1.0s\n",
      "[Parallel(n_jobs=12)]: Done 100 out of 100 | elapsed:    2.8s finished\n"
     ]
    },
    {
     "name": "stdout",
     "output_type": "stream",
     "text": [
      "Class prediction was successful without slicing!\n",
      "No slicing was necessary!\n",
      "Image saved to: local_model_outputs_classifier_prob_habitat_suitability_CCAP_NORTH_east_coast_USA_13_4000_1000_all_predictors_depth_None/output_2023-08-04-08_26_48_413.tif\n",
      "\n",
      "\n",
      "\n",
      "\n",
      "Starting image: /Users/margauxmforstyhe/Desktop/workspace/wetlands_labs/CCAP boundaries/north_east_coast/tiles_north_east_coast_ccap_mapping_bndry_gridded_50km_50km_classes_13_CCAP_scale30/inference_tiles_scale30_268.tif\n",
      "Image opened\n"
     ]
    },
    {
     "name": "stderr",
     "output_type": "stream",
     "text": [
      "[Parallel(n_jobs=12)]: Using backend ThreadingBackend with 12 concurrent workers.\n",
      "[Parallel(n_jobs=12)]: Done  26 tasks      | elapsed:    2.0s\n",
      "[Parallel(n_jobs=12)]: Done 100 out of 100 | elapsed:    5.3s finished\n"
     ]
    },
    {
     "name": "stdout",
     "output_type": "stream",
     "text": [
      "Class prediction was successful without slicing!\n",
      "No slicing was necessary!\n",
      "Image saved to: local_model_outputs_classifier_prob_habitat_suitability_CCAP_NORTH_east_coast_USA_13_4000_1000_all_predictors_depth_None/output_2023-08-04-08_26_54_414.tif\n",
      "\n",
      "\n",
      "\n",
      "\n",
      "Starting image: /Users/margauxmforstyhe/Desktop/workspace/wetlands_labs/CCAP boundaries/north_east_coast/tiles_north_east_coast_ccap_mapping_bndry_gridded_50km_50km_classes_13_CCAP_scale30/inference_tiles_scale30_297.tif\n",
      "Image opened\n"
     ]
    },
    {
     "name": "stderr",
     "output_type": "stream",
     "text": [
      "[Parallel(n_jobs=12)]: Using backend ThreadingBackend with 12 concurrent workers.\n",
      "[Parallel(n_jobs=12)]: Done  26 tasks      | elapsed:    1.0s\n",
      "[Parallel(n_jobs=12)]: Done 100 out of 100 | elapsed:    2.8s finished\n"
     ]
    },
    {
     "name": "stdout",
     "output_type": "stream",
     "text": [
      "Class prediction was successful without slicing!\n",
      "No slicing was necessary!\n",
      "Image saved to: local_model_outputs_classifier_prob_habitat_suitability_CCAP_NORTH_east_coast_USA_13_4000_1000_all_predictors_depth_None/output_2023-08-04-08_26_58_415.tif\n",
      "\n",
      "\n",
      "\n",
      "\n",
      "Starting image: /Users/margauxmforstyhe/Desktop/workspace/wetlands_labs/CCAP boundaries/north_east_coast/tiles_north_east_coast_ccap_mapping_bndry_gridded_50km_50km_classes_13_CCAP_scale30/inference_tiles_scale30_283.tif\n",
      "Image opened\n"
     ]
    },
    {
     "name": "stderr",
     "output_type": "stream",
     "text": [
      "[Parallel(n_jobs=12)]: Using backend ThreadingBackend with 12 concurrent workers.\n",
      "[Parallel(n_jobs=12)]: Done  26 tasks      | elapsed:    1.2s\n",
      "[Parallel(n_jobs=12)]: Done 100 out of 100 | elapsed:    3.5s finished\n"
     ]
    },
    {
     "name": "stdout",
     "output_type": "stream",
     "text": [
      "Class prediction was successful without slicing!\n",
      "No slicing was necessary!\n",
      "Image saved to: local_model_outputs_classifier_prob_habitat_suitability_CCAP_NORTH_east_coast_USA_13_4000_1000_all_predictors_depth_None/output_2023-08-04-08_27_02_416.tif\n",
      "\n",
      "\n",
      "\n",
      "\n",
      "Starting image: /Users/margauxmforstyhe/Desktop/workspace/wetlands_labs/CCAP boundaries/north_east_coast/tiles_north_east_coast_ccap_mapping_bndry_gridded_50km_50km_classes_13_CCAP_scale30/inference_tiles_scale30_282.tif\n",
      "Image opened\n"
     ]
    },
    {
     "name": "stderr",
     "output_type": "stream",
     "text": [
      "[Parallel(n_jobs=12)]: Using backend ThreadingBackend with 12 concurrent workers.\n",
      "[Parallel(n_jobs=12)]: Done  26 tasks      | elapsed:    0.8s\n",
      "[Parallel(n_jobs=12)]: Done 100 out of 100 | elapsed:    3.7s finished\n"
     ]
    },
    {
     "name": "stdout",
     "output_type": "stream",
     "text": [
      "Class prediction was successful without slicing!\n",
      "No slicing was necessary!\n",
      "Image saved to: local_model_outputs_classifier_prob_habitat_suitability_CCAP_NORTH_east_coast_USA_13_4000_1000_all_predictors_depth_None/output_2023-08-04-08_27_06_417.tif\n",
      "\n",
      "\n",
      "\n",
      "\n",
      "Starting image: /Users/margauxmforstyhe/Desktop/workspace/wetlands_labs/CCAP boundaries/north_east_coast/tiles_north_east_coast_ccap_mapping_bndry_gridded_50km_50km_classes_13_CCAP_scale30/inference_tiles_scale30_296.tif\n",
      "Image opened\n"
     ]
    },
    {
     "name": "stderr",
     "output_type": "stream",
     "text": [
      "[Parallel(n_jobs=12)]: Using backend ThreadingBackend with 12 concurrent workers.\n",
      "[Parallel(n_jobs=12)]: Done  26 tasks      | elapsed:    1.8s\n",
      "[Parallel(n_jobs=12)]: Done 100 out of 100 | elapsed:    3.5s finished\n"
     ]
    },
    {
     "name": "stdout",
     "output_type": "stream",
     "text": [
      "Class prediction was successful without slicing!\n",
      "No slicing was necessary!\n",
      "Image saved to: local_model_outputs_classifier_prob_habitat_suitability_CCAP_NORTH_east_coast_USA_13_4000_1000_all_predictors_depth_None/output_2023-08-04-08_27_10_418.tif\n",
      "\n",
      "\n",
      "\n",
      "\n",
      "Starting image: /Users/margauxmforstyhe/Desktop/workspace/wetlands_labs/CCAP boundaries/north_east_coast/tiles_north_east_coast_ccap_mapping_bndry_gridded_50km_50km_classes_13_CCAP_scale30/inference_tiles_scale30_269.tif\n",
      "Image opened\n"
     ]
    },
    {
     "name": "stderr",
     "output_type": "stream",
     "text": [
      "[Parallel(n_jobs=12)]: Using backend ThreadingBackend with 12 concurrent workers.\n",
      "[Parallel(n_jobs=12)]: Done  26 tasks      | elapsed:    1.0s\n",
      "[Parallel(n_jobs=12)]: Done 100 out of 100 | elapsed:    3.0s finished\n"
     ]
    },
    {
     "name": "stdout",
     "output_type": "stream",
     "text": [
      "Class prediction was successful without slicing!\n",
      "No slicing was necessary!\n",
      "Image saved to: local_model_outputs_classifier_prob_habitat_suitability_CCAP_NORTH_east_coast_USA_13_4000_1000_all_predictors_depth_None/output_2023-08-04-08_27_14_419.tif\n",
      "\n",
      "\n",
      "\n",
      "\n",
      "Starting image: /Users/margauxmforstyhe/Desktop/workspace/wetlands_labs/CCAP boundaries/north_east_coast/tiles_north_east_coast_ccap_mapping_bndry_gridded_50km_50km_classes_13_CCAP_scale30/inference_tiles_scale30_527.tif\n",
      "Image opened\n"
     ]
    },
    {
     "name": "stderr",
     "output_type": "stream",
     "text": [
      "[Parallel(n_jobs=12)]: Using backend ThreadingBackend with 12 concurrent workers.\n",
      "[Parallel(n_jobs=12)]: Done  26 tasks      | elapsed:    2.0s\n",
      "[Parallel(n_jobs=12)]: Done 100 out of 100 | elapsed:    5.6s finished\n"
     ]
    },
    {
     "name": "stdout",
     "output_type": "stream",
     "text": [
      "Class prediction was successful without slicing!\n",
      "No slicing was necessary!\n",
      "Image saved to: local_model_outputs_classifier_prob_habitat_suitability_CCAP_NORTH_east_coast_USA_13_4000_1000_all_predictors_depth_None/output_2023-08-04-08_27_20_420.tif\n",
      "\n",
      "\n",
      "\n",
      "\n",
      "Starting image: /Users/margauxmforstyhe/Desktop/workspace/wetlands_labs/CCAP boundaries/north_east_coast/tiles_north_east_coast_ccap_mapping_bndry_gridded_50km_50km_classes_13_CCAP_scale30/inference_tiles_scale30_241.tif\n",
      "Image opened\n"
     ]
    },
    {
     "name": "stderr",
     "output_type": "stream",
     "text": [
      "[Parallel(n_jobs=12)]: Using backend ThreadingBackend with 12 concurrent workers.\n",
      "[Parallel(n_jobs=12)]: Done  26 tasks      | elapsed:    1.3s\n",
      "[Parallel(n_jobs=12)]: Done 100 out of 100 | elapsed:    3.7s finished\n"
     ]
    },
    {
     "name": "stdout",
     "output_type": "stream",
     "text": [
      "Class prediction was successful without slicing!\n",
      "No slicing was necessary!\n",
      "Image saved to: local_model_outputs_classifier_prob_habitat_suitability_CCAP_NORTH_east_coast_USA_13_4000_1000_all_predictors_depth_None/output_2023-08-04-08_27_25_421.tif\n",
      "\n",
      "\n",
      "\n",
      "\n",
      "Starting image: /Users/margauxmforstyhe/Desktop/workspace/wetlands_labs/CCAP boundaries/north_east_coast/tiles_north_east_coast_ccap_mapping_bndry_gridded_50km_50km_classes_13_CCAP_scale30/inference_tiles_scale30_255.tif\n",
      "Image opened\n"
     ]
    },
    {
     "name": "stderr",
     "output_type": "stream",
     "text": [
      "[Parallel(n_jobs=12)]: Using backend ThreadingBackend with 12 concurrent workers.\n",
      "[Parallel(n_jobs=12)]: Done  26 tasks      | elapsed:    0.1s\n",
      "[Parallel(n_jobs=12)]: Done 100 out of 100 | elapsed:    0.4s finished\n"
     ]
    },
    {
     "name": "stdout",
     "output_type": "stream",
     "text": [
      "Class prediction was successful without slicing!\n",
      "No slicing was necessary!\n",
      "Image saved to: local_model_outputs_classifier_prob_habitat_suitability_CCAP_NORTH_east_coast_USA_13_4000_1000_all_predictors_depth_None/output_2023-08-04-08_27_25_422.tif\n",
      "\n",
      "\n",
      "\n",
      "\n",
      "Starting image: /Users/margauxmforstyhe/Desktop/workspace/wetlands_labs/CCAP boundaries/north_east_coast/tiles_north_east_coast_ccap_mapping_bndry_gridded_50km_50km_classes_13_CCAP_scale30/inference_tiles_scale30_533.tif\n",
      "Image opened\n"
     ]
    },
    {
     "name": "stderr",
     "output_type": "stream",
     "text": [
      "[Parallel(n_jobs=12)]: Using backend ThreadingBackend with 12 concurrent workers.\n",
      "[Parallel(n_jobs=12)]: Done  26 tasks      | elapsed:    2.1s\n",
      "[Parallel(n_jobs=12)]: Done 100 out of 100 | elapsed:    5.4s finished\n"
     ]
    },
    {
     "name": "stdout",
     "output_type": "stream",
     "text": [
      "Class prediction was successful without slicing!\n",
      "No slicing was necessary!\n",
      "Image saved to: local_model_outputs_classifier_prob_habitat_suitability_CCAP_NORTH_east_coast_USA_13_4000_1000_all_predictors_depth_None/output_2023-08-04-08_27_32_423.tif\n",
      "\n",
      "\n",
      "\n",
      "\n",
      "Starting image: /Users/margauxmforstyhe/Desktop/workspace/wetlands_labs/CCAP boundaries/north_east_coast/tiles_north_east_coast_ccap_mapping_bndry_gridded_50km_50km_classes_13_CCAP_scale30/inference_tiles_scale30_902.tif\n",
      "Image opened\n"
     ]
    },
    {
     "name": "stderr",
     "output_type": "stream",
     "text": [
      "[Parallel(n_jobs=12)]: Using backend ThreadingBackend with 12 concurrent workers.\n",
      "[Parallel(n_jobs=12)]: Done  26 tasks      | elapsed:    1.0s\n",
      "[Parallel(n_jobs=12)]: Done 100 out of 100 | elapsed:    2.7s finished\n"
     ]
    },
    {
     "name": "stdout",
     "output_type": "stream",
     "text": [
      "Class prediction was successful without slicing!\n",
      "No slicing was necessary!\n",
      "Image saved to: local_model_outputs_classifier_prob_habitat_suitability_CCAP_NORTH_east_coast_USA_13_4000_1000_all_predictors_depth_None/output_2023-08-04-08_27_35_424.tif\n",
      "\n",
      "\n",
      "\n",
      "\n",
      "Starting image: /Users/margauxmforstyhe/Desktop/workspace/wetlands_labs/CCAP boundaries/north_east_coast/tiles_north_east_coast_ccap_mapping_bndry_gridded_50km_50km_classes_13_CCAP_scale30/inference_tiles_scale30_916.tif\n",
      "Image opened\n"
     ]
    },
    {
     "name": "stderr",
     "output_type": "stream",
     "text": [
      "[Parallel(n_jobs=12)]: Using backend ThreadingBackend with 12 concurrent workers.\n",
      "[Parallel(n_jobs=12)]: Done  26 tasks      | elapsed:    1.5s\n",
      "[Parallel(n_jobs=12)]: Done 100 out of 100 | elapsed:    4.4s finished\n"
     ]
    },
    {
     "name": "stdout",
     "output_type": "stream",
     "text": [
      "Class prediction was successful without slicing!\n",
      "No slicing was necessary!\n",
      "Image saved to: local_model_outputs_classifier_prob_habitat_suitability_CCAP_NORTH_east_coast_USA_13_4000_1000_all_predictors_depth_None/output_2023-08-04-08_27_40_425.tif\n",
      "\n",
      "\n",
      "\n",
      "\n",
      "Starting image: /Users/margauxmforstyhe/Desktop/workspace/wetlands_labs/CCAP boundaries/north_east_coast/tiles_north_east_coast_ccap_mapping_bndry_gridded_50km_50km_classes_13_CCAP_scale30/inference_tiles_scale30_719.tif\n",
      "Image opened\n"
     ]
    },
    {
     "name": "stderr",
     "output_type": "stream",
     "text": [
      "[Parallel(n_jobs=12)]: Using backend ThreadingBackend with 12 concurrent workers.\n",
      "[Parallel(n_jobs=12)]: Done  26 tasks      | elapsed:    1.2s\n",
      "[Parallel(n_jobs=12)]: Done 100 out of 100 | elapsed:    3.7s finished\n"
     ]
    },
    {
     "name": "stdout",
     "output_type": "stream",
     "text": [
      "Class prediction was successful without slicing!\n",
      "No slicing was necessary!\n",
      "Image saved to: local_model_outputs_classifier_prob_habitat_suitability_CCAP_NORTH_east_coast_USA_13_4000_1000_all_predictors_depth_None/output_2023-08-04-08_27_45_426.tif\n",
      "\n",
      "\n",
      "\n",
      "\n",
      "Starting image: /Users/margauxmforstyhe/Desktop/workspace/wetlands_labs/CCAP boundaries/north_east_coast/tiles_north_east_coast_ccap_mapping_bndry_gridded_50km_50km_classes_13_CCAP_scale30/inference_tiles_scale30_725.tif\n",
      "Image opened\n"
     ]
    },
    {
     "name": "stderr",
     "output_type": "stream",
     "text": [
      "[Parallel(n_jobs=12)]: Using backend ThreadingBackend with 12 concurrent workers.\n",
      "[Parallel(n_jobs=12)]: Done  26 tasks      | elapsed:    0.7s\n",
      "[Parallel(n_jobs=12)]: Done 100 out of 100 | elapsed:    2.0s finished\n"
     ]
    },
    {
     "name": "stdout",
     "output_type": "stream",
     "text": [
      "Class prediction was successful without slicing!\n",
      "No slicing was necessary!\n",
      "Image saved to: local_model_outputs_classifier_prob_habitat_suitability_CCAP_NORTH_east_coast_USA_13_4000_1000_all_predictors_depth_None/output_2023-08-04-08_27_47_427.tif\n",
      "\n",
      "\n",
      "\n",
      "\n",
      "Starting image: /Users/margauxmforstyhe/Desktop/workspace/wetlands_labs/CCAP boundaries/north_east_coast/tiles_north_east_coast_ccap_mapping_bndry_gridded_50km_50km_classes_13_CCAP_scale30/inference_tiles_scale30_731.tif\n",
      "Image opened\n"
     ]
    },
    {
     "name": "stderr",
     "output_type": "stream",
     "text": [
      "[Parallel(n_jobs=12)]: Using backend ThreadingBackend with 12 concurrent workers.\n",
      "[Parallel(n_jobs=12)]: Done  26 tasks      | elapsed:    1.5s\n",
      "[Parallel(n_jobs=12)]: Done 100 out of 100 | elapsed:    4.5s finished\n"
     ]
    },
    {
     "name": "stdout",
     "output_type": "stream",
     "text": [
      "Class prediction was successful without slicing!\n",
      "No slicing was necessary!\n",
      "Image saved to: local_model_outputs_classifier_prob_habitat_suitability_CCAP_NORTH_east_coast_USA_13_4000_1000_all_predictors_depth_None/output_2023-08-04-08_27_53_428.tif\n",
      "\n",
      "\n",
      "\n",
      "\n",
      "Starting image: /Users/margauxmforstyhe/Desktop/workspace/wetlands_labs/CCAP boundaries/north_east_coast/tiles_north_east_coast_ccap_mapping_bndry_gridded_50km_50km_classes_13_CCAP_scale30/inference_tiles_scale30_876.tif\n",
      "Image opened\n"
     ]
    },
    {
     "name": "stderr",
     "output_type": "stream",
     "text": [
      "[Parallel(n_jobs=12)]: Using backend ThreadingBackend with 12 concurrent workers.\n",
      "[Parallel(n_jobs=12)]: Done  26 tasks      | elapsed:    1.4s\n",
      "[Parallel(n_jobs=12)]: Done 100 out of 100 | elapsed:    4.2s finished\n"
     ]
    },
    {
     "name": "stdout",
     "output_type": "stream",
     "text": [
      "Class prediction was successful without slicing!\n",
      "No slicing was necessary!\n",
      "Image saved to: local_model_outputs_classifier_prob_habitat_suitability_CCAP_NORTH_east_coast_USA_13_4000_1000_all_predictors_depth_None/output_2023-08-04-08_27_58_429.tif\n",
      "\n",
      "\n",
      "\n",
      "\n",
      "Starting image: /Users/margauxmforstyhe/Desktop/workspace/wetlands_labs/CCAP boundaries/north_east_coast/tiles_north_east_coast_ccap_mapping_bndry_gridded_50km_50km_classes_13_CCAP_scale30/inference_tiles_scale30_862.tif\n",
      "Image opened\n"
     ]
    },
    {
     "name": "stderr",
     "output_type": "stream",
     "text": [
      "[Parallel(n_jobs=12)]: Using backend ThreadingBackend with 12 concurrent workers.\n",
      "[Parallel(n_jobs=12)]: Done  26 tasks      | elapsed:    1.9s\n",
      "[Parallel(n_jobs=12)]: Done 100 out of 100 | elapsed:    5.3s finished\n"
     ]
    },
    {
     "name": "stdout",
     "output_type": "stream",
     "text": [
      "Class prediction was successful without slicing!\n",
      "No slicing was necessary!\n",
      "Image saved to: local_model_outputs_classifier_prob_habitat_suitability_CCAP_NORTH_east_coast_USA_13_4000_1000_all_predictors_depth_None/output_2023-08-04-08_28_04_430.tif\n",
      "\n",
      "\n",
      "\n",
      "\n",
      "Starting image: /Users/margauxmforstyhe/Desktop/workspace/wetlands_labs/CCAP boundaries/north_east_coast/tiles_north_east_coast_ccap_mapping_bndry_gridded_50km_50km_classes_13_CCAP_scale30/inference_tiles_scale30_692.tif\n",
      "Image opened\n"
     ]
    },
    {
     "name": "stderr",
     "output_type": "stream",
     "text": [
      "[Parallel(n_jobs=12)]: Using backend ThreadingBackend with 12 concurrent workers.\n",
      "[Parallel(n_jobs=12)]: Done  26 tasks      | elapsed:    1.5s\n",
      "[Parallel(n_jobs=12)]: Done 100 out of 100 | elapsed:    4.4s finished\n"
     ]
    },
    {
     "name": "stdout",
     "output_type": "stream",
     "text": [
      "Class prediction was successful without slicing!\n",
      "No slicing was necessary!\n",
      "Image saved to: local_model_outputs_classifier_prob_habitat_suitability_CCAP_NORTH_east_coast_USA_13_4000_1000_all_predictors_depth_None/output_2023-08-04-08_28_09_431.tif\n",
      "\n",
      "\n",
      "\n",
      "\n",
      "Starting image: /Users/margauxmforstyhe/Desktop/workspace/wetlands_labs/CCAP boundaries/north_east_coast/tiles_north_east_coast_ccap_mapping_bndry_gridded_50km_50km_classes_13_CCAP_scale30/inference_tiles_scale30_686.tif\n",
      "Image opened\n"
     ]
    },
    {
     "name": "stderr",
     "output_type": "stream",
     "text": [
      "[Parallel(n_jobs=12)]: Using backend ThreadingBackend with 12 concurrent workers.\n",
      "[Parallel(n_jobs=12)]: Done  26 tasks      | elapsed:    1.7s\n",
      "[Parallel(n_jobs=12)]: Done 100 out of 100 | elapsed:    5.0s finished\n"
     ]
    },
    {
     "name": "stdout",
     "output_type": "stream",
     "text": [
      "Class prediction was successful without slicing!\n",
      "No slicing was necessary!\n",
      "Image saved to: local_model_outputs_classifier_prob_habitat_suitability_CCAP_NORTH_east_coast_USA_13_4000_1000_all_predictors_depth_None/output_2023-08-04-08_28_15_432.tif\n",
      "\n",
      "\n",
      "\n",
      "\n",
      "Starting image: /Users/margauxmforstyhe/Desktop/workspace/wetlands_labs/CCAP boundaries/north_east_coast/tiles_north_east_coast_ccap_mapping_bndry_gridded_50km_50km_classes_13_CCAP_scale30/inference_tiles_scale30_679.tif\n",
      "Image opened\n"
     ]
    },
    {
     "name": "stderr",
     "output_type": "stream",
     "text": [
      "[Parallel(n_jobs=12)]: Using backend ThreadingBackend with 12 concurrent workers.\n",
      "[Parallel(n_jobs=12)]: Done  26 tasks      | elapsed:    1.9s\n",
      "[Parallel(n_jobs=12)]: Done 100 out of 100 | elapsed:    5.5s finished\n"
     ]
    },
    {
     "name": "stdout",
     "output_type": "stream",
     "text": [
      "Class prediction was successful without slicing!\n",
      "No slicing was necessary!\n",
      "Image saved to: local_model_outputs_classifier_prob_habitat_suitability_CCAP_NORTH_east_coast_USA_13_4000_1000_all_predictors_depth_None/output_2023-08-04-08_28_22_433.tif\n",
      "\n",
      "\n",
      "\n",
      "\n",
      "Starting image: /Users/margauxmforstyhe/Desktop/workspace/wetlands_labs/CCAP boundaries/north_east_coast/tiles_north_east_coast_ccap_mapping_bndry_gridded_50km_50km_classes_13_CCAP_scale30/inference_tiles_scale30_137.tif\n",
      "Image opened\n"
     ]
    },
    {
     "name": "stderr",
     "output_type": "stream",
     "text": [
      "[Parallel(n_jobs=12)]: Using backend ThreadingBackend with 12 concurrent workers.\n",
      "[Parallel(n_jobs=12)]: Done  26 tasks      | elapsed:    1.4s\n",
      "[Parallel(n_jobs=12)]: Done 100 out of 100 | elapsed:    4.1s finished\n",
      "[Parallel(n_jobs=12)]: Using backend ThreadingBackend with 12 concurrent workers.\n"
     ]
    },
    {
     "name": "stdout",
     "output_type": "stream",
     "text": [
      "Class prediction was successful without slicing!\n",
      "No slicing was necessary!\n",
      "Image saved to: local_model_outputs_classifier_prob_habitat_suitability_CCAP_NORTH_east_coast_USA_13_4000_1000_all_predictors_depth_None/output_2023-08-04-08_28_26_434.tif\n",
      "\n",
      "\n",
      "\n",
      "\n",
      "Starting image: /Users/margauxmforstyhe/Desktop/workspace/wetlands_labs/CCAP boundaries/north_east_coast/tiles_north_east_coast_ccap_mapping_bndry_gridded_50km_50km_classes_13_CCAP_scale30/inference_tiles_scale30_889.tif\n",
      "Image opened\n"
     ]
    },
    {
     "name": "stderr",
     "output_type": "stream",
     "text": [
      "[Parallel(n_jobs=12)]: Done  26 tasks      | elapsed:    0.1s\n",
      "[Parallel(n_jobs=12)]: Done 100 out of 100 | elapsed:    0.2s finished\n"
     ]
    },
    {
     "name": "stdout",
     "output_type": "stream",
     "text": [
      "Class prediction was successful without slicing!\n",
      "No slicing was necessary!\n",
      "Image saved to: local_model_outputs_classifier_prob_habitat_suitability_CCAP_NORTH_east_coast_USA_13_4000_1000_all_predictors_depth_None/output_2023-08-04-08_28_27_435.tif\n",
      "\n",
      "\n",
      "\n",
      "\n",
      "Starting image: /Users/margauxmforstyhe/Desktop/workspace/wetlands_labs/CCAP boundaries/north_east_coast/tiles_north_east_coast_ccap_mapping_bndry_gridded_50km_50km_classes_13_CCAP_scale30/inference_tiles_scale30_651.tif\n",
      "Image opened\n"
     ]
    },
    {
     "name": "stderr",
     "output_type": "stream",
     "text": [
      "[Parallel(n_jobs=12)]: Using backend ThreadingBackend with 12 concurrent workers.\n",
      "[Parallel(n_jobs=12)]: Done  26 tasks      | elapsed:    1.6s\n",
      "[Parallel(n_jobs=12)]: Done 100 out of 100 | elapsed:    4.5s finished\n"
     ]
    },
    {
     "name": "stdout",
     "output_type": "stream",
     "text": [
      "Class prediction was successful without slicing!\n",
      "No slicing was necessary!\n",
      "Image saved to: local_model_outputs_classifier_prob_habitat_suitability_CCAP_NORTH_east_coast_USA_13_4000_1000_all_predictors_depth_None/output_2023-08-04-08_28_32_436.tif\n",
      "\n",
      "\n",
      "\n",
      "\n",
      "Starting image: /Users/margauxmforstyhe/Desktop/workspace/wetlands_labs/CCAP boundaries/north_east_coast/tiles_north_east_coast_ccap_mapping_bndry_gridded_50km_50km_classes_13_CCAP_scale30/inference_tiles_scale30_645.tif\n",
      "Image opened\n"
     ]
    },
    {
     "name": "stderr",
     "output_type": "stream",
     "text": [
      "[Parallel(n_jobs=12)]: Using backend ThreadingBackend with 12 concurrent workers.\n",
      "[Parallel(n_jobs=12)]: Done  26 tasks      | elapsed:    1.7s\n",
      "[Parallel(n_jobs=12)]: Done 100 out of 100 | elapsed:    4.8s finished\n"
     ]
    },
    {
     "name": "stdout",
     "output_type": "stream",
     "text": [
      "Class prediction was successful without slicing!\n",
      "No slicing was necessary!\n",
      "Image saved to: local_model_outputs_classifier_prob_habitat_suitability_CCAP_NORTH_east_coast_USA_13_4000_1000_all_predictors_depth_None/output_2023-08-04-08_28_38_437.tif\n",
      "\n",
      "\n",
      "\n",
      "\n",
      "Starting image: /Users/margauxmforstyhe/Desktop/workspace/wetlands_labs/CCAP boundaries/north_east_coast/tiles_north_east_coast_ccap_mapping_bndry_gridded_50km_50km_classes_13_CCAP_scale30/inference_tiles_scale30_123.tif\n",
      "Image opened\n"
     ]
    },
    {
     "name": "stderr",
     "output_type": "stream",
     "text": [
      "[Parallel(n_jobs=12)]: Using backend ThreadingBackend with 12 concurrent workers.\n",
      "[Parallel(n_jobs=12)]: Done  26 tasks      | elapsed:    0.3s\n",
      "[Parallel(n_jobs=12)]: Done 100 out of 100 | elapsed:    0.7s finished\n"
     ]
    },
    {
     "name": "stdout",
     "output_type": "stream",
     "text": [
      "Class prediction was successful without slicing!\n",
      "No slicing was necessary!\n",
      "Image saved to: local_model_outputs_classifier_prob_habitat_suitability_CCAP_NORTH_east_coast_USA_13_4000_1000_all_predictors_depth_None/output_2023-08-04-08_28_39_438.tif\n",
      "\n",
      "\n",
      "\n",
      "\n",
      "Starting image: /Users/margauxmforstyhe/Desktop/workspace/wetlands_labs/CCAP boundaries/north_east_coast/tiles_north_east_coast_ccap_mapping_bndry_gridded_50km_50km_classes_13_CCAP_scale30/inference_tiles_scale30_490.tif\n",
      "Image opened\n"
     ]
    },
    {
     "name": "stderr",
     "output_type": "stream",
     "text": [
      "[Parallel(n_jobs=12)]: Using backend ThreadingBackend with 12 concurrent workers.\n",
      "[Parallel(n_jobs=12)]: Done  26 tasks      | elapsed:    1.5s\n",
      "[Parallel(n_jobs=12)]: Done 100 out of 100 | elapsed:    4.4s finished\n"
     ]
    },
    {
     "name": "stdout",
     "output_type": "stream",
     "text": [
      "Class prediction was successful without slicing!\n",
      "No slicing was necessary!\n",
      "Image saved to: local_model_outputs_classifier_prob_habitat_suitability_CCAP_NORTH_east_coast_USA_13_4000_1000_all_predictors_depth_None/output_2023-08-04-08_28_44_439.tif\n",
      "\n",
      "\n",
      "\n",
      "\n",
      "Starting image: /Users/margauxmforstyhe/Desktop/workspace/wetlands_labs/CCAP boundaries/north_east_coast/tiles_north_east_coast_ccap_mapping_bndry_gridded_50km_50km_classes_13_CCAP_scale30/inference_tiles_scale30_484.tif\n",
      "Image opened\n"
     ]
    },
    {
     "name": "stderr",
     "output_type": "stream",
     "text": [
      "[Parallel(n_jobs=12)]: Using backend ThreadingBackend with 12 concurrent workers.\n",
      "[Parallel(n_jobs=12)]: Done  26 tasks      | elapsed:    1.3s\n",
      "[Parallel(n_jobs=12)]: Done 100 out of 100 | elapsed:    3.9s finished\n"
     ]
    },
    {
     "name": "stdout",
     "output_type": "stream",
     "text": [
      "Class prediction was successful without slicing!\n",
      "No slicing was necessary!\n",
      "Image saved to: local_model_outputs_classifier_prob_habitat_suitability_CCAP_NORTH_east_coast_USA_13_4000_1000_all_predictors_depth_None/output_2023-08-04-08_28_49_440.tif\n",
      "\n",
      "\n",
      "\n",
      "\n",
      "Starting image: /Users/margauxmforstyhe/Desktop/workspace/wetlands_labs/CCAP boundaries/north_east_coast/tiles_north_east_coast_ccap_mapping_bndry_gridded_50km_50km_classes_13_CCAP_scale30/inference_tiles_scale30_309.tif\n",
      "Image opened\n"
     ]
    },
    {
     "name": "stderr",
     "output_type": "stream",
     "text": [
      "[Parallel(n_jobs=12)]: Using backend ThreadingBackend with 12 concurrent workers.\n",
      "[Parallel(n_jobs=12)]: Done  26 tasks      | elapsed:    1.1s\n",
      "[Parallel(n_jobs=12)]: Done 100 out of 100 | elapsed:    3.0s finished\n"
     ]
    },
    {
     "name": "stdout",
     "output_type": "stream",
     "text": [
      "Class prediction was successful without slicing!\n",
      "No slicing was necessary!\n",
      "Image saved to: local_model_outputs_classifier_prob_habitat_suitability_CCAP_NORTH_east_coast_USA_13_4000_1000_all_predictors_depth_None/output_2023-08-04-08_28_52_441.tif\n",
      "\n",
      "\n",
      "\n",
      "\n",
      "Starting image: /Users/margauxmforstyhe/Desktop/workspace/wetlands_labs/CCAP boundaries/north_east_coast/tiles_north_east_coast_ccap_mapping_bndry_gridded_50km_50km_classes_13_CCAP_scale30/inference_tiles_scale30_453.tif\n",
      "Image opened\n"
     ]
    },
    {
     "name": "stderr",
     "output_type": "stream",
     "text": [
      "[Parallel(n_jobs=12)]: Using backend ThreadingBackend with 12 concurrent workers.\n",
      "[Parallel(n_jobs=12)]: Done  26 tasks      | elapsed:    0.8s\n",
      "[Parallel(n_jobs=12)]: Done 100 out of 100 | elapsed:    2.2s finished\n"
     ]
    },
    {
     "name": "stdout",
     "output_type": "stream",
     "text": [
      "Class prediction was successful without slicing!\n",
      "No slicing was necessary!\n",
      "Image saved to: local_model_outputs_classifier_prob_habitat_suitability_CCAP_NORTH_east_coast_USA_13_4000_1000_all_predictors_depth_None/output_2023-08-04-08_28_55_442.tif\n",
      "\n",
      "\n",
      "\n",
      "\n",
      "Starting image: /Users/margauxmforstyhe/Desktop/workspace/wetlands_labs/CCAP boundaries/north_east_coast/tiles_north_east_coast_ccap_mapping_bndry_gridded_50km_50km_classes_13_CCAP_scale30/inference_tiles_scale30_36.tif\n",
      "Image opened\n"
     ]
    },
    {
     "name": "stderr",
     "output_type": "stream",
     "text": [
      "[Parallel(n_jobs=12)]: Using backend ThreadingBackend with 12 concurrent workers.\n",
      "[Parallel(n_jobs=12)]: Done  26 tasks      | elapsed:    0.7s\n",
      "[Parallel(n_jobs=12)]: Done 100 out of 100 | elapsed:    2.2s finished\n"
     ]
    },
    {
     "name": "stdout",
     "output_type": "stream",
     "text": [
      "Class prediction was successful without slicing!\n",
      "No slicing was necessary!\n",
      "Image saved to: local_model_outputs_classifier_prob_habitat_suitability_CCAP_NORTH_east_coast_USA_13_4000_1000_all_predictors_depth_None/output_2023-08-04-08_28_58_443.tif\n",
      "\n",
      "\n",
      "\n",
      "\n",
      "Starting image: /Users/margauxmforstyhe/Desktop/workspace/wetlands_labs/CCAP boundaries/north_east_coast/tiles_north_east_coast_ccap_mapping_bndry_gridded_50km_50km_classes_13_CCAP_scale30/inference_tiles_scale30_335.tif\n",
      "Image opened\n"
     ]
    },
    {
     "name": "stderr",
     "output_type": "stream",
     "text": [
      "[Parallel(n_jobs=12)]: Using backend ThreadingBackend with 12 concurrent workers.\n",
      "[Parallel(n_jobs=12)]: Done  26 tasks      | elapsed:    1.9s\n",
      "[Parallel(n_jobs=12)]: Done 100 out of 100 | elapsed:    5.1s finished\n"
     ]
    },
    {
     "name": "stdout",
     "output_type": "stream",
     "text": [
      "Class prediction was successful without slicing!\n",
      "No slicing was necessary!\n",
      "Image saved to: local_model_outputs_classifier_prob_habitat_suitability_CCAP_NORTH_east_coast_USA_13_4000_1000_all_predictors_depth_None/output_2023-08-04-08_29_04_444.tif\n",
      "\n",
      "\n",
      "\n",
      "\n",
      "Starting image: /Users/margauxmforstyhe/Desktop/workspace/wetlands_labs/CCAP boundaries/north_east_coast/tiles_north_east_coast_ccap_mapping_bndry_gridded_50km_50km_classes_13_CCAP_scale30/inference_tiles_scale30_22.tif\n",
      "Image opened\n"
     ]
    },
    {
     "name": "stderr",
     "output_type": "stream",
     "text": [
      "[Parallel(n_jobs=12)]: Using backend ThreadingBackend with 12 concurrent workers.\n",
      "[Parallel(n_jobs=12)]: Done  26 tasks      | elapsed:    1.8s\n",
      "[Parallel(n_jobs=12)]: Done 100 out of 100 | elapsed:    5.3s finished\n"
     ]
    },
    {
     "name": "stdout",
     "output_type": "stream",
     "text": [
      "Class prediction was successful without slicing!\n",
      "No slicing was necessary!\n",
      "Image saved to: local_model_outputs_classifier_prob_habitat_suitability_CCAP_NORTH_east_coast_USA_13_4000_1000_all_predictors_depth_None/output_2023-08-04-08_29_10_445.tif\n",
      "\n",
      "\n",
      "\n",
      "\n",
      "Starting image: /Users/margauxmforstyhe/Desktop/workspace/wetlands_labs/CCAP boundaries/north_east_coast/tiles_north_east_coast_ccap_mapping_bndry_gridded_50km_50km_classes_13_CCAP_scale30/inference_tiles_scale30_321.tif\n",
      "Image opened\n"
     ]
    },
    {
     "name": "stderr",
     "output_type": "stream",
     "text": [
      "[Parallel(n_jobs=12)]: Using backend ThreadingBackend with 12 concurrent workers.\n",
      "[Parallel(n_jobs=12)]: Done  26 tasks      | elapsed:    1.2s\n",
      "[Parallel(n_jobs=12)]: Done 100 out of 100 | elapsed:    3.4s finished\n"
     ]
    },
    {
     "name": "stdout",
     "output_type": "stream",
     "text": [
      "Class prediction was successful without slicing!\n",
      "No slicing was necessary!\n",
      "Image saved to: local_model_outputs_classifier_prob_habitat_suitability_CCAP_NORTH_east_coast_USA_13_4000_1000_all_predictors_depth_None/output_2023-08-04-08_29_14_446.tif\n",
      "\n",
      "\n",
      "\n",
      "\n",
      "Starting image: /Users/margauxmforstyhe/Desktop/workspace/wetlands_labs/CCAP boundaries/north_east_coast/tiles_north_east_coast_ccap_mapping_bndry_gridded_50km_50km_classes_13_CCAP_scale30/inference_tiles_scale30_447.tif\n",
      "Image opened\n"
     ]
    },
    {
     "name": "stderr",
     "output_type": "stream",
     "text": [
      "[Parallel(n_jobs=12)]: Using backend ThreadingBackend with 12 concurrent workers.\n",
      "[Parallel(n_jobs=12)]: Done  26 tasks      | elapsed:    1.0s\n",
      "[Parallel(n_jobs=12)]: Done 100 out of 100 | elapsed:    3.0s finished\n"
     ]
    },
    {
     "name": "stdout",
     "output_type": "stream",
     "text": [
      "Class prediction was successful without slicing!\n",
      "No slicing was necessary!\n",
      "Image saved to: local_model_outputs_classifier_prob_habitat_suitability_CCAP_NORTH_east_coast_USA_13_4000_1000_all_predictors_depth_None/output_2023-08-04-08_29_18_447.tif\n",
      "\n",
      "\n",
      "\n",
      "\n",
      "Starting image: /Users/margauxmforstyhe/Desktop/workspace/wetlands_labs/CCAP boundaries/north_east_coast/tiles_north_east_coast_ccap_mapping_bndry_gridded_50km_50km_classes_13_CCAP_scale30/inference_tiles_scale30_337.tif\n",
      "Image opened\n"
     ]
    },
    {
     "name": "stderr",
     "output_type": "stream",
     "text": [
      "[Parallel(n_jobs=12)]: Using backend ThreadingBackend with 12 concurrent workers.\n",
      "[Parallel(n_jobs=12)]: Done  26 tasks      | elapsed:    1.7s\n",
      "[Parallel(n_jobs=12)]: Done 100 out of 100 | elapsed:    5.0s finished\n"
     ]
    },
    {
     "name": "stdout",
     "output_type": "stream",
     "text": [
      "Class prediction was successful without slicing!\n",
      "No slicing was necessary!\n",
      "Image saved to: local_model_outputs_classifier_prob_habitat_suitability_CCAP_NORTH_east_coast_USA_13_4000_1000_all_predictors_depth_None/output_2023-08-04-08_29_24_448.tif\n",
      "\n",
      "\n",
      "\n",
      "\n",
      "Starting image: /Users/margauxmforstyhe/Desktop/workspace/wetlands_labs/CCAP boundaries/north_east_coast/tiles_north_east_coast_ccap_mapping_bndry_gridded_50km_50km_classes_13_CCAP_scale30/inference_tiles_scale30_34.tif\n",
      "Image opened\n"
     ]
    },
    {
     "name": "stderr",
     "output_type": "stream",
     "text": [
      "[Parallel(n_jobs=12)]: Using backend ThreadingBackend with 12 concurrent workers.\n",
      "[Parallel(n_jobs=12)]: Done  26 tasks      | elapsed:    1.7s\n",
      "[Parallel(n_jobs=12)]: Done 100 out of 100 | elapsed:    4.8s finished\n"
     ]
    },
    {
     "name": "stdout",
     "output_type": "stream",
     "text": [
      "Class prediction was successful without slicing!\n",
      "No slicing was necessary!\n",
      "Image saved to: local_model_outputs_classifier_prob_habitat_suitability_CCAP_NORTH_east_coast_USA_13_4000_1000_all_predictors_depth_None/output_2023-08-04-08_29_29_449.tif\n",
      "\n",
      "\n",
      "\n",
      "\n",
      "Starting image: /Users/margauxmforstyhe/Desktop/workspace/wetlands_labs/CCAP boundaries/north_east_coast/tiles_north_east_coast_ccap_mapping_bndry_gridded_50km_50km_classes_13_CCAP_scale30/inference_tiles_scale30_451.tif\n",
      "Image opened\n"
     ]
    },
    {
     "name": "stderr",
     "output_type": "stream",
     "text": [
      "[Parallel(n_jobs=12)]: Using backend ThreadingBackend with 12 concurrent workers.\n",
      "[Parallel(n_jobs=12)]: Done  26 tasks      | elapsed:    1.2s\n",
      "[Parallel(n_jobs=12)]: Done 100 out of 100 | elapsed:    3.7s finished\n"
     ]
    },
    {
     "name": "stdout",
     "output_type": "stream",
     "text": [
      "Class prediction was successful without slicing!\n",
      "No slicing was necessary!\n",
      "Image saved to: local_model_outputs_classifier_prob_habitat_suitability_CCAP_NORTH_east_coast_USA_13_4000_1000_all_predictors_depth_None/output_2023-08-04-08_29_34_450.tif\n",
      "\n",
      "\n",
      "\n",
      "\n",
      "Starting image: /Users/margauxmforstyhe/Desktop/workspace/wetlands_labs/CCAP boundaries/north_east_coast/tiles_north_east_coast_ccap_mapping_bndry_gridded_50km_50km_classes_13_CCAP_scale30/inference_tiles_scale30_445.tif\n",
      "Image opened\n"
     ]
    },
    {
     "name": "stderr",
     "output_type": "stream",
     "text": [
      "[Parallel(n_jobs=12)]: Using backend ThreadingBackend with 12 concurrent workers.\n",
      "[Parallel(n_jobs=12)]: Done  26 tasks      | elapsed:    1.3s\n",
      "[Parallel(n_jobs=12)]: Done 100 out of 100 | elapsed:    3.7s finished\n"
     ]
    },
    {
     "name": "stdout",
     "output_type": "stream",
     "text": [
      "Class prediction was successful without slicing!\n",
      "No slicing was necessary!\n",
      "Image saved to: local_model_outputs_classifier_prob_habitat_suitability_CCAP_NORTH_east_coast_USA_13_4000_1000_all_predictors_depth_None/output_2023-08-04-08_29_38_451.tif\n",
      "\n",
      "\n",
      "\n",
      "\n",
      "Starting image: /Users/margauxmforstyhe/Desktop/workspace/wetlands_labs/CCAP boundaries/north_east_coast/tiles_north_east_coast_ccap_mapping_bndry_gridded_50km_50km_classes_13_CCAP_scale30/inference_tiles_scale30_323.tif\n",
      "Image opened\n"
     ]
    },
    {
     "name": "stderr",
     "output_type": "stream",
     "text": [
      "[Parallel(n_jobs=12)]: Using backend ThreadingBackend with 12 concurrent workers.\n",
      "[Parallel(n_jobs=12)]: Done  26 tasks      | elapsed:    0.9s\n",
      "[Parallel(n_jobs=12)]: Done 100 out of 100 | elapsed:    2.7s finished\n"
     ]
    },
    {
     "name": "stdout",
     "output_type": "stream",
     "text": [
      "Class prediction was successful without slicing!\n",
      "No slicing was necessary!\n",
      "Image saved to: local_model_outputs_classifier_prob_habitat_suitability_CCAP_NORTH_east_coast_USA_13_4000_1000_all_predictors_depth_None/output_2023-08-04-08_29_42_452.tif\n",
      "\n",
      "\n",
      "\n",
      "\n",
      "Starting image: /Users/margauxmforstyhe/Desktop/workspace/wetlands_labs/CCAP boundaries/north_east_coast/tiles_north_east_coast_ccap_mapping_bndry_gridded_50km_50km_classes_13_CCAP_scale30/inference_tiles_scale30_20.tif\n",
      "Image opened\n"
     ]
    },
    {
     "name": "stderr",
     "output_type": "stream",
     "text": [
      "[Parallel(n_jobs=12)]: Using backend ThreadingBackend with 12 concurrent workers.\n",
      "[Parallel(n_jobs=12)]: Done  26 tasks      | elapsed:    1.5s\n",
      "[Parallel(n_jobs=12)]: Done 100 out of 100 | elapsed:    4.4s finished\n"
     ]
    },
    {
     "name": "stdout",
     "output_type": "stream",
     "text": [
      "Class prediction was successful without slicing!\n",
      "No slicing was necessary!\n",
      "Image saved to: local_model_outputs_classifier_prob_habitat_suitability_CCAP_NORTH_east_coast_USA_13_4000_1000_all_predictors_depth_None/output_2023-08-04-08_29_47_453.tif\n",
      "\n",
      "\n",
      "\n",
      "\n",
      "Starting image: /Users/margauxmforstyhe/Desktop/workspace/wetlands_labs/CCAP boundaries/north_east_coast/tiles_north_east_coast_ccap_mapping_bndry_gridded_50km_50km_classes_13_CCAP_scale30/inference_tiles_scale30_479.tif\n",
      "Image opened\n"
     ]
    },
    {
     "name": "stderr",
     "output_type": "stream",
     "text": [
      "[Parallel(n_jobs=12)]: Using backend ThreadingBackend with 12 concurrent workers.\n",
      "[Parallel(n_jobs=12)]: Done  26 tasks      | elapsed:    1.6s\n",
      "[Parallel(n_jobs=12)]: Done 100 out of 100 | elapsed:    4.7s finished\n"
     ]
    },
    {
     "name": "stdout",
     "output_type": "stream",
     "text": [
      "Class prediction was successful without slicing!\n",
      "No slicing was necessary!\n",
      "Image saved to: local_model_outputs_classifier_prob_habitat_suitability_CCAP_NORTH_east_coast_USA_13_4000_1000_all_predictors_depth_None/output_2023-08-04-08_29_53_454.tif\n",
      "\n",
      "\n",
      "\n",
      "\n",
      "Starting image: /Users/margauxmforstyhe/Desktop/workspace/wetlands_labs/CCAP boundaries/north_east_coast/tiles_north_east_coast_ccap_mapping_bndry_gridded_50km_50km_classes_13_CCAP_scale30/inference_tiles_scale30_492.tif\n",
      "Image opened\n"
     ]
    },
    {
     "name": "stderr",
     "output_type": "stream",
     "text": [
      "[Parallel(n_jobs=12)]: Using backend ThreadingBackend with 12 concurrent workers.\n",
      "[Parallel(n_jobs=12)]: Done  26 tasks      | elapsed:    1.4s\n",
      "[Parallel(n_jobs=12)]: Done 100 out of 100 | elapsed:    3.9s finished\n"
     ]
    },
    {
     "name": "stdout",
     "output_type": "stream",
     "text": [
      "Class prediction was successful without slicing!\n",
      "No slicing was necessary!\n",
      "Image saved to: local_model_outputs_classifier_prob_habitat_suitability_CCAP_NORTH_east_coast_USA_13_4000_1000_all_predictors_depth_None/output_2023-08-04-08_29_57_455.tif\n",
      "\n",
      "\n",
      "\n",
      "\n",
      "Starting image: /Users/margauxmforstyhe/Desktop/workspace/wetlands_labs/CCAP boundaries/north_east_coast/tiles_north_east_coast_ccap_mapping_bndry_gridded_50km_50km_classes_13_CCAP_scale30/inference_tiles_scale30_486.tif\n",
      "Image opened\n"
     ]
    },
    {
     "name": "stderr",
     "output_type": "stream",
     "text": [
      "[Parallel(n_jobs=12)]: Using backend ThreadingBackend with 12 concurrent workers.\n",
      "[Parallel(n_jobs=12)]: Done  26 tasks      | elapsed:    1.2s\n",
      "[Parallel(n_jobs=12)]: Done 100 out of 100 | elapsed:    3.4s finished\n"
     ]
    },
    {
     "name": "stdout",
     "output_type": "stream",
     "text": [
      "Class prediction was successful without slicing!\n",
      "No slicing was necessary!\n",
      "Image saved to: local_model_outputs_classifier_prob_habitat_suitability_CCAP_NORTH_east_coast_USA_13_4000_1000_all_predictors_depth_None/output_2023-08-04-08_30_02_456.tif\n",
      "\n",
      "\n",
      "\n",
      "\n",
      "Starting image: /Users/margauxmforstyhe/Desktop/workspace/wetlands_labs/CCAP boundaries/north_east_coast/tiles_north_east_coast_ccap_mapping_bndry_gridded_50km_50km_classes_13_CCAP_scale30/inference_tiles_scale30_653.tif\n",
      "Image opened\n"
     ]
    },
    {
     "name": "stderr",
     "output_type": "stream",
     "text": [
      "[Parallel(n_jobs=12)]: Using backend ThreadingBackend with 12 concurrent workers.\n",
      "[Parallel(n_jobs=12)]: Done  26 tasks      | elapsed:    1.6s\n",
      "[Parallel(n_jobs=12)]: Done 100 out of 100 | elapsed:    4.3s finished\n"
     ]
    },
    {
     "name": "stdout",
     "output_type": "stream",
     "text": [
      "Class prediction was successful without slicing!\n",
      "No slicing was necessary!\n",
      "Image saved to: local_model_outputs_classifier_prob_habitat_suitability_CCAP_NORTH_east_coast_USA_13_4000_1000_all_predictors_depth_None/output_2023-08-04-08_30_07_457.tif\n",
      "\n",
      "\n",
      "\n",
      "\n",
      "Starting image: /Users/margauxmforstyhe/Desktop/workspace/wetlands_labs/CCAP boundaries/north_east_coast/tiles_north_east_coast_ccap_mapping_bndry_gridded_50km_50km_classes_13_CCAP_scale30/inference_tiles_scale30_135.tif\n",
      "Image opened\n"
     ]
    },
    {
     "name": "stderr",
     "output_type": "stream",
     "text": [
      "[Parallel(n_jobs=12)]: Using backend ThreadingBackend with 12 concurrent workers.\n",
      "[Parallel(n_jobs=12)]: Done  26 tasks      | elapsed:    1.1s\n",
      "[Parallel(n_jobs=12)]: Done 100 out of 100 | elapsed:    3.3s finished\n"
     ]
    },
    {
     "name": "stdout",
     "output_type": "stream",
     "text": [
      "Class prediction was successful without slicing!\n",
      "No slicing was necessary!\n",
      "Image saved to: local_model_outputs_classifier_prob_habitat_suitability_CCAP_NORTH_east_coast_USA_13_4000_1000_all_predictors_depth_None/output_2023-08-04-08_30_11_458.tif\n",
      "\n",
      "\n",
      "\n",
      "\n",
      "Starting image: /Users/margauxmforstyhe/Desktop/workspace/wetlands_labs/CCAP boundaries/north_east_coast/tiles_north_east_coast_ccap_mapping_bndry_gridded_50km_50km_classes_13_CCAP_scale30/inference_tiles_scale30_121.tif\n",
      "Image opened\n"
     ]
    },
    {
     "name": "stderr",
     "output_type": "stream",
     "text": [
      "[Parallel(n_jobs=12)]: Using backend ThreadingBackend with 12 concurrent workers.\n",
      "[Parallel(n_jobs=12)]: Done  26 tasks      | elapsed:    0.7s\n",
      "[Parallel(n_jobs=12)]: Done 100 out of 100 | elapsed:    1.9s finished\n"
     ]
    },
    {
     "name": "stdout",
     "output_type": "stream",
     "text": [
      "Class prediction was successful without slicing!\n",
      "No slicing was necessary!\n",
      "Image saved to: local_model_outputs_classifier_prob_habitat_suitability_CCAP_NORTH_east_coast_USA_13_4000_1000_all_predictors_depth_None/output_2023-08-04-08_30_13_459.tif\n",
      "\n",
      "\n",
      "\n",
      "\n",
      "Starting image: /Users/margauxmforstyhe/Desktop/workspace/wetlands_labs/CCAP boundaries/north_east_coast/tiles_north_east_coast_ccap_mapping_bndry_gridded_50km_50km_classes_13_CCAP_scale30/inference_tiles_scale30_647.tif\n",
      "Image opened\n"
     ]
    },
    {
     "name": "stderr",
     "output_type": "stream",
     "text": [
      "[Parallel(n_jobs=12)]: Using backend ThreadingBackend with 12 concurrent workers.\n",
      "[Parallel(n_jobs=12)]: Done  26 tasks      | elapsed:    0.4s\n",
      "[Parallel(n_jobs=12)]: Done 100 out of 100 | elapsed:    1.0s finished\n"
     ]
    },
    {
     "name": "stdout",
     "output_type": "stream",
     "text": [
      "Class prediction was successful without slicing!\n",
      "No slicing was necessary!\n",
      "Image saved to: local_model_outputs_classifier_prob_habitat_suitability_CCAP_NORTH_east_coast_USA_13_4000_1000_all_predictors_depth_None/output_2023-08-04-08_30_15_460.tif\n",
      "\n",
      "\n",
      "\n",
      "\n",
      "Starting image: /Users/margauxmforstyhe/Desktop/workspace/wetlands_labs/CCAP boundaries/north_east_coast/tiles_north_east_coast_ccap_mapping_bndry_gridded_50km_50km_classes_13_CCAP_scale30/inference_tiles_scale30_109.tif\n",
      "Image opened\n"
     ]
    },
    {
     "name": "stderr",
     "output_type": "stream",
     "text": [
      "[Parallel(n_jobs=12)]: Using backend ThreadingBackend with 12 concurrent workers.\n",
      "[Parallel(n_jobs=12)]: Done  26 tasks      | elapsed:    1.0s\n",
      "[Parallel(n_jobs=12)]: Done 100 out of 100 | elapsed:    3.0s finished\n"
     ]
    },
    {
     "name": "stdout",
     "output_type": "stream",
     "text": [
      "Class prediction was successful without slicing!\n",
      "No slicing was necessary!\n",
      "Image saved to: local_model_outputs_classifier_prob_habitat_suitability_CCAP_NORTH_east_coast_USA_13_4000_1000_all_predictors_depth_None/output_2023-08-04-08_30_18_461.tif\n",
      "\n",
      "\n",
      "\n",
      "\n",
      "Starting image: /Users/margauxmforstyhe/Desktop/workspace/wetlands_labs/CCAP boundaries/north_east_coast/tiles_north_east_coast_ccap_mapping_bndry_gridded_50km_50km_classes_13_CCAP_scale30/inference_tiles_scale30_848.tif\n",
      "Image opened\n"
     ]
    },
    {
     "name": "stderr",
     "output_type": "stream",
     "text": [
      "[Parallel(n_jobs=12)]: Using backend ThreadingBackend with 12 concurrent workers.\n",
      "[Parallel(n_jobs=12)]: Done  26 tasks      | elapsed:    2.5s\n",
      "[Parallel(n_jobs=12)]: Done 100 out of 100 | elapsed:    6.6s finished\n"
     ]
    },
    {
     "name": "stdout",
     "output_type": "stream",
     "text": [
      "Class prediction was successful without slicing!\n",
      "No slicing was necessary!\n",
      "Image saved to: local_model_outputs_classifier_prob_habitat_suitability_CCAP_NORTH_east_coast_USA_13_4000_1000_all_predictors_depth_None/output_2023-08-04-08_30_26_462.tif\n",
      "\n",
      "\n",
      "\n",
      "\n",
      "Starting image: /Users/margauxmforstyhe/Desktop/workspace/wetlands_labs/CCAP boundaries/north_east_coast/tiles_north_east_coast_ccap_mapping_bndry_gridded_50km_50km_classes_13_CCAP_scale30/inference_tiles_scale30_690.tif\n",
      "Image opened\n"
     ]
    },
    {
     "name": "stderr",
     "output_type": "stream",
     "text": [
      "[Parallel(n_jobs=12)]: Using backend ThreadingBackend with 12 concurrent workers.\n",
      "[Parallel(n_jobs=12)]: Done  26 tasks      | elapsed:    2.5s\n",
      "[Parallel(n_jobs=12)]: Done 100 out of 100 | elapsed:    6.7s finished\n"
     ]
    },
    {
     "name": "stdout",
     "output_type": "stream",
     "text": [
      "Class prediction was successful without slicing!\n",
      "No slicing was necessary!\n",
      "Image saved to: local_model_outputs_classifier_prob_habitat_suitability_CCAP_NORTH_east_coast_USA_13_4000_1000_all_predictors_depth_None/output_2023-08-04-08_30_33_463.tif\n",
      "\n",
      "\n",
      "\n",
      "\n",
      "Starting image: /Users/margauxmforstyhe/Desktop/workspace/wetlands_labs/CCAP boundaries/north_east_coast/tiles_north_east_coast_ccap_mapping_bndry_gridded_50km_50km_classes_13_CCAP_scale30/inference_tiles_scale30_684.tif\n",
      "Image opened\n"
     ]
    },
    {
     "name": "stderr",
     "output_type": "stream",
     "text": [
      "[Parallel(n_jobs=12)]: Using backend ThreadingBackend with 12 concurrent workers.\n",
      "[Parallel(n_jobs=12)]: Done  26 tasks      | elapsed:    2.0s\n",
      "[Parallel(n_jobs=12)]: Done 100 out of 100 | elapsed:    5.6s finished\n"
     ]
    },
    {
     "name": "stdout",
     "output_type": "stream",
     "text": [
      "Class prediction was successful without slicing!\n",
      "No slicing was necessary!\n",
      "Image saved to: local_model_outputs_classifier_prob_habitat_suitability_CCAP_NORTH_east_coast_USA_13_4000_1000_all_predictors_depth_None/output_2023-08-04-08_30_40_464.tif\n",
      "\n",
      "\n",
      "\n",
      "\n",
      "Starting image: /Users/margauxmforstyhe/Desktop/workspace/wetlands_labs/CCAP boundaries/north_east_coast/tiles_north_east_coast_ccap_mapping_bndry_gridded_50km_50km_classes_13_CCAP_scale30/inference_tiles_scale30_874.tif\n",
      "Image opened\n"
     ]
    },
    {
     "name": "stderr",
     "output_type": "stream",
     "text": [
      "[Parallel(n_jobs=12)]: Using backend ThreadingBackend with 12 concurrent workers.\n",
      "[Parallel(n_jobs=12)]: Done  26 tasks      | elapsed:    1.5s\n",
      "[Parallel(n_jobs=12)]: Done 100 out of 100 | elapsed:    4.5s finished\n"
     ]
    },
    {
     "name": "stdout",
     "output_type": "stream",
     "text": [
      "Class prediction was successful without slicing!\n",
      "No slicing was necessary!\n",
      "Image saved to: local_model_outputs_classifier_prob_habitat_suitability_CCAP_NORTH_east_coast_USA_13_4000_1000_all_predictors_depth_None/output_2023-08-04-08_30_45_465.tif\n",
      "\n",
      "\n",
      "\n",
      "\n",
      "Starting image: /Users/margauxmforstyhe/Desktop/workspace/wetlands_labs/CCAP boundaries/north_east_coast/tiles_north_east_coast_ccap_mapping_bndry_gridded_50km_50km_classes_13_CCAP_scale30/inference_tiles_scale30_860.tif\n",
      "Image opened\n"
     ]
    },
    {
     "name": "stderr",
     "output_type": "stream",
     "text": [
      "[Parallel(n_jobs=12)]: Using backend ThreadingBackend with 12 concurrent workers.\n",
      "[Parallel(n_jobs=12)]: Done  26 tasks      | elapsed:    2.0s\n",
      "[Parallel(n_jobs=12)]: Done 100 out of 100 | elapsed:    5.8s finished\n"
     ]
    },
    {
     "name": "stdout",
     "output_type": "stream",
     "text": [
      "Class prediction was successful without slicing!\n",
      "No slicing was necessary!\n",
      "Image saved to: local_model_outputs_classifier_prob_habitat_suitability_CCAP_NORTH_east_coast_USA_13_4000_1000_all_predictors_depth_None/output_2023-08-04-08_30_52_466.tif\n",
      "\n",
      "\n",
      "\n",
      "\n",
      "Starting image: /Users/margauxmforstyhe/Desktop/workspace/wetlands_labs/CCAP boundaries/north_east_coast/tiles_north_east_coast_ccap_mapping_bndry_gridded_50km_50km_classes_13_CCAP_scale30/inference_tiles_scale30_727.tif\n",
      "Image opened\n"
     ]
    },
    {
     "name": "stderr",
     "output_type": "stream",
     "text": [
      "[Parallel(n_jobs=12)]: Using backend ThreadingBackend with 12 concurrent workers.\n",
      "[Parallel(n_jobs=12)]: Done  26 tasks      | elapsed:    0.9s\n",
      "[Parallel(n_jobs=12)]: Done 100 out of 100 | elapsed:    2.7s finished\n"
     ]
    },
    {
     "name": "stdout",
     "output_type": "stream",
     "text": [
      "Class prediction was successful without slicing!\n",
      "No slicing was necessary!\n",
      "Image saved to: local_model_outputs_classifier_prob_habitat_suitability_CCAP_NORTH_east_coast_USA_13_4000_1000_all_predictors_depth_None/output_2023-08-04-08_30_55_467.tif\n",
      "\n",
      "\n",
      "\n",
      "\n",
      "Starting image: /Users/margauxmforstyhe/Desktop/workspace/wetlands_labs/CCAP boundaries/north_east_coast/tiles_north_east_coast_ccap_mapping_bndry_gridded_50km_50km_classes_13_CCAP_scale30/inference_tiles_scale30_733.tif\n",
      "Image opened\n"
     ]
    },
    {
     "name": "stderr",
     "output_type": "stream",
     "text": [
      "[Parallel(n_jobs=12)]: Using backend ThreadingBackend with 12 concurrent workers.\n",
      "[Parallel(n_jobs=12)]: Done  26 tasks      | elapsed:    0.6s\n",
      "[Parallel(n_jobs=12)]: Done 100 out of 100 | elapsed:    1.8s finished\n"
     ]
    },
    {
     "name": "stdout",
     "output_type": "stream",
     "text": [
      "Class prediction was successful without slicing!\n",
      "No slicing was necessary!\n",
      "Image saved to: local_model_outputs_classifier_prob_habitat_suitability_CCAP_NORTH_east_coast_USA_13_4000_1000_all_predictors_depth_None/output_2023-08-04-08_30_58_468.tif\n",
      "\n",
      "\n",
      "\n",
      "\n",
      "Starting image: /Users/margauxmforstyhe/Desktop/workspace/wetlands_labs/CCAP boundaries/north_east_coast/tiles_north_east_coast_ccap_mapping_bndry_gridded_50km_50km_classes_13_CCAP_scale30/inference_tiles_scale30_928.tif\n",
      "Image opened\n"
     ]
    },
    {
     "name": "stderr",
     "output_type": "stream",
     "text": [
      "[Parallel(n_jobs=12)]: Using backend ThreadingBackend with 12 concurrent workers.\n",
      "[Parallel(n_jobs=12)]: Done  26 tasks      | elapsed:    0.4s\n",
      "[Parallel(n_jobs=12)]: Done 100 out of 100 | elapsed:    1.3s finished\n"
     ]
    },
    {
     "name": "stdout",
     "output_type": "stream",
     "text": [
      "Class prediction was successful without slicing!\n",
      "No slicing was necessary!\n",
      "Image saved to: local_model_outputs_classifier_prob_habitat_suitability_CCAP_NORTH_east_coast_USA_13_4000_1000_all_predictors_depth_None/output_2023-08-04-08_30_59_469.tif\n",
      "\n",
      "\n",
      "\n",
      "\n",
      "Starting image: /Users/margauxmforstyhe/Desktop/workspace/wetlands_labs/CCAP boundaries/north_east_coast/tiles_north_east_coast_ccap_mapping_bndry_gridded_50km_50km_classes_13_CCAP_scale30/inference_tiles_scale30_900.tif\n",
      "Image opened\n"
     ]
    },
    {
     "name": "stderr",
     "output_type": "stream",
     "text": [
      "[Parallel(n_jobs=12)]: Using backend ThreadingBackend with 12 concurrent workers.\n",
      "[Parallel(n_jobs=12)]: Done  26 tasks      | elapsed:    1.0s\n",
      "[Parallel(n_jobs=12)]: Done 100 out of 100 | elapsed:    2.9s finished\n"
     ]
    },
    {
     "name": "stdout",
     "output_type": "stream",
     "text": [
      "Class prediction was successful without slicing!\n",
      "No slicing was necessary!\n",
      "Image saved to: local_model_outputs_classifier_prob_habitat_suitability_CCAP_NORTH_east_coast_USA_13_4000_1000_all_predictors_depth_None/output_2023-08-04-08_31_03_470.tif\n",
      "\n",
      "\n",
      "\n",
      "\n",
      "Starting image: /Users/margauxmforstyhe/Desktop/workspace/wetlands_labs/CCAP boundaries/north_east_coast/tiles_north_east_coast_ccap_mapping_bndry_gridded_50km_50km_classes_13_CCAP_scale30/inference_tiles_scale30_914.tif\n",
      "Image opened\n"
     ]
    },
    {
     "name": "stderr",
     "output_type": "stream",
     "text": [
      "[Parallel(n_jobs=12)]: Using backend ThreadingBackend with 12 concurrent workers.\n",
      "[Parallel(n_jobs=12)]: Done  26 tasks      | elapsed:    1.3s\n",
      "[Parallel(n_jobs=12)]: Done 100 out of 100 | elapsed:    3.9s finished\n"
     ]
    },
    {
     "name": "stdout",
     "output_type": "stream",
     "text": [
      "Class prediction was successful without slicing!\n",
      "No slicing was necessary!\n",
      "Image saved to: local_model_outputs_classifier_prob_habitat_suitability_CCAP_NORTH_east_coast_USA_13_4000_1000_all_predictors_depth_None/output_2023-08-04-08_31_07_471.tif\n",
      "\n",
      "\n",
      "\n",
      "\n",
      "Starting image: /Users/margauxmforstyhe/Desktop/workspace/wetlands_labs/CCAP boundaries/north_east_coast/tiles_north_east_coast_ccap_mapping_bndry_gridded_50km_50km_classes_13_CCAP_scale30/inference_tiles_scale30_243.tif\n",
      "Image opened\n"
     ]
    },
    {
     "name": "stderr",
     "output_type": "stream",
     "text": [
      "[Parallel(n_jobs=12)]: Using backend ThreadingBackend with 12 concurrent workers.\n",
      "[Parallel(n_jobs=12)]: Done  26 tasks      | elapsed:    0.8s\n",
      "[Parallel(n_jobs=12)]: Done 100 out of 100 | elapsed:    2.3s finished\n"
     ]
    },
    {
     "name": "stdout",
     "output_type": "stream",
     "text": [
      "Class prediction was successful without slicing!\n",
      "No slicing was necessary!\n",
      "Image saved to: local_model_outputs_classifier_prob_habitat_suitability_CCAP_NORTH_east_coast_USA_13_4000_1000_all_predictors_depth_None/output_2023-08-04-08_31_10_472.tif\n",
      "\n",
      "\n",
      "\n",
      "\n",
      "Starting image: /Users/margauxmforstyhe/Desktop/workspace/wetlands_labs/CCAP boundaries/north_east_coast/tiles_north_east_coast_ccap_mapping_bndry_gridded_50km_50km_classes_13_CCAP_scale30/inference_tiles_scale30_525.tif\n",
      "Image opened\n"
     ]
    },
    {
     "name": "stderr",
     "output_type": "stream",
     "text": [
      "[Parallel(n_jobs=12)]: Using backend ThreadingBackend with 12 concurrent workers.\n",
      "[Parallel(n_jobs=12)]: Done  26 tasks      | elapsed:    1.5s\n",
      "[Parallel(n_jobs=12)]: Done 100 out of 100 | elapsed:    4.4s finished\n"
     ]
    },
    {
     "name": "stdout",
     "output_type": "stream",
     "text": [
      "Class prediction was successful without slicing!\n",
      "No slicing was necessary!\n",
      "Image saved to: local_model_outputs_classifier_prob_habitat_suitability_CCAP_NORTH_east_coast_USA_13_4000_1000_all_predictors_depth_None/output_2023-08-04-08_31_16_473.tif\n",
      "\n",
      "\n",
      "\n",
      "\n",
      "Starting image: /Users/margauxmforstyhe/Desktop/workspace/wetlands_labs/CCAP boundaries/north_east_coast/tiles_north_east_coast_ccap_mapping_bndry_gridded_50km_50km_classes_13_CCAP_scale30/inference_tiles_scale30_531.tif\n",
      "Image opened\n"
     ]
    },
    {
     "name": "stderr",
     "output_type": "stream",
     "text": [
      "[Parallel(n_jobs=12)]: Using backend ThreadingBackend with 12 concurrent workers.\n",
      "[Parallel(n_jobs=12)]: Done  26 tasks      | elapsed:    2.0s\n",
      "[Parallel(n_jobs=12)]: Done 100 out of 100 | elapsed:    5.8s finished\n"
     ]
    },
    {
     "name": "stdout",
     "output_type": "stream",
     "text": [
      "Class prediction was successful without slicing!\n",
      "No slicing was necessary!\n",
      "Image saved to: local_model_outputs_classifier_prob_habitat_suitability_CCAP_NORTH_east_coast_USA_13_4000_1000_all_predictors_depth_None/output_2023-08-04-08_31_22_474.tif\n",
      "\n",
      "\n",
      "\n",
      "\n",
      "Starting image: /Users/margauxmforstyhe/Desktop/workspace/wetlands_labs/CCAP boundaries/north_east_coast/tiles_north_east_coast_ccap_mapping_bndry_gridded_50km_50km_classes_13_CCAP_scale30/inference_tiles_scale30_257.tif\n",
      "Image opened\n"
     ]
    },
    {
     "name": "stderr",
     "output_type": "stream",
     "text": [
      "[Parallel(n_jobs=12)]: Using backend ThreadingBackend with 12 concurrent workers.\n",
      "[Parallel(n_jobs=12)]: Done  26 tasks      | elapsed:    1.5s\n",
      "[Parallel(n_jobs=12)]: Done 100 out of 100 | elapsed:    4.4s finished\n"
     ]
    },
    {
     "name": "stdout",
     "output_type": "stream",
     "text": [
      "Class prediction was successful without slicing!\n",
      "No slicing was necessary!\n",
      "Image saved to: local_model_outputs_classifier_prob_habitat_suitability_CCAP_NORTH_east_coast_USA_13_4000_1000_all_predictors_depth_None/output_2023-08-04-08_31_28_475.tif\n",
      "\n",
      "\n",
      "\n",
      "\n",
      "Starting image: /Users/margauxmforstyhe/Desktop/workspace/wetlands_labs/CCAP boundaries/north_east_coast/tiles_north_east_coast_ccap_mapping_bndry_gridded_50km_50km_classes_13_CCAP_scale30/inference_tiles_scale30_519.tif\n",
      "Image opened\n"
     ]
    },
    {
     "name": "stderr",
     "output_type": "stream",
     "text": [
      "[Parallel(n_jobs=12)]: Using backend ThreadingBackend with 12 concurrent workers.\n",
      "[Parallel(n_jobs=12)]: Done  26 tasks      | elapsed:    1.7s\n",
      "[Parallel(n_jobs=12)]: Done 100 out of 100 | elapsed:    5.0s finished\n"
     ]
    },
    {
     "name": "stdout",
     "output_type": "stream",
     "text": [
      "Class prediction was successful without slicing!\n",
      "No slicing was necessary!\n",
      "Image saved to: local_model_outputs_classifier_prob_habitat_suitability_CCAP_NORTH_east_coast_USA_13_4000_1000_all_predictors_depth_None/output_2023-08-04-08_31_34_476.tif\n",
      "\n",
      "\n",
      "\n",
      "\n",
      "Starting image: /Users/margauxmforstyhe/Desktop/workspace/wetlands_labs/CCAP boundaries/north_east_coast/tiles_north_east_coast_ccap_mapping_bndry_gridded_50km_50km_classes_13_CCAP_scale30/inference_tiles_scale30_280.tif\n",
      "Image opened\n"
     ]
    },
    {
     "name": "stderr",
     "output_type": "stream",
     "text": [
      "[Parallel(n_jobs=12)]: Using backend ThreadingBackend with 12 concurrent workers.\n",
      "[Parallel(n_jobs=12)]: Done  26 tasks      | elapsed:    0.1s\n",
      "[Parallel(n_jobs=12)]: Done 100 out of 100 | elapsed:    0.3s finished\n"
     ]
    },
    {
     "name": "stdout",
     "output_type": "stream",
     "text": [
      "Class prediction was successful without slicing!\n",
      "No slicing was necessary!\n",
      "Image saved to: local_model_outputs_classifier_prob_habitat_suitability_CCAP_NORTH_east_coast_USA_13_4000_1000_all_predictors_depth_None/output_2023-08-04-08_31_34_477.tif\n",
      "\n",
      "\n",
      "\n",
      "\n",
      "Starting image: /Users/margauxmforstyhe/Desktop/workspace/wetlands_labs/CCAP boundaries/north_east_coast/tiles_north_east_coast_ccap_mapping_bndry_gridded_50km_50km_classes_13_CCAP_scale30/inference_tiles_scale30_294.tif\n",
      "Image opened\n"
     ]
    },
    {
     "name": "stderr",
     "output_type": "stream",
     "text": [
      "[Parallel(n_jobs=12)]: Using backend ThreadingBackend with 12 concurrent workers.\n",
      "[Parallel(n_jobs=12)]: Done  26 tasks      | elapsed:    1.5s\n",
      "[Parallel(n_jobs=12)]: Done 100 out of 100 | elapsed:    4.6s finished\n"
     ]
    },
    {
     "name": "stdout",
     "output_type": "stream",
     "text": [
      "Class prediction was successful without slicing!\n",
      "No slicing was necessary!\n",
      "Image saved to: local_model_outputs_classifier_prob_habitat_suitability_CCAP_NORTH_east_coast_USA_13_4000_1000_all_predictors_depth_None/output_2023-08-04-08_31_39_478.tif\n",
      "\n",
      "\n",
      "\n",
      "\n",
      "Starting image: /Users/margauxmforstyhe/Desktop/workspace/wetlands_labs/CCAP boundaries/north_east_coast/tiles_north_east_coast_ccap_mapping_bndry_gridded_50km_50km_classes_13_CCAP_scale30/inference_tiles_scale30_295.tif\n",
      "Image opened\n"
     ]
    },
    {
     "name": "stderr",
     "output_type": "stream",
     "text": [
      "[Parallel(n_jobs=12)]: Using backend ThreadingBackend with 12 concurrent workers.\n",
      "[Parallel(n_jobs=12)]: Done  26 tasks      | elapsed:    1.5s\n",
      "[Parallel(n_jobs=12)]: Done 100 out of 100 | elapsed:    4.3s finished\n"
     ]
    },
    {
     "name": "stdout",
     "output_type": "stream",
     "text": [
      "Class prediction was successful without slicing!\n",
      "No slicing was necessary!\n",
      "Image saved to: local_model_outputs_classifier_prob_habitat_suitability_CCAP_NORTH_east_coast_USA_13_4000_1000_all_predictors_depth_None/output_2023-08-04-08_31_44_479.tif\n",
      "\n",
      "\n",
      "\n",
      "\n",
      "Starting image: /Users/margauxmforstyhe/Desktop/workspace/wetlands_labs/CCAP boundaries/north_east_coast/tiles_north_east_coast_ccap_mapping_bndry_gridded_50km_50km_classes_13_CCAP_scale30/inference_tiles_scale30_281.tif\n",
      "Image opened\n"
     ]
    },
    {
     "name": "stderr",
     "output_type": "stream",
     "text": [
      "[Parallel(n_jobs=12)]: Using backend ThreadingBackend with 12 concurrent workers.\n",
      "[Parallel(n_jobs=12)]: Done  26 tasks      | elapsed:    0.5s\n",
      "[Parallel(n_jobs=12)]: Done 100 out of 100 | elapsed:    1.5s finished\n",
      "[Parallel(n_jobs=12)]: Using backend ThreadingBackend with 12 concurrent workers.\n",
      "[Parallel(n_jobs=12)]: Done  26 tasks      | elapsed:    0.0s\n",
      "[Parallel(n_jobs=12)]: Done 100 out of 100 | elapsed:    0.1s finished\n"
     ]
    },
    {
     "name": "stdout",
     "output_type": "stream",
     "text": [
      "Class prediction was successful without slicing!\n",
      "No slicing was necessary!\n",
      "Image saved to: local_model_outputs_classifier_prob_habitat_suitability_CCAP_NORTH_east_coast_USA_13_4000_1000_all_predictors_depth_None/output_2023-08-04-08_31_46_480.tif\n",
      "\n",
      "\n",
      "\n",
      "\n",
      "Starting image: /Users/margauxmforstyhe/Desktop/workspace/wetlands_labs/CCAP boundaries/north_east_coast/tiles_north_east_coast_ccap_mapping_bndry_gridded_50km_50km_classes_13_CCAP_scale30/inference_tiles_scale30_518.tif\n",
      "Image opened\n",
      "Class prediction was successful without slicing!\n",
      "No slicing was necessary!\n",
      "Image saved to: local_model_outputs_classifier_prob_habitat_suitability_CCAP_NORTH_east_coast_USA_13_4000_1000_all_predictors_depth_None/output_2023-08-04-08_31_47_481.tif\n",
      "\n",
      "\n",
      "\n",
      "\n",
      "Starting image: /Users/margauxmforstyhe/Desktop/workspace/wetlands_labs/CCAP boundaries/north_east_coast/tiles_north_east_coast_ccap_mapping_bndry_gridded_50km_50km_classes_13_CCAP_scale30/inference_tiles_scale30_530.tif\n",
      "Image opened\n"
     ]
    },
    {
     "name": "stderr",
     "output_type": "stream",
     "text": [
      "[Parallel(n_jobs=12)]: Using backend ThreadingBackend with 12 concurrent workers.\n",
      "[Parallel(n_jobs=12)]: Done  26 tasks      | elapsed:    1.7s\n",
      "[Parallel(n_jobs=12)]: Done 100 out of 100 | elapsed:    5.1s finished\n"
     ]
    },
    {
     "name": "stdout",
     "output_type": "stream",
     "text": [
      "Class prediction was successful without slicing!\n",
      "No slicing was necessary!\n",
      "Image saved to: local_model_outputs_classifier_prob_habitat_suitability_CCAP_NORTH_east_coast_USA_13_4000_1000_all_predictors_depth_None/output_2023-08-04-08_31_53_482.tif\n",
      "\n",
      "\n",
      "\n",
      "\n",
      "Starting image: /Users/margauxmforstyhe/Desktop/workspace/wetlands_labs/CCAP boundaries/north_east_coast/tiles_north_east_coast_ccap_mapping_bndry_gridded_50km_50km_classes_13_CCAP_scale30/inference_tiles_scale30_256.tif\n",
      "Image opened\n"
     ]
    },
    {
     "name": "stderr",
     "output_type": "stream",
     "text": [
      "[Parallel(n_jobs=12)]: Using backend ThreadingBackend with 12 concurrent workers.\n",
      "[Parallel(n_jobs=12)]: Done  26 tasks      | elapsed:    1.5s\n",
      "[Parallel(n_jobs=12)]: Done 100 out of 100 | elapsed:    3.9s finished\n"
     ]
    },
    {
     "name": "stdout",
     "output_type": "stream",
     "text": [
      "Class prediction was successful without slicing!\n",
      "No slicing was necessary!\n",
      "Image saved to: local_model_outputs_classifier_prob_habitat_suitability_CCAP_NORTH_east_coast_USA_13_4000_1000_all_predictors_depth_None/output_2023-08-04-08_31_57_483.tif\n",
      "\n",
      "\n",
      "\n",
      "\n",
      "Starting image: /Users/margauxmforstyhe/Desktop/workspace/wetlands_labs/CCAP boundaries/north_east_coast/tiles_north_east_coast_ccap_mapping_bndry_gridded_50km_50km_classes_13_CCAP_scale30/inference_tiles_scale30_242.tif\n",
      "Image opened\n"
     ]
    },
    {
     "name": "stderr",
     "output_type": "stream",
     "text": [
      "[Parallel(n_jobs=12)]: Using backend ThreadingBackend with 12 concurrent workers.\n",
      "[Parallel(n_jobs=12)]: Done  26 tasks      | elapsed:    0.3s\n",
      "[Parallel(n_jobs=12)]: Done 100 out of 100 | elapsed:    0.9s finished\n"
     ]
    },
    {
     "name": "stdout",
     "output_type": "stream",
     "text": [
      "Class prediction was successful without slicing!\n",
      "No slicing was necessary!\n",
      "Image saved to: local_model_outputs_classifier_prob_habitat_suitability_CCAP_NORTH_east_coast_USA_13_4000_1000_all_predictors_depth_None/output_2023-08-04-08_31_59_484.tif\n",
      "\n",
      "\n",
      "\n",
      "\n",
      "Starting image: /Users/margauxmforstyhe/Desktop/workspace/wetlands_labs/CCAP boundaries/north_east_coast/tiles_north_east_coast_ccap_mapping_bndry_gridded_50km_50km_classes_13_CCAP_scale30/inference_tiles_scale30_524.tif\n",
      "Image opened\n"
     ]
    },
    {
     "name": "stderr",
     "output_type": "stream",
     "text": [
      "[Parallel(n_jobs=12)]: Using backend ThreadingBackend with 12 concurrent workers.\n",
      "[Parallel(n_jobs=12)]: Done  26 tasks      | elapsed:    1.6s\n",
      "[Parallel(n_jobs=12)]: Done 100 out of 100 | elapsed:    4.9s finished\n"
     ]
    },
    {
     "name": "stdout",
     "output_type": "stream",
     "text": [
      "Class prediction was successful without slicing!\n",
      "No slicing was necessary!\n",
      "Image saved to: local_model_outputs_classifier_prob_habitat_suitability_CCAP_NORTH_east_coast_USA_13_4000_1000_all_predictors_depth_None/output_2023-08-04-08_32_04_485.tif\n",
      "\n",
      "\n",
      "\n",
      "\n",
      "Starting image: /Users/margauxmforstyhe/Desktop/workspace/wetlands_labs/CCAP boundaries/north_east_coast/tiles_north_east_coast_ccap_mapping_bndry_gridded_50km_50km_classes_13_CCAP_scale30/inference_tiles_scale30_915.tif\n",
      "Image opened\n"
     ]
    },
    {
     "name": "stderr",
     "output_type": "stream",
     "text": [
      "[Parallel(n_jobs=12)]: Using backend ThreadingBackend with 12 concurrent workers.\n",
      "[Parallel(n_jobs=12)]: Done  26 tasks      | elapsed:    0.9s\n",
      "[Parallel(n_jobs=12)]: Done 100 out of 100 | elapsed:    2.5s finished\n"
     ]
    },
    {
     "name": "stdout",
     "output_type": "stream",
     "text": [
      "Class prediction was successful without slicing!\n",
      "No slicing was necessary!\n",
      "Image saved to: local_model_outputs_classifier_prob_habitat_suitability_CCAP_NORTH_east_coast_USA_13_4000_1000_all_predictors_depth_None/output_2023-08-04-08_32_07_486.tif\n",
      "\n",
      "\n",
      "\n",
      "\n",
      "Starting image: /Users/margauxmforstyhe/Desktop/workspace/wetlands_labs/CCAP boundaries/north_east_coast/tiles_north_east_coast_ccap_mapping_bndry_gridded_50km_50km_classes_13_CCAP_scale30/inference_tiles_scale30_901.tif\n",
      "Image opened\n"
     ]
    },
    {
     "name": "stderr",
     "output_type": "stream",
     "text": [
      "[Parallel(n_jobs=12)]: Using backend ThreadingBackend with 12 concurrent workers.\n",
      "[Parallel(n_jobs=12)]: Done  26 tasks      | elapsed:    0.9s\n",
      "[Parallel(n_jobs=12)]: Done 100 out of 100 | elapsed:    2.7s finished\n"
     ]
    },
    {
     "name": "stdout",
     "output_type": "stream",
     "text": [
      "Class prediction was successful without slicing!\n",
      "No slicing was necessary!\n",
      "Image saved to: local_model_outputs_classifier_prob_habitat_suitability_CCAP_NORTH_east_coast_USA_13_4000_1000_all_predictors_depth_None/output_2023-08-04-08_32_11_487.tif\n",
      "\n",
      "\n",
      "\n",
      "\n",
      "Starting image: /Users/margauxmforstyhe/Desktop/workspace/wetlands_labs/CCAP boundaries/north_east_coast/tiles_north_east_coast_ccap_mapping_bndry_gridded_50km_50km_classes_13_CCAP_scale30/inference_tiles_scale30_929.tif\n",
      "Image opened\n"
     ]
    },
    {
     "name": "stderr",
     "output_type": "stream",
     "text": [
      "[Parallel(n_jobs=12)]: Using backend ThreadingBackend with 12 concurrent workers.\n",
      "[Parallel(n_jobs=12)]: Done  26 tasks      | elapsed:    1.4s\n",
      "[Parallel(n_jobs=12)]: Done 100 out of 100 | elapsed:    5.9s finished\n"
     ]
    },
    {
     "name": "stdout",
     "output_type": "stream",
     "text": [
      "Class prediction was successful without slicing!\n",
      "No slicing was necessary!\n",
      "Image saved to: local_model_outputs_classifier_prob_habitat_suitability_CCAP_NORTH_east_coast_USA_13_4000_1000_all_predictors_depth_None/output_2023-08-04-08_32_17_488.tif\n",
      "\n",
      "\n",
      "\n",
      "\n",
      "Starting image: /Users/margauxmforstyhe/Desktop/workspace/wetlands_labs/CCAP boundaries/north_east_coast/tiles_north_east_coast_ccap_mapping_bndry_gridded_50km_50km_classes_13_CCAP_scale30/inference_tiles_scale30_732.tif\n",
      "Image opened\n"
     ]
    },
    {
     "name": "stderr",
     "output_type": "stream",
     "text": [
      "[Parallel(n_jobs=12)]: Using backend ThreadingBackend with 12 concurrent workers.\n",
      "[Parallel(n_jobs=12)]: Done  26 tasks      | elapsed:    1.5s\n",
      "[Parallel(n_jobs=12)]: Done 100 out of 100 | elapsed:    4.0s finished\n"
     ]
    },
    {
     "name": "stdout",
     "output_type": "stream",
     "text": [
      "Class prediction was successful without slicing!\n",
      "No slicing was necessary!\n",
      "Image saved to: local_model_outputs_classifier_prob_habitat_suitability_CCAP_NORTH_east_coast_USA_13_4000_1000_all_predictors_depth_None/output_2023-08-04-08_32_22_489.tif\n",
      "\n",
      "\n",
      "\n",
      "\n",
      "Starting image: /Users/margauxmforstyhe/Desktop/workspace/wetlands_labs/CCAP boundaries/north_east_coast/tiles_north_east_coast_ccap_mapping_bndry_gridded_50km_50km_classes_13_CCAP_scale30/inference_tiles_scale30_726.tif\n",
      "Image opened\n"
     ]
    },
    {
     "name": "stderr",
     "output_type": "stream",
     "text": [
      "[Parallel(n_jobs=12)]: Using backend ThreadingBackend with 12 concurrent workers.\n",
      "[Parallel(n_jobs=12)]: Done  26 tasks      | elapsed:    0.6s\n",
      "[Parallel(n_jobs=12)]: Done 100 out of 100 | elapsed:    1.6s finished\n"
     ]
    },
    {
     "name": "stdout",
     "output_type": "stream",
     "text": [
      "Class prediction was successful without slicing!\n",
      "No slicing was necessary!\n",
      "Image saved to: local_model_outputs_classifier_prob_habitat_suitability_CCAP_NORTH_east_coast_USA_13_4000_1000_all_predictors_depth_None/output_2023-08-04-08_32_25_490.tif\n",
      "\n",
      "\n",
      "\n",
      "\n",
      "Starting image: /Users/margauxmforstyhe/Desktop/workspace/wetlands_labs/CCAP boundaries/north_east_coast/tiles_north_east_coast_ccap_mapping_bndry_gridded_50km_50km_classes_13_CCAP_scale30/inference_tiles_scale30_861.tif\n",
      "Image opened\n"
     ]
    },
    {
     "name": "stderr",
     "output_type": "stream",
     "text": [
      "[Parallel(n_jobs=12)]: Using backend ThreadingBackend with 12 concurrent workers.\n",
      "[Parallel(n_jobs=12)]: Done  26 tasks      | elapsed:    1.5s\n",
      "[Parallel(n_jobs=12)]: Done 100 out of 100 | elapsed:    4.7s finished\n",
      "[Parallel(n_jobs=12)]: Using backend ThreadingBackend with 12 concurrent workers.\n"
     ]
    },
    {
     "name": "stdout",
     "output_type": "stream",
     "text": [
      "Class prediction was successful without slicing!\n",
      "No slicing was necessary!\n",
      "Image saved to: local_model_outputs_classifier_prob_habitat_suitability_CCAP_NORTH_east_coast_USA_13_4000_1000_all_predictors_depth_None/output_2023-08-04-08_32_30_491.tif\n",
      "\n",
      "\n",
      "\n",
      "\n",
      "Starting image: /Users/margauxmforstyhe/Desktop/workspace/wetlands_labs/CCAP boundaries/north_east_coast/tiles_north_east_coast_ccap_mapping_bndry_gridded_50km_50km_classes_13_CCAP_scale30/inference_tiles_scale30_875.tif\n",
      "Image opened\n"
     ]
    },
    {
     "name": "stderr",
     "output_type": "stream",
     "text": [
      "[Parallel(n_jobs=12)]: Done  26 tasks      | elapsed:    0.1s\n",
      "[Parallel(n_jobs=12)]: Done 100 out of 100 | elapsed:    0.2s finished\n"
     ]
    },
    {
     "name": "stdout",
     "output_type": "stream",
     "text": [
      "Class prediction was successful without slicing!\n",
      "No slicing was necessary!\n",
      "Image saved to: local_model_outputs_classifier_prob_habitat_suitability_CCAP_NORTH_east_coast_USA_13_4000_1000_all_predictors_depth_None/output_2023-08-04-08_32_30_492.tif\n",
      "\n",
      "\n",
      "\n",
      "\n",
      "Starting image: /Users/margauxmforstyhe/Desktop/workspace/wetlands_labs/CCAP boundaries/north_east_coast/tiles_north_east_coast_ccap_mapping_bndry_gridded_50km_50km_classes_13_CCAP_scale30/inference_tiles_scale30_685.tif\n",
      "Image opened\n"
     ]
    },
    {
     "name": "stderr",
     "output_type": "stream",
     "text": [
      "[Parallel(n_jobs=12)]: Using backend ThreadingBackend with 12 concurrent workers.\n",
      "[Parallel(n_jobs=12)]: Done  26 tasks      | elapsed:    1.8s\n",
      "[Parallel(n_jobs=12)]: Done 100 out of 100 | elapsed:    5.1s finished\n"
     ]
    },
    {
     "name": "stdout",
     "output_type": "stream",
     "text": [
      "Class prediction was successful without slicing!\n",
      "No slicing was necessary!\n",
      "Image saved to: local_model_outputs_classifier_prob_habitat_suitability_CCAP_NORTH_east_coast_USA_13_4000_1000_all_predictors_depth_None/output_2023-08-04-08_32_36_493.tif\n",
      "\n",
      "\n",
      "\n",
      "\n",
      "Starting image: /Users/margauxmforstyhe/Desktop/workspace/wetlands_labs/CCAP boundaries/north_east_coast/tiles_north_east_coast_ccap_mapping_bndry_gridded_50km_50km_classes_13_CCAP_scale30/inference_tiles_scale30_691.tif\n",
      "Image opened\n"
     ]
    },
    {
     "name": "stderr",
     "output_type": "stream",
     "text": [
      "[Parallel(n_jobs=12)]: Using backend ThreadingBackend with 12 concurrent workers.\n",
      "[Parallel(n_jobs=12)]: Done  26 tasks      | elapsed:    0.1s\n",
      "[Parallel(n_jobs=12)]: Done 100 out of 100 | elapsed:    0.4s finished\n"
     ]
    },
    {
     "name": "stdout",
     "output_type": "stream",
     "text": [
      "Class prediction was successful without slicing!\n",
      "No slicing was necessary!\n",
      "Image saved to: local_model_outputs_classifier_prob_habitat_suitability_CCAP_NORTH_east_coast_USA_13_4000_1000_all_predictors_depth_None/output_2023-08-04-08_32_37_494.tif\n",
      "\n",
      "\n",
      "\n",
      "\n",
      "Starting image: /Users/margauxmforstyhe/Desktop/workspace/wetlands_labs/CCAP boundaries/north_east_coast/tiles_north_east_coast_ccap_mapping_bndry_gridded_50km_50km_classes_13_CCAP_scale30/inference_tiles_scale30_849.tif\n",
      "Image opened\n"
     ]
    },
    {
     "name": "stderr",
     "output_type": "stream",
     "text": [
      "[Parallel(n_jobs=12)]: Using backend ThreadingBackend with 12 concurrent workers.\n",
      "[Parallel(n_jobs=12)]: Done  26 tasks      | elapsed:    1.9s\n",
      "[Parallel(n_jobs=12)]: Done 100 out of 100 | elapsed:    5.7s finished\n"
     ]
    },
    {
     "name": "stdout",
     "output_type": "stream",
     "text": [
      "Class prediction was successful without slicing!\n",
      "No slicing was necessary!\n",
      "Image saved to: local_model_outputs_classifier_prob_habitat_suitability_CCAP_NORTH_east_coast_USA_13_4000_1000_all_predictors_depth_None/output_2023-08-04-08_32_44_495.tif\n",
      "\n",
      "\n",
      "\n",
      "\n",
      "Starting image: /Users/margauxmforstyhe/Desktop/workspace/wetlands_labs/CCAP boundaries/north_east_coast/tiles_north_east_coast_ccap_mapping_bndry_gridded_50km_50km_classes_13_CCAP_scale30/inference_tiles_scale30_108.tif\n",
      "Image opened\n"
     ]
    },
    {
     "name": "stderr",
     "output_type": "stream",
     "text": [
      "[Parallel(n_jobs=12)]: Using backend ThreadingBackend with 12 concurrent workers.\n",
      "[Parallel(n_jobs=12)]: Done  26 tasks      | elapsed:    1.1s\n",
      "[Parallel(n_jobs=12)]: Done 100 out of 100 | elapsed:    3.2s finished\n"
     ]
    },
    {
     "name": "stdout",
     "output_type": "stream",
     "text": [
      "Class prediction was successful without slicing!\n",
      "No slicing was necessary!\n",
      "Image saved to: local_model_outputs_classifier_prob_habitat_suitability_CCAP_NORTH_east_coast_USA_13_4000_1000_all_predictors_depth_None/output_2023-08-04-08_32_47_496.tif\n",
      "\n",
      "\n",
      "\n",
      "\n",
      "Starting image: /Users/margauxmforstyhe/Desktop/workspace/wetlands_labs/CCAP boundaries/north_east_coast/tiles_north_east_coast_ccap_mapping_bndry_gridded_50km_50km_classes_13_CCAP_scale30/inference_tiles_scale30_120.tif\n",
      "Image opened\n"
     ]
    },
    {
     "name": "stderr",
     "output_type": "stream",
     "text": [
      "[Parallel(n_jobs=12)]: Using backend ThreadingBackend with 12 concurrent workers.\n",
      "[Parallel(n_jobs=12)]: Done  26 tasks      | elapsed:    0.4s\n",
      "[Parallel(n_jobs=12)]: Done 100 out of 100 | elapsed:    1.1s finished\n"
     ]
    },
    {
     "name": "stdout",
     "output_type": "stream",
     "text": [
      "Class prediction was successful without slicing!\n",
      "No slicing was necessary!\n",
      "Image saved to: local_model_outputs_classifier_prob_habitat_suitability_CCAP_NORTH_east_coast_USA_13_4000_1000_all_predictors_depth_None/output_2023-08-04-08_32_49_497.tif\n",
      "\n",
      "\n",
      "\n",
      "\n",
      "Starting image: /Users/margauxmforstyhe/Desktop/workspace/wetlands_labs/CCAP boundaries/north_east_coast/tiles_north_east_coast_ccap_mapping_bndry_gridded_50km_50km_classes_13_CCAP_scale30/inference_tiles_scale30_646.tif\n",
      "Image opened\n"
     ]
    },
    {
     "name": "stderr",
     "output_type": "stream",
     "text": [
      "[Parallel(n_jobs=12)]: Using backend ThreadingBackend with 12 concurrent workers.\n",
      "[Parallel(n_jobs=12)]: Done  26 tasks      | elapsed:    1.5s\n",
      "[Parallel(n_jobs=12)]: Done 100 out of 100 | elapsed:    4.3s finished\n"
     ]
    },
    {
     "name": "stdout",
     "output_type": "stream",
     "text": [
      "Class prediction was successful without slicing!\n",
      "No slicing was necessary!\n",
      "Image saved to: local_model_outputs_classifier_prob_habitat_suitability_CCAP_NORTH_east_coast_USA_13_4000_1000_all_predictors_depth_None/output_2023-08-04-08_32_54_498.tif\n",
      "\n",
      "\n",
      "\n",
      "\n",
      "Starting image: /Users/margauxmforstyhe/Desktop/workspace/wetlands_labs/CCAP boundaries/north_east_coast/tiles_north_east_coast_ccap_mapping_bndry_gridded_50km_50km_classes_13_CCAP_scale30/inference_tiles_scale30_652.tif\n",
      "Image opened\n"
     ]
    },
    {
     "name": "stderr",
     "output_type": "stream",
     "text": [
      "[Parallel(n_jobs=12)]: Using backend ThreadingBackend with 12 concurrent workers.\n",
      "[Parallel(n_jobs=12)]: Done  26 tasks      | elapsed:    1.6s\n",
      "[Parallel(n_jobs=12)]: Done 100 out of 100 | elapsed:    4.6s finished\n"
     ]
    },
    {
     "name": "stdout",
     "output_type": "stream",
     "text": [
      "Class prediction was successful without slicing!\n",
      "No slicing was necessary!\n",
      "Image saved to: local_model_outputs_classifier_prob_habitat_suitability_CCAP_NORTH_east_coast_USA_13_4000_1000_all_predictors_depth_None/output_2023-08-04-08_32_59_499.tif\n",
      "\n",
      "\n",
      "\n",
      "\n",
      "Starting image: /Users/margauxmforstyhe/Desktop/workspace/wetlands_labs/CCAP boundaries/north_east_coast/tiles_north_east_coast_ccap_mapping_bndry_gridded_50km_50km_classes_13_CCAP_scale30/inference_tiles_scale30_134.tif\n",
      "Image opened\n"
     ]
    },
    {
     "name": "stderr",
     "output_type": "stream",
     "text": [
      "[Parallel(n_jobs=12)]: Using backend ThreadingBackend with 12 concurrent workers.\n",
      "[Parallel(n_jobs=12)]: Done  26 tasks      | elapsed:    0.6s\n",
      "[Parallel(n_jobs=12)]: Done 100 out of 100 | elapsed:    1.7s finished\n"
     ]
    },
    {
     "name": "stdout",
     "output_type": "stream",
     "text": [
      "Class prediction was successful without slicing!\n",
      "No slicing was necessary!\n",
      "Image saved to: local_model_outputs_classifier_prob_habitat_suitability_CCAP_NORTH_east_coast_USA_13_4000_1000_all_predictors_depth_None/output_2023-08-04-08_33_02_500.tif\n",
      "\n",
      "\n",
      "\n",
      "\n",
      "Starting image: /Users/margauxmforstyhe/Desktop/workspace/wetlands_labs/CCAP boundaries/north_east_coast/tiles_north_east_coast_ccap_mapping_bndry_gridded_50km_50km_classes_13_CCAP_scale30/inference_tiles_scale30_487.tif\n",
      "Image opened\n"
     ]
    },
    {
     "name": "stderr",
     "output_type": "stream",
     "text": [
      "[Parallel(n_jobs=12)]: Using backend ThreadingBackend with 12 concurrent workers.\n",
      "[Parallel(n_jobs=12)]: Done  26 tasks      | elapsed:    1.6s\n",
      "[Parallel(n_jobs=12)]: Done 100 out of 100 | elapsed:    4.5s finished\n"
     ]
    },
    {
     "name": "stdout",
     "output_type": "stream",
     "text": [
      "Class prediction was successful without slicing!\n",
      "No slicing was necessary!\n",
      "Image saved to: local_model_outputs_classifier_prob_habitat_suitability_CCAP_NORTH_east_coast_USA_13_4000_1000_all_predictors_depth_None/output_2023-08-04-08_33_07_501.tif\n",
      "\n",
      "\n",
      "\n",
      "\n",
      "Starting image: /Users/margauxmforstyhe/Desktop/workspace/wetlands_labs/CCAP boundaries/north_east_coast/tiles_north_east_coast_ccap_mapping_bndry_gridded_50km_50km_classes_13_CCAP_scale30/inference_tiles_scale30_493.tif\n",
      "Image opened\n"
     ]
    },
    {
     "name": "stderr",
     "output_type": "stream",
     "text": [
      "[Parallel(n_jobs=12)]: Using backend ThreadingBackend with 12 concurrent workers.\n",
      "[Parallel(n_jobs=12)]: Done  26 tasks      | elapsed:    0.9s\n",
      "[Parallel(n_jobs=12)]: Done 100 out of 100 | elapsed:    2.5s finished\n"
     ]
    },
    {
     "name": "stdout",
     "output_type": "stream",
     "text": [
      "Class prediction was successful without slicing!\n",
      "No slicing was necessary!\n",
      "Image saved to: local_model_outputs_classifier_prob_habitat_suitability_CCAP_NORTH_east_coast_USA_13_4000_1000_all_predictors_depth_None/output_2023-08-04-08_33_10_502.tif\n",
      "\n",
      "\n",
      "\n",
      "\n",
      "Starting image: /Users/margauxmforstyhe/Desktop/workspace/wetlands_labs/CCAP boundaries/north_east_coast/tiles_north_east_coast_ccap_mapping_bndry_gridded_50km_50km_classes_13_CCAP_scale30/inference_tiles_scale30_478.tif\n",
      "Image opened\n"
     ]
    },
    {
     "name": "stderr",
     "output_type": "stream",
     "text": [
      "[Parallel(n_jobs=12)]: Using backend ThreadingBackend with 12 concurrent workers.\n",
      "[Parallel(n_jobs=12)]: Done  26 tasks      | elapsed:    1.0s\n",
      "[Parallel(n_jobs=12)]: Done 100 out of 100 | elapsed:    3.0s finished\n"
     ]
    },
    {
     "name": "stdout",
     "output_type": "stream",
     "text": [
      "Class prediction was successful without slicing!\n",
      "No slicing was necessary!\n",
      "Image saved to: local_model_outputs_classifier_prob_habitat_suitability_CCAP_NORTH_east_coast_USA_13_4000_1000_all_predictors_depth_None/output_2023-08-04-08_33_14_503.tif\n",
      "\n",
      "\n",
      "\n",
      "\n",
      "Starting image: /Users/margauxmforstyhe/Desktop/workspace/wetlands_labs/CCAP boundaries/north_east_coast/tiles_north_east_coast_ccap_mapping_bndry_gridded_50km_50km_classes_13_CCAP_scale30/inference_tiles_scale30_444.tif\n",
      "Image opened\n"
     ]
    },
    {
     "name": "stderr",
     "output_type": "stream",
     "text": [
      "[Parallel(n_jobs=12)]: Using backend ThreadingBackend with 12 concurrent workers.\n",
      "[Parallel(n_jobs=12)]: Done  26 tasks      | elapsed:    0.9s\n",
      "[Parallel(n_jobs=12)]: Done 100 out of 100 | elapsed:    2.6s finished\n"
     ]
    },
    {
     "name": "stdout",
     "output_type": "stream",
     "text": [
      "Class prediction was successful without slicing!\n",
      "No slicing was necessary!\n",
      "Image saved to: local_model_outputs_classifier_prob_habitat_suitability_CCAP_NORTH_east_coast_USA_13_4000_1000_all_predictors_depth_None/output_2023-08-04-08_33_17_504.tif\n",
      "\n",
      "\n",
      "\n",
      "\n",
      "Starting image: /Users/margauxmforstyhe/Desktop/workspace/wetlands_labs/CCAP boundaries/north_east_coast/tiles_north_east_coast_ccap_mapping_bndry_gridded_50km_50km_classes_13_CCAP_scale30/inference_tiles_scale30_21.tif\n",
      "Image opened\n"
     ]
    },
    {
     "name": "stderr",
     "output_type": "stream",
     "text": [
      "[Parallel(n_jobs=12)]: Using backend ThreadingBackend with 12 concurrent workers.\n",
      "[Parallel(n_jobs=12)]: Done  26 tasks      | elapsed:    0.2s\n",
      "[Parallel(n_jobs=12)]: Done 100 out of 100 | elapsed:    0.6s finished\n"
     ]
    },
    {
     "name": "stdout",
     "output_type": "stream",
     "text": [
      "Class prediction was successful without slicing!\n",
      "No slicing was necessary!\n",
      "Image saved to: local_model_outputs_classifier_prob_habitat_suitability_CCAP_NORTH_east_coast_USA_13_4000_1000_all_predictors_depth_None/output_2023-08-04-08_33_18_505.tif\n",
      "\n",
      "\n",
      "\n",
      "\n",
      "Starting image: /Users/margauxmforstyhe/Desktop/workspace/wetlands_labs/CCAP boundaries/north_east_coast/tiles_north_east_coast_ccap_mapping_bndry_gridded_50km_50km_classes_13_CCAP_scale30/inference_tiles_scale30_322.tif\n",
      "Image opened\n"
     ]
    },
    {
     "name": "stderr",
     "output_type": "stream",
     "text": [
      "[Parallel(n_jobs=12)]: Using backend ThreadingBackend with 12 concurrent workers.\n",
      "[Parallel(n_jobs=12)]: Done  26 tasks      | elapsed:    1.5s\n",
      "[Parallel(n_jobs=12)]: Done 100 out of 100 | elapsed:    4.2s finished\n"
     ]
    },
    {
     "name": "stdout",
     "output_type": "stream",
     "text": [
      "Class prediction was successful without slicing!\n",
      "No slicing was necessary!\n",
      "Image saved to: local_model_outputs_classifier_prob_habitat_suitability_CCAP_NORTH_east_coast_USA_13_4000_1000_all_predictors_depth_None/output_2023-08-04-08_33_23_506.tif\n",
      "\n",
      "\n",
      "\n",
      "\n",
      "Starting image: /Users/margauxmforstyhe/Desktop/workspace/wetlands_labs/CCAP boundaries/north_east_coast/tiles_north_east_coast_ccap_mapping_bndry_gridded_50km_50km_classes_13_CCAP_scale30/inference_tiles_scale30_35.tif\n",
      "Image opened\n"
     ]
    },
    {
     "name": "stderr",
     "output_type": "stream",
     "text": [
      "[Parallel(n_jobs=12)]: Using backend ThreadingBackend with 12 concurrent workers.\n",
      "[Parallel(n_jobs=12)]: Done  26 tasks      | elapsed:    1.7s\n",
      "[Parallel(n_jobs=12)]: Done 100 out of 100 | elapsed:    4.8s finished\n"
     ]
    },
    {
     "name": "stdout",
     "output_type": "stream",
     "text": [
      "Class prediction was successful without slicing!\n",
      "No slicing was necessary!\n",
      "Image saved to: local_model_outputs_classifier_prob_habitat_suitability_CCAP_NORTH_east_coast_USA_13_4000_1000_all_predictors_depth_None/output_2023-08-04-08_33_28_507.tif\n",
      "\n",
      "\n",
      "\n",
      "\n",
      "Starting image: /Users/margauxmforstyhe/Desktop/workspace/wetlands_labs/CCAP boundaries/north_east_coast/tiles_north_east_coast_ccap_mapping_bndry_gridded_50km_50km_classes_13_CCAP_scale30/inference_tiles_scale30_336.tif\n",
      "Image opened\n"
     ]
    },
    {
     "name": "stderr",
     "output_type": "stream",
     "text": [
      "[Parallel(n_jobs=12)]: Using backend ThreadingBackend with 12 concurrent workers.\n",
      "[Parallel(n_jobs=12)]: Done  26 tasks      | elapsed:    1.5s\n",
      "[Parallel(n_jobs=12)]: Done 100 out of 100 | elapsed:    4.4s finished\n"
     ]
    },
    {
     "name": "stdout",
     "output_type": "stream",
     "text": [
      "Class prediction was successful without slicing!\n",
      "No slicing was necessary!\n",
      "Image saved to: local_model_outputs_classifier_prob_habitat_suitability_CCAP_NORTH_east_coast_USA_13_4000_1000_all_predictors_depth_None/output_2023-08-04-08_33_34_508.tif\n",
      "\n",
      "\n",
      "\n",
      "\n",
      "Starting image: /Users/margauxmforstyhe/Desktop/workspace/wetlands_labs/CCAP boundaries/north_east_coast/tiles_north_east_coast_ccap_mapping_bndry_gridded_50km_50km_classes_13_CCAP_scale30/inference_tiles_scale30_450.tif\n",
      "Image opened\n"
     ]
    },
    {
     "name": "stderr",
     "output_type": "stream",
     "text": [
      "[Parallel(n_jobs=12)]: Using backend ThreadingBackend with 12 concurrent workers.\n",
      "[Parallel(n_jobs=12)]: Done  26 tasks      | elapsed:    1.2s\n",
      "[Parallel(n_jobs=12)]: Done 100 out of 100 | elapsed:    3.5s finished\n"
     ]
    },
    {
     "name": "stdout",
     "output_type": "stream",
     "text": [
      "Class prediction was successful without slicing!\n",
      "No slicing was necessary!\n",
      "Image saved to: local_model_outputs_classifier_prob_habitat_suitability_CCAP_NORTH_east_coast_USA_13_4000_1000_all_predictors_depth_None/output_2023-08-04-08_33_38_509.tif\n",
      "\n",
      "\n",
      "\n",
      "\n",
      "Starting image: /Users/margauxmforstyhe/Desktop/workspace/wetlands_labs/CCAP boundaries/north_east_coast/tiles_north_east_coast_ccap_mapping_bndry_gridded_50km_50km_classes_13_CCAP_scale30/inference_tiles_scale30_449.tif\n",
      "Image opened\n"
     ]
    },
    {
     "name": "stderr",
     "output_type": "stream",
     "text": [
      "[Parallel(n_jobs=12)]: Using backend ThreadingBackend with 12 concurrent workers.\n",
      "[Parallel(n_jobs=12)]: Done  26 tasks      | elapsed:    0.2s\n",
      "[Parallel(n_jobs=12)]: Done 100 out of 100 | elapsed:    0.7s finished\n"
     ]
    },
    {
     "name": "stdout",
     "output_type": "stream",
     "text": [
      "Class prediction was successful without slicing!\n",
      "No slicing was necessary!\n",
      "Image saved to: local_model_outputs_classifier_prob_habitat_suitability_CCAP_NORTH_east_coast_USA_13_4000_1000_all_predictors_depth_None/output_2023-08-04-08_33_39_510.tif\n",
      "\n",
      "\n",
      "\n",
      "\n",
      "Starting image: /Users/margauxmforstyhe/Desktop/workspace/wetlands_labs/CCAP boundaries/north_east_coast/tiles_north_east_coast_ccap_mapping_bndry_gridded_50km_50km_classes_13_CCAP_scale30/inference_tiles_scale30_38.tif\n",
      "Image opened\n"
     ]
    },
    {
     "name": "stderr",
     "output_type": "stream",
     "text": [
      "[Parallel(n_jobs=12)]: Using backend ThreadingBackend with 12 concurrent workers.\n",
      "[Parallel(n_jobs=12)]: Done  26 tasks      | elapsed:    1.6s\n",
      "[Parallel(n_jobs=12)]: Done 100 out of 100 | elapsed:    4.6s finished\n"
     ]
    },
    {
     "name": "stdout",
     "output_type": "stream",
     "text": [
      "Class prediction was successful without slicing!\n",
      "No slicing was necessary!\n",
      "Image saved to: local_model_outputs_classifier_prob_habitat_suitability_CCAP_NORTH_east_coast_USA_13_4000_1000_all_predictors_depth_None/output_2023-08-04-08_33_44_511.tif\n",
      "\n",
      "\n",
      "\n",
      "\n",
      "Starting image: /Users/margauxmforstyhe/Desktop/workspace/wetlands_labs/CCAP boundaries/north_east_coast/tiles_north_east_coast_ccap_mapping_bndry_gridded_50km_50km_classes_13_CCAP_scale30/inference_tiles_scale30_475.tif\n",
      "Image opened\n"
     ]
    },
    {
     "name": "stderr",
     "output_type": "stream",
     "text": [
      "[Parallel(n_jobs=12)]: Using backend ThreadingBackend with 12 concurrent workers.\n",
      "[Parallel(n_jobs=12)]: Done  26 tasks      | elapsed:    1.5s\n",
      "[Parallel(n_jobs=12)]: Done 100 out of 100 | elapsed:    4.0s finished\n",
      "[Parallel(n_jobs=12)]: Using backend ThreadingBackend with 12 concurrent workers.\n",
      "[Parallel(n_jobs=12)]: Done  26 tasks      | elapsed:    0.0s\n"
     ]
    },
    {
     "name": "stdout",
     "output_type": "stream",
     "text": [
      "Class prediction was successful without slicing!\n",
      "No slicing was necessary!\n",
      "Image saved to: local_model_outputs_classifier_prob_habitat_suitability_CCAP_NORTH_east_coast_USA_13_4000_1000_all_predictors_depth_None/output_2023-08-04-08_33_49_512.tif\n",
      "\n",
      "\n",
      "\n",
      "\n",
      "Starting image: /Users/margauxmforstyhe/Desktop/workspace/wetlands_labs/CCAP boundaries/north_east_coast/tiles_north_east_coast_ccap_mapping_bndry_gridded_50km_50km_classes_13_CCAP_scale30/inference_tiles_scale30_313.tif\n",
      "Image opened\n"
     ]
    },
    {
     "name": "stderr",
     "output_type": "stream",
     "text": [
      "[Parallel(n_jobs=12)]: Done 100 out of 100 | elapsed:    0.1s finished\n"
     ]
    },
    {
     "name": "stdout",
     "output_type": "stream",
     "text": [
      "Class prediction was successful without slicing!\n",
      "No slicing was necessary!\n",
      "Image saved to: local_model_outputs_classifier_prob_habitat_suitability_CCAP_NORTH_east_coast_USA_13_4000_1000_all_predictors_depth_None/output_2023-08-04-08_33_49_513.tif\n",
      "\n",
      "\n",
      "\n",
      "\n",
      "Starting image: /Users/margauxmforstyhe/Desktop/workspace/wetlands_labs/CCAP boundaries/north_east_coast/tiles_north_east_coast_ccap_mapping_bndry_gridded_50km_50km_classes_13_CCAP_scale30/inference_tiles_scale30_10.tif\n",
      "Image opened\n"
     ]
    },
    {
     "name": "stderr",
     "output_type": "stream",
     "text": [
      "[Parallel(n_jobs=12)]: Using backend ThreadingBackend with 12 concurrent workers.\n",
      "[Parallel(n_jobs=12)]: Done  26 tasks      | elapsed:    0.3s\n",
      "[Parallel(n_jobs=12)]: Done 100 out of 100 | elapsed:    0.9s finished\n",
      "[Parallel(n_jobs=12)]: Using backend ThreadingBackend with 12 concurrent workers.\n",
      "[Parallel(n_jobs=12)]: Done  26 tasks      | elapsed:    0.0s\n",
      "[Parallel(n_jobs=12)]: Done 100 out of 100 | elapsed:    0.1s finished\n"
     ]
    },
    {
     "name": "stdout",
     "output_type": "stream",
     "text": [
      "Class prediction was successful without slicing!\n",
      "No slicing was necessary!\n",
      "Image saved to: local_model_outputs_classifier_prob_habitat_suitability_CCAP_NORTH_east_coast_USA_13_4000_1000_all_predictors_depth_None/output_2023-08-04-08_33_51_514.tif\n",
      "\n",
      "\n",
      "\n",
      "\n",
      "Starting image: /Users/margauxmforstyhe/Desktop/workspace/wetlands_labs/CCAP boundaries/north_east_coast/tiles_north_east_coast_ccap_mapping_bndry_gridded_50km_50km_classes_13_CCAP_scale30/inference_tiles_scale30_307.tif\n",
      "Image opened\n",
      "Class prediction was successful without slicing!\n",
      "No slicing was necessary!\n",
      "Image saved to: local_model_outputs_classifier_prob_habitat_suitability_CCAP_NORTH_east_coast_USA_13_4000_1000_all_predictors_depth_None/output_2023-08-04-08_33_51_515.tif\n",
      "\n",
      "\n",
      "\n",
      "\n",
      "Starting image: /Users/margauxmforstyhe/Desktop/workspace/wetlands_labs/CCAP boundaries/north_east_coast/tiles_north_east_coast_ccap_mapping_bndry_gridded_50km_50km_classes_13_CCAP_scale30/inference_tiles_scale30_461.tif\n",
      "Image opened\n"
     ]
    },
    {
     "name": "stderr",
     "output_type": "stream",
     "text": [
      "[Parallel(n_jobs=12)]: Using backend ThreadingBackend with 12 concurrent workers.\n",
      "[Parallel(n_jobs=12)]: Done  26 tasks      | elapsed:    1.2s\n",
      "[Parallel(n_jobs=12)]: Done 100 out of 100 | elapsed:    3.5s finished\n",
      "[Parallel(n_jobs=12)]: Using backend ThreadingBackend with 12 concurrent workers.\n"
     ]
    },
    {
     "name": "stdout",
     "output_type": "stream",
     "text": [
      "Class prediction was successful without slicing!\n",
      "No slicing was necessary!\n",
      "Image saved to: local_model_outputs_classifier_prob_habitat_suitability_CCAP_NORTH_east_coast_USA_13_4000_1000_all_predictors_depth_None/output_2023-08-04-08_33_55_516.tif\n",
      "\n",
      "\n",
      "\n",
      "\n",
      "Starting image: /Users/margauxmforstyhe/Desktop/workspace/wetlands_labs/CCAP boundaries/north_east_coast/tiles_north_east_coast_ccap_mapping_bndry_gridded_50km_50km_classes_13_CCAP_scale30/inference_tiles_scale30_893.tif\n",
      "Image opened\n"
     ]
    },
    {
     "name": "stderr",
     "output_type": "stream",
     "text": [
      "[Parallel(n_jobs=12)]: Done  26 tasks      | elapsed:    0.1s\n",
      "[Parallel(n_jobs=12)]: Done 100 out of 100 | elapsed:    0.1s finished\n"
     ]
    },
    {
     "name": "stdout",
     "output_type": "stream",
     "text": [
      "Class prediction was successful without slicing!\n",
      "No slicing was necessary!\n",
      "Image saved to: local_model_outputs_classifier_prob_habitat_suitability_CCAP_NORTH_east_coast_USA_13_4000_1000_all_predictors_depth_None/output_2023-08-04-08_33_55_517.tif\n",
      "\n",
      "\n",
      "\n",
      "\n",
      "Starting image: /Users/margauxmforstyhe/Desktop/workspace/wetlands_labs/CCAP boundaries/north_east_coast/tiles_north_east_coast_ccap_mapping_bndry_gridded_50km_50km_classes_13_CCAP_scale30/inference_tiles_scale30_887.tif\n",
      "Image opened\n"
     ]
    },
    {
     "name": "stderr",
     "output_type": "stream",
     "text": [
      "[Parallel(n_jobs=12)]: Using backend ThreadingBackend with 12 concurrent workers.\n",
      "[Parallel(n_jobs=12)]: Done  26 tasks      | elapsed:    0.4s\n",
      "[Parallel(n_jobs=12)]: Done 100 out of 100 | elapsed:    1.1s finished\n"
     ]
    },
    {
     "name": "stdout",
     "output_type": "stream",
     "text": [
      "Class prediction was successful without slicing!\n",
      "No slicing was necessary!\n",
      "Image saved to: local_model_outputs_classifier_prob_habitat_suitability_CCAP_NORTH_east_coast_USA_13_4000_1000_all_predictors_depth_None/output_2023-08-04-08_33_57_518.tif\n",
      "\n",
      "\n",
      "\n",
      "\n",
      "Starting image: /Users/margauxmforstyhe/Desktop/workspace/wetlands_labs/CCAP boundaries/north_east_coast/tiles_north_east_coast_ccap_mapping_bndry_gridded_50km_50km_classes_13_CCAP_scale30/inference_tiles_scale30_139.tif\n",
      "Image opened\n"
     ]
    },
    {
     "name": "stderr",
     "output_type": "stream",
     "text": [
      "[Parallel(n_jobs=12)]: Using backend ThreadingBackend with 12 concurrent workers.\n",
      "[Parallel(n_jobs=12)]: Done  26 tasks      | elapsed:    1.3s\n",
      "[Parallel(n_jobs=12)]: Done 100 out of 100 | elapsed:    3.9s finished\n",
      "[Parallel(n_jobs=12)]: Using backend ThreadingBackend with 12 concurrent workers.\n",
      "[Parallel(n_jobs=12)]: Done  26 tasks      | elapsed:    0.0s\n"
     ]
    },
    {
     "name": "stdout",
     "output_type": "stream",
     "text": [
      "Class prediction was successful without slicing!\n",
      "No slicing was necessary!\n",
      "Image saved to: local_model_outputs_classifier_prob_habitat_suitability_CCAP_NORTH_east_coast_USA_13_4000_1000_all_predictors_depth_None/output_2023-08-04-08_34_01_519.tif\n",
      "\n",
      "\n",
      "\n",
      "\n",
      "Starting image: /Users/margauxmforstyhe/Desktop/workspace/wetlands_labs/CCAP boundaries/north_east_coast/tiles_north_east_coast_ccap_mapping_bndry_gridded_50km_50km_classes_13_CCAP_scale30/inference_tiles_scale30_111.tif\n",
      "Image opened\n"
     ]
    },
    {
     "name": "stderr",
     "output_type": "stream",
     "text": [
      "[Parallel(n_jobs=12)]: Done 100 out of 100 | elapsed:    0.1s finished\n"
     ]
    },
    {
     "name": "stdout",
     "output_type": "stream",
     "text": [
      "Class prediction was successful without slicing!\n",
      "No slicing was necessary!\n",
      "Image saved to: local_model_outputs_classifier_prob_habitat_suitability_CCAP_NORTH_east_coast_USA_13_4000_1000_all_predictors_depth_None/output_2023-08-04-08_34_01_520.tif\n",
      "\n",
      "\n",
      "\n",
      "\n",
      "Starting image: /Users/margauxmforstyhe/Desktop/workspace/wetlands_labs/CCAP boundaries/north_east_coast/tiles_north_east_coast_ccap_mapping_bndry_gridded_50km_50km_classes_13_CCAP_scale30/inference_tiles_scale30_677.tif\n",
      "Image opened\n"
     ]
    },
    {
     "name": "stderr",
     "output_type": "stream",
     "text": [
      "[Parallel(n_jobs=12)]: Using backend ThreadingBackend with 12 concurrent workers.\n",
      "[Parallel(n_jobs=12)]: Done  26 tasks      | elapsed:    1.9s\n",
      "[Parallel(n_jobs=12)]: Done 100 out of 100 | elapsed:    5.4s finished\n"
     ]
    },
    {
     "name": "stdout",
     "output_type": "stream",
     "text": [
      "Class prediction was successful without slicing!\n",
      "No slicing was necessary!\n",
      "Image saved to: local_model_outputs_classifier_prob_habitat_suitability_CCAP_NORTH_east_coast_USA_13_4000_1000_all_predictors_depth_None/output_2023-08-04-08_34_07_521.tif\n",
      "\n",
      "\n",
      "\n",
      "\n",
      "Starting image: /Users/margauxmforstyhe/Desktop/workspace/wetlands_labs/CCAP boundaries/north_east_coast/tiles_north_east_coast_ccap_mapping_bndry_gridded_50km_50km_classes_13_CCAP_scale30/inference_tiles_scale30_663.tif\n",
      "Image opened\n"
     ]
    },
    {
     "name": "stderr",
     "output_type": "stream",
     "text": [
      "[Parallel(n_jobs=12)]: Using backend ThreadingBackend with 12 concurrent workers.\n",
      "[Parallel(n_jobs=12)]: Done  26 tasks      | elapsed:    0.1s\n",
      "[Parallel(n_jobs=12)]: Done 100 out of 100 | elapsed:    0.4s finished\n"
     ]
    },
    {
     "name": "stdout",
     "output_type": "stream",
     "text": [
      "Class prediction was successful without slicing!\n",
      "No slicing was necessary!\n",
      "Image saved to: local_model_outputs_classifier_prob_habitat_suitability_CCAP_NORTH_east_coast_USA_13_4000_1000_all_predictors_depth_None/output_2023-08-04-08_34_08_522.tif\n",
      "\n",
      "\n",
      "\n",
      "\n",
      "Starting image: /Users/margauxmforstyhe/Desktop/workspace/wetlands_labs/CCAP boundaries/north_east_coast/tiles_north_east_coast_ccap_mapping_bndry_gridded_50km_50km_classes_13_CCAP_scale30/inference_tiles_scale30_105.tif\n",
      "Image opened\n"
     ]
    },
    {
     "name": "stderr",
     "output_type": "stream",
     "text": [
      "[Parallel(n_jobs=12)]: Using backend ThreadingBackend with 12 concurrent workers.\n",
      "[Parallel(n_jobs=12)]: Done  26 tasks      | elapsed:    0.9s\n",
      "[Parallel(n_jobs=12)]: Done 100 out of 100 | elapsed:    2.7s finished\n"
     ]
    },
    {
     "name": "stdout",
     "output_type": "stream",
     "text": [
      "Class prediction was successful without slicing!\n",
      "No slicing was necessary!\n",
      "Image saved to: local_model_outputs_classifier_prob_habitat_suitability_CCAP_NORTH_east_coast_USA_13_4000_1000_all_predictors_depth_None/output_2023-08-04-08_34_11_523.tif\n",
      "\n",
      "\n",
      "\n",
      "\n",
      "Starting image: /Users/margauxmforstyhe/Desktop/workspace/wetlands_labs/CCAP boundaries/north_east_coast/tiles_north_east_coast_ccap_mapping_bndry_gridded_50km_50km_classes_13_CCAP_scale30/inference_tiles_scale30_850.tif\n",
      "Image opened\n"
     ]
    },
    {
     "name": "stderr",
     "output_type": "stream",
     "text": [
      "[Parallel(n_jobs=12)]: Using backend ThreadingBackend with 12 concurrent workers.\n",
      "[Parallel(n_jobs=12)]: Done  26 tasks      | elapsed:    0.2s\n",
      "[Parallel(n_jobs=12)]: Done 100 out of 100 | elapsed:    0.5s finished\n"
     ]
    },
    {
     "name": "stdout",
     "output_type": "stream",
     "text": [
      "Class prediction was successful without slicing!\n",
      "No slicing was necessary!\n",
      "Image saved to: local_model_outputs_classifier_prob_habitat_suitability_CCAP_NORTH_east_coast_USA_13_4000_1000_all_predictors_depth_None/output_2023-08-04-08_34_12_524.tif\n",
      "\n",
      "\n",
      "\n",
      "\n",
      "Starting image: /Users/margauxmforstyhe/Desktop/workspace/wetlands_labs/CCAP boundaries/north_east_coast/tiles_north_east_coast_ccap_mapping_bndry_gridded_50km_50km_classes_13_CCAP_scale30/inference_tiles_scale30_688.tif\n",
      "Image opened\n"
     ]
    },
    {
     "name": "stderr",
     "output_type": "stream",
     "text": [
      "[Parallel(n_jobs=12)]: Using backend ThreadingBackend with 12 concurrent workers.\n",
      "[Parallel(n_jobs=12)]: Done  26 tasks      | elapsed:    1.5s\n",
      "[Parallel(n_jobs=12)]: Done 100 out of 100 | elapsed:    4.3s finished\n",
      "[Parallel(n_jobs=12)]: Using backend ThreadingBackend with 12 concurrent workers.\n"
     ]
    },
    {
     "name": "stdout",
     "output_type": "stream",
     "text": [
      "Class prediction was successful without slicing!\n",
      "No slicing was necessary!\n",
      "Image saved to: local_model_outputs_classifier_prob_habitat_suitability_CCAP_NORTH_east_coast_USA_13_4000_1000_all_predictors_depth_None/output_2023-08-04-08_34_17_525.tif\n",
      "\n",
      "\n",
      "\n",
      "\n",
      "Starting image: /Users/margauxmforstyhe/Desktop/workspace/wetlands_labs/CCAP boundaries/north_east_coast/tiles_north_east_coast_ccap_mapping_bndry_gridded_50km_50km_classes_13_CCAP_scale30/inference_tiles_scale30_844.tif\n",
      "Image opened\n"
     ]
    },
    {
     "name": "stderr",
     "output_type": "stream",
     "text": [
      "[Parallel(n_jobs=12)]: Done  26 tasks      | elapsed:    0.1s\n",
      "[Parallel(n_jobs=12)]: Done 100 out of 100 | elapsed:    0.1s finished\n"
     ]
    },
    {
     "name": "stdout",
     "output_type": "stream",
     "text": [
      "Class prediction was successful without slicing!\n",
      "No slicing was necessary!\n",
      "Image saved to: local_model_outputs_classifier_prob_habitat_suitability_CCAP_NORTH_east_coast_USA_13_4000_1000_all_predictors_depth_None/output_2023-08-04-08_34_17_526.tif\n",
      "\n",
      "\n",
      "\n",
      "\n",
      "Starting image: /Users/margauxmforstyhe/Desktop/workspace/wetlands_labs/CCAP boundaries/north_east_coast/tiles_north_east_coast_ccap_mapping_bndry_gridded_50km_50km_classes_13_CCAP_scale30/inference_tiles_scale30_878.tif\n",
      "Image opened\n"
     ]
    },
    {
     "name": "stderr",
     "output_type": "stream",
     "text": [
      "[Parallel(n_jobs=12)]: Using backend ThreadingBackend with 12 concurrent workers.\n",
      "[Parallel(n_jobs=12)]: Done  26 tasks      | elapsed:    1.7s\n",
      "[Parallel(n_jobs=12)]: Done 100 out of 100 | elapsed:    4.4s finished\n"
     ]
    },
    {
     "name": "stdout",
     "output_type": "stream",
     "text": [
      "Class prediction was successful without slicing!\n",
      "No slicing was necessary!\n",
      "Image saved to: local_model_outputs_classifier_prob_habitat_suitability_CCAP_NORTH_east_coast_USA_13_4000_1000_all_predictors_depth_None/output_2023-08-04-08_34_23_527.tif\n",
      "\n",
      "\n",
      "\n",
      "\n",
      "Starting image: /Users/margauxmforstyhe/Desktop/workspace/wetlands_labs/CCAP boundaries/north_east_coast/tiles_north_east_coast_ccap_mapping_bndry_gridded_50km_50km_classes_13_CCAP_scale30/inference_tiles_scale30_703.tif\n",
      "Image opened\n"
     ]
    },
    {
     "name": "stderr",
     "output_type": "stream",
     "text": [
      "[Parallel(n_jobs=12)]: Using backend ThreadingBackend with 12 concurrent workers.\n",
      "[Parallel(n_jobs=12)]: Done  26 tasks      | elapsed:    0.9s\n",
      "[Parallel(n_jobs=12)]: Done 100 out of 100 | elapsed:    2.6s finished\n"
     ]
    },
    {
     "name": "stdout",
     "output_type": "stream",
     "text": [
      "Class prediction was successful without slicing!\n",
      "No slicing was necessary!\n",
      "Image saved to: local_model_outputs_classifier_prob_habitat_suitability_CCAP_NORTH_east_coast_USA_13_4000_1000_all_predictors_depth_None/output_2023-08-04-08_34_26_528.tif\n",
      "\n",
      "\n",
      "\n",
      "\n",
      "Starting image: /Users/margauxmforstyhe/Desktop/workspace/wetlands_labs/CCAP boundaries/north_east_coast/tiles_north_east_coast_ccap_mapping_bndry_gridded_50km_50km_classes_13_CCAP_scale30/inference_tiles_scale30_717.tif\n",
      "Image opened\n"
     ]
    },
    {
     "name": "stderr",
     "output_type": "stream",
     "text": [
      "[Parallel(n_jobs=12)]: Using backend ThreadingBackend with 12 concurrent workers.\n",
      "[Parallel(n_jobs=12)]: Done  26 tasks      | elapsed:    0.8s\n",
      "[Parallel(n_jobs=12)]: Done 100 out of 100 | elapsed:    2.4s finished\n"
     ]
    },
    {
     "name": "stdout",
     "output_type": "stream",
     "text": [
      "Class prediction was successful without slicing!\n",
      "No slicing was necessary!\n",
      "Image saved to: local_model_outputs_classifier_prob_habitat_suitability_CCAP_NORTH_east_coast_USA_13_4000_1000_all_predictors_depth_None/output_2023-08-04-08_34_29_529.tif\n",
      "\n",
      "\n",
      "\n",
      "\n",
      "Starting image: /Users/margauxmforstyhe/Desktop/workspace/wetlands_labs/CCAP boundaries/north_east_coast/tiles_north_east_coast_ccap_mapping_bndry_gridded_50km_50km_classes_13_CCAP_scale30/inference_tiles_scale30_924.tif\n",
      "Image opened\n"
     ]
    },
    {
     "name": "stderr",
     "output_type": "stream",
     "text": [
      "[Parallel(n_jobs=12)]: Using backend ThreadingBackend with 12 concurrent workers.\n",
      "[Parallel(n_jobs=12)]: Done  26 tasks      | elapsed:    1.5s\n",
      "[Parallel(n_jobs=12)]: Done 100 out of 100 | elapsed:    4.4s finished\n"
     ]
    },
    {
     "name": "stdout",
     "output_type": "stream",
     "text": [
      "Class prediction was successful without slicing!\n",
      "No slicing was necessary!\n",
      "Image saved to: local_model_outputs_classifier_prob_habitat_suitability_CCAP_NORTH_east_coast_USA_13_4000_1000_all_predictors_depth_None/output_2023-08-04-08_34_34_530.tif\n",
      "\n",
      "\n",
      "\n",
      "\n",
      "Starting image: /Users/margauxmforstyhe/Desktop/workspace/wetlands_labs/CCAP boundaries/north_east_coast/tiles_north_east_coast_ccap_mapping_bndry_gridded_50km_50km_classes_13_CCAP_scale30/inference_tiles_scale30_930.tif\n",
      "Image opened\n"
     ]
    },
    {
     "name": "stderr",
     "output_type": "stream",
     "text": [
      "[Parallel(n_jobs=12)]: Using backend ThreadingBackend with 12 concurrent workers.\n",
      "[Parallel(n_jobs=12)]: Done  26 tasks      | elapsed:    1.0s\n",
      "[Parallel(n_jobs=12)]: Done 100 out of 100 | elapsed:    2.5s finished\n"
     ]
    },
    {
     "name": "stdout",
     "output_type": "stream",
     "text": [
      "Class prediction was successful without slicing!\n",
      "No slicing was necessary!\n",
      "Image saved to: local_model_outputs_classifier_prob_habitat_suitability_CCAP_NORTH_east_coast_USA_13_4000_1000_all_predictors_depth_None/output_2023-08-04-08_34_37_531.tif\n",
      "\n",
      "\n",
      "\n",
      "\n",
      "Starting image: /Users/margauxmforstyhe/Desktop/workspace/wetlands_labs/CCAP boundaries/north_east_coast/tiles_north_east_coast_ccap_mapping_bndry_gridded_50km_50km_classes_13_CCAP_scale30/inference_tiles_scale30_918.tif\n",
      "Image opened\n"
     ]
    },
    {
     "name": "stderr",
     "output_type": "stream",
     "text": [
      "[Parallel(n_jobs=12)]: Using backend ThreadingBackend with 12 concurrent workers.\n",
      "[Parallel(n_jobs=12)]: Done  26 tasks      | elapsed:    0.2s\n",
      "[Parallel(n_jobs=12)]: Done 100 out of 100 | elapsed:    0.6s finished\n"
     ]
    },
    {
     "name": "stdout",
     "output_type": "stream",
     "text": [
      "Class prediction was successful without slicing!\n",
      "No slicing was necessary!\n",
      "Image saved to: local_model_outputs_classifier_prob_habitat_suitability_CCAP_NORTH_east_coast_USA_13_4000_1000_all_predictors_depth_None/output_2023-08-04-08_34_38_532.tif\n",
      "\n",
      "\n",
      "\n",
      "\n",
      "Starting image: /Users/margauxmforstyhe/Desktop/workspace/wetlands_labs/CCAP boundaries/north_east_coast/tiles_north_east_coast_ccap_mapping_bndry_gridded_50km_50km_classes_13_CCAP_scale30/inference_tiles_scale30_529.tif\n",
      "Image opened\n"
     ]
    },
    {
     "name": "stderr",
     "output_type": "stream",
     "text": [
      "[Parallel(n_jobs=12)]: Using backend ThreadingBackend with 12 concurrent workers.\n",
      "[Parallel(n_jobs=12)]: Done  26 tasks      | elapsed:    1.0s\n",
      "[Parallel(n_jobs=12)]: Done 100 out of 100 | elapsed:    2.8s finished\n",
      "[Parallel(n_jobs=12)]: Using backend ThreadingBackend with 12 concurrent workers.\n",
      "[Parallel(n_jobs=12)]: Done  26 tasks      | elapsed:    0.0s\n",
      "[Parallel(n_jobs=12)]: Done 100 out of 100 | elapsed:    0.0s finished\n"
     ]
    },
    {
     "name": "stdout",
     "output_type": "stream",
     "text": [
      "Class prediction was successful without slicing!\n",
      "No slicing was necessary!\n",
      "Image saved to: local_model_outputs_classifier_prob_habitat_suitability_CCAP_NORTH_east_coast_USA_13_4000_1000_all_predictors_depth_None/output_2023-08-04-08_34_41_533.tif\n",
      "\n",
      "\n",
      "\n",
      "\n",
      "Starting image: /Users/margauxmforstyhe/Desktop/workspace/wetlands_labs/CCAP boundaries/north_east_coast/tiles_north_east_coast_ccap_mapping_bndry_gridded_50km_50km_classes_13_CCAP_scale30/inference_tiles_scale30_501.tif\n",
      "Image opened\n",
      "Class prediction was successful without slicing!\n",
      "No slicing was necessary!\n",
      "Image saved to: local_model_outputs_classifier_prob_habitat_suitability_CCAP_NORTH_east_coast_USA_13_4000_1000_all_predictors_depth_None/output_2023-08-04-08_34_41_534.tif\n",
      "\n",
      "\n",
      "\n",
      "\n",
      "Starting image: /Users/margauxmforstyhe/Desktop/workspace/wetlands_labs/CCAP boundaries/north_east_coast/tiles_north_east_coast_ccap_mapping_bndry_gridded_50km_50km_classes_13_CCAP_scale30/inference_tiles_scale30_267.tif\n",
      "Image opened\n"
     ]
    },
    {
     "name": "stderr",
     "output_type": "stream",
     "text": [
      "[Parallel(n_jobs=12)]: Using backend ThreadingBackend with 12 concurrent workers.\n",
      "[Parallel(n_jobs=12)]: Done  26 tasks      | elapsed:    1.1s\n",
      "[Parallel(n_jobs=12)]: Done 100 out of 100 | elapsed:    3.2s finished\n"
     ]
    },
    {
     "name": "stdout",
     "output_type": "stream",
     "text": [
      "Class prediction was successful without slicing!\n",
      "No slicing was necessary!\n",
      "Image saved to: local_model_outputs_classifier_prob_habitat_suitability_CCAP_NORTH_east_coast_USA_13_4000_1000_all_predictors_depth_None/output_2023-08-04-08_34_45_535.tif\n",
      "\n",
      "\n",
      "\n",
      "\n",
      "Starting image: /Users/margauxmforstyhe/Desktop/workspace/wetlands_labs/CCAP boundaries/north_east_coast/tiles_north_east_coast_ccap_mapping_bndry_gridded_50km_50km_classes_13_CCAP_scale30/inference_tiles_scale30_273.tif\n",
      "Image opened\n"
     ]
    },
    {
     "name": "stderr",
     "output_type": "stream",
     "text": [
      "[Parallel(n_jobs=12)]: Using backend ThreadingBackend with 12 concurrent workers.\n",
      "[Parallel(n_jobs=12)]: Done  26 tasks      | elapsed:    0.4s\n",
      "[Parallel(n_jobs=12)]: Done 100 out of 100 | elapsed:    1.1s finished\n"
     ]
    },
    {
     "name": "stdout",
     "output_type": "stream",
     "text": [
      "Class prediction was successful without slicing!\n",
      "No slicing was necessary!\n",
      "Image saved to: local_model_outputs_classifier_prob_habitat_suitability_CCAP_NORTH_east_coast_USA_13_4000_1000_all_predictors_depth_None/output_2023-08-04-08_34_47_536.tif\n",
      "\n",
      "\n",
      "\n",
      "\n",
      "Starting image: /Users/margauxmforstyhe/Desktop/workspace/wetlands_labs/CCAP boundaries/north_east_coast/tiles_north_east_coast_ccap_mapping_bndry_gridded_50km_50km_classes_13_CCAP_scale30/inference_tiles_scale30_515.tif\n",
      "Image opened\n"
     ]
    },
    {
     "name": "stderr",
     "output_type": "stream",
     "text": [
      "[Parallel(n_jobs=12)]: Using backend ThreadingBackend with 12 concurrent workers.\n",
      "[Parallel(n_jobs=12)]: Done  26 tasks      | elapsed:    0.2s\n",
      "[Parallel(n_jobs=12)]: Done 100 out of 100 | elapsed:    0.7s finished\n",
      "[Parallel(n_jobs=12)]: Using backend ThreadingBackend with 12 concurrent workers.\n",
      "[Parallel(n_jobs=12)]: Done  26 tasks      | elapsed:    0.0s\n"
     ]
    },
    {
     "name": "stdout",
     "output_type": "stream",
     "text": [
      "Class prediction was successful without slicing!\n",
      "No slicing was necessary!\n",
      "Image saved to: local_model_outputs_classifier_prob_habitat_suitability_CCAP_NORTH_east_coast_USA_13_4000_1000_all_predictors_depth_None/output_2023-08-04-08_34_48_537.tif\n",
      "\n",
      "\n",
      "\n",
      "\n",
      "Starting image: /Users/margauxmforstyhe/Desktop/workspace/wetlands_labs/CCAP boundaries/north_east_coast/tiles_north_east_coast_ccap_mapping_bndry_gridded_50km_50km_classes_13_CCAP_scale30/inference_tiles_scale30_298.tif\n",
      "Image opened\n"
     ]
    },
    {
     "name": "stderr",
     "output_type": "stream",
     "text": [
      "[Parallel(n_jobs=12)]: Done 100 out of 100 | elapsed:    0.1s finished\n"
     ]
    },
    {
     "name": "stdout",
     "output_type": "stream",
     "text": [
      "Class prediction was successful without slicing!\n",
      "No slicing was necessary!\n",
      "Image saved to: local_model_outputs_classifier_prob_habitat_suitability_CCAP_NORTH_east_coast_USA_13_4000_1000_all_predictors_depth_None/output_2023-08-04-08_34_48_538.tif\n",
      "\n",
      "\n",
      "\n",
      "\n",
      "Starting image: /Users/margauxmforstyhe/Desktop/workspace/wetlands_labs/CCAP boundaries/north_east_coast/tiles_north_east_coast_ccap_mapping_bndry_gridded_50km_50km_classes_13_CCAP_scale30/inference_tiles_scale30_299.tif\n",
      "Image opened\n"
     ]
    },
    {
     "name": "stderr",
     "output_type": "stream",
     "text": [
      "[Parallel(n_jobs=12)]: Using backend ThreadingBackend with 12 concurrent workers.\n",
      "[Parallel(n_jobs=12)]: Done  26 tasks      | elapsed:    1.7s\n",
      "[Parallel(n_jobs=12)]: Done 100 out of 100 | elapsed:    4.8s finished\n"
     ]
    },
    {
     "name": "stdout",
     "output_type": "stream",
     "text": [
      "Class prediction was successful without slicing!\n",
      "No slicing was necessary!\n",
      "Image saved to: local_model_outputs_classifier_prob_habitat_suitability_CCAP_NORTH_east_coast_USA_13_4000_1000_all_predictors_depth_None/output_2023-08-04-08_34_53_539.tif\n",
      "\n",
      "\n",
      "\n",
      "\n",
      "Starting image: /Users/margauxmforstyhe/Desktop/workspace/wetlands_labs/CCAP boundaries/north_east_coast/tiles_north_east_coast_ccap_mapping_bndry_gridded_50km_50km_classes_13_CCAP_scale30/inference_tiles_scale30_272.tif\n",
      "Image opened\n"
     ]
    },
    {
     "name": "stderr",
     "output_type": "stream",
     "text": [
      "[Parallel(n_jobs=12)]: Using backend ThreadingBackend with 12 concurrent workers.\n",
      "[Parallel(n_jobs=12)]: Done  26 tasks      | elapsed:    1.3s\n",
      "[Parallel(n_jobs=12)]: Done 100 out of 100 | elapsed:    3.5s finished\n"
     ]
    },
    {
     "name": "stdout",
     "output_type": "stream",
     "text": [
      "Class prediction was successful without slicing!\n",
      "No slicing was necessary!\n",
      "Image saved to: local_model_outputs_classifier_prob_habitat_suitability_CCAP_NORTH_east_coast_USA_13_4000_1000_all_predictors_depth_None/output_2023-08-04-08_34_57_540.tif\n",
      "\n",
      "\n",
      "\n",
      "\n",
      "Starting image: /Users/margauxmforstyhe/Desktop/workspace/wetlands_labs/CCAP boundaries/north_east_coast/tiles_north_east_coast_ccap_mapping_bndry_gridded_50km_50km_classes_13_CCAP_scale30/inference_tiles_scale30_514.tif\n",
      "Image opened\n"
     ]
    },
    {
     "name": "stderr",
     "output_type": "stream",
     "text": [
      "[Parallel(n_jobs=12)]: Using backend ThreadingBackend with 12 concurrent workers.\n",
      "[Parallel(n_jobs=12)]: Done  26 tasks      | elapsed:    1.8s\n",
      "[Parallel(n_jobs=12)]: Done 100 out of 100 | elapsed:    4.8s finished\n"
     ]
    },
    {
     "name": "stdout",
     "output_type": "stream",
     "text": [
      "Class prediction was successful without slicing!\n",
      "No slicing was necessary!\n",
      "Image saved to: local_model_outputs_classifier_prob_habitat_suitability_CCAP_NORTH_east_coast_USA_13_4000_1000_all_predictors_depth_None/output_2023-08-04-08_35_03_541.tif\n",
      "\n",
      "\n",
      "\n",
      "\n",
      "Starting image: /Users/margauxmforstyhe/Desktop/workspace/wetlands_labs/CCAP boundaries/north_east_coast/tiles_north_east_coast_ccap_mapping_bndry_gridded_50km_50km_classes_13_CCAP_scale30/inference_tiles_scale30_500.tif\n",
      "Image opened\n"
     ]
    },
    {
     "name": "stderr",
     "output_type": "stream",
     "text": [
      "[Parallel(n_jobs=12)]: Using backend ThreadingBackend with 12 concurrent workers.\n",
      "[Parallel(n_jobs=12)]: Done  26 tasks      | elapsed:    1.7s\n",
      "[Parallel(n_jobs=12)]: Done 100 out of 100 | elapsed:    5.0s finished\n"
     ]
    },
    {
     "name": "stdout",
     "output_type": "stream",
     "text": [
      "Class prediction was successful without slicing!\n",
      "No slicing was necessary!\n",
      "Image saved to: local_model_outputs_classifier_prob_habitat_suitability_CCAP_NORTH_east_coast_USA_13_4000_1000_all_predictors_depth_None/output_2023-08-04-08_35_09_542.tif\n",
      "\n",
      "\n",
      "\n",
      "\n",
      "Starting image: /Users/margauxmforstyhe/Desktop/workspace/wetlands_labs/CCAP boundaries/north_east_coast/tiles_north_east_coast_ccap_mapping_bndry_gridded_50km_50km_classes_13_CCAP_scale30/inference_tiles_scale30_266.tif\n",
      "Image opened\n"
     ]
    },
    {
     "name": "stderr",
     "output_type": "stream",
     "text": [
      "[Parallel(n_jobs=12)]: Using backend ThreadingBackend with 12 concurrent workers.\n",
      "[Parallel(n_jobs=12)]: Done  26 tasks      | elapsed:    1.5s\n",
      "[Parallel(n_jobs=12)]: Done 100 out of 100 | elapsed:    3.8s finished\n"
     ]
    },
    {
     "name": "stdout",
     "output_type": "stream",
     "text": [
      "Class prediction was successful without slicing!\n",
      "No slicing was necessary!\n",
      "Image saved to: local_model_outputs_classifier_prob_habitat_suitability_CCAP_NORTH_east_coast_USA_13_4000_1000_all_predictors_depth_None/output_2023-08-04-08_35_14_543.tif\n",
      "\n",
      "\n",
      "\n",
      "\n",
      "Starting image: /Users/margauxmforstyhe/Desktop/workspace/wetlands_labs/CCAP boundaries/north_east_coast/tiles_north_east_coast_ccap_mapping_bndry_gridded_50km_50km_classes_13_CCAP_scale30/inference_tiles_scale30_528.tif\n",
      "Image opened\n"
     ]
    },
    {
     "name": "stderr",
     "output_type": "stream",
     "text": [
      "[Parallel(n_jobs=12)]: Using backend ThreadingBackend with 12 concurrent workers.\n",
      "[Parallel(n_jobs=12)]: Done  26 tasks      | elapsed:    0.7s\n",
      "[Parallel(n_jobs=12)]: Done 100 out of 100 | elapsed:    2.1s finished\n"
     ]
    },
    {
     "name": "stdout",
     "output_type": "stream",
     "text": [
      "Class prediction was successful without slicing!\n",
      "No slicing was necessary!\n",
      "Image saved to: local_model_outputs_classifier_prob_habitat_suitability_CCAP_NORTH_east_coast_USA_13_4000_1000_all_predictors_depth_None/output_2023-08-04-08_35_17_544.tif\n",
      "\n",
      "\n",
      "\n",
      "\n",
      "Starting image: /Users/margauxmforstyhe/Desktop/workspace/wetlands_labs/CCAP boundaries/north_east_coast/tiles_north_east_coast_ccap_mapping_bndry_gridded_50km_50km_classes_13_CCAP_scale30/inference_tiles_scale30_919.tif\n",
      "Image opened\n"
     ]
    },
    {
     "name": "stderr",
     "output_type": "stream",
     "text": [
      "[Parallel(n_jobs=12)]: Using backend ThreadingBackend with 12 concurrent workers.\n",
      "[Parallel(n_jobs=12)]: Done  26 tasks      | elapsed:    1.8s\n",
      "[Parallel(n_jobs=12)]: Done 100 out of 100 | elapsed:    4.8s finished\n"
     ]
    },
    {
     "name": "stdout",
     "output_type": "stream",
     "text": [
      "Class prediction was successful without slicing!\n",
      "No slicing was necessary!\n",
      "Image saved to: local_model_outputs_classifier_prob_habitat_suitability_CCAP_NORTH_east_coast_USA_13_4000_1000_all_predictors_depth_None/output_2023-08-04-08_35_22_545.tif\n",
      "\n",
      "\n",
      "\n",
      "\n",
      "Starting image: /Users/margauxmforstyhe/Desktop/workspace/wetlands_labs/CCAP boundaries/north_east_coast/tiles_north_east_coast_ccap_mapping_bndry_gridded_50km_50km_classes_13_CCAP_scale30/inference_tiles_scale30_931.tif\n",
      "Image opened\n"
     ]
    },
    {
     "name": "stderr",
     "output_type": "stream",
     "text": [
      "[Parallel(n_jobs=12)]: Using backend ThreadingBackend with 12 concurrent workers.\n",
      "[Parallel(n_jobs=12)]: Done  26 tasks      | elapsed:    1.3s\n",
      "[Parallel(n_jobs=12)]: Done 100 out of 100 | elapsed:    3.9s finished\n"
     ]
    },
    {
     "name": "stdout",
     "output_type": "stream",
     "text": [
      "Class prediction was successful without slicing!\n",
      "No slicing was necessary!\n",
      "Image saved to: local_model_outputs_classifier_prob_habitat_suitability_CCAP_NORTH_east_coast_USA_13_4000_1000_all_predictors_depth_None/output_2023-08-04-08_35_27_546.tif\n",
      "\n",
      "\n",
      "\n",
      "\n",
      "Starting image: /Users/margauxmforstyhe/Desktop/workspace/wetlands_labs/CCAP boundaries/north_east_coast/tiles_north_east_coast_ccap_mapping_bndry_gridded_50km_50km_classes_13_CCAP_scale30/inference_tiles_scale30_925.tif\n",
      "Image opened\n"
     ]
    },
    {
     "name": "stderr",
     "output_type": "stream",
     "text": [
      "[Parallel(n_jobs=12)]: Using backend ThreadingBackend with 12 concurrent workers.\n",
      "[Parallel(n_jobs=12)]: Done  26 tasks      | elapsed:    1.1s\n",
      "[Parallel(n_jobs=12)]: Done 100 out of 100 | elapsed:    3.9s finished\n"
     ]
    },
    {
     "name": "stdout",
     "output_type": "stream",
     "text": [
      "Class prediction was successful without slicing!\n",
      "No slicing was necessary!\n",
      "Image saved to: local_model_outputs_classifier_prob_habitat_suitability_CCAP_NORTH_east_coast_USA_13_4000_1000_all_predictors_depth_None/output_2023-08-04-08_35_32_547.tif\n",
      "\n",
      "\n",
      "\n",
      "\n",
      "Starting image: /Users/margauxmforstyhe/Desktop/workspace/wetlands_labs/CCAP boundaries/north_east_coast/tiles_north_east_coast_ccap_mapping_bndry_gridded_50km_50km_classes_13_CCAP_scale30/inference_tiles_scale30_716.tif\n",
      "Image opened\n"
     ]
    },
    {
     "name": "stderr",
     "output_type": "stream",
     "text": [
      "[Parallel(n_jobs=12)]: Using backend ThreadingBackend with 12 concurrent workers.\n",
      "[Parallel(n_jobs=12)]: Done  26 tasks      | elapsed:    1.8s\n",
      "[Parallel(n_jobs=12)]: Done 100 out of 100 | elapsed:    3.7s finished\n",
      "[Parallel(n_jobs=12)]: Using backend ThreadingBackend with 12 concurrent workers.\n",
      "[Parallel(n_jobs=12)]: Done  26 tasks      | elapsed:    0.0s\n",
      "[Parallel(n_jobs=12)]: Done 100 out of 100 | elapsed:    0.0s finished\n"
     ]
    },
    {
     "name": "stdout",
     "output_type": "stream",
     "text": [
      "Class prediction was successful without slicing!\n",
      "No slicing was necessary!\n",
      "Image saved to: local_model_outputs_classifier_prob_habitat_suitability_CCAP_NORTH_east_coast_USA_13_4000_1000_all_predictors_depth_None/output_2023-08-04-08_35_37_548.tif\n",
      "\n",
      "\n",
      "\n",
      "\n",
      "Starting image: /Users/margauxmforstyhe/Desktop/workspace/wetlands_labs/CCAP boundaries/north_east_coast/tiles_north_east_coast_ccap_mapping_bndry_gridded_50km_50km_classes_13_CCAP_scale30/inference_tiles_scale30_702.tif\n",
      "Image opened\n",
      "Class prediction was successful without slicing!\n",
      "No slicing was necessary!\n",
      "Image saved to: local_model_outputs_classifier_prob_habitat_suitability_CCAP_NORTH_east_coast_USA_13_4000_1000_all_predictors_depth_None/output_2023-08-04-08_35_37_549.tif\n",
      "\n",
      "\n",
      "\n",
      "\n",
      "Starting image: /Users/margauxmforstyhe/Desktop/workspace/wetlands_labs/CCAP boundaries/north_east_coast/tiles_north_east_coast_ccap_mapping_bndry_gridded_50km_50km_classes_13_CCAP_scale30/inference_tiles_scale30_879.tif\n",
      "Image opened\n"
     ]
    },
    {
     "name": "stderr",
     "output_type": "stream",
     "text": [
      "[Parallel(n_jobs=12)]: Using backend ThreadingBackend with 12 concurrent workers.\n",
      "[Parallel(n_jobs=12)]: Done  26 tasks      | elapsed:    1.4s\n",
      "[Parallel(n_jobs=12)]: Done 100 out of 100 | elapsed:    4.0s finished\n"
     ]
    },
    {
     "name": "stdout",
     "output_type": "stream",
     "text": [
      "Class prediction was successful without slicing!\n",
      "No slicing was necessary!\n",
      "Image saved to: local_model_outputs_classifier_prob_habitat_suitability_CCAP_NORTH_east_coast_USA_13_4000_1000_all_predictors_depth_None/output_2023-08-04-08_35_42_550.tif\n",
      "\n",
      "\n",
      "\n",
      "\n",
      "Starting image: /Users/margauxmforstyhe/Desktop/workspace/wetlands_labs/CCAP boundaries/north_east_coast/tiles_north_east_coast_ccap_mapping_bndry_gridded_50km_50km_classes_13_CCAP_scale30/inference_tiles_scale30_845.tif\n",
      "Image opened\n"
     ]
    },
    {
     "name": "stderr",
     "output_type": "stream",
     "text": [
      "[Parallel(n_jobs=12)]: Using backend ThreadingBackend with 12 concurrent workers.\n",
      "[Parallel(n_jobs=12)]: Done  26 tasks      | elapsed:    0.7s\n",
      "[Parallel(n_jobs=12)]: Done 100 out of 100 | elapsed:    2.1s finished\n"
     ]
    },
    {
     "name": "stdout",
     "output_type": "stream",
     "text": [
      "Class prediction was successful without slicing!\n",
      "No slicing was necessary!\n",
      "Image saved to: local_model_outputs_classifier_prob_habitat_suitability_CCAP_NORTH_east_coast_USA_13_4000_1000_all_predictors_depth_None/output_2023-08-04-08_35_45_551.tif\n",
      "\n",
      "\n",
      "\n",
      "\n",
      "Starting image: /Users/margauxmforstyhe/Desktop/workspace/wetlands_labs/CCAP boundaries/north_east_coast/tiles_north_east_coast_ccap_mapping_bndry_gridded_50km_50km_classes_13_CCAP_scale30/inference_tiles_scale30_689.tif\n",
      "Image opened\n"
     ]
    },
    {
     "name": "stderr",
     "output_type": "stream",
     "text": [
      "[Parallel(n_jobs=12)]: Using backend ThreadingBackend with 12 concurrent workers.\n",
      "[Parallel(n_jobs=12)]: Done  26 tasks      | elapsed:    2.4s\n",
      "[Parallel(n_jobs=12)]: Done 100 out of 100 | elapsed:    7.2s finished\n"
     ]
    },
    {
     "name": "stdout",
     "output_type": "stream",
     "text": [
      "Class prediction was successful without slicing!\n",
      "No slicing was necessary!\n",
      "Image saved to: local_model_outputs_classifier_prob_habitat_suitability_CCAP_NORTH_east_coast_USA_13_4000_1000_all_predictors_depth_None/output_2023-08-04-08_35_53_552.tif\n",
      "\n",
      "\n",
      "\n",
      "\n",
      "Starting image: /Users/margauxmforstyhe/Desktop/workspace/wetlands_labs/CCAP boundaries/north_east_coast/tiles_north_east_coast_ccap_mapping_bndry_gridded_50km_50km_classes_13_CCAP_scale30/inference_tiles_scale30_851.tif\n",
      "Image opened\n"
     ]
    },
    {
     "name": "stderr",
     "output_type": "stream",
     "text": [
      "[Parallel(n_jobs=12)]: Using backend ThreadingBackend with 12 concurrent workers.\n",
      "[Parallel(n_jobs=12)]: Done  26 tasks      | elapsed:    1.6s\n",
      "[Parallel(n_jobs=12)]: Done 100 out of 100 | elapsed:    4.7s finished\n"
     ]
    },
    {
     "name": "stdout",
     "output_type": "stream",
     "text": [
      "Class prediction was successful without slicing!\n",
      "No slicing was necessary!\n",
      "Image saved to: local_model_outputs_classifier_prob_habitat_suitability_CCAP_NORTH_east_coast_USA_13_4000_1000_all_predictors_depth_None/output_2023-08-04-08_35_58_553.tif\n",
      "\n",
      "\n",
      "\n",
      "\n",
      "Starting image: /Users/margauxmforstyhe/Desktop/workspace/wetlands_labs/CCAP boundaries/north_east_coast/tiles_north_east_coast_ccap_mapping_bndry_gridded_50km_50km_classes_13_CCAP_scale30/inference_tiles_scale30_662.tif\n",
      "Image opened\n"
     ]
    },
    {
     "name": "stderr",
     "output_type": "stream",
     "text": [
      "[Parallel(n_jobs=12)]: Using backend ThreadingBackend with 12 concurrent workers.\n",
      "[Parallel(n_jobs=12)]: Done  26 tasks      | elapsed:    1.4s\n",
      "[Parallel(n_jobs=12)]: Done 100 out of 100 | elapsed:    3.9s finished\n"
     ]
    },
    {
     "name": "stdout",
     "output_type": "stream",
     "text": [
      "Class prediction was successful without slicing!\n",
      "No slicing was necessary!\n",
      "Image saved to: local_model_outputs_classifier_prob_habitat_suitability_CCAP_NORTH_east_coast_USA_13_4000_1000_all_predictors_depth_None/output_2023-08-04-08_36_03_554.tif\n",
      "\n",
      "\n",
      "\n",
      "\n",
      "Starting image: /Users/margauxmforstyhe/Desktop/workspace/wetlands_labs/CCAP boundaries/north_east_coast/tiles_north_east_coast_ccap_mapping_bndry_gridded_50km_50km_classes_13_CCAP_scale30/inference_tiles_scale30_104.tif\n",
      "Image opened\n"
     ]
    },
    {
     "name": "stderr",
     "output_type": "stream",
     "text": [
      "[Parallel(n_jobs=12)]: Using backend ThreadingBackend with 12 concurrent workers.\n",
      "[Parallel(n_jobs=12)]: Done  26 tasks      | elapsed:    1.7s\n",
      "[Parallel(n_jobs=12)]: Done 100 out of 100 | elapsed:    4.6s finished\n"
     ]
    },
    {
     "name": "stdout",
     "output_type": "stream",
     "text": [
      "Class prediction was successful without slicing!\n",
      "No slicing was necessary!\n",
      "Image saved to: local_model_outputs_classifier_prob_habitat_suitability_CCAP_NORTH_east_coast_USA_13_4000_1000_all_predictors_depth_None/output_2023-08-04-08_36_09_555.tif\n",
      "\n",
      "\n",
      "\n",
      "\n",
      "Starting image: /Users/margauxmforstyhe/Desktop/workspace/wetlands_labs/CCAP boundaries/north_east_coast/tiles_north_east_coast_ccap_mapping_bndry_gridded_50km_50km_classes_13_CCAP_scale30/inference_tiles_scale30_110.tif\n",
      "Image opened\n"
     ]
    },
    {
     "name": "stderr",
     "output_type": "stream",
     "text": [
      "[Parallel(n_jobs=12)]: Using backend ThreadingBackend with 12 concurrent workers.\n",
      "[Parallel(n_jobs=12)]: Done  26 tasks      | elapsed:    0.7s\n",
      "[Parallel(n_jobs=12)]: Done 100 out of 100 | elapsed:    1.9s finished\n",
      "[Parallel(n_jobs=12)]: Using backend ThreadingBackend with 12 concurrent workers.\n"
     ]
    },
    {
     "name": "stdout",
     "output_type": "stream",
     "text": [
      "Class prediction was successful without slicing!\n",
      "No slicing was necessary!\n",
      "Image saved to: local_model_outputs_classifier_prob_habitat_suitability_CCAP_NORTH_east_coast_USA_13_4000_1000_all_predictors_depth_None/output_2023-08-04-08_36_11_556.tif\n",
      "\n",
      "\n",
      "\n",
      "\n",
      "Starting image: /Users/margauxmforstyhe/Desktop/workspace/wetlands_labs/CCAP boundaries/north_east_coast/tiles_north_east_coast_ccap_mapping_bndry_gridded_50km_50km_classes_13_CCAP_scale30/inference_tiles_scale30_676.tif\n",
      "Image opened\n"
     ]
    },
    {
     "name": "stderr",
     "output_type": "stream",
     "text": [
      "[Parallel(n_jobs=12)]: Done  26 tasks      | elapsed:    0.1s\n",
      "[Parallel(n_jobs=12)]: Done 100 out of 100 | elapsed:    0.2s finished\n"
     ]
    },
    {
     "name": "stdout",
     "output_type": "stream",
     "text": [
      "Class prediction was successful without slicing!\n",
      "No slicing was necessary!\n",
      "Image saved to: local_model_outputs_classifier_prob_habitat_suitability_CCAP_NORTH_east_coast_USA_13_4000_1000_all_predictors_depth_None/output_2023-08-04-08_36_11_557.tif\n",
      "\n",
      "\n",
      "\n",
      "\n",
      "Starting image: /Users/margauxmforstyhe/Desktop/workspace/wetlands_labs/CCAP boundaries/north_east_coast/tiles_north_east_coast_ccap_mapping_bndry_gridded_50km_50km_classes_13_CCAP_scale30/inference_tiles_scale30_886.tif\n",
      "Image opened\n"
     ]
    },
    {
     "name": "stderr",
     "output_type": "stream",
     "text": [
      "[Parallel(n_jobs=12)]: Using backend ThreadingBackend with 12 concurrent workers.\n",
      "[Parallel(n_jobs=12)]: Done  26 tasks      | elapsed:    1.3s\n",
      "[Parallel(n_jobs=12)]: Done 100 out of 100 | elapsed:    3.9s finished\n"
     ]
    },
    {
     "name": "stdout",
     "output_type": "stream",
     "text": [
      "Class prediction was successful without slicing!\n",
      "No slicing was necessary!\n",
      "Image saved to: local_model_outputs_classifier_prob_habitat_suitability_CCAP_NORTH_east_coast_USA_13_4000_1000_all_predictors_depth_None/output_2023-08-04-08_36_16_558.tif\n",
      "\n",
      "\n",
      "\n",
      "\n",
      "Starting image: /Users/margauxmforstyhe/Desktop/workspace/wetlands_labs/CCAP boundaries/north_east_coast/tiles_north_east_coast_ccap_mapping_bndry_gridded_50km_50km_classes_13_CCAP_scale30/inference_tiles_scale30_138.tif\n",
      "Image opened\n"
     ]
    },
    {
     "name": "stderr",
     "output_type": "stream",
     "text": [
      "[Parallel(n_jobs=12)]: Using backend ThreadingBackend with 12 concurrent workers.\n",
      "[Parallel(n_jobs=12)]: Done  26 tasks      | elapsed:    1.5s\n",
      "[Parallel(n_jobs=12)]: Done 100 out of 100 | elapsed:    4.5s finished\n"
     ]
    },
    {
     "name": "stdout",
     "output_type": "stream",
     "text": [
      "Class prediction was successful without slicing!\n",
      "No slicing was necessary!\n",
      "Image saved to: local_model_outputs_classifier_prob_habitat_suitability_CCAP_NORTH_east_coast_USA_13_4000_1000_all_predictors_depth_None/output_2023-08-04-08_36_21_559.tif\n",
      "\n",
      "\n",
      "\n",
      "\n",
      "Starting image: /Users/margauxmforstyhe/Desktop/workspace/wetlands_labs/CCAP boundaries/north_east_coast/tiles_north_east_coast_ccap_mapping_bndry_gridded_50km_50km_classes_13_CCAP_scale30/inference_tiles_scale30_892.tif\n",
      "Image opened\n"
     ]
    },
    {
     "name": "stderr",
     "output_type": "stream",
     "text": [
      "[Parallel(n_jobs=12)]: Using backend ThreadingBackend with 12 concurrent workers.\n",
      "[Parallel(n_jobs=12)]: Done  26 tasks      | elapsed:    1.1s\n",
      "[Parallel(n_jobs=12)]: Done 100 out of 100 | elapsed:    3.2s finished\n",
      "[Parallel(n_jobs=12)]: Using backend ThreadingBackend with 12 concurrent workers.\n",
      "[Parallel(n_jobs=12)]: Done  26 tasks      | elapsed:    0.1s\n"
     ]
    },
    {
     "name": "stdout",
     "output_type": "stream",
     "text": [
      "Class prediction was successful without slicing!\n",
      "No slicing was necessary!\n",
      "Image saved to: local_model_outputs_classifier_prob_habitat_suitability_CCAP_NORTH_east_coast_USA_13_4000_1000_all_predictors_depth_None/output_2023-08-04-08_36_25_560.tif\n",
      "\n",
      "\n",
      "\n",
      "\n",
      "Starting image: /Users/margauxmforstyhe/Desktop/workspace/wetlands_labs/CCAP boundaries/north_east_coast/tiles_north_east_coast_ccap_mapping_bndry_gridded_50km_50km_classes_13_CCAP_scale30/inference_tiles_scale30_306.tif\n",
      "Image opened\n"
     ]
    },
    {
     "name": "stderr",
     "output_type": "stream",
     "text": [
      "[Parallel(n_jobs=12)]: Done 100 out of 100 | elapsed:    0.1s finished\n"
     ]
    },
    {
     "name": "stdout",
     "output_type": "stream",
     "text": [
      "Class prediction was successful without slicing!\n",
      "No slicing was necessary!\n",
      "Image saved to: local_model_outputs_classifier_prob_habitat_suitability_CCAP_NORTH_east_coast_USA_13_4000_1000_all_predictors_depth_None/output_2023-08-04-08_36_25_561.tif\n",
      "\n",
      "\n",
      "\n",
      "\n",
      "Starting image: /Users/margauxmforstyhe/Desktop/workspace/wetlands_labs/CCAP boundaries/north_east_coast/tiles_north_east_coast_ccap_mapping_bndry_gridded_50km_50km_classes_13_CCAP_scale30/inference_tiles_scale30_460.tif\n",
      "Image opened\n"
     ]
    },
    {
     "name": "stderr",
     "output_type": "stream",
     "text": [
      "[Parallel(n_jobs=12)]: Using backend ThreadingBackend with 12 concurrent workers.\n",
      "[Parallel(n_jobs=12)]: Done  26 tasks      | elapsed:    1.2s\n",
      "[Parallel(n_jobs=12)]: Done 100 out of 100 | elapsed:    3.6s finished\n"
     ]
    },
    {
     "name": "stdout",
     "output_type": "stream",
     "text": [
      "Class prediction was successful without slicing!\n",
      "No slicing was necessary!\n",
      "Image saved to: local_model_outputs_classifier_prob_habitat_suitability_CCAP_NORTH_east_coast_USA_13_4000_1000_all_predictors_depth_None/output_2023-08-04-08_36_30_562.tif\n",
      "\n",
      "\n",
      "\n",
      "\n",
      "Starting image: /Users/margauxmforstyhe/Desktop/workspace/wetlands_labs/CCAP boundaries/north_east_coast/tiles_north_east_coast_ccap_mapping_bndry_gridded_50km_50km_classes_13_CCAP_scale30/inference_tiles_scale30_474.tif\n",
      "Image opened\n"
     ]
    },
    {
     "name": "stderr",
     "output_type": "stream",
     "text": [
      "[Parallel(n_jobs=12)]: Using backend ThreadingBackend with 12 concurrent workers.\n",
      "[Parallel(n_jobs=12)]: Done  26 tasks      | elapsed:    0.4s\n",
      "[Parallel(n_jobs=12)]: Done 100 out of 100 | elapsed:    1.2s finished\n"
     ]
    },
    {
     "name": "stdout",
     "output_type": "stream",
     "text": [
      "Class prediction was successful without slicing!\n",
      "No slicing was necessary!\n",
      "Image saved to: local_model_outputs_classifier_prob_habitat_suitability_CCAP_NORTH_east_coast_USA_13_4000_1000_all_predictors_depth_None/output_2023-08-04-08_36_31_563.tif\n",
      "\n",
      "\n",
      "\n",
      "\n",
      "Starting image: /Users/margauxmforstyhe/Desktop/workspace/wetlands_labs/CCAP boundaries/north_east_coast/tiles_north_east_coast_ccap_mapping_bndry_gridded_50km_50km_classes_13_CCAP_scale30/inference_tiles_scale30_11.tif\n",
      "Image opened\n"
     ]
    },
    {
     "name": "stderr",
     "output_type": "stream",
     "text": [
      "[Parallel(n_jobs=12)]: Using backend ThreadingBackend with 12 concurrent workers.\n",
      "[Parallel(n_jobs=12)]: Done  26 tasks      | elapsed:    0.9s\n",
      "[Parallel(n_jobs=12)]: Done 100 out of 100 | elapsed:    2.7s finished\n"
     ]
    },
    {
     "name": "stdout",
     "output_type": "stream",
     "text": [
      "Class prediction was successful without slicing!\n",
      "No slicing was necessary!\n",
      "Image saved to: local_model_outputs_classifier_prob_habitat_suitability_CCAP_NORTH_east_coast_USA_13_4000_1000_all_predictors_depth_None/output_2023-08-04-08_36_35_564.tif\n",
      "\n",
      "\n",
      "\n",
      "\n",
      "Starting image: /Users/margauxmforstyhe/Desktop/workspace/wetlands_labs/CCAP boundaries/north_east_coast/tiles_north_east_coast_ccap_mapping_bndry_gridded_50km_50km_classes_13_CCAP_scale30/inference_tiles_scale30_312.tif\n",
      "Image opened\n"
     ]
    },
    {
     "name": "stderr",
     "output_type": "stream",
     "text": [
      "[Parallel(n_jobs=12)]: Using backend ThreadingBackend with 12 concurrent workers.\n",
      "[Parallel(n_jobs=12)]: Done  26 tasks      | elapsed:    1.4s\n",
      "[Parallel(n_jobs=12)]: Done 100 out of 100 | elapsed:    3.8s finished\n"
     ]
    },
    {
     "name": "stdout",
     "output_type": "stream",
     "text": [
      "Class prediction was successful without slicing!\n",
      "No slicing was necessary!\n",
      "Image saved to: local_model_outputs_classifier_prob_habitat_suitability_CCAP_NORTH_east_coast_USA_13_4000_1000_all_predictors_depth_None/output_2023-08-04-08_36_40_565.tif\n",
      "\n",
      "\n",
      "\n",
      "\n",
      "Starting image: /Users/margauxmforstyhe/Desktop/workspace/wetlands_labs/CCAP boundaries/north_east_coast/tiles_north_east_coast_ccap_mapping_bndry_gridded_50km_50km_classes_13_CCAP_scale30/inference_tiles_scale30_39.tif\n",
      "Image opened\n"
     ]
    },
    {
     "name": "stderr",
     "output_type": "stream",
     "text": [
      "[Parallel(n_jobs=12)]: Using backend ThreadingBackend with 12 concurrent workers.\n",
      "[Parallel(n_jobs=12)]: Done  26 tasks      | elapsed:    1.6s\n",
      "[Parallel(n_jobs=12)]: Done 100 out of 100 | elapsed:    4.8s finished\n"
     ]
    },
    {
     "name": "stdout",
     "output_type": "stream",
     "text": [
      "Class prediction was successful without slicing!\n",
      "No slicing was necessary!\n",
      "Image saved to: local_model_outputs_classifier_prob_habitat_suitability_CCAP_NORTH_east_coast_USA_13_4000_1000_all_predictors_depth_None/output_2023-08-04-08_36_45_566.tif\n",
      "\n",
      "\n",
      "\n",
      "\n",
      "Starting image: /Users/margauxmforstyhe/Desktop/workspace/wetlands_labs/CCAP boundaries/north_east_coast/tiles_north_east_coast_ccap_mapping_bndry_gridded_50km_50km_classes_13_CCAP_scale30/inference_tiles_scale30_448.tif\n",
      "Image opened\n"
     ]
    },
    {
     "name": "stderr",
     "output_type": "stream",
     "text": [
      "[Parallel(n_jobs=12)]: Using backend ThreadingBackend with 12 concurrent workers.\n",
      "[Parallel(n_jobs=12)]: Done  26 tasks      | elapsed:    1.1s\n",
      "[Parallel(n_jobs=12)]: Done 100 out of 100 | elapsed:    3.3s finished\n"
     ]
    },
    {
     "name": "stdout",
     "output_type": "stream",
     "text": [
      "Class prediction was successful without slicing!\n",
      "No slicing was necessary!\n",
      "Image saved to: local_model_outputs_classifier_prob_habitat_suitability_CCAP_NORTH_east_coast_USA_13_4000_1000_all_predictors_depth_None/output_2023-08-04-08_36_49_567.tif\n",
      "\n",
      "\n",
      "\n",
      "\n",
      "Starting image: /Users/margauxmforstyhe/Desktop/workspace/wetlands_labs/CCAP boundaries/north_east_coast/tiles_north_east_coast_ccap_mapping_bndry_gridded_50km_50km_classes_13_CCAP_scale30/inference_tiles_scale30_338.tif\n",
      "Image opened\n"
     ]
    },
    {
     "name": "stderr",
     "output_type": "stream",
     "text": [
      "[Parallel(n_jobs=12)]: Using backend ThreadingBackend with 12 concurrent workers.\n",
      "[Parallel(n_jobs=12)]: Done  26 tasks      | elapsed:    2.0s\n",
      "[Parallel(n_jobs=12)]: Done 100 out of 100 | elapsed:    5.0s finished\n"
     ]
    },
    {
     "name": "stdout",
     "output_type": "stream",
     "text": [
      "Class prediction was successful without slicing!\n",
      "No slicing was necessary!\n",
      "Image saved to: local_model_outputs_classifier_prob_habitat_suitability_CCAP_NORTH_east_coast_USA_13_4000_1000_all_predictors_depth_None/output_2023-08-04-08_36_55_568.tif\n",
      "\n",
      "\n",
      "\n",
      "\n",
      "Starting image: /Users/margauxmforstyhe/Desktop/workspace/wetlands_labs/CCAP boundaries/north_east_coast/tiles_north_east_coast_ccap_mapping_bndry_gridded_50km_50km_classes_13_CCAP_scale30/inference_tiles_scale30_462.tif\n",
      "Image opened\n"
     ]
    },
    {
     "name": "stderr",
     "output_type": "stream",
     "text": [
      "[Parallel(n_jobs=12)]: Using backend ThreadingBackend with 12 concurrent workers.\n",
      "[Parallel(n_jobs=12)]: Done  26 tasks      | elapsed:    1.5s\n",
      "[Parallel(n_jobs=12)]: Done 100 out of 100 | elapsed:    4.5s finished\n"
     ]
    },
    {
     "name": "stdout",
     "output_type": "stream",
     "text": [
      "Class prediction was successful without slicing!\n",
      "No slicing was necessary!\n",
      "Image saved to: local_model_outputs_classifier_prob_habitat_suitability_CCAP_NORTH_east_coast_USA_13_4000_1000_all_predictors_depth_None/output_2023-08-04-08_37_01_569.tif\n",
      "\n",
      "\n",
      "\n",
      "\n",
      "Starting image: /Users/margauxmforstyhe/Desktop/workspace/wetlands_labs/CCAP boundaries/north_east_coast/tiles_north_east_coast_ccap_mapping_bndry_gridded_50km_50km_classes_13_CCAP_scale30/inference_tiles_scale30_304.tif\n",
      "Image opened\n"
     ]
    },
    {
     "name": "stderr",
     "output_type": "stream",
     "text": [
      "[Parallel(n_jobs=12)]: Using backend ThreadingBackend with 12 concurrent workers.\n",
      "[Parallel(n_jobs=12)]: Done  26 tasks      | elapsed:    1.6s\n",
      "[Parallel(n_jobs=12)]: Done 100 out of 100 | elapsed:    4.5s finished\n"
     ]
    },
    {
     "name": "stdout",
     "output_type": "stream",
     "text": [
      "Class prediction was successful without slicing!\n",
      "No slicing was necessary!\n",
      "Image saved to: local_model_outputs_classifier_prob_habitat_suitability_CCAP_NORTH_east_coast_USA_13_4000_1000_all_predictors_depth_None/output_2023-08-04-08_37_06_570.tif\n",
      "\n",
      "\n",
      "\n",
      "\n",
      "Starting image: /Users/margauxmforstyhe/Desktop/workspace/wetlands_labs/CCAP boundaries/north_east_coast/tiles_north_east_coast_ccap_mapping_bndry_gridded_50km_50km_classes_13_CCAP_scale30/inference_tiles_scale30_310.tif\n",
      "Image opened\n"
     ]
    },
    {
     "name": "stderr",
     "output_type": "stream",
     "text": [
      "[Parallel(n_jobs=12)]: Using backend ThreadingBackend with 12 concurrent workers.\n",
      "[Parallel(n_jobs=12)]: Done  26 tasks      | elapsed:    1.6s\n",
      "[Parallel(n_jobs=12)]: Done 100 out of 100 | elapsed:    4.7s finished\n"
     ]
    },
    {
     "name": "stdout",
     "output_type": "stream",
     "text": [
      "Class prediction was successful without slicing!\n",
      "No slicing was necessary!\n",
      "Image saved to: local_model_outputs_classifier_prob_habitat_suitability_CCAP_NORTH_east_coast_USA_13_4000_1000_all_predictors_depth_None/output_2023-08-04-08_37_11_571.tif\n",
      "\n",
      "\n",
      "\n",
      "\n",
      "Starting image: /Users/margauxmforstyhe/Desktop/workspace/wetlands_labs/CCAP boundaries/north_east_coast/tiles_north_east_coast_ccap_mapping_bndry_gridded_50km_50km_classes_13_CCAP_scale30/inference_tiles_scale30_13.tif\n",
      "Image opened\n"
     ]
    },
    {
     "name": "stderr",
     "output_type": "stream",
     "text": [
      "[Parallel(n_jobs=12)]: Using backend ThreadingBackend with 12 concurrent workers.\n",
      "[Parallel(n_jobs=12)]: Done  26 tasks      | elapsed:    0.3s\n",
      "[Parallel(n_jobs=12)]: Done 100 out of 100 | elapsed:    0.9s finished\n"
     ]
    },
    {
     "name": "stdout",
     "output_type": "stream",
     "text": [
      "Class prediction was successful without slicing!\n",
      "No slicing was necessary!\n",
      "Image saved to: local_model_outputs_classifier_prob_habitat_suitability_CCAP_NORTH_east_coast_USA_13_4000_1000_all_predictors_depth_None/output_2023-08-04-08_37_13_572.tif\n",
      "\n",
      "\n",
      "\n",
      "\n",
      "Starting image: /Users/margauxmforstyhe/Desktop/workspace/wetlands_labs/CCAP boundaries/north_east_coast/tiles_north_east_coast_ccap_mapping_bndry_gridded_50km_50km_classes_13_CCAP_scale30/inference_tiles_scale30_476.tif\n",
      "Image opened\n"
     ]
    },
    {
     "name": "stderr",
     "output_type": "stream",
     "text": [
      "[Parallel(n_jobs=12)]: Using backend ThreadingBackend with 12 concurrent workers.\n",
      "[Parallel(n_jobs=12)]: Done  26 tasks      | elapsed:    1.2s\n",
      "[Parallel(n_jobs=12)]: Done 100 out of 100 | elapsed:    3.5s finished\n"
     ]
    },
    {
     "name": "stdout",
     "output_type": "stream",
     "text": [
      "Class prediction was successful without slicing!\n",
      "No slicing was necessary!\n",
      "Image saved to: local_model_outputs_classifier_prob_habitat_suitability_CCAP_NORTH_east_coast_USA_13_4000_1000_all_predictors_depth_None/output_2023-08-04-08_37_17_573.tif\n",
      "\n",
      "\n",
      "\n",
      "\n",
      "Starting image: /Users/margauxmforstyhe/Desktop/workspace/wetlands_labs/CCAP boundaries/north_east_coast/tiles_north_east_coast_ccap_mapping_bndry_gridded_50km_50km_classes_13_CCAP_scale30/inference_tiles_scale30_489.tif\n",
      "Image opened\n"
     ]
    },
    {
     "name": "stderr",
     "output_type": "stream",
     "text": [
      "[Parallel(n_jobs=12)]: Using backend ThreadingBackend with 12 concurrent workers.\n",
      "[Parallel(n_jobs=12)]: Done  26 tasks      | elapsed:    1.7s\n",
      "[Parallel(n_jobs=12)]: Done 100 out of 100 | elapsed:    4.5s finished\n",
      "[Parallel(n_jobs=12)]: Using backend ThreadingBackend with 12 concurrent workers.\n",
      "[Parallel(n_jobs=12)]: Done  26 tasks      | elapsed:    0.0s\n",
      "[Parallel(n_jobs=12)]: Done 100 out of 100 | elapsed:    0.0s finished\n"
     ]
    },
    {
     "name": "stdout",
     "output_type": "stream",
     "text": [
      "Class prediction was successful without slicing!\n",
      "No slicing was necessary!\n",
      "Image saved to: local_model_outputs_classifier_prob_habitat_suitability_CCAP_NORTH_east_coast_USA_13_4000_1000_all_predictors_depth_None/output_2023-08-04-08_37_22_574.tif\n",
      "\n",
      "\n",
      "\n",
      "\n",
      "Starting image: /Users/margauxmforstyhe/Desktop/workspace/wetlands_labs/CCAP boundaries/north_east_coast/tiles_north_east_coast_ccap_mapping_bndry_gridded_50km_50km_classes_13_CCAP_scale30/inference_tiles_scale30_884.tif\n",
      "Image opened\n",
      "Class prediction was successful without slicing!\n",
      "No slicing was necessary!\n",
      "Image saved to: local_model_outputs_classifier_prob_habitat_suitability_CCAP_NORTH_east_coast_USA_13_4000_1000_all_predictors_depth_None/output_2023-08-04-08_37_22_575.tif\n",
      "\n",
      "\n",
      "\n",
      "\n",
      "Starting image: /Users/margauxmforstyhe/Desktop/workspace/wetlands_labs/CCAP boundaries/north_east_coast/tiles_north_east_coast_ccap_mapping_bndry_gridded_50km_50km_classes_13_CCAP_scale30/inference_tiles_scale30_648.tif\n",
      "Image opened\n"
     ]
    },
    {
     "name": "stderr",
     "output_type": "stream",
     "text": [
      "[Parallel(n_jobs=12)]: Using backend ThreadingBackend with 12 concurrent workers.\n",
      "[Parallel(n_jobs=12)]: Done  26 tasks      | elapsed:    0.8s\n",
      "[Parallel(n_jobs=12)]: Done 100 out of 100 | elapsed:    4.3s finished\n",
      "[Parallel(n_jobs=12)]: Using backend ThreadingBackend with 12 concurrent workers.\n",
      "[Parallel(n_jobs=12)]: Done  26 tasks      | elapsed:    0.0s\n"
     ]
    },
    {
     "name": "stdout",
     "output_type": "stream",
     "text": [
      "Class prediction was successful without slicing!\n",
      "No slicing was necessary!\n",
      "Image saved to: local_model_outputs_classifier_prob_habitat_suitability_CCAP_NORTH_east_coast_USA_13_4000_1000_all_predictors_depth_None/output_2023-08-04-08_37_27_576.tif\n",
      "\n",
      "\n",
      "\n",
      "\n",
      "Starting image: /Users/margauxmforstyhe/Desktop/workspace/wetlands_labs/CCAP boundaries/north_east_coast/tiles_north_east_coast_ccap_mapping_bndry_gridded_50km_50km_classes_13_CCAP_scale30/inference_tiles_scale30_890.tif\n",
      "Image opened\n"
     ]
    },
    {
     "name": "stderr",
     "output_type": "stream",
     "text": [
      "[Parallel(n_jobs=12)]: Done 100 out of 100 | elapsed:    0.1s finished\n",
      "[Parallel(n_jobs=12)]: Using backend ThreadingBackend with 12 concurrent workers.\n",
      "[Parallel(n_jobs=12)]: Done  26 tasks      | elapsed:    0.0s\n",
      "[Parallel(n_jobs=12)]: Done 100 out of 100 | elapsed:    0.0s finished\n"
     ]
    },
    {
     "name": "stdout",
     "output_type": "stream",
     "text": [
      "Class prediction was successful without slicing!\n",
      "No slicing was necessary!\n",
      "Image saved to: local_model_outputs_classifier_prob_habitat_suitability_CCAP_NORTH_east_coast_USA_13_4000_1000_all_predictors_depth_None/output_2023-08-04-08_37_28_577.tif\n",
      "\n",
      "\n",
      "\n",
      "\n",
      "Starting image: /Users/margauxmforstyhe/Desktop/workspace/wetlands_labs/CCAP boundaries/north_east_coast/tiles_north_east_coast_ccap_mapping_bndry_gridded_50km_50km_classes_13_CCAP_scale30/inference_tiles_scale30_106.tif\n",
      "Image opened\n",
      "Class prediction was successful without slicing!\n",
      "No slicing was necessary!\n",
      "Image saved to: local_model_outputs_classifier_prob_habitat_suitability_CCAP_NORTH_east_coast_USA_13_4000_1000_all_predictors_depth_None/output_2023-08-04-08_37_28_578.tif\n",
      "\n",
      "\n",
      "\n",
      "\n",
      "Starting image: /Users/margauxmforstyhe/Desktop/workspace/wetlands_labs/CCAP boundaries/north_east_coast/tiles_north_east_coast_ccap_mapping_bndry_gridded_50km_50km_classes_13_CCAP_scale30/inference_tiles_scale30_660.tif\n",
      "Image opened\n"
     ]
    },
    {
     "name": "stderr",
     "output_type": "stream",
     "text": [
      "[Parallel(n_jobs=12)]: Using backend ThreadingBackend with 12 concurrent workers.\n",
      "[Parallel(n_jobs=12)]: Done  26 tasks      | elapsed:    1.6s\n",
      "[Parallel(n_jobs=12)]: Done 100 out of 100 | elapsed:    4.5s finished\n"
     ]
    },
    {
     "name": "stdout",
     "output_type": "stream",
     "text": [
      "Class prediction was successful without slicing!\n",
      "No slicing was necessary!\n",
      "Image saved to: local_model_outputs_classifier_prob_habitat_suitability_CCAP_NORTH_east_coast_USA_13_4000_1000_all_predictors_depth_None/output_2023-08-04-08_37_33_579.tif\n",
      "\n",
      "\n",
      "\n",
      "\n",
      "Starting image: /Users/margauxmforstyhe/Desktop/workspace/wetlands_labs/CCAP boundaries/north_east_coast/tiles_north_east_coast_ccap_mapping_bndry_gridded_50km_50km_classes_13_CCAP_scale30/inference_tiles_scale30_674.tif\n",
      "Image opened\n"
     ]
    },
    {
     "name": "stderr",
     "output_type": "stream",
     "text": [
      "[Parallel(n_jobs=12)]: Using backend ThreadingBackend with 12 concurrent workers.\n",
      "[Parallel(n_jobs=12)]: Done  26 tasks      | elapsed:    0.6s\n",
      "[Parallel(n_jobs=12)]: Done 100 out of 100 | elapsed:    1.6s finished\n"
     ]
    },
    {
     "name": "stdout",
     "output_type": "stream",
     "text": [
      "Class prediction was successful without slicing!\n",
      "No slicing was necessary!\n",
      "Image saved to: local_model_outputs_classifier_prob_habitat_suitability_CCAP_NORTH_east_coast_USA_13_4000_1000_all_predictors_depth_None/output_2023-08-04-08_37_35_580.tif\n",
      "\n",
      "\n",
      "\n",
      "\n",
      "Starting image: /Users/margauxmforstyhe/Desktop/workspace/wetlands_labs/CCAP boundaries/north_east_coast/tiles_north_east_coast_ccap_mapping_bndry_gridded_50km_50km_classes_13_CCAP_scale30/inference_tiles_scale30_112.tif\n",
      "Image opened\n"
     ]
    },
    {
     "name": "stderr",
     "output_type": "stream",
     "text": [
      "[Parallel(n_jobs=12)]: Using backend ThreadingBackend with 12 concurrent workers.\n",
      "[Parallel(n_jobs=12)]: Done  26 tasks      | elapsed:    1.0s\n",
      "[Parallel(n_jobs=12)]: Done 100 out of 100 | elapsed:    2.9s finished\n"
     ]
    },
    {
     "name": "stdout",
     "output_type": "stream",
     "text": [
      "Class prediction was successful without slicing!\n",
      "No slicing was necessary!\n",
      "Image saved to: local_model_outputs_classifier_prob_habitat_suitability_CCAP_NORTH_east_coast_USA_13_4000_1000_all_predictors_depth_None/output_2023-08-04-08_37_38_581.tif\n",
      "\n",
      "\n",
      "\n",
      "\n",
      "Starting image: /Users/margauxmforstyhe/Desktop/workspace/wetlands_labs/CCAP boundaries/north_east_coast/tiles_north_east_coast_ccap_mapping_bndry_gridded_50km_50km_classes_13_CCAP_scale30/inference_tiles_scale30_847.tif\n",
      "Image opened\n"
     ]
    },
    {
     "name": "stderr",
     "output_type": "stream",
     "text": [
      "[Parallel(n_jobs=12)]: Using backend ThreadingBackend with 12 concurrent workers.\n",
      "[Parallel(n_jobs=12)]: Done  26 tasks      | elapsed:    1.3s\n",
      "[Parallel(n_jobs=12)]: Done 100 out of 100 | elapsed:    3.8s finished\n"
     ]
    },
    {
     "name": "stdout",
     "output_type": "stream",
     "text": [
      "Class prediction was successful without slicing!\n",
      "No slicing was necessary!\n",
      "Image saved to: local_model_outputs_classifier_prob_habitat_suitability_CCAP_NORTH_east_coast_USA_13_4000_1000_all_predictors_depth_None/output_2023-08-04-08_37_43_582.tif\n",
      "\n",
      "\n",
      "\n",
      "\n",
      "Starting image: /Users/margauxmforstyhe/Desktop/workspace/wetlands_labs/CCAP boundaries/north_east_coast/tiles_north_east_coast_ccap_mapping_bndry_gridded_50km_50km_classes_13_CCAP_scale30/inference_tiles_scale30_853.tif\n",
      "Image opened\n"
     ]
    },
    {
     "name": "stderr",
     "output_type": "stream",
     "text": [
      "[Parallel(n_jobs=12)]: Using backend ThreadingBackend with 12 concurrent workers.\n",
      "[Parallel(n_jobs=12)]: Done  26 tasks      | elapsed:    1.6s\n",
      "[Parallel(n_jobs=12)]: Done 100 out of 100 | elapsed:    5.4s finished\n"
     ]
    },
    {
     "name": "stdout",
     "output_type": "stream",
     "text": [
      "Class prediction was successful without slicing!\n",
      "No slicing was necessary!\n",
      "Image saved to: local_model_outputs_classifier_prob_habitat_suitability_CCAP_NORTH_east_coast_USA_13_4000_1000_all_predictors_depth_None/output_2023-08-04-08_37_49_583.tif\n",
      "\n",
      "\n",
      "\n",
      "\n",
      "Starting image: /Users/margauxmforstyhe/Desktop/workspace/wetlands_labs/CCAP boundaries/north_east_coast/tiles_north_east_coast_ccap_mapping_bndry_gridded_50km_50km_classes_13_CCAP_scale30/inference_tiles_scale30_728.tif\n",
      "Image opened\n"
     ]
    },
    {
     "name": "stderr",
     "output_type": "stream",
     "text": [
      "[Parallel(n_jobs=12)]: Using backend ThreadingBackend with 12 concurrent workers.\n",
      "[Parallel(n_jobs=12)]: Done  26 tasks      | elapsed:    1.2s\n",
      "[Parallel(n_jobs=12)]: Done 100 out of 100 | elapsed:    3.4s finished\n",
      "[Parallel(n_jobs=12)]: Using backend ThreadingBackend with 12 concurrent workers.\n"
     ]
    },
    {
     "name": "stdout",
     "output_type": "stream",
     "text": [
      "Class prediction was successful without slicing!\n",
      "No slicing was necessary!\n",
      "Image saved to: local_model_outputs_classifier_prob_habitat_suitability_CCAP_NORTH_east_coast_USA_13_4000_1000_all_predictors_depth_None/output_2023-08-04-08_37_54_584.tif\n",
      "\n",
      "\n",
      "\n",
      "\n",
      "Starting image: /Users/margauxmforstyhe/Desktop/workspace/wetlands_labs/CCAP boundaries/north_east_coast/tiles_north_east_coast_ccap_mapping_bndry_gridded_50km_50km_classes_13_CCAP_scale30/inference_tiles_scale30_714.tif\n",
      "Image opened\n"
     ]
    },
    {
     "name": "stderr",
     "output_type": "stream",
     "text": [
      "[Parallel(n_jobs=12)]: Done  26 tasks      | elapsed:    0.1s\n",
      "[Parallel(n_jobs=12)]: Done 100 out of 100 | elapsed:    0.2s finished\n"
     ]
    },
    {
     "name": "stdout",
     "output_type": "stream",
     "text": [
      "Class prediction was successful without slicing!\n",
      "No slicing was necessary!\n",
      "Image saved to: local_model_outputs_classifier_prob_habitat_suitability_CCAP_NORTH_east_coast_USA_13_4000_1000_all_predictors_depth_None/output_2023-08-04-08_37_54_585.tif\n",
      "\n",
      "\n",
      "\n",
      "\n",
      "Starting image: /Users/margauxmforstyhe/Desktop/workspace/wetlands_labs/CCAP boundaries/north_east_coast/tiles_north_east_coast_ccap_mapping_bndry_gridded_50km_50km_classes_13_CCAP_scale30/inference_tiles_scale30_700.tif\n",
      "Image opened\n"
     ]
    },
    {
     "name": "stderr",
     "output_type": "stream",
     "text": [
      "[Parallel(n_jobs=12)]: Using backend ThreadingBackend with 12 concurrent workers.\n",
      "[Parallel(n_jobs=12)]: Done  26 tasks      | elapsed:    2.2s\n",
      "[Parallel(n_jobs=12)]: Done 100 out of 100 | elapsed:    6.4s finished\n"
     ]
    },
    {
     "name": "stdout",
     "output_type": "stream",
     "text": [
      "Class prediction was successful without slicing!\n",
      "No slicing was necessary!\n",
      "Image saved to: local_model_outputs_classifier_prob_habitat_suitability_CCAP_NORTH_east_coast_USA_13_4000_1000_all_predictors_depth_None/output_2023-08-04-08_38_01_586.tif\n",
      "\n",
      "\n",
      "\n",
      "\n",
      "Starting image: /Users/margauxmforstyhe/Desktop/workspace/wetlands_labs/CCAP boundaries/north_east_coast/tiles_north_east_coast_ccap_mapping_bndry_gridded_50km_50km_classes_13_CCAP_scale30/inference_tiles_scale30_927.tif\n",
      "Image opened\n"
     ]
    },
    {
     "name": "stderr",
     "output_type": "stream",
     "text": [
      "[Parallel(n_jobs=12)]: Using backend ThreadingBackend with 12 concurrent workers.\n",
      "[Parallel(n_jobs=12)]: Done  26 tasks      | elapsed:    1.5s\n",
      "[Parallel(n_jobs=12)]: Done 100 out of 100 | elapsed:    4.6s finished\n"
     ]
    },
    {
     "name": "stdout",
     "output_type": "stream",
     "text": [
      "Class prediction was successful without slicing!\n",
      "No slicing was necessary!\n",
      "Image saved to: local_model_outputs_classifier_prob_habitat_suitability_CCAP_NORTH_east_coast_USA_13_4000_1000_all_predictors_depth_None/output_2023-08-04-08_38_07_587.tif\n",
      "\n",
      "\n",
      "\n",
      "\n",
      "Starting image: /Users/margauxmforstyhe/Desktop/workspace/wetlands_labs/CCAP boundaries/north_east_coast/tiles_north_east_coast_ccap_mapping_bndry_gridded_50km_50km_classes_13_CCAP_scale30/inference_tiles_scale30_258.tif\n",
      "Image opened\n"
     ]
    },
    {
     "name": "stderr",
     "output_type": "stream",
     "text": [
      "[Parallel(n_jobs=12)]: Using backend ThreadingBackend with 12 concurrent workers.\n",
      "[Parallel(n_jobs=12)]: Done  26 tasks      | elapsed:    1.5s\n",
      "[Parallel(n_jobs=12)]: Done 100 out of 100 | elapsed:    4.5s finished\n"
     ]
    },
    {
     "name": "stdout",
     "output_type": "stream",
     "text": [
      "Class prediction was successful without slicing!\n",
      "No slicing was necessary!\n",
      "Image saved to: local_model_outputs_classifier_prob_habitat_suitability_CCAP_NORTH_east_coast_USA_13_4000_1000_all_predictors_depth_None/output_2023-08-04-08_38_12_588.tif\n",
      "\n",
      "\n",
      "\n",
      "\n",
      "Starting image: /Users/margauxmforstyhe/Desktop/workspace/wetlands_labs/CCAP boundaries/north_east_coast/tiles_north_east_coast_ccap_mapping_bndry_gridded_50km_50km_classes_13_CCAP_scale30/inference_tiles_scale30_516.tif\n",
      "Image opened\n"
     ]
    },
    {
     "name": "stderr",
     "output_type": "stream",
     "text": [
      "[Parallel(n_jobs=12)]: Using backend ThreadingBackend with 12 concurrent workers.\n",
      "[Parallel(n_jobs=12)]: Done  26 tasks      | elapsed:    1.9s\n",
      "[Parallel(n_jobs=12)]: Done 100 out of 100 | elapsed:    5.5s finished\n"
     ]
    },
    {
     "name": "stdout",
     "output_type": "stream",
     "text": [
      "Class prediction was successful without slicing!\n",
      "No slicing was necessary!\n",
      "Image saved to: local_model_outputs_classifier_prob_habitat_suitability_CCAP_NORTH_east_coast_USA_13_4000_1000_all_predictors_depth_None/output_2023-08-04-08_38_19_589.tif\n",
      "\n",
      "\n",
      "\n",
      "\n",
      "Starting image: /Users/margauxmforstyhe/Desktop/workspace/wetlands_labs/CCAP boundaries/north_east_coast/tiles_north_east_coast_ccap_mapping_bndry_gridded_50km_50km_classes_13_CCAP_scale30/inference_tiles_scale30_270.tif\n",
      "Image opened\n"
     ]
    },
    {
     "name": "stderr",
     "output_type": "stream",
     "text": [
      "[Parallel(n_jobs=12)]: Using backend ThreadingBackend with 12 concurrent workers.\n",
      "[Parallel(n_jobs=12)]: Done  26 tasks      | elapsed:    0.5s\n",
      "[Parallel(n_jobs=12)]: Done 100 out of 100 | elapsed:    1.5s finished\n"
     ]
    },
    {
     "name": "stdout",
     "output_type": "stream",
     "text": [
      "Class prediction was successful without slicing!\n",
      "No slicing was necessary!\n",
      "Image saved to: local_model_outputs_classifier_prob_habitat_suitability_CCAP_NORTH_east_coast_USA_13_4000_1000_all_predictors_depth_None/output_2023-08-04-08_38_21_590.tif\n",
      "\n",
      "\n",
      "\n",
      "\n",
      "Starting image: /Users/margauxmforstyhe/Desktop/workspace/wetlands_labs/CCAP boundaries/north_east_coast/tiles_north_east_coast_ccap_mapping_bndry_gridded_50km_50km_classes_13_CCAP_scale30/inference_tiles_scale30_264.tif\n",
      "Image opened\n"
     ]
    },
    {
     "name": "stderr",
     "output_type": "stream",
     "text": [
      "[Parallel(n_jobs=12)]: Using backend ThreadingBackend with 12 concurrent workers.\n",
      "[Parallel(n_jobs=12)]: Done  26 tasks      | elapsed:    1.6s\n",
      "[Parallel(n_jobs=12)]: Done 100 out of 100 | elapsed:    4.6s finished\n"
     ]
    },
    {
     "name": "stdout",
     "output_type": "stream",
     "text": [
      "Class prediction was successful without slicing!\n",
      "No slicing was necessary!\n",
      "Image saved to: local_model_outputs_classifier_prob_habitat_suitability_CCAP_NORTH_east_coast_USA_13_4000_1000_all_predictors_depth_None/output_2023-08-04-08_38_26_591.tif\n",
      "\n",
      "\n",
      "\n",
      "\n",
      "Starting image: /Users/margauxmforstyhe/Desktop/workspace/wetlands_labs/CCAP boundaries/north_east_coast/tiles_north_east_coast_ccap_mapping_bndry_gridded_50km_50km_classes_13_CCAP_scale30/inference_tiles_scale30_502.tif\n",
      "Image opened\n"
     ]
    },
    {
     "name": "stderr",
     "output_type": "stream",
     "text": [
      "[Parallel(n_jobs=12)]: Using backend ThreadingBackend with 12 concurrent workers.\n",
      "[Parallel(n_jobs=12)]: Done  26 tasks      | elapsed:    1.7s\n",
      "[Parallel(n_jobs=12)]: Done 100 out of 100 | elapsed:    4.8s finished\n"
     ]
    },
    {
     "name": "stdout",
     "output_type": "stream",
     "text": [
      "Class prediction was successful without slicing!\n",
      "No slicing was necessary!\n",
      "Image saved to: local_model_outputs_classifier_prob_habitat_suitability_CCAP_NORTH_east_coast_USA_13_4000_1000_all_predictors_depth_None/output_2023-08-04-08_38_32_592.tif\n",
      "\n",
      "\n",
      "\n",
      "\n",
      "Starting image: /Users/margauxmforstyhe/Desktop/workspace/wetlands_labs/CCAP boundaries/north_east_coast/tiles_north_east_coast_ccap_mapping_bndry_gridded_50km_50km_classes_13_CCAP_scale30/inference_tiles_scale30_265.tif\n",
      "Image opened\n"
     ]
    },
    {
     "name": "stderr",
     "output_type": "stream",
     "text": [
      "[Parallel(n_jobs=12)]: Using backend ThreadingBackend with 12 concurrent workers.\n",
      "[Parallel(n_jobs=12)]: Done  26 tasks      | elapsed:    1.9s\n",
      "[Parallel(n_jobs=12)]: Done 100 out of 100 | elapsed:    4.7s finished\n",
      "[Parallel(n_jobs=12)]: Using backend ThreadingBackend with 12 concurrent workers.\n"
     ]
    },
    {
     "name": "stdout",
     "output_type": "stream",
     "text": [
      "Class prediction was successful without slicing!\n",
      "No slicing was necessary!\n",
      "Image saved to: local_model_outputs_classifier_prob_habitat_suitability_CCAP_NORTH_east_coast_USA_13_4000_1000_all_predictors_depth_None/output_2023-08-04-08_38_38_593.tif\n",
      "\n",
      "\n",
      "\n",
      "\n",
      "Starting image: /Users/margauxmforstyhe/Desktop/workspace/wetlands_labs/CCAP boundaries/north_east_coast/tiles_north_east_coast_ccap_mapping_bndry_gridded_50km_50km_classes_13_CCAP_scale30/inference_tiles_scale30_503.tif\n",
      "Image opened\n"
     ]
    },
    {
     "name": "stderr",
     "output_type": "stream",
     "text": [
      "[Parallel(n_jobs=12)]: Done  26 tasks      | elapsed:    0.0s\n",
      "[Parallel(n_jobs=12)]: Done 100 out of 100 | elapsed:    0.1s finished\n"
     ]
    },
    {
     "name": "stdout",
     "output_type": "stream",
     "text": [
      "Class prediction was successful without slicing!\n",
      "No slicing was necessary!\n",
      "Image saved to: local_model_outputs_classifier_prob_habitat_suitability_CCAP_NORTH_east_coast_USA_13_4000_1000_all_predictors_depth_None/output_2023-08-04-08_38_38_594.tif\n",
      "\n",
      "\n",
      "\n",
      "\n",
      "Starting image: /Users/margauxmforstyhe/Desktop/workspace/wetlands_labs/CCAP boundaries/north_east_coast/tiles_north_east_coast_ccap_mapping_bndry_gridded_50km_50km_classes_13_CCAP_scale30/inference_tiles_scale30_517.tif\n",
      "Image opened\n"
     ]
    },
    {
     "name": "stderr",
     "output_type": "stream",
     "text": [
      "[Parallel(n_jobs=12)]: Using backend ThreadingBackend with 12 concurrent workers.\n",
      "[Parallel(n_jobs=12)]: Done  26 tasks      | elapsed:    1.7s\n",
      "[Parallel(n_jobs=12)]: Done 100 out of 100 | elapsed:    5.1s finished\n"
     ]
    },
    {
     "name": "stdout",
     "output_type": "stream",
     "text": [
      "Class prediction was successful without slicing!\n",
      "No slicing was necessary!\n",
      "Image saved to: local_model_outputs_classifier_prob_habitat_suitability_CCAP_NORTH_east_coast_USA_13_4000_1000_all_predictors_depth_None/output_2023-08-04-08_38_44_595.tif\n",
      "\n",
      "\n",
      "\n",
      "\n",
      "Starting image: /Users/margauxmforstyhe/Desktop/workspace/wetlands_labs/CCAP boundaries/north_east_coast/tiles_north_east_coast_ccap_mapping_bndry_gridded_50km_50km_classes_13_CCAP_scale30/inference_tiles_scale30_271.tif\n",
      "Image opened\n"
     ]
    },
    {
     "name": "stderr",
     "output_type": "stream",
     "text": [
      "[Parallel(n_jobs=12)]: Using backend ThreadingBackend with 12 concurrent workers.\n",
      "[Parallel(n_jobs=12)]: Done  26 tasks      | elapsed:    1.1s\n",
      "[Parallel(n_jobs=12)]: Done 100 out of 100 | elapsed:    3.2s finished\n"
     ]
    },
    {
     "name": "stdout",
     "output_type": "stream",
     "text": [
      "Class prediction was successful without slicing!\n",
      "No slicing was necessary!\n",
      "Image saved to: local_model_outputs_classifier_prob_habitat_suitability_CCAP_NORTH_east_coast_USA_13_4000_1000_all_predictors_depth_None/output_2023-08-04-08_38_48_596.tif\n",
      "\n",
      "\n",
      "\n",
      "\n",
      "Starting image: /Users/margauxmforstyhe/Desktop/workspace/wetlands_labs/CCAP boundaries/north_east_coast/tiles_north_east_coast_ccap_mapping_bndry_gridded_50km_50km_classes_13_CCAP_scale30/inference_tiles_scale30_259.tif\n",
      "Image opened\n"
     ]
    },
    {
     "name": "stderr",
     "output_type": "stream",
     "text": [
      "[Parallel(n_jobs=12)]: Using backend ThreadingBackend with 12 concurrent workers.\n",
      "[Parallel(n_jobs=12)]: Done  26 tasks      | elapsed:    1.4s\n",
      "[Parallel(n_jobs=12)]: Done 100 out of 100 | elapsed:    3.9s finished\n"
     ]
    },
    {
     "name": "stdout",
     "output_type": "stream",
     "text": [
      "Class prediction was successful without slicing!\n",
      "No slicing was necessary!\n",
      "Image saved to: local_model_outputs_classifier_prob_habitat_suitability_CCAP_NORTH_east_coast_USA_13_4000_1000_all_predictors_depth_None/output_2023-08-04-08_38_53_597.tif\n",
      "\n",
      "\n",
      "\n",
      "\n",
      "Starting image: /Users/margauxmforstyhe/Desktop/workspace/wetlands_labs/CCAP boundaries/north_east_coast/tiles_north_east_coast_ccap_mapping_bndry_gridded_50km_50km_classes_13_CCAP_scale30/inference_tiles_scale30_926.tif\n",
      "Image opened\n"
     ]
    },
    {
     "name": "stderr",
     "output_type": "stream",
     "text": [
      "[Parallel(n_jobs=12)]: Using backend ThreadingBackend with 12 concurrent workers.\n",
      "[Parallel(n_jobs=12)]: Done  26 tasks      | elapsed:    1.4s\n",
      "[Parallel(n_jobs=12)]: Done 100 out of 100 | elapsed:    4.0s finished\n"
     ]
    },
    {
     "name": "stdout",
     "output_type": "stream",
     "text": [
      "Class prediction was successful without slicing!\n",
      "No slicing was necessary!\n",
      "Image saved to: local_model_outputs_classifier_prob_habitat_suitability_CCAP_NORTH_east_coast_USA_13_4000_1000_all_predictors_depth_None/output_2023-08-04-08_38_58_598.tif\n",
      "\n",
      "\n",
      "\n",
      "\n",
      "Starting image: /Users/margauxmforstyhe/Desktop/workspace/wetlands_labs/CCAP boundaries/north_east_coast/tiles_north_east_coast_ccap_mapping_bndry_gridded_50km_50km_classes_13_CCAP_scale30/inference_tiles_scale30_932.tif\n",
      "Image opened\n"
     ]
    },
    {
     "name": "stderr",
     "output_type": "stream",
     "text": [
      "[Parallel(n_jobs=12)]: Using backend ThreadingBackend with 12 concurrent workers.\n",
      "[Parallel(n_jobs=12)]: Done  26 tasks      | elapsed:    1.4s\n",
      "[Parallel(n_jobs=12)]: Done 100 out of 100 | elapsed:    4.1s finished\n"
     ]
    },
    {
     "name": "stdout",
     "output_type": "stream",
     "text": [
      "Class prediction was successful without slicing!\n",
      "No slicing was necessary!\n",
      "Image saved to: local_model_outputs_classifier_prob_habitat_suitability_CCAP_NORTH_east_coast_USA_13_4000_1000_all_predictors_depth_None/output_2023-08-04-08_39_03_599.tif\n",
      "\n",
      "\n",
      "\n",
      "\n",
      "Starting image: /Users/margauxmforstyhe/Desktop/workspace/wetlands_labs/CCAP boundaries/north_east_coast/tiles_north_east_coast_ccap_mapping_bndry_gridded_50km_50km_classes_13_CCAP_scale30/inference_tiles_scale30_701.tif\n",
      "Image opened\n"
     ]
    },
    {
     "name": "stderr",
     "output_type": "stream",
     "text": [
      "[Parallel(n_jobs=12)]: Using backend ThreadingBackend with 12 concurrent workers.\n",
      "[Parallel(n_jobs=12)]: Done  26 tasks      | elapsed:    1.1s\n",
      "[Parallel(n_jobs=12)]: Done 100 out of 100 | elapsed:    3.1s finished\n"
     ]
    },
    {
     "name": "stdout",
     "output_type": "stream",
     "text": [
      "Class prediction was successful without slicing!\n",
      "No slicing was necessary!\n",
      "Image saved to: local_model_outputs_classifier_prob_habitat_suitability_CCAP_NORTH_east_coast_USA_13_4000_1000_all_predictors_depth_None/output_2023-08-04-08_39_06_600.tif\n",
      "\n",
      "\n",
      "\n",
      "\n",
      "Starting image: /Users/margauxmforstyhe/Desktop/workspace/wetlands_labs/CCAP boundaries/north_east_coast/tiles_north_east_coast_ccap_mapping_bndry_gridded_50km_50km_classes_13_CCAP_scale30/inference_tiles_scale30_715.tif\n",
      "Image opened\n"
     ]
    },
    {
     "name": "stderr",
     "output_type": "stream",
     "text": [
      "[Parallel(n_jobs=12)]: Using backend ThreadingBackend with 12 concurrent workers.\n",
      "[Parallel(n_jobs=12)]: Done  26 tasks      | elapsed:    1.4s\n",
      "[Parallel(n_jobs=12)]: Done 100 out of 100 | elapsed:    3.9s finished\n"
     ]
    },
    {
     "name": "stdout",
     "output_type": "stream",
     "text": [
      "Class prediction was successful without slicing!\n",
      "No slicing was necessary!\n",
      "Image saved to: local_model_outputs_classifier_prob_habitat_suitability_CCAP_NORTH_east_coast_USA_13_4000_1000_all_predictors_depth_None/output_2023-08-04-08_39_11_601.tif\n",
      "\n",
      "\n",
      "\n",
      "\n",
      "Starting image: /Users/margauxmforstyhe/Desktop/workspace/wetlands_labs/CCAP boundaries/north_east_coast/tiles_north_east_coast_ccap_mapping_bndry_gridded_50km_50km_classes_13_CCAP_scale30/inference_tiles_scale30_729.tif\n",
      "Image opened\n"
     ]
    },
    {
     "name": "stderr",
     "output_type": "stream",
     "text": [
      "[Parallel(n_jobs=12)]: Using backend ThreadingBackend with 12 concurrent workers.\n",
      "[Parallel(n_jobs=12)]: Done  26 tasks      | elapsed:    1.2s\n",
      "[Parallel(n_jobs=12)]: Done 100 out of 100 | elapsed:    3.7s finished\n"
     ]
    },
    {
     "name": "stdout",
     "output_type": "stream",
     "text": [
      "Class prediction was successful without slicing!\n",
      "No slicing was necessary!\n",
      "Image saved to: local_model_outputs_classifier_prob_habitat_suitability_CCAP_NORTH_east_coast_USA_13_4000_1000_all_predictors_depth_None/output_2023-08-04-08_39_16_602.tif\n",
      "\n",
      "\n",
      "\n",
      "\n",
      "Starting image: /Users/margauxmforstyhe/Desktop/workspace/wetlands_labs/CCAP boundaries/north_east_coast/tiles_north_east_coast_ccap_mapping_bndry_gridded_50km_50km_classes_13_CCAP_scale30/inference_tiles_scale30_852.tif\n",
      "Image opened\n"
     ]
    },
    {
     "name": "stderr",
     "output_type": "stream",
     "text": [
      "[Parallel(n_jobs=12)]: Using backend ThreadingBackend with 12 concurrent workers.\n",
      "[Parallel(n_jobs=12)]: Done  26 tasks      | elapsed:    1.8s\n",
      "[Parallel(n_jobs=12)]: Done 100 out of 100 | elapsed:    5.1s finished\n"
     ]
    },
    {
     "name": "stdout",
     "output_type": "stream",
     "text": [
      "Class prediction was successful without slicing!\n",
      "No slicing was necessary!\n",
      "Image saved to: local_model_outputs_classifier_prob_habitat_suitability_CCAP_NORTH_east_coast_USA_13_4000_1000_all_predictors_depth_None/output_2023-08-04-08_39_22_603.tif\n",
      "\n",
      "\n",
      "\n",
      "\n",
      "Starting image: /Users/margauxmforstyhe/Desktop/workspace/wetlands_labs/CCAP boundaries/north_east_coast/tiles_north_east_coast_ccap_mapping_bndry_gridded_50km_50km_classes_13_CCAP_scale30/inference_tiles_scale30_846.tif\n",
      "Image opened\n"
     ]
    },
    {
     "name": "stderr",
     "output_type": "stream",
     "text": [
      "[Parallel(n_jobs=12)]: Using backend ThreadingBackend with 12 concurrent workers.\n",
      "[Parallel(n_jobs=12)]: Done  26 tasks      | elapsed:    2.2s\n",
      "[Parallel(n_jobs=12)]: Done 100 out of 100 | elapsed:    7.0s finished\n"
     ]
    },
    {
     "name": "stdout",
     "output_type": "stream",
     "text": [
      "Class prediction was successful without slicing!\n",
      "No slicing was necessary!\n",
      "Image saved to: local_model_outputs_classifier_prob_habitat_suitability_CCAP_NORTH_east_coast_USA_13_4000_1000_all_predictors_depth_None/output_2023-08-04-08_39_30_604.tif\n",
      "\n",
      "\n",
      "\n",
      "\n",
      "Starting image: /Users/margauxmforstyhe/Desktop/workspace/wetlands_labs/CCAP boundaries/north_east_coast/tiles_north_east_coast_ccap_mapping_bndry_gridded_50km_50km_classes_13_CCAP_scale30/inference_tiles_scale30_675.tif\n",
      "Image opened\n"
     ]
    },
    {
     "name": "stderr",
     "output_type": "stream",
     "text": [
      "[Parallel(n_jobs=12)]: Using backend ThreadingBackend with 12 concurrent workers.\n",
      "[Parallel(n_jobs=12)]: Done  26 tasks      | elapsed:    0.5s\n",
      "[Parallel(n_jobs=12)]: Done 100 out of 100 | elapsed:    1.3s finished\n"
     ]
    },
    {
     "name": "stdout",
     "output_type": "stream",
     "text": [
      "Class prediction was successful without slicing!\n",
      "No slicing was necessary!\n",
      "Image saved to: local_model_outputs_classifier_prob_habitat_suitability_CCAP_NORTH_east_coast_USA_13_4000_1000_all_predictors_depth_None/output_2023-08-04-08_39_31_605.tif\n",
      "\n",
      "\n",
      "\n",
      "\n",
      "Starting image: /Users/margauxmforstyhe/Desktop/workspace/wetlands_labs/CCAP boundaries/north_east_coast/tiles_north_east_coast_ccap_mapping_bndry_gridded_50km_50km_classes_13_CCAP_scale30/inference_tiles_scale30_113.tif\n",
      "Image opened\n"
     ]
    },
    {
     "name": "stderr",
     "output_type": "stream",
     "text": [
      "[Parallel(n_jobs=12)]: Using backend ThreadingBackend with 12 concurrent workers.\n",
      "[Parallel(n_jobs=12)]: Done  26 tasks      | elapsed:    1.0s\n",
      "[Parallel(n_jobs=12)]: Done 100 out of 100 | elapsed:    2.9s finished\n"
     ]
    },
    {
     "name": "stdout",
     "output_type": "stream",
     "text": [
      "Class prediction was successful without slicing!\n",
      "No slicing was necessary!\n",
      "Image saved to: local_model_outputs_classifier_prob_habitat_suitability_CCAP_NORTH_east_coast_USA_13_4000_1000_all_predictors_depth_None/output_2023-08-04-08_39_35_606.tif\n",
      "\n",
      "\n",
      "\n",
      "\n",
      "Starting image: /Users/margauxmforstyhe/Desktop/workspace/wetlands_labs/CCAP boundaries/north_east_coast/tiles_north_east_coast_ccap_mapping_bndry_gridded_50km_50km_classes_13_CCAP_scale30/inference_tiles_scale30_107.tif\n",
      "Image opened\n"
     ]
    },
    {
     "name": "stderr",
     "output_type": "stream",
     "text": [
      "[Parallel(n_jobs=12)]: Using backend ThreadingBackend with 12 concurrent workers.\n",
      "[Parallel(n_jobs=12)]: Done  26 tasks      | elapsed:    0.8s\n",
      "[Parallel(n_jobs=12)]: Done 100 out of 100 | elapsed:    2.3s finished\n"
     ]
    },
    {
     "name": "stdout",
     "output_type": "stream",
     "text": [
      "Class prediction was successful without slicing!\n",
      "No slicing was necessary!\n",
      "Image saved to: local_model_outputs_classifier_prob_habitat_suitability_CCAP_NORTH_east_coast_USA_13_4000_1000_all_predictors_depth_None/output_2023-08-04-08_39_38_607.tif\n",
      "\n",
      "\n",
      "\n",
      "\n",
      "Starting image: /Users/margauxmforstyhe/Desktop/workspace/wetlands_labs/CCAP boundaries/north_east_coast/tiles_north_east_coast_ccap_mapping_bndry_gridded_50km_50km_classes_13_CCAP_scale30/inference_tiles_scale30_661.tif\n",
      "Image opened\n"
     ]
    },
    {
     "name": "stderr",
     "output_type": "stream",
     "text": [
      "[Parallel(n_jobs=12)]: Using backend ThreadingBackend with 12 concurrent workers.\n",
      "[Parallel(n_jobs=12)]: Done  26 tasks      | elapsed:    1.5s\n",
      "[Parallel(n_jobs=12)]: Done 100 out of 100 | elapsed:    4.4s finished\n"
     ]
    },
    {
     "name": "stdout",
     "output_type": "stream",
     "text": [
      "Class prediction was successful without slicing!\n",
      "No slicing was necessary!\n",
      "Image saved to: local_model_outputs_classifier_prob_habitat_suitability_CCAP_NORTH_east_coast_USA_13_4000_1000_all_predictors_depth_None/output_2023-08-04-08_39_43_608.tif\n",
      "\n",
      "\n",
      "\n",
      "\n",
      "Starting image: /Users/margauxmforstyhe/Desktop/workspace/wetlands_labs/CCAP boundaries/north_east_coast/tiles_north_east_coast_ccap_mapping_bndry_gridded_50km_50km_classes_13_CCAP_scale30/inference_tiles_scale30_891.tif\n",
      "Image opened\n"
     ]
    },
    {
     "name": "stderr",
     "output_type": "stream",
     "text": [
      "[Parallel(n_jobs=12)]: Using backend ThreadingBackend with 12 concurrent workers.\n",
      "[Parallel(n_jobs=12)]: Done  26 tasks      | elapsed:    1.0s\n",
      "[Parallel(n_jobs=12)]: Done 100 out of 100 | elapsed:    3.0s finished\n"
     ]
    },
    {
     "name": "stdout",
     "output_type": "stream",
     "text": [
      "Class prediction was successful without slicing!\n",
      "No slicing was necessary!\n",
      "Image saved to: local_model_outputs_classifier_prob_habitat_suitability_CCAP_NORTH_east_coast_USA_13_4000_1000_all_predictors_depth_None/output_2023-08-04-08_39_47_609.tif\n",
      "\n",
      "\n",
      "\n",
      "\n",
      "Starting image: /Users/margauxmforstyhe/Desktop/workspace/wetlands_labs/CCAP boundaries/north_east_coast/tiles_north_east_coast_ccap_mapping_bndry_gridded_50km_50km_classes_13_CCAP_scale30/inference_tiles_scale30_649.tif\n",
      "Image opened\n"
     ]
    },
    {
     "name": "stderr",
     "output_type": "stream",
     "text": [
      "[Parallel(n_jobs=12)]: Using backend ThreadingBackend with 12 concurrent workers.\n",
      "[Parallel(n_jobs=12)]: Done  26 tasks      | elapsed:    1.1s\n",
      "[Parallel(n_jobs=12)]: Done 100 out of 100 | elapsed:    3.0s finished\n"
     ]
    },
    {
     "name": "stdout",
     "output_type": "stream",
     "text": [
      "Class prediction was successful without slicing!\n",
      "No slicing was necessary!\n",
      "Image saved to: local_model_outputs_classifier_prob_habitat_suitability_CCAP_NORTH_east_coast_USA_13_4000_1000_all_predictors_depth_None/output_2023-08-04-08_39_50_610.tif\n",
      "\n",
      "\n",
      "\n",
      "\n",
      "Starting image: /Users/margauxmforstyhe/Desktop/workspace/wetlands_labs/CCAP boundaries/north_east_coast/tiles_north_east_coast_ccap_mapping_bndry_gridded_50km_50km_classes_13_CCAP_scale30/inference_tiles_scale30_885.tif\n",
      "Image opened\n"
     ]
    },
    {
     "name": "stderr",
     "output_type": "stream",
     "text": [
      "[Parallel(n_jobs=12)]: Using backend ThreadingBackend with 12 concurrent workers.\n",
      "[Parallel(n_jobs=12)]: Done  26 tasks      | elapsed:    1.6s\n",
      "[Parallel(n_jobs=12)]: Done 100 out of 100 | elapsed:    3.8s finished\n"
     ]
    },
    {
     "name": "stdout",
     "output_type": "stream",
     "text": [
      "Class prediction was successful without slicing!\n",
      "No slicing was necessary!\n",
      "Image saved to: local_model_outputs_classifier_prob_habitat_suitability_CCAP_NORTH_east_coast_USA_13_4000_1000_all_predictors_depth_None/output_2023-08-04-08_39_55_611.tif\n",
      "\n",
      "\n",
      "\n",
      "\n",
      "Starting image: /Users/margauxmforstyhe/Desktop/workspace/wetlands_labs/CCAP boundaries/north_east_coast/tiles_north_east_coast_ccap_mapping_bndry_gridded_50km_50km_classes_13_CCAP_scale30/inference_tiles_scale30_488.tif\n",
      "Image opened\n"
     ]
    },
    {
     "name": "stderr",
     "output_type": "stream",
     "text": [
      "[Parallel(n_jobs=12)]: Using backend ThreadingBackend with 12 concurrent workers.\n",
      "[Parallel(n_jobs=12)]: Done  26 tasks      | elapsed:    1.6s\n",
      "[Parallel(n_jobs=12)]: Done 100 out of 100 | elapsed:    4.7s finished\n"
     ]
    },
    {
     "name": "stdout",
     "output_type": "stream",
     "text": [
      "Class prediction was successful without slicing!\n",
      "No slicing was necessary!\n",
      "Image saved to: local_model_outputs_classifier_prob_habitat_suitability_CCAP_NORTH_east_coast_USA_13_4000_1000_all_predictors_depth_None/output_2023-08-04-08_40_01_612.tif\n",
      "\n",
      "\n",
      "\n",
      "\n",
      "Starting image: /Users/margauxmforstyhe/Desktop/workspace/wetlands_labs/CCAP boundaries/north_east_coast/tiles_north_east_coast_ccap_mapping_bndry_gridded_50km_50km_classes_13_CCAP_scale30/inference_tiles_scale30_12.tif\n",
      "Image opened\n"
     ]
    },
    {
     "name": "stderr",
     "output_type": "stream",
     "text": [
      "[Parallel(n_jobs=12)]: Using backend ThreadingBackend with 12 concurrent workers.\n",
      "[Parallel(n_jobs=12)]: Done  26 tasks      | elapsed:    1.5s\n",
      "[Parallel(n_jobs=12)]: Done 100 out of 100 | elapsed:    4.2s finished\n"
     ]
    },
    {
     "name": "stdout",
     "output_type": "stream",
     "text": [
      "Class prediction was successful without slicing!\n",
      "No slicing was necessary!\n",
      "Image saved to: local_model_outputs_classifier_prob_habitat_suitability_CCAP_NORTH_east_coast_USA_13_4000_1000_all_predictors_depth_None/output_2023-08-04-08_40_06_613.tif\n",
      "\n",
      "\n",
      "\n",
      "\n",
      "Starting image: /Users/margauxmforstyhe/Desktop/workspace/wetlands_labs/CCAP boundaries/north_east_coast/tiles_north_east_coast_ccap_mapping_bndry_gridded_50km_50km_classes_13_CCAP_scale30/inference_tiles_scale30_311.tif\n",
      "Image opened\n"
     ]
    },
    {
     "name": "stderr",
     "output_type": "stream",
     "text": [
      "[Parallel(n_jobs=12)]: Using backend ThreadingBackend with 12 concurrent workers.\n",
      "[Parallel(n_jobs=12)]: Done  26 tasks      | elapsed:    1.5s\n",
      "[Parallel(n_jobs=12)]: Done 100 out of 100 | elapsed:    4.3s finished\n"
     ]
    },
    {
     "name": "stdout",
     "output_type": "stream",
     "text": [
      "Class prediction was successful without slicing!\n",
      "No slicing was necessary!\n",
      "Image saved to: local_model_outputs_classifier_prob_habitat_suitability_CCAP_NORTH_east_coast_USA_13_4000_1000_all_predictors_depth_None/output_2023-08-04-08_40_11_614.tif\n",
      "\n",
      "\n",
      "\n",
      "\n",
      "Starting image: /Users/margauxmforstyhe/Desktop/workspace/wetlands_labs/CCAP boundaries/north_east_coast/tiles_north_east_coast_ccap_mapping_bndry_gridded_50km_50km_classes_13_CCAP_scale30/inference_tiles_scale30_477.tif\n",
      "Image opened\n"
     ]
    },
    {
     "name": "stderr",
     "output_type": "stream",
     "text": [
      "[Parallel(n_jobs=12)]: Using backend ThreadingBackend with 12 concurrent workers.\n",
      "[Parallel(n_jobs=12)]: Done  26 tasks      | elapsed:    1.6s\n",
      "[Parallel(n_jobs=12)]: Done 100 out of 100 | elapsed:    4.5s finished\n"
     ]
    },
    {
     "name": "stdout",
     "output_type": "stream",
     "text": [
      "Class prediction was successful without slicing!\n",
      "No slicing was necessary!\n",
      "Image saved to: local_model_outputs_classifier_prob_habitat_suitability_CCAP_NORTH_east_coast_USA_13_4000_1000_all_predictors_depth_None/output_2023-08-04-08_40_16_615.tif\n",
      "\n",
      "\n",
      "\n",
      "\n",
      "Starting image: /Users/margauxmforstyhe/Desktop/workspace/wetlands_labs/CCAP boundaries/north_east_coast/tiles_north_east_coast_ccap_mapping_bndry_gridded_50km_50km_classes_13_CCAP_scale30/inference_tiles_scale30_463.tif\n",
      "Image opened\n"
     ]
    },
    {
     "name": "stderr",
     "output_type": "stream",
     "text": [
      "[Parallel(n_jobs=12)]: Using backend ThreadingBackend with 12 concurrent workers.\n",
      "[Parallel(n_jobs=12)]: Done  26 tasks      | elapsed:    0.1s\n",
      "[Parallel(n_jobs=12)]: Done 100 out of 100 | elapsed:    0.4s finished\n"
     ]
    },
    {
     "name": "stdout",
     "output_type": "stream",
     "text": [
      "Class prediction was successful without slicing!\n",
      "No slicing was necessary!\n",
      "Image saved to: local_model_outputs_classifier_prob_habitat_suitability_CCAP_NORTH_east_coast_USA_13_4000_1000_all_predictors_depth_None/output_2023-08-04-08_40_17_616.tif\n",
      "\n",
      "\n",
      "\n",
      "\n",
      "Starting image: /Users/margauxmforstyhe/Desktop/workspace/wetlands_labs/CCAP boundaries/north_east_coast/tiles_north_east_coast_ccap_mapping_bndry_gridded_50km_50km_classes_13_CCAP_scale30/inference_tiles_scale30_305.tif\n",
      "Image opened\n"
     ]
    },
    {
     "name": "stderr",
     "output_type": "stream",
     "text": [
      "[Parallel(n_jobs=12)]: Using backend ThreadingBackend with 12 concurrent workers.\n",
      "[Parallel(n_jobs=12)]: Done  26 tasks      | elapsed:    0.5s\n",
      "[Parallel(n_jobs=12)]: Done 100 out of 100 | elapsed:    1.6s finished\n"
     ]
    },
    {
     "name": "stdout",
     "output_type": "stream",
     "text": [
      "Class prediction was successful without slicing!\n",
      "No slicing was necessary!\n",
      "Image saved to: local_model_outputs_classifier_prob_habitat_suitability_CCAP_NORTH_east_coast_USA_13_4000_1000_all_predictors_depth_None/output_2023-08-04-08_40_19_617.tif\n",
      "\n",
      "\n",
      "\n",
      "\n",
      "Starting image: /Users/margauxmforstyhe/Desktop/workspace/wetlands_labs/CCAP boundaries/north_east_coast/tiles_north_east_coast_ccap_mapping_bndry_gridded_50km_50km_classes_13_CCAP_scale30/inference_tiles_scale30_339.tif\n",
      "Image opened\n"
     ]
    },
    {
     "name": "stderr",
     "output_type": "stream",
     "text": [
      "[Parallel(n_jobs=12)]: Using backend ThreadingBackend with 12 concurrent workers.\n",
      "[Parallel(n_jobs=12)]: Done  26 tasks      | elapsed:    0.4s\n",
      "[Parallel(n_jobs=12)]: Done 100 out of 100 | elapsed:    1.4s finished\n"
     ]
    },
    {
     "name": "stdout",
     "output_type": "stream",
     "text": [
      "Class prediction was successful without slicing!\n",
      "No slicing was necessary!\n",
      "Image saved to: local_model_outputs_classifier_prob_habitat_suitability_CCAP_NORTH_east_coast_USA_13_4000_1000_all_predictors_depth_None/output_2023-08-04-08_40_21_618.tif\n",
      "\n",
      "\n",
      "\n",
      "\n",
      "Starting image: /Users/margauxmforstyhe/Desktop/workspace/wetlands_labs/CCAP boundaries/north_east_coast/tiles_north_east_coast_ccap_mapping_bndry_gridded_50km_50km_classes_13_CCAP_scale30/inference_tiles_scale30_301.tif\n",
      "Image opened\n"
     ]
    },
    {
     "name": "stderr",
     "output_type": "stream",
     "text": [
      "[Parallel(n_jobs=12)]: Using backend ThreadingBackend with 12 concurrent workers.\n",
      "[Parallel(n_jobs=12)]: Done  26 tasks      | elapsed:    0.6s\n",
      "[Parallel(n_jobs=12)]: Done 100 out of 100 | elapsed:    1.9s finished\n"
     ]
    },
    {
     "name": "stdout",
     "output_type": "stream",
     "text": [
      "Class prediction was successful without slicing!\n",
      "No slicing was necessary!\n",
      "Image saved to: local_model_outputs_classifier_prob_habitat_suitability_CCAP_NORTH_east_coast_USA_13_4000_1000_all_predictors_depth_None/output_2023-08-04-08_40_23_619.tif\n",
      "\n",
      "\n",
      "\n",
      "\n",
      "Starting image: /Users/margauxmforstyhe/Desktop/workspace/wetlands_labs/CCAP boundaries/north_east_coast/tiles_north_east_coast_ccap_mapping_bndry_gridded_50km_50km_classes_13_CCAP_scale30/inference_tiles_scale30_467.tif\n",
      "Image opened\n"
     ]
    },
    {
     "name": "stderr",
     "output_type": "stream",
     "text": [
      "[Parallel(n_jobs=12)]: Using backend ThreadingBackend with 12 concurrent workers.\n",
      "[Parallel(n_jobs=12)]: Done  26 tasks      | elapsed:    0.4s\n",
      "[Parallel(n_jobs=12)]: Done 100 out of 100 | elapsed:    1.2s finished\n"
     ]
    },
    {
     "name": "stdout",
     "output_type": "stream",
     "text": [
      "Class prediction was successful without slicing!\n",
      "No slicing was necessary!\n",
      "Image saved to: local_model_outputs_classifier_prob_habitat_suitability_CCAP_NORTH_east_coast_USA_13_4000_1000_all_predictors_depth_None/output_2023-08-04-08_40_25_620.tif\n",
      "\n",
      "\n",
      "\n",
      "\n",
      "Starting image: /Users/margauxmforstyhe/Desktop/workspace/wetlands_labs/CCAP boundaries/north_east_coast/tiles_north_east_coast_ccap_mapping_bndry_gridded_50km_50km_classes_13_CCAP_scale30/inference_tiles_scale30_473.tif\n",
      "Image opened\n"
     ]
    },
    {
     "name": "stderr",
     "output_type": "stream",
     "text": [
      "[Parallel(n_jobs=12)]: Using backend ThreadingBackend with 12 concurrent workers.\n",
      "[Parallel(n_jobs=12)]: Done  26 tasks      | elapsed:    0.3s\n",
      "[Parallel(n_jobs=12)]: Done 100 out of 100 | elapsed:    0.9s finished\n"
     ]
    },
    {
     "name": "stdout",
     "output_type": "stream",
     "text": [
      "Class prediction was successful without slicing!\n",
      "No slicing was necessary!\n",
      "Image saved to: local_model_outputs_classifier_prob_habitat_suitability_CCAP_NORTH_east_coast_USA_13_4000_1000_all_predictors_depth_None/output_2023-08-04-08_40_26_621.tif\n",
      "\n",
      "\n",
      "\n",
      "\n",
      "Starting image: /Users/margauxmforstyhe/Desktop/workspace/wetlands_labs/CCAP boundaries/north_east_coast/tiles_north_east_coast_ccap_mapping_bndry_gridded_50km_50km_classes_13_CCAP_scale30/inference_tiles_scale30_315.tif\n",
      "Image opened\n"
     ]
    },
    {
     "name": "stderr",
     "output_type": "stream",
     "text": [
      "[Parallel(n_jobs=12)]: Using backend ThreadingBackend with 12 concurrent workers.\n",
      "[Parallel(n_jobs=12)]: Done  26 tasks      | elapsed:    0.7s\n",
      "[Parallel(n_jobs=12)]: Done 100 out of 100 | elapsed:    1.9s finished\n"
     ]
    },
    {
     "name": "stdout",
     "output_type": "stream",
     "text": [
      "Class prediction was successful without slicing!\n",
      "No slicing was necessary!\n",
      "Image saved to: local_model_outputs_classifier_prob_habitat_suitability_CCAP_NORTH_east_coast_USA_13_4000_1000_all_predictors_depth_None/output_2023-08-04-08_40_28_622.tif\n",
      "\n",
      "\n",
      "\n",
      "\n",
      "Starting image: /Users/margauxmforstyhe/Desktop/workspace/wetlands_labs/CCAP boundaries/north_east_coast/tiles_north_east_coast_ccap_mapping_bndry_gridded_50km_50km_classes_13_CCAP_scale30/inference_tiles_scale30_16.tif\n",
      "Image opened\n"
     ]
    },
    {
     "name": "stderr",
     "output_type": "stream",
     "text": [
      "[Parallel(n_jobs=12)]: Using backend ThreadingBackend with 12 concurrent workers.\n",
      "[Parallel(n_jobs=12)]: Done  26 tasks      | elapsed:    1.4s\n",
      "[Parallel(n_jobs=12)]: Done 100 out of 100 | elapsed:    4.2s finished\n"
     ]
    },
    {
     "name": "stdout",
     "output_type": "stream",
     "text": [
      "Class prediction was successful without slicing!\n",
      "No slicing was necessary!\n",
      "Image saved to: local_model_outputs_classifier_prob_habitat_suitability_CCAP_NORTH_east_coast_USA_13_4000_1000_all_predictors_depth_None/output_2023-08-04-08_40_33_623.tif\n",
      "\n",
      "\n",
      "\n",
      "\n",
      "Starting image: /Users/margauxmforstyhe/Desktop/workspace/wetlands_labs/CCAP boundaries/north_east_coast/tiles_north_east_coast_ccap_mapping_bndry_gridded_50km_50km_classes_13_CCAP_scale30/inference_tiles_scale30_329.tif\n",
      "Image opened\n"
     ]
    },
    {
     "name": "stderr",
     "output_type": "stream",
     "text": [
      "[Parallel(n_jobs=12)]: Using backend ThreadingBackend with 12 concurrent workers.\n",
      "[Parallel(n_jobs=12)]: Done  26 tasks      | elapsed:    1.4s\n",
      "[Parallel(n_jobs=12)]: Done 100 out of 100 | elapsed:    4.0s finished\n",
      "[Parallel(n_jobs=12)]: Using backend ThreadingBackend with 12 concurrent workers.\n",
      "[Parallel(n_jobs=12)]: Done  26 tasks      | elapsed:    0.0s\n",
      "[Parallel(n_jobs=12)]: Done 100 out of 100 | elapsed:    0.0s finished\n"
     ]
    },
    {
     "name": "stdout",
     "output_type": "stream",
     "text": [
      "Class prediction was successful without slicing!\n",
      "No slicing was necessary!\n",
      "Image saved to: local_model_outputs_classifier_prob_habitat_suitability_CCAP_NORTH_east_coast_USA_13_4000_1000_all_predictors_depth_None/output_2023-08-04-08_40_38_624.tif\n",
      "\n",
      "\n",
      "\n",
      "\n",
      "Starting image: /Users/margauxmforstyhe/Desktop/workspace/wetlands_labs/CCAP boundaries/north_east_coast/tiles_north_east_coast_ccap_mapping_bndry_gridded_50km_50km_classes_13_CCAP_scale30/inference_tiles_scale30_498.tif\n",
      "Image opened\n",
      "Class prediction was successful without slicing!\n",
      "No slicing was necessary!\n",
      "Image saved to: local_model_outputs_classifier_prob_habitat_suitability_CCAP_NORTH_east_coast_USA_13_4000_1000_all_predictors_depth_None/output_2023-08-04-08_40_38_625.tif\n",
      "\n",
      "\n",
      "\n",
      "\n",
      "Starting image: /Users/margauxmforstyhe/Desktop/workspace/wetlands_labs/CCAP boundaries/north_east_coast/tiles_north_east_coast_ccap_mapping_bndry_gridded_50km_50km_classes_13_CCAP_scale30/inference_tiles_scale30_665.tif\n",
      "Image opened\n"
     ]
    },
    {
     "name": "stderr",
     "output_type": "stream",
     "text": [
      "[Parallel(n_jobs=12)]: Using backend ThreadingBackend with 12 concurrent workers.\n",
      "[Parallel(n_jobs=12)]: Done  26 tasks      | elapsed:    2.0s\n",
      "[Parallel(n_jobs=12)]: Done 100 out of 100 | elapsed:    5.8s finished\n"
     ]
    },
    {
     "name": "stdout",
     "output_type": "stream",
     "text": [
      "Class prediction was successful without slicing!\n",
      "No slicing was necessary!\n",
      "Image saved to: local_model_outputs_classifier_prob_habitat_suitability_CCAP_NORTH_east_coast_USA_13_4000_1000_all_predictors_depth_None/output_2023-08-04-08_40_45_626.tif\n",
      "\n",
      "\n",
      "\n",
      "\n",
      "Starting image: /Users/margauxmforstyhe/Desktop/workspace/wetlands_labs/CCAP boundaries/north_east_coast/tiles_north_east_coast_ccap_mapping_bndry_gridded_50km_50km_classes_13_CCAP_scale30/inference_tiles_scale30_103.tif\n",
      "Image opened\n"
     ]
    },
    {
     "name": "stderr",
     "output_type": "stream",
     "text": [
      "[Parallel(n_jobs=12)]: Using backend ThreadingBackend with 12 concurrent workers.\n",
      "[Parallel(n_jobs=12)]: Done  26 tasks      | elapsed:    1.5s\n",
      "[Parallel(n_jobs=12)]: Done 100 out of 100 | elapsed:    3.5s finished\n"
     ]
    },
    {
     "name": "stdout",
     "output_type": "stream",
     "text": [
      "Class prediction was successful without slicing!\n",
      "No slicing was necessary!\n",
      "Image saved to: local_model_outputs_classifier_prob_habitat_suitability_CCAP_NORTH_east_coast_USA_13_4000_1000_all_predictors_depth_None/output_2023-08-04-08_40_49_627.tif\n",
      "\n",
      "\n",
      "\n",
      "\n",
      "Starting image: /Users/margauxmforstyhe/Desktop/workspace/wetlands_labs/CCAP boundaries/north_east_coast/tiles_north_east_coast_ccap_mapping_bndry_gridded_50km_50km_classes_13_CCAP_scale30/inference_tiles_scale30_117.tif\n",
      "Image opened\n"
     ]
    },
    {
     "name": "stderr",
     "output_type": "stream",
     "text": [
      "[Parallel(n_jobs=12)]: Using backend ThreadingBackend with 12 concurrent workers.\n",
      "[Parallel(n_jobs=12)]: Done  26 tasks      | elapsed:    0.7s\n",
      "[Parallel(n_jobs=12)]: Done 100 out of 100 | elapsed:    2.0s finished\n"
     ]
    },
    {
     "name": "stdout",
     "output_type": "stream",
     "text": [
      "Class prediction was successful without slicing!\n",
      "No slicing was necessary!\n",
      "Image saved to: local_model_outputs_classifier_prob_habitat_suitability_CCAP_NORTH_east_coast_USA_13_4000_1000_all_predictors_depth_None/output_2023-08-04-08_40_52_628.tif\n",
      "\n",
      "\n",
      "\n",
      "\n",
      "Starting image: /Users/margauxmforstyhe/Desktop/workspace/wetlands_labs/CCAP boundaries/north_east_coast/tiles_north_east_coast_ccap_mapping_bndry_gridded_50km_50km_classes_13_CCAP_scale30/inference_tiles_scale30_671.tif\n",
      "Image opened\n"
     ]
    },
    {
     "name": "stderr",
     "output_type": "stream",
     "text": [
      "[Parallel(n_jobs=12)]: Using backend ThreadingBackend with 12 concurrent workers.\n",
      "[Parallel(n_jobs=12)]: Done  26 tasks      | elapsed:    1.6s\n",
      "[Parallel(n_jobs=12)]: Done 100 out of 100 | elapsed:    4.8s finished\n"
     ]
    },
    {
     "name": "stdout",
     "output_type": "stream",
     "text": [
      "Class prediction was successful without slicing!\n",
      "No slicing was necessary!\n",
      "Image saved to: local_model_outputs_classifier_prob_habitat_suitability_CCAP_NORTH_east_coast_USA_13_4000_1000_all_predictors_depth_None/output_2023-08-04-08_40_57_629.tif\n",
      "\n",
      "\n",
      "\n",
      "\n",
      "Starting image: /Users/margauxmforstyhe/Desktop/workspace/wetlands_labs/CCAP boundaries/north_east_coast/tiles_north_east_coast_ccap_mapping_bndry_gridded_50km_50km_classes_13_CCAP_scale30/inference_tiles_scale30_659.tif\n",
      "Image opened\n"
     ]
    },
    {
     "name": "stderr",
     "output_type": "stream",
     "text": [
      "[Parallel(n_jobs=12)]: Using backend ThreadingBackend with 12 concurrent workers.\n",
      "[Parallel(n_jobs=12)]: Done  26 tasks      | elapsed:    2.0s\n",
      "[Parallel(n_jobs=12)]: Done 100 out of 100 | elapsed:    5.3s finished\n"
     ]
    },
    {
     "name": "stdout",
     "output_type": "stream",
     "text": [
      "Class prediction was successful without slicing!\n",
      "No slicing was necessary!\n",
      "Image saved to: local_model_outputs_classifier_prob_habitat_suitability_CCAP_NORTH_east_coast_USA_13_4000_1000_all_predictors_depth_None/output_2023-08-04-08_41_03_630.tif\n",
      "\n",
      "\n",
      "\n",
      "\n",
      "Starting image: /Users/margauxmforstyhe/Desktop/workspace/wetlands_labs/CCAP boundaries/north_east_coast/tiles_north_east_coast_ccap_mapping_bndry_gridded_50km_50km_classes_13_CCAP_scale30/inference_tiles_scale30_881.tif\n",
      "Image opened\n"
     ]
    },
    {
     "name": "stderr",
     "output_type": "stream",
     "text": [
      "[Parallel(n_jobs=12)]: Using backend ThreadingBackend with 12 concurrent workers.\n",
      "[Parallel(n_jobs=12)]: Done  26 tasks      | elapsed:    0.2s\n",
      "[Parallel(n_jobs=12)]: Done 100 out of 100 | elapsed:    0.7s finished\n"
     ]
    },
    {
     "name": "stdout",
     "output_type": "stream",
     "text": [
      "Class prediction was successful without slicing!\n",
      "No slicing was necessary!\n",
      "Image saved to: local_model_outputs_classifier_prob_habitat_suitability_CCAP_NORTH_east_coast_USA_13_4000_1000_all_predictors_depth_None/output_2023-08-04-08_41_04_631.tif\n",
      "\n",
      "\n",
      "\n",
      "\n",
      "Starting image: /Users/margauxmforstyhe/Desktop/workspace/wetlands_labs/CCAP boundaries/north_east_coast/tiles_north_east_coast_ccap_mapping_bndry_gridded_50km_50km_classes_13_CCAP_scale30/inference_tiles_scale30_895.tif\n",
      "Image opened\n"
     ]
    },
    {
     "name": "stderr",
     "output_type": "stream",
     "text": [
      "[Parallel(n_jobs=12)]: Using backend ThreadingBackend with 12 concurrent workers.\n",
      "[Parallel(n_jobs=12)]: Done  26 tasks      | elapsed:    1.0s\n",
      "[Parallel(n_jobs=12)]: Done 100 out of 100 | elapsed:    2.9s finished\n"
     ]
    },
    {
     "name": "stdout",
     "output_type": "stream",
     "text": [
      "Class prediction was successful without slicing!\n",
      "No slicing was necessary!\n",
      "Image saved to: local_model_outputs_classifier_prob_habitat_suitability_CCAP_NORTH_east_coast_USA_13_4000_1000_all_predictors_depth_None/output_2023-08-04-08_41_08_632.tif\n",
      "\n",
      "\n",
      "\n",
      "\n",
      "Starting image: /Users/margauxmforstyhe/Desktop/workspace/wetlands_labs/CCAP boundaries/north_east_coast/tiles_north_east_coast_ccap_mapping_bndry_gridded_50km_50km_classes_13_CCAP_scale30/inference_tiles_scale30_842.tif\n",
      "Image opened\n"
     ]
    },
    {
     "name": "stderr",
     "output_type": "stream",
     "text": [
      "[Parallel(n_jobs=12)]: Using backend ThreadingBackend with 12 concurrent workers.\n",
      "[Parallel(n_jobs=12)]: Done  26 tasks      | elapsed:    1.8s\n",
      "[Parallel(n_jobs=12)]: Done 100 out of 100 | elapsed:    5.2s finished\n"
     ]
    },
    {
     "name": "stdout",
     "output_type": "stream",
     "text": [
      "Class prediction was successful without slicing!\n",
      "No slicing was necessary!\n",
      "Image saved to: local_model_outputs_classifier_prob_habitat_suitability_CCAP_NORTH_east_coast_USA_13_4000_1000_all_predictors_depth_None/output_2023-08-04-08_41_14_633.tif\n",
      "\n",
      "\n",
      "\n",
      "\n",
      "Starting image: /Users/margauxmforstyhe/Desktop/workspace/wetlands_labs/CCAP boundaries/north_east_coast/tiles_north_east_coast_ccap_mapping_bndry_gridded_50km_50km_classes_13_CCAP_scale30/inference_tiles_scale30_856.tif\n",
      "Image opened\n"
     ]
    },
    {
     "name": "stderr",
     "output_type": "stream",
     "text": [
      "[Parallel(n_jobs=12)]: Using backend ThreadingBackend with 12 concurrent workers.\n",
      "[Parallel(n_jobs=12)]: Done  26 tasks      | elapsed:    1.8s\n",
      "[Parallel(n_jobs=12)]: Done 100 out of 100 | elapsed:    5.3s finished\n"
     ]
    },
    {
     "name": "stdout",
     "output_type": "stream",
     "text": [
      "Class prediction was successful without slicing!\n",
      "No slicing was necessary!\n",
      "Image saved to: local_model_outputs_classifier_prob_habitat_suitability_CCAP_NORTH_east_coast_USA_13_4000_1000_all_predictors_depth_None/output_2023-08-04-08_41_20_634.tif\n",
      "\n",
      "\n",
      "\n",
      "\n",
      "Starting image: /Users/margauxmforstyhe/Desktop/workspace/wetlands_labs/CCAP boundaries/north_east_coast/tiles_north_east_coast_ccap_mapping_bndry_gridded_50km_50km_classes_13_CCAP_scale30/inference_tiles_scale30_711.tif\n",
      "Image opened\n"
     ]
    },
    {
     "name": "stderr",
     "output_type": "stream",
     "text": [
      "[Parallel(n_jobs=12)]: Using backend ThreadingBackend with 12 concurrent workers.\n",
      "[Parallel(n_jobs=12)]: Done  26 tasks      | elapsed:    0.9s\n",
      "[Parallel(n_jobs=12)]: Done 100 out of 100 | elapsed:    2.6s finished\n"
     ]
    },
    {
     "name": "stdout",
     "output_type": "stream",
     "text": [
      "Class prediction was successful without slicing!\n",
      "No slicing was necessary!\n",
      "Image saved to: local_model_outputs_classifier_prob_habitat_suitability_CCAP_NORTH_east_coast_USA_13_4000_1000_all_predictors_depth_None/output_2023-08-04-08_41_24_635.tif\n",
      "\n",
      "\n",
      "\n",
      "\n",
      "Starting image: /Users/margauxmforstyhe/Desktop/workspace/wetlands_labs/CCAP boundaries/north_east_coast/tiles_north_east_coast_ccap_mapping_bndry_gridded_50km_50km_classes_13_CCAP_scale30/inference_tiles_scale30_705.tif\n",
      "Image opened\n"
     ]
    },
    {
     "name": "stderr",
     "output_type": "stream",
     "text": [
      "[Parallel(n_jobs=12)]: Using backend ThreadingBackend with 12 concurrent workers.\n",
      "[Parallel(n_jobs=12)]: Done  26 tasks      | elapsed:    0.7s\n",
      "[Parallel(n_jobs=12)]: Done 100 out of 100 | elapsed:    2.2s finished\n"
     ]
    },
    {
     "name": "stdout",
     "output_type": "stream",
     "text": [
      "Class prediction was successful without slicing!\n",
      "No slicing was necessary!\n",
      "Image saved to: local_model_outputs_classifier_prob_habitat_suitability_CCAP_NORTH_east_coast_USA_13_4000_1000_all_predictors_depth_None/output_2023-08-04-08_41_27_636.tif\n",
      "\n",
      "\n",
      "\n",
      "\n",
      "Starting image: /Users/margauxmforstyhe/Desktop/workspace/wetlands_labs/CCAP boundaries/north_east_coast/tiles_north_east_coast_ccap_mapping_bndry_gridded_50km_50km_classes_13_CCAP_scale30/inference_tiles_scale30_739.tif\n",
      "Image opened\n"
     ]
    },
    {
     "name": "stderr",
     "output_type": "stream",
     "text": [
      "[Parallel(n_jobs=12)]: Using backend ThreadingBackend with 12 concurrent workers.\n",
      "[Parallel(n_jobs=12)]: Done  26 tasks      | elapsed:    0.8s\n",
      "[Parallel(n_jobs=12)]: Done 100 out of 100 | elapsed:    2.4s finished\n"
     ]
    },
    {
     "name": "stdout",
     "output_type": "stream",
     "text": [
      "Class prediction was successful without slicing!\n",
      "No slicing was necessary!\n",
      "Image saved to: local_model_outputs_classifier_prob_habitat_suitability_CCAP_NORTH_east_coast_USA_13_4000_1000_all_predictors_depth_None/output_2023-08-04-08_41_30_637.tif\n",
      "\n",
      "\n",
      "\n",
      "\n",
      "Starting image: /Users/margauxmforstyhe/Desktop/workspace/wetlands_labs/CCAP boundaries/north_east_coast/tiles_north_east_coast_ccap_mapping_bndry_gridded_50km_50km_classes_13_CCAP_scale30/inference_tiles_scale30_922.tif\n",
      "Image opened\n"
     ]
    },
    {
     "name": "stderr",
     "output_type": "stream",
     "text": [
      "[Parallel(n_jobs=12)]: Using backend ThreadingBackend with 12 concurrent workers.\n",
      "[Parallel(n_jobs=12)]: Done  26 tasks      | elapsed:    1.2s\n",
      "[Parallel(n_jobs=12)]: Done 100 out of 100 | elapsed:    3.5s finished\n"
     ]
    },
    {
     "name": "stdout",
     "output_type": "stream",
     "text": [
      "Class prediction was successful without slicing!\n",
      "No slicing was necessary!\n",
      "Image saved to: local_model_outputs_classifier_prob_habitat_suitability_CCAP_NORTH_east_coast_USA_13_4000_1000_all_predictors_depth_None/output_2023-08-04-08_41_34_638.tif\n",
      "\n",
      "\n",
      "\n",
      "\n",
      "Starting image: /Users/margauxmforstyhe/Desktop/workspace/wetlands_labs/CCAP boundaries/north_east_coast/tiles_north_east_coast_ccap_mapping_bndry_gridded_50km_50km_classes_13_CCAP_scale30/inference_tiles_scale30_275.tif\n",
      "Image opened\n"
     ]
    },
    {
     "name": "stderr",
     "output_type": "stream",
     "text": [
      "[Parallel(n_jobs=12)]: Using backend ThreadingBackend with 12 concurrent workers.\n",
      "[Parallel(n_jobs=12)]: Done  26 tasks      | elapsed:    0.8s\n",
      "[Parallel(n_jobs=12)]: Done 100 out of 100 | elapsed:    2.5s finished\n"
     ]
    },
    {
     "name": "stdout",
     "output_type": "stream",
     "text": [
      "Class prediction was successful without slicing!\n",
      "No slicing was necessary!\n",
      "Image saved to: local_model_outputs_classifier_prob_habitat_suitability_CCAP_NORTH_east_coast_USA_13_4000_1000_all_predictors_depth_None/output_2023-08-04-08_41_37_639.tif\n",
      "\n",
      "\n",
      "\n",
      "\n",
      "Starting image: /Users/margauxmforstyhe/Desktop/workspace/wetlands_labs/CCAP boundaries/north_east_coast/tiles_north_east_coast_ccap_mapping_bndry_gridded_50km_50km_classes_13_CCAP_scale30/inference_tiles_scale30_513.tif\n",
      "Image opened\n"
     ]
    },
    {
     "name": "stderr",
     "output_type": "stream",
     "text": [
      "[Parallel(n_jobs=12)]: Using backend ThreadingBackend with 12 concurrent workers.\n",
      "[Parallel(n_jobs=12)]: Done  26 tasks      | elapsed:    1.0s\n",
      "[Parallel(n_jobs=12)]: Done 100 out of 100 | elapsed:    2.9s finished\n"
     ]
    },
    {
     "name": "stdout",
     "output_type": "stream",
     "text": [
      "Class prediction was successful without slicing!\n",
      "No slicing was necessary!\n",
      "Image saved to: local_model_outputs_classifier_prob_habitat_suitability_CCAP_NORTH_east_coast_USA_13_4000_1000_all_predictors_depth_None/output_2023-08-04-08_41_40_640.tif\n",
      "\n",
      "\n",
      "\n",
      "\n",
      "Starting image: /Users/margauxmforstyhe/Desktop/workspace/wetlands_labs/CCAP boundaries/north_east_coast/tiles_north_east_coast_ccap_mapping_bndry_gridded_50km_50km_classes_13_CCAP_scale30/inference_tiles_scale30_507.tif\n",
      "Image opened\n"
     ]
    },
    {
     "name": "stderr",
     "output_type": "stream",
     "text": [
      "[Parallel(n_jobs=12)]: Using backend ThreadingBackend with 12 concurrent workers.\n",
      "[Parallel(n_jobs=12)]: Done  26 tasks      | elapsed:    1.9s\n",
      "[Parallel(n_jobs=12)]: Done 100 out of 100 | elapsed:    5.9s finished\n"
     ]
    },
    {
     "name": "stdout",
     "output_type": "stream",
     "text": [
      "Class prediction was successful without slicing!\n",
      "No slicing was necessary!\n",
      "Image saved to: local_model_outputs_classifier_prob_habitat_suitability_CCAP_NORTH_east_coast_USA_13_4000_1000_all_predictors_depth_None/output_2023-08-04-08_41_47_641.tif\n",
      "\n",
      "\n",
      "\n",
      "\n",
      "Starting image: /Users/margauxmforstyhe/Desktop/workspace/wetlands_labs/CCAP boundaries/north_east_coast/tiles_north_east_coast_ccap_mapping_bndry_gridded_50km_50km_classes_13_CCAP_scale30/inference_tiles_scale30_261.tif\n",
      "Image opened\n"
     ]
    },
    {
     "name": "stderr",
     "output_type": "stream",
     "text": [
      "[Parallel(n_jobs=12)]: Using backend ThreadingBackend with 12 concurrent workers.\n",
      "[Parallel(n_jobs=12)]: Done  26 tasks      | elapsed:    0.2s\n",
      "[Parallel(n_jobs=12)]: Done 100 out of 100 | elapsed:    0.7s finished\n"
     ]
    },
    {
     "name": "stdout",
     "output_type": "stream",
     "text": [
      "Class prediction was successful without slicing!\n",
      "No slicing was necessary!\n",
      "Image saved to: local_model_outputs_classifier_prob_habitat_suitability_CCAP_NORTH_east_coast_USA_13_4000_1000_all_predictors_depth_None/output_2023-08-04-08_41_48_642.tif\n",
      "\n",
      "\n",
      "\n",
      "\n",
      "Starting image: /Users/margauxmforstyhe/Desktop/workspace/wetlands_labs/CCAP boundaries/north_east_coast/tiles_north_east_coast_ccap_mapping_bndry_gridded_50km_50km_classes_13_CCAP_scale30/inference_tiles_scale30_249.tif\n",
      "Image opened\n"
     ]
    },
    {
     "name": "stderr",
     "output_type": "stream",
     "text": [
      "[Parallel(n_jobs=12)]: Using backend ThreadingBackend with 12 concurrent workers.\n",
      "[Parallel(n_jobs=12)]: Done  26 tasks      | elapsed:    0.7s\n",
      "[Parallel(n_jobs=12)]: Done 100 out of 100 | elapsed:    2.2s finished\n"
     ]
    },
    {
     "name": "stdout",
     "output_type": "stream",
     "text": [
      "Class prediction was successful without slicing!\n",
      "No slicing was necessary!\n",
      "Image saved to: local_model_outputs_classifier_prob_habitat_suitability_CCAP_NORTH_east_coast_USA_13_4000_1000_all_predictors_depth_None/output_2023-08-04-08_41_51_643.tif\n",
      "\n",
      "\n",
      "\n",
      "\n",
      "Starting image: /Users/margauxmforstyhe/Desktop/workspace/wetlands_labs/CCAP boundaries/north_east_coast/tiles_north_east_coast_ccap_mapping_bndry_gridded_50km_50km_classes_13_CCAP_scale30/inference_tiles_scale30_248.tif\n",
      "Image opened\n"
     ]
    },
    {
     "name": "stderr",
     "output_type": "stream",
     "text": [
      "[Parallel(n_jobs=12)]: Using backend ThreadingBackend with 12 concurrent workers.\n",
      "[Parallel(n_jobs=12)]: Done  26 tasks      | elapsed:    1.7s\n",
      "[Parallel(n_jobs=12)]: Done 100 out of 100 | elapsed:    5.0s finished\n"
     ]
    },
    {
     "name": "stdout",
     "output_type": "stream",
     "text": [
      "Class prediction was successful without slicing!\n",
      "No slicing was necessary!\n",
      "Image saved to: local_model_outputs_classifier_prob_habitat_suitability_CCAP_NORTH_east_coast_USA_13_4000_1000_all_predictors_depth_None/output_2023-08-04-08_41_57_644.tif\n",
      "\n",
      "\n",
      "\n",
      "\n",
      "Starting image: /Users/margauxmforstyhe/Desktop/workspace/wetlands_labs/CCAP boundaries/north_east_coast/tiles_north_east_coast_ccap_mapping_bndry_gridded_50km_50km_classes_13_CCAP_scale30/inference_tiles_scale30_506.tif\n",
      "Image opened\n"
     ]
    },
    {
     "name": "stderr",
     "output_type": "stream",
     "text": [
      "[Parallel(n_jobs=12)]: Using backend ThreadingBackend with 12 concurrent workers.\n",
      "[Parallel(n_jobs=12)]: Done  26 tasks      | elapsed:    1.8s\n",
      "[Parallel(n_jobs=12)]: Done 100 out of 100 | elapsed:    5.3s finished\n"
     ]
    },
    {
     "name": "stdout",
     "output_type": "stream",
     "text": [
      "Class prediction was successful without slicing!\n",
      "No slicing was necessary!\n",
      "Image saved to: local_model_outputs_classifier_prob_habitat_suitability_CCAP_NORTH_east_coast_USA_13_4000_1000_all_predictors_depth_None/output_2023-08-04-08_42_03_645.tif\n",
      "\n",
      "\n",
      "\n",
      "\n",
      "Starting image: /Users/margauxmforstyhe/Desktop/workspace/wetlands_labs/CCAP boundaries/north_east_coast/tiles_north_east_coast_ccap_mapping_bndry_gridded_50km_50km_classes_13_CCAP_scale30/inference_tiles_scale30_260.tif\n",
      "Image opened\n"
     ]
    },
    {
     "name": "stderr",
     "output_type": "stream",
     "text": [
      "[Parallel(n_jobs=12)]: Using backend ThreadingBackend with 12 concurrent workers.\n",
      "[Parallel(n_jobs=12)]: Done  26 tasks      | elapsed:    1.7s\n",
      "[Parallel(n_jobs=12)]: Done 100 out of 100 | elapsed:    4.5s finished\n"
     ]
    },
    {
     "name": "stdout",
     "output_type": "stream",
     "text": [
      "Class prediction was successful without slicing!\n",
      "No slicing was necessary!\n",
      "Image saved to: local_model_outputs_classifier_prob_habitat_suitability_CCAP_NORTH_east_coast_USA_13_4000_1000_all_predictors_depth_None/output_2023-08-04-08_42_08_646.tif\n",
      "\n",
      "\n",
      "\n",
      "\n",
      "Starting image: /Users/margauxmforstyhe/Desktop/workspace/wetlands_labs/CCAP boundaries/north_east_coast/tiles_north_east_coast_ccap_mapping_bndry_gridded_50km_50km_classes_13_CCAP_scale30/inference_tiles_scale30_274.tif\n",
      "Image opened\n"
     ]
    },
    {
     "name": "stderr",
     "output_type": "stream",
     "text": [
      "[Parallel(n_jobs=12)]: Using backend ThreadingBackend with 12 concurrent workers.\n",
      "[Parallel(n_jobs=12)]: Done  26 tasks      | elapsed:    0.9s\n",
      "[Parallel(n_jobs=12)]: Done 100 out of 100 | elapsed:    2.6s finished\n"
     ]
    },
    {
     "name": "stdout",
     "output_type": "stream",
     "text": [
      "Class prediction was successful without slicing!\n",
      "No slicing was necessary!\n",
      "Image saved to: local_model_outputs_classifier_prob_habitat_suitability_CCAP_NORTH_east_coast_USA_13_4000_1000_all_predictors_depth_None/output_2023-08-04-08_42_12_647.tif\n",
      "\n",
      "\n",
      "\n",
      "\n",
      "Starting image: /Users/margauxmforstyhe/Desktop/workspace/wetlands_labs/CCAP boundaries/north_east_coast/tiles_north_east_coast_ccap_mapping_bndry_gridded_50km_50km_classes_13_CCAP_scale30/inference_tiles_scale30_512.tif\n",
      "Image opened\n"
     ]
    },
    {
     "name": "stderr",
     "output_type": "stream",
     "text": [
      "[Parallel(n_jobs=12)]: Using backend ThreadingBackend with 12 concurrent workers.\n",
      "[Parallel(n_jobs=12)]: Done  26 tasks      | elapsed:    0.2s\n",
      "[Parallel(n_jobs=12)]: Done 100 out of 100 | elapsed:    0.6s finished\n"
     ]
    },
    {
     "name": "stdout",
     "output_type": "stream",
     "text": [
      "Class prediction was successful without slicing!\n",
      "No slicing was necessary!\n",
      "Image saved to: local_model_outputs_classifier_prob_habitat_suitability_CCAP_NORTH_east_coast_USA_13_4000_1000_all_predictors_depth_None/output_2023-08-04-08_42_12_648.tif\n",
      "\n",
      "\n",
      "\n",
      "\n",
      "Starting image: /Users/margauxmforstyhe/Desktop/workspace/wetlands_labs/CCAP boundaries/north_east_coast/tiles_north_east_coast_ccap_mapping_bndry_gridded_50km_50km_classes_13_CCAP_scale30/inference_tiles_scale30_923.tif\n",
      "Image opened\n"
     ]
    },
    {
     "name": "stderr",
     "output_type": "stream",
     "text": [
      "[Parallel(n_jobs=12)]: Using backend ThreadingBackend with 12 concurrent workers.\n",
      "[Parallel(n_jobs=12)]: Done  26 tasks      | elapsed:    1.4s\n",
      "[Parallel(n_jobs=12)]: Done 100 out of 100 | elapsed:    4.2s finished\n"
     ]
    },
    {
     "name": "stdout",
     "output_type": "stream",
     "text": [
      "Class prediction was successful without slicing!\n",
      "No slicing was necessary!\n",
      "Image saved to: local_model_outputs_classifier_prob_habitat_suitability_CCAP_NORTH_east_coast_USA_13_4000_1000_all_predictors_depth_None/output_2023-08-04-08_42_17_649.tif\n",
      "\n",
      "\n",
      "\n",
      "\n",
      "Starting image: /Users/margauxmforstyhe/Desktop/workspace/wetlands_labs/CCAP boundaries/north_east_coast/tiles_north_east_coast_ccap_mapping_bndry_gridded_50km_50km_classes_13_CCAP_scale30/inference_tiles_scale30_738.tif\n",
      "Image opened\n"
     ]
    },
    {
     "name": "stderr",
     "output_type": "stream",
     "text": [
      "[Parallel(n_jobs=12)]: Using backend ThreadingBackend with 12 concurrent workers.\n",
      "[Parallel(n_jobs=12)]: Done  26 tasks      | elapsed:    1.4s\n",
      "[Parallel(n_jobs=12)]: Done 100 out of 100 | elapsed:    4.0s finished\n"
     ]
    },
    {
     "name": "stdout",
     "output_type": "stream",
     "text": [
      "Class prediction was successful without slicing!\n",
      "No slicing was necessary!\n",
      "Image saved to: local_model_outputs_classifier_prob_habitat_suitability_CCAP_NORTH_east_coast_USA_13_4000_1000_all_predictors_depth_None/output_2023-08-04-08_42_22_650.tif\n",
      "\n",
      "\n",
      "\n",
      "\n",
      "Starting image: /Users/margauxmforstyhe/Desktop/workspace/wetlands_labs/CCAP boundaries/north_east_coast/tiles_north_east_coast_ccap_mapping_bndry_gridded_50km_50km_classes_13_CCAP_scale30/inference_tiles_scale30_704.tif\n",
      "Image opened\n"
     ]
    },
    {
     "name": "stderr",
     "output_type": "stream",
     "text": [
      "[Parallel(n_jobs=12)]: Using backend ThreadingBackend with 12 concurrent workers.\n",
      "[Parallel(n_jobs=12)]: Done  26 tasks      | elapsed:    0.6s\n",
      "[Parallel(n_jobs=12)]: Done 100 out of 100 | elapsed:    1.8s finished\n"
     ]
    },
    {
     "name": "stdout",
     "output_type": "stream",
     "text": [
      "Class prediction was successful without slicing!\n",
      "No slicing was necessary!\n",
      "Image saved to: local_model_outputs_classifier_prob_habitat_suitability_CCAP_NORTH_east_coast_USA_13_4000_1000_all_predictors_depth_None/output_2023-08-04-08_42_25_651.tif\n",
      "\n",
      "\n",
      "\n",
      "\n",
      "Starting image: /Users/margauxmforstyhe/Desktop/workspace/wetlands_labs/CCAP boundaries/north_east_coast/tiles_north_east_coast_ccap_mapping_bndry_gridded_50km_50km_classes_13_CCAP_scale30/inference_tiles_scale30_710.tif\n",
      "Image opened\n"
     ]
    },
    {
     "name": "stderr",
     "output_type": "stream",
     "text": [
      "[Parallel(n_jobs=12)]: Using backend ThreadingBackend with 12 concurrent workers.\n",
      "[Parallel(n_jobs=12)]: Done  26 tasks      | elapsed:    0.6s\n",
      "[Parallel(n_jobs=12)]: Done 100 out of 100 | elapsed:    1.9s finished\n",
      "[Parallel(n_jobs=12)]: Using backend ThreadingBackend with 12 concurrent workers.\n",
      "[Parallel(n_jobs=12)]: Done  26 tasks      | elapsed:    0.0s\n"
     ]
    },
    {
     "name": "stdout",
     "output_type": "stream",
     "text": [
      "Class prediction was successful without slicing!\n",
      "No slicing was necessary!\n",
      "Image saved to: local_model_outputs_classifier_prob_habitat_suitability_CCAP_NORTH_east_coast_USA_13_4000_1000_all_predictors_depth_None/output_2023-08-04-08_42_27_652.tif\n",
      "\n",
      "\n",
      "\n",
      "\n",
      "Starting image: /Users/margauxmforstyhe/Desktop/workspace/wetlands_labs/CCAP boundaries/north_east_coast/tiles_north_east_coast_ccap_mapping_bndry_gridded_50km_50km_classes_13_CCAP_scale30/inference_tiles_scale30_857.tif\n",
      "Image opened\n"
     ]
    },
    {
     "name": "stderr",
     "output_type": "stream",
     "text": [
      "[Parallel(n_jobs=12)]: Done 100 out of 100 | elapsed:    0.1s finished\n"
     ]
    },
    {
     "name": "stdout",
     "output_type": "stream",
     "text": [
      "Class prediction was successful without slicing!\n",
      "No slicing was necessary!\n",
      "Image saved to: local_model_outputs_classifier_prob_habitat_suitability_CCAP_NORTH_east_coast_USA_13_4000_1000_all_predictors_depth_None/output_2023-08-04-08_42_27_653.tif\n",
      "\n",
      "\n",
      "\n",
      "\n",
      "Starting image: /Users/margauxmforstyhe/Desktop/workspace/wetlands_labs/CCAP boundaries/north_east_coast/tiles_north_east_coast_ccap_mapping_bndry_gridded_50km_50km_classes_13_CCAP_scale30/inference_tiles_scale30_843.tif\n",
      "Image opened\n"
     ]
    },
    {
     "name": "stderr",
     "output_type": "stream",
     "text": [
      "[Parallel(n_jobs=12)]: Using backend ThreadingBackend with 12 concurrent workers.\n",
      "[Parallel(n_jobs=12)]: Done  26 tasks      | elapsed:    2.1s\n",
      "[Parallel(n_jobs=12)]: Done 100 out of 100 | elapsed:    5.8s finished\n"
     ]
    },
    {
     "name": "stdout",
     "output_type": "stream",
     "text": [
      "Class prediction was successful without slicing!\n",
      "No slicing was necessary!\n",
      "Image saved to: local_model_outputs_classifier_prob_habitat_suitability_CCAP_NORTH_east_coast_USA_13_4000_1000_all_predictors_depth_None/output_2023-08-04-08_42_35_654.tif\n",
      "\n",
      "\n",
      "\n",
      "\n",
      "Starting image: /Users/margauxmforstyhe/Desktop/workspace/wetlands_labs/CCAP boundaries/north_east_coast/tiles_north_east_coast_ccap_mapping_bndry_gridded_50km_50km_classes_13_CCAP_scale30/inference_tiles_scale30_894.tif\n",
      "Image opened\n"
     ]
    },
    {
     "name": "stderr",
     "output_type": "stream",
     "text": [
      "[Parallel(n_jobs=12)]: Using backend ThreadingBackend with 12 concurrent workers.\n",
      "[Parallel(n_jobs=12)]: Done  26 tasks      | elapsed:    1.3s\n",
      "[Parallel(n_jobs=12)]: Done 100 out of 100 | elapsed:    3.4s finished\n"
     ]
    },
    {
     "name": "stdout",
     "output_type": "stream",
     "text": [
      "Class prediction was successful without slicing!\n",
      "No slicing was necessary!\n",
      "Image saved to: local_model_outputs_classifier_prob_habitat_suitability_CCAP_NORTH_east_coast_USA_13_4000_1000_all_predictors_depth_None/output_2023-08-04-08_42_39_655.tif\n",
      "\n",
      "\n",
      "\n",
      "\n",
      "Starting image: /Users/margauxmforstyhe/Desktop/workspace/wetlands_labs/CCAP boundaries/north_east_coast/tiles_north_east_coast_ccap_mapping_bndry_gridded_50km_50km_classes_13_CCAP_scale30/inference_tiles_scale30_880.tif\n",
      "Image opened\n"
     ]
    },
    {
     "name": "stderr",
     "output_type": "stream",
     "text": [
      "[Parallel(n_jobs=12)]: Using backend ThreadingBackend with 12 concurrent workers.\n",
      "[Parallel(n_jobs=12)]: Done  26 tasks      | elapsed:    1.0s\n",
      "[Parallel(n_jobs=12)]: Done 100 out of 100 | elapsed:    3.1s finished\n"
     ]
    },
    {
     "name": "stdout",
     "output_type": "stream",
     "text": [
      "Class prediction was successful without slicing!\n",
      "No slicing was necessary!\n",
      "Image saved to: local_model_outputs_classifier_prob_habitat_suitability_CCAP_NORTH_east_coast_USA_13_4000_1000_all_predictors_depth_None/output_2023-08-04-08_42_43_656.tif\n",
      "\n",
      "\n",
      "\n",
      "\n",
      "Starting image: /Users/margauxmforstyhe/Desktop/workspace/wetlands_labs/CCAP boundaries/north_east_coast/tiles_north_east_coast_ccap_mapping_bndry_gridded_50km_50km_classes_13_CCAP_scale30/inference_tiles_scale30_658.tif\n",
      "Image opened\n"
     ]
    },
    {
     "name": "stderr",
     "output_type": "stream",
     "text": [
      "[Parallel(n_jobs=12)]: Using backend ThreadingBackend with 12 concurrent workers.\n",
      "[Parallel(n_jobs=12)]: Done  26 tasks      | elapsed:    1.3s\n",
      "[Parallel(n_jobs=12)]: Done 100 out of 100 | elapsed:    3.8s finished\n"
     ]
    },
    {
     "name": "stdout",
     "output_type": "stream",
     "text": [
      "Class prediction was successful without slicing!\n",
      "No slicing was necessary!\n",
      "Image saved to: local_model_outputs_classifier_prob_habitat_suitability_CCAP_NORTH_east_coast_USA_13_4000_1000_all_predictors_depth_None/output_2023-08-04-08_42_48_657.tif\n",
      "\n",
      "\n",
      "\n",
      "\n",
      "Starting image: /Users/margauxmforstyhe/Desktop/workspace/wetlands_labs/CCAP boundaries/north_east_coast/tiles_north_east_coast_ccap_mapping_bndry_gridded_50km_50km_classes_13_CCAP_scale30/inference_tiles_scale30_116.tif\n",
      "Image opened\n"
     ]
    },
    {
     "name": "stderr",
     "output_type": "stream",
     "text": [
      "[Parallel(n_jobs=12)]: Using backend ThreadingBackend with 12 concurrent workers.\n",
      "[Parallel(n_jobs=12)]: Done  26 tasks      | elapsed:    0.1s\n",
      "[Parallel(n_jobs=12)]: Done 100 out of 100 | elapsed:    0.3s finished\n"
     ]
    },
    {
     "name": "stdout",
     "output_type": "stream",
     "text": [
      "Class prediction was successful without slicing!\n",
      "No slicing was necessary!\n",
      "Image saved to: local_model_outputs_classifier_prob_habitat_suitability_CCAP_NORTH_east_coast_USA_13_4000_1000_all_predictors_depth_None/output_2023-08-04-08_42_48_658.tif\n",
      "\n",
      "\n",
      "\n",
      "\n",
      "Starting image: /Users/margauxmforstyhe/Desktop/workspace/wetlands_labs/CCAP boundaries/north_east_coast/tiles_north_east_coast_ccap_mapping_bndry_gridded_50km_50km_classes_13_CCAP_scale30/inference_tiles_scale30_670.tif\n",
      "Image opened\n"
     ]
    },
    {
     "name": "stderr",
     "output_type": "stream",
     "text": [
      "[Parallel(n_jobs=12)]: Using backend ThreadingBackend with 12 concurrent workers.\n",
      "[Parallel(n_jobs=12)]: Done  26 tasks      | elapsed:    1.7s\n",
      "[Parallel(n_jobs=12)]: Done 100 out of 100 | elapsed:    5.2s finished\n"
     ]
    },
    {
     "name": "stdout",
     "output_type": "stream",
     "text": [
      "Class prediction was successful without slicing!\n",
      "No slicing was necessary!\n",
      "Image saved to: local_model_outputs_classifier_prob_habitat_suitability_CCAP_NORTH_east_coast_USA_13_4000_1000_all_predictors_depth_None/output_2023-08-04-08_42_54_659.tif\n",
      "\n",
      "\n",
      "\n",
      "\n",
      "Starting image: /Users/margauxmforstyhe/Desktop/workspace/wetlands_labs/CCAP boundaries/north_east_coast/tiles_north_east_coast_ccap_mapping_bndry_gridded_50km_50km_classes_13_CCAP_scale30/inference_tiles_scale30_664.tif\n",
      "Image opened\n"
     ]
    },
    {
     "name": "stderr",
     "output_type": "stream",
     "text": [
      "[Parallel(n_jobs=12)]: Using backend ThreadingBackend with 12 concurrent workers.\n",
      "[Parallel(n_jobs=12)]: Done  26 tasks      | elapsed:    2.2s\n",
      "[Parallel(n_jobs=12)]: Done 100 out of 100 | elapsed:    5.9s finished\n",
      "[Parallel(n_jobs=12)]: Using backend ThreadingBackend with 12 concurrent workers.\n",
      "[Parallel(n_jobs=12)]: Done  26 tasks      | elapsed:    0.0s\n",
      "[Parallel(n_jobs=12)]: Done 100 out of 100 | elapsed:    0.0s finished\n"
     ]
    },
    {
     "name": "stdout",
     "output_type": "stream",
     "text": [
      "Class prediction was successful without slicing!\n",
      "No slicing was necessary!\n",
      "Image saved to: local_model_outputs_classifier_prob_habitat_suitability_CCAP_NORTH_east_coast_USA_13_4000_1000_all_predictors_depth_None/output_2023-08-04-08_43_01_660.tif\n",
      "\n",
      "\n",
      "\n",
      "\n",
      "Starting image: /Users/margauxmforstyhe/Desktop/workspace/wetlands_labs/CCAP boundaries/north_east_coast/tiles_north_east_coast_ccap_mapping_bndry_gridded_50km_50km_classes_13_CCAP_scale30/inference_tiles_scale30_102.tif\n",
      "Image opened\n",
      "Class prediction was successful without slicing!\n",
      "No slicing was necessary!\n",
      "Image saved to: local_model_outputs_classifier_prob_habitat_suitability_CCAP_NORTH_east_coast_USA_13_4000_1000_all_predictors_depth_None/output_2023-08-04-08_43_01_661.tif\n",
      "\n",
      "\n",
      "\n",
      "\n",
      "Starting image: /Users/margauxmforstyhe/Desktop/workspace/wetlands_labs/CCAP boundaries/north_east_coast/tiles_north_east_coast_ccap_mapping_bndry_gridded_50km_50km_classes_13_CCAP_scale30/inference_tiles_scale30_499.tif\n",
      "Image opened\n"
     ]
    },
    {
     "name": "stderr",
     "output_type": "stream",
     "text": [
      "[Parallel(n_jobs=12)]: Using backend ThreadingBackend with 12 concurrent workers.\n",
      "[Parallel(n_jobs=12)]: Done  26 tasks      | elapsed:    1.5s\n",
      "[Parallel(n_jobs=12)]: Done 100 out of 100 | elapsed:    4.5s finished\n",
      "[Parallel(n_jobs=12)]: Using backend ThreadingBackend with 12 concurrent workers.\n"
     ]
    },
    {
     "name": "stdout",
     "output_type": "stream",
     "text": [
      "Class prediction was successful without slicing!\n",
      "No slicing was necessary!\n",
      "Image saved to: local_model_outputs_classifier_prob_habitat_suitability_CCAP_NORTH_east_coast_USA_13_4000_1000_all_predictors_depth_None/output_2023-08-04-08_43_06_662.tif\n",
      "\n",
      "\n",
      "\n",
      "\n",
      "Starting image: /Users/margauxmforstyhe/Desktop/workspace/wetlands_labs/CCAP boundaries/north_east_coast/tiles_north_east_coast_ccap_mapping_bndry_gridded_50km_50km_classes_13_CCAP_scale30/inference_tiles_scale30_328.tif\n",
      "Image opened\n"
     ]
    },
    {
     "name": "stderr",
     "output_type": "stream",
     "text": [
      "[Parallel(n_jobs=12)]: Done  26 tasks      | elapsed:    0.1s\n",
      "[Parallel(n_jobs=12)]: Done 100 out of 100 | elapsed:    0.3s finished\n"
     ]
    },
    {
     "name": "stdout",
     "output_type": "stream",
     "text": [
      "Class prediction was successful without slicing!\n",
      "No slicing was necessary!\n",
      "Image saved to: local_model_outputs_classifier_prob_habitat_suitability_CCAP_NORTH_east_coast_USA_13_4000_1000_all_predictors_depth_None/output_2023-08-04-08_43_07_663.tif\n",
      "\n",
      "\n",
      "\n",
      "\n",
      "Starting image: /Users/margauxmforstyhe/Desktop/workspace/wetlands_labs/CCAP boundaries/north_east_coast/tiles_north_east_coast_ccap_mapping_bndry_gridded_50km_50km_classes_13_CCAP_scale30/inference_tiles_scale30_472.tif\n",
      "Image opened\n"
     ]
    },
    {
     "name": "stderr",
     "output_type": "stream",
     "text": [
      "[Parallel(n_jobs=12)]: Using backend ThreadingBackend with 12 concurrent workers.\n",
      "[Parallel(n_jobs=12)]: Done  26 tasks      | elapsed:    1.4s\n",
      "[Parallel(n_jobs=12)]: Done 100 out of 100 | elapsed:    3.7s finished\n"
     ]
    },
    {
     "name": "stdout",
     "output_type": "stream",
     "text": [
      "Class prediction was successful without slicing!\n",
      "No slicing was necessary!\n",
      "Image saved to: local_model_outputs_classifier_prob_habitat_suitability_CCAP_NORTH_east_coast_USA_13_4000_1000_all_predictors_depth_None/output_2023-08-04-08_43_11_664.tif\n",
      "\n",
      "\n",
      "\n",
      "\n",
      "Starting image: /Users/margauxmforstyhe/Desktop/workspace/wetlands_labs/CCAP boundaries/north_east_coast/tiles_north_east_coast_ccap_mapping_bndry_gridded_50km_50km_classes_13_CCAP_scale30/inference_tiles_scale30_17.tif\n",
      "Image opened\n"
     ]
    },
    {
     "name": "stderr",
     "output_type": "stream",
     "text": [
      "[Parallel(n_jobs=12)]: Using backend ThreadingBackend with 12 concurrent workers.\n",
      "[Parallel(n_jobs=12)]: Done  26 tasks      | elapsed:    1.5s\n",
      "[Parallel(n_jobs=12)]: Done 100 out of 100 | elapsed:    4.3s finished\n"
     ]
    },
    {
     "name": "stdout",
     "output_type": "stream",
     "text": [
      "Class prediction was successful without slicing!\n",
      "No slicing was necessary!\n",
      "Image saved to: local_model_outputs_classifier_prob_habitat_suitability_CCAP_NORTH_east_coast_USA_13_4000_1000_all_predictors_depth_None/output_2023-08-04-08_43_16_665.tif\n",
      "\n",
      "\n",
      "\n",
      "\n",
      "Starting image: /Users/margauxmforstyhe/Desktop/workspace/wetlands_labs/CCAP boundaries/north_east_coast/tiles_north_east_coast_ccap_mapping_bndry_gridded_50km_50km_classes_13_CCAP_scale30/inference_tiles_scale30_314.tif\n",
      "Image opened\n"
     ]
    },
    {
     "name": "stderr",
     "output_type": "stream",
     "text": [
      "[Parallel(n_jobs=12)]: Using backend ThreadingBackend with 12 concurrent workers.\n",
      "[Parallel(n_jobs=12)]: Done  26 tasks      | elapsed:    1.7s\n",
      "[Parallel(n_jobs=12)]: Done 100 out of 100 | elapsed:    4.9s finished\n"
     ]
    },
    {
     "name": "stdout",
     "output_type": "stream",
     "text": [
      "Class prediction was successful without slicing!\n",
      "No slicing was necessary!\n",
      "Image saved to: local_model_outputs_classifier_prob_habitat_suitability_CCAP_NORTH_east_coast_USA_13_4000_1000_all_predictors_depth_None/output_2023-08-04-08_43_22_666.tif\n",
      "\n",
      "\n",
      "\n",
      "\n",
      "Starting image: /Users/margauxmforstyhe/Desktop/workspace/wetlands_labs/CCAP boundaries/north_east_coast/tiles_north_east_coast_ccap_mapping_bndry_gridded_50km_50km_classes_13_CCAP_scale30/inference_tiles_scale30_300.tif\n",
      "Image opened\n"
     ]
    },
    {
     "name": "stderr",
     "output_type": "stream",
     "text": [
      "[Parallel(n_jobs=12)]: Using backend ThreadingBackend with 12 concurrent workers.\n",
      "[Parallel(n_jobs=12)]: Done  26 tasks      | elapsed:    0.5s\n",
      "[Parallel(n_jobs=12)]: Done 100 out of 100 | elapsed:    1.5s finished\n"
     ]
    },
    {
     "name": "stdout",
     "output_type": "stream",
     "text": [
      "Class prediction was successful without slicing!\n",
      "No slicing was necessary!\n",
      "Image saved to: local_model_outputs_classifier_prob_habitat_suitability_CCAP_NORTH_east_coast_USA_13_4000_1000_all_predictors_depth_None/output_2023-08-04-08_43_24_667.tif\n",
      "\n",
      "\n",
      "\n",
      "\n",
      "Starting image: /Users/margauxmforstyhe/Desktop/workspace/wetlands_labs/CCAP boundaries/north_east_coast/tiles_north_east_coast_ccap_mapping_bndry_gridded_50km_50km_classes_13_CCAP_scale30/inference_tiles_scale30_466.tif\n",
      "Image opened\n"
     ]
    },
    {
     "name": "stderr",
     "output_type": "stream",
     "text": [
      "[Parallel(n_jobs=12)]: Using backend ThreadingBackend with 12 concurrent workers.\n",
      "[Parallel(n_jobs=12)]: Done  26 tasks      | elapsed:    1.4s\n",
      "[Parallel(n_jobs=12)]: Done 100 out of 100 | elapsed:    4.2s finished\n"
     ]
    },
    {
     "name": "stdout",
     "output_type": "stream",
     "text": [
      "Class prediction was successful without slicing!\n",
      "No slicing was necessary!\n",
      "Image saved to: local_model_outputs_classifier_prob_habitat_suitability_CCAP_NORTH_east_coast_USA_13_4000_1000_all_predictors_depth_None/output_2023-08-04-08_43_29_668.tif\n",
      "\n",
      "\n",
      "\n",
      "\n",
      "Starting image: /Users/margauxmforstyhe/Desktop/workspace/wetlands_labs/CCAP boundaries/north_east_coast/tiles_north_east_coast_ccap_mapping_bndry_gridded_50km_50km_classes_13_CCAP_scale30/inference_tiles_scale30_316.tif\n",
      "Image opened\n"
     ]
    },
    {
     "name": "stderr",
     "output_type": "stream",
     "text": [
      "[Parallel(n_jobs=12)]: Using backend ThreadingBackend with 12 concurrent workers.\n",
      "[Parallel(n_jobs=12)]: Done  26 tasks      | elapsed:    1.4s\n",
      "[Parallel(n_jobs=12)]: Done 100 out of 100 | elapsed:    4.1s finished\n"
     ]
    },
    {
     "name": "stdout",
     "output_type": "stream",
     "text": [
      "Class prediction was successful without slicing!\n",
      "No slicing was necessary!\n",
      "Image saved to: local_model_outputs_classifier_prob_habitat_suitability_CCAP_NORTH_east_coast_USA_13_4000_1000_all_predictors_depth_None/output_2023-08-04-08_43_34_669.tif\n",
      "\n",
      "\n",
      "\n",
      "\n",
      "Starting image: /Users/margauxmforstyhe/Desktop/workspace/wetlands_labs/CCAP boundaries/north_east_coast/tiles_north_east_coast_ccap_mapping_bndry_gridded_50km_50km_classes_13_CCAP_scale30/inference_tiles_scale30_15.tif\n",
      "Image opened\n"
     ]
    },
    {
     "name": "stderr",
     "output_type": "stream",
     "text": [
      "[Parallel(n_jobs=12)]: Using backend ThreadingBackend with 12 concurrent workers.\n",
      "[Parallel(n_jobs=12)]: Done  26 tasks      | elapsed:    1.1s\n",
      "[Parallel(n_jobs=12)]: Done 100 out of 100 | elapsed:    3.1s finished\n"
     ]
    },
    {
     "name": "stdout",
     "output_type": "stream",
     "text": [
      "Class prediction was successful without slicing!\n",
      "No slicing was necessary!\n",
      "Image saved to: local_model_outputs_classifier_prob_habitat_suitability_CCAP_NORTH_east_coast_USA_13_4000_1000_all_predictors_depth_None/output_2023-08-04-08_43_38_670.tif\n",
      "\n",
      "\n",
      "\n",
      "\n",
      "Starting image: /Users/margauxmforstyhe/Desktop/workspace/wetlands_labs/CCAP boundaries/north_east_coast/tiles_north_east_coast_ccap_mapping_bndry_gridded_50km_50km_classes_13_CCAP_scale30/inference_tiles_scale30_470.tif\n",
      "Image opened\n"
     ]
    },
    {
     "name": "stderr",
     "output_type": "stream",
     "text": [
      "[Parallel(n_jobs=12)]: Using backend ThreadingBackend with 12 concurrent workers.\n",
      "[Parallel(n_jobs=12)]: Done  26 tasks      | elapsed:    1.3s\n",
      "[Parallel(n_jobs=12)]: Done 100 out of 100 | elapsed:    3.9s finished\n"
     ]
    },
    {
     "name": "stdout",
     "output_type": "stream",
     "text": [
      "Class prediction was successful without slicing!\n",
      "No slicing was necessary!\n",
      "Image saved to: local_model_outputs_classifier_prob_habitat_suitability_CCAP_NORTH_east_coast_USA_13_4000_1000_all_predictors_depth_None/output_2023-08-04-08_43_43_671.tif\n",
      "\n",
      "\n",
      "\n",
      "\n",
      "Starting image: /Users/margauxmforstyhe/Desktop/workspace/wetlands_labs/CCAP boundaries/north_east_coast/tiles_north_east_coast_ccap_mapping_bndry_gridded_50km_50km_classes_13_CCAP_scale30/inference_tiles_scale30_464.tif\n",
      "Image opened\n"
     ]
    },
    {
     "name": "stderr",
     "output_type": "stream",
     "text": [
      "[Parallel(n_jobs=12)]: Using backend ThreadingBackend with 12 concurrent workers.\n",
      "[Parallel(n_jobs=12)]: Done  26 tasks      | elapsed:    1.7s\n",
      "[Parallel(n_jobs=12)]: Done 100 out of 100 | elapsed:    4.7s finished\n"
     ]
    },
    {
     "name": "stdout",
     "output_type": "stream",
     "text": [
      "Class prediction was successful without slicing!\n",
      "No slicing was necessary!\n",
      "Image saved to: local_model_outputs_classifier_prob_habitat_suitability_CCAP_NORTH_east_coast_USA_13_4000_1000_all_predictors_depth_None/output_2023-08-04-08_43_48_672.tif\n",
      "\n",
      "\n",
      "\n",
      "\n",
      "Starting image: /Users/margauxmforstyhe/Desktop/workspace/wetlands_labs/CCAP boundaries/north_east_coast/tiles_north_east_coast_ccap_mapping_bndry_gridded_50km_50km_classes_13_CCAP_scale30/inference_tiles_scale30_302.tif\n",
      "Image opened\n"
     ]
    },
    {
     "name": "stderr",
     "output_type": "stream",
     "text": [
      "[Parallel(n_jobs=12)]: Using backend ThreadingBackend with 12 concurrent workers.\n",
      "[Parallel(n_jobs=12)]: Done  26 tasks      | elapsed:    0.2s\n",
      "[Parallel(n_jobs=12)]: Done 100 out of 100 | elapsed:    0.7s finished\n",
      "[Parallel(n_jobs=12)]: Using backend ThreadingBackend with 12 concurrent workers.\n"
     ]
    },
    {
     "name": "stdout",
     "output_type": "stream",
     "text": [
      "Class prediction was successful without slicing!\n",
      "No slicing was necessary!\n",
      "Image saved to: local_model_outputs_classifier_prob_habitat_suitability_CCAP_NORTH_east_coast_USA_13_4000_1000_all_predictors_depth_None/output_2023-08-04-08_43_49_673.tif\n",
      "\n",
      "\n",
      "\n",
      "\n",
      "Starting image: /Users/margauxmforstyhe/Desktop/workspace/wetlands_labs/CCAP boundaries/north_east_coast/tiles_north_east_coast_ccap_mapping_bndry_gridded_50km_50km_classes_13_CCAP_scale30/inference_tiles_scale30_29.tif\n",
      "Image opened\n"
     ]
    },
    {
     "name": "stderr",
     "output_type": "stream",
     "text": [
      "[Parallel(n_jobs=12)]: Done  26 tasks      | elapsed:    0.1s\n",
      "[Parallel(n_jobs=12)]: Done 100 out of 100 | elapsed:    0.4s finished\n"
     ]
    },
    {
     "name": "stdout",
     "output_type": "stream",
     "text": [
      "Class prediction was successful without slicing!\n",
      "No slicing was necessary!\n",
      "Image saved to: local_model_outputs_classifier_prob_habitat_suitability_CCAP_NORTH_east_coast_USA_13_4000_1000_all_predictors_depth_None/output_2023-08-04-08_43_49_674.tif\n",
      "\n",
      "\n",
      "\n",
      "\n",
      "Starting image: /Users/margauxmforstyhe/Desktop/workspace/wetlands_labs/CCAP boundaries/north_east_coast/tiles_north_east_coast_ccap_mapping_bndry_gridded_50km_50km_classes_13_CCAP_scale30/inference_tiles_scale30_458.tif\n",
      "Image opened\n"
     ]
    },
    {
     "name": "stderr",
     "output_type": "stream",
     "text": [
      "[Parallel(n_jobs=12)]: Using backend ThreadingBackend with 12 concurrent workers.\n",
      "[Parallel(n_jobs=12)]: Done  26 tasks      | elapsed:    0.5s\n",
      "[Parallel(n_jobs=12)]: Done 100 out of 100 | elapsed:    1.4s finished\n"
     ]
    },
    {
     "name": "stdout",
     "output_type": "stream",
     "text": [
      "Class prediction was successful without slicing!\n",
      "No slicing was necessary!\n",
      "Image saved to: local_model_outputs_classifier_prob_habitat_suitability_CCAP_NORTH_east_coast_USA_13_4000_1000_all_predictors_depth_None/output_2023-08-04-08_43_51_675.tif\n",
      "\n",
      "\n",
      "\n",
      "\n",
      "Starting image: /Users/margauxmforstyhe/Desktop/workspace/wetlands_labs/CCAP boundaries/north_east_coast/tiles_north_east_coast_ccap_mapping_bndry_gridded_50km_50km_classes_13_CCAP_scale30/inference_tiles_scale30_672.tif\n",
      "Image opened\n"
     ]
    },
    {
     "name": "stderr",
     "output_type": "stream",
     "text": [
      "[Parallel(n_jobs=12)]: Using backend ThreadingBackend with 12 concurrent workers.\n",
      "[Parallel(n_jobs=12)]: Done  26 tasks      | elapsed:    1.5s\n",
      "[Parallel(n_jobs=12)]: Done 100 out of 100 | elapsed:    4.6s finished\n"
     ]
    },
    {
     "name": "stdout",
     "output_type": "stream",
     "text": [
      "Class prediction was successful without slicing!\n",
      "No slicing was necessary!\n",
      "Image saved to: local_model_outputs_classifier_prob_habitat_suitability_CCAP_NORTH_east_coast_USA_13_4000_1000_all_predictors_depth_None/output_2023-08-04-08_43_57_676.tif\n",
      "\n",
      "\n",
      "\n",
      "\n",
      "Starting image: /Users/margauxmforstyhe/Desktop/workspace/wetlands_labs/CCAP boundaries/north_east_coast/tiles_north_east_coast_ccap_mapping_bndry_gridded_50km_50km_classes_13_CCAP_scale30/inference_tiles_scale30_114.tif\n",
      "Image opened\n"
     ]
    },
    {
     "name": "stderr",
     "output_type": "stream",
     "text": [
      "[Parallel(n_jobs=12)]: Using backend ThreadingBackend with 12 concurrent workers.\n",
      "[Parallel(n_jobs=12)]: Done  26 tasks      | elapsed:    1.2s\n",
      "[Parallel(n_jobs=12)]: Done 100 out of 100 | elapsed:    3.1s finished\n"
     ]
    },
    {
     "name": "stdout",
     "output_type": "stream",
     "text": [
      "Class prediction was successful without slicing!\n",
      "No slicing was necessary!\n",
      "Image saved to: local_model_outputs_classifier_prob_habitat_suitability_CCAP_NORTH_east_coast_USA_13_4000_1000_all_predictors_depth_None/output_2023-08-04-08_44_00_677.tif\n",
      "\n",
      "\n",
      "\n",
      "\n",
      "Starting image: /Users/margauxmforstyhe/Desktop/workspace/wetlands_labs/CCAP boundaries/north_east_coast/tiles_north_east_coast_ccap_mapping_bndry_gridded_50km_50km_classes_13_CCAP_scale30/inference_tiles_scale30_100.tif\n",
      "Image opened\n"
     ]
    },
    {
     "name": "stderr",
     "output_type": "stream",
     "text": [
      "[Parallel(n_jobs=12)]: Using backend ThreadingBackend with 12 concurrent workers.\n",
      "[Parallel(n_jobs=12)]: Done  26 tasks      | elapsed:    1.9s\n",
      "[Parallel(n_jobs=12)]: Done 100 out of 100 | elapsed:    5.0s finished\n"
     ]
    },
    {
     "name": "stdout",
     "output_type": "stream",
     "text": [
      "Class prediction was successful without slicing!\n",
      "No slicing was necessary!\n",
      "Image saved to: local_model_outputs_classifier_prob_habitat_suitability_CCAP_NORTH_east_coast_USA_13_4000_1000_all_predictors_depth_None/output_2023-08-04-08_44_06_678.tif\n",
      "\n",
      "\n",
      "\n",
      "\n",
      "Starting image: /Users/margauxmforstyhe/Desktop/workspace/wetlands_labs/CCAP boundaries/north_east_coast/tiles_north_east_coast_ccap_mapping_bndry_gridded_50km_50km_classes_13_CCAP_scale30/inference_tiles_scale30_666.tif\n",
      "Image opened\n"
     ]
    },
    {
     "name": "stderr",
     "output_type": "stream",
     "text": [
      "[Parallel(n_jobs=12)]: Using backend ThreadingBackend with 12 concurrent workers.\n",
      "[Parallel(n_jobs=12)]: Done  26 tasks      | elapsed:    0.9s\n",
      "[Parallel(n_jobs=12)]: Done 100 out of 100 | elapsed:    2.6s finished\n"
     ]
    },
    {
     "name": "stdout",
     "output_type": "stream",
     "text": [
      "Class prediction was successful without slicing!\n",
      "No slicing was necessary!\n",
      "Image saved to: local_model_outputs_classifier_prob_habitat_suitability_CCAP_NORTH_east_coast_USA_13_4000_1000_all_predictors_depth_None/output_2023-08-04-08_44_10_679.tif\n",
      "\n",
      "\n",
      "\n",
      "\n",
      "Starting image: /Users/margauxmforstyhe/Desktop/workspace/wetlands_labs/CCAP boundaries/north_east_coast/tiles_north_east_coast_ccap_mapping_bndry_gridded_50km_50km_classes_13_CCAP_scale30/inference_tiles_scale30_896.tif\n",
      "Image opened\n"
     ]
    },
    {
     "name": "stderr",
     "output_type": "stream",
     "text": [
      "[Parallel(n_jobs=12)]: Using backend ThreadingBackend with 12 concurrent workers.\n",
      "[Parallel(n_jobs=12)]: Done  26 tasks      | elapsed:    0.8s\n",
      "[Parallel(n_jobs=12)]: Done 100 out of 100 | elapsed:    2.4s finished\n",
      "[Parallel(n_jobs=12)]: Using backend ThreadingBackend with 12 concurrent workers.\n"
     ]
    },
    {
     "name": "stdout",
     "output_type": "stream",
     "text": [
      "Class prediction was successful without slicing!\n",
      "No slicing was necessary!\n",
      "Image saved to: local_model_outputs_classifier_prob_habitat_suitability_CCAP_NORTH_east_coast_USA_13_4000_1000_all_predictors_depth_None/output_2023-08-04-08_44_13_680.tif\n",
      "\n",
      "\n",
      "\n",
      "\n",
      "Starting image: /Users/margauxmforstyhe/Desktop/workspace/wetlands_labs/CCAP boundaries/north_east_coast/tiles_north_east_coast_ccap_mapping_bndry_gridded_50km_50km_classes_13_CCAP_scale30/inference_tiles_scale30_128.tif\n",
      "Image opened\n"
     ]
    },
    {
     "name": "stderr",
     "output_type": "stream",
     "text": [
      "[Parallel(n_jobs=12)]: Done  26 tasks      | elapsed:    0.2s\n",
      "[Parallel(n_jobs=12)]: Done 100 out of 100 | elapsed:    0.6s finished\n"
     ]
    },
    {
     "name": "stdout",
     "output_type": "stream",
     "text": [
      "Class prediction was successful without slicing!\n",
      "No slicing was necessary!\n",
      "Image saved to: local_model_outputs_classifier_prob_habitat_suitability_CCAP_NORTH_east_coast_USA_13_4000_1000_all_predictors_depth_None/output_2023-08-04-08_44_13_681.tif\n",
      "\n",
      "\n",
      "\n",
      "\n",
      "Starting image: /Users/margauxmforstyhe/Desktop/workspace/wetlands_labs/CCAP boundaries/north_east_coast/tiles_north_east_coast_ccap_mapping_bndry_gridded_50km_50km_classes_13_CCAP_scale30/inference_tiles_scale30_882.tif\n",
      "Image opened\n"
     ]
    },
    {
     "name": "stderr",
     "output_type": "stream",
     "text": [
      "[Parallel(n_jobs=12)]: Using backend ThreadingBackend with 12 concurrent workers.\n",
      "[Parallel(n_jobs=12)]: Done  26 tasks      | elapsed:    1.8s\n",
      "[Parallel(n_jobs=12)]: Done 100 out of 100 | elapsed:    5.2s finished\n"
     ]
    },
    {
     "name": "stdout",
     "output_type": "stream",
     "text": [
      "Class prediction was successful without slicing!\n",
      "No slicing was necessary!\n",
      "Image saved to: local_model_outputs_classifier_prob_habitat_suitability_CCAP_NORTH_east_coast_USA_13_4000_1000_all_predictors_depth_None/output_2023-08-04-08_44_20_682.tif\n",
      "\n",
      "\n",
      "\n",
      "\n",
      "Starting image: /Users/margauxmforstyhe/Desktop/workspace/wetlands_labs/CCAP boundaries/north_east_coast/tiles_north_east_coast_ccap_mapping_bndry_gridded_50km_50km_classes_13_CCAP_scale30/inference_tiles_scale30_869.tif\n",
      "Image opened\n"
     ]
    },
    {
     "name": "stderr",
     "output_type": "stream",
     "text": [
      "[Parallel(n_jobs=12)]: Using backend ThreadingBackend with 12 concurrent workers.\n",
      "[Parallel(n_jobs=12)]: Done  26 tasks      | elapsed:    0.3s\n",
      "[Parallel(n_jobs=12)]: Done 100 out of 100 | elapsed:    0.9s finished\n"
     ]
    },
    {
     "name": "stdout",
     "output_type": "stream",
     "text": [
      "Class prediction was successful without slicing!\n",
      "No slicing was necessary!\n",
      "Image saved to: local_model_outputs_classifier_prob_habitat_suitability_CCAP_NORTH_east_coast_USA_13_4000_1000_all_predictors_depth_None/output_2023-08-04-08_44_21_683.tif\n",
      "\n",
      "\n",
      "\n",
      "\n",
      "Starting image: /Users/margauxmforstyhe/Desktop/workspace/wetlands_labs/CCAP boundaries/north_east_coast/tiles_north_east_coast_ccap_mapping_bndry_gridded_50km_50km_classes_13_CCAP_scale30/inference_tiles_scale30_855.tif\n",
      "Image opened\n"
     ]
    },
    {
     "name": "stderr",
     "output_type": "stream",
     "text": [
      "[Parallel(n_jobs=12)]: Using backend ThreadingBackend with 12 concurrent workers.\n",
      "[Parallel(n_jobs=12)]: Done  26 tasks      | elapsed:    1.8s\n",
      "[Parallel(n_jobs=12)]: Done 100 out of 100 | elapsed:    5.1s finished\n"
     ]
    },
    {
     "name": "stdout",
     "output_type": "stream",
     "text": [
      "Class prediction was successful without slicing!\n",
      "No slicing was necessary!\n",
      "Image saved to: local_model_outputs_classifier_prob_habitat_suitability_CCAP_NORTH_east_coast_USA_13_4000_1000_all_predictors_depth_None/output_2023-08-04-08_44_27_684.tif\n",
      "\n",
      "\n",
      "\n",
      "\n",
      "Starting image: /Users/margauxmforstyhe/Desktop/workspace/wetlands_labs/CCAP boundaries/north_east_coast/tiles_north_east_coast_ccap_mapping_bndry_gridded_50km_50km_classes_13_CCAP_scale30/inference_tiles_scale30_841.tif\n",
      "Image opened\n"
     ]
    },
    {
     "name": "stderr",
     "output_type": "stream",
     "text": [
      "[Parallel(n_jobs=12)]: Using backend ThreadingBackend with 12 concurrent workers.\n",
      "[Parallel(n_jobs=12)]: Done  26 tasks      | elapsed:    1.8s\n",
      "[Parallel(n_jobs=12)]: Done 100 out of 100 | elapsed:    5.2s finished\n"
     ]
    },
    {
     "name": "stdout",
     "output_type": "stream",
     "text": [
      "Class prediction was successful without slicing!\n",
      "No slicing was necessary!\n",
      "Image saved to: local_model_outputs_classifier_prob_habitat_suitability_CCAP_NORTH_east_coast_USA_13_4000_1000_all_predictors_depth_None/output_2023-08-04-08_44_33_685.tif\n",
      "\n",
      "\n",
      "\n",
      "\n",
      "Starting image: /Users/margauxmforstyhe/Desktop/workspace/wetlands_labs/CCAP boundaries/north_east_coast/tiles_north_east_coast_ccap_mapping_bndry_gridded_50km_50km_classes_13_CCAP_scale30/inference_tiles_scale30_699.tif\n",
      "Image opened\n"
     ]
    },
    {
     "name": "stderr",
     "output_type": "stream",
     "text": [
      "[Parallel(n_jobs=12)]: Using backend ThreadingBackend with 12 concurrent workers.\n",
      "[Parallel(n_jobs=12)]: Done  26 tasks      | elapsed:    1.7s\n",
      "[Parallel(n_jobs=12)]: Done 100 out of 100 | elapsed:    5.0s finished\n"
     ]
    },
    {
     "name": "stdout",
     "output_type": "stream",
     "text": [
      "Class prediction was successful without slicing!\n",
      "No slicing was necessary!\n",
      "Image saved to: local_model_outputs_classifier_prob_habitat_suitability_CCAP_NORTH_east_coast_USA_13_4000_1000_all_predictors_depth_None/output_2023-08-04-08_44_39_686.tif\n",
      "\n",
      "\n",
      "\n",
      "\n",
      "Starting image: /Users/margauxmforstyhe/Desktop/workspace/wetlands_labs/CCAP boundaries/north_east_coast/tiles_north_east_coast_ccap_mapping_bndry_gridded_50km_50km_classes_13_CCAP_scale30/inference_tiles_scale30_706.tif\n",
      "Image opened\n"
     ]
    },
    {
     "name": "stderr",
     "output_type": "stream",
     "text": [
      "[Parallel(n_jobs=12)]: Using backend ThreadingBackend with 12 concurrent workers.\n",
      "[Parallel(n_jobs=12)]: Done  26 tasks      | elapsed:    1.0s\n",
      "[Parallel(n_jobs=12)]: Done 100 out of 100 | elapsed:    2.8s finished\n"
     ]
    },
    {
     "name": "stdout",
     "output_type": "stream",
     "text": [
      "Class prediction was successful without slicing!\n",
      "No slicing was necessary!\n",
      "Image saved to: local_model_outputs_classifier_prob_habitat_suitability_CCAP_NORTH_east_coast_USA_13_4000_1000_all_predictors_depth_None/output_2023-08-04-08_44_42_687.tif\n",
      "\n",
      "\n",
      "\n",
      "\n",
      "Starting image: /Users/margauxmforstyhe/Desktop/workspace/wetlands_labs/CCAP boundaries/north_east_coast/tiles_north_east_coast_ccap_mapping_bndry_gridded_50km_50km_classes_13_CCAP_scale30/inference_tiles_scale30_712.tif\n",
      "Image opened\n"
     ]
    },
    {
     "name": "stderr",
     "output_type": "stream",
     "text": [
      "[Parallel(n_jobs=12)]: Using backend ThreadingBackend with 12 concurrent workers.\n",
      "[Parallel(n_jobs=12)]: Done  26 tasks      | elapsed:    0.5s\n",
      "[Parallel(n_jobs=12)]: Done 100 out of 100 | elapsed:    1.6s finished\n"
     ]
    },
    {
     "name": "stdout",
     "output_type": "stream",
     "text": [
      "Class prediction was successful without slicing!\n",
      "No slicing was necessary!\n",
      "Image saved to: local_model_outputs_classifier_prob_habitat_suitability_CCAP_NORTH_east_coast_USA_13_4000_1000_all_predictors_depth_None/output_2023-08-04-08_44_44_688.tif\n",
      "\n",
      "\n",
      "\n",
      "\n",
      "Starting image: /Users/margauxmforstyhe/Desktop/workspace/wetlands_labs/CCAP boundaries/north_east_coast/tiles_north_east_coast_ccap_mapping_bndry_gridded_50km_50km_classes_13_CCAP_scale30/inference_tiles_scale30_909.tif\n",
      "Image opened\n"
     ]
    },
    {
     "name": "stderr",
     "output_type": "stream",
     "text": [
      "[Parallel(n_jobs=12)]: Using backend ThreadingBackend with 12 concurrent workers.\n",
      "[Parallel(n_jobs=12)]: Done  26 tasks      | elapsed:    0.3s\n",
      "[Parallel(n_jobs=12)]: Done 100 out of 100 | elapsed:    1.0s finished\n"
     ]
    },
    {
     "name": "stdout",
     "output_type": "stream",
     "text": [
      "Class prediction was successful without slicing!\n",
      "No slicing was necessary!\n",
      "Image saved to: local_model_outputs_classifier_prob_habitat_suitability_CCAP_NORTH_east_coast_USA_13_4000_1000_all_predictors_depth_None/output_2023-08-04-08_44_46_689.tif\n",
      "\n",
      "\n",
      "\n",
      "\n",
      "Starting image: /Users/margauxmforstyhe/Desktop/workspace/wetlands_labs/CCAP boundaries/north_east_coast/tiles_north_east_coast_ccap_mapping_bndry_gridded_50km_50km_classes_13_CCAP_scale30/inference_tiles_scale30_921.tif\n",
      "Image opened\n"
     ]
    },
    {
     "name": "stderr",
     "output_type": "stream",
     "text": [
      "[Parallel(n_jobs=12)]: Using backend ThreadingBackend with 12 concurrent workers.\n",
      "[Parallel(n_jobs=12)]: Done  26 tasks      | elapsed:    1.4s\n",
      "[Parallel(n_jobs=12)]: Done 100 out of 100 | elapsed:    3.5s finished\n"
     ]
    },
    {
     "name": "stdout",
     "output_type": "stream",
     "text": [
      "Class prediction was successful without slicing!\n",
      "No slicing was necessary!\n",
      "Image saved to: local_model_outputs_classifier_prob_habitat_suitability_CCAP_NORTH_east_coast_USA_13_4000_1000_all_predictors_depth_None/output_2023-08-04-08_44_50_690.tif\n",
      "\n",
      "\n",
      "\n",
      "\n",
      "Starting image: /Users/margauxmforstyhe/Desktop/workspace/wetlands_labs/CCAP boundaries/north_east_coast/tiles_north_east_coast_ccap_mapping_bndry_gridded_50km_50km_classes_13_CCAP_scale30/inference_tiles_scale30_262.tif\n",
      "Image opened\n"
     ]
    },
    {
     "name": "stderr",
     "output_type": "stream",
     "text": [
      "[Parallel(n_jobs=12)]: Using backend ThreadingBackend with 12 concurrent workers.\n",
      "[Parallel(n_jobs=12)]: Done  26 tasks      | elapsed:    1.5s\n",
      "[Parallel(n_jobs=12)]: Done 100 out of 100 | elapsed:    3.9s finished\n"
     ]
    },
    {
     "name": "stdout",
     "output_type": "stream",
     "text": [
      "Class prediction was successful without slicing!\n",
      "No slicing was necessary!\n",
      "Image saved to: local_model_outputs_classifier_prob_habitat_suitability_CCAP_NORTH_east_coast_USA_13_4000_1000_all_predictors_depth_None/output_2023-08-04-08_44_55_691.tif\n",
      "\n",
      "\n",
      "\n",
      "\n",
      "Starting image: /Users/margauxmforstyhe/Desktop/workspace/wetlands_labs/CCAP boundaries/north_east_coast/tiles_north_east_coast_ccap_mapping_bndry_gridded_50km_50km_classes_13_CCAP_scale30/inference_tiles_scale30_504.tif\n",
      "Image opened\n"
     ]
    },
    {
     "name": "stderr",
     "output_type": "stream",
     "text": [
      "[Parallel(n_jobs=12)]: Using backend ThreadingBackend with 12 concurrent workers.\n",
      "[Parallel(n_jobs=12)]: Done  26 tasks      | elapsed:    1.3s\n",
      "[Parallel(n_jobs=12)]: Done 100 out of 100 | elapsed:    3.8s finished\n"
     ]
    },
    {
     "name": "stdout",
     "output_type": "stream",
     "text": [
      "Class prediction was successful without slicing!\n",
      "No slicing was necessary!\n",
      "Image saved to: local_model_outputs_classifier_prob_habitat_suitability_CCAP_NORTH_east_coast_USA_13_4000_1000_all_predictors_depth_None/output_2023-08-04-08_44_59_692.tif\n",
      "\n",
      "\n",
      "\n",
      "\n",
      "Starting image: /Users/margauxmforstyhe/Desktop/workspace/wetlands_labs/CCAP boundaries/north_east_coast/tiles_north_east_coast_ccap_mapping_bndry_gridded_50km_50km_classes_13_CCAP_scale30/inference_tiles_scale30_510.tif\n",
      "Image opened\n"
     ]
    },
    {
     "name": "stderr",
     "output_type": "stream",
     "text": [
      "[Parallel(n_jobs=12)]: Using backend ThreadingBackend with 12 concurrent workers.\n",
      "[Parallel(n_jobs=12)]: Done  26 tasks      | elapsed:    1.2s\n",
      "[Parallel(n_jobs=12)]: Done 100 out of 100 | elapsed:    3.6s finished\n"
     ]
    },
    {
     "name": "stdout",
     "output_type": "stream",
     "text": [
      "Class prediction was successful without slicing!\n",
      "No slicing was necessary!\n",
      "Image saved to: local_model_outputs_classifier_prob_habitat_suitability_CCAP_NORTH_east_coast_USA_13_4000_1000_all_predictors_depth_None/output_2023-08-04-08_45_04_693.tif\n",
      "\n",
      "\n",
      "\n",
      "\n",
      "Starting image: /Users/margauxmforstyhe/Desktop/workspace/wetlands_labs/CCAP boundaries/north_east_coast/tiles_north_east_coast_ccap_mapping_bndry_gridded_50km_50km_classes_13_CCAP_scale30/inference_tiles_scale30_276.tif\n",
      "Image opened\n"
     ]
    },
    {
     "name": "stderr",
     "output_type": "stream",
     "text": [
      "[Parallel(n_jobs=12)]: Using backend ThreadingBackend with 12 concurrent workers.\n",
      "[Parallel(n_jobs=12)]: Done  26 tasks      | elapsed:    0.9s\n",
      "[Parallel(n_jobs=12)]: Done 100 out of 100 | elapsed:    2.7s finished\n"
     ]
    },
    {
     "name": "stdout",
     "output_type": "stream",
     "text": [
      "Class prediction was successful without slicing!\n",
      "No slicing was necessary!\n",
      "Image saved to: local_model_outputs_classifier_prob_habitat_suitability_CCAP_NORTH_east_coast_USA_13_4000_1000_all_predictors_depth_None/output_2023-08-04-08_45_07_694.tif\n",
      "\n",
      "\n",
      "\n",
      "\n",
      "Starting image: /Users/margauxmforstyhe/Desktop/workspace/wetlands_labs/CCAP boundaries/north_east_coast/tiles_north_east_coast_ccap_mapping_bndry_gridded_50km_50km_classes_13_CCAP_scale30/inference_tiles_scale30_538.tif\n",
      "Image opened\n"
     ]
    },
    {
     "name": "stderr",
     "output_type": "stream",
     "text": [
      "[Parallel(n_jobs=12)]: Using backend ThreadingBackend with 12 concurrent workers.\n",
      "[Parallel(n_jobs=12)]: Done  26 tasks      | elapsed:    1.1s\n",
      "[Parallel(n_jobs=12)]: Done 100 out of 100 | elapsed:    3.4s finished\n"
     ]
    },
    {
     "name": "stdout",
     "output_type": "stream",
     "text": [
      "Class prediction was successful without slicing!\n",
      "No slicing was necessary!\n",
      "Image saved to: local_model_outputs_classifier_prob_habitat_suitability_CCAP_NORTH_east_coast_USA_13_4000_1000_all_predictors_depth_None/output_2023-08-04-08_45_11_695.tif\n",
      "\n",
      "\n",
      "\n",
      "\n",
      "Starting image: /Users/margauxmforstyhe/Desktop/workspace/wetlands_labs/CCAP boundaries/north_east_coast/tiles_north_east_coast_ccap_mapping_bndry_gridded_50km_50km_classes_13_CCAP_scale30/inference_tiles_scale30_289.tif\n",
      "Image opened\n"
     ]
    },
    {
     "name": "stderr",
     "output_type": "stream",
     "text": [
      "[Parallel(n_jobs=12)]: Using backend ThreadingBackend with 12 concurrent workers.\n",
      "[Parallel(n_jobs=12)]: Done  26 tasks      | elapsed:    1.8s\n",
      "[Parallel(n_jobs=12)]: Done 100 out of 100 | elapsed:    4.7s finished\n"
     ]
    },
    {
     "name": "stdout",
     "output_type": "stream",
     "text": [
      "Class prediction was successful without slicing!\n",
      "No slicing was necessary!\n",
      "Image saved to: local_model_outputs_classifier_prob_habitat_suitability_CCAP_NORTH_east_coast_USA_13_4000_1000_all_predictors_depth_None/output_2023-08-04-08_45_17_696.tif\n",
      "\n",
      "\n",
      "\n",
      "\n",
      "Starting image: /Users/margauxmforstyhe/Desktop/workspace/wetlands_labs/CCAP boundaries/north_east_coast/tiles_north_east_coast_ccap_mapping_bndry_gridded_50km_50km_classes_13_CCAP_scale30/inference_tiles_scale30_288.tif\n",
      "Image opened\n"
     ]
    },
    {
     "name": "stderr",
     "output_type": "stream",
     "text": [
      "[Parallel(n_jobs=12)]: Using backend ThreadingBackend with 12 concurrent workers.\n",
      "[Parallel(n_jobs=12)]: Done  26 tasks      | elapsed:    1.3s\n",
      "[Parallel(n_jobs=12)]: Done 100 out of 100 | elapsed:    3.9s finished\n"
     ]
    },
    {
     "name": "stdout",
     "output_type": "stream",
     "text": [
      "Class prediction was successful without slicing!\n",
      "No slicing was necessary!\n",
      "Image saved to: local_model_outputs_classifier_prob_habitat_suitability_CCAP_NORTH_east_coast_USA_13_4000_1000_all_predictors_depth_None/output_2023-08-04-08_45_21_697.tif\n",
      "\n",
      "\n",
      "\n",
      "\n",
      "Starting image: /Users/margauxmforstyhe/Desktop/workspace/wetlands_labs/CCAP boundaries/north_east_coast/tiles_north_east_coast_ccap_mapping_bndry_gridded_50km_50km_classes_13_CCAP_scale30/inference_tiles_scale30_539.tif\n",
      "Image opened\n"
     ]
    },
    {
     "name": "stderr",
     "output_type": "stream",
     "text": [
      "[Parallel(n_jobs=12)]: Using backend ThreadingBackend with 12 concurrent workers.\n",
      "[Parallel(n_jobs=12)]: Done  26 tasks      | elapsed:    1.4s\n",
      "[Parallel(n_jobs=12)]: Done 100 out of 100 | elapsed:    4.1s finished\n"
     ]
    },
    {
     "name": "stdout",
     "output_type": "stream",
     "text": [
      "Class prediction was successful without slicing!\n",
      "No slicing was necessary!\n",
      "Image saved to: local_model_outputs_classifier_prob_habitat_suitability_CCAP_NORTH_east_coast_USA_13_4000_1000_all_predictors_depth_None/output_2023-08-04-08_45_26_698.tif\n",
      "\n",
      "\n",
      "\n",
      "\n",
      "Starting image: /Users/margauxmforstyhe/Desktop/workspace/wetlands_labs/CCAP boundaries/north_east_coast/tiles_north_east_coast_ccap_mapping_bndry_gridded_50km_50km_classes_13_CCAP_scale30/inference_tiles_scale30_511.tif\n",
      "Image opened\n"
     ]
    },
    {
     "name": "stderr",
     "output_type": "stream",
     "text": [
      "[Parallel(n_jobs=12)]: Using backend ThreadingBackend with 12 concurrent workers.\n",
      "[Parallel(n_jobs=12)]: Done  26 tasks      | elapsed:    0.3s\n",
      "[Parallel(n_jobs=12)]: Done 100 out of 100 | elapsed:    0.8s finished\n",
      "[Parallel(n_jobs=12)]: Using backend ThreadingBackend with 12 concurrent workers.\n",
      "[Parallel(n_jobs=12)]: Done  26 tasks      | elapsed:    0.1s\n"
     ]
    },
    {
     "name": "stdout",
     "output_type": "stream",
     "text": [
      "Class prediction was successful without slicing!\n",
      "No slicing was necessary!\n",
      "Image saved to: local_model_outputs_classifier_prob_habitat_suitability_CCAP_NORTH_east_coast_USA_13_4000_1000_all_predictors_depth_None/output_2023-08-04-08_45_27_699.tif\n",
      "\n",
      "\n",
      "\n",
      "\n",
      "Starting image: /Users/margauxmforstyhe/Desktop/workspace/wetlands_labs/CCAP boundaries/north_east_coast/tiles_north_east_coast_ccap_mapping_bndry_gridded_50km_50km_classes_13_CCAP_scale30/inference_tiles_scale30_277.tif\n",
      "Image opened\n"
     ]
    },
    {
     "name": "stderr",
     "output_type": "stream",
     "text": [
      "[Parallel(n_jobs=12)]: Done 100 out of 100 | elapsed:    0.3s finished\n",
      "[Parallel(n_jobs=12)]: Using backend ThreadingBackend with 12 concurrent workers.\n"
     ]
    },
    {
     "name": "stdout",
     "output_type": "stream",
     "text": [
      "Class prediction was successful without slicing!\n",
      "No slicing was necessary!\n",
      "Image saved to: local_model_outputs_classifier_prob_habitat_suitability_CCAP_NORTH_east_coast_USA_13_4000_1000_all_predictors_depth_None/output_2023-08-04-08_45_28_700.tif\n",
      "\n",
      "\n",
      "\n",
      "\n",
      "Starting image: /Users/margauxmforstyhe/Desktop/workspace/wetlands_labs/CCAP boundaries/north_east_coast/tiles_north_east_coast_ccap_mapping_bndry_gridded_50km_50km_classes_13_CCAP_scale30/inference_tiles_scale30_263.tif\n",
      "Image opened\n"
     ]
    },
    {
     "name": "stderr",
     "output_type": "stream",
     "text": [
      "[Parallel(n_jobs=12)]: Done  26 tasks      | elapsed:    0.2s\n",
      "[Parallel(n_jobs=12)]: Done 100 out of 100 | elapsed:    0.4s finished\n"
     ]
    },
    {
     "name": "stdout",
     "output_type": "stream",
     "text": [
      "Class prediction was successful without slicing!\n",
      "No slicing was necessary!\n",
      "Image saved to: local_model_outputs_classifier_prob_habitat_suitability_CCAP_NORTH_east_coast_USA_13_4000_1000_all_predictors_depth_None/output_2023-08-04-08_45_28_701.tif\n",
      "\n",
      "\n",
      "\n",
      "\n",
      "Starting image: /Users/margauxmforstyhe/Desktop/workspace/wetlands_labs/CCAP boundaries/north_east_coast/tiles_north_east_coast_ccap_mapping_bndry_gridded_50km_50km_classes_13_CCAP_scale30/inference_tiles_scale30_505.tif\n",
      "Image opened\n"
     ]
    },
    {
     "name": "stderr",
     "output_type": "stream",
     "text": [
      "[Parallel(n_jobs=12)]: Using backend ThreadingBackend with 12 concurrent workers.\n",
      "[Parallel(n_jobs=12)]: Done  26 tasks      | elapsed:    1.1s\n",
      "[Parallel(n_jobs=12)]: Done 100 out of 100 | elapsed:    3.3s finished\n"
     ]
    },
    {
     "name": "stdout",
     "output_type": "stream",
     "text": [
      "Class prediction was successful without slicing!\n",
      "No slicing was necessary!\n",
      "Image saved to: local_model_outputs_classifier_prob_habitat_suitability_CCAP_NORTH_east_coast_USA_13_4000_1000_all_predictors_depth_None/output_2023-08-04-08_45_32_702.tif\n",
      "\n",
      "\n",
      "\n",
      "\n",
      "Starting image: /Users/margauxmforstyhe/Desktop/workspace/wetlands_labs/CCAP boundaries/north_east_coast/tiles_north_east_coast_ccap_mapping_bndry_gridded_50km_50km_classes_13_CCAP_scale30/inference_tiles_scale30_920.tif\n",
      "Image opened\n"
     ]
    },
    {
     "name": "stderr",
     "output_type": "stream",
     "text": [
      "[Parallel(n_jobs=12)]: Using backend ThreadingBackend with 12 concurrent workers.\n",
      "[Parallel(n_jobs=12)]: Done  26 tasks      | elapsed:    1.6s\n",
      "[Parallel(n_jobs=12)]: Done 100 out of 100 | elapsed:    4.5s finished\n"
     ]
    },
    {
     "name": "stdout",
     "output_type": "stream",
     "text": [
      "Class prediction was successful without slicing!\n",
      "No slicing was necessary!\n",
      "Image saved to: local_model_outputs_classifier_prob_habitat_suitability_CCAP_NORTH_east_coast_USA_13_4000_1000_all_predictors_depth_None/output_2023-08-04-08_45_37_703.tif\n",
      "\n",
      "\n",
      "\n",
      "\n",
      "Starting image: /Users/margauxmforstyhe/Desktop/workspace/wetlands_labs/CCAP boundaries/north_east_coast/tiles_north_east_coast_ccap_mapping_bndry_gridded_50km_50km_classes_13_CCAP_scale30/inference_tiles_scale30_908.tif\n",
      "Image opened\n"
     ]
    },
    {
     "name": "stderr",
     "output_type": "stream",
     "text": [
      "[Parallel(n_jobs=12)]: Using backend ThreadingBackend with 12 concurrent workers.\n",
      "[Parallel(n_jobs=12)]: Done  26 tasks      | elapsed:    0.4s\n",
      "[Parallel(n_jobs=12)]: Done 100 out of 100 | elapsed:    1.4s finished\n"
     ]
    },
    {
     "name": "stdout",
     "output_type": "stream",
     "text": [
      "Class prediction was successful without slicing!\n",
      "No slicing was necessary!\n",
      "Image saved to: local_model_outputs_classifier_prob_habitat_suitability_CCAP_NORTH_east_coast_USA_13_4000_1000_all_predictors_depth_None/output_2023-08-04-08_45_39_704.tif\n",
      "\n",
      "\n",
      "\n",
      "\n",
      "Starting image: /Users/margauxmforstyhe/Desktop/workspace/wetlands_labs/CCAP boundaries/north_east_coast/tiles_north_east_coast_ccap_mapping_bndry_gridded_50km_50km_classes_13_CCAP_scale30/inference_tiles_scale30_713.tif\n",
      "Image opened\n"
     ]
    },
    {
     "name": "stderr",
     "output_type": "stream",
     "text": [
      "[Parallel(n_jobs=12)]: Using backend ThreadingBackend with 12 concurrent workers.\n",
      "[Parallel(n_jobs=12)]: Done  26 tasks      | elapsed:    1.4s\n",
      "[Parallel(n_jobs=12)]: Done 100 out of 100 | elapsed:    3.5s finished\n"
     ]
    },
    {
     "name": "stdout",
     "output_type": "stream",
     "text": [
      "Class prediction was successful without slicing!\n",
      "No slicing was necessary!\n",
      "Image saved to: local_model_outputs_classifier_prob_habitat_suitability_CCAP_NORTH_east_coast_USA_13_4000_1000_all_predictors_depth_None/output_2023-08-04-08_45_43_705.tif\n",
      "\n",
      "\n",
      "\n",
      "\n",
      "Starting image: /Users/margauxmforstyhe/Desktop/workspace/wetlands_labs/CCAP boundaries/north_east_coast/tiles_north_east_coast_ccap_mapping_bndry_gridded_50km_50km_classes_13_CCAP_scale30/inference_tiles_scale30_707.tif\n",
      "Image opened\n"
     ]
    },
    {
     "name": "stderr",
     "output_type": "stream",
     "text": [
      "[Parallel(n_jobs=12)]: Using backend ThreadingBackend with 12 concurrent workers.\n",
      "[Parallel(n_jobs=12)]: Done  26 tasks      | elapsed:    0.4s\n",
      "[Parallel(n_jobs=12)]: Done 100 out of 100 | elapsed:    1.2s finished\n"
     ]
    },
    {
     "name": "stdout",
     "output_type": "stream",
     "text": [
      "Class prediction was successful without slicing!\n",
      "No slicing was necessary!\n",
      "Image saved to: local_model_outputs_classifier_prob_habitat_suitability_CCAP_NORTH_east_coast_USA_13_4000_1000_all_predictors_depth_None/output_2023-08-04-08_45_45_706.tif\n",
      "\n",
      "\n",
      "\n",
      "\n",
      "Starting image: /Users/margauxmforstyhe/Desktop/workspace/wetlands_labs/CCAP boundaries/north_east_coast/tiles_north_east_coast_ccap_mapping_bndry_gridded_50km_50km_classes_13_CCAP_scale30/inference_tiles_scale30_698.tif\n",
      "Image opened\n"
     ]
    },
    {
     "name": "stderr",
     "output_type": "stream",
     "text": [
      "[Parallel(n_jobs=12)]: Using backend ThreadingBackend with 12 concurrent workers.\n",
      "[Parallel(n_jobs=12)]: Done  26 tasks      | elapsed:    1.4s\n",
      "[Parallel(n_jobs=12)]: Done 100 out of 100 | elapsed:    4.2s finished\n"
     ]
    },
    {
     "name": "stdout",
     "output_type": "stream",
     "text": [
      "Class prediction was successful without slicing!\n",
      "No slicing was necessary!\n",
      "Image saved to: local_model_outputs_classifier_prob_habitat_suitability_CCAP_NORTH_east_coast_USA_13_4000_1000_all_predictors_depth_None/output_2023-08-04-08_45_50_707.tif\n",
      "\n",
      "\n",
      "\n",
      "\n",
      "Starting image: /Users/margauxmforstyhe/Desktop/workspace/wetlands_labs/CCAP boundaries/north_east_coast/tiles_north_east_coast_ccap_mapping_bndry_gridded_50km_50km_classes_13_CCAP_scale30/inference_tiles_scale30_840.tif\n",
      "Image opened\n"
     ]
    },
    {
     "name": "stderr",
     "output_type": "stream",
     "text": [
      "[Parallel(n_jobs=12)]: Using backend ThreadingBackend with 12 concurrent workers.\n",
      "[Parallel(n_jobs=12)]: Done  26 tasks      | elapsed:    1.7s\n",
      "[Parallel(n_jobs=12)]: Done 100 out of 100 | elapsed:    5.0s finished\n"
     ]
    },
    {
     "name": "stdout",
     "output_type": "stream",
     "text": [
      "Class prediction was successful without slicing!\n",
      "No slicing was necessary!\n",
      "Image saved to: local_model_outputs_classifier_prob_habitat_suitability_CCAP_NORTH_east_coast_USA_13_4000_1000_all_predictors_depth_None/output_2023-08-04-08_45_56_708.tif\n",
      "\n",
      "\n",
      "\n",
      "\n",
      "Starting image: /Users/margauxmforstyhe/Desktop/workspace/wetlands_labs/CCAP boundaries/north_east_coast/tiles_north_east_coast_ccap_mapping_bndry_gridded_50km_50km_classes_13_CCAP_scale30/inference_tiles_scale30_854.tif\n",
      "Image opened\n"
     ]
    },
    {
     "name": "stderr",
     "output_type": "stream",
     "text": [
      "[Parallel(n_jobs=12)]: Using backend ThreadingBackend with 12 concurrent workers.\n",
      "[Parallel(n_jobs=12)]: Done  26 tasks      | elapsed:    0.7s\n",
      "[Parallel(n_jobs=12)]: Done 100 out of 100 | elapsed:    2.0s finished\n",
      "[Parallel(n_jobs=12)]: Using backend ThreadingBackend with 12 concurrent workers.\n"
     ]
    },
    {
     "name": "stdout",
     "output_type": "stream",
     "text": [
      "Class prediction was successful without slicing!\n",
      "No slicing was necessary!\n",
      "Image saved to: local_model_outputs_classifier_prob_habitat_suitability_CCAP_NORTH_east_coast_USA_13_4000_1000_all_predictors_depth_None/output_2023-08-04-08_45_58_709.tif\n",
      "\n",
      "\n",
      "\n",
      "\n",
      "Starting image: /Users/margauxmforstyhe/Desktop/workspace/wetlands_labs/CCAP boundaries/north_east_coast/tiles_north_east_coast_ccap_mapping_bndry_gridded_50km_50km_classes_13_CCAP_scale30/inference_tiles_scale30_868.tif\n",
      "Image opened\n"
     ]
    },
    {
     "name": "stderr",
     "output_type": "stream",
     "text": [
      "[Parallel(n_jobs=12)]: Done  26 tasks      | elapsed:    0.2s\n",
      "[Parallel(n_jobs=12)]: Done 100 out of 100 | elapsed:    0.4s finished\n"
     ]
    },
    {
     "name": "stdout",
     "output_type": "stream",
     "text": [
      "Class prediction was successful without slicing!\n",
      "No slicing was necessary!\n",
      "Image saved to: local_model_outputs_classifier_prob_habitat_suitability_CCAP_NORTH_east_coast_USA_13_4000_1000_all_predictors_depth_None/output_2023-08-04-08_45_59_710.tif\n",
      "\n",
      "\n",
      "\n",
      "\n",
      "Starting image: /Users/margauxmforstyhe/Desktop/workspace/wetlands_labs/CCAP boundaries/north_east_coast/tiles_north_east_coast_ccap_mapping_bndry_gridded_50km_50km_classes_13_CCAP_scale30/inference_tiles_scale30_883.tif\n",
      "Image opened\n"
     ]
    },
    {
     "name": "stderr",
     "output_type": "stream",
     "text": [
      "[Parallel(n_jobs=12)]: Using backend ThreadingBackend with 12 concurrent workers.\n",
      "[Parallel(n_jobs=12)]: Done  26 tasks      | elapsed:    1.5s\n",
      "[Parallel(n_jobs=12)]: Done 100 out of 100 | elapsed:    4.4s finished\n"
     ]
    },
    {
     "name": "stdout",
     "output_type": "stream",
     "text": [
      "Class prediction was successful without slicing!\n",
      "No slicing was necessary!\n",
      "Image saved to: local_model_outputs_classifier_prob_habitat_suitability_CCAP_NORTH_east_coast_USA_13_4000_1000_all_predictors_depth_None/output_2023-08-04-08_46_04_711.tif\n",
      "\n",
      "\n",
      "\n",
      "\n",
      "Starting image: /Users/margauxmforstyhe/Desktop/workspace/wetlands_labs/CCAP boundaries/north_east_coast/tiles_north_east_coast_ccap_mapping_bndry_gridded_50km_50km_classes_13_CCAP_scale30/inference_tiles_scale30_897.tif\n",
      "Image opened\n"
     ]
    },
    {
     "name": "stderr",
     "output_type": "stream",
     "text": [
      "[Parallel(n_jobs=12)]: Using backend ThreadingBackend with 12 concurrent workers.\n",
      "[Parallel(n_jobs=12)]: Done  26 tasks      | elapsed:    1.0s\n",
      "[Parallel(n_jobs=12)]: Done 100 out of 100 | elapsed:    2.8s finished\n"
     ]
    },
    {
     "name": "stdout",
     "output_type": "stream",
     "text": [
      "Class prediction was successful without slicing!\n",
      "No slicing was necessary!\n",
      "Image saved to: local_model_outputs_classifier_prob_habitat_suitability_CCAP_NORTH_east_coast_USA_13_4000_1000_all_predictors_depth_None/output_2023-08-04-08_46_08_712.tif\n",
      "\n",
      "\n",
      "\n",
      "\n",
      "Starting image: /Users/margauxmforstyhe/Desktop/workspace/wetlands_labs/CCAP boundaries/north_east_coast/tiles_north_east_coast_ccap_mapping_bndry_gridded_50km_50km_classes_13_CCAP_scale30/inference_tiles_scale30_129.tif\n",
      "Image opened\n"
     ]
    },
    {
     "name": "stderr",
     "output_type": "stream",
     "text": [
      "[Parallel(n_jobs=12)]: Using backend ThreadingBackend with 12 concurrent workers.\n",
      "[Parallel(n_jobs=12)]: Done  26 tasks      | elapsed:    0.6s\n",
      "[Parallel(n_jobs=12)]: Done 100 out of 100 | elapsed:    1.8s finished\n"
     ]
    },
    {
     "name": "stdout",
     "output_type": "stream",
     "text": [
      "Class prediction was successful without slicing!\n",
      "No slicing was necessary!\n",
      "Image saved to: local_model_outputs_classifier_prob_habitat_suitability_CCAP_NORTH_east_coast_USA_13_4000_1000_all_predictors_depth_None/output_2023-08-04-08_46_10_713.tif\n",
      "\n",
      "\n",
      "\n",
      "\n",
      "Starting image: /Users/margauxmforstyhe/Desktop/workspace/wetlands_labs/CCAP boundaries/north_east_coast/tiles_north_east_coast_ccap_mapping_bndry_gridded_50km_50km_classes_13_CCAP_scale30/inference_tiles_scale30_101.tif\n",
      "Image opened\n"
     ]
    },
    {
     "name": "stderr",
     "output_type": "stream",
     "text": [
      "[Parallel(n_jobs=12)]: Using backend ThreadingBackend with 12 concurrent workers.\n",
      "[Parallel(n_jobs=12)]: Done  26 tasks      | elapsed:    1.8s\n",
      "[Parallel(n_jobs=12)]: Done 100 out of 100 | elapsed:    4.7s finished\n"
     ]
    },
    {
     "name": "stdout",
     "output_type": "stream",
     "text": [
      "Class prediction was successful without slicing!\n",
      "No slicing was necessary!\n",
      "Image saved to: local_model_outputs_classifier_prob_habitat_suitability_CCAP_NORTH_east_coast_USA_13_4000_1000_all_predictors_depth_None/output_2023-08-04-08_46_16_714.tif\n",
      "\n",
      "\n",
      "\n",
      "\n",
      "Starting image: /Users/margauxmforstyhe/Desktop/workspace/wetlands_labs/CCAP boundaries/north_east_coast/tiles_north_east_coast_ccap_mapping_bndry_gridded_50km_50km_classes_13_CCAP_scale30/inference_tiles_scale30_667.tif\n",
      "Image opened\n"
     ]
    },
    {
     "name": "stderr",
     "output_type": "stream",
     "text": [
      "[Parallel(n_jobs=12)]: Using backend ThreadingBackend with 12 concurrent workers.\n",
      "[Parallel(n_jobs=12)]: Done  26 tasks      | elapsed:    0.8s\n",
      "[Parallel(n_jobs=12)]: Done 100 out of 100 | elapsed:    2.3s finished\n",
      "[Parallel(n_jobs=12)]: Using backend ThreadingBackend with 12 concurrent workers.\n",
      "[Parallel(n_jobs=12)]: Done  26 tasks      | elapsed:    0.0s\n",
      "[Parallel(n_jobs=12)]: Done 100 out of 100 | elapsed:    0.1s finished\n"
     ]
    },
    {
     "name": "stdout",
     "output_type": "stream",
     "text": [
      "Class prediction was successful without slicing!\n",
      "No slicing was necessary!\n",
      "Image saved to: local_model_outputs_classifier_prob_habitat_suitability_CCAP_NORTH_east_coast_USA_13_4000_1000_all_predictors_depth_None/output_2023-08-04-08_46_19_715.tif\n",
      "\n",
      "\n",
      "\n",
      "\n",
      "Starting image: /Users/margauxmforstyhe/Desktop/workspace/wetlands_labs/CCAP boundaries/north_east_coast/tiles_north_east_coast_ccap_mapping_bndry_gridded_50km_50km_classes_13_CCAP_scale30/inference_tiles_scale30_673.tif\n",
      "Image opened\n",
      "Class prediction was successful without slicing!\n",
      "No slicing was necessary!\n",
      "Image saved to: local_model_outputs_classifier_prob_habitat_suitability_CCAP_NORTH_east_coast_USA_13_4000_1000_all_predictors_depth_None/output_2023-08-04-08_46_19_716.tif\n",
      "\n",
      "\n",
      "\n",
      "\n",
      "Starting image: /Users/margauxmforstyhe/Desktop/workspace/wetlands_labs/CCAP boundaries/north_east_coast/tiles_north_east_coast_ccap_mapping_bndry_gridded_50km_50km_classes_13_CCAP_scale30/inference_tiles_scale30_115.tif\n",
      "Image opened\n"
     ]
    },
    {
     "name": "stderr",
     "output_type": "stream",
     "text": [
      "[Parallel(n_jobs=12)]: Using backend ThreadingBackend with 12 concurrent workers.\n",
      "[Parallel(n_jobs=12)]: Done  26 tasks      | elapsed:    0.0s\n",
      "[Parallel(n_jobs=12)]: Done 100 out of 100 | elapsed:    0.0s finished\n"
     ]
    },
    {
     "name": "stdout",
     "output_type": "stream",
     "text": [
      "Class prediction was successful without slicing!\n",
      "No slicing was necessary!\n",
      "Image saved to: local_model_outputs_classifier_prob_habitat_suitability_CCAP_NORTH_east_coast_USA_13_4000_1000_all_predictors_depth_None/output_2023-08-04-08_46_19_717.tif\n",
      "\n",
      "\n",
      "\n",
      "\n",
      "Starting image: /Users/margauxmforstyhe/Desktop/workspace/wetlands_labs/CCAP boundaries/north_east_coast/tiles_north_east_coast_ccap_mapping_bndry_gridded_50km_50km_classes_13_CCAP_scale30/inference_tiles_scale30_459.tif\n",
      "Image opened\n"
     ]
    },
    {
     "name": "stderr",
     "output_type": "stream",
     "text": [
      "[Parallel(n_jobs=12)]: Using backend ThreadingBackend with 12 concurrent workers.\n",
      "[Parallel(n_jobs=12)]: Done  26 tasks      | elapsed:    1.4s\n",
      "[Parallel(n_jobs=12)]: Done 100 out of 100 | elapsed:    4.2s finished\n"
     ]
    },
    {
     "name": "stdout",
     "output_type": "stream",
     "text": [
      "Class prediction was successful without slicing!\n",
      "No slicing was necessary!\n",
      "Image saved to: local_model_outputs_classifier_prob_habitat_suitability_CCAP_NORTH_east_coast_USA_13_4000_1000_all_predictors_depth_None/output_2023-08-04-08_46_24_718.tif\n",
      "\n",
      "\n",
      "\n",
      "\n",
      "Starting image: /Users/margauxmforstyhe/Desktop/workspace/wetlands_labs/CCAP boundaries/north_east_coast/tiles_north_east_coast_ccap_mapping_bndry_gridded_50km_50km_classes_13_CCAP_scale30/inference_tiles_scale30_28.tif\n",
      "Image opened\n"
     ]
    },
    {
     "name": "stderr",
     "output_type": "stream",
     "text": [
      "[Parallel(n_jobs=12)]: Using backend ThreadingBackend with 12 concurrent workers.\n",
      "[Parallel(n_jobs=12)]: Done  26 tasks      | elapsed:    1.9s\n",
      "[Parallel(n_jobs=12)]: Done 100 out of 100 | elapsed:    5.2s finished\n"
     ]
    },
    {
     "name": "stdout",
     "output_type": "stream",
     "text": [
      "Class prediction was successful without slicing!\n",
      "No slicing was necessary!\n",
      "Image saved to: local_model_outputs_classifier_prob_habitat_suitability_CCAP_NORTH_east_coast_USA_13_4000_1000_all_predictors_depth_None/output_2023-08-04-08_46_30_719.tif\n",
      "\n",
      "\n",
      "\n",
      "\n",
      "Starting image: /Users/margauxmforstyhe/Desktop/workspace/wetlands_labs/CCAP boundaries/north_east_coast/tiles_north_east_coast_ccap_mapping_bndry_gridded_50km_50km_classes_13_CCAP_scale30/inference_tiles_scale30_465.tif\n",
      "Image opened\n"
     ]
    },
    {
     "name": "stderr",
     "output_type": "stream",
     "text": [
      "[Parallel(n_jobs=12)]: Using backend ThreadingBackend with 12 concurrent workers.\n",
      "[Parallel(n_jobs=12)]: Done  26 tasks      | elapsed:    0.8s\n",
      "[Parallel(n_jobs=12)]: Done 100 out of 100 | elapsed:    2.5s finished\n"
     ]
    },
    {
     "name": "stdout",
     "output_type": "stream",
     "text": [
      "Class prediction was successful without slicing!\n",
      "No slicing was necessary!\n",
      "Image saved to: local_model_outputs_classifier_prob_habitat_suitability_CCAP_NORTH_east_coast_USA_13_4000_1000_all_predictors_depth_None/output_2023-08-04-08_46_33_720.tif\n",
      "\n",
      "\n",
      "\n",
      "\n",
      "Starting image: /Users/margauxmforstyhe/Desktop/workspace/wetlands_labs/CCAP boundaries/north_east_coast/tiles_north_east_coast_ccap_mapping_bndry_gridded_50km_50km_classes_13_CCAP_scale30/inference_tiles_scale30_303.tif\n",
      "Image opened\n"
     ]
    },
    {
     "name": "stderr",
     "output_type": "stream",
     "text": [
      "[Parallel(n_jobs=12)]: Using backend ThreadingBackend with 12 concurrent workers.\n",
      "[Parallel(n_jobs=12)]: Done  26 tasks      | elapsed:    0.4s\n",
      "[Parallel(n_jobs=12)]: Done 100 out of 100 | elapsed:    1.2s finished\n"
     ]
    },
    {
     "name": "stdout",
     "output_type": "stream",
     "text": [
      "Class prediction was successful without slicing!\n",
      "No slicing was necessary!\n",
      "Image saved to: local_model_outputs_classifier_prob_habitat_suitability_CCAP_NORTH_east_coast_USA_13_4000_1000_all_predictors_depth_None/output_2023-08-04-08_46_35_721.tif\n",
      "\n",
      "\n",
      "\n",
      "\n",
      "Starting image: /Users/margauxmforstyhe/Desktop/workspace/wetlands_labs/CCAP boundaries/north_east_coast/tiles_north_east_coast_ccap_mapping_bndry_gridded_50km_50km_classes_13_CCAP_scale30/inference_tiles_scale30_14.tif\n",
      "Image opened\n"
     ]
    },
    {
     "name": "stderr",
     "output_type": "stream",
     "text": [
      "[Parallel(n_jobs=12)]: Using backend ThreadingBackend with 12 concurrent workers.\n",
      "[Parallel(n_jobs=12)]: Done  26 tasks      | elapsed:    0.4s\n",
      "[Parallel(n_jobs=12)]: Done 100 out of 100 | elapsed:    1.1s finished\n"
     ]
    },
    {
     "name": "stdout",
     "output_type": "stream",
     "text": [
      "Class prediction was successful without slicing!\n",
      "No slicing was necessary!\n",
      "Image saved to: local_model_outputs_classifier_prob_habitat_suitability_CCAP_NORTH_east_coast_USA_13_4000_1000_all_predictors_depth_None/output_2023-08-04-08_46_36_722.tif\n",
      "\n",
      "\n",
      "\n",
      "\n",
      "Starting image: /Users/margauxmforstyhe/Desktop/workspace/wetlands_labs/CCAP boundaries/north_east_coast/tiles_north_east_coast_ccap_mapping_bndry_gridded_50km_50km_classes_13_CCAP_scale30/inference_tiles_scale30_317.tif\n",
      "Image opened\n"
     ]
    },
    {
     "name": "stderr",
     "output_type": "stream",
     "text": [
      "[Parallel(n_jobs=12)]: Using backend ThreadingBackend with 12 concurrent workers.\n",
      "[Parallel(n_jobs=12)]: Done  26 tasks      | elapsed:    1.4s\n",
      "[Parallel(n_jobs=12)]: Done 100 out of 100 | elapsed:    4.1s finished\n"
     ]
    },
    {
     "name": "stdout",
     "output_type": "stream",
     "text": [
      "Class prediction was successful without slicing!\n",
      "No slicing was necessary!\n",
      "Image saved to: local_model_outputs_classifier_prob_habitat_suitability_CCAP_NORTH_east_coast_USA_13_4000_1000_all_predictors_depth_None/output_2023-08-04-08_46_41_723.tif\n",
      "\n",
      "\n",
      "\n",
      "\n",
      "Starting image: /Users/margauxmforstyhe/Desktop/workspace/wetlands_labs/CCAP boundaries/north_east_coast/tiles_north_east_coast_ccap_mapping_bndry_gridded_50km_50km_classes_13_CCAP_scale30/inference_tiles_scale30_471.tif\n",
      "Image opened\n"
     ]
    },
    {
     "name": "stderr",
     "output_type": "stream",
     "text": [
      "[Parallel(n_jobs=12)]: Using backend ThreadingBackend with 12 concurrent workers.\n",
      "[Parallel(n_jobs=12)]: Done  26 tasks      | elapsed:    1.2s\n",
      "[Parallel(n_jobs=12)]: Done 100 out of 100 | elapsed:    3.7s finished\n"
     ]
    },
    {
     "name": "stdout",
     "output_type": "stream",
     "text": [
      "Class prediction was successful without slicing!\n",
      "No slicing was necessary!\n",
      "Image saved to: local_model_outputs_classifier_prob_habitat_suitability_CCAP_NORTH_east_coast_USA_13_4000_1000_all_predictors_depth_None/output_2023-08-04-08_46_45_724.tif\n",
      "\n",
      "\n",
      "\n",
      "\n",
      "Starting image: /Users/margauxmforstyhe/Desktop/workspace/wetlands_labs/CCAP boundaries/north_east_coast/tiles_north_east_coast_ccap_mapping_bndry_gridded_50km_50km_classes_13_CCAP_scale30/inference_tiles_scale30_358.tif\n",
      "Image opened\n"
     ]
    },
    {
     "name": "stderr",
     "output_type": "stream",
     "text": [
      "[Parallel(n_jobs=12)]: Using backend ThreadingBackend with 12 concurrent workers.\n",
      "[Parallel(n_jobs=12)]: Done  26 tasks      | elapsed:    0.9s\n",
      "[Parallel(n_jobs=12)]: Done 100 out of 100 | elapsed:    2.6s finished\n"
     ]
    },
    {
     "name": "stdout",
     "output_type": "stream",
     "text": [
      "Class prediction was successful without slicing!\n",
      "No slicing was necessary!\n",
      "Image saved to: local_model_outputs_classifier_prob_habitat_suitability_CCAP_NORTH_east_coast_USA_13_4000_1000_all_predictors_depth_None/output_2023-08-04-08_46_49_725.tif\n",
      "\n",
      "\n",
      "\n",
      "\n",
      "Starting image: /Users/margauxmforstyhe/Desktop/workspace/wetlands_labs/CCAP boundaries/north_east_coast/tiles_north_east_coast_ccap_mapping_bndry_gridded_50km_50km_classes_13_CCAP_scale30/inference_tiles_scale30_370.tif\n",
      "Image opened\n"
     ]
    },
    {
     "name": "stderr",
     "output_type": "stream",
     "text": [
      "[Parallel(n_jobs=12)]: Using backend ThreadingBackend with 12 concurrent workers.\n",
      "[Parallel(n_jobs=12)]: Done  26 tasks      | elapsed:    1.4s\n",
      "[Parallel(n_jobs=12)]: Done 100 out of 100 | elapsed:    4.1s finished\n"
     ]
    },
    {
     "name": "stdout",
     "output_type": "stream",
     "text": [
      "Class prediction was successful without slicing!\n",
      "No slicing was necessary!\n",
      "Image saved to: local_model_outputs_classifier_prob_habitat_suitability_CCAP_NORTH_east_coast_USA_13_4000_1000_all_predictors_depth_None/output_2023-08-04-08_46_54_726.tif\n",
      "\n",
      "\n",
      "\n",
      "\n",
      "Starting image: /Users/margauxmforstyhe/Desktop/workspace/wetlands_labs/CCAP boundaries/north_east_coast/tiles_north_east_coast_ccap_mapping_bndry_gridded_50km_50km_classes_13_CCAP_scale30/inference_tiles_scale30_73.tif\n",
      "Image opened\n"
     ]
    },
    {
     "name": "stderr",
     "output_type": "stream",
     "text": [
      "[Parallel(n_jobs=12)]: Using backend ThreadingBackend with 12 concurrent workers.\n",
      "[Parallel(n_jobs=12)]: Done  26 tasks      | elapsed:    1.6s\n",
      "[Parallel(n_jobs=12)]: Done 100 out of 100 | elapsed:    4.7s finished\n"
     ]
    },
    {
     "name": "stdout",
     "output_type": "stream",
     "text": [
      "Class prediction was successful without slicing!\n",
      "No slicing was necessary!\n",
      "Image saved to: local_model_outputs_classifier_prob_habitat_suitability_CCAP_NORTH_east_coast_USA_13_4000_1000_all_predictors_depth_None/output_2023-08-04-08_46_59_727.tif\n",
      "\n",
      "\n",
      "\n",
      "\n",
      "Starting image: /Users/margauxmforstyhe/Desktop/workspace/wetlands_labs/CCAP boundaries/north_east_coast/tiles_north_east_coast_ccap_mapping_bndry_gridded_50km_50km_classes_13_CCAP_scale30/inference_tiles_scale30_416.tif\n",
      "Image opened\n"
     ]
    },
    {
     "name": "stderr",
     "output_type": "stream",
     "text": [
      "[Parallel(n_jobs=12)]: Using backend ThreadingBackend with 12 concurrent workers.\n",
      "[Parallel(n_jobs=12)]: Done  26 tasks      | elapsed:    0.5s\n",
      "[Parallel(n_jobs=12)]: Done 100 out of 100 | elapsed:    1.6s finished\n",
      "[Parallel(n_jobs=12)]: Using backend ThreadingBackend with 12 concurrent workers.\n",
      "[Parallel(n_jobs=12)]: Done  26 tasks      | elapsed:    0.1s\n"
     ]
    },
    {
     "name": "stdout",
     "output_type": "stream",
     "text": [
      "Class prediction was successful without slicing!\n",
      "No slicing was necessary!\n",
      "Image saved to: local_model_outputs_classifier_prob_habitat_suitability_CCAP_NORTH_east_coast_USA_13_4000_1000_all_predictors_depth_None/output_2023-08-04-08_47_01_728.tif\n",
      "\n",
      "\n",
      "\n",
      "\n",
      "Starting image: /Users/margauxmforstyhe/Desktop/workspace/wetlands_labs/CCAP boundaries/north_east_coast/tiles_north_east_coast_ccap_mapping_bndry_gridded_50km_50km_classes_13_CCAP_scale30/inference_tiles_scale30_402.tif\n",
      "Image opened\n"
     ]
    },
    {
     "name": "stderr",
     "output_type": "stream",
     "text": [
      "[Parallel(n_jobs=12)]: Done 100 out of 100 | elapsed:    0.2s finished\n"
     ]
    },
    {
     "name": "stdout",
     "output_type": "stream",
     "text": [
      "Class prediction was successful without slicing!\n",
      "No slicing was necessary!\n",
      "Image saved to: local_model_outputs_classifier_prob_habitat_suitability_CCAP_NORTH_east_coast_USA_13_4000_1000_all_predictors_depth_None/output_2023-08-04-08_47_02_729.tif\n",
      "\n",
      "\n",
      "\n",
      "\n",
      "Starting image: /Users/margauxmforstyhe/Desktop/workspace/wetlands_labs/CCAP boundaries/north_east_coast/tiles_north_east_coast_ccap_mapping_bndry_gridded_50km_50km_classes_13_CCAP_scale30/inference_tiles_scale30_364.tif\n",
      "Image opened\n"
     ]
    },
    {
     "name": "stderr",
     "output_type": "stream",
     "text": [
      "[Parallel(n_jobs=12)]: Using backend ThreadingBackend with 12 concurrent workers.\n",
      "[Parallel(n_jobs=12)]: Done  26 tasks      | elapsed:    1.9s\n",
      "[Parallel(n_jobs=12)]: Done 100 out of 100 | elapsed:    5.5s finished\n"
     ]
    },
    {
     "name": "stdout",
     "output_type": "stream",
     "text": [
      "Class prediction was successful without slicing!\n",
      "No slicing was necessary!\n",
      "Image saved to: local_model_outputs_classifier_prob_habitat_suitability_CCAP_NORTH_east_coast_USA_13_4000_1000_all_predictors_depth_None/output_2023-08-04-08_47_08_730.tif\n",
      "\n",
      "\n",
      "\n",
      "\n",
      "Starting image: /Users/margauxmforstyhe/Desktop/workspace/wetlands_labs/CCAP boundaries/north_east_coast/tiles_north_east_coast_ccap_mapping_bndry_gridded_50km_50km_classes_13_CCAP_scale30/inference_tiles_scale30_67.tif\n",
      "Image opened\n"
     ]
    },
    {
     "name": "stderr",
     "output_type": "stream",
     "text": [
      "[Parallel(n_jobs=12)]: Using backend ThreadingBackend with 12 concurrent workers.\n",
      "[Parallel(n_jobs=12)]: Done  26 tasks      | elapsed:    0.4s\n",
      "[Parallel(n_jobs=12)]: Done 100 out of 100 | elapsed:    1.3s finished\n"
     ]
    },
    {
     "name": "stdout",
     "output_type": "stream",
     "text": [
      "Class prediction was successful without slicing!\n",
      "No slicing was necessary!\n",
      "Image saved to: local_model_outputs_classifier_prob_habitat_suitability_CCAP_NORTH_east_coast_USA_13_4000_1000_all_predictors_depth_None/output_2023-08-04-08_47_10_731.tif\n",
      "\n",
      "\n",
      "\n",
      "\n",
      "Starting image: /Users/margauxmforstyhe/Desktop/workspace/wetlands_labs/CCAP boundaries/north_east_coast/tiles_north_east_coast_ccap_mapping_bndry_gridded_50km_50km_classes_13_CCAP_scale30/inference_tiles_scale30_98.tif\n",
      "Image opened\n"
     ]
    },
    {
     "name": "stderr",
     "output_type": "stream",
     "text": [
      "[Parallel(n_jobs=12)]: Using backend ThreadingBackend with 12 concurrent workers.\n",
      "[Parallel(n_jobs=12)]: Done  26 tasks      | elapsed:    1.4s\n",
      "[Parallel(n_jobs=12)]: Done 100 out of 100 | elapsed:    4.1s finished\n"
     ]
    },
    {
     "name": "stdout",
     "output_type": "stream",
     "text": [
      "Class prediction was successful without slicing!\n",
      "No slicing was necessary!\n",
      "Image saved to: local_model_outputs_classifier_prob_habitat_suitability_CCAP_NORTH_east_coast_USA_13_4000_1000_all_predictors_depth_None/output_2023-08-04-08_47_15_732.tif\n",
      "\n",
      "\n",
      "\n",
      "\n",
      "Starting image: /Users/margauxmforstyhe/Desktop/workspace/wetlands_labs/CCAP boundaries/north_east_coast/tiles_north_east_coast_ccap_mapping_bndry_gridded_50km_50km_classes_13_CCAP_scale30/inference_tiles_scale30_628.tif\n",
      "Image opened\n"
     ]
    },
    {
     "name": "stderr",
     "output_type": "stream",
     "text": [
      "[Parallel(n_jobs=12)]: Using backend ThreadingBackend with 12 concurrent workers.\n",
      "[Parallel(n_jobs=12)]: Done  26 tasks      | elapsed:    1.4s\n",
      "[Parallel(n_jobs=12)]: Done 100 out of 100 | elapsed:    4.4s finished\n"
     ]
    },
    {
     "name": "stdout",
     "output_type": "stream",
     "text": [
      "Class prediction was successful without slicing!\n",
      "No slicing was necessary!\n",
      "Image saved to: local_model_outputs_classifier_prob_habitat_suitability_CCAP_NORTH_east_coast_USA_13_4000_1000_all_predictors_depth_None/output_2023-08-04-08_47_20_733.tif\n",
      "\n",
      "\n",
      "\n",
      "\n",
      "Starting image: /Users/margauxmforstyhe/Desktop/workspace/wetlands_labs/CCAP boundaries/north_east_coast/tiles_north_east_coast_ccap_mapping_bndry_gridded_50km_50km_classes_13_CCAP_scale30/inference_tiles_scale30_614.tif\n",
      "Image opened\n"
     ]
    },
    {
     "name": "stderr",
     "output_type": "stream",
     "text": [
      "[Parallel(n_jobs=12)]: Using backend ThreadingBackend with 12 concurrent workers.\n",
      "[Parallel(n_jobs=12)]: Done  26 tasks      | elapsed:    0.7s\n",
      "[Parallel(n_jobs=12)]: Done 100 out of 100 | elapsed:    1.9s finished\n"
     ]
    },
    {
     "name": "stdout",
     "output_type": "stream",
     "text": [
      "Class prediction was successful without slicing!\n",
      "No slicing was necessary!\n",
      "Image saved to: local_model_outputs_classifier_prob_habitat_suitability_CCAP_NORTH_east_coast_USA_13_4000_1000_all_predictors_depth_None/output_2023-08-04-08_47_22_734.tif\n",
      "\n",
      "\n",
      "\n",
      "\n",
      "Starting image: /Users/margauxmforstyhe/Desktop/workspace/wetlands_labs/CCAP boundaries/north_east_coast/tiles_north_east_coast_ccap_mapping_bndry_gridded_50km_50km_classes_13_CCAP_scale30/inference_tiles_scale30_172.tif\n",
      "Image opened\n"
     ]
    },
    {
     "name": "stderr",
     "output_type": "stream",
     "text": [
      "[Parallel(n_jobs=12)]: Using backend ThreadingBackend with 12 concurrent workers.\n",
      "[Parallel(n_jobs=12)]: Done  26 tasks      | elapsed:    1.5s\n",
      "[Parallel(n_jobs=12)]: Done 100 out of 100 | elapsed:    4.5s finished\n"
     ]
    },
    {
     "name": "stdout",
     "output_type": "stream",
     "text": [
      "Class prediction was successful without slicing!\n",
      "No slicing was necessary!\n",
      "Image saved to: local_model_outputs_classifier_prob_habitat_suitability_CCAP_NORTH_east_coast_USA_13_4000_1000_all_predictors_depth_None/output_2023-08-04-08_47_27_735.tif\n",
      "\n",
      "\n",
      "\n",
      "\n",
      "Starting image: /Users/margauxmforstyhe/Desktop/workspace/wetlands_labs/CCAP boundaries/north_east_coast/tiles_north_east_coast_ccap_mapping_bndry_gridded_50km_50km_classes_13_CCAP_scale30/inference_tiles_scale30_166.tif\n",
      "Image opened\n"
     ]
    },
    {
     "name": "stderr",
     "output_type": "stream",
     "text": [
      "[Parallel(n_jobs=12)]: Using backend ThreadingBackend with 12 concurrent workers.\n",
      "[Parallel(n_jobs=12)]: Done  26 tasks      | elapsed:    1.3s\n",
      "[Parallel(n_jobs=12)]: Done 100 out of 100 | elapsed:    3.7s finished\n"
     ]
    },
    {
     "name": "stdout",
     "output_type": "stream",
     "text": [
      "Class prediction was successful without slicing!\n",
      "No slicing was necessary!\n",
      "Image saved to: local_model_outputs_classifier_prob_habitat_suitability_CCAP_NORTH_east_coast_USA_13_4000_1000_all_predictors_depth_None/output_2023-08-04-08_47_32_736.tif\n",
      "\n",
      "\n",
      "\n",
      "\n",
      "Starting image: /Users/margauxmforstyhe/Desktop/workspace/wetlands_labs/CCAP boundaries/north_east_coast/tiles_north_east_coast_ccap_mapping_bndry_gridded_50km_50km_classes_13_CCAP_scale30/inference_tiles_scale30_600.tif\n",
      "Image opened\n"
     ]
    },
    {
     "name": "stderr",
     "output_type": "stream",
     "text": [
      "[Parallel(n_jobs=12)]: Using backend ThreadingBackend with 12 concurrent workers.\n",
      "[Parallel(n_jobs=12)]: Done  26 tasks      | elapsed:    1.1s\n",
      "[Parallel(n_jobs=12)]: Done 100 out of 100 | elapsed:    3.3s finished\n"
     ]
    },
    {
     "name": "stdout",
     "output_type": "stream",
     "text": [
      "Class prediction was successful without slicing!\n",
      "No slicing was necessary!\n",
      "Image saved to: local_model_outputs_classifier_prob_habitat_suitability_CCAP_NORTH_east_coast_USA_13_4000_1000_all_predictors_depth_None/output_2023-08-04-08_47_36_737.tif\n",
      "\n",
      "\n",
      "\n",
      "\n",
      "Starting image: /Users/margauxmforstyhe/Desktop/workspace/wetlands_labs/CCAP boundaries/north_east_coast/tiles_north_east_coast_ccap_mapping_bndry_gridded_50km_50km_classes_13_CCAP_scale30/inference_tiles_scale30_833.tif\n",
      "Image opened\n"
     ]
    },
    {
     "name": "stderr",
     "output_type": "stream",
     "text": [
      "[Parallel(n_jobs=12)]: Using backend ThreadingBackend with 12 concurrent workers.\n",
      "[Parallel(n_jobs=12)]: Done  26 tasks      | elapsed:    1.9s\n",
      "[Parallel(n_jobs=12)]: Done 100 out of 100 | elapsed:    5.1s finished\n"
     ]
    },
    {
     "name": "stdout",
     "output_type": "stream",
     "text": [
      "Class prediction was successful without slicing!\n",
      "No slicing was necessary!\n",
      "Image saved to: local_model_outputs_classifier_prob_habitat_suitability_CCAP_NORTH_east_coast_USA_13_4000_1000_all_predictors_depth_None/output_2023-08-04-08_47_42_738.tif\n",
      "\n",
      "\n",
      "\n",
      "\n",
      "Starting image: /Users/margauxmforstyhe/Desktop/workspace/wetlands_labs/CCAP boundaries/north_east_coast/tiles_north_east_coast_ccap_mapping_bndry_gridded_50km_50km_classes_13_CCAP_scale30/inference_tiles_scale30_199.tif\n",
      "Image opened\n"
     ]
    },
    {
     "name": "stderr",
     "output_type": "stream",
     "text": [
      "[Parallel(n_jobs=12)]: Using backend ThreadingBackend with 12 concurrent workers.\n",
      "[Parallel(n_jobs=12)]: Done  26 tasks      | elapsed:    3.5s\n",
      "[Parallel(n_jobs=12)]: Done 100 out of 100 | elapsed:    7.6s finished\n"
     ]
    },
    {
     "name": "stdout",
     "output_type": "stream",
     "text": [
      "Class prediction was successful without slicing!\n",
      "No slicing was necessary!\n",
      "Image saved to: local_model_outputs_classifier_prob_habitat_suitability_CCAP_NORTH_east_coast_USA_13_4000_1000_all_predictors_depth_None/output_2023-08-04-08_47_50_739.tif\n",
      "\n",
      "\n",
      "\n",
      "\n",
      "Starting image: /Users/margauxmforstyhe/Desktop/workspace/wetlands_labs/CCAP boundaries/north_east_coast/tiles_north_east_coast_ccap_mapping_bndry_gridded_50km_50km_classes_13_CCAP_scale30/inference_tiles_scale30_827.tif\n",
      "Image opened\n"
     ]
    },
    {
     "name": "stderr",
     "output_type": "stream",
     "text": [
      "[Parallel(n_jobs=12)]: Using backend ThreadingBackend with 12 concurrent workers.\n",
      "[Parallel(n_jobs=12)]: Done  26 tasks      | elapsed:    1.8s\n",
      "[Parallel(n_jobs=12)]: Done 100 out of 100 | elapsed:    5.3s finished\n",
      "[Parallel(n_jobs=12)]: Using backend ThreadingBackend with 12 concurrent workers.\n"
     ]
    },
    {
     "name": "stdout",
     "output_type": "stream",
     "text": [
      "Class prediction was successful without slicing!\n",
      "No slicing was necessary!\n",
      "Image saved to: local_model_outputs_classifier_prob_habitat_suitability_CCAP_NORTH_east_coast_USA_13_4000_1000_all_predictors_depth_None/output_2023-08-04-08_47_57_740.tif\n",
      "\n",
      "\n",
      "\n",
      "\n",
      "Starting image: /Users/margauxmforstyhe/Desktop/workspace/wetlands_labs/CCAP boundaries/north_east_coast/tiles_north_east_coast_ccap_mapping_bndry_gridded_50km_50km_classes_13_CCAP_scale30/inference_tiles_scale30_748.tif\n",
      "Image opened\n"
     ]
    },
    {
     "name": "stderr",
     "output_type": "stream",
     "text": [
      "[Parallel(n_jobs=12)]: Done  26 tasks      | elapsed:    0.2s\n",
      "[Parallel(n_jobs=12)]: Done 100 out of 100 | elapsed:    0.4s finished\n"
     ]
    },
    {
     "name": "stdout",
     "output_type": "stream",
     "text": [
      "Class prediction was successful without slicing!\n",
      "No slicing was necessary!\n",
      "Image saved to: local_model_outputs_classifier_prob_habitat_suitability_CCAP_NORTH_east_coast_USA_13_4000_1000_all_predictors_depth_None/output_2023-08-04-08_47_57_741.tif\n",
      "\n",
      "\n",
      "\n",
      "\n",
      "Starting image: /Users/margauxmforstyhe/Desktop/workspace/wetlands_labs/CCAP boundaries/north_east_coast/tiles_north_east_coast_ccap_mapping_bndry_gridded_50km_50km_classes_13_CCAP_scale30/inference_tiles_scale30_760.tif\n",
      "Image opened\n"
     ]
    },
    {
     "name": "stderr",
     "output_type": "stream",
     "text": [
      "[Parallel(n_jobs=12)]: Using backend ThreadingBackend with 12 concurrent workers.\n",
      "[Parallel(n_jobs=12)]: Done  26 tasks      | elapsed:    1.4s\n",
      "[Parallel(n_jobs=12)]: Done 100 out of 100 | elapsed:    4.0s finished\n",
      "[Parallel(n_jobs=12)]: Using backend ThreadingBackend with 12 concurrent workers.\n",
      "[Parallel(n_jobs=12)]: Done  26 tasks      | elapsed:    0.0s\n"
     ]
    },
    {
     "name": "stdout",
     "output_type": "stream",
     "text": [
      "Class prediction was successful without slicing!\n",
      "No slicing was necessary!\n",
      "Image saved to: local_model_outputs_classifier_prob_habitat_suitability_CCAP_NORTH_east_coast_USA_13_4000_1000_all_predictors_depth_None/output_2023-08-04-08_48_02_742.tif\n",
      "\n",
      "\n",
      "\n",
      "\n",
      "Starting image: /Users/margauxmforstyhe/Desktop/workspace/wetlands_labs/CCAP boundaries/north_east_coast/tiles_north_east_coast_ccap_mapping_bndry_gridded_50km_50km_classes_13_CCAP_scale30/inference_tiles_scale30_774.tif\n",
      "Image opened\n"
     ]
    },
    {
     "name": "stderr",
     "output_type": "stream",
     "text": [
      "[Parallel(n_jobs=12)]: Done 100 out of 100 | elapsed:    0.1s finished\n",
      "[Parallel(n_jobs=12)]: Using backend ThreadingBackend with 12 concurrent workers.\n"
     ]
    },
    {
     "name": "stdout",
     "output_type": "stream",
     "text": [
      "Class prediction was successful without slicing!\n",
      "No slicing was necessary!\n",
      "Image saved to: local_model_outputs_classifier_prob_habitat_suitability_CCAP_NORTH_east_coast_USA_13_4000_1000_all_predictors_depth_None/output_2023-08-04-08_48_02_743.tif\n",
      "\n",
      "\n",
      "\n",
      "\n",
      "Starting image: /Users/margauxmforstyhe/Desktop/workspace/wetlands_labs/CCAP boundaries/north_east_coast/tiles_north_east_coast_ccap_mapping_bndry_gridded_50km_50km_classes_13_CCAP_scale30/inference_tiles_scale30_238.tif\n",
      "Image opened\n"
     ]
    },
    {
     "name": "stderr",
     "output_type": "stream",
     "text": [
      "[Parallel(n_jobs=12)]: Done  26 tasks      | elapsed:    0.2s\n",
      "[Parallel(n_jobs=12)]: Done 100 out of 100 | elapsed:    0.6s finished\n"
     ]
    },
    {
     "name": "stdout",
     "output_type": "stream",
     "text": [
      "Class prediction was successful without slicing!\n",
      "No slicing was necessary!\n",
      "Image saved to: local_model_outputs_classifier_prob_habitat_suitability_CCAP_NORTH_east_coast_USA_13_4000_1000_all_predictors_depth_None/output_2023-08-04-08_48_03_744.tif\n",
      "\n",
      "\n",
      "\n",
      "\n",
      "Starting image: /Users/margauxmforstyhe/Desktop/workspace/wetlands_labs/CCAP boundaries/north_east_coast/tiles_north_east_coast_ccap_mapping_bndry_gridded_50km_50km_classes_13_CCAP_scale30/inference_tiles_scale30_1.tif\n",
      "Image opened\n"
     ]
    },
    {
     "name": "stderr",
     "output_type": "stream",
     "text": [
      "[Parallel(n_jobs=12)]: Using backend ThreadingBackend with 12 concurrent workers.\n",
      "[Parallel(n_jobs=12)]: Done  26 tasks      | elapsed:    0.5s\n",
      "[Parallel(n_jobs=12)]: Done 100 out of 100 | elapsed:    1.4s finished\n"
     ]
    },
    {
     "name": "stdout",
     "output_type": "stream",
     "text": [
      "Class prediction was successful without slicing!\n",
      "No slicing was necessary!\n",
      "Image saved to: local_model_outputs_classifier_prob_habitat_suitability_CCAP_NORTH_east_coast_USA_13_4000_1000_all_predictors_depth_None/output_2023-08-04-08_48_04_745.tif\n",
      "\n",
      "\n",
      "\n",
      "\n",
      "Starting image: /Users/margauxmforstyhe/Desktop/workspace/wetlands_labs/CCAP boundaries/north_east_coast/tiles_north_east_coast_ccap_mapping_bndry_gridded_50km_50km_classes_13_CCAP_scale30/inference_tiles_scale30_204.tif\n",
      "Image opened\n"
     ]
    },
    {
     "name": "stderr",
     "output_type": "stream",
     "text": [
      "[Parallel(n_jobs=12)]: Using backend ThreadingBackend with 12 concurrent workers.\n",
      "[Parallel(n_jobs=12)]: Done  26 tasks      | elapsed:    2.2s\n",
      "[Parallel(n_jobs=12)]: Done 100 out of 100 | elapsed:    5.7s finished\n"
     ]
    },
    {
     "name": "stdout",
     "output_type": "stream",
     "text": [
      "Class prediction was successful without slicing!\n",
      "No slicing was necessary!\n",
      "Image saved to: local_model_outputs_classifier_prob_habitat_suitability_CCAP_NORTH_east_coast_USA_13_4000_1000_all_predictors_depth_None/output_2023-08-04-08_48_11_746.tif\n",
      "\n",
      "\n",
      "\n",
      "\n",
      "Starting image: /Users/margauxmforstyhe/Desktop/workspace/wetlands_labs/CCAP boundaries/north_east_coast/tiles_north_east_coast_ccap_mapping_bndry_gridded_50km_50km_classes_13_CCAP_scale30/inference_tiles_scale30_562.tif\n",
      "Image opened\n"
     ]
    },
    {
     "name": "stderr",
     "output_type": "stream",
     "text": [
      "[Parallel(n_jobs=12)]: Using backend ThreadingBackend with 12 concurrent workers.\n",
      "[Parallel(n_jobs=12)]: Done  26 tasks      | elapsed:    1.4s\n",
      "[Parallel(n_jobs=12)]: Done 100 out of 100 | elapsed:    3.7s finished\n"
     ]
    },
    {
     "name": "stdout",
     "output_type": "stream",
     "text": [
      "Class prediction was successful without slicing!\n",
      "No slicing was necessary!\n",
      "Image saved to: local_model_outputs_classifier_prob_habitat_suitability_CCAP_NORTH_east_coast_USA_13_4000_1000_all_predictors_depth_None/output_2023-08-04-08_48_15_747.tif\n",
      "\n",
      "\n",
      "\n",
      "\n",
      "Starting image: /Users/margauxmforstyhe/Desktop/workspace/wetlands_labs/CCAP boundaries/north_east_coast/tiles_north_east_coast_ccap_mapping_bndry_gridded_50km_50km_classes_13_CCAP_scale30/inference_tiles_scale30_576.tif\n",
      "Image opened\n"
     ]
    },
    {
     "name": "stderr",
     "output_type": "stream",
     "text": [
      "[Parallel(n_jobs=12)]: Using backend ThreadingBackend with 12 concurrent workers.\n",
      "[Parallel(n_jobs=12)]: Done  26 tasks      | elapsed:    1.8s\n",
      "[Parallel(n_jobs=12)]: Done 100 out of 100 | elapsed:    5.4s finished\n"
     ]
    },
    {
     "name": "stdout",
     "output_type": "stream",
     "text": [
      "Class prediction was successful without slicing!\n",
      "No slicing was necessary!\n",
      "Image saved to: local_model_outputs_classifier_prob_habitat_suitability_CCAP_NORTH_east_coast_USA_13_4000_1000_all_predictors_depth_None/output_2023-08-04-08_48_22_748.tif\n",
      "\n",
      "\n",
      "\n",
      "\n",
      "Starting image: /Users/margauxmforstyhe/Desktop/workspace/wetlands_labs/CCAP boundaries/north_east_coast/tiles_north_east_coast_ccap_mapping_bndry_gridded_50km_50km_classes_13_CCAP_scale30/inference_tiles_scale30_210.tif\n",
      "Image opened\n"
     ]
    },
    {
     "name": "stderr",
     "output_type": "stream",
     "text": [
      "[Parallel(n_jobs=12)]: Using backend ThreadingBackend with 12 concurrent workers.\n",
      "[Parallel(n_jobs=12)]: Done  26 tasks      | elapsed:    2.0s\n",
      "[Parallel(n_jobs=12)]: Done 100 out of 100 | elapsed:    5.5s finished\n"
     ]
    },
    {
     "name": "stdout",
     "output_type": "stream",
     "text": [
      "Class prediction was successful without slicing!\n",
      "No slicing was necessary!\n",
      "Image saved to: local_model_outputs_classifier_prob_habitat_suitability_CCAP_NORTH_east_coast_USA_13_4000_1000_all_predictors_depth_None/output_2023-08-04-08_48_28_749.tif\n",
      "\n",
      "\n",
      "\n",
      "\n",
      "Starting image: /Users/margauxmforstyhe/Desktop/workspace/wetlands_labs/CCAP boundaries/north_east_coast/tiles_north_east_coast_ccap_mapping_bndry_gridded_50km_50km_classes_13_CCAP_scale30/inference_tiles_scale30_589.tif\n",
      "Image opened\n"
     ]
    },
    {
     "name": "stderr",
     "output_type": "stream",
     "text": [
      "[Parallel(n_jobs=12)]: Using backend ThreadingBackend with 12 concurrent workers.\n",
      "[Parallel(n_jobs=12)]: Done  26 tasks      | elapsed:    0.7s\n",
      "[Parallel(n_jobs=12)]: Done 100 out of 100 | elapsed:    2.0s finished\n"
     ]
    },
    {
     "name": "stdout",
     "output_type": "stream",
     "text": [
      "Class prediction was successful without slicing!\n",
      "No slicing was necessary!\n",
      "Image saved to: local_model_outputs_classifier_prob_habitat_suitability_CCAP_NORTH_east_coast_USA_13_4000_1000_all_predictors_depth_None/output_2023-08-04-08_48_31_750.tif\n",
      "\n",
      "\n",
      "\n",
      "\n",
      "Starting image: /Users/margauxmforstyhe/Desktop/workspace/wetlands_labs/CCAP boundaries/north_east_coast/tiles_north_east_coast_ccap_mapping_bndry_gridded_50km_50km_classes_13_CCAP_scale30/inference_tiles_scale30_588.tif\n",
      "Image opened\n"
     ]
    },
    {
     "name": "stderr",
     "output_type": "stream",
     "text": [
      "[Parallel(n_jobs=12)]: Using backend ThreadingBackend with 12 concurrent workers.\n",
      "[Parallel(n_jobs=12)]: Done  26 tasks      | elapsed:    0.3s\n",
      "[Parallel(n_jobs=12)]: Done 100 out of 100 | elapsed:    0.7s finished\n"
     ]
    },
    {
     "name": "stdout",
     "output_type": "stream",
     "text": [
      "Class prediction was successful without slicing!\n",
      "No slicing was necessary!\n",
      "Image saved to: local_model_outputs_classifier_prob_habitat_suitability_CCAP_NORTH_east_coast_USA_13_4000_1000_all_predictors_depth_None/output_2023-08-04-08_48_32_751.tif\n",
      "\n",
      "\n",
      "\n",
      "\n",
      "Starting image: /Users/margauxmforstyhe/Desktop/workspace/wetlands_labs/CCAP boundaries/north_east_coast/tiles_north_east_coast_ccap_mapping_bndry_gridded_50km_50km_classes_13_CCAP_scale30/inference_tiles_scale30_577.tif\n",
      "Image opened\n"
     ]
    },
    {
     "name": "stderr",
     "output_type": "stream",
     "text": [
      "[Parallel(n_jobs=12)]: Using backend ThreadingBackend with 12 concurrent workers.\n",
      "[Parallel(n_jobs=12)]: Done  26 tasks      | elapsed:    1.4s\n",
      "[Parallel(n_jobs=12)]: Done 100 out of 100 | elapsed:    3.8s finished\n"
     ]
    },
    {
     "name": "stdout",
     "output_type": "stream",
     "text": [
      "Class prediction was successful without slicing!\n",
      "No slicing was necessary!\n",
      "Image saved to: local_model_outputs_classifier_prob_habitat_suitability_CCAP_NORTH_east_coast_USA_13_4000_1000_all_predictors_depth_None/output_2023-08-04-08_48_37_752.tif\n",
      "\n",
      "\n",
      "\n",
      "\n",
      "Starting image: /Users/margauxmforstyhe/Desktop/workspace/wetlands_labs/CCAP boundaries/north_east_coast/tiles_north_east_coast_ccap_mapping_bndry_gridded_50km_50km_classes_13_CCAP_scale30/inference_tiles_scale30_211.tif\n",
      "Image opened\n"
     ]
    },
    {
     "name": "stderr",
     "output_type": "stream",
     "text": [
      "[Parallel(n_jobs=12)]: Using backend ThreadingBackend with 12 concurrent workers.\n",
      "[Parallel(n_jobs=12)]: Done  26 tasks      | elapsed:    1.3s\n",
      "[Parallel(n_jobs=12)]: Done 100 out of 100 | elapsed:    3.6s finished\n"
     ]
    },
    {
     "name": "stdout",
     "output_type": "stream",
     "text": [
      "Class prediction was successful without slicing!\n",
      "No slicing was necessary!\n",
      "Image saved to: local_model_outputs_classifier_prob_habitat_suitability_CCAP_NORTH_east_coast_USA_13_4000_1000_all_predictors_depth_None/output_2023-08-04-08_48_41_753.tif\n",
      "\n",
      "\n",
      "\n",
      "\n",
      "Starting image: /Users/margauxmforstyhe/Desktop/workspace/wetlands_labs/CCAP boundaries/north_east_coast/tiles_north_east_coast_ccap_mapping_bndry_gridded_50km_50km_classes_13_CCAP_scale30/inference_tiles_scale30_205.tif\n",
      "Image opened\n"
     ]
    },
    {
     "name": "stderr",
     "output_type": "stream",
     "text": [
      "[Parallel(n_jobs=12)]: Using backend ThreadingBackend with 12 concurrent workers.\n",
      "[Parallel(n_jobs=12)]: Done  26 tasks      | elapsed:    0.2s\n",
      "[Parallel(n_jobs=12)]: Done 100 out of 100 | elapsed:    0.5s finished\n"
     ]
    },
    {
     "name": "stdout",
     "output_type": "stream",
     "text": [
      "Class prediction was successful without slicing!\n",
      "No slicing was necessary!\n",
      "Image saved to: local_model_outputs_classifier_prob_habitat_suitability_CCAP_NORTH_east_coast_USA_13_4000_1000_all_predictors_depth_None/output_2023-08-04-08_48_42_754.tif\n",
      "\n",
      "\n",
      "\n",
      "\n",
      "Starting image: /Users/margauxmforstyhe/Desktop/workspace/wetlands_labs/CCAP boundaries/north_east_coast/tiles_north_east_coast_ccap_mapping_bndry_gridded_50km_50km_classes_13_CCAP_scale30/inference_tiles_scale30_563.tif\n",
      "Image opened\n"
     ]
    },
    {
     "name": "stderr",
     "output_type": "stream",
     "text": [
      "[Parallel(n_jobs=12)]: Using backend ThreadingBackend with 12 concurrent workers.\n",
      "[Parallel(n_jobs=12)]: Done  26 tasks      | elapsed:    1.8s\n",
      "[Parallel(n_jobs=12)]: Done 100 out of 100 | elapsed:    4.8s finished\n"
     ]
    },
    {
     "name": "stdout",
     "output_type": "stream",
     "text": [
      "Class prediction was successful without slicing!\n",
      "No slicing was necessary!\n",
      "Image saved to: local_model_outputs_classifier_prob_habitat_suitability_CCAP_NORTH_east_coast_USA_13_4000_1000_all_predictors_depth_None/output_2023-08-04-08_48_47_755.tif\n",
      "\n",
      "\n",
      "\n",
      "\n",
      "Starting image: /Users/margauxmforstyhe/Desktop/workspace/wetlands_labs/CCAP boundaries/north_east_coast/tiles_north_east_coast_ccap_mapping_bndry_gridded_50km_50km_classes_13_CCAP_scale30/inference_tiles_scale30_0.tif\n",
      "Image opened\n"
     ]
    },
    {
     "name": "stderr",
     "output_type": "stream",
     "text": [
      "[Parallel(n_jobs=12)]: Using backend ThreadingBackend with 12 concurrent workers.\n",
      "[Parallel(n_jobs=12)]: Done  26 tasks      | elapsed:    0.2s\n",
      "[Parallel(n_jobs=12)]: Done 100 out of 100 | elapsed:    0.6s finished\n",
      "[Parallel(n_jobs=12)]: Using backend ThreadingBackend with 12 concurrent workers.\n",
      "[Parallel(n_jobs=12)]: Done  26 tasks      | elapsed:    0.1s\n"
     ]
    },
    {
     "name": "stdout",
     "output_type": "stream",
     "text": [
      "Class prediction was successful without slicing!\n",
      "No slicing was necessary!\n",
      "Image saved to: local_model_outputs_classifier_prob_habitat_suitability_CCAP_NORTH_east_coast_USA_13_4000_1000_all_predictors_depth_None/output_2023-08-04-08_48_48_756.tif\n",
      "\n",
      "\n",
      "\n",
      "\n",
      "Starting image: /Users/margauxmforstyhe/Desktop/workspace/wetlands_labs/CCAP boundaries/north_east_coast/tiles_north_east_coast_ccap_mapping_bndry_gridded_50km_50km_classes_13_CCAP_scale30/inference_tiles_scale30_239.tif\n",
      "Image opened\n"
     ]
    },
    {
     "name": "stderr",
     "output_type": "stream",
     "text": [
      "[Parallel(n_jobs=12)]: Done 100 out of 100 | elapsed:    0.3s finished\n"
     ]
    },
    {
     "name": "stdout",
     "output_type": "stream",
     "text": [
      "Class prediction was successful without slicing!\n",
      "No slicing was necessary!\n",
      "Image saved to: local_model_outputs_classifier_prob_habitat_suitability_CCAP_NORTH_east_coast_USA_13_4000_1000_all_predictors_depth_None/output_2023-08-04-08_48_49_757.tif\n",
      "\n",
      "\n",
      "\n",
      "\n",
      "Starting image: /Users/margauxmforstyhe/Desktop/workspace/wetlands_labs/CCAP boundaries/north_east_coast/tiles_north_east_coast_ccap_mapping_bndry_gridded_50km_50km_classes_13_CCAP_scale30/inference_tiles_scale30_775.tif\n",
      "Image opened\n"
     ]
    },
    {
     "name": "stderr",
     "output_type": "stream",
     "text": [
      "[Parallel(n_jobs=12)]: Using backend ThreadingBackend with 12 concurrent workers.\n",
      "[Parallel(n_jobs=12)]: Done  26 tasks      | elapsed:    1.5s\n",
      "[Parallel(n_jobs=12)]: Done 100 out of 100 | elapsed:    4.5s finished\n"
     ]
    },
    {
     "name": "stdout",
     "output_type": "stream",
     "text": [
      "Class prediction was successful without slicing!\n",
      "No slicing was necessary!\n",
      "Image saved to: local_model_outputs_classifier_prob_habitat_suitability_CCAP_NORTH_east_coast_USA_13_4000_1000_all_predictors_depth_None/output_2023-08-04-08_48_54_758.tif\n",
      "\n",
      "\n",
      "\n",
      "\n",
      "Starting image: /Users/margauxmforstyhe/Desktop/workspace/wetlands_labs/CCAP boundaries/north_east_coast/tiles_north_east_coast_ccap_mapping_bndry_gridded_50km_50km_classes_13_CCAP_scale30/inference_tiles_scale30_761.tif\n",
      "Image opened\n"
     ]
    },
    {
     "name": "stderr",
     "output_type": "stream",
     "text": [
      "[Parallel(n_jobs=12)]: Using backend ThreadingBackend with 12 concurrent workers.\n",
      "[Parallel(n_jobs=12)]: Done  26 tasks      | elapsed:    0.3s\n",
      "[Parallel(n_jobs=12)]: Done 100 out of 100 | elapsed:    0.8s finished\n"
     ]
    },
    {
     "name": "stdout",
     "output_type": "stream",
     "text": [
      "Class prediction was successful without slicing!\n",
      "No slicing was necessary!\n",
      "Image saved to: local_model_outputs_classifier_prob_habitat_suitability_CCAP_NORTH_east_coast_USA_13_4000_1000_all_predictors_depth_None/output_2023-08-04-08_48_55_759.tif\n",
      "\n",
      "\n",
      "\n",
      "\n",
      "Starting image: /Users/margauxmforstyhe/Desktop/workspace/wetlands_labs/CCAP boundaries/north_east_coast/tiles_north_east_coast_ccap_mapping_bndry_gridded_50km_50km_classes_13_CCAP_scale30/inference_tiles_scale30_749.tif\n",
      "Image opened\n"
     ]
    },
    {
     "name": "stderr",
     "output_type": "stream",
     "text": [
      "[Parallel(n_jobs=12)]: Using backend ThreadingBackend with 12 concurrent workers.\n",
      "[Parallel(n_jobs=12)]: Done  26 tasks      | elapsed:    0.8s\n",
      "[Parallel(n_jobs=12)]: Done 100 out of 100 | elapsed:    2.4s finished\n"
     ]
    },
    {
     "name": "stdout",
     "output_type": "stream",
     "text": [
      "Class prediction was successful without slicing!\n",
      "No slicing was necessary!\n",
      "Image saved to: local_model_outputs_classifier_prob_habitat_suitability_CCAP_NORTH_east_coast_USA_13_4000_1000_all_predictors_depth_None/output_2023-08-04-08_48_58_760.tif\n",
      "\n",
      "\n",
      "\n",
      "\n",
      "Starting image: /Users/margauxmforstyhe/Desktop/workspace/wetlands_labs/CCAP boundaries/north_east_coast/tiles_north_east_coast_ccap_mapping_bndry_gridded_50km_50km_classes_13_CCAP_scale30/inference_tiles_scale30_198.tif\n",
      "Image opened\n"
     ]
    },
    {
     "name": "stderr",
     "output_type": "stream",
     "text": [
      "[Parallel(n_jobs=12)]: Using backend ThreadingBackend with 12 concurrent workers.\n",
      "[Parallel(n_jobs=12)]: Done  26 tasks      | elapsed:    1.1s\n",
      "[Parallel(n_jobs=12)]: Done 100 out of 100 | elapsed:    3.1s finished\n"
     ]
    },
    {
     "name": "stdout",
     "output_type": "stream",
     "text": [
      "Class prediction was successful without slicing!\n",
      "No slicing was necessary!\n",
      "Image saved to: local_model_outputs_classifier_prob_habitat_suitability_CCAP_NORTH_east_coast_USA_13_4000_1000_all_predictors_depth_None/output_2023-08-04-08_49_02_761.tif\n",
      "\n",
      "\n",
      "\n",
      "\n",
      "Starting image: /Users/margauxmforstyhe/Desktop/workspace/wetlands_labs/CCAP boundaries/north_east_coast/tiles_north_east_coast_ccap_mapping_bndry_gridded_50km_50km_classes_13_CCAP_scale30/inference_tiles_scale30_826.tif\n",
      "Image opened\n"
     ]
    },
    {
     "name": "stderr",
     "output_type": "stream",
     "text": [
      "[Parallel(n_jobs=12)]: Using backend ThreadingBackend with 12 concurrent workers.\n",
      "[Parallel(n_jobs=12)]: Done  26 tasks      | elapsed:    1.4s\n",
      "[Parallel(n_jobs=12)]: Done 100 out of 100 | elapsed:    4.0s finished\n"
     ]
    },
    {
     "name": "stdout",
     "output_type": "stream",
     "text": [
      "Class prediction was successful without slicing!\n",
      "No slicing was necessary!\n",
      "Image saved to: local_model_outputs_classifier_prob_habitat_suitability_CCAP_NORTH_east_coast_USA_13_4000_1000_all_predictors_depth_None/output_2023-08-04-08_49_06_762.tif\n",
      "\n",
      "\n",
      "\n",
      "\n",
      "Starting image: /Users/margauxmforstyhe/Desktop/workspace/wetlands_labs/CCAP boundaries/north_east_coast/tiles_north_east_coast_ccap_mapping_bndry_gridded_50km_50km_classes_13_CCAP_scale30/inference_tiles_scale30_832.tif\n",
      "Image opened\n"
     ]
    },
    {
     "name": "stderr",
     "output_type": "stream",
     "text": [
      "[Parallel(n_jobs=12)]: Using backend ThreadingBackend with 12 concurrent workers.\n",
      "[Parallel(n_jobs=12)]: Done  26 tasks      | elapsed:    1.7s\n",
      "[Parallel(n_jobs=12)]: Done 100 out of 100 | elapsed:    4.9s finished\n"
     ]
    },
    {
     "name": "stdout",
     "output_type": "stream",
     "text": [
      "Class prediction was successful without slicing!\n",
      "No slicing was necessary!\n",
      "Image saved to: local_model_outputs_classifier_prob_habitat_suitability_CCAP_NORTH_east_coast_USA_13_4000_1000_all_predictors_depth_None/output_2023-08-04-08_49_12_763.tif\n",
      "\n",
      "\n",
      "\n",
      "\n",
      "Starting image: /Users/margauxmforstyhe/Desktop/workspace/wetlands_labs/CCAP boundaries/north_east_coast/tiles_north_east_coast_ccap_mapping_bndry_gridded_50km_50km_classes_13_CCAP_scale30/inference_tiles_scale30_167.tif\n",
      "Image opened\n"
     ]
    },
    {
     "name": "stderr",
     "output_type": "stream",
     "text": [
      "[Parallel(n_jobs=12)]: Using backend ThreadingBackend with 12 concurrent workers.\n",
      "[Parallel(n_jobs=12)]: Done  26 tasks      | elapsed:    1.4s\n",
      "[Parallel(n_jobs=12)]: Done 100 out of 100 | elapsed:    4.4s finished\n"
     ]
    },
    {
     "name": "stdout",
     "output_type": "stream",
     "text": [
      "Class prediction was successful without slicing!\n",
      "No slicing was necessary!\n",
      "Image saved to: local_model_outputs_classifier_prob_habitat_suitability_CCAP_NORTH_east_coast_USA_13_4000_1000_all_predictors_depth_None/output_2023-08-04-08_49_17_764.tif\n",
      "\n",
      "\n",
      "\n",
      "\n",
      "Starting image: /Users/margauxmforstyhe/Desktop/workspace/wetlands_labs/CCAP boundaries/north_east_coast/tiles_north_east_coast_ccap_mapping_bndry_gridded_50km_50km_classes_13_CCAP_scale30/inference_tiles_scale30_601.tif\n",
      "Image opened\n"
     ]
    },
    {
     "name": "stderr",
     "output_type": "stream",
     "text": [
      "[Parallel(n_jobs=12)]: Using backend ThreadingBackend with 12 concurrent workers.\n",
      "[Parallel(n_jobs=12)]: Done  26 tasks      | elapsed:    1.6s\n",
      "[Parallel(n_jobs=12)]: Done 100 out of 100 | elapsed:    4.2s finished\n"
     ]
    },
    {
     "name": "stdout",
     "output_type": "stream",
     "text": [
      "Class prediction was successful without slicing!\n",
      "No slicing was necessary!\n",
      "Image saved to: local_model_outputs_classifier_prob_habitat_suitability_CCAP_NORTH_east_coast_USA_13_4000_1000_all_predictors_depth_None/output_2023-08-04-08_49_22_765.tif\n",
      "\n",
      "\n",
      "\n",
      "\n",
      "Starting image: /Users/margauxmforstyhe/Desktop/workspace/wetlands_labs/CCAP boundaries/north_east_coast/tiles_north_east_coast_ccap_mapping_bndry_gridded_50km_50km_classes_13_CCAP_scale30/inference_tiles_scale30_615.tif\n",
      "Image opened\n"
     ]
    },
    {
     "name": "stderr",
     "output_type": "stream",
     "text": [
      "[Parallel(n_jobs=12)]: Using backend ThreadingBackend with 12 concurrent workers.\n",
      "[Parallel(n_jobs=12)]: Done  26 tasks      | elapsed:    1.0s\n",
      "[Parallel(n_jobs=12)]: Done 100 out of 100 | elapsed:    2.9s finished\n"
     ]
    },
    {
     "name": "stdout",
     "output_type": "stream",
     "text": [
      "Class prediction was successful without slicing!\n",
      "No slicing was necessary!\n",
      "Image saved to: local_model_outputs_classifier_prob_habitat_suitability_CCAP_NORTH_east_coast_USA_13_4000_1000_all_predictors_depth_None/output_2023-08-04-08_49_26_766.tif\n",
      "\n",
      "\n",
      "\n",
      "\n",
      "Starting image: /Users/margauxmforstyhe/Desktop/workspace/wetlands_labs/CCAP boundaries/north_east_coast/tiles_north_east_coast_ccap_mapping_bndry_gridded_50km_50km_classes_13_CCAP_scale30/inference_tiles_scale30_173.tif\n",
      "Image opened\n"
     ]
    },
    {
     "name": "stderr",
     "output_type": "stream",
     "text": [
      "[Parallel(n_jobs=12)]: Using backend ThreadingBackend with 12 concurrent workers.\n",
      "[Parallel(n_jobs=12)]: Done  26 tasks      | elapsed:    0.6s\n",
      "[Parallel(n_jobs=12)]: Done 100 out of 100 | elapsed:    1.7s finished\n"
     ]
    },
    {
     "name": "stdout",
     "output_type": "stream",
     "text": [
      "Class prediction was successful without slicing!\n",
      "No slicing was necessary!\n",
      "Image saved to: local_model_outputs_classifier_prob_habitat_suitability_CCAP_NORTH_east_coast_USA_13_4000_1000_all_predictors_depth_None/output_2023-08-04-08_49_28_767.tif\n",
      "\n",
      "\n",
      "\n",
      "\n",
      "Starting image: /Users/margauxmforstyhe/Desktop/workspace/wetlands_labs/CCAP boundaries/north_east_coast/tiles_north_east_coast_ccap_mapping_bndry_gridded_50km_50km_classes_13_CCAP_scale30/inference_tiles_scale30_629.tif\n",
      "Image opened\n"
     ]
    },
    {
     "name": "stderr",
     "output_type": "stream",
     "text": [
      "[Parallel(n_jobs=12)]: Using backend ThreadingBackend with 12 concurrent workers.\n",
      "[Parallel(n_jobs=12)]: Done  26 tasks      | elapsed:    0.9s\n",
      "[Parallel(n_jobs=12)]: Done 100 out of 100 | elapsed:    2.6s finished\n",
      "[Parallel(n_jobs=12)]: Using backend ThreadingBackend with 12 concurrent workers.\n",
      "[Parallel(n_jobs=12)]: Done  26 tasks      | elapsed:    0.0s\n",
      "[Parallel(n_jobs=12)]: Done 100 out of 100 | elapsed:    0.0s finished\n"
     ]
    },
    {
     "name": "stdout",
     "output_type": "stream",
     "text": [
      "Class prediction was successful without slicing!\n",
      "No slicing was necessary!\n",
      "Image saved to: local_model_outputs_classifier_prob_habitat_suitability_CCAP_NORTH_east_coast_USA_13_4000_1000_all_predictors_depth_None/output_2023-08-04-08_49_31_768.tif\n",
      "\n",
      "\n",
      "\n",
      "\n",
      "Starting image: /Users/margauxmforstyhe/Desktop/workspace/wetlands_labs/CCAP boundaries/north_east_coast/tiles_north_east_coast_ccap_mapping_bndry_gridded_50km_50km_classes_13_CCAP_scale30/inference_tiles_scale30_99.tif\n",
      "Image opened\n",
      "Class prediction was successful without slicing!\n",
      "No slicing was necessary!\n",
      "Image saved to: local_model_outputs_classifier_prob_habitat_suitability_CCAP_NORTH_east_coast_USA_13_4000_1000_all_predictors_depth_None/output_2023-08-04-08_49_31_769.tif\n",
      "\n",
      "\n",
      "\n",
      "\n",
      "Starting image: /Users/margauxmforstyhe/Desktop/workspace/wetlands_labs/CCAP boundaries/north_east_coast/tiles_north_east_coast_ccap_mapping_bndry_gridded_50km_50km_classes_13_CCAP_scale30/inference_tiles_scale30_403.tif\n",
      "Image opened\n",
      "Class prediction was successful without slicing!\n",
      "No slicing was necessary!\n",
      "Image saved to: local_model_outputs_classifier_prob_habitat_suitability_CCAP_NORTH_east_coast_USA_13_4000_1000_all_predictors_depth_None/output_2023-08-04-08_49_31_770.tif\n",
      "\n",
      "\n",
      "\n",
      "\n",
      "Starting image: /Users/margauxmforstyhe/Desktop/workspace/wetlands_labs/CCAP boundaries/north_east_coast/tiles_north_east_coast_ccap_mapping_bndry_gridded_50km_50km_classes_13_CCAP_scale30/inference_tiles_scale30_66.tif\n"
     ]
    },
    {
     "name": "stderr",
     "output_type": "stream",
     "text": [
      "[Parallel(n_jobs=12)]: Using backend ThreadingBackend with 12 concurrent workers.\n",
      "[Parallel(n_jobs=12)]: Done  26 tasks      | elapsed:    0.1s\n",
      "[Parallel(n_jobs=12)]: Done 100 out of 100 | elapsed:    0.2s finished\n"
     ]
    },
    {
     "name": "stdout",
     "output_type": "stream",
     "text": [
      "Image opened\n"
     ]
    },
    {
     "name": "stderr",
     "output_type": "stream",
     "text": [
      "[Parallel(n_jobs=12)]: Using backend ThreadingBackend with 12 concurrent workers.\n",
      "[Parallel(n_jobs=12)]: Done  26 tasks      | elapsed:    2.1s\n",
      "[Parallel(n_jobs=12)]: Done 100 out of 100 | elapsed:    5.1s finished\n"
     ]
    },
    {
     "name": "stdout",
     "output_type": "stream",
     "text": [
      "Class prediction was successful without slicing!\n",
      "No slicing was necessary!\n",
      "Image saved to: local_model_outputs_classifier_prob_habitat_suitability_CCAP_NORTH_east_coast_USA_13_4000_1000_all_predictors_depth_None/output_2023-08-04-08_49_37_771.tif\n",
      "\n",
      "\n",
      "\n",
      "\n",
      "Starting image: /Users/margauxmforstyhe/Desktop/workspace/wetlands_labs/CCAP boundaries/north_east_coast/tiles_north_east_coast_ccap_mapping_bndry_gridded_50km_50km_classes_13_CCAP_scale30/inference_tiles_scale30_365.tif\n",
      "Image opened\n"
     ]
    },
    {
     "name": "stderr",
     "output_type": "stream",
     "text": [
      "[Parallel(n_jobs=12)]: Using backend ThreadingBackend with 12 concurrent workers.\n",
      "[Parallel(n_jobs=12)]: Done  26 tasks      | elapsed:    1.4s\n",
      "[Parallel(n_jobs=12)]: Done 100 out of 100 | elapsed:    4.2s finished\n"
     ]
    },
    {
     "name": "stdout",
     "output_type": "stream",
     "text": [
      "Class prediction was successful without slicing!\n",
      "No slicing was necessary!\n",
      "Image saved to: local_model_outputs_classifier_prob_habitat_suitability_CCAP_NORTH_east_coast_USA_13_4000_1000_all_predictors_depth_None/output_2023-08-04-08_49_42_772.tif\n",
      "\n",
      "\n",
      "\n",
      "\n",
      "Starting image: /Users/margauxmforstyhe/Desktop/workspace/wetlands_labs/CCAP boundaries/north_east_coast/tiles_north_east_coast_ccap_mapping_bndry_gridded_50km_50km_classes_13_CCAP_scale30/inference_tiles_scale30_72.tif\n",
      "Image opened\n"
     ]
    },
    {
     "name": "stderr",
     "output_type": "stream",
     "text": [
      "[Parallel(n_jobs=12)]: Using backend ThreadingBackend with 12 concurrent workers.\n",
      "[Parallel(n_jobs=12)]: Done  26 tasks      | elapsed:    1.8s\n",
      "[Parallel(n_jobs=12)]: Done 100 out of 100 | elapsed:    5.3s finished\n"
     ]
    },
    {
     "name": "stdout",
     "output_type": "stream",
     "text": [
      "Class prediction was successful without slicing!\n",
      "No slicing was necessary!\n",
      "Image saved to: local_model_outputs_classifier_prob_habitat_suitability_CCAP_NORTH_east_coast_USA_13_4000_1000_all_predictors_depth_None/output_2023-08-04-08_49_48_773.tif\n",
      "\n",
      "\n",
      "\n",
      "\n",
      "Starting image: /Users/margauxmforstyhe/Desktop/workspace/wetlands_labs/CCAP boundaries/north_east_coast/tiles_north_east_coast_ccap_mapping_bndry_gridded_50km_50km_classes_13_CCAP_scale30/inference_tiles_scale30_371.tif\n",
      "Image opened\n"
     ]
    },
    {
     "name": "stderr",
     "output_type": "stream",
     "text": [
      "[Parallel(n_jobs=12)]: Using backend ThreadingBackend with 12 concurrent workers.\n",
      "[Parallel(n_jobs=12)]: Done  26 tasks      | elapsed:    0.7s\n",
      "[Parallel(n_jobs=12)]: Done 100 out of 100 | elapsed:    2.0s finished\n"
     ]
    },
    {
     "name": "stdout",
     "output_type": "stream",
     "text": [
      "Class prediction was successful without slicing!\n",
      "No slicing was necessary!\n",
      "Image saved to: local_model_outputs_classifier_prob_habitat_suitability_CCAP_NORTH_east_coast_USA_13_4000_1000_all_predictors_depth_None/output_2023-08-04-08_49_51_774.tif\n",
      "\n",
      "\n",
      "\n",
      "\n",
      "Starting image: /Users/margauxmforstyhe/Desktop/workspace/wetlands_labs/CCAP boundaries/north_east_coast/tiles_north_east_coast_ccap_mapping_bndry_gridded_50km_50km_classes_13_CCAP_scale30/inference_tiles_scale30_417.tif\n",
      "Image opened\n"
     ]
    },
    {
     "name": "stderr",
     "output_type": "stream",
     "text": [
      "[Parallel(n_jobs=12)]: Using backend ThreadingBackend with 12 concurrent workers.\n",
      "[Parallel(n_jobs=12)]: Done  26 tasks      | elapsed:    1.2s\n",
      "[Parallel(n_jobs=12)]: Done 100 out of 100 | elapsed:    3.4s finished\n"
     ]
    },
    {
     "name": "stdout",
     "output_type": "stream",
     "text": [
      "Class prediction was successful without slicing!\n",
      "No slicing was necessary!\n",
      "Image saved to: local_model_outputs_classifier_prob_habitat_suitability_CCAP_NORTH_east_coast_USA_13_4000_1000_all_predictors_depth_None/output_2023-08-04-08_49_55_775.tif\n",
      "\n",
      "\n",
      "\n",
      "\n",
      "Starting image: /Users/margauxmforstyhe/Desktop/workspace/wetlands_labs/CCAP boundaries/north_east_coast/tiles_north_east_coast_ccap_mapping_bndry_gridded_50km_50km_classes_13_CCAP_scale30/inference_tiles_scale30_359.tif\n",
      "Image opened\n"
     ]
    },
    {
     "name": "stderr",
     "output_type": "stream",
     "text": [
      "[Parallel(n_jobs=12)]: Using backend ThreadingBackend with 12 concurrent workers.\n",
      "[Parallel(n_jobs=12)]: Done  26 tasks      | elapsed:    0.9s\n",
      "[Parallel(n_jobs=12)]: Done 100 out of 100 | elapsed:    2.8s finished\n"
     ]
    },
    {
     "name": "stdout",
     "output_type": "stream",
     "text": [
      "Class prediction was successful without slicing!\n",
      "No slicing was necessary!\n",
      "Image saved to: local_model_outputs_classifier_prob_habitat_suitability_CCAP_NORTH_east_coast_USA_13_4000_1000_all_predictors_depth_None/output_2023-08-04-08_49_59_776.tif\n",
      "\n",
      "\n",
      "\n",
      "\n",
      "Starting image: /Users/margauxmforstyhe/Desktop/workspace/wetlands_labs/CCAP boundaries/north_east_coast/tiles_north_east_coast_ccap_mapping_bndry_gridded_50km_50km_classes_13_CCAP_scale30/inference_tiles_scale30_58.tif\n",
      "Image opened\n"
     ]
    },
    {
     "name": "stderr",
     "output_type": "stream",
     "text": [
      "[Parallel(n_jobs=12)]: Using backend ThreadingBackend with 12 concurrent workers.\n",
      "[Parallel(n_jobs=12)]: Done  26 tasks      | elapsed:    1.7s\n",
      "[Parallel(n_jobs=12)]: Done 100 out of 100 | elapsed:    4.6s finished\n"
     ]
    },
    {
     "name": "stdout",
     "output_type": "stream",
     "text": [
      "Class prediction was successful without slicing!\n",
      "No slicing was necessary!\n",
      "Image saved to: local_model_outputs_classifier_prob_habitat_suitability_CCAP_NORTH_east_coast_USA_13_4000_1000_all_predictors_depth_None/output_2023-08-04-08_50_04_777.tif\n",
      "\n",
      "\n",
      "\n",
      "\n",
      "Starting image: /Users/margauxmforstyhe/Desktop/workspace/wetlands_labs/CCAP boundaries/north_east_coast/tiles_north_east_coast_ccap_mapping_bndry_gridded_50km_50km_classes_13_CCAP_scale30/inference_tiles_scale30_429.tif\n",
      "Image opened\n"
     ]
    },
    {
     "name": "stderr",
     "output_type": "stream",
     "text": [
      "[Parallel(n_jobs=12)]: Using backend ThreadingBackend with 12 concurrent workers.\n",
      "[Parallel(n_jobs=12)]: Done  26 tasks      | elapsed:    1.3s\n",
      "[Parallel(n_jobs=12)]: Done 100 out of 100 | elapsed:    3.6s finished\n"
     ]
    },
    {
     "name": "stdout",
     "output_type": "stream",
     "text": [
      "Class prediction was successful without slicing!\n",
      "No slicing was necessary!\n",
      "Image saved to: local_model_outputs_classifier_prob_habitat_suitability_CCAP_NORTH_east_coast_USA_13_4000_1000_all_predictors_depth_None/output_2023-08-04-08_50_09_778.tif\n",
      "\n",
      "\n",
      "\n",
      "\n",
      "Starting image: /Users/margauxmforstyhe/Desktop/workspace/wetlands_labs/CCAP boundaries/north_east_coast/tiles_north_east_coast_ccap_mapping_bndry_gridded_50km_50km_classes_13_CCAP_scale30/inference_tiles_scale30_367.tif\n",
      "Image opened\n"
     ]
    },
    {
     "name": "stderr",
     "output_type": "stream",
     "text": [
      "[Parallel(n_jobs=12)]: Using backend ThreadingBackend with 12 concurrent workers.\n",
      "[Parallel(n_jobs=12)]: Done  26 tasks      | elapsed:    1.5s\n",
      "[Parallel(n_jobs=12)]: Done 100 out of 100 | elapsed:    4.3s finished\n"
     ]
    },
    {
     "name": "stdout",
     "output_type": "stream",
     "text": [
      "Class prediction was successful without slicing!\n",
      "No slicing was necessary!\n",
      "Image saved to: local_model_outputs_classifier_prob_habitat_suitability_CCAP_NORTH_east_coast_USA_13_4000_1000_all_predictors_depth_None/output_2023-08-04-08_50_14_779.tif\n",
      "\n",
      "\n",
      "\n",
      "\n",
      "Starting image: /Users/margauxmforstyhe/Desktop/workspace/wetlands_labs/CCAP boundaries/north_east_coast/tiles_north_east_coast_ccap_mapping_bndry_gridded_50km_50km_classes_13_CCAP_scale30/inference_tiles_scale30_64.tif\n",
      "Image opened\n"
     ]
    },
    {
     "name": "stderr",
     "output_type": "stream",
     "text": [
      "[Parallel(n_jobs=12)]: Using backend ThreadingBackend with 12 concurrent workers.\n",
      "[Parallel(n_jobs=12)]: Done  26 tasks      | elapsed:    1.8s\n",
      "[Parallel(n_jobs=12)]: Done 100 out of 100 | elapsed:    5.4s finished\n"
     ]
    },
    {
     "name": "stdout",
     "output_type": "stream",
     "text": [
      "Class prediction was successful without slicing!\n",
      "No slicing was necessary!\n",
      "Image saved to: local_model_outputs_classifier_prob_habitat_suitability_CCAP_NORTH_east_coast_USA_13_4000_1000_all_predictors_depth_None/output_2023-08-04-08_50_20_780.tif\n",
      "\n",
      "\n",
      "\n",
      "\n",
      "Starting image: /Users/margauxmforstyhe/Desktop/workspace/wetlands_labs/CCAP boundaries/north_east_coast/tiles_north_east_coast_ccap_mapping_bndry_gridded_50km_50km_classes_13_CCAP_scale30/inference_tiles_scale30_401.tif\n",
      "Image opened\n"
     ]
    },
    {
     "name": "stderr",
     "output_type": "stream",
     "text": [
      "[Parallel(n_jobs=12)]: Using backend ThreadingBackend with 12 concurrent workers.\n",
      "[Parallel(n_jobs=12)]: Done  26 tasks      | elapsed:    1.2s\n",
      "[Parallel(n_jobs=12)]: Done 100 out of 100 | elapsed:    3.5s finished\n"
     ]
    },
    {
     "name": "stdout",
     "output_type": "stream",
     "text": [
      "Class prediction was successful without slicing!\n",
      "No slicing was necessary!\n",
      "Image saved to: local_model_outputs_classifier_prob_habitat_suitability_CCAP_NORTH_east_coast_USA_13_4000_1000_all_predictors_depth_None/output_2023-08-04-08_50_25_781.tif\n",
      "\n",
      "\n",
      "\n",
      "\n",
      "Starting image: /Users/margauxmforstyhe/Desktop/workspace/wetlands_labs/CCAP boundaries/north_east_coast/tiles_north_east_coast_ccap_mapping_bndry_gridded_50km_50km_classes_13_CCAP_scale30/inference_tiles_scale30_415.tif\n",
      "Image opened\n"
     ]
    },
    {
     "name": "stderr",
     "output_type": "stream",
     "text": [
      "[Parallel(n_jobs=12)]: Using backend ThreadingBackend with 12 concurrent workers.\n",
      "[Parallel(n_jobs=12)]: Done  26 tasks      | elapsed:    1.4s\n",
      "[Parallel(n_jobs=12)]: Done 100 out of 100 | elapsed:    3.8s finished\n"
     ]
    },
    {
     "name": "stdout",
     "output_type": "stream",
     "text": [
      "Class prediction was successful without slicing!\n",
      "No slicing was necessary!\n",
      "Image saved to: local_model_outputs_classifier_prob_habitat_suitability_CCAP_NORTH_east_coast_USA_13_4000_1000_all_predictors_depth_None/output_2023-08-04-08_50_29_782.tif\n",
      "\n",
      "\n",
      "\n",
      "\n",
      "Starting image: /Users/margauxmforstyhe/Desktop/workspace/wetlands_labs/CCAP boundaries/north_east_coast/tiles_north_east_coast_ccap_mapping_bndry_gridded_50km_50km_classes_13_CCAP_scale30/inference_tiles_scale30_373.tif\n",
      "Image opened\n"
     ]
    },
    {
     "name": "stderr",
     "output_type": "stream",
     "text": [
      "[Parallel(n_jobs=12)]: Using backend ThreadingBackend with 12 concurrent workers.\n",
      "[Parallel(n_jobs=12)]: Done  26 tasks      | elapsed:    2.1s\n",
      "[Parallel(n_jobs=12)]: Done 100 out of 100 | elapsed:    6.0s finished\n"
     ]
    },
    {
     "name": "stdout",
     "output_type": "stream",
     "text": [
      "Class prediction was successful without slicing!\n",
      "No slicing was necessary!\n",
      "Image saved to: local_model_outputs_classifier_prob_habitat_suitability_CCAP_NORTH_east_coast_USA_13_4000_1000_all_predictors_depth_None/output_2023-08-04-08_50_36_783.tif\n",
      "\n",
      "\n",
      "\n",
      "\n",
      "Starting image: /Users/margauxmforstyhe/Desktop/workspace/wetlands_labs/CCAP boundaries/north_east_coast/tiles_north_east_coast_ccap_mapping_bndry_gridded_50km_50km_classes_13_CCAP_scale30/inference_tiles_scale30_70.tif\n",
      "Image opened\n"
     ]
    },
    {
     "name": "stderr",
     "output_type": "stream",
     "text": [
      "[Parallel(n_jobs=12)]: Using backend ThreadingBackend with 12 concurrent workers.\n",
      "[Parallel(n_jobs=12)]: Done  26 tasks      | elapsed:    1.7s\n",
      "[Parallel(n_jobs=12)]: Done 100 out of 100 | elapsed:    5.0s finished\n"
     ]
    },
    {
     "name": "stdout",
     "output_type": "stream",
     "text": [
      "Class prediction was successful without slicing!\n",
      "No slicing was necessary!\n",
      "Image saved to: local_model_outputs_classifier_prob_habitat_suitability_CCAP_NORTH_east_coast_USA_13_4000_1000_all_predictors_depth_None/output_2023-08-04-08_50_42_784.tif\n",
      "\n",
      "\n",
      "\n",
      "\n",
      "Starting image: /Users/margauxmforstyhe/Desktop/workspace/wetlands_labs/CCAP boundaries/north_east_coast/tiles_north_east_coast_ccap_mapping_bndry_gridded_50km_50km_classes_13_CCAP_scale30/inference_tiles_scale30_398.tif\n",
      "Image opened\n"
     ]
    },
    {
     "name": "stderr",
     "output_type": "stream",
     "text": [
      "[Parallel(n_jobs=12)]: Using backend ThreadingBackend with 12 concurrent workers.\n",
      "[Parallel(n_jobs=12)]: Done  26 tasks      | elapsed:    1.3s\n",
      "[Parallel(n_jobs=12)]: Done 100 out of 100 | elapsed:    3.6s finished\n"
     ]
    },
    {
     "name": "stdout",
     "output_type": "stream",
     "text": [
      "Class prediction was successful without slicing!\n",
      "No slicing was necessary!\n",
      "Image saved to: local_model_outputs_classifier_prob_habitat_suitability_CCAP_NORTH_east_coast_USA_13_4000_1000_all_predictors_depth_None/output_2023-08-04-08_50_47_785.tif\n",
      "\n",
      "\n",
      "\n",
      "\n",
      "Starting image: /Users/margauxmforstyhe/Desktop/workspace/wetlands_labs/CCAP boundaries/north_east_coast/tiles_north_east_coast_ccap_mapping_bndry_gridded_50km_50km_classes_13_CCAP_scale30/inference_tiles_scale30_159.tif\n",
      "Image opened\n"
     ]
    },
    {
     "name": "stderr",
     "output_type": "stream",
     "text": [
      "[Parallel(n_jobs=12)]: Using backend ThreadingBackend with 12 concurrent workers.\n",
      "[Parallel(n_jobs=12)]: Done  26 tasks      | elapsed:    1.7s\n",
      "[Parallel(n_jobs=12)]: Done 100 out of 100 | elapsed:    4.8s finished\n"
     ]
    },
    {
     "name": "stdout",
     "output_type": "stream",
     "text": [
      "Class prediction was successful without slicing!\n",
      "No slicing was necessary!\n",
      "Image saved to: local_model_outputs_classifier_prob_habitat_suitability_CCAP_NORTH_east_coast_USA_13_4000_1000_all_predictors_depth_None/output_2023-08-04-08_50_52_786.tif\n",
      "\n",
      "\n",
      "\n",
      "\n",
      "Starting image: /Users/margauxmforstyhe/Desktop/workspace/wetlands_labs/CCAP boundaries/north_east_coast/tiles_north_east_coast_ccap_mapping_bndry_gridded_50km_50km_classes_13_CCAP_scale30/inference_tiles_scale30_603.tif\n",
      "Image opened\n"
     ]
    },
    {
     "name": "stderr",
     "output_type": "stream",
     "text": [
      "[Parallel(n_jobs=12)]: Using backend ThreadingBackend with 12 concurrent workers.\n",
      "[Parallel(n_jobs=12)]: Done  26 tasks      | elapsed:    1.1s\n",
      "[Parallel(n_jobs=12)]: Done 100 out of 100 | elapsed:    3.4s finished\n"
     ]
    },
    {
     "name": "stdout",
     "output_type": "stream",
     "text": [
      "Class prediction was successful without slicing!\n",
      "No slicing was necessary!\n",
      "Image saved to: local_model_outputs_classifier_prob_habitat_suitability_CCAP_NORTH_east_coast_USA_13_4000_1000_all_predictors_depth_None/output_2023-08-04-08_50_56_787.tif\n",
      "\n",
      "\n",
      "\n",
      "\n",
      "Starting image: /Users/margauxmforstyhe/Desktop/workspace/wetlands_labs/CCAP boundaries/north_east_coast/tiles_north_east_coast_ccap_mapping_bndry_gridded_50km_50km_classes_13_CCAP_scale30/inference_tiles_scale30_165.tif\n",
      "Image opened\n"
     ]
    },
    {
     "name": "stderr",
     "output_type": "stream",
     "text": [
      "[Parallel(n_jobs=12)]: Using backend ThreadingBackend with 12 concurrent workers.\n",
      "[Parallel(n_jobs=12)]: Done  26 tasks      | elapsed:    0.4s\n",
      "[Parallel(n_jobs=12)]: Done 100 out of 100 | elapsed:    1.2s finished\n"
     ]
    },
    {
     "name": "stdout",
     "output_type": "stream",
     "text": [
      "Class prediction was successful without slicing!\n",
      "No slicing was necessary!\n",
      "Image saved to: local_model_outputs_classifier_prob_habitat_suitability_CCAP_NORTH_east_coast_USA_13_4000_1000_all_predictors_depth_None/output_2023-08-04-08_50_58_788.tif\n",
      "\n",
      "\n",
      "\n",
      "\n",
      "Starting image: /Users/margauxmforstyhe/Desktop/workspace/wetlands_labs/CCAP boundaries/north_east_coast/tiles_north_east_coast_ccap_mapping_bndry_gridded_50km_50km_classes_13_CCAP_scale30/inference_tiles_scale30_171.tif\n",
      "Image opened\n"
     ]
    },
    {
     "name": "stderr",
     "output_type": "stream",
     "text": [
      "[Parallel(n_jobs=12)]: Using backend ThreadingBackend with 12 concurrent workers.\n",
      "[Parallel(n_jobs=12)]: Done  26 tasks      | elapsed:    1.6s\n",
      "[Parallel(n_jobs=12)]: Done 100 out of 100 | elapsed:    4.1s finished\n"
     ]
    },
    {
     "name": "stdout",
     "output_type": "stream",
     "text": [
      "Class prediction was successful without slicing!\n",
      "No slicing was necessary!\n",
      "Image saved to: local_model_outputs_classifier_prob_habitat_suitability_CCAP_NORTH_east_coast_USA_13_4000_1000_all_predictors_depth_None/output_2023-08-04-08_51_03_789.tif\n",
      "\n",
      "\n",
      "\n",
      "\n",
      "Starting image: /Users/margauxmforstyhe/Desktop/workspace/wetlands_labs/CCAP boundaries/north_east_coast/tiles_north_east_coast_ccap_mapping_bndry_gridded_50km_50km_classes_13_CCAP_scale30/inference_tiles_scale30_617.tif\n",
      "Image opened\n"
     ]
    },
    {
     "name": "stderr",
     "output_type": "stream",
     "text": [
      "[Parallel(n_jobs=12)]: Using backend ThreadingBackend with 12 concurrent workers.\n",
      "[Parallel(n_jobs=12)]: Done  26 tasks      | elapsed:    1.4s\n",
      "[Parallel(n_jobs=12)]: Done 100 out of 100 | elapsed:    4.2s finished\n"
     ]
    },
    {
     "name": "stdout",
     "output_type": "stream",
     "text": [
      "Class prediction was successful without slicing!\n",
      "No slicing was necessary!\n",
      "Image saved to: local_model_outputs_classifier_prob_habitat_suitability_CCAP_NORTH_east_coast_USA_13_4000_1000_all_predictors_depth_None/output_2023-08-04-08_51_08_790.tif\n",
      "\n",
      "\n",
      "\n",
      "\n",
      "Starting image: /Users/margauxmforstyhe/Desktop/workspace/wetlands_labs/CCAP boundaries/north_east_coast/tiles_north_east_coast_ccap_mapping_bndry_gridded_50km_50km_classes_13_CCAP_scale30/inference_tiles_scale30_824.tif\n",
      "Image opened\n"
     ]
    },
    {
     "name": "stderr",
     "output_type": "stream",
     "text": [
      "[Parallel(n_jobs=12)]: Using backend ThreadingBackend with 12 concurrent workers.\n",
      "[Parallel(n_jobs=12)]: Done  26 tasks      | elapsed:    1.0s\n",
      "[Parallel(n_jobs=12)]: Done 100 out of 100 | elapsed:    3.1s finished\n",
      "[Parallel(n_jobs=12)]: Using backend ThreadingBackend with 12 concurrent workers.\n"
     ]
    },
    {
     "name": "stdout",
     "output_type": "stream",
     "text": [
      "Class prediction was successful without slicing!\n",
      "No slicing was necessary!\n",
      "Image saved to: local_model_outputs_classifier_prob_habitat_suitability_CCAP_NORTH_east_coast_USA_13_4000_1000_all_predictors_depth_None/output_2023-08-04-08_51_12_791.tif\n",
      "\n",
      "\n",
      "\n",
      "\n",
      "Starting image: /Users/margauxmforstyhe/Desktop/workspace/wetlands_labs/CCAP boundaries/north_east_coast/tiles_north_east_coast_ccap_mapping_bndry_gridded_50km_50km_classes_13_CCAP_scale30/inference_tiles_scale30_830.tif\n",
      "Image opened\n"
     ]
    },
    {
     "name": "stderr",
     "output_type": "stream",
     "text": [
      "[Parallel(n_jobs=12)]: Done  26 tasks      | elapsed:    0.0s\n",
      "[Parallel(n_jobs=12)]: Done 100 out of 100 | elapsed:    0.1s finished\n"
     ]
    },
    {
     "name": "stdout",
     "output_type": "stream",
     "text": [
      "Class prediction was successful without slicing!\n",
      "No slicing was necessary!\n",
      "Image saved to: local_model_outputs_classifier_prob_habitat_suitability_CCAP_NORTH_east_coast_USA_13_4000_1000_all_predictors_depth_None/output_2023-08-04-08_51_12_792.tif\n",
      "\n",
      "\n",
      "\n",
      "\n",
      "Starting image: /Users/margauxmforstyhe/Desktop/workspace/wetlands_labs/CCAP boundaries/north_east_coast/tiles_north_east_coast_ccap_mapping_bndry_gridded_50km_50km_classes_13_CCAP_scale30/inference_tiles_scale30_818.tif\n",
      "Image opened\n"
     ]
    },
    {
     "name": "stderr",
     "output_type": "stream",
     "text": [
      "[Parallel(n_jobs=12)]: Using backend ThreadingBackend with 12 concurrent workers.\n",
      "[Parallel(n_jobs=12)]: Done  26 tasks      | elapsed:    1.4s\n",
      "[Parallel(n_jobs=12)]: Done 100 out of 100 | elapsed:    3.9s finished\n"
     ]
    },
    {
     "name": "stdout",
     "output_type": "stream",
     "text": [
      "Class prediction was successful without slicing!\n",
      "No slicing was necessary!\n",
      "Image saved to: local_model_outputs_classifier_prob_habitat_suitability_CCAP_NORTH_east_coast_USA_13_4000_1000_all_predictors_depth_None/output_2023-08-04-08_51_16_793.tif\n",
      "\n",
      "\n",
      "\n",
      "\n",
      "Starting image: /Users/margauxmforstyhe/Desktop/workspace/wetlands_labs/CCAP boundaries/north_east_coast/tiles_north_east_coast_ccap_mapping_bndry_gridded_50km_50km_classes_13_CCAP_scale30/inference_tiles_scale30_777.tif\n",
      "Image opened\n"
     ]
    },
    {
     "name": "stderr",
     "output_type": "stream",
     "text": [
      "[Parallel(n_jobs=12)]: Using backend ThreadingBackend with 12 concurrent workers.\n",
      "[Parallel(n_jobs=12)]: Done  26 tasks      | elapsed:    1.4s\n",
      "[Parallel(n_jobs=12)]: Done 100 out of 100 | elapsed:    3.9s finished\n"
     ]
    },
    {
     "name": "stdout",
     "output_type": "stream",
     "text": [
      "Class prediction was successful without slicing!\n",
      "No slicing was necessary!\n",
      "Image saved to: local_model_outputs_classifier_prob_habitat_suitability_CCAP_NORTH_east_coast_USA_13_4000_1000_all_predictors_depth_None/output_2023-08-04-08_51_21_794.tif\n",
      "\n",
      "\n",
      "\n",
      "\n",
      "Starting image: /Users/margauxmforstyhe/Desktop/workspace/wetlands_labs/CCAP boundaries/north_east_coast/tiles_north_east_coast_ccap_mapping_bndry_gridded_50km_50km_classes_13_CCAP_scale30/inference_tiles_scale30_763.tif\n",
      "Image opened\n"
     ]
    },
    {
     "name": "stderr",
     "output_type": "stream",
     "text": [
      "[Parallel(n_jobs=12)]: Using backend ThreadingBackend with 12 concurrent workers.\n",
      "[Parallel(n_jobs=12)]: Done  26 tasks      | elapsed:    0.6s\n",
      "[Parallel(n_jobs=12)]: Done 100 out of 100 | elapsed:    2.0s finished\n"
     ]
    },
    {
     "name": "stdout",
     "output_type": "stream",
     "text": [
      "Class prediction was successful without slicing!\n",
      "No slicing was necessary!\n",
      "Image saved to: local_model_outputs_classifier_prob_habitat_suitability_CCAP_NORTH_east_coast_USA_13_4000_1000_all_predictors_depth_None/output_2023-08-04-08_51_24_795.tif\n",
      "\n",
      "\n",
      "\n",
      "\n",
      "Starting image: /Users/margauxmforstyhe/Desktop/workspace/wetlands_labs/CCAP boundaries/north_east_coast/tiles_north_east_coast_ccap_mapping_bndry_gridded_50km_50km_classes_13_CCAP_scale30/inference_tiles_scale30_788.tif\n",
      "Image opened\n"
     ]
    },
    {
     "name": "stderr",
     "output_type": "stream",
     "text": [
      "[Parallel(n_jobs=12)]: Using backend ThreadingBackend with 12 concurrent workers.\n",
      "[Parallel(n_jobs=12)]: Done  26 tasks      | elapsed:    1.8s\n",
      "[Parallel(n_jobs=12)]: Done 100 out of 100 | elapsed:    4.9s finished\n"
     ]
    },
    {
     "name": "stdout",
     "output_type": "stream",
     "text": [
      "Class prediction was successful without slicing!\n",
      "No slicing was necessary!\n",
      "Image saved to: local_model_outputs_classifier_prob_habitat_suitability_CCAP_NORTH_east_coast_USA_13_4000_1000_all_predictors_depth_None/output_2023-08-04-08_51_30_796.tif\n",
      "\n",
      "\n",
      "\n",
      "\n",
      "Starting image: /Users/margauxmforstyhe/Desktop/workspace/wetlands_labs/CCAP boundaries/north_east_coast/tiles_north_east_coast_ccap_mapping_bndry_gridded_50km_50km_classes_13_CCAP_scale30/inference_tiles_scale30_549.tif\n",
      "Image opened\n"
     ]
    },
    {
     "name": "stderr",
     "output_type": "stream",
     "text": [
      "[Parallel(n_jobs=12)]: Using backend ThreadingBackend with 12 concurrent workers.\n",
      "[Parallel(n_jobs=12)]: Done  26 tasks      | elapsed:    1.4s\n",
      "[Parallel(n_jobs=12)]: Done 100 out of 100 | elapsed:    4.2s finished\n"
     ]
    },
    {
     "name": "stdout",
     "output_type": "stream",
     "text": [
      "Class prediction was successful without slicing!\n",
      "No slicing was necessary!\n",
      "Image saved to: local_model_outputs_classifier_prob_habitat_suitability_CCAP_NORTH_east_coast_USA_13_4000_1000_all_predictors_depth_None/output_2023-08-04-08_51_35_797.tif\n",
      "\n",
      "\n",
      "\n",
      "\n",
      "Starting image: /Users/margauxmforstyhe/Desktop/workspace/wetlands_labs/CCAP boundaries/north_east_coast/tiles_north_east_coast_ccap_mapping_bndry_gridded_50km_50km_classes_13_CCAP_scale30/inference_tiles_scale30_2.tif\n",
      "Image opened\n"
     ]
    },
    {
     "name": "stderr",
     "output_type": "stream",
     "text": [
      "[Parallel(n_jobs=12)]: Using backend ThreadingBackend with 12 concurrent workers.\n",
      "[Parallel(n_jobs=12)]: Done  26 tasks      | elapsed:    1.8s\n",
      "[Parallel(n_jobs=12)]: Done 100 out of 100 | elapsed:    5.2s finished\n"
     ]
    },
    {
     "name": "stdout",
     "output_type": "stream",
     "text": [
      "Class prediction was successful without slicing!\n",
      "No slicing was necessary!\n",
      "Image saved to: local_model_outputs_classifier_prob_habitat_suitability_CCAP_NORTH_east_coast_USA_13_4000_1000_all_predictors_depth_None/output_2023-08-04-08_51_41_798.tif\n",
      "\n",
      "\n",
      "\n",
      "\n",
      "Starting image: /Users/margauxmforstyhe/Desktop/workspace/wetlands_labs/CCAP boundaries/north_east_coast/tiles_north_east_coast_ccap_mapping_bndry_gridded_50km_50km_classes_13_CCAP_scale30/inference_tiles_scale30_213.tif\n",
      "Image opened\n"
     ]
    },
    {
     "name": "stderr",
     "output_type": "stream",
     "text": [
      "[Parallel(n_jobs=12)]: Using backend ThreadingBackend with 12 concurrent workers.\n",
      "[Parallel(n_jobs=12)]: Done  26 tasks      | elapsed:    2.0s\n",
      "[Parallel(n_jobs=12)]: Done 100 out of 100 | elapsed:    5.9s finished\n"
     ]
    },
    {
     "name": "stdout",
     "output_type": "stream",
     "text": [
      "Class prediction was successful without slicing!\n",
      "No slicing was necessary!\n",
      "Image saved to: local_model_outputs_classifier_prob_habitat_suitability_CCAP_NORTH_east_coast_USA_13_4000_1000_all_predictors_depth_None/output_2023-08-04-08_51_48_799.tif\n",
      "\n",
      "\n",
      "\n",
      "\n",
      "Starting image: /Users/margauxmforstyhe/Desktop/workspace/wetlands_labs/CCAP boundaries/north_east_coast/tiles_north_east_coast_ccap_mapping_bndry_gridded_50km_50km_classes_13_CCAP_scale30/inference_tiles_scale30_575.tif\n",
      "Image opened\n"
     ]
    },
    {
     "name": "stderr",
     "output_type": "stream",
     "text": [
      "[Parallel(n_jobs=12)]: Using backend ThreadingBackend with 12 concurrent workers.\n",
      "[Parallel(n_jobs=12)]: Done  26 tasks      | elapsed:    0.2s\n",
      "[Parallel(n_jobs=12)]: Done 100 out of 100 | elapsed:    0.7s finished\n"
     ]
    },
    {
     "name": "stdout",
     "output_type": "stream",
     "text": [
      "Class prediction was successful without slicing!\n",
      "No slicing was necessary!\n",
      "Image saved to: local_model_outputs_classifier_prob_habitat_suitability_CCAP_NORTH_east_coast_USA_13_4000_1000_all_predictors_depth_None/output_2023-08-04-08_51_49_800.tif\n",
      "\n",
      "\n",
      "\n",
      "\n",
      "Starting image: /Users/margauxmforstyhe/Desktop/workspace/wetlands_labs/CCAP boundaries/north_east_coast/tiles_north_east_coast_ccap_mapping_bndry_gridded_50km_50km_classes_13_CCAP_scale30/inference_tiles_scale30_561.tif\n",
      "Image opened\n"
     ]
    },
    {
     "name": "stderr",
     "output_type": "stream",
     "text": [
      "[Parallel(n_jobs=12)]: Using backend ThreadingBackend with 12 concurrent workers.\n",
      "[Parallel(n_jobs=12)]: Done  26 tasks      | elapsed:    1.2s\n",
      "[Parallel(n_jobs=12)]: Done 100 out of 100 | elapsed:    3.7s finished\n"
     ]
    },
    {
     "name": "stdout",
     "output_type": "stream",
     "text": [
      "Class prediction was successful without slicing!\n",
      "No slicing was necessary!\n",
      "Image saved to: local_model_outputs_classifier_prob_habitat_suitability_CCAP_NORTH_east_coast_USA_13_4000_1000_all_predictors_depth_None/output_2023-08-04-08_51_53_801.tif\n",
      "\n",
      "\n",
      "\n",
      "\n",
      "Starting image: /Users/margauxmforstyhe/Desktop/workspace/wetlands_labs/CCAP boundaries/north_east_coast/tiles_north_east_coast_ccap_mapping_bndry_gridded_50km_50km_classes_13_CCAP_scale30/inference_tiles_scale30_207.tif\n",
      "Image opened\n"
     ]
    },
    {
     "name": "stderr",
     "output_type": "stream",
     "text": [
      "[Parallel(n_jobs=12)]: Using backend ThreadingBackend with 12 concurrent workers.\n",
      "[Parallel(n_jobs=12)]: Done  26 tasks      | elapsed:    2.1s\n",
      "[Parallel(n_jobs=12)]: Done 100 out of 100 | elapsed:    5.6s finished\n"
     ]
    },
    {
     "name": "stdout",
     "output_type": "stream",
     "text": [
      "Class prediction was successful without slicing!\n",
      "No slicing was necessary!\n",
      "Image saved to: local_model_outputs_classifier_prob_habitat_suitability_CCAP_NORTH_east_coast_USA_13_4000_1000_all_predictors_depth_None/output_2023-08-04-08_52_00_802.tif\n",
      "\n",
      "\n",
      "\n",
      "\n",
      "Starting image: /Users/margauxmforstyhe/Desktop/workspace/wetlands_labs/CCAP boundaries/north_east_coast/tiles_north_east_coast_ccap_mapping_bndry_gridded_50km_50km_classes_13_CCAP_scale30/inference_tiles_scale30_560.tif\n",
      "Image opened\n"
     ]
    },
    {
     "name": "stderr",
     "output_type": "stream",
     "text": [
      "[Parallel(n_jobs=12)]: Using backend ThreadingBackend with 12 concurrent workers.\n",
      "[Parallel(n_jobs=12)]: Done  26 tasks      | elapsed:    0.5s\n",
      "[Parallel(n_jobs=12)]: Done 100 out of 100 | elapsed:    1.4s finished\n"
     ]
    },
    {
     "name": "stdout",
     "output_type": "stream",
     "text": [
      "Class prediction was successful without slicing!\n",
      "No slicing was necessary!\n",
      "Image saved to: local_model_outputs_classifier_prob_habitat_suitability_CCAP_NORTH_east_coast_USA_13_4000_1000_all_predictors_depth_None/output_2023-08-04-08_52_01_803.tif\n",
      "\n",
      "\n",
      "\n",
      "\n",
      "Starting image: /Users/margauxmforstyhe/Desktop/workspace/wetlands_labs/CCAP boundaries/north_east_coast/tiles_north_east_coast_ccap_mapping_bndry_gridded_50km_50km_classes_13_CCAP_scale30/inference_tiles_scale30_206.tif\n",
      "Image opened\n"
     ]
    },
    {
     "name": "stderr",
     "output_type": "stream",
     "text": [
      "[Parallel(n_jobs=12)]: Using backend ThreadingBackend with 12 concurrent workers.\n",
      "[Parallel(n_jobs=12)]: Done  26 tasks      | elapsed:    1.9s\n",
      "[Parallel(n_jobs=12)]: Done 100 out of 100 | elapsed:    5.4s finished\n"
     ]
    },
    {
     "name": "stdout",
     "output_type": "stream",
     "text": [
      "Class prediction was successful without slicing!\n",
      "No slicing was necessary!\n",
      "Image saved to: local_model_outputs_classifier_prob_habitat_suitability_CCAP_NORTH_east_coast_USA_13_4000_1000_all_predictors_depth_None/output_2023-08-04-08_52_08_804.tif\n",
      "\n",
      "\n",
      "\n",
      "\n",
      "Starting image: /Users/margauxmforstyhe/Desktop/workspace/wetlands_labs/CCAP boundaries/north_east_coast/tiles_north_east_coast_ccap_mapping_bndry_gridded_50km_50km_classes_13_CCAP_scale30/inference_tiles_scale30_212.tif\n",
      "Image opened\n"
     ]
    },
    {
     "name": "stderr",
     "output_type": "stream",
     "text": [
      "[Parallel(n_jobs=12)]: Using backend ThreadingBackend with 12 concurrent workers.\n",
      "[Parallel(n_jobs=12)]: Done  26 tasks      | elapsed:    1.9s\n",
      "[Parallel(n_jobs=12)]: Done 100 out of 100 | elapsed:    5.5s finished\n"
     ]
    },
    {
     "name": "stdout",
     "output_type": "stream",
     "text": [
      "Class prediction was successful without slicing!\n",
      "No slicing was necessary!\n",
      "Image saved to: local_model_outputs_classifier_prob_habitat_suitability_CCAP_NORTH_east_coast_USA_13_4000_1000_all_predictors_depth_None/output_2023-08-04-08_52_14_805.tif\n",
      "\n",
      "\n",
      "\n",
      "\n",
      "Starting image: /Users/margauxmforstyhe/Desktop/workspace/wetlands_labs/CCAP boundaries/north_east_coast/tiles_north_east_coast_ccap_mapping_bndry_gridded_50km_50km_classes_13_CCAP_scale30/inference_tiles_scale30_574.tif\n",
      "Image opened\n"
     ]
    },
    {
     "name": "stderr",
     "output_type": "stream",
     "text": [
      "[Parallel(n_jobs=12)]: Using backend ThreadingBackend with 12 concurrent workers.\n",
      "[Parallel(n_jobs=12)]: Done  26 tasks      | elapsed:    0.1s\n",
      "[Parallel(n_jobs=12)]: Done 100 out of 100 | elapsed:    0.4s finished\n"
     ]
    },
    {
     "name": "stdout",
     "output_type": "stream",
     "text": [
      "Class prediction was successful without slicing!\n",
      "No slicing was necessary!\n",
      "Image saved to: local_model_outputs_classifier_prob_habitat_suitability_CCAP_NORTH_east_coast_USA_13_4000_1000_all_predictors_depth_None/output_2023-08-04-08_52_15_806.tif\n",
      "\n",
      "\n",
      "\n",
      "\n",
      "Starting image: /Users/margauxmforstyhe/Desktop/workspace/wetlands_labs/CCAP boundaries/north_east_coast/tiles_north_east_coast_ccap_mapping_bndry_gridded_50km_50km_classes_13_CCAP_scale30/inference_tiles_scale30_3.tif\n",
      "Image opened\n"
     ]
    },
    {
     "name": "stderr",
     "output_type": "stream",
     "text": [
      "[Parallel(n_jobs=12)]: Using backend ThreadingBackend with 12 concurrent workers.\n",
      "[Parallel(n_jobs=12)]: Done  26 tasks      | elapsed:    1.0s\n",
      "[Parallel(n_jobs=12)]: Done 100 out of 100 | elapsed:    3.0s finished\n",
      "[Parallel(n_jobs=12)]: Using backend ThreadingBackend with 12 concurrent workers.\n",
      "[Parallel(n_jobs=12)]: Done  26 tasks      | elapsed:    0.0s\n",
      "[Parallel(n_jobs=12)]: Done 100 out of 100 | elapsed:    0.0s finished\n"
     ]
    },
    {
     "name": "stdout",
     "output_type": "stream",
     "text": [
      "Class prediction was successful without slicing!\n",
      "No slicing was necessary!\n",
      "Image saved to: local_model_outputs_classifier_prob_habitat_suitability_CCAP_NORTH_east_coast_USA_13_4000_1000_all_predictors_depth_None/output_2023-08-04-08_52_18_807.tif\n",
      "\n",
      "\n",
      "\n",
      "\n",
      "Starting image: /Users/margauxmforstyhe/Desktop/workspace/wetlands_labs/CCAP boundaries/north_east_coast/tiles_north_east_coast_ccap_mapping_bndry_gridded_50km_50km_classes_13_CCAP_scale30/inference_tiles_scale30_548.tif\n",
      "Image opened\n",
      "Class prediction was successful without slicing!\n",
      "No slicing was necessary!\n",
      "Image saved to: local_model_outputs_classifier_prob_habitat_suitability_CCAP_NORTH_east_coast_USA_13_4000_1000_all_predictors_depth_None/output_2023-08-04-08_52_19_808.tif\n",
      "\n",
      "\n",
      "\n",
      "\n",
      "Starting image: /Users/margauxmforstyhe/Desktop/workspace/wetlands_labs/CCAP boundaries/north_east_coast/tiles_north_east_coast_ccap_mapping_bndry_gridded_50km_50km_classes_13_CCAP_scale30/inference_tiles_scale30_789.tif\n",
      "Image opened\n"
     ]
    },
    {
     "name": "stderr",
     "output_type": "stream",
     "text": [
      "[Parallel(n_jobs=12)]: Using backend ThreadingBackend with 12 concurrent workers.\n",
      "[Parallel(n_jobs=12)]: Done  26 tasks      | elapsed:    1.5s\n",
      "[Parallel(n_jobs=12)]: Done 100 out of 100 | elapsed:    4.3s finished\n"
     ]
    },
    {
     "name": "stdout",
     "output_type": "stream",
     "text": [
      "Class prediction was successful without slicing!\n",
      "No slicing was necessary!\n",
      "Image saved to: local_model_outputs_classifier_prob_habitat_suitability_CCAP_NORTH_east_coast_USA_13_4000_1000_all_predictors_depth_None/output_2023-08-04-08_52_24_809.tif\n",
      "\n",
      "\n",
      "\n",
      "\n",
      "Starting image: /Users/margauxmforstyhe/Desktop/workspace/wetlands_labs/CCAP boundaries/north_east_coast/tiles_north_east_coast_ccap_mapping_bndry_gridded_50km_50km_classes_13_CCAP_scale30/inference_tiles_scale30_762.tif\n",
      "Image opened\n"
     ]
    },
    {
     "name": "stderr",
     "output_type": "stream",
     "text": [
      "[Parallel(n_jobs=12)]: Using backend ThreadingBackend with 12 concurrent workers.\n",
      "[Parallel(n_jobs=12)]: Done  26 tasks      | elapsed:    0.9s\n",
      "[Parallel(n_jobs=12)]: Done 100 out of 100 | elapsed:    2.6s finished\n"
     ]
    },
    {
     "name": "stdout",
     "output_type": "stream",
     "text": [
      "Class prediction was successful without slicing!\n",
      "No slicing was necessary!\n",
      "Image saved to: local_model_outputs_classifier_prob_habitat_suitability_CCAP_NORTH_east_coast_USA_13_4000_1000_all_predictors_depth_None/output_2023-08-04-08_52_27_810.tif\n",
      "\n",
      "\n",
      "\n",
      "\n",
      "Starting image: /Users/margauxmforstyhe/Desktop/workspace/wetlands_labs/CCAP boundaries/north_east_coast/tiles_north_east_coast_ccap_mapping_bndry_gridded_50km_50km_classes_13_CCAP_scale30/inference_tiles_scale30_776.tif\n",
      "Image opened\n"
     ]
    },
    {
     "name": "stderr",
     "output_type": "stream",
     "text": [
      "[Parallel(n_jobs=12)]: Using backend ThreadingBackend with 12 concurrent workers.\n",
      "[Parallel(n_jobs=12)]: Done  26 tasks      | elapsed:    1.3s\n",
      "[Parallel(n_jobs=12)]: Done 100 out of 100 | elapsed:    3.6s finished\n"
     ]
    },
    {
     "name": "stdout",
     "output_type": "stream",
     "text": [
      "Class prediction was successful without slicing!\n",
      "No slicing was necessary!\n",
      "Image saved to: local_model_outputs_classifier_prob_habitat_suitability_CCAP_NORTH_east_coast_USA_13_4000_1000_all_predictors_depth_None/output_2023-08-04-08_52_31_811.tif\n",
      "\n",
      "\n",
      "\n",
      "\n",
      "Starting image: /Users/margauxmforstyhe/Desktop/workspace/wetlands_labs/CCAP boundaries/north_east_coast/tiles_north_east_coast_ccap_mapping_bndry_gridded_50km_50km_classes_13_CCAP_scale30/inference_tiles_scale30_819.tif\n",
      "Image opened\n"
     ]
    },
    {
     "name": "stderr",
     "output_type": "stream",
     "text": [
      "[Parallel(n_jobs=12)]: Using backend ThreadingBackend with 12 concurrent workers.\n",
      "[Parallel(n_jobs=12)]: Done  26 tasks      | elapsed:    1.8s\n",
      "[Parallel(n_jobs=12)]: Done 100 out of 100 | elapsed:    4.7s finished\n"
     ]
    },
    {
     "name": "stdout",
     "output_type": "stream",
     "text": [
      "Class prediction was successful without slicing!\n",
      "No slicing was necessary!\n",
      "Image saved to: local_model_outputs_classifier_prob_habitat_suitability_CCAP_NORTH_east_coast_USA_13_4000_1000_all_predictors_depth_None/output_2023-08-04-08_52_37_812.tif\n",
      "\n",
      "\n",
      "\n",
      "\n",
      "Starting image: /Users/margauxmforstyhe/Desktop/workspace/wetlands_labs/CCAP boundaries/north_east_coast/tiles_north_east_coast_ccap_mapping_bndry_gridded_50km_50km_classes_13_CCAP_scale30/inference_tiles_scale30_831.tif\n",
      "Image opened\n"
     ]
    },
    {
     "name": "stderr",
     "output_type": "stream",
     "text": [
      "[Parallel(n_jobs=12)]: Using backend ThreadingBackend with 12 concurrent workers.\n",
      "[Parallel(n_jobs=12)]: Done  26 tasks      | elapsed:    1.9s\n",
      "[Parallel(n_jobs=12)]: Done 100 out of 100 | elapsed:    5.6s finished\n"
     ]
    },
    {
     "name": "stdout",
     "output_type": "stream",
     "text": [
      "Class prediction was successful without slicing!\n",
      "No slicing was necessary!\n",
      "Image saved to: local_model_outputs_classifier_prob_habitat_suitability_CCAP_NORTH_east_coast_USA_13_4000_1000_all_predictors_depth_None/output_2023-08-04-08_52_43_813.tif\n",
      "\n",
      "\n",
      "\n",
      "\n",
      "Starting image: /Users/margauxmforstyhe/Desktop/workspace/wetlands_labs/CCAP boundaries/north_east_coast/tiles_north_east_coast_ccap_mapping_bndry_gridded_50km_50km_classes_13_CCAP_scale30/inference_tiles_scale30_825.tif\n",
      "Image opened\n"
     ]
    },
    {
     "name": "stderr",
     "output_type": "stream",
     "text": [
      "[Parallel(n_jobs=12)]: Using backend ThreadingBackend with 12 concurrent workers.\n",
      "[Parallel(n_jobs=12)]: Done  26 tasks      | elapsed:    0.3s\n",
      "[Parallel(n_jobs=12)]: Done 100 out of 100 | elapsed:    1.0s finished\n"
     ]
    },
    {
     "name": "stdout",
     "output_type": "stream",
     "text": [
      "Class prediction was successful without slicing!\n",
      "No slicing was necessary!\n",
      "Image saved to: local_model_outputs_classifier_prob_habitat_suitability_CCAP_NORTH_east_coast_USA_13_4000_1000_all_predictors_depth_None/output_2023-08-04-08_52_44_814.tif\n",
      "\n",
      "\n",
      "\n",
      "\n",
      "Starting image: /Users/margauxmforstyhe/Desktop/workspace/wetlands_labs/CCAP boundaries/north_east_coast/tiles_north_east_coast_ccap_mapping_bndry_gridded_50km_50km_classes_13_CCAP_scale30/inference_tiles_scale30_170.tif\n",
      "Image opened\n"
     ]
    },
    {
     "name": "stderr",
     "output_type": "stream",
     "text": [
      "[Parallel(n_jobs=12)]: Using backend ThreadingBackend with 12 concurrent workers.\n",
      "[Parallel(n_jobs=12)]: Done  26 tasks      | elapsed:    1.7s\n",
      "[Parallel(n_jobs=12)]: Done 100 out of 100 | elapsed:    5.1s finished\n"
     ]
    },
    {
     "name": "stdout",
     "output_type": "stream",
     "text": [
      "Class prediction was successful without slicing!\n",
      "No slicing was necessary!\n",
      "Image saved to: local_model_outputs_classifier_prob_habitat_suitability_CCAP_NORTH_east_coast_USA_13_4000_1000_all_predictors_depth_None/output_2023-08-04-08_52_50_815.tif\n",
      "\n",
      "\n",
      "\n",
      "\n",
      "Starting image: /Users/margauxmforstyhe/Desktop/workspace/wetlands_labs/CCAP boundaries/north_east_coast/tiles_north_east_coast_ccap_mapping_bndry_gridded_50km_50km_classes_13_CCAP_scale30/inference_tiles_scale30_616.tif\n",
      "Image opened\n"
     ]
    },
    {
     "name": "stderr",
     "output_type": "stream",
     "text": [
      "[Parallel(n_jobs=12)]: Using backend ThreadingBackend with 12 concurrent workers.\n",
      "[Parallel(n_jobs=12)]: Done  26 tasks      | elapsed:    1.4s\n",
      "[Parallel(n_jobs=12)]: Done 100 out of 100 | elapsed:    5.3s finished\n"
     ]
    },
    {
     "name": "stdout",
     "output_type": "stream",
     "text": [
      "Class prediction was successful without slicing!\n",
      "No slicing was necessary!\n",
      "Image saved to: local_model_outputs_classifier_prob_habitat_suitability_CCAP_NORTH_east_coast_USA_13_4000_1000_all_predictors_depth_None/output_2023-08-04-08_52_56_816.tif\n",
      "\n",
      "\n",
      "\n",
      "\n",
      "Starting image: /Users/margauxmforstyhe/Desktop/workspace/wetlands_labs/CCAP boundaries/north_east_coast/tiles_north_east_coast_ccap_mapping_bndry_gridded_50km_50km_classes_13_CCAP_scale30/inference_tiles_scale30_602.tif\n",
      "Image opened\n"
     ]
    },
    {
     "name": "stderr",
     "output_type": "stream",
     "text": [
      "[Parallel(n_jobs=12)]: Using backend ThreadingBackend with 12 concurrent workers.\n",
      "[Parallel(n_jobs=12)]: Done  26 tasks      | elapsed:    0.6s\n",
      "[Parallel(n_jobs=12)]: Done 100 out of 100 | elapsed:    1.8s finished\n"
     ]
    },
    {
     "name": "stdout",
     "output_type": "stream",
     "text": [
      "Class prediction was successful without slicing!\n",
      "No slicing was necessary!\n",
      "Image saved to: local_model_outputs_classifier_prob_habitat_suitability_CCAP_NORTH_east_coast_USA_13_4000_1000_all_predictors_depth_None/output_2023-08-04-08_52_58_817.tif\n",
      "\n",
      "\n",
      "\n",
      "\n",
      "Starting image: /Users/margauxmforstyhe/Desktop/workspace/wetlands_labs/CCAP boundaries/north_east_coast/tiles_north_east_coast_ccap_mapping_bndry_gridded_50km_50km_classes_13_CCAP_scale30/inference_tiles_scale30_164.tif\n",
      "Image opened\n"
     ]
    },
    {
     "name": "stderr",
     "output_type": "stream",
     "text": [
      "[Parallel(n_jobs=12)]: Using backend ThreadingBackend with 12 concurrent workers.\n",
      "[Parallel(n_jobs=12)]: Done  26 tasks      | elapsed:    1.4s\n",
      "[Parallel(n_jobs=12)]: Done 100 out of 100 | elapsed:    3.8s finished\n"
     ]
    },
    {
     "name": "stdout",
     "output_type": "stream",
     "text": [
      "Class prediction was successful without slicing!\n",
      "No slicing was necessary!\n",
      "Image saved to: local_model_outputs_classifier_prob_habitat_suitability_CCAP_NORTH_east_coast_USA_13_4000_1000_all_predictors_depth_None/output_2023-08-04-08_53_03_818.tif\n",
      "\n",
      "\n",
      "\n",
      "\n",
      "Starting image: /Users/margauxmforstyhe/Desktop/workspace/wetlands_labs/CCAP boundaries/north_east_coast/tiles_north_east_coast_ccap_mapping_bndry_gridded_50km_50km_classes_13_CCAP_scale30/inference_tiles_scale30_158.tif\n",
      "Image opened\n"
     ]
    },
    {
     "name": "stderr",
     "output_type": "stream",
     "text": [
      "[Parallel(n_jobs=12)]: Using backend ThreadingBackend with 12 concurrent workers.\n",
      "[Parallel(n_jobs=12)]: Done  26 tasks      | elapsed:    1.0s\n",
      "[Parallel(n_jobs=12)]: Done 100 out of 100 | elapsed:    2.9s finished\n"
     ]
    },
    {
     "name": "stdout",
     "output_type": "stream",
     "text": [
      "Class prediction was successful without slicing!\n",
      "No slicing was necessary!\n",
      "Image saved to: local_model_outputs_classifier_prob_habitat_suitability_CCAP_NORTH_east_coast_USA_13_4000_1000_all_predictors_depth_None/output_2023-08-04-08_53_07_819.tif\n",
      "\n",
      "\n",
      "\n",
      "\n",
      "Starting image: /Users/margauxmforstyhe/Desktop/workspace/wetlands_labs/CCAP boundaries/north_east_coast/tiles_north_east_coast_ccap_mapping_bndry_gridded_50km_50km_classes_13_CCAP_scale30/inference_tiles_scale30_399.tif\n",
      "Image opened\n"
     ]
    },
    {
     "name": "stderr",
     "output_type": "stream",
     "text": [
      "[Parallel(n_jobs=12)]: Using backend ThreadingBackend with 12 concurrent workers.\n",
      "[Parallel(n_jobs=12)]: Done  26 tasks      | elapsed:    1.4s\n",
      "[Parallel(n_jobs=12)]: Done 100 out of 100 | elapsed:    3.6s finished\n",
      "[Parallel(n_jobs=12)]: Using backend ThreadingBackend with 12 concurrent workers.\n",
      "[Parallel(n_jobs=12)]: Done  26 tasks      | elapsed:    0.0s\n",
      "[Parallel(n_jobs=12)]: Done 100 out of 100 | elapsed:    0.0s finished\n"
     ]
    },
    {
     "name": "stdout",
     "output_type": "stream",
     "text": [
      "Class prediction was successful without slicing!\n",
      "No slicing was necessary!\n",
      "Image saved to: local_model_outputs_classifier_prob_habitat_suitability_CCAP_NORTH_east_coast_USA_13_4000_1000_all_predictors_depth_None/output_2023-08-04-08_53_11_820.tif\n",
      "\n",
      "\n",
      "\n",
      "\n",
      "Starting image: /Users/margauxmforstyhe/Desktop/workspace/wetlands_labs/CCAP boundaries/north_east_coast/tiles_north_east_coast_ccap_mapping_bndry_gridded_50km_50km_classes_13_CCAP_scale30/inference_tiles_scale30_414.tif\n",
      "Image opened\n",
      "Class prediction was successful without slicing!\n",
      "No slicing was necessary!\n",
      "Image saved to: local_model_outputs_classifier_prob_habitat_suitability_CCAP_NORTH_east_coast_USA_13_4000_1000_all_predictors_depth_None/output_2023-08-04-08_53_11_821.tif\n",
      "\n",
      "\n",
      "\n",
      "\n",
      "Starting image: /Users/margauxmforstyhe/Desktop/workspace/wetlands_labs/CCAP boundaries/north_east_coast/tiles_north_east_coast_ccap_mapping_bndry_gridded_50km_50km_classes_13_CCAP_scale30/inference_tiles_scale30_71.tif\n",
      "Image opened\n"
     ]
    },
    {
     "name": "stderr",
     "output_type": "stream",
     "text": [
      "[Parallel(n_jobs=12)]: Using backend ThreadingBackend with 12 concurrent workers.\n",
      "[Parallel(n_jobs=12)]: Done  26 tasks      | elapsed:    1.5s\n",
      "[Parallel(n_jobs=12)]: Done 100 out of 100 | elapsed:    4.1s finished\n"
     ]
    },
    {
     "name": "stdout",
     "output_type": "stream",
     "text": [
      "Class prediction was successful without slicing!\n",
      "No slicing was necessary!\n",
      "Image saved to: local_model_outputs_classifier_prob_habitat_suitability_CCAP_NORTH_east_coast_USA_13_4000_1000_all_predictors_depth_None/output_2023-08-04-08_53_16_822.tif\n",
      "\n",
      "\n",
      "\n",
      "\n",
      "Starting image: /Users/margauxmforstyhe/Desktop/workspace/wetlands_labs/CCAP boundaries/north_east_coast/tiles_north_east_coast_ccap_mapping_bndry_gridded_50km_50km_classes_13_CCAP_scale30/inference_tiles_scale30_372.tif\n",
      "Image opened\n"
     ]
    },
    {
     "name": "stderr",
     "output_type": "stream",
     "text": [
      "[Parallel(n_jobs=12)]: Using backend ThreadingBackend with 12 concurrent workers.\n",
      "[Parallel(n_jobs=12)]: Done  26 tasks      | elapsed:    2.5s\n",
      "[Parallel(n_jobs=12)]: Done 100 out of 100 | elapsed:    6.3s finished\n"
     ]
    },
    {
     "name": "stdout",
     "output_type": "stream",
     "text": [
      "Class prediction was successful without slicing!\n",
      "No slicing was necessary!\n",
      "Image saved to: local_model_outputs_classifier_prob_habitat_suitability_CCAP_NORTH_east_coast_USA_13_4000_1000_all_predictors_depth_None/output_2023-08-04-08_53_24_823.tif\n",
      "\n",
      "\n",
      "\n",
      "\n",
      "Starting image: /Users/margauxmforstyhe/Desktop/workspace/wetlands_labs/CCAP boundaries/north_east_coast/tiles_north_east_coast_ccap_mapping_bndry_gridded_50km_50km_classes_13_CCAP_scale30/inference_tiles_scale30_65.tif\n",
      "Image opened\n"
     ]
    },
    {
     "name": "stderr",
     "output_type": "stream",
     "text": [
      "[Parallel(n_jobs=12)]: Using backend ThreadingBackend with 12 concurrent workers.\n",
      "[Parallel(n_jobs=12)]: Done  26 tasks      | elapsed:    1.3s\n",
      "[Parallel(n_jobs=12)]: Done 100 out of 100 | elapsed:    3.8s finished\n"
     ]
    },
    {
     "name": "stdout",
     "output_type": "stream",
     "text": [
      "Class prediction was successful without slicing!\n",
      "No slicing was necessary!\n",
      "Image saved to: local_model_outputs_classifier_prob_habitat_suitability_CCAP_NORTH_east_coast_USA_13_4000_1000_all_predictors_depth_None/output_2023-08-04-08_53_28_824.tif\n",
      "\n",
      "\n",
      "\n",
      "\n",
      "Starting image: /Users/margauxmforstyhe/Desktop/workspace/wetlands_labs/CCAP boundaries/north_east_coast/tiles_north_east_coast_ccap_mapping_bndry_gridded_50km_50km_classes_13_CCAP_scale30/inference_tiles_scale30_366.tif\n",
      "Image opened\n"
     ]
    },
    {
     "name": "stderr",
     "output_type": "stream",
     "text": [
      "[Parallel(n_jobs=12)]: Using backend ThreadingBackend with 12 concurrent workers.\n",
      "[Parallel(n_jobs=12)]: Done  26 tasks      | elapsed:    1.7s\n",
      "[Parallel(n_jobs=12)]: Done 100 out of 100 | elapsed:    5.0s finished\n"
     ]
    },
    {
     "name": "stdout",
     "output_type": "stream",
     "text": [
      "Class prediction was successful without slicing!\n",
      "No slicing was necessary!\n",
      "Image saved to: local_model_outputs_classifier_prob_habitat_suitability_CCAP_NORTH_east_coast_USA_13_4000_1000_all_predictors_depth_None/output_2023-08-04-08_53_34_825.tif\n",
      "\n",
      "\n",
      "\n",
      "\n",
      "Starting image: /Users/margauxmforstyhe/Desktop/workspace/wetlands_labs/CCAP boundaries/north_east_coast/tiles_north_east_coast_ccap_mapping_bndry_gridded_50km_50km_classes_13_CCAP_scale30/inference_tiles_scale30_400.tif\n",
      "Image opened\n"
     ]
    },
    {
     "name": "stderr",
     "output_type": "stream",
     "text": [
      "[Parallel(n_jobs=12)]: Using backend ThreadingBackend with 12 concurrent workers.\n",
      "[Parallel(n_jobs=12)]: Done  26 tasks      | elapsed:    1.5s\n",
      "[Parallel(n_jobs=12)]: Done 100 out of 100 | elapsed:    4.2s finished\n"
     ]
    },
    {
     "name": "stdout",
     "output_type": "stream",
     "text": [
      "Class prediction was successful without slicing!\n",
      "No slicing was necessary!\n",
      "Image saved to: local_model_outputs_classifier_prob_habitat_suitability_CCAP_NORTH_east_coast_USA_13_4000_1000_all_predictors_depth_None/output_2023-08-04-08_53_39_826.tif\n",
      "\n",
      "\n",
      "\n",
      "\n",
      "Starting image: /Users/margauxmforstyhe/Desktop/workspace/wetlands_labs/CCAP boundaries/north_east_coast/tiles_north_east_coast_ccap_mapping_bndry_gridded_50km_50km_classes_13_CCAP_scale30/inference_tiles_scale30_428.tif\n",
      "Image opened\n"
     ]
    },
    {
     "name": "stderr",
     "output_type": "stream",
     "text": [
      "[Parallel(n_jobs=12)]: Using backend ThreadingBackend with 12 concurrent workers.\n",
      "[Parallel(n_jobs=12)]: Done  26 tasks      | elapsed:    1.7s\n",
      "[Parallel(n_jobs=12)]: Done 100 out of 100 | elapsed:    5.5s finished\n"
     ]
    },
    {
     "name": "stdout",
     "output_type": "stream",
     "text": [
      "Class prediction was successful without slicing!\n",
      "No slicing was necessary!\n",
      "Image saved to: local_model_outputs_classifier_prob_habitat_suitability_CCAP_NORTH_east_coast_USA_13_4000_1000_all_predictors_depth_None/output_2023-08-04-08_53_46_827.tif\n",
      "\n",
      "\n",
      "\n",
      "\n",
      "Starting image: /Users/margauxmforstyhe/Desktop/workspace/wetlands_labs/CCAP boundaries/north_east_coast/tiles_north_east_coast_ccap_mapping_bndry_gridded_50km_50km_classes_13_CCAP_scale30/inference_tiles_scale30_59.tif\n",
      "Image opened\n"
     ]
    },
    {
     "name": "stderr",
     "output_type": "stream",
     "text": [
      "[Parallel(n_jobs=12)]: Using backend ThreadingBackend with 12 concurrent workers.\n",
      "[Parallel(n_jobs=12)]: Done  26 tasks      | elapsed:    2.3s\n",
      "[Parallel(n_jobs=12)]: Done 100 out of 100 | elapsed:    6.7s finished\n"
     ]
    },
    {
     "name": "stdout",
     "output_type": "stream",
     "text": [
      "Class prediction was successful without slicing!\n",
      "No slicing was necessary!\n",
      "Image saved to: local_model_outputs_classifier_prob_habitat_suitability_CCAP_NORTH_east_coast_USA_13_4000_1000_all_predictors_depth_None/output_2023-08-04-08_53_54_828.tif\n",
      "\n",
      "\n",
      "\n",
      "\n",
      "Starting image: /Users/margauxmforstyhe/Desktop/workspace/wetlands_labs/CCAP boundaries/north_east_coast/tiles_north_east_coast_ccap_mapping_bndry_gridded_50km_50km_classes_13_CCAP_scale30/inference_tiles_scale30_404.tif\n",
      "Image opened\n"
     ]
    },
    {
     "name": "stderr",
     "output_type": "stream",
     "text": [
      "[Parallel(n_jobs=12)]: Using backend ThreadingBackend with 12 concurrent workers.\n",
      "[Parallel(n_jobs=12)]: Done  26 tasks      | elapsed:    1.6s\n",
      "[Parallel(n_jobs=12)]: Done 100 out of 100 | elapsed:    4.7s finished\n"
     ]
    },
    {
     "name": "stdout",
     "output_type": "stream",
     "text": [
      "Class prediction was successful without slicing!\n",
      "No slicing was necessary!\n",
      "Image saved to: local_model_outputs_classifier_prob_habitat_suitability_CCAP_NORTH_east_coast_USA_13_4000_1000_all_predictors_depth_None/output_2023-08-04-08_53_59_829.tif\n",
      "\n",
      "\n",
      "\n",
      "\n",
      "Starting image: /Users/margauxmforstyhe/Desktop/workspace/wetlands_labs/CCAP boundaries/north_east_coast/tiles_north_east_coast_ccap_mapping_bndry_gridded_50km_50km_classes_13_CCAP_scale30/inference_tiles_scale30_362.tif\n",
      "Image opened\n"
     ]
    },
    {
     "name": "stderr",
     "output_type": "stream",
     "text": [
      "[Parallel(n_jobs=12)]: Using backend ThreadingBackend with 12 concurrent workers.\n",
      "[Parallel(n_jobs=12)]: Done  26 tasks      | elapsed:    2.1s\n",
      "[Parallel(n_jobs=12)]: Done 100 out of 100 | elapsed:    6.2s finished\n"
     ]
    },
    {
     "name": "stdout",
     "output_type": "stream",
     "text": [
      "Class prediction was successful without slicing!\n",
      "No slicing was necessary!\n",
      "Image saved to: local_model_outputs_classifier_prob_habitat_suitability_CCAP_NORTH_east_coast_USA_13_4000_1000_all_predictors_depth_None/output_2023-08-04-08_54_07_830.tif\n",
      "\n",
      "\n",
      "\n",
      "\n",
      "Starting image: /Users/margauxmforstyhe/Desktop/workspace/wetlands_labs/CCAP boundaries/north_east_coast/tiles_north_east_coast_ccap_mapping_bndry_gridded_50km_50km_classes_13_CCAP_scale30/inference_tiles_scale30_61.tif\n",
      "Image opened\n"
     ]
    },
    {
     "name": "stderr",
     "output_type": "stream",
     "text": [
      "[Parallel(n_jobs=12)]: Using backend ThreadingBackend with 12 concurrent workers.\n",
      "[Parallel(n_jobs=12)]: Done  26 tasks      | elapsed:    0.2s\n",
      "[Parallel(n_jobs=12)]: Done 100 out of 100 | elapsed:    0.7s finished\n"
     ]
    },
    {
     "name": "stdout",
     "output_type": "stream",
     "text": [
      "Class prediction was successful without slicing!\n",
      "No slicing was necessary!\n",
      "Image saved to: local_model_outputs_classifier_prob_habitat_suitability_CCAP_NORTH_east_coast_USA_13_4000_1000_all_predictors_depth_None/output_2023-08-04-08_54_08_831.tif\n",
      "\n",
      "\n",
      "\n",
      "\n",
      "Starting image: /Users/margauxmforstyhe/Desktop/workspace/wetlands_labs/CCAP boundaries/north_east_coast/tiles_north_east_coast_ccap_mapping_bndry_gridded_50km_50km_classes_13_CCAP_scale30/inference_tiles_scale30_376.tif\n",
      "Image opened\n"
     ]
    },
    {
     "name": "stderr",
     "output_type": "stream",
     "text": [
      "[Parallel(n_jobs=12)]: Using backend ThreadingBackend with 12 concurrent workers.\n",
      "[Parallel(n_jobs=12)]: Done  26 tasks      | elapsed:    0.5s\n",
      "[Parallel(n_jobs=12)]: Done 100 out of 100 | elapsed:    1.8s finished\n",
      "[Parallel(n_jobs=12)]: Using backend ThreadingBackend with 12 concurrent workers.\n",
      "[Parallel(n_jobs=12)]: Done  26 tasks      | elapsed:    0.0s\n",
      "[Parallel(n_jobs=12)]: Done 100 out of 100 | elapsed:    0.0s finished\n"
     ]
    },
    {
     "name": "stdout",
     "output_type": "stream",
     "text": [
      "Class prediction was successful without slicing!\n",
      "No slicing was necessary!\n",
      "Image saved to: local_model_outputs_classifier_prob_habitat_suitability_CCAP_NORTH_east_coast_USA_13_4000_1000_all_predictors_depth_None/output_2023-08-04-08_54_09_832.tif\n",
      "\n",
      "\n",
      "\n",
      "\n",
      "Starting image: /Users/margauxmforstyhe/Desktop/workspace/wetlands_labs/CCAP boundaries/north_east_coast/tiles_north_east_coast_ccap_mapping_bndry_gridded_50km_50km_classes_13_CCAP_scale30/inference_tiles_scale30_75.tif\n",
      "Image opened\n",
      "Class prediction was successful without slicing!\n",
      "No slicing was necessary!\n",
      "Image saved to: local_model_outputs_classifier_prob_habitat_suitability_CCAP_NORTH_east_coast_USA_13_4000_1000_all_predictors_depth_None/output_2023-08-04-08_54_10_833.tif\n",
      "\n",
      "\n",
      "\n",
      "\n",
      "Starting image: /Users/margauxmforstyhe/Desktop/workspace/wetlands_labs/CCAP boundaries/north_east_coast/tiles_north_east_coast_ccap_mapping_bndry_gridded_50km_50km_classes_13_CCAP_scale30/inference_tiles_scale30_410.tif\n",
      "Image opened\n"
     ]
    },
    {
     "name": "stderr",
     "output_type": "stream",
     "text": [
      "[Parallel(n_jobs=12)]: Using backend ThreadingBackend with 12 concurrent workers.\n",
      "[Parallel(n_jobs=12)]: Done  26 tasks      | elapsed:    2.3s\n",
      "[Parallel(n_jobs=12)]: Done 100 out of 100 | elapsed:    5.9s finished\n"
     ]
    },
    {
     "name": "stdout",
     "output_type": "stream",
     "text": [
      "Class prediction was successful without slicing!\n",
      "No slicing was necessary!\n",
      "Image saved to: local_model_outputs_classifier_prob_habitat_suitability_CCAP_NORTH_east_coast_USA_13_4000_1000_all_predictors_depth_None/output_2023-08-04-08_54_16_834.tif\n",
      "\n",
      "\n",
      "\n",
      "\n",
      "Starting image: /Users/margauxmforstyhe/Desktop/workspace/wetlands_labs/CCAP boundaries/north_east_coast/tiles_north_east_coast_ccap_mapping_bndry_gridded_50km_50km_classes_13_CCAP_scale30/inference_tiles_scale30_438.tif\n",
      "Image opened\n"
     ]
    },
    {
     "name": "stderr",
     "output_type": "stream",
     "text": [
      "[Parallel(n_jobs=12)]: Using backend ThreadingBackend with 12 concurrent workers.\n",
      "[Parallel(n_jobs=12)]: Done  26 tasks      | elapsed:    0.6s\n",
      "[Parallel(n_jobs=12)]: Done 100 out of 100 | elapsed:    1.8s finished\n"
     ]
    },
    {
     "name": "stdout",
     "output_type": "stream",
     "text": [
      "Class prediction was successful without slicing!\n",
      "No slicing was necessary!\n",
      "Image saved to: local_model_outputs_classifier_prob_habitat_suitability_CCAP_NORTH_east_coast_USA_13_4000_1000_all_predictors_depth_None/output_2023-08-04-08_54_19_835.tif\n",
      "\n",
      "\n",
      "\n",
      "\n",
      "Starting image: /Users/margauxmforstyhe/Desktop/workspace/wetlands_labs/CCAP boundaries/north_east_coast/tiles_north_east_coast_ccap_mapping_bndry_gridded_50km_50km_classes_13_CCAP_scale30/inference_tiles_scale30_49.tif\n",
      "Image opened\n"
     ]
    },
    {
     "name": "stderr",
     "output_type": "stream",
     "text": [
      "[Parallel(n_jobs=12)]: Using backend ThreadingBackend with 12 concurrent workers.\n",
      "[Parallel(n_jobs=12)]: Done  26 tasks      | elapsed:    1.6s\n",
      "[Parallel(n_jobs=12)]: Done 100 out of 100 | elapsed:    4.6s finished\n"
     ]
    },
    {
     "name": "stdout",
     "output_type": "stream",
     "text": [
      "Class prediction was successful without slicing!\n",
      "No slicing was necessary!\n",
      "Image saved to: local_model_outputs_classifier_prob_habitat_suitability_CCAP_NORTH_east_coast_USA_13_4000_1000_all_predictors_depth_None/output_2023-08-04-08_54_24_836.tif\n",
      "\n",
      "\n",
      "\n",
      "\n",
      "Starting image: /Users/margauxmforstyhe/Desktop/workspace/wetlands_labs/CCAP boundaries/north_east_coast/tiles_north_east_coast_ccap_mapping_bndry_gridded_50km_50km_classes_13_CCAP_scale30/inference_tiles_scale30_389.tif\n",
      "Image opened\n"
     ]
    },
    {
     "name": "stderr",
     "output_type": "stream",
     "text": [
      "[Parallel(n_jobs=12)]: Using backend ThreadingBackend with 12 concurrent workers.\n",
      "[Parallel(n_jobs=12)]: Done  26 tasks      | elapsed:    1.2s\n",
      "[Parallel(n_jobs=12)]: Done 100 out of 100 | elapsed:    3.6s finished\n"
     ]
    },
    {
     "name": "stdout",
     "output_type": "stream",
     "text": [
      "Class prediction was successful without slicing!\n",
      "No slicing was necessary!\n",
      "Image saved to: local_model_outputs_classifier_prob_habitat_suitability_CCAP_NORTH_east_coast_USA_13_4000_1000_all_predictors_depth_None/output_2023-08-04-08_54_29_837.tif\n",
      "\n",
      "\n",
      "\n",
      "\n",
      "Starting image: /Users/margauxmforstyhe/Desktop/workspace/wetlands_labs/CCAP boundaries/north_east_coast/tiles_north_east_coast_ccap_mapping_bndry_gridded_50km_50km_classes_13_CCAP_scale30/inference_tiles_scale30_160.tif\n",
      "Image opened\n"
     ]
    },
    {
     "name": "stderr",
     "output_type": "stream",
     "text": [
      "[Parallel(n_jobs=12)]: Using backend ThreadingBackend with 12 concurrent workers.\n",
      "[Parallel(n_jobs=12)]: Done  26 tasks      | elapsed:    0.8s\n",
      "[Parallel(n_jobs=12)]: Done 100 out of 100 | elapsed:    2.3s finished\n"
     ]
    },
    {
     "name": "stdout",
     "output_type": "stream",
     "text": [
      "Class prediction was successful without slicing!\n",
      "No slicing was necessary!\n",
      "Image saved to: local_model_outputs_classifier_prob_habitat_suitability_CCAP_NORTH_east_coast_USA_13_4000_1000_all_predictors_depth_None/output_2023-08-04-08_54_32_838.tif\n",
      "\n",
      "\n",
      "\n",
      "\n",
      "Starting image: /Users/margauxmforstyhe/Desktop/workspace/wetlands_labs/CCAP boundaries/north_east_coast/tiles_north_east_coast_ccap_mapping_bndry_gridded_50km_50km_classes_13_CCAP_scale30/inference_tiles_scale30_606.tif\n",
      "Image opened\n"
     ]
    },
    {
     "name": "stderr",
     "output_type": "stream",
     "text": [
      "[Parallel(n_jobs=12)]: Using backend ThreadingBackend with 12 concurrent workers.\n",
      "[Parallel(n_jobs=12)]: Done  26 tasks      | elapsed:    0.9s\n",
      "[Parallel(n_jobs=12)]: Done 100 out of 100 | elapsed:    2.5s finished\n"
     ]
    },
    {
     "name": "stdout",
     "output_type": "stream",
     "text": [
      "Class prediction was successful without slicing!\n",
      "No slicing was necessary!\n",
      "Image saved to: local_model_outputs_classifier_prob_habitat_suitability_CCAP_NORTH_east_coast_USA_13_4000_1000_all_predictors_depth_None/output_2023-08-04-08_54_35_839.tif\n",
      "\n",
      "\n",
      "\n",
      "\n",
      "Starting image: /Users/margauxmforstyhe/Desktop/workspace/wetlands_labs/CCAP boundaries/north_east_coast/tiles_north_east_coast_ccap_mapping_bndry_gridded_50km_50km_classes_13_CCAP_scale30/inference_tiles_scale30_612.tif\n",
      "Image opened\n"
     ]
    },
    {
     "name": "stderr",
     "output_type": "stream",
     "text": [
      "[Parallel(n_jobs=12)]: Using backend ThreadingBackend with 12 concurrent workers.\n",
      "[Parallel(n_jobs=12)]: Done  26 tasks      | elapsed:    1.3s\n",
      "[Parallel(n_jobs=12)]: Done 100 out of 100 | elapsed:    3.8s finished\n"
     ]
    },
    {
     "name": "stdout",
     "output_type": "stream",
     "text": [
      "Class prediction was successful without slicing!\n",
      "No slicing was necessary!\n",
      "Image saved to: local_model_outputs_classifier_prob_habitat_suitability_CCAP_NORTH_east_coast_USA_13_4000_1000_all_predictors_depth_None/output_2023-08-04-08_54_39_840.tif\n",
      "\n",
      "\n",
      "\n",
      "\n",
      "Starting image: /Users/margauxmforstyhe/Desktop/workspace/wetlands_labs/CCAP boundaries/north_east_coast/tiles_north_east_coast_ccap_mapping_bndry_gridded_50km_50km_classes_13_CCAP_scale30/inference_tiles_scale30_174.tif\n",
      "Image opened\n"
     ]
    },
    {
     "name": "stderr",
     "output_type": "stream",
     "text": [
      "[Parallel(n_jobs=12)]: Using backend ThreadingBackend with 12 concurrent workers.\n",
      "[Parallel(n_jobs=12)]: Done  26 tasks      | elapsed:    1.7s\n",
      "[Parallel(n_jobs=12)]: Done 100 out of 100 | elapsed:    5.2s finished\n"
     ]
    },
    {
     "name": "stdout",
     "output_type": "stream",
     "text": [
      "Class prediction was successful without slicing!\n",
      "No slicing was necessary!\n",
      "Image saved to: local_model_outputs_classifier_prob_habitat_suitability_CCAP_NORTH_east_coast_USA_13_4000_1000_all_predictors_depth_None/output_2023-08-04-08_54_45_841.tif\n",
      "\n",
      "\n",
      "\n",
      "\n",
      "Starting image: /Users/margauxmforstyhe/Desktop/workspace/wetlands_labs/CCAP boundaries/north_east_coast/tiles_north_east_coast_ccap_mapping_bndry_gridded_50km_50km_classes_13_CCAP_scale30/inference_tiles_scale30_148.tif\n",
      "Image opened\n"
     ]
    },
    {
     "name": "stderr",
     "output_type": "stream",
     "text": [
      "[Parallel(n_jobs=12)]: Using backend ThreadingBackend with 12 concurrent workers.\n",
      "[Parallel(n_jobs=12)]: Done  26 tasks      | elapsed:    0.4s\n",
      "[Parallel(n_jobs=12)]: Done 100 out of 100 | elapsed:    1.2s finished\n"
     ]
    },
    {
     "name": "stdout",
     "output_type": "stream",
     "text": [
      "Class prediction was successful without slicing!\n",
      "No slicing was necessary!\n",
      "Image saved to: local_model_outputs_classifier_prob_habitat_suitability_CCAP_NORTH_east_coast_USA_13_4000_1000_all_predictors_depth_None/output_2023-08-04-08_54_47_842.tif\n",
      "\n",
      "\n",
      "\n",
      "\n",
      "Starting image: /Users/margauxmforstyhe/Desktop/workspace/wetlands_labs/CCAP boundaries/north_east_coast/tiles_north_east_coast_ccap_mapping_bndry_gridded_50km_50km_classes_13_CCAP_scale30/inference_tiles_scale30_809.tif\n",
      "Image opened\n"
     ]
    },
    {
     "name": "stderr",
     "output_type": "stream",
     "text": [
      "[Parallel(n_jobs=12)]: Using backend ThreadingBackend with 12 concurrent workers.\n",
      "[Parallel(n_jobs=12)]: Done  26 tasks      | elapsed:    1.6s\n",
      "[Parallel(n_jobs=12)]: Done 100 out of 100 | elapsed:    4.5s finished\n"
     ]
    },
    {
     "name": "stdout",
     "output_type": "stream",
     "text": [
      "Class prediction was successful without slicing!\n",
      "No slicing was necessary!\n",
      "Image saved to: local_model_outputs_classifier_prob_habitat_suitability_CCAP_NORTH_east_coast_USA_13_4000_1000_all_predictors_depth_None/output_2023-08-04-08_54_52_843.tif\n",
      "\n",
      "\n",
      "\n",
      "\n",
      "Starting image: /Users/margauxmforstyhe/Desktop/workspace/wetlands_labs/CCAP boundaries/north_east_coast/tiles_north_east_coast_ccap_mapping_bndry_gridded_50km_50km_classes_13_CCAP_scale30/inference_tiles_scale30_821.tif\n",
      "Image opened\n"
     ]
    },
    {
     "name": "stderr",
     "output_type": "stream",
     "text": [
      "[Parallel(n_jobs=12)]: Using backend ThreadingBackend with 12 concurrent workers.\n",
      "[Parallel(n_jobs=12)]: Done  26 tasks      | elapsed:    0.4s\n",
      "[Parallel(n_jobs=12)]: Done 100 out of 100 | elapsed:    1.3s finished\n",
      "[Parallel(n_jobs=12)]: Using backend ThreadingBackend with 12 concurrent workers.\n"
     ]
    },
    {
     "name": "stdout",
     "output_type": "stream",
     "text": [
      "Class prediction was successful without slicing!\n",
      "No slicing was necessary!\n",
      "Image saved to: local_model_outputs_classifier_prob_habitat_suitability_CCAP_NORTH_east_coast_USA_13_4000_1000_all_predictors_depth_None/output_2023-08-04-08_54_54_844.tif\n",
      "\n",
      "\n",
      "\n",
      "\n",
      "Starting image: /Users/margauxmforstyhe/Desktop/workspace/wetlands_labs/CCAP boundaries/north_east_coast/tiles_north_east_coast_ccap_mapping_bndry_gridded_50km_50km_classes_13_CCAP_scale30/inference_tiles_scale30_835.tif\n",
      "Image opened\n"
     ]
    },
    {
     "name": "stderr",
     "output_type": "stream",
     "text": [
      "[Parallel(n_jobs=12)]: Done  26 tasks      | elapsed:    0.1s\n",
      "[Parallel(n_jobs=12)]: Done 100 out of 100 | elapsed:    0.3s finished\n"
     ]
    },
    {
     "name": "stdout",
     "output_type": "stream",
     "text": [
      "Class prediction was successful without slicing!\n",
      "No slicing was necessary!\n",
      "Image saved to: local_model_outputs_classifier_prob_habitat_suitability_CCAP_NORTH_east_coast_USA_13_4000_1000_all_predictors_depth_None/output_2023-08-04-08_54_54_845.tif\n",
      "\n",
      "\n",
      "\n",
      "\n",
      "Starting image: /Users/margauxmforstyhe/Desktop/workspace/wetlands_labs/CCAP boundaries/north_east_coast/tiles_north_east_coast_ccap_mapping_bndry_gridded_50km_50km_classes_13_CCAP_scale30/inference_tiles_scale30_772.tif\n",
      "Image opened\n"
     ]
    },
    {
     "name": "stderr",
     "output_type": "stream",
     "text": [
      "[Parallel(n_jobs=12)]: Using backend ThreadingBackend with 12 concurrent workers.\n",
      "[Parallel(n_jobs=12)]: Done  26 tasks      | elapsed:    1.3s\n",
      "[Parallel(n_jobs=12)]: Done 100 out of 100 | elapsed:    3.9s finished\n"
     ]
    },
    {
     "name": "stdout",
     "output_type": "stream",
     "text": [
      "Class prediction was successful without slicing!\n",
      "No slicing was necessary!\n",
      "Image saved to: local_model_outputs_classifier_prob_habitat_suitability_CCAP_NORTH_east_coast_USA_13_4000_1000_all_predictors_depth_None/output_2023-08-04-08_54_59_846.tif\n",
      "\n",
      "\n",
      "\n",
      "\n",
      "Starting image: /Users/margauxmforstyhe/Desktop/workspace/wetlands_labs/CCAP boundaries/north_east_coast/tiles_north_east_coast_ccap_mapping_bndry_gridded_50km_50km_classes_13_CCAP_scale30/inference_tiles_scale30_766.tif\n",
      "Image opened\n"
     ]
    },
    {
     "name": "stderr",
     "output_type": "stream",
     "text": [
      "[Parallel(n_jobs=12)]: Using backend ThreadingBackend with 12 concurrent workers.\n",
      "[Parallel(n_jobs=12)]: Done  26 tasks      | elapsed:    0.2s\n",
      "[Parallel(n_jobs=12)]: Done 100 out of 100 | elapsed:    0.7s finished\n"
     ]
    },
    {
     "name": "stdout",
     "output_type": "stream",
     "text": [
      "Class prediction was successful without slicing!\n",
      "No slicing was necessary!\n",
      "Image saved to: local_model_outputs_classifier_prob_habitat_suitability_CCAP_NORTH_east_coast_USA_13_4000_1000_all_predictors_depth_None/output_2023-08-04-08_55_00_847.tif\n",
      "\n",
      "\n",
      "\n",
      "\n",
      "Starting image: /Users/margauxmforstyhe/Desktop/workspace/wetlands_labs/CCAP boundaries/north_east_coast/tiles_north_east_coast_ccap_mapping_bndry_gridded_50km_50km_classes_13_CCAP_scale30/inference_tiles_scale30_799.tif\n",
      "Image opened\n"
     ]
    },
    {
     "name": "stderr",
     "output_type": "stream",
     "text": [
      "[Parallel(n_jobs=12)]: Using backend ThreadingBackend with 12 concurrent workers.\n",
      "[Parallel(n_jobs=12)]: Done  26 tasks      | elapsed:    0.6s\n",
      "[Parallel(n_jobs=12)]: Done 100 out of 100 | elapsed:    1.9s finished\n"
     ]
    },
    {
     "name": "stdout",
     "output_type": "stream",
     "text": [
      "Class prediction was successful without slicing!\n",
      "No slicing was necessary!\n",
      "Image saved to: local_model_outputs_classifier_prob_habitat_suitability_CCAP_NORTH_east_coast_USA_13_4000_1000_all_predictors_depth_None/output_2023-08-04-08_55_02_848.tif\n",
      "\n",
      "\n",
      "\n",
      "\n",
      "Starting image: /Users/margauxmforstyhe/Desktop/workspace/wetlands_labs/CCAP boundaries/north_east_coast/tiles_north_east_coast_ccap_mapping_bndry_gridded_50km_50km_classes_13_CCAP_scale30/inference_tiles_scale30_570.tif\n",
      "Image opened\n"
     ]
    },
    {
     "name": "stderr",
     "output_type": "stream",
     "text": [
      "[Parallel(n_jobs=12)]: Using backend ThreadingBackend with 12 concurrent workers.\n",
      "[Parallel(n_jobs=12)]: Done  26 tasks      | elapsed:    2.2s\n",
      "[Parallel(n_jobs=12)]: Done 100 out of 100 | elapsed:    6.2s finished\n"
     ]
    },
    {
     "name": "stdout",
     "output_type": "stream",
     "text": [
      "Class prediction was successful without slicing!\n",
      "No slicing was necessary!\n",
      "Image saved to: local_model_outputs_classifier_prob_habitat_suitability_CCAP_NORTH_east_coast_USA_13_4000_1000_all_predictors_depth_None/output_2023-08-04-08_55_09_849.tif\n",
      "\n",
      "\n",
      "\n",
      "\n",
      "Starting image: /Users/margauxmforstyhe/Desktop/workspace/wetlands_labs/CCAP boundaries/north_east_coast/tiles_north_east_coast_ccap_mapping_bndry_gridded_50km_50km_classes_13_CCAP_scale30/inference_tiles_scale30_216.tif\n",
      "Image opened\n"
     ]
    },
    {
     "name": "stderr",
     "output_type": "stream",
     "text": [
      "[Parallel(n_jobs=12)]: Using backend ThreadingBackend with 12 concurrent workers.\n",
      "[Parallel(n_jobs=12)]: Done  26 tasks      | elapsed:    0.3s\n",
      "[Parallel(n_jobs=12)]: Done 100 out of 100 | elapsed:    1.0s finished\n"
     ]
    },
    {
     "name": "stdout",
     "output_type": "stream",
     "text": [
      "Class prediction was successful without slicing!\n",
      "No slicing was necessary!\n",
      "Image saved to: local_model_outputs_classifier_prob_habitat_suitability_CCAP_NORTH_east_coast_USA_13_4000_1000_all_predictors_depth_None/output_2023-08-04-08_55_11_850.tif\n",
      "\n",
      "\n",
      "\n",
      "\n",
      "Starting image: /Users/margauxmforstyhe/Desktop/workspace/wetlands_labs/CCAP boundaries/north_east_coast/tiles_north_east_coast_ccap_mapping_bndry_gridded_50km_50km_classes_13_CCAP_scale30/inference_tiles_scale30_202.tif\n",
      "Image opened\n"
     ]
    },
    {
     "name": "stderr",
     "output_type": "stream",
     "text": [
      "[Parallel(n_jobs=12)]: Using backend ThreadingBackend with 12 concurrent workers.\n",
      "[Parallel(n_jobs=12)]: Done  26 tasks      | elapsed:    2.2s\n",
      "[Parallel(n_jobs=12)]: Done 100 out of 100 | elapsed:    6.4s finished\n"
     ]
    },
    {
     "name": "stdout",
     "output_type": "stream",
     "text": [
      "Class prediction was successful without slicing!\n",
      "No slicing was necessary!\n",
      "Image saved to: local_model_outputs_classifier_prob_habitat_suitability_CCAP_NORTH_east_coast_USA_13_4000_1000_all_predictors_depth_None/output_2023-08-04-08_55_18_851.tif\n",
      "\n",
      "\n",
      "\n",
      "\n",
      "Starting image: /Users/margauxmforstyhe/Desktop/workspace/wetlands_labs/CCAP boundaries/north_east_coast/tiles_north_east_coast_ccap_mapping_bndry_gridded_50km_50km_classes_13_CCAP_scale30/inference_tiles_scale30_564.tif\n",
      "Image opened\n"
     ]
    },
    {
     "name": "stderr",
     "output_type": "stream",
     "text": [
      "[Parallel(n_jobs=12)]: Using backend ThreadingBackend with 12 concurrent workers.\n",
      "[Parallel(n_jobs=12)]: Done  26 tasks      | elapsed:    1.0s\n",
      "[Parallel(n_jobs=12)]: Done 100 out of 100 | elapsed:    3.0s finished\n"
     ]
    },
    {
     "name": "stdout",
     "output_type": "stream",
     "text": [
      "Class prediction was successful without slicing!\n",
      "No slicing was necessary!\n",
      "Image saved to: local_model_outputs_classifier_prob_habitat_suitability_CCAP_NORTH_east_coast_USA_13_4000_1000_all_predictors_depth_None/output_2023-08-04-08_55_22_852.tif\n",
      "\n",
      "\n",
      "\n",
      "\n",
      "Starting image: /Users/margauxmforstyhe/Desktop/workspace/wetlands_labs/CCAP boundaries/north_east_coast/tiles_north_east_coast_ccap_mapping_bndry_gridded_50km_50km_classes_13_CCAP_scale30/inference_tiles_scale30_7.tif\n",
      "Image opened\n"
     ]
    },
    {
     "name": "stderr",
     "output_type": "stream",
     "text": [
      "[Parallel(n_jobs=12)]: Using backend ThreadingBackend with 12 concurrent workers.\n",
      "[Parallel(n_jobs=12)]: Done  26 tasks      | elapsed:    0.7s\n",
      "[Parallel(n_jobs=12)]: Done 100 out of 100 | elapsed:    2.1s finished\n",
      "[Parallel(n_jobs=12)]: Using backend ThreadingBackend with 12 concurrent workers.\n",
      "[Parallel(n_jobs=12)]: Done  26 tasks      | elapsed:    0.0s\n"
     ]
    },
    {
     "name": "stdout",
     "output_type": "stream",
     "text": [
      "Class prediction was successful without slicing!\n",
      "No slicing was necessary!\n",
      "Image saved to: local_model_outputs_classifier_prob_habitat_suitability_CCAP_NORTH_east_coast_USA_13_4000_1000_all_predictors_depth_None/output_2023-08-04-08_55_24_853.tif\n",
      "\n",
      "\n",
      "\n",
      "\n",
      "Starting image: /Users/margauxmforstyhe/Desktop/workspace/wetlands_labs/CCAP boundaries/north_east_coast/tiles_north_east_coast_ccap_mapping_bndry_gridded_50km_50km_classes_13_CCAP_scale30/inference_tiles_scale30_558.tif\n",
      "Image opened\n"
     ]
    },
    {
     "name": "stderr",
     "output_type": "stream",
     "text": [
      "[Parallel(n_jobs=12)]: Done 100 out of 100 | elapsed:    0.1s finished\n"
     ]
    },
    {
     "name": "stdout",
     "output_type": "stream",
     "text": [
      "Class prediction was successful without slicing!\n",
      "No slicing was necessary!\n",
      "Image saved to: local_model_outputs_classifier_prob_habitat_suitability_CCAP_NORTH_east_coast_USA_13_4000_1000_all_predictors_depth_None/output_2023-08-04-08_55_25_854.tif\n",
      "\n",
      "\n",
      "\n",
      "\n",
      "Starting image: /Users/margauxmforstyhe/Desktop/workspace/wetlands_labs/CCAP boundaries/north_east_coast/tiles_north_east_coast_ccap_mapping_bndry_gridded_50km_50km_classes_13_CCAP_scale30/inference_tiles_scale30_559.tif\n",
      "Image opened\n"
     ]
    },
    {
     "name": "stderr",
     "output_type": "stream",
     "text": [
      "[Parallel(n_jobs=12)]: Using backend ThreadingBackend with 12 concurrent workers.\n",
      "[Parallel(n_jobs=12)]: Done  26 tasks      | elapsed:    1.6s\n",
      "[Parallel(n_jobs=12)]: Done 100 out of 100 | elapsed:    3.8s finished\n"
     ]
    },
    {
     "name": "stdout",
     "output_type": "stream",
     "text": [
      "Class prediction was successful without slicing!\n",
      "No slicing was necessary!\n",
      "Image saved to: local_model_outputs_classifier_prob_habitat_suitability_CCAP_NORTH_east_coast_USA_13_4000_1000_all_predictors_depth_None/output_2023-08-04-08_55_29_855.tif\n",
      "\n",
      "\n",
      "\n",
      "\n",
      "Starting image: /Users/margauxmforstyhe/Desktop/workspace/wetlands_labs/CCAP boundaries/north_east_coast/tiles_north_east_coast_ccap_mapping_bndry_gridded_50km_50km_classes_13_CCAP_scale30/inference_tiles_scale30_6.tif\n",
      "Image opened\n"
     ]
    },
    {
     "name": "stderr",
     "output_type": "stream",
     "text": [
      "[Parallel(n_jobs=12)]: Using backend ThreadingBackend with 12 concurrent workers.\n",
      "[Parallel(n_jobs=12)]: Done  26 tasks      | elapsed:    1.7s\n",
      "[Parallel(n_jobs=12)]: Done 100 out of 100 | elapsed:    6.2s finished\n"
     ]
    },
    {
     "name": "stdout",
     "output_type": "stream",
     "text": [
      "Class prediction was successful without slicing!\n",
      "No slicing was necessary!\n",
      "Image saved to: local_model_outputs_classifier_prob_habitat_suitability_CCAP_NORTH_east_coast_USA_13_4000_1000_all_predictors_depth_None/output_2023-08-04-08_55_36_856.tif\n",
      "\n",
      "\n",
      "\n",
      "\n",
      "Starting image: /Users/margauxmforstyhe/Desktop/workspace/wetlands_labs/CCAP boundaries/north_east_coast/tiles_north_east_coast_ccap_mapping_bndry_gridded_50km_50km_classes_13_CCAP_scale30/inference_tiles_scale30_203.tif\n",
      "Image opened\n"
     ]
    },
    {
     "name": "stderr",
     "output_type": "stream",
     "text": [
      "[Parallel(n_jobs=12)]: Using backend ThreadingBackend with 12 concurrent workers.\n",
      "[Parallel(n_jobs=12)]: Done  26 tasks      | elapsed:    6.4s\n",
      "[Parallel(n_jobs=12)]: Done 100 out of 100 | elapsed:   17.9s finished\n"
     ]
    },
    {
     "name": "stdout",
     "output_type": "stream",
     "text": [
      "Class prediction was successful without slicing!\n",
      "No slicing was necessary!\n",
      "Image saved to: local_model_outputs_classifier_prob_habitat_suitability_CCAP_NORTH_east_coast_USA_13_4000_1000_all_predictors_depth_None/output_2023-08-04-08_55_56_857.tif\n",
      "\n",
      "\n",
      "\n",
      "\n",
      "Starting image: /Users/margauxmforstyhe/Desktop/workspace/wetlands_labs/CCAP boundaries/north_east_coast/tiles_north_east_coast_ccap_mapping_bndry_gridded_50km_50km_classes_13_CCAP_scale30/inference_tiles_scale30_565.tif\n",
      "Image opened\n"
     ]
    },
    {
     "name": "stderr",
     "output_type": "stream",
     "text": [
      "[Parallel(n_jobs=12)]: Using backend ThreadingBackend with 12 concurrent workers.\n",
      "[Parallel(n_jobs=12)]: Done  26 tasks      | elapsed:    0.7s\n",
      "[Parallel(n_jobs=12)]: Done 100 out of 100 | elapsed:    2.0s finished\n"
     ]
    },
    {
     "name": "stdout",
     "output_type": "stream",
     "text": [
      "Class prediction was successful without slicing!\n",
      "No slicing was necessary!\n",
      "Image saved to: local_model_outputs_classifier_prob_habitat_suitability_CCAP_NORTH_east_coast_USA_13_4000_1000_all_predictors_depth_None/output_2023-08-04-08_55_58_858.tif\n",
      "\n",
      "\n",
      "\n",
      "\n",
      "Starting image: /Users/margauxmforstyhe/Desktop/workspace/wetlands_labs/CCAP boundaries/north_east_coast/tiles_north_east_coast_ccap_mapping_bndry_gridded_50km_50km_classes_13_CCAP_scale30/inference_tiles_scale30_571.tif\n",
      "Image opened\n"
     ]
    },
    {
     "name": "stderr",
     "output_type": "stream",
     "text": [
      "[Parallel(n_jobs=12)]: Using backend ThreadingBackend with 12 concurrent workers.\n",
      "[Parallel(n_jobs=12)]: Done  26 tasks      | elapsed:    4.4s\n",
      "[Parallel(n_jobs=12)]: Done 100 out of 100 | elapsed:   13.1s finished\n"
     ]
    },
    {
     "name": "stdout",
     "output_type": "stream",
     "text": [
      "Class prediction was successful without slicing!\n",
      "No slicing was necessary!\n",
      "Image saved to: local_model_outputs_classifier_prob_habitat_suitability_CCAP_NORTH_east_coast_USA_13_4000_1000_all_predictors_depth_None/output_2023-08-04-08_56_13_859.tif\n",
      "\n",
      "\n",
      "\n",
      "\n",
      "Starting image: /Users/margauxmforstyhe/Desktop/workspace/wetlands_labs/CCAP boundaries/north_east_coast/tiles_north_east_coast_ccap_mapping_bndry_gridded_50km_50km_classes_13_CCAP_scale30/inference_tiles_scale30_217.tif\n",
      "Image opened\n"
     ]
    },
    {
     "name": "stderr",
     "output_type": "stream",
     "text": [
      "[Parallel(n_jobs=12)]: Using backend ThreadingBackend with 12 concurrent workers.\n",
      "[Parallel(n_jobs=12)]: Done  26 tasks      | elapsed:    3.6s\n",
      "[Parallel(n_jobs=12)]: Done 100 out of 100 | elapsed:   10.5s finished\n"
     ]
    },
    {
     "name": "stdout",
     "output_type": "stream",
     "text": [
      "Class prediction was successful without slicing!\n",
      "No slicing was necessary!\n",
      "Image saved to: local_model_outputs_classifier_prob_habitat_suitability_CCAP_NORTH_east_coast_USA_13_4000_1000_all_predictors_depth_None/output_2023-08-04-08_56_25_860.tif\n",
      "\n",
      "\n",
      "\n",
      "\n",
      "Starting image: /Users/margauxmforstyhe/Desktop/workspace/wetlands_labs/CCAP boundaries/north_east_coast/tiles_north_east_coast_ccap_mapping_bndry_gridded_50km_50km_classes_13_CCAP_scale30/inference_tiles_scale30_798.tif\n",
      "Image opened\n"
     ]
    },
    {
     "name": "stderr",
     "output_type": "stream",
     "text": [
      "[Parallel(n_jobs=12)]: Using backend ThreadingBackend with 12 concurrent workers.\n",
      "[Parallel(n_jobs=12)]: Done  26 tasks      | elapsed:    3.2s\n",
      "[Parallel(n_jobs=12)]: Done 100 out of 100 | elapsed:   10.8s finished\n"
     ]
    },
    {
     "name": "stdout",
     "output_type": "stream",
     "text": [
      "Class prediction was successful without slicing!\n",
      "No slicing was necessary!\n",
      "Image saved to: local_model_outputs_classifier_prob_habitat_suitability_CCAP_NORTH_east_coast_USA_13_4000_1000_all_predictors_depth_None/output_2023-08-04-08_56_38_861.tif\n",
      "\n",
      "\n",
      "\n",
      "\n",
      "Starting image: /Users/margauxmforstyhe/Desktop/workspace/wetlands_labs/CCAP boundaries/north_east_coast/tiles_north_east_coast_ccap_mapping_bndry_gridded_50km_50km_classes_13_CCAP_scale30/inference_tiles_scale30_767.tif\n",
      "Image opened\n"
     ]
    },
    {
     "name": "stderr",
     "output_type": "stream",
     "text": [
      "[Parallel(n_jobs=12)]: Using backend ThreadingBackend with 12 concurrent workers.\n",
      "[Parallel(n_jobs=12)]: Done  26 tasks      | elapsed:    3.1s\n",
      "[Parallel(n_jobs=12)]: Done 100 out of 100 | elapsed:    8.9s finished\n"
     ]
    },
    {
     "name": "stdout",
     "output_type": "stream",
     "text": [
      "Class prediction was successful without slicing!\n",
      "No slicing was necessary!\n",
      "Image saved to: local_model_outputs_classifier_prob_habitat_suitability_CCAP_NORTH_east_coast_USA_13_4000_1000_all_predictors_depth_None/output_2023-08-04-08_56_48_862.tif\n",
      "\n",
      "\n",
      "\n",
      "\n",
      "Starting image: /Users/margauxmforstyhe/Desktop/workspace/wetlands_labs/CCAP boundaries/north_east_coast/tiles_north_east_coast_ccap_mapping_bndry_gridded_50km_50km_classes_13_CCAP_scale30/inference_tiles_scale30_773.tif\n",
      "Image opened\n"
     ]
    },
    {
     "name": "stderr",
     "output_type": "stream",
     "text": [
      "[Parallel(n_jobs=12)]: Using backend ThreadingBackend with 12 concurrent workers.\n",
      "[Parallel(n_jobs=12)]: Done  26 tasks      | elapsed:    3.5s\n",
      "[Parallel(n_jobs=12)]: Done 100 out of 100 | elapsed:    8.8s finished\n"
     ]
    },
    {
     "name": "stdout",
     "output_type": "stream",
     "text": [
      "Class prediction was successful without slicing!\n",
      "No slicing was necessary!\n",
      "Image saved to: local_model_outputs_classifier_prob_habitat_suitability_CCAP_NORTH_east_coast_USA_13_4000_1000_all_predictors_depth_None/output_2023-08-04-08_56_58_863.tif\n",
      "\n",
      "\n",
      "\n",
      "\n",
      "Starting image: /Users/margauxmforstyhe/Desktop/workspace/wetlands_labs/CCAP boundaries/north_east_coast/tiles_north_east_coast_ccap_mapping_bndry_gridded_50km_50km_classes_13_CCAP_scale30/inference_tiles_scale30_834.tif\n",
      "Image opened\n"
     ]
    },
    {
     "name": "stderr",
     "output_type": "stream",
     "text": [
      "[Parallel(n_jobs=12)]: Using backend ThreadingBackend with 12 concurrent workers.\n",
      "[Parallel(n_jobs=12)]: Done  26 tasks      | elapsed:    5.5s\n",
      "[Parallel(n_jobs=12)]: Done 100 out of 100 | elapsed:   15.6s finished\n"
     ]
    },
    {
     "name": "stdout",
     "output_type": "stream",
     "text": [
      "Class prediction was successful without slicing!\n",
      "No slicing was necessary!\n",
      "Image saved to: local_model_outputs_classifier_prob_habitat_suitability_CCAP_NORTH_east_coast_USA_13_4000_1000_all_predictors_depth_None/output_2023-08-04-08_57_16_864.tif\n",
      "\n",
      "\n",
      "\n",
      "\n",
      "Starting image: /Users/margauxmforstyhe/Desktop/workspace/wetlands_labs/CCAP boundaries/north_east_coast/tiles_north_east_coast_ccap_mapping_bndry_gridded_50km_50km_classes_13_CCAP_scale30/inference_tiles_scale30_820.tif\n",
      "Image opened\n"
     ]
    },
    {
     "name": "stderr",
     "output_type": "stream",
     "text": [
      "[Parallel(n_jobs=12)]: Using backend ThreadingBackend with 12 concurrent workers.\n",
      "[Parallel(n_jobs=12)]: Done  26 tasks      | elapsed:    4.0s\n",
      "[Parallel(n_jobs=12)]: Done 100 out of 100 | elapsed:    9.7s finished\n"
     ]
    },
    {
     "name": "stdout",
     "output_type": "stream",
     "text": [
      "Class prediction was successful without slicing!\n",
      "No slicing was necessary!\n",
      "Image saved to: local_model_outputs_classifier_prob_habitat_suitability_CCAP_NORTH_east_coast_USA_13_4000_1000_all_predictors_depth_None/output_2023-08-04-08_57_27_865.tif\n",
      "\n",
      "\n",
      "\n",
      "\n",
      "Starting image: /Users/margauxmforstyhe/Desktop/workspace/wetlands_labs/CCAP boundaries/north_east_coast/tiles_north_east_coast_ccap_mapping_bndry_gridded_50km_50km_classes_13_CCAP_scale30/inference_tiles_scale30_808.tif\n",
      "Image opened\n"
     ]
    },
    {
     "name": "stderr",
     "output_type": "stream",
     "text": [
      "[Parallel(n_jobs=12)]: Using backend ThreadingBackend with 12 concurrent workers.\n",
      "[Parallel(n_jobs=12)]: Done  26 tasks      | elapsed:    6.1s\n",
      "[Parallel(n_jobs=12)]: Done 100 out of 100 | elapsed:   19.8s finished\n"
     ]
    },
    {
     "name": "stdout",
     "output_type": "stream",
     "text": [
      "Class prediction was successful without slicing!\n",
      "No slicing was necessary!\n",
      "Image saved to: local_model_outputs_classifier_prob_habitat_suitability_CCAP_NORTH_east_coast_USA_13_4000_1000_all_predictors_depth_None/output_2023-08-04-08_57_49_866.tif\n",
      "\n",
      "\n",
      "\n",
      "\n",
      "Starting image: /Users/margauxmforstyhe/Desktop/workspace/wetlands_labs/CCAP boundaries/north_east_coast/tiles_north_east_coast_ccap_mapping_bndry_gridded_50km_50km_classes_13_CCAP_scale30/inference_tiles_scale30_149.tif\n",
      "Image opened\n"
     ]
    },
    {
     "name": "stderr",
     "output_type": "stream",
     "text": [
      "[Parallel(n_jobs=12)]: Using backend ThreadingBackend with 12 concurrent workers.\n",
      "[Parallel(n_jobs=12)]: Done  26 tasks      | elapsed:    3.4s\n",
      "[Parallel(n_jobs=12)]: Done 100 out of 100 | elapsed:    9.5s finished\n"
     ]
    },
    {
     "name": "stdout",
     "output_type": "stream",
     "text": [
      "Class prediction was successful without slicing!\n",
      "No slicing was necessary!\n",
      "Image saved to: local_model_outputs_classifier_prob_habitat_suitability_CCAP_NORTH_east_coast_USA_13_4000_1000_all_predictors_depth_None/output_2023-08-04-08_58_00_867.tif\n",
      "\n",
      "\n",
      "\n",
      "\n",
      "Starting image: /Users/margauxmforstyhe/Desktop/workspace/wetlands_labs/CCAP boundaries/north_east_coast/tiles_north_east_coast_ccap_mapping_bndry_gridded_50km_50km_classes_13_CCAP_scale30/inference_tiles_scale30_613.tif\n",
      "Image opened\n"
     ]
    },
    {
     "name": "stderr",
     "output_type": "stream",
     "text": [
      "[Parallel(n_jobs=12)]: Using backend ThreadingBackend with 12 concurrent workers.\n",
      "[Parallel(n_jobs=12)]: Done  26 tasks      | elapsed:    2.5s\n",
      "[Parallel(n_jobs=12)]: Done 100 out of 100 | elapsed:   15.0s finished\n"
     ]
    },
    {
     "name": "stdout",
     "output_type": "stream",
     "text": [
      "Class prediction was successful without slicing!\n",
      "No slicing was necessary!\n",
      "Image saved to: local_model_outputs_classifier_prob_habitat_suitability_CCAP_NORTH_east_coast_USA_13_4000_1000_all_predictors_depth_None/output_2023-08-04-08_58_17_868.tif\n",
      "\n",
      "\n",
      "\n",
      "\n",
      "Starting image: /Users/margauxmforstyhe/Desktop/workspace/wetlands_labs/CCAP boundaries/north_east_coast/tiles_north_east_coast_ccap_mapping_bndry_gridded_50km_50km_classes_13_CCAP_scale30/inference_tiles_scale30_175.tif\n",
      "Image opened\n"
     ]
    },
    {
     "name": "stderr",
     "output_type": "stream",
     "text": [
      "[Parallel(n_jobs=12)]: Using backend ThreadingBackend with 12 concurrent workers.\n",
      "[Parallel(n_jobs=12)]: Done  26 tasks      | elapsed:    5.0s\n",
      "[Parallel(n_jobs=12)]: Done 100 out of 100 | elapsed:   12.0s finished\n"
     ]
    },
    {
     "name": "stdout",
     "output_type": "stream",
     "text": [
      "Class prediction was successful without slicing!\n",
      "No slicing was necessary!\n",
      "Image saved to: local_model_outputs_classifier_prob_habitat_suitability_CCAP_NORTH_east_coast_USA_13_4000_1000_all_predictors_depth_None/output_2023-08-04-08_58_31_869.tif\n",
      "\n",
      "\n",
      "\n",
      "\n",
      "Starting image: /Users/margauxmforstyhe/Desktop/workspace/wetlands_labs/CCAP boundaries/north_east_coast/tiles_north_east_coast_ccap_mapping_bndry_gridded_50km_50km_classes_13_CCAP_scale30/inference_tiles_scale30_161.tif\n",
      "Image opened\n"
     ]
    },
    {
     "name": "stderr",
     "output_type": "stream",
     "text": [
      "[Parallel(n_jobs=12)]: Using backend ThreadingBackend with 12 concurrent workers.\n",
      "[Parallel(n_jobs=12)]: Done  26 tasks      | elapsed:    2.9s\n",
      "[Parallel(n_jobs=12)]: Done 100 out of 100 | elapsed:   12.5s finished\n"
     ]
    },
    {
     "name": "stdout",
     "output_type": "stream",
     "text": [
      "Class prediction was successful without slicing!\n",
      "No slicing was necessary!\n",
      "Image saved to: local_model_outputs_classifier_prob_habitat_suitability_CCAP_NORTH_east_coast_USA_13_4000_1000_all_predictors_depth_None/output_2023-08-04-08_58_45_870.tif\n",
      "\n",
      "\n",
      "\n",
      "\n",
      "Starting image: /Users/margauxmforstyhe/Desktop/workspace/wetlands_labs/CCAP boundaries/north_east_coast/tiles_north_east_coast_ccap_mapping_bndry_gridded_50km_50km_classes_13_CCAP_scale30/inference_tiles_scale30_607.tif\n",
      "Image opened\n"
     ]
    },
    {
     "name": "stderr",
     "output_type": "stream",
     "text": [
      "[Parallel(n_jobs=12)]: Using backend ThreadingBackend with 12 concurrent workers.\n",
      "[Parallel(n_jobs=12)]: Done  26 tasks      | elapsed:    3.2s\n",
      "[Parallel(n_jobs=12)]: Done 100 out of 100 | elapsed:   10.0s finished\n"
     ]
    },
    {
     "name": "stdout",
     "output_type": "stream",
     "text": [
      "Class prediction was successful without slicing!\n",
      "No slicing was necessary!\n",
      "Image saved to: local_model_outputs_classifier_prob_habitat_suitability_CCAP_NORTH_east_coast_USA_13_4000_1000_all_predictors_depth_None/output_2023-08-04-08_58_57_871.tif\n",
      "\n",
      "\n",
      "\n",
      "\n",
      "Starting image: /Users/margauxmforstyhe/Desktop/workspace/wetlands_labs/CCAP boundaries/north_east_coast/tiles_north_east_coast_ccap_mapping_bndry_gridded_50km_50km_classes_13_CCAP_scale30/inference_tiles_scale30_388.tif\n",
      "Image opened\n"
     ]
    },
    {
     "name": "stderr",
     "output_type": "stream",
     "text": [
      "[Parallel(n_jobs=12)]: Using backend ThreadingBackend with 12 concurrent workers.\n",
      "[Parallel(n_jobs=12)]: Done  26 tasks      | elapsed:    3.1s\n",
      "[Parallel(n_jobs=12)]: Done 100 out of 100 | elapsed:   10.7s finished\n"
     ]
    },
    {
     "name": "stdout",
     "output_type": "stream",
     "text": [
      "Class prediction was successful without slicing!\n",
      "No slicing was necessary!\n",
      "Image saved to: local_model_outputs_classifier_prob_habitat_suitability_CCAP_NORTH_east_coast_USA_13_4000_1000_all_predictors_depth_None/output_2023-08-04-08_59_09_872.tif\n",
      "\n",
      "\n",
      "\n",
      "\n",
      "Starting image: /Users/margauxmforstyhe/Desktop/workspace/wetlands_labs/CCAP boundaries/north_east_coast/tiles_north_east_coast_ccap_mapping_bndry_gridded_50km_50km_classes_13_CCAP_scale30/inference_tiles_scale30_48.tif\n",
      "Image opened\n"
     ]
    },
    {
     "name": "stderr",
     "output_type": "stream",
     "text": [
      "[Parallel(n_jobs=12)]: Using backend ThreadingBackend with 12 concurrent workers.\n",
      "[Parallel(n_jobs=12)]: Done  26 tasks      | elapsed:    4.1s\n",
      "[Parallel(n_jobs=12)]: Done 100 out of 100 | elapsed:   13.2s finished\n"
     ]
    },
    {
     "name": "stdout",
     "output_type": "stream",
     "text": [
      "Class prediction was successful without slicing!\n",
      "No slicing was necessary!\n",
      "Image saved to: local_model_outputs_classifier_prob_habitat_suitability_CCAP_NORTH_east_coast_USA_13_4000_1000_all_predictors_depth_None/output_2023-08-04-08_59_25_873.tif\n",
      "\n",
      "\n",
      "\n",
      "\n",
      "Starting image: /Users/margauxmforstyhe/Desktop/workspace/wetlands_labs/CCAP boundaries/north_east_coast/tiles_north_east_coast_ccap_mapping_bndry_gridded_50km_50km_classes_13_CCAP_scale30/inference_tiles_scale30_439.tif\n",
      "Image opened\n"
     ]
    },
    {
     "name": "stderr",
     "output_type": "stream",
     "text": [
      "[Parallel(n_jobs=12)]: Using backend ThreadingBackend with 12 concurrent workers.\n",
      "[Parallel(n_jobs=12)]: Done  26 tasks      | elapsed:    0.6s\n",
      "[Parallel(n_jobs=12)]: Done 100 out of 100 | elapsed:    1.6s finished\n"
     ]
    },
    {
     "name": "stdout",
     "output_type": "stream",
     "text": [
      "Class prediction was successful without slicing!\n",
      "No slicing was necessary!\n",
      "Image saved to: local_model_outputs_classifier_prob_habitat_suitability_CCAP_NORTH_east_coast_USA_13_4000_1000_all_predictors_depth_None/output_2023-08-04-08_59_27_874.tif\n",
      "\n",
      "\n",
      "\n",
      "\n",
      "Starting image: /Users/margauxmforstyhe/Desktop/workspace/wetlands_labs/CCAP boundaries/north_east_coast/tiles_north_east_coast_ccap_mapping_bndry_gridded_50km_50km_classes_13_CCAP_scale30/inference_tiles_scale30_74.tif\n",
      "Image opened\n"
     ]
    },
    {
     "name": "stderr",
     "output_type": "stream",
     "text": [
      "[Parallel(n_jobs=12)]: Using backend ThreadingBackend with 12 concurrent workers.\n",
      "[Parallel(n_jobs=12)]: Done  26 tasks      | elapsed:    4.1s\n",
      "[Parallel(n_jobs=12)]: Done 100 out of 100 | elapsed:   11.3s finished\n"
     ]
    },
    {
     "name": "stdout",
     "output_type": "stream",
     "text": [
      "Class prediction was successful without slicing!\n",
      "No slicing was necessary!\n",
      "Image saved to: local_model_outputs_classifier_prob_habitat_suitability_CCAP_NORTH_east_coast_USA_13_4000_1000_all_predictors_depth_None/output_2023-08-04-08_59_40_875.tif\n",
      "\n",
      "\n",
      "\n",
      "\n",
      "Starting image: /Users/margauxmforstyhe/Desktop/workspace/wetlands_labs/CCAP boundaries/north_east_coast/tiles_north_east_coast_ccap_mapping_bndry_gridded_50km_50km_classes_13_CCAP_scale30/inference_tiles_scale30_377.tif\n",
      "Image opened\n"
     ]
    },
    {
     "name": "stderr",
     "output_type": "stream",
     "text": [
      "[Parallel(n_jobs=12)]: Using backend ThreadingBackend with 12 concurrent workers.\n",
      "[Parallel(n_jobs=12)]: Done  26 tasks      | elapsed:    1.8s\n",
      "[Parallel(n_jobs=12)]: Done 100 out of 100 | elapsed:    5.7s finished\n"
     ]
    },
    {
     "name": "stdout",
     "output_type": "stream",
     "text": [
      "Class prediction was successful without slicing!\n",
      "No slicing was necessary!\n",
      "Image saved to: local_model_outputs_classifier_prob_habitat_suitability_CCAP_NORTH_east_coast_USA_13_4000_1000_all_predictors_depth_None/output_2023-08-04-08_59_48_876.tif\n",
      "\n",
      "\n",
      "\n",
      "\n",
      "Starting image: /Users/margauxmforstyhe/Desktop/workspace/wetlands_labs/CCAP boundaries/north_east_coast/tiles_north_east_coast_ccap_mapping_bndry_gridded_50km_50km_classes_13_CCAP_scale30/inference_tiles_scale30_411.tif\n",
      "Image opened\n"
     ]
    },
    {
     "name": "stderr",
     "output_type": "stream",
     "text": [
      "[Parallel(n_jobs=12)]: Using backend ThreadingBackend with 12 concurrent workers.\n",
      "[Parallel(n_jobs=12)]: Done  26 tasks      | elapsed:    2.9s\n",
      "[Parallel(n_jobs=12)]: Done 100 out of 100 | elapsed:    9.3s finished\n"
     ]
    },
    {
     "name": "stdout",
     "output_type": "stream",
     "text": [
      "Class prediction was successful without slicing!\n",
      "No slicing was necessary!\n",
      "Image saved to: local_model_outputs_classifier_prob_habitat_suitability_CCAP_NORTH_east_coast_USA_13_4000_1000_all_predictors_depth_None/output_2023-08-04-08_59_59_877.tif\n",
      "\n",
      "\n",
      "\n",
      "\n",
      "Starting image: /Users/margauxmforstyhe/Desktop/workspace/wetlands_labs/CCAP boundaries/north_east_coast/tiles_north_east_coast_ccap_mapping_bndry_gridded_50km_50km_classes_13_CCAP_scale30/inference_tiles_scale30_405.tif\n",
      "Image opened\n"
     ]
    },
    {
     "name": "stderr",
     "output_type": "stream",
     "text": [
      "[Parallel(n_jobs=12)]: Using backend ThreadingBackend with 12 concurrent workers.\n",
      "[Parallel(n_jobs=12)]: Done  26 tasks      | elapsed:    6.5s\n",
      "[Parallel(n_jobs=12)]: Done 100 out of 100 | elapsed:   18.6s finished\n"
     ]
    },
    {
     "name": "stdout",
     "output_type": "stream",
     "text": [
      "Class prediction was successful without slicing!\n",
      "No slicing was necessary!\n",
      "Image saved to: local_model_outputs_classifier_prob_habitat_suitability_CCAP_NORTH_east_coast_USA_13_4000_1000_all_predictors_depth_None/output_2023-08-04-09_00_19_878.tif\n",
      "\n",
      "\n",
      "\n",
      "\n",
      "Starting image: /Users/margauxmforstyhe/Desktop/workspace/wetlands_labs/CCAP boundaries/north_east_coast/tiles_north_east_coast_ccap_mapping_bndry_gridded_50km_50km_classes_13_CCAP_scale30/inference_tiles_scale30_60.tif\n",
      "Image opened\n"
     ]
    },
    {
     "name": "stderr",
     "output_type": "stream",
     "text": [
      "[Parallel(n_jobs=12)]: Using backend ThreadingBackend with 12 concurrent workers.\n",
      "[Parallel(n_jobs=12)]: Done  26 tasks      | elapsed:    5.0s\n",
      "[Parallel(n_jobs=12)]: Done 100 out of 100 | elapsed:   15.7s finished\n"
     ]
    },
    {
     "name": "stdout",
     "output_type": "stream",
     "text": [
      "Class prediction was successful without slicing!\n",
      "No slicing was necessary!\n",
      "Image saved to: local_model_outputs_classifier_prob_habitat_suitability_CCAP_NORTH_east_coast_USA_13_4000_1000_all_predictors_depth_None/output_2023-08-04-09_00_37_879.tif\n",
      "\n",
      "\n",
      "\n",
      "\n",
      "Starting image: /Users/margauxmforstyhe/Desktop/workspace/wetlands_labs/CCAP boundaries/north_east_coast/tiles_north_east_coast_ccap_mapping_bndry_gridded_50km_50km_classes_13_CCAP_scale30/inference_tiles_scale30_363.tif\n",
      "Image opened\n"
     ]
    },
    {
     "name": "stderr",
     "output_type": "stream",
     "text": [
      "[Parallel(n_jobs=12)]: Using backend ThreadingBackend with 12 concurrent workers.\n",
      "[Parallel(n_jobs=12)]: Done  26 tasks      | elapsed:    7.2s\n",
      "[Parallel(n_jobs=12)]: Done 100 out of 100 | elapsed:   20.8s finished\n"
     ]
    },
    {
     "name": "stdout",
     "output_type": "stream",
     "text": [
      "Class prediction was successful without slicing!\n",
      "No slicing was necessary!\n",
      "Image saved to: local_model_outputs_classifier_prob_habitat_suitability_CCAP_NORTH_east_coast_USA_13_4000_1000_all_predictors_depth_None/output_2023-08-04-09_01_00_880.tif\n",
      "\n",
      "\n",
      "\n",
      "\n",
      "Starting image: /Users/margauxmforstyhe/Desktop/workspace/wetlands_labs/CCAP boundaries/north_east_coast/tiles_north_east_coast_ccap_mapping_bndry_gridded_50km_50km_classes_13_CCAP_scale30/inference_tiles_scale30_413.tif\n",
      "Image opened\n"
     ]
    },
    {
     "name": "stderr",
     "output_type": "stream",
     "text": [
      "[Parallel(n_jobs=12)]: Using backend ThreadingBackend with 12 concurrent workers.\n",
      "[Parallel(n_jobs=12)]: Done  26 tasks      | elapsed:    3.3s\n",
      "[Parallel(n_jobs=12)]: Done 100 out of 100 | elapsed:    9.3s finished\n"
     ]
    },
    {
     "name": "stdout",
     "output_type": "stream",
     "text": [
      "Class prediction was successful without slicing!\n",
      "No slicing was necessary!\n",
      "Image saved to: local_model_outputs_classifier_prob_habitat_suitability_CCAP_NORTH_east_coast_USA_13_4000_1000_all_predictors_depth_None/output_2023-08-04-09_01_12_881.tif\n",
      "\n",
      "\n",
      "\n",
      "\n",
      "Starting image: /Users/margauxmforstyhe/Desktop/workspace/wetlands_labs/CCAP boundaries/north_east_coast/tiles_north_east_coast_ccap_mapping_bndry_gridded_50km_50km_classes_13_CCAP_scale30/inference_tiles_scale30_375.tif\n",
      "Image opened\n"
     ]
    },
    {
     "name": "stderr",
     "output_type": "stream",
     "text": [
      "[Parallel(n_jobs=12)]: Using backend ThreadingBackend with 12 concurrent workers.\n",
      "[Parallel(n_jobs=12)]: Done  26 tasks      | elapsed:    2.4s\n",
      "[Parallel(n_jobs=12)]: Done 100 out of 100 | elapsed:    8.1s finished\n"
     ]
    },
    {
     "name": "stdout",
     "output_type": "stream",
     "text": [
      "Class prediction was successful without slicing!\n",
      "No slicing was necessary!\n",
      "Image saved to: local_model_outputs_classifier_prob_habitat_suitability_CCAP_NORTH_east_coast_USA_13_4000_1000_all_predictors_depth_None/output_2023-08-04-09_01_21_882.tif\n",
      "\n",
      "\n",
      "\n",
      "\n",
      "Starting image: /Users/margauxmforstyhe/Desktop/workspace/wetlands_labs/CCAP boundaries/north_east_coast/tiles_north_east_coast_ccap_mapping_bndry_gridded_50km_50km_classes_13_CCAP_scale30/inference_tiles_scale30_76.tif\n",
      "Image opened\n"
     ]
    },
    {
     "name": "stderr",
     "output_type": "stream",
     "text": [
      "[Parallel(n_jobs=12)]: Using backend ThreadingBackend with 12 concurrent workers.\n",
      "[Parallel(n_jobs=12)]: Done  26 tasks      | elapsed:    1.0s\n",
      "[Parallel(n_jobs=12)]: Done 100 out of 100 | elapsed:    3.0s finished\n"
     ]
    },
    {
     "name": "stdout",
     "output_type": "stream",
     "text": [
      "Class prediction was successful without slicing!\n",
      "No slicing was necessary!\n",
      "Image saved to: local_model_outputs_classifier_prob_habitat_suitability_CCAP_NORTH_east_coast_USA_13_4000_1000_all_predictors_depth_None/output_2023-08-04-09_01_25_883.tif\n",
      "\n",
      "\n",
      "\n",
      "\n",
      "Starting image: /Users/margauxmforstyhe/Desktop/workspace/wetlands_labs/CCAP boundaries/north_east_coast/tiles_north_east_coast_ccap_mapping_bndry_gridded_50km_50km_classes_13_CCAP_scale30/inference_tiles_scale30_361.tif\n",
      "Image opened\n"
     ]
    },
    {
     "name": "stderr",
     "output_type": "stream",
     "text": [
      "[Parallel(n_jobs=12)]: Using backend ThreadingBackend with 12 concurrent workers.\n",
      "[Parallel(n_jobs=12)]: Done  26 tasks      | elapsed:    0.2s\n",
      "[Parallel(n_jobs=12)]: Done 100 out of 100 | elapsed:    0.5s finished\n"
     ]
    },
    {
     "name": "stdout",
     "output_type": "stream",
     "text": [
      "Class prediction was successful without slicing!\n",
      "No slicing was necessary!\n",
      "Image saved to: local_model_outputs_classifier_prob_habitat_suitability_CCAP_NORTH_east_coast_USA_13_4000_1000_all_predictors_depth_None/output_2023-08-04-09_01_26_884.tif\n",
      "\n",
      "\n",
      "\n",
      "\n",
      "Starting image: /Users/margauxmforstyhe/Desktop/workspace/wetlands_labs/CCAP boundaries/north_east_coast/tiles_north_east_coast_ccap_mapping_bndry_gridded_50km_50km_classes_13_CCAP_scale30/inference_tiles_scale30_62.tif\n",
      "Image opened\n"
     ]
    },
    {
     "name": "stderr",
     "output_type": "stream",
     "text": [
      "[Parallel(n_jobs=12)]: Using backend ThreadingBackend with 12 concurrent workers.\n",
      "[Parallel(n_jobs=12)]: Done  26 tasks      | elapsed:    4.5s\n",
      "[Parallel(n_jobs=12)]: Done 100 out of 100 | elapsed:   13.6s finished\n"
     ]
    },
    {
     "name": "stdout",
     "output_type": "stream",
     "text": [
      "Class prediction was successful without slicing!\n",
      "No slicing was necessary!\n",
      "Image saved to: local_model_outputs_classifier_prob_habitat_suitability_CCAP_NORTH_east_coast_USA_13_4000_1000_all_predictors_depth_None/output_2023-08-04-09_01_41_885.tif\n",
      "\n",
      "\n",
      "\n",
      "\n",
      "Starting image: /Users/margauxmforstyhe/Desktop/workspace/wetlands_labs/CCAP boundaries/north_east_coast/tiles_north_east_coast_ccap_mapping_bndry_gridded_50km_50km_classes_13_CCAP_scale30/inference_tiles_scale30_407.tif\n",
      "Image opened\n"
     ]
    },
    {
     "name": "stderr",
     "output_type": "stream",
     "text": [
      "[Parallel(n_jobs=12)]: Using backend ThreadingBackend with 12 concurrent workers.\n",
      "[Parallel(n_jobs=12)]: Done  26 tasks      | elapsed:    1.6s\n",
      "[Parallel(n_jobs=12)]: Done 100 out of 100 | elapsed:    4.7s finished\n"
     ]
    },
    {
     "name": "stdout",
     "output_type": "stream",
     "text": [
      "Class prediction was successful without slicing!\n",
      "No slicing was necessary!\n",
      "Image saved to: local_model_outputs_classifier_prob_habitat_suitability_CCAP_NORTH_east_coast_USA_13_4000_1000_all_predictors_depth_None/output_2023-08-04-09_01_47_886.tif\n",
      "\n",
      "\n",
      "\n",
      "\n",
      "Starting image: /Users/margauxmforstyhe/Desktop/workspace/wetlands_labs/CCAP boundaries/north_east_coast/tiles_north_east_coast_ccap_mapping_bndry_gridded_50km_50km_classes_13_CCAP_scale30/inference_tiles_scale30_349.tif\n",
      "Image opened\n"
     ]
    },
    {
     "name": "stderr",
     "output_type": "stream",
     "text": [
      "[Parallel(n_jobs=12)]: Using backend ThreadingBackend with 12 concurrent workers.\n",
      "[Parallel(n_jobs=12)]: Done  26 tasks      | elapsed:    5.5s\n",
      "[Parallel(n_jobs=12)]: Done 100 out of 100 | elapsed:   16.4s finished\n"
     ]
    },
    {
     "name": "stdout",
     "output_type": "stream",
     "text": [
      "Class prediction was successful without slicing!\n",
      "No slicing was necessary!\n",
      "Image saved to: local_model_outputs_classifier_prob_habitat_suitability_CCAP_NORTH_east_coast_USA_13_4000_1000_all_predictors_depth_None/output_2023-08-04-09_02_05_887.tif\n",
      "\n",
      "\n",
      "\n",
      "\n",
      "Starting image: /Users/margauxmforstyhe/Desktop/workspace/wetlands_labs/CCAP boundaries/north_east_coast/tiles_north_east_coast_ccap_mapping_bndry_gridded_50km_50km_classes_13_CCAP_scale30/inference_tiles_scale30_89.tif\n",
      "Image opened\n"
     ]
    },
    {
     "name": "stderr",
     "output_type": "stream",
     "text": [
      "[Parallel(n_jobs=12)]: Using backend ThreadingBackend with 12 concurrent workers.\n",
      "[Parallel(n_jobs=12)]: Done  26 tasks      | elapsed:    3.5s\n",
      "[Parallel(n_jobs=12)]: Done 100 out of 100 | elapsed:   10.8s finished\n"
     ]
    },
    {
     "name": "stdout",
     "output_type": "stream",
     "text": [
      "Class prediction was successful without slicing!\n",
      "No slicing was necessary!\n",
      "Image saved to: local_model_outputs_classifier_prob_habitat_suitability_CCAP_NORTH_east_coast_USA_13_4000_1000_all_predictors_depth_None/output_2023-08-04-09_02_18_888.tif\n",
      "\n",
      "\n",
      "\n",
      "\n",
      "Starting image: /Users/margauxmforstyhe/Desktop/workspace/wetlands_labs/CCAP boundaries/north_east_coast/tiles_north_east_coast_ccap_mapping_bndry_gridded_50km_50km_classes_13_CCAP_scale30/inference_tiles_scale30_177.tif\n",
      "Image opened\n"
     ]
    },
    {
     "name": "stderr",
     "output_type": "stream",
     "text": [
      "[Parallel(n_jobs=12)]: Using backend ThreadingBackend with 12 concurrent workers.\n",
      "[Parallel(n_jobs=12)]: Done  26 tasks      | elapsed:    0.1s\n",
      "[Parallel(n_jobs=12)]: Done 100 out of 100 | elapsed:    0.2s finished\n"
     ]
    },
    {
     "name": "stdout",
     "output_type": "stream",
     "text": [
      "Class prediction was successful without slicing!\n",
      "No slicing was necessary!\n",
      "Image saved to: local_model_outputs_classifier_prob_habitat_suitability_CCAP_NORTH_east_coast_USA_13_4000_1000_all_predictors_depth_None/output_2023-08-04-09_02_18_889.tif\n",
      "\n",
      "\n",
      "\n",
      "\n",
      "Starting image: /Users/margauxmforstyhe/Desktop/workspace/wetlands_labs/CCAP boundaries/north_east_coast/tiles_north_east_coast_ccap_mapping_bndry_gridded_50km_50km_classes_13_CCAP_scale30/inference_tiles_scale30_611.tif\n",
      "Image opened\n"
     ]
    },
    {
     "name": "stderr",
     "output_type": "stream",
     "text": [
      "[Parallel(n_jobs=12)]: Using backend ThreadingBackend with 12 concurrent workers.\n",
      "[Parallel(n_jobs=12)]: Done  26 tasks      | elapsed:    4.6s\n",
      "[Parallel(n_jobs=12)]: Done 100 out of 100 | elapsed:   13.0s finished\n"
     ]
    },
    {
     "name": "stdout",
     "output_type": "stream",
     "text": [
      "Class prediction was successful without slicing!\n",
      "No slicing was necessary!\n",
      "Image saved to: local_model_outputs_classifier_prob_habitat_suitability_CCAP_NORTH_east_coast_USA_13_4000_1000_all_predictors_depth_None/output_2023-08-04-09_02_32_890.tif\n",
      "\n",
      "\n",
      "\n",
      "\n",
      "Starting image: /Users/margauxmforstyhe/Desktop/workspace/wetlands_labs/CCAP boundaries/north_east_coast/tiles_north_east_coast_ccap_mapping_bndry_gridded_50km_50km_classes_13_CCAP_scale30/inference_tiles_scale30_605.tif\n",
      "Image opened\n"
     ]
    },
    {
     "name": "stderr",
     "output_type": "stream",
     "text": [
      "[Parallel(n_jobs=12)]: Using backend ThreadingBackend with 12 concurrent workers.\n",
      "[Parallel(n_jobs=12)]: Done  26 tasks      | elapsed:    2.9s\n",
      "[Parallel(n_jobs=12)]: Done 100 out of 100 | elapsed:    8.2s finished\n"
     ]
    },
    {
     "name": "stdout",
     "output_type": "stream",
     "text": [
      "Class prediction was successful without slicing!\n",
      "No slicing was necessary!\n",
      "Image saved to: local_model_outputs_classifier_prob_habitat_suitability_CCAP_NORTH_east_coast_USA_13_4000_1000_all_predictors_depth_None/output_2023-08-04-09_02_42_891.tif\n",
      "\n",
      "\n",
      "\n",
      "\n",
      "Starting image: /Users/margauxmforstyhe/Desktop/workspace/wetlands_labs/CCAP boundaries/north_east_coast/tiles_north_east_coast_ccap_mapping_bndry_gridded_50km_50km_classes_13_CCAP_scale30/inference_tiles_scale30_163.tif\n",
      "Image opened\n"
     ]
    },
    {
     "name": "stderr",
     "output_type": "stream",
     "text": [
      "[Parallel(n_jobs=12)]: Using backend ThreadingBackend with 12 concurrent workers.\n",
      "[Parallel(n_jobs=12)]: Done  26 tasks      | elapsed:    5.1s\n",
      "[Parallel(n_jobs=12)]: Done 100 out of 100 | elapsed:   16.4s finished\n"
     ]
    },
    {
     "name": "stdout",
     "output_type": "stream",
     "text": [
      "Class prediction was successful without slicing!\n",
      "No slicing was necessary!\n",
      "Image saved to: local_model_outputs_classifier_prob_habitat_suitability_CCAP_NORTH_east_coast_USA_13_4000_1000_all_predictors_depth_None/output_2023-08-04-09_03_00_892.tif\n",
      "\n",
      "\n",
      "\n",
      "\n",
      "Starting image: /Users/margauxmforstyhe/Desktop/workspace/wetlands_labs/CCAP boundaries/north_east_coast/tiles_north_east_coast_ccap_mapping_bndry_gridded_50km_50km_classes_13_CCAP_scale30/inference_tiles_scale30_639.tif\n",
      "Image opened\n"
     ]
    },
    {
     "name": "stderr",
     "output_type": "stream",
     "text": [
      "[Parallel(n_jobs=12)]: Using backend ThreadingBackend with 12 concurrent workers.\n",
      "[Parallel(n_jobs=12)]: Done  26 tasks      | elapsed:    3.7s\n",
      "[Parallel(n_jobs=12)]: Done 100 out of 100 | elapsed:   11.4s finished\n"
     ]
    },
    {
     "name": "stdout",
     "output_type": "stream",
     "text": [
      "Class prediction was successful without slicing!\n",
      "No slicing was necessary!\n",
      "Image saved to: local_model_outputs_classifier_prob_habitat_suitability_CCAP_NORTH_east_coast_USA_13_4000_1000_all_predictors_depth_None/output_2023-08-04-09_03_13_893.tif\n",
      "\n",
      "\n",
      "\n",
      "\n",
      "Starting image: /Users/margauxmforstyhe/Desktop/workspace/wetlands_labs/CCAP boundaries/north_east_coast/tiles_north_east_coast_ccap_mapping_bndry_gridded_50km_50km_classes_13_CCAP_scale30/inference_tiles_scale30_188.tif\n",
      "Image opened\n"
     ]
    },
    {
     "name": "stderr",
     "output_type": "stream",
     "text": [
      "[Parallel(n_jobs=12)]: Using backend ThreadingBackend with 12 concurrent workers.\n",
      "[Parallel(n_jobs=12)]: Done  26 tasks      | elapsed:    3.7s\n",
      "[Parallel(n_jobs=12)]: Done 100 out of 100 | elapsed:   11.3s finished\n"
     ]
    },
    {
     "name": "stdout",
     "output_type": "stream",
     "text": [
      "Class prediction was successful without slicing!\n",
      "No slicing was necessary!\n",
      "Image saved to: local_model_outputs_classifier_prob_habitat_suitability_CCAP_NORTH_east_coast_USA_13_4000_1000_all_predictors_depth_None/output_2023-08-04-09_03_28_894.tif\n",
      "\n",
      "\n",
      "\n",
      "\n",
      "Starting image: /Users/margauxmforstyhe/Desktop/workspace/wetlands_labs/CCAP boundaries/north_east_coast/tiles_north_east_coast_ccap_mapping_bndry_gridded_50km_50km_classes_13_CCAP_scale30/inference_tiles_scale30_836.tif\n",
      "Image opened\n"
     ]
    },
    {
     "name": "stderr",
     "output_type": "stream",
     "text": [
      "[Parallel(n_jobs=12)]: Using backend ThreadingBackend with 12 concurrent workers.\n",
      "[Parallel(n_jobs=12)]: Done  26 tasks      | elapsed:    2.9s\n",
      "[Parallel(n_jobs=12)]: Done 100 out of 100 | elapsed:    7.6s finished\n"
     ]
    },
    {
     "name": "stdout",
     "output_type": "stream",
     "text": [
      "Class prediction was successful without slicing!\n",
      "No slicing was necessary!\n",
      "Image saved to: local_model_outputs_classifier_prob_habitat_suitability_CCAP_NORTH_east_coast_USA_13_4000_1000_all_predictors_depth_None/output_2023-08-04-09_03_38_895.tif\n",
      "\n",
      "\n",
      "\n",
      "\n",
      "Starting image: /Users/margauxmforstyhe/Desktop/workspace/wetlands_labs/CCAP boundaries/north_east_coast/tiles_north_east_coast_ccap_mapping_bndry_gridded_50km_50km_classes_13_CCAP_scale30/inference_tiles_scale30_822.tif\n",
      "Image opened\n"
     ]
    },
    {
     "name": "stderr",
     "output_type": "stream",
     "text": [
      "[Parallel(n_jobs=12)]: Using backend ThreadingBackend with 12 concurrent workers.\n",
      "[Parallel(n_jobs=12)]: Done  26 tasks      | elapsed:    7.4s\n",
      "[Parallel(n_jobs=12)]: Done 100 out of 100 | elapsed:   18.2s finished\n"
     ]
    },
    {
     "name": "stdout",
     "output_type": "stream",
     "text": [
      "Class prediction was successful without slicing!\n",
      "No slicing was necessary!\n",
      "Image saved to: local_model_outputs_classifier_prob_habitat_suitability_CCAP_NORTH_east_coast_USA_13_4000_1000_all_predictors_depth_None/output_2023-08-04-09_03_58_896.tif\n",
      "\n",
      "\n",
      "\n",
      "\n",
      "Starting image: /Users/margauxmforstyhe/Desktop/workspace/wetlands_labs/CCAP boundaries/north_east_coast/tiles_north_east_coast_ccap_mapping_bndry_gridded_50km_50km_classes_13_CCAP_scale30/inference_tiles_scale30_765.tif\n",
      "Image opened\n"
     ]
    },
    {
     "name": "stderr",
     "output_type": "stream",
     "text": [
      "[Parallel(n_jobs=12)]: Using backend ThreadingBackend with 12 concurrent workers.\n",
      "[Parallel(n_jobs=12)]: Done  26 tasks      | elapsed:    2.8s\n",
      "[Parallel(n_jobs=12)]: Done 100 out of 100 | elapsed:    8.7s finished\n"
     ]
    },
    {
     "name": "stdout",
     "output_type": "stream",
     "text": [
      "Class prediction was successful without slicing!\n",
      "No slicing was necessary!\n",
      "Image saved to: local_model_outputs_classifier_prob_habitat_suitability_CCAP_NORTH_east_coast_USA_13_4000_1000_all_predictors_depth_None/output_2023-08-04-09_04_08_897.tif\n",
      "\n",
      "\n",
      "\n",
      "\n",
      "Starting image: /Users/margauxmforstyhe/Desktop/workspace/wetlands_labs/CCAP boundaries/north_east_coast/tiles_north_east_coast_ccap_mapping_bndry_gridded_50km_50km_classes_13_CCAP_scale30/inference_tiles_scale30_771.tif\n",
      "Image opened\n"
     ]
    },
    {
     "name": "stderr",
     "output_type": "stream",
     "text": [
      "[Parallel(n_jobs=12)]: Using backend ThreadingBackend with 12 concurrent workers.\n",
      "[Parallel(n_jobs=12)]: Done  26 tasks      | elapsed:    0.1s\n",
      "[Parallel(n_jobs=12)]: Done 100 out of 100 | elapsed:    0.1s finished\n"
     ]
    },
    {
     "name": "stdout",
     "output_type": "stream",
     "text": [
      "Class prediction was successful without slicing!\n",
      "No slicing was necessary!\n",
      "Image saved to: local_model_outputs_classifier_prob_habitat_suitability_CCAP_NORTH_east_coast_USA_13_4000_1000_all_predictors_depth_None/output_2023-08-04-09_04_09_898.tif\n",
      "\n",
      "\n",
      "\n",
      "\n",
      "Starting image: /Users/margauxmforstyhe/Desktop/workspace/wetlands_labs/CCAP boundaries/north_east_coast/tiles_north_east_coast_ccap_mapping_bndry_gridded_50km_50km_classes_13_CCAP_scale30/inference_tiles_scale30_759.tif\n",
      "Image opened\n"
     ]
    },
    {
     "name": "stderr",
     "output_type": "stream",
     "text": [
      "[Parallel(n_jobs=12)]: Using backend ThreadingBackend with 12 concurrent workers.\n",
      "[Parallel(n_jobs=12)]: Done  26 tasks      | elapsed:    4.3s\n",
      "[Parallel(n_jobs=12)]: Done 100 out of 100 | elapsed:   12.0s finished\n"
     ]
    },
    {
     "name": "stdout",
     "output_type": "stream",
     "text": [
      "Class prediction was successful without slicing!\n",
      "No slicing was necessary!\n",
      "Image saved to: local_model_outputs_classifier_prob_habitat_suitability_CCAP_NORTH_east_coast_USA_13_4000_1000_all_predictors_depth_None/output_2023-08-04-09_04_22_899.tif\n",
      "\n",
      "\n",
      "\n",
      "\n",
      "Starting image: /Users/margauxmforstyhe/Desktop/workspace/wetlands_labs/CCAP boundaries/north_east_coast/tiles_north_east_coast_ccap_mapping_bndry_gridded_50km_50km_classes_13_CCAP_scale30/inference_tiles_scale30_567.tif\n",
      "Image opened\n"
     ]
    },
    {
     "name": "stderr",
     "output_type": "stream",
     "text": [
      "[Parallel(n_jobs=12)]: Using backend ThreadingBackend with 12 concurrent workers.\n",
      "[Parallel(n_jobs=12)]: Done  26 tasks      | elapsed:    0.0s\n",
      "[Parallel(n_jobs=12)]: Done 100 out of 100 | elapsed:    0.1s finished\n"
     ]
    },
    {
     "name": "stdout",
     "output_type": "stream",
     "text": [
      "Class prediction was successful without slicing!\n",
      "No slicing was necessary!\n",
      "Image saved to: local_model_outputs_classifier_prob_habitat_suitability_CCAP_NORTH_east_coast_USA_13_4000_1000_all_predictors_depth_None/output_2023-08-04-09_04_22_900.tif\n",
      "\n",
      "\n",
      "\n",
      "\n",
      "Starting image: /Users/margauxmforstyhe/Desktop/workspace/wetlands_labs/CCAP boundaries/north_east_coast/tiles_north_east_coast_ccap_mapping_bndry_gridded_50km_50km_classes_13_CCAP_scale30/inference_tiles_scale30_201.tif\n",
      "Image opened\n"
     ]
    },
    {
     "name": "stderr",
     "output_type": "stream",
     "text": [
      "[Parallel(n_jobs=12)]: Using backend ThreadingBackend with 12 concurrent workers.\n",
      "[Parallel(n_jobs=12)]: Done  26 tasks      | elapsed:    2.5s\n",
      "[Parallel(n_jobs=12)]: Done 100 out of 100 | elapsed:    6.3s finished\n"
     ]
    },
    {
     "name": "stdout",
     "output_type": "stream",
     "text": [
      "Class prediction was successful without slicing!\n",
      "No slicing was necessary!\n",
      "Image saved to: local_model_outputs_classifier_prob_habitat_suitability_CCAP_NORTH_east_coast_USA_13_4000_1000_all_predictors_depth_None/output_2023-08-04-09_04_30_901.tif\n",
      "\n",
      "\n",
      "\n",
      "\n",
      "Starting image: /Users/margauxmforstyhe/Desktop/workspace/wetlands_labs/CCAP boundaries/north_east_coast/tiles_north_east_coast_ccap_mapping_bndry_gridded_50km_50km_classes_13_CCAP_scale30/inference_tiles_scale30_215.tif\n",
      "Image opened\n"
     ]
    },
    {
     "name": "stderr",
     "output_type": "stream",
     "text": [
      "[Parallel(n_jobs=12)]: Using backend ThreadingBackend with 12 concurrent workers.\n",
      "[Parallel(n_jobs=12)]: Done  26 tasks      | elapsed:    4.9s\n",
      "[Parallel(n_jobs=12)]: Done 100 out of 100 | elapsed:   14.5s finished\n"
     ]
    },
    {
     "name": "stdout",
     "output_type": "stream",
     "text": [
      "Class prediction was successful without slicing!\n",
      "No slicing was necessary!\n",
      "Image saved to: local_model_outputs_classifier_prob_habitat_suitability_CCAP_NORTH_east_coast_USA_13_4000_1000_all_predictors_depth_None/output_2023-08-04-09_04_47_902.tif\n",
      "\n",
      "\n",
      "\n",
      "\n",
      "Starting image: /Users/margauxmforstyhe/Desktop/workspace/wetlands_labs/CCAP boundaries/north_east_coast/tiles_north_east_coast_ccap_mapping_bndry_gridded_50km_50km_classes_13_CCAP_scale30/inference_tiles_scale30_573.tif\n",
      "Image opened\n",
      "Class prediction was successful without slicing!\n",
      "No slicing was necessary!\n",
      "Image saved to: local_model_outputs_classifier_prob_habitat_suitability_CCAP_NORTH_east_coast_USA_13_4000_1000_all_predictors_depth_None/output_2023-08-04-09_04_47_903.tif\n",
      "\n",
      "\n",
      "\n",
      "\n",
      "Starting image: /Users/margauxmforstyhe/Desktop/workspace/wetlands_labs/CCAP boundaries/north_east_coast/tiles_north_east_coast_ccap_mapping_bndry_gridded_50km_50km_classes_13_CCAP_scale30/inference_tiles_scale30_229.tif\n"
     ]
    },
    {
     "name": "stderr",
     "output_type": "stream",
     "text": [
      "[Parallel(n_jobs=12)]: Using backend ThreadingBackend with 12 concurrent workers.\n",
      "[Parallel(n_jobs=12)]: Done  26 tasks      | elapsed:    0.0s\n",
      "[Parallel(n_jobs=12)]: Done 100 out of 100 | elapsed:    0.1s finished\n"
     ]
    },
    {
     "name": "stdout",
     "output_type": "stream",
     "text": [
      "Image opened\n"
     ]
    },
    {
     "name": "stderr",
     "output_type": "stream",
     "text": [
      "[Parallel(n_jobs=12)]: Using backend ThreadingBackend with 12 concurrent workers.\n",
      "[Parallel(n_jobs=12)]: Done  26 tasks      | elapsed:    2.7s\n",
      "[Parallel(n_jobs=12)]: Done 100 out of 100 | elapsed:    9.1s finished\n"
     ]
    },
    {
     "name": "stdout",
     "output_type": "stream",
     "text": [
      "Class prediction was successful without slicing!\n",
      "No slicing was necessary!\n",
      "Image saved to: local_model_outputs_classifier_prob_habitat_suitability_CCAP_NORTH_east_coast_USA_13_4000_1000_all_predictors_depth_None/output_2023-08-04-09_04_59_904.tif\n",
      "\n",
      "\n",
      "\n",
      "\n",
      "Starting image: /Users/margauxmforstyhe/Desktop/workspace/wetlands_labs/CCAP boundaries/north_east_coast/tiles_north_east_coast_ccap_mapping_bndry_gridded_50km_50km_classes_13_CCAP_scale30/inference_tiles_scale30_4.tif\n",
      "Image opened\n"
     ]
    },
    {
     "name": "stderr",
     "output_type": "stream",
     "text": [
      "[Parallel(n_jobs=12)]: Using backend ThreadingBackend with 12 concurrent workers.\n",
      "[Parallel(n_jobs=12)]: Done  26 tasks      | elapsed:    5.5s\n",
      "[Parallel(n_jobs=12)]: Done 100 out of 100 | elapsed:   15.7s finished\n"
     ]
    },
    {
     "name": "stdout",
     "output_type": "stream",
     "text": [
      "Class prediction was successful without slicing!\n",
      "No slicing was necessary!\n",
      "Image saved to: local_model_outputs_classifier_prob_habitat_suitability_CCAP_NORTH_east_coast_USA_13_4000_1000_all_predictors_depth_None/output_2023-08-04-09_05_17_905.tif\n",
      "\n",
      "\n",
      "\n",
      "\n",
      "Starting image: /Users/margauxmforstyhe/Desktop/workspace/wetlands_labs/CCAP boundaries/north_east_coast/tiles_north_east_coast_ccap_mapping_bndry_gridded_50km_50km_classes_13_CCAP_scale30/inference_tiles_scale30_598.tif\n",
      "Image opened\n"
     ]
    },
    {
     "name": "stderr",
     "output_type": "stream",
     "text": [
      "[Parallel(n_jobs=12)]: Using backend ThreadingBackend with 12 concurrent workers.\n",
      "[Parallel(n_jobs=12)]: Done  26 tasks      | elapsed:    3.8s\n",
      "[Parallel(n_jobs=12)]: Done 100 out of 100 | elapsed:   10.9s finished\n"
     ]
    },
    {
     "name": "stdout",
     "output_type": "stream",
     "text": [
      "Class prediction was successful without slicing!\n",
      "No slicing was necessary!\n",
      "Image saved to: local_model_outputs_classifier_prob_habitat_suitability_CCAP_NORTH_east_coast_USA_13_4000_1000_all_predictors_depth_None/output_2023-08-04-09_05_29_906.tif\n",
      "\n",
      "\n",
      "\n",
      "\n",
      "Starting image: /Users/margauxmforstyhe/Desktop/workspace/wetlands_labs/CCAP boundaries/north_east_coast/tiles_north_east_coast_ccap_mapping_bndry_gridded_50km_50km_classes_13_CCAP_scale30/inference_tiles_scale30_599.tif\n",
      "Image opened\n"
     ]
    },
    {
     "name": "stderr",
     "output_type": "stream",
     "text": [
      "[Parallel(n_jobs=12)]: Using backend ThreadingBackend with 12 concurrent workers.\n",
      "[Parallel(n_jobs=12)]: Done  26 tasks      | elapsed:    0.9s\n",
      "[Parallel(n_jobs=12)]: Done 100 out of 100 | elapsed:    3.7s finished\n"
     ]
    },
    {
     "name": "stdout",
     "output_type": "stream",
     "text": [
      "Class prediction was successful without slicing!\n",
      "No slicing was necessary!\n",
      "Image saved to: local_model_outputs_classifier_prob_habitat_suitability_CCAP_NORTH_east_coast_USA_13_4000_1000_all_predictors_depth_None/output_2023-08-04-09_05_34_907.tif\n",
      "\n",
      "\n",
      "\n",
      "\n",
      "Starting image: /Users/margauxmforstyhe/Desktop/workspace/wetlands_labs/CCAP boundaries/north_east_coast/tiles_north_east_coast_ccap_mapping_bndry_gridded_50km_50km_classes_13_CCAP_scale30/inference_tiles_scale30_228.tif\n",
      "Image opened\n"
     ]
    },
    {
     "name": "stderr",
     "output_type": "stream",
     "text": [
      "[Parallel(n_jobs=12)]: Using backend ThreadingBackend with 12 concurrent workers.\n",
      "[Parallel(n_jobs=12)]: Done  26 tasks      | elapsed:    0.7s\n",
      "[Parallel(n_jobs=12)]: Done 100 out of 100 | elapsed:    2.1s finished\n"
     ]
    },
    {
     "name": "stdout",
     "output_type": "stream",
     "text": [
      "Class prediction was successful without slicing!\n",
      "No slicing was necessary!\n",
      "Image saved to: local_model_outputs_classifier_prob_habitat_suitability_CCAP_NORTH_east_coast_USA_13_4000_1000_all_predictors_depth_None/output_2023-08-04-09_05_36_908.tif\n",
      "\n",
      "\n",
      "\n",
      "\n",
      "Starting image: /Users/margauxmforstyhe/Desktop/workspace/wetlands_labs/CCAP boundaries/north_east_coast/tiles_north_east_coast_ccap_mapping_bndry_gridded_50km_50km_classes_13_CCAP_scale30/inference_tiles_scale30_5.tif\n",
      "Image opened\n"
     ]
    },
    {
     "name": "stderr",
     "output_type": "stream",
     "text": [
      "[Parallel(n_jobs=12)]: Using backend ThreadingBackend with 12 concurrent workers.\n",
      "[Parallel(n_jobs=12)]: Done  26 tasks      | elapsed:    0.9s\n",
      "[Parallel(n_jobs=12)]: Done 100 out of 100 | elapsed:    2.1s finished\n"
     ]
    },
    {
     "name": "stdout",
     "output_type": "stream",
     "text": [
      "Class prediction was successful without slicing!\n",
      "No slicing was necessary!\n",
      "Image saved to: local_model_outputs_classifier_prob_habitat_suitability_CCAP_NORTH_east_coast_USA_13_4000_1000_all_predictors_depth_None/output_2023-08-04-09_05_39_909.tif\n",
      "\n",
      "\n",
      "\n",
      "\n",
      "Starting image: /Users/margauxmforstyhe/Desktop/workspace/wetlands_labs/CCAP boundaries/north_east_coast/tiles_north_east_coast_ccap_mapping_bndry_gridded_50km_50km_classes_13_CCAP_scale30/inference_tiles_scale30_214.tif\n",
      "Image opened\n"
     ]
    },
    {
     "name": "stderr",
     "output_type": "stream",
     "text": [
      "[Parallel(n_jobs=12)]: Using backend ThreadingBackend with 12 concurrent workers.\n",
      "[Parallel(n_jobs=12)]: Done  26 tasks      | elapsed:    3.4s\n",
      "[Parallel(n_jobs=12)]: Done 100 out of 100 | elapsed:    9.9s finished\n"
     ]
    },
    {
     "name": "stdout",
     "output_type": "stream",
     "text": [
      "Class prediction was successful without slicing!\n",
      "No slicing was necessary!\n",
      "Image saved to: local_model_outputs_classifier_prob_habitat_suitability_CCAP_NORTH_east_coast_USA_13_4000_1000_all_predictors_depth_None/output_2023-08-04-09_05_52_910.tif\n",
      "\n",
      "\n",
      "\n",
      "\n",
      "Starting image: /Users/margauxmforstyhe/Desktop/workspace/wetlands_labs/CCAP boundaries/north_east_coast/tiles_north_east_coast_ccap_mapping_bndry_gridded_50km_50km_classes_13_CCAP_scale30/inference_tiles_scale30_572.tif\n",
      "Image opened\n"
     ]
    },
    {
     "name": "stderr",
     "output_type": "stream",
     "text": [
      "[Parallel(n_jobs=12)]: Using backend ThreadingBackend with 12 concurrent workers.\n",
      "[Parallel(n_jobs=12)]: Done  26 tasks      | elapsed:    4.3s\n",
      "[Parallel(n_jobs=12)]: Done 100 out of 100 | elapsed:   12.5s finished\n"
     ]
    },
    {
     "name": "stdout",
     "output_type": "stream",
     "text": [
      "Class prediction was successful without slicing!\n",
      "No slicing was necessary!\n",
      "Image saved to: local_model_outputs_classifier_prob_habitat_suitability_CCAP_NORTH_east_coast_USA_13_4000_1000_all_predictors_depth_None/output_2023-08-04-09_06_07_911.tif\n",
      "\n",
      "\n",
      "\n",
      "\n",
      "Starting image: /Users/margauxmforstyhe/Desktop/workspace/wetlands_labs/CCAP boundaries/north_east_coast/tiles_north_east_coast_ccap_mapping_bndry_gridded_50km_50km_classes_13_CCAP_scale30/inference_tiles_scale30_566.tif\n",
      "Image opened\n"
     ]
    },
    {
     "name": "stderr",
     "output_type": "stream",
     "text": [
      "[Parallel(n_jobs=12)]: Using backend ThreadingBackend with 12 concurrent workers.\n",
      "[Parallel(n_jobs=12)]: Done  26 tasks      | elapsed:    4.9s\n",
      "[Parallel(n_jobs=12)]: Done 100 out of 100 | elapsed:   14.6s finished\n"
     ]
    },
    {
     "name": "stdout",
     "output_type": "stream",
     "text": [
      "Class prediction was successful without slicing!\n",
      "No slicing was necessary!\n",
      "Image saved to: local_model_outputs_classifier_prob_habitat_suitability_CCAP_NORTH_east_coast_USA_13_4000_1000_all_predictors_depth_None/output_2023-08-04-09_06_23_912.tif\n",
      "\n",
      "\n",
      "\n",
      "\n",
      "Starting image: /Users/margauxmforstyhe/Desktop/workspace/wetlands_labs/CCAP boundaries/north_east_coast/tiles_north_east_coast_ccap_mapping_bndry_gridded_50km_50km_classes_13_CCAP_scale30/inference_tiles_scale30_200.tif\n",
      "Image opened\n"
     ]
    },
    {
     "name": "stderr",
     "output_type": "stream",
     "text": [
      "[Parallel(n_jobs=12)]: Using backend ThreadingBackend with 12 concurrent workers.\n",
      "[Parallel(n_jobs=12)]: Done  26 tasks      | elapsed:    3.5s\n",
      "[Parallel(n_jobs=12)]: Done 100 out of 100 | elapsed:   10.3s finished\n"
     ]
    },
    {
     "name": "stdout",
     "output_type": "stream",
     "text": [
      "Class prediction was successful without slicing!\n",
      "No slicing was necessary!\n",
      "Image saved to: local_model_outputs_classifier_prob_habitat_suitability_CCAP_NORTH_east_coast_USA_13_4000_1000_all_predictors_depth_None/output_2023-08-04-09_06_35_913.tif\n",
      "\n",
      "\n",
      "\n",
      "\n",
      "Starting image: /Users/margauxmforstyhe/Desktop/workspace/wetlands_labs/CCAP boundaries/north_east_coast/tiles_north_east_coast_ccap_mapping_bndry_gridded_50km_50km_classes_13_CCAP_scale30/inference_tiles_scale30_758.tif\n",
      "Image opened\n"
     ]
    },
    {
     "name": "stderr",
     "output_type": "stream",
     "text": [
      "[Parallel(n_jobs=12)]: Using backend ThreadingBackend with 12 concurrent workers.\n",
      "[Parallel(n_jobs=12)]: Done  26 tasks      | elapsed:    0.7s\n",
      "[Parallel(n_jobs=12)]: Done 100 out of 100 | elapsed:    2.0s finished\n"
     ]
    },
    {
     "name": "stdout",
     "output_type": "stream",
     "text": [
      "Class prediction was successful without slicing!\n",
      "No slicing was necessary!\n",
      "Image saved to: local_model_outputs_classifier_prob_habitat_suitability_CCAP_NORTH_east_coast_USA_13_4000_1000_all_predictors_depth_None/output_2023-08-04-09_06_38_914.tif\n",
      "\n",
      "\n",
      "\n",
      "\n",
      "Starting image: /Users/margauxmforstyhe/Desktop/workspace/wetlands_labs/CCAP boundaries/north_east_coast/tiles_north_east_coast_ccap_mapping_bndry_gridded_50km_50km_classes_13_CCAP_scale30/inference_tiles_scale30_770.tif\n",
      "Image opened\n"
     ]
    },
    {
     "name": "stderr",
     "output_type": "stream",
     "text": [
      "[Parallel(n_jobs=12)]: Using backend ThreadingBackend with 12 concurrent workers.\n",
      "[Parallel(n_jobs=12)]: Done  26 tasks      | elapsed:    4.2s\n",
      "[Parallel(n_jobs=12)]: Done 100 out of 100 | elapsed:   12.5s finished\n"
     ]
    },
    {
     "name": "stdout",
     "output_type": "stream",
     "text": [
      "Class prediction was successful without slicing!\n",
      "No slicing was necessary!\n",
      "Image saved to: local_model_outputs_classifier_prob_habitat_suitability_CCAP_NORTH_east_coast_USA_13_4000_1000_all_predictors_depth_None/output_2023-08-04-09_06_51_915.tif\n",
      "\n",
      "\n",
      "\n",
      "\n",
      "Starting image: /Users/margauxmforstyhe/Desktop/workspace/wetlands_labs/CCAP boundaries/north_east_coast/tiles_north_east_coast_ccap_mapping_bndry_gridded_50km_50km_classes_13_CCAP_scale30/inference_tiles_scale30_764.tif\n",
      "Image opened\n"
     ]
    },
    {
     "name": "stderr",
     "output_type": "stream",
     "text": [
      "[Parallel(n_jobs=12)]: Using backend ThreadingBackend with 12 concurrent workers.\n",
      "[Parallel(n_jobs=12)]: Done  26 tasks      | elapsed:    2.6s\n",
      "[Parallel(n_jobs=12)]: Done 100 out of 100 | elapsed:    8.4s finished\n"
     ]
    },
    {
     "name": "stdout",
     "output_type": "stream",
     "text": [
      "Class prediction was successful without slicing!\n",
      "No slicing was necessary!\n",
      "Image saved to: local_model_outputs_classifier_prob_habitat_suitability_CCAP_NORTH_east_coast_USA_13_4000_1000_all_predictors_depth_None/output_2023-08-04-09_07_01_916.tif\n",
      "\n",
      "\n",
      "\n",
      "\n",
      "Starting image: /Users/margauxmforstyhe/Desktop/workspace/wetlands_labs/CCAP boundaries/north_east_coast/tiles_north_east_coast_ccap_mapping_bndry_gridded_50km_50km_classes_13_CCAP_scale30/inference_tiles_scale30_823.tif\n",
      "Image opened\n"
     ]
    },
    {
     "name": "stderr",
     "output_type": "stream",
     "text": [
      "[Parallel(n_jobs=12)]: Using backend ThreadingBackend with 12 concurrent workers.\n",
      "[Parallel(n_jobs=12)]: Done  26 tasks      | elapsed:    4.1s\n",
      "[Parallel(n_jobs=12)]: Done 100 out of 100 | elapsed:   13.3s finished\n"
     ]
    },
    {
     "name": "stdout",
     "output_type": "stream",
     "text": [
      "Class prediction was successful without slicing!\n",
      "No slicing was necessary!\n",
      "Image saved to: local_model_outputs_classifier_prob_habitat_suitability_CCAP_NORTH_east_coast_USA_13_4000_1000_all_predictors_depth_None/output_2023-08-04-09_07_16_917.tif\n",
      "\n",
      "\n",
      "\n",
      "\n",
      "Starting image: /Users/margauxmforstyhe/Desktop/workspace/wetlands_labs/CCAP boundaries/north_east_coast/tiles_north_east_coast_ccap_mapping_bndry_gridded_50km_50km_classes_13_CCAP_scale30/inference_tiles_scale30_189.tif\n",
      "Image opened\n"
     ]
    },
    {
     "name": "stderr",
     "output_type": "stream",
     "text": [
      "[Parallel(n_jobs=12)]: Using backend ThreadingBackend with 12 concurrent workers.\n",
      "[Parallel(n_jobs=12)]: Done  26 tasks      | elapsed:    4.9s\n",
      "[Parallel(n_jobs=12)]: Done 100 out of 100 | elapsed:   16.6s finished\n"
     ]
    },
    {
     "name": "stdout",
     "output_type": "stream",
     "text": [
      "Class prediction was successful without slicing!\n",
      "No slicing was necessary!\n",
      "Image saved to: local_model_outputs_classifier_prob_habitat_suitability_CCAP_NORTH_east_coast_USA_13_4000_1000_all_predictors_depth_None/output_2023-08-04-09_07_35_918.tif\n",
      "\n",
      "\n",
      "\n",
      "\n",
      "Starting image: /Users/margauxmforstyhe/Desktop/workspace/wetlands_labs/CCAP boundaries/north_east_coast/tiles_north_east_coast_ccap_mapping_bndry_gridded_50km_50km_classes_13_CCAP_scale30/inference_tiles_scale30_837.tif\n",
      "Image opened\n"
     ]
    },
    {
     "name": "stderr",
     "output_type": "stream",
     "text": [
      "[Parallel(n_jobs=12)]: Using backend ThreadingBackend with 12 concurrent workers.\n",
      "[Parallel(n_jobs=12)]: Done  26 tasks      | elapsed:    3.4s\n",
      "[Parallel(n_jobs=12)]: Done 100 out of 100 | elapsed:    9.6s finished\n"
     ]
    },
    {
     "name": "stdout",
     "output_type": "stream",
     "text": [
      "Class prediction was successful without slicing!\n",
      "No slicing was necessary!\n",
      "Image saved to: local_model_outputs_classifier_prob_habitat_suitability_CCAP_NORTH_east_coast_USA_13_4000_1000_all_predictors_depth_None/output_2023-08-04-09_07_46_919.tif\n",
      "\n",
      "\n",
      "\n",
      "\n",
      "Starting image: /Users/margauxmforstyhe/Desktop/workspace/wetlands_labs/CCAP boundaries/north_east_coast/tiles_north_east_coast_ccap_mapping_bndry_gridded_50km_50km_classes_13_CCAP_scale30/inference_tiles_scale30_638.tif\n",
      "Image opened\n"
     ]
    },
    {
     "name": "stderr",
     "output_type": "stream",
     "text": [
      "[Parallel(n_jobs=12)]: Using backend ThreadingBackend with 12 concurrent workers.\n",
      "[Parallel(n_jobs=12)]: Done  26 tasks      | elapsed:    0.1s\n",
      "[Parallel(n_jobs=12)]: Done 100 out of 100 | elapsed:    0.2s finished\n",
      "[Parallel(n_jobs=12)]: Using backend ThreadingBackend with 12 concurrent workers.\n"
     ]
    },
    {
     "name": "stdout",
     "output_type": "stream",
     "text": [
      "Class prediction was successful without slicing!\n",
      "No slicing was necessary!\n",
      "Image saved to: local_model_outputs_classifier_prob_habitat_suitability_CCAP_NORTH_east_coast_USA_13_4000_1000_all_predictors_depth_None/output_2023-08-04-09_07_47_920.tif\n",
      "\n",
      "\n",
      "\n",
      "\n",
      "Starting image: /Users/margauxmforstyhe/Desktop/workspace/wetlands_labs/CCAP boundaries/north_east_coast/tiles_north_east_coast_ccap_mapping_bndry_gridded_50km_50km_classes_13_CCAP_scale30/inference_tiles_scale30_604.tif\n",
      "Image opened\n"
     ]
    },
    {
     "name": "stderr",
     "output_type": "stream",
     "text": [
      "[Parallel(n_jobs=12)]: Done  26 tasks      | elapsed:    0.3s\n",
      "[Parallel(n_jobs=12)]: Done 100 out of 100 | elapsed:    0.9s finished\n"
     ]
    },
    {
     "name": "stdout",
     "output_type": "stream",
     "text": [
      "Class prediction was successful without slicing!\n",
      "No slicing was necessary!\n",
      "Image saved to: local_model_outputs_classifier_prob_habitat_suitability_CCAP_NORTH_east_coast_USA_13_4000_1000_all_predictors_depth_None/output_2023-08-04-09_07_48_921.tif\n",
      "\n",
      "\n",
      "\n",
      "\n",
      "Starting image: /Users/margauxmforstyhe/Desktop/workspace/wetlands_labs/CCAP boundaries/north_east_coast/tiles_north_east_coast_ccap_mapping_bndry_gridded_50km_50km_classes_13_CCAP_scale30/inference_tiles_scale30_162.tif\n",
      "Image opened\n"
     ]
    },
    {
     "name": "stderr",
     "output_type": "stream",
     "text": [
      "[Parallel(n_jobs=12)]: Using backend ThreadingBackend with 12 concurrent workers.\n",
      "[Parallel(n_jobs=12)]: Done  26 tasks      | elapsed:    2.1s\n",
      "[Parallel(n_jobs=12)]: Done 100 out of 100 | elapsed:    7.9s finished\n"
     ]
    },
    {
     "name": "stdout",
     "output_type": "stream",
     "text": [
      "Class prediction was successful without slicing!\n",
      "No slicing was necessary!\n",
      "Image saved to: local_model_outputs_classifier_prob_habitat_suitability_CCAP_NORTH_east_coast_USA_13_4000_1000_all_predictors_depth_None/output_2023-08-04-09_07_58_922.tif\n",
      "\n",
      "\n",
      "\n",
      "\n",
      "Starting image: /Users/margauxmforstyhe/Desktop/workspace/wetlands_labs/CCAP boundaries/north_east_coast/tiles_north_east_coast_ccap_mapping_bndry_gridded_50km_50km_classes_13_CCAP_scale30/inference_tiles_scale30_176.tif\n",
      "Image opened\n"
     ]
    },
    {
     "name": "stderr",
     "output_type": "stream",
     "text": [
      "[Parallel(n_jobs=12)]: Using backend ThreadingBackend with 12 concurrent workers.\n",
      "[Parallel(n_jobs=12)]: Done  26 tasks      | elapsed:    5.0s\n",
      "[Parallel(n_jobs=12)]: Done 100 out of 100 | elapsed:   14.6s finished\n"
     ]
    },
    {
     "name": "stdout",
     "output_type": "stream",
     "text": [
      "Class prediction was successful without slicing!\n",
      "No slicing was necessary!\n",
      "Image saved to: local_model_outputs_classifier_prob_habitat_suitability_CCAP_NORTH_east_coast_USA_13_4000_1000_all_predictors_depth_None/output_2023-08-04-09_08_14_923.tif\n",
      "\n",
      "\n",
      "\n",
      "\n",
      "Starting image: /Users/margauxmforstyhe/Desktop/workspace/wetlands_labs/CCAP boundaries/north_east_coast/tiles_north_east_coast_ccap_mapping_bndry_gridded_50km_50km_classes_13_CCAP_scale30/inference_tiles_scale30_610.tif\n",
      "Image opened\n"
     ]
    },
    {
     "name": "stderr",
     "output_type": "stream",
     "text": [
      "[Parallel(n_jobs=12)]: Using backend ThreadingBackend with 12 concurrent workers.\n",
      "[Parallel(n_jobs=12)]: Done  26 tasks      | elapsed:    4.7s\n",
      "[Parallel(n_jobs=12)]: Done 100 out of 100 | elapsed:   18.0s finished\n"
     ]
    },
    {
     "name": "stdout",
     "output_type": "stream",
     "text": [
      "Class prediction was successful without slicing!\n",
      "No slicing was necessary!\n",
      "Image saved to: local_model_outputs_classifier_prob_habitat_suitability_CCAP_NORTH_east_coast_USA_13_4000_1000_all_predictors_depth_None/output_2023-08-04-09_08_34_924.tif\n",
      "\n",
      "\n",
      "\n",
      "\n",
      "Starting image: /Users/margauxmforstyhe/Desktop/workspace/wetlands_labs/CCAP boundaries/north_east_coast/tiles_north_east_coast_ccap_mapping_bndry_gridded_50km_50km_classes_13_CCAP_scale30/inference_tiles_scale30_88.tif\n",
      "Image opened\n"
     ]
    },
    {
     "name": "stderr",
     "output_type": "stream",
     "text": [
      "[Parallel(n_jobs=12)]: Using backend ThreadingBackend with 12 concurrent workers.\n",
      "[Parallel(n_jobs=12)]: Done  26 tasks      | elapsed:    1.8s\n",
      "[Parallel(n_jobs=12)]: Done 100 out of 100 | elapsed:    7.6s finished\n"
     ]
    },
    {
     "name": "stdout",
     "output_type": "stream",
     "text": [
      "Class prediction was successful without slicing!\n",
      "No slicing was necessary!\n",
      "Image saved to: local_model_outputs_classifier_prob_habitat_suitability_CCAP_NORTH_east_coast_USA_13_4000_1000_all_predictors_depth_None/output_2023-08-04-09_08_43_925.tif\n",
      "\n",
      "\n",
      "\n",
      "\n",
      "Starting image: /Users/margauxmforstyhe/Desktop/workspace/wetlands_labs/CCAP boundaries/north_east_coast/tiles_north_east_coast_ccap_mapping_bndry_gridded_50km_50km_classes_13_CCAP_scale30/inference_tiles_scale30_348.tif\n",
      "Image opened\n"
     ]
    },
    {
     "name": "stderr",
     "output_type": "stream",
     "text": [
      "[Parallel(n_jobs=12)]: Using backend ThreadingBackend with 12 concurrent workers.\n",
      "[Parallel(n_jobs=12)]: Done  26 tasks      | elapsed:    0.2s\n",
      "[Parallel(n_jobs=12)]: Done 100 out of 100 | elapsed:    0.4s finished\n"
     ]
    },
    {
     "name": "stdout",
     "output_type": "stream",
     "text": [
      "Class prediction was successful without slicing!\n",
      "No slicing was necessary!\n",
      "Image saved to: local_model_outputs_classifier_prob_habitat_suitability_CCAP_NORTH_east_coast_USA_13_4000_1000_all_predictors_depth_None/output_2023-08-04-09_08_44_926.tif\n",
      "\n",
      "\n",
      "\n",
      "\n",
      "Starting image: /Users/margauxmforstyhe/Desktop/workspace/wetlands_labs/CCAP boundaries/north_east_coast/tiles_north_east_coast_ccap_mapping_bndry_gridded_50km_50km_classes_13_CCAP_scale30/inference_tiles_scale30_63.tif\n",
      "Image opened\n"
     ]
    },
    {
     "name": "stderr",
     "output_type": "stream",
     "text": [
      "[Parallel(n_jobs=12)]: Using backend ThreadingBackend with 12 concurrent workers.\n",
      "[Parallel(n_jobs=12)]: Done  26 tasks      | elapsed:    3.8s\n",
      "[Parallel(n_jobs=12)]: Done 100 out of 100 | elapsed:   11.6s finished\n"
     ]
    },
    {
     "name": "stdout",
     "output_type": "stream",
     "text": [
      "Class prediction was successful without slicing!\n",
      "No slicing was necessary!\n",
      "Image saved to: local_model_outputs_classifier_prob_habitat_suitability_CCAP_NORTH_east_coast_USA_13_4000_1000_all_predictors_depth_None/output_2023-08-04-09_08_57_927.tif\n",
      "\n",
      "\n",
      "\n",
      "\n",
      "Starting image: /Users/margauxmforstyhe/Desktop/workspace/wetlands_labs/CCAP boundaries/north_east_coast/tiles_north_east_coast_ccap_mapping_bndry_gridded_50km_50km_classes_13_CCAP_scale30/inference_tiles_scale30_360.tif\n",
      "Image opened\n"
     ]
    },
    {
     "name": "stderr",
     "output_type": "stream",
     "text": [
      "[Parallel(n_jobs=12)]: Using backend ThreadingBackend with 12 concurrent workers.\n",
      "[Parallel(n_jobs=12)]: Done  26 tasks      | elapsed:    1.6s\n",
      "[Parallel(n_jobs=12)]: Done 100 out of 100 | elapsed:    5.4s finished\n"
     ]
    },
    {
     "name": "stdout",
     "output_type": "stream",
     "text": [
      "Class prediction was successful without slicing!\n",
      "No slicing was necessary!\n",
      "Image saved to: local_model_outputs_classifier_prob_habitat_suitability_CCAP_NORTH_east_coast_USA_13_4000_1000_all_predictors_depth_None/output_2023-08-04-09_09_04_928.tif\n",
      "\n",
      "\n",
      "\n",
      "\n",
      "Starting image: /Users/margauxmforstyhe/Desktop/workspace/wetlands_labs/CCAP boundaries/north_east_coast/tiles_north_east_coast_ccap_mapping_bndry_gridded_50km_50km_classes_13_CCAP_scale30/inference_tiles_scale30_406.tif\n",
      "Image opened\n"
     ]
    },
    {
     "name": "stderr",
     "output_type": "stream",
     "text": [
      "[Parallel(n_jobs=12)]: Using backend ThreadingBackend with 12 concurrent workers.\n",
      "[Parallel(n_jobs=12)]: Done  26 tasks      | elapsed:    0.2s\n",
      "[Parallel(n_jobs=12)]: Done 100 out of 100 | elapsed:    0.7s finished\n"
     ]
    },
    {
     "name": "stdout",
     "output_type": "stream",
     "text": [
      "Class prediction was successful without slicing!\n",
      "No slicing was necessary!\n",
      "Image saved to: local_model_outputs_classifier_prob_habitat_suitability_CCAP_NORTH_east_coast_USA_13_4000_1000_all_predictors_depth_None/output_2023-08-04-09_09_05_929.tif\n",
      "\n",
      "\n",
      "\n",
      "\n",
      "Starting image: /Users/margauxmforstyhe/Desktop/workspace/wetlands_labs/CCAP boundaries/north_east_coast/tiles_north_east_coast_ccap_mapping_bndry_gridded_50km_50km_classes_13_CCAP_scale30/inference_tiles_scale30_412.tif\n",
      "Image opened\n"
     ]
    },
    {
     "name": "stderr",
     "output_type": "stream",
     "text": [
      "[Parallel(n_jobs=12)]: Using backend ThreadingBackend with 12 concurrent workers.\n",
      "[Parallel(n_jobs=12)]: Done  26 tasks      | elapsed:    3.6s\n",
      "[Parallel(n_jobs=12)]: Done 100 out of 100 | elapsed:   12.0s finished\n"
     ]
    },
    {
     "name": "stdout",
     "output_type": "stream",
     "text": [
      "Class prediction was successful without slicing!\n",
      "No slicing was necessary!\n",
      "Image saved to: local_model_outputs_classifier_prob_habitat_suitability_CCAP_NORTH_east_coast_USA_13_4000_1000_all_predictors_depth_None/output_2023-08-04-09_09_19_930.tif\n",
      "\n",
      "\n",
      "\n",
      "\n",
      "Starting image: /Users/margauxmforstyhe/Desktop/workspace/wetlands_labs/CCAP boundaries/north_east_coast/tiles_north_east_coast_ccap_mapping_bndry_gridded_50km_50km_classes_13_CCAP_scale30/inference_tiles_scale30_77.tif\n",
      "Image opened\n"
     ]
    },
    {
     "name": "stderr",
     "output_type": "stream",
     "text": [
      "[Parallel(n_jobs=12)]: Using backend ThreadingBackend with 12 concurrent workers.\n",
      "[Parallel(n_jobs=12)]: Done  26 tasks      | elapsed:    1.5s\n",
      "[Parallel(n_jobs=12)]: Done 100 out of 100 | elapsed:    3.9s finished\n"
     ]
    },
    {
     "name": "stdout",
     "output_type": "stream",
     "text": [
      "Class prediction was successful without slicing!\n",
      "No slicing was necessary!\n",
      "Image saved to: local_model_outputs_classifier_prob_habitat_suitability_CCAP_NORTH_east_coast_USA_13_4000_1000_all_predictors_depth_None/output_2023-08-04-09_09_24_931.tif\n",
      "\n",
      "\n",
      "\n",
      "\n",
      "Starting image: /Users/margauxmforstyhe/Desktop/workspace/wetlands_labs/CCAP boundaries/north_east_coast/tiles_north_east_coast_ccap_mapping_bndry_gridded_50km_50km_classes_13_CCAP_scale30/inference_tiles_scale30_374.tif\n",
      "Image opened\n"
     ]
    },
    {
     "name": "stderr",
     "output_type": "stream",
     "text": [
      "[Parallel(n_jobs=12)]: Using backend ThreadingBackend with 12 concurrent workers.\n",
      "[Parallel(n_jobs=12)]: Done  26 tasks      | elapsed:    1.3s\n",
      "[Parallel(n_jobs=12)]: Done 100 out of 100 | elapsed:    4.4s finished\n"
     ]
    },
    {
     "name": "stdout",
     "output_type": "stream",
     "text": [
      "Class prediction was successful without slicing!\n",
      "No slicing was necessary!\n",
      "Image saved to: local_model_outputs_classifier_prob_habitat_suitability_CCAP_NORTH_east_coast_USA_13_4000_1000_all_predictors_depth_None/output_2023-08-04-09_09_30_932.tif\n",
      "\n",
      "\n",
      "\n",
      "Done: 933 tiles predicted\n",
      "There are 933 prediction rasters to be merged.\n",
      "Done.\n"
     ]
    }
   ],
   "source": [
    "model_builder.inference(mask_band='elevation', \n",
    "                        tiles_folder_name='', \n",
    "                        tiles_in_GCP=False,   # Set to False to run locally\n",
    "                        output_merged_tif='pred_north_east_coast_local_model.tif',\n",
    "                        output_folder_temp='local_model_outputs_classifier_prob_habitat_suitability_CCAP_NORTH_east_coast_USA_13_4000_1000_all_predictors_depth_None',\n",
    "                        path_to_tiles_local='/Users/margauxmforstyhe/Desktop/workspace/wetlands_labs/CCAP boundaries/north_east_coast/tiles_north_east_coast_ccap_mapping_bndry_gridded_50km_50km_classes_13_CCAP_scale30'\n",
    "                       )\n",
    "\n"
   ]
  },
  {
   "cell_type": "code",
   "execution_count": null,
   "id": "ba39d9eb",
   "metadata": {},
   "outputs": [],
   "source": []
  }
 ],
 "metadata": {
  "kernelspec": {
   "display_name": "Python 3 (ipykernel)",
   "language": "python",
   "name": "python3"
  },
  "language_info": {
   "codemirror_mode": {
    "name": "ipython",
    "version": 3
   },
   "file_extension": ".py",
   "mimetype": "text/x-python",
   "name": "python",
   "nbconvert_exporter": "python",
   "pygments_lexer": "ipython3",
   "version": "3.10.6"
  }
 },
 "nbformat": 4,
 "nbformat_minor": 5
}
