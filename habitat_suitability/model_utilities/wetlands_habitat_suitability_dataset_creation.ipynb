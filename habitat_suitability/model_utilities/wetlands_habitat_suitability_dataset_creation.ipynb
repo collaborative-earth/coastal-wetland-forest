{
 "cells": [
  {
   "cell_type": "markdown",
   "id": "6eb66e46",
   "metadata": {},
   "source": [
    "# Creating Coastal Wetlands Forests Habitat Suitability Dataset \n"
   ]
  },
  {
   "cell_type": "markdown",
   "id": "16c6205f",
   "metadata": {},
   "source": [
    "# Imports"
   ]
  },
  {
   "cell_type": "code",
   "execution_count": 2,
   "id": "f4107378",
   "metadata": {},
   "outputs": [],
   "source": [
    "# pip install earthengine-api==0.1.357"
   ]
  },
  {
   "cell_type": "code",
   "execution_count": 1,
   "id": "21677d74",
   "metadata": {},
   "outputs": [],
   "source": [
    "from dataset_builder import EEDatasetBuilder\n",
    "import geemap\n",
    "import ee"
   ]
  },
  {
   "cell_type": "markdown",
   "id": "14eaea5c",
   "metadata": {
    "tags": []
   },
   "source": [
    "# Map"
   ]
  },
  {
   "cell_type": "code",
   "execution_count": 2,
   "id": "0c34885f",
   "metadata": {},
   "outputs": [
    {
     "data": {
      "application/vnd.jupyter.widget-view+json": {
       "model_id": "1a0fbeb376c543d2b5c0501332d1d671",
       "version_major": 2,
       "version_minor": 0
      },
      "text/plain": [
       "Map(center=[27.295, -81.368], controls=(WidgetControl(options=['position', 'transparent_bg'], widget=HBox(chil…"
      ]
     },
     "execution_count": 2,
     "metadata": {},
     "output_type": "execute_result"
    }
   ],
   "source": [
    "Map = geemap.Map(center=[27.295, -81.368], zoom=7)\n",
    "Map"
   ]
  },
  {
   "cell_type": "markdown",
   "id": "6f2358e1",
   "metadata": {
    "tags": []
   },
   "source": [
    "# Dataset builder"
   ]
  },
  {
   "cell_type": "code",
   "execution_count": 3,
   "id": "1a09c00b",
   "metadata": {},
   "outputs": [],
   "source": [
    "# Build ee dataset builder\n",
    "ee_dataset_builder = EEDatasetBuilder()"
   ]
  },
  {
   "cell_type": "code",
   "execution_count": 4,
   "id": "5a5cc7bf",
   "metadata": {},
   "outputs": [],
   "source": [
    "# C-CAP (class 13 with mangroves masked out)\n",
    "subset_ccap = ee.Image('projects/wetlands-lab/assets/ccap_class_13_all_US_masked_mangroves') "
   ]
  },
  {
   "cell_type": "code",
   "execution_count": 5,
   "id": "79e8ff29",
   "metadata": {},
   "outputs": [],
   "source": [
    "ee_dataset_builder.filtered_response_layer_from_raster(\n",
    "    response_raster='custom', \n",
    "    ee_image=subset_ccap,\n",
    "    custom_response_raster_name='response'\n",
    ")"
   ]
  },
  {
   "cell_type": "markdown",
   "id": "150ce836",
   "metadata": {},
   "source": [
    "### Predictors"
   ]
  },
  {
   "cell_type": "code",
   "execution_count": 6,
   "id": "2df0adf5",
   "metadata": {},
   "outputs": [],
   "source": [
    "# Elevation - MERIT DEM\n",
    "# Elevation and slope, which can be derived, should be core variables in determining where CFWs form.\n",
    "dem = ee.Image('MERIT/DEM/v1_0_3');\n",
    "predictors = dem.rename('elevation')\n",
    "\n",
    "# Calculate slope in degrees\n",
    "slope = ee.Terrain.slope(dem).rename('slope'); # fix this ? why is it not in degrees?\n",
    "predictors = predictors.addBands(slope)\n",
    "\n",
    "# Hydrology - MERIT HYDRO \n",
    "# Distance to water features can be determined with this data. CFW are likely to be close to water features.\n",
    "merit_water = ee.Image('MERIT/Hydro/v1_0_1');\n",
    "# Compute distance to water\n",
    "water_mask = merit_water.select(\"viswth\");\n",
    "distance_to_water = water_mask.distance(ee.Kernel.euclidean(1000, 'meters')).rename('distance_water')\n",
    "predictors = predictors.addBands(distance_to_water)\n",
    "\n",
    "# JRC Global Surface Water\n",
    "# Distance measures can be leveraged to understand proximity to water.\n",
    "global_surface_water = ee.Image('JRC/GSW1_4/GlobalSurfaceWater');\n",
    "# Compute distance to water\n",
    "water_mask_global = global_surface_water.select(\"occurrence\");\n",
    "mask = water_mask_global.neq(0).rename('mask');\n",
    "# Apply the mask to the image.\n",
    "masked = water_mask_global.updateMask(mask);\n",
    "# Set all masked values to 1.\n",
    "water_mask_global_binary = masked.where(mask, 1).rename('global_water').unmask()\n",
    "proximity_to_water = water_mask_global_binary.distance(ee.Kernel.euclidean(7000, 'meters'))\n",
    "proximity_to_water = proximity_to_water.unmask().rename('proximity_water')\n",
    "predictors = predictors.addBands(proximity_to_water)\n",
    "\n",
    "# Soil moisture - Enhanced SMAP\n",
    "# Wetlands tend to have much high soil moisture content compared to surrounding habitats.\n",
    "dataset = ee.ImageCollection('NASA_USDA/HSL/SMAP10KM_soil_moisture').filter(ee.Filter.date('2016-01-01', '2016-12-30'));\n",
    "soilMoisture = dataset.select('ssm').mean().rename('soil_moisture_mean');\n",
    "predictors = predictors.addBands(soilMoisture) \n",
    "\n",
    "# # climate - Daymet\n",
    "# # The various parameters can be summarized to determine the climate patterns.\n",
    "# daymet = ee.ImageCollection('NASA/ORNL/DAYMET_V4').filter(ee.Filter.date('2016-01-01', '2016-12-30'));\n",
    "# maximumTemperature = daymet.select('tmax').mean().rename('tmax_mean');\n",
    "# minTemperature = daymet.select('tmin').mean().rename('tmin_mean');\n",
    "# precipitation = daymet.select('prcp').mean().rename('precipitation_mean');\n",
    "# predictors = predictors.addBands(maximumTemperature) \n",
    "# predictors = predictors.addBands(minTemperature) \n",
    "# predictors = predictors.addBands(precipitation) \n",
    "\n",
    "# Climate: NEX-GDDP-CMIP6: NASA Earth Exchange Global Daily Downscaled Climate Projections\n",
    "nex_gppd_cmip6 = ee.ImageCollection(\"NASA/GDDP-CMIP6\").filter(ee.Filter.date('2016-01-01', '2016-12-30')).filter(ee.Filter.eq('model', 'ACCESS-CM2'));\n",
    "maximumTemperature = nex_gppd_cmip6.select('tasmax').mean().rename('tmax_mean');\n",
    "minTemperature = nex_gppd_cmip6.select('tasmin').mean().rename('tmin_mean');\n",
    "precipitation = nex_gppd_cmip6.select('pr').mean().rename('precipitation_mean');\n",
    "predictors = predictors.addBands(maximumTemperature) \n",
    "predictors = predictors.addBands(minTemperature) \n",
    "predictors = predictors.addBands(precipitation) \n",
    "\n",
    "\n",
    "# Litology, Landforms, Physiography – Physical descriptions of the landscape, which can be used to understand landscape context.\n",
    "# Soil lithology\n",
    "lithology = ee.Image('CSP/ERGo/1_0/US/lithology').rename('lithology');\n",
    "predictors = predictors.addBands(lithology)\n",
    "\n",
    "# Topography: Landforms\n",
    "landforms = ee.Image('CSP/ERGo/1_0/US/landforms');\n",
    "landforms = landforms.select('constant').rename('landforms');\n",
    "predictors = predictors.addBands(landforms)\n",
    "\n",
    "# Soil and topography\n",
    "physiography = ee.Image('CSP/ERGo/1_0/US/physiography');\n",
    "physiography = physiography.select('constant').rename('physiography');\n",
    "predictors = predictors.addBands(physiography)"
   ]
  },
  {
   "cell_type": "markdown",
   "id": "d681dd9d",
   "metadata": {},
   "source": [
    "Add predictors bands"
   ]
  },
  {
   "cell_type": "code",
   "execution_count": 7,
   "id": "e350a679",
   "metadata": {},
   "outputs": [
    {
     "data": {
      "text/plain": [
       "['elevation',\n",
       " 'slope',\n",
       " 'distance_water',\n",
       " 'proximity_water',\n",
       " 'soil_moisture_mean',\n",
       " 'tmax_mean',\n",
       " 'tmin_mean',\n",
       " 'precipitation_mean',\n",
       " 'lithology',\n",
       " 'landforms',\n",
       " 'physiography']"
      ]
     },
     "execution_count": 7,
     "metadata": {},
     "output_type": "execute_result"
    }
   ],
   "source": [
    "predictors.bandNames().getInfo()"
   ]
  },
  {
   "cell_type": "code",
   "execution_count": 8,
   "id": "f68de06a",
   "metadata": {},
   "outputs": [],
   "source": [
    "name_custom_ee_images_list = predictors.bandNames().getInfo()\n",
    "ee_images_list = [predictors.select(band_name) for band_name in name_custom_ee_images_list]\n",
    "predictors_list = ['custom_ee_image' for x in name_custom_ee_images_list]"
   ]
  },
  {
   "cell_type": "code",
   "execution_count": 9,
   "id": "cf6d143d",
   "metadata": {},
   "outputs": [],
   "source": [
    "ee_dataset_builder.spatial_covariates(covariates=predictors_list, \n",
    "                                      ee_image=ee_images_list,\n",
    "                                      name_custom_ee_image=name_custom_ee_images_list ) "
   ]
  },
  {
   "cell_type": "markdown",
   "id": "5427e86d",
   "metadata": {},
   "source": [
    "List band names of image"
   ]
  },
  {
   "cell_type": "code",
   "execution_count": 10,
   "id": "4b792b3b",
   "metadata": {},
   "outputs": [
    {
     "data": {
      "text/plain": [
       "['response',\n",
       " 'elevation',\n",
       " 'slope',\n",
       " 'distance_water',\n",
       " 'proximity_water',\n",
       " 'soil_moisture_mean',\n",
       " 'tmax_mean',\n",
       " 'tmin_mean',\n",
       " 'precipitation_mean',\n",
       " 'lithology',\n",
       " 'landforms',\n",
       " 'physiography']"
      ]
     },
     "execution_count": 10,
     "metadata": {},
     "output_type": "execute_result"
    }
   ],
   "source": [
    "ee_dataset_builder.image.bandNames().getInfo()"
   ]
  },
  {
   "cell_type": "markdown",
   "id": "0ad7b3ee",
   "metadata": {},
   "source": [
    "### Visualize in map"
   ]
  },
  {
   "cell_type": "code",
   "execution_count": 11,
   "id": "ff1d8110",
   "metadata": {},
   "outputs": [],
   "source": [
    "vis_param = { \n",
    "  'min': 0.0,\n",
    "  'max': 1.0,\n",
    "  'palette':  [\n",
    "    'white', 'blue'\n",
    "  ]}\n",
    "\n",
    "Map.addLayer(ee_dataset_builder.image.select('response'), vis_param, 'CCAP 13 + 16 bands masked mangroves', True)"
   ]
  },
  {
   "cell_type": "code",
   "execution_count": 14,
   "id": "de097f75-a99e-4e45-8355-b4721d6a1bca",
   "metadata": {
    "scrolled": true,
    "tags": []
   },
   "outputs": [],
   "source": [
    "elevation_vis_param = { \n",
    "  'min': 240,\n",
    "  'max': 310,\n",
    "  'palette': ['blue', 'purple', 'cyan', 'green', 'yellow', 'red'],\n",
    "    'format': 'png'};\n",
    "\n",
    "Map.addLayer(ee_dataset_builder.image.select('tmin_mean'), elevation_vis_param, 'minTemperature', True)"
   ]
  },
  {
   "cell_type": "code",
   "execution_count": 13,
   "id": "d244e639",
   "metadata": {},
   "outputs": [],
   "source": [
    "elevation_vis_param = { \n",
    "  'min': -3,\n",
    "  'max': 18.0,\n",
    "  'palette':  ['000000', '478FCD', '86C58E', 'AFC35E', '8F7131',\n",
    "          'B78D4F', 'E2B8A6', 'FFFFFF'],\n",
    "    'format': 'png'};\n",
    "\n",
    "Map.addLayer(ee_dataset_builder.image.select('elevation'), elevation_vis_param, 'elevation', True)"
   ]
  },
  {
   "cell_type": "code",
   "execution_count": 15,
   "id": "860d3fa3",
   "metadata": {},
   "outputs": [],
   "source": [
    "Map.addLayer(ee_dataset_builder.image.select('proximity_water'), {'min': 0, 'max': 1000.0, 'palette':  ['white', 'blue']}, 'Proximity to Global Surface Water 100 meters kernel');\n"
   ]
  },
  {
   "cell_type": "markdown",
   "id": "a394d2ee",
   "metadata": {},
   "source": [
    "# Export samples CSV to GCP"
   ]
  },
  {
   "cell_type": "code",
   "execution_count": 16,
   "id": "824a8a38",
   "metadata": {},
   "outputs": [],
   "source": [
    "# Gridded shapefile asset in GEE\n",
    "# CCAP west coast \n",
    "shp_asset_path = 'projects/wetlands-lab/assets/ccap_mapping_bndry_gridded_50km_50km_west_coast'\n",
    "\n",
    "# CCAP south east coast\n",
    "# shp_asset_path = 'projects/wetlands-lab/assets/ccap_mapping_bndry_gridded_50km_50km_south_east_coast' \n",
    "\n",
    " # CCAP north east coast\n",
    "# shp_asset_path = 'projects/wetlands-lab/assets/ccap_mapping_bndry_gridded_50km_50km_north_east_coast' \n",
    "\n",
    "scale = 30\n",
    "maxPixels = 1e13\n",
    "gcp_bucket = 'wetlands-lab'\n",
    "gcp_folder_name = 'habitat_suitability'\n",
    "numPoints = 1000 # we override the number of points below with classPoints\n",
    "classBand = \"response\"\n",
    "classPoints = [4000, 1000]\n",
    "classValues = [0,1]\n",
    "\n"
   ]
  },
  {
   "cell_type": "code",
   "execution_count": 17,
   "id": "778ddbc9",
   "metadata": {
    "scrolled": true
   },
   "outputs": [
    {
     "name": "stdout",
     "output_type": "stream",
     "text": [
      "Geometry number of features: 402\n",
      "Stratified sampling: \n",
      "numPoints: 1000, \n",
      "classBand: response, \n",
      "scale: 30, \n",
      "geometries: True, \n",
      "dropNulls: True, \n",
      "tileScale: 1, \n",
      "classPoints: [4000, 1000], \n",
      "seed: 0, \n",
      "projection:None\n"
     ]
    },
    {
     "name": "stderr",
     "output_type": "stream",
     "text": [
      "100%|████████████████████████████████████████████████████████████████████| 402/402 [1:16:06<00:00, 11.36s/it]\n"
     ]
    }
   ],
   "source": [
    "samples_folder_name = f'west_coast_ccap_mapping_bndry_gridded_50km_50km_classPoints_4000_1000_classes_13_CCAP_new_climate_data'\n",
    "# samples_folder_name = f'south_east_coast_ccap_mapping_bndry_gridded_50km_50km_classPoints_4000_1000_classes_13_CCAP_new_climate_data'\n",
    "# samples_folder_name = f'north_east_coast_ccap_mapping_bndry_gridded_50km_50km_classPoints_4000_1000_classes_13_CCAP_new_climate_data'\n",
    "\n",
    "# Stratified Sampling\n",
    "# This will take quite some time\n",
    "ee_dataset_builder.samples_csv_export(shp_asset_path=shp_asset_path, \n",
    "                                      name_gcp_bucket=gcp_bucket, \n",
    "                                      folder_in_gcp_bucket=gcp_folder_name + '/' + samples_folder_name, \n",
    "                                      scale=scale, \n",
    "                                      geometries=True,\n",
    "                                      isStratifiedSampling=True, \n",
    "                                      numPoints=numPoints, \n",
    "                                      classValues=classValues,\n",
    "                                      classBand=classBand, \n",
    "                                      classPoints=classPoints)"
   ]
  },
  {
   "cell_type": "markdown",
   "id": "b508d3df",
   "metadata": {},
   "source": [
    "# Export tiles to GCP"
   ]
  },
  {
   "cell_type": "code",
   "execution_count": null,
   "id": "953fa97f",
   "metadata": {},
   "outputs": [],
   "source": [
    "################## Export inference tiles to GCP bucket ##################\n",
    "tiles_folder_name = f'tiles_west_coast_ccap_mapping_bndry_gridded_50km_50km_classes_13_CCAP_scale{scale}_new_climate_data'\n",
    "# tiles_folder_name = f'tiles_south_east_coast_ccap_mapping_bndry_gridded_50km_50km_classes_13_CCAP_scale{scale}_new_climate_data'\n",
    "# tiles_folder_name = f'tiles_north_east_coast_ccap_mapping_bndry_gridded_50km_50km_classes_13_CCAP_scale{scale}_new_climate_data'\n",
    "\n",
    "print(f'\\nExport inference tiles using the shapefile: {shp_asset_path}...')\n",
    "# This will take quite some time\n",
    "ee_dataset_builder.tiles_export(shp_asset_path,\n",
    "                                name_gcp_bucket=gcp_bucket,\n",
    "                                folder_in_gcp_bucket=gcp_folder_name + '/' + tiles_folder_name,\n",
    "                                maxPixels=maxPixels, scale=scale)\n",
    "print('Inference tiles export done.\\n')"
   ]
  },
  {
   "cell_type": "code",
   "execution_count": null,
   "id": "26812919",
   "metadata": {},
   "outputs": [],
   "source": []
  }
 ],
 "metadata": {
  "kernelspec": {
   "display_name": "Python 3 (ipykernel)",
   "language": "python",
   "name": "python3"
  },
  "language_info": {
   "codemirror_mode": {
    "name": "ipython",
    "version": 3
   },
   "file_extension": ".py",
   "mimetype": "text/x-python",
   "name": "python",
   "nbconvert_exporter": "python",
   "pygments_lexer": "ipython3",
   "version": "3.10.6"
  }
 },
 "nbformat": 4,
 "nbformat_minor": 5
}
